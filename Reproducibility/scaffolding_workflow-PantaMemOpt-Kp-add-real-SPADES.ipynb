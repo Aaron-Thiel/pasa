{
 "cells": [
  {
   "cell_type": "code",
   "execution_count": 5,
   "id": "dca3e5e8-2a27-43b3-8c64-a59c37e3146f",
   "metadata": {},
   "outputs": [],
   "source": [
    "import os\n",
    "import traceback\n",
    "import logging\n",
    "import os.path\n",
    "import networkx as nx\n",
    "import pandas as pd\n",
    "import numpy as np\n",
    "import pylab as pl\n",
    "from matplotlib import collections  as mc\n",
    "import glob\n",
    "import re\n",
    "import csv\n",
    "import shutil"
   ]
  },
  {
   "cell_type": "code",
   "execution_count": 6,
   "id": "9e6dd444-709b-441a-9faa-a21f0623c3fe",
   "metadata": {},
   "outputs": [
    {
     "name": "stdout",
     "output_type": "stream",
     "text": [
      "The autoreload extension is already loaded. To reload it, use:\n",
      "  %reload_ext autoreload\n"
     ]
    }
   ],
   "source": [
    "try:\n",
    "    %load_ext autoreload\n",
    "    %autoreload 2\n",
    "except Exception as e:\n",
    "    logging.error(traceback.format_exc())"
   ]
  },
  {
   "cell_type": "code",
   "execution_count": 7,
   "id": "5ce0f9f4-a9a7-4e49-af28-991fd29735b9",
   "metadata": {},
   "outputs": [],
   "source": [
    "# simversion = '_v01'\n",
    "simversion = '_plasmid_v01'\n",
    "simversionPangraph = '_assemBiGraph2_v01' \n",
    "# 1 True, 0 False\n",
    "run_prokka = 0\n",
    "run_art = 0\n",
    "run_spades = 0\n",
    "run_panta = 0\n",
    "split_paralogs = 1\n",
    "run_multicsar = 0\n",
    "run_ragout = 0\n",
    "run_pangraph = 1\n",
    "art_simulator = 0\n",
    "# pangenome_data = '/data/hoan/amromics/data/ncbi/Kp100random/' # for pangraph, Ragout, multi-CSAR #v3\n",
    "# pangenome_data = '/data/hoan/amromics/data/ncbi/Ecoli50random/'\n",
    "pangenome_data = '/data/hoan/amromics/data/ncbi/Kp50random/'\n",
    "prokka_target_dir = '/data/hoan/amromics/data/ncbi/Ecolitest/prokka/'\n",
    "# pangenome_data = '/data/hoan/amromics/data/ncbi/Kptest/' # for pangraph, Ragout, multi-CSAR\n",
    "scaffold_out_dir = '/data/hoan/amromics/genome-graph/scaffold_output/'"
   ]
  },
  {
   "cell_type": "code",
   "execution_count": 8,
   "id": "f1472df6-9eb9-424b-8928-03c99e41c0f8",
   "metadata": {},
   "outputs": [
    {
     "name": "stdout",
     "output_type": "stream",
     "text": [
      " --genus Klebsiella --species pneumoniae --cpus 30  --genus Klebsiella --species pneumoniae --cpus 30  --genus Klebsiella --species pneumoniae --cpus 30  --genus Klebsiella --species pneumoniae --cpus 30\n",
      " --genus Klebsiella --species pneumoniae --cpus 30  --genus Klebsiella --species pneumoniae --cpus 30  --genus Klebsiella --species pneumoniae --cpus 30  --genus Klebsiella --species pneumoniae --cpus 30\n"
     ]
    }
   ],
   "source": [
    "if 'Kp' in pangenome_data:\n",
    "    data_base = ' --genus Klebsiella --species pneumoniae --cpus 30'\n",
    "elif 'Ecoli' in pangenome_data:\n",
    "    data_base = ' --genus Escherichia --species coli --cpus 30'\n",
    "else:\n",
    "    data_base = ' --cpus 30'\n",
    "print(data_base,data_base,data_base,data_base)\n",
    "print(data_base,data_base,data_base,data_base)\n",
    "output_dir = pangenome_data + 'temp'\n",
    "prokka_dir = pangenome_data + 'prokka'\n",
    "conda_dir = 'source ~/miniconda3/etc/profile.d/conda.sh && conda activate amromics && '\n",
    "\n",
    "if run_prokka:\n",
    "    fffile = pangenome_data + 'fna/*.fna'\n",
    "    list_database = glob.glob(fffile)\n",
    "    for i in range(len(list_database)):\n",
    "        input_data = list_database[i]\n",
    "        print(input_data)\n",
    "        file_name = input_data.split(\"/\")[-1][:-4]\n",
    "        prokka_bin = conda_dir + 'prokka --outdir ' + output_dir +data_base +' --prefix ' + file_name +' '+input_data\n",
    "        os.system(prokka_bin)\n",
    "        os.system('cp ' + output_dir + '/'+file_name+'.gff ' + prokka_dir)\n",
    "        os.system('rm -r '+ output_dir)"
   ]
  },
  {
   "cell_type": "code",
   "execution_count": null,
   "id": "83547e3c-c2c2-42e8-9666-b3a1cff1dcad",
   "metadata": {},
   "outputs": [],
   "source": [
    "if 1:\n",
    "    os.system('rm -r ' + pangenome_data + 'fna/')\n",
    "    os.system('mkdir ' + pangenome_data + 'fna/')\n",
    "    os.system('cp -r '+ pangenome_data + '*.fna.gz '+ pangenome_data + 'fna/')\n",
    "    os.system('~/miniconda3/envs/panta/bin/gzip -d ' + pangenome_data + 'fna/*.fna.gz')"
   ]
  },
  {
   "cell_type": "code",
   "execution_count": null,
   "id": "b5c4219e-b96b-4e69-9545-8c8e1e67de28",
   "metadata": {},
   "outputs": [],
   "source": [
    "# ### Run ART simulator\n",
    "# art_simulator = 1\n",
    "# sim_dir = '/data/hoan/amromics/simulation/'\n",
    "# art_bin = '/data/hoan/amromics/simulation/art_bin/./art_illumina'\n",
    "# ref_data = '/data/hoan/amromics/data/ncbi/Ecolitest/GCF_002899495.1_ASM289949v1_genomic.fna'      # test 2\n",
    "# sim_name = ref_data.split(\"/\")[-2] + '_' + ref_data.split(\"/\")[-1][:-1][:13]\n",
    "# sim_output = '/data/hoan/amromics/simulation/art_output/sim_reads_' + sim_name + simversion[-4:]\n",
    "# if run_art: \n",
    "#     if simversion[-3:]=='v01':\n",
    "#         os.system(art_bin+' -ss HS20 -sam -i '+ref_data+' -p -l 100 -f 70 -m 400 -s 60 -o '+sim_output) # _v01\n",
    "#     if simversion[-3:]=='v02':\n",
    "#         os.system(art_bin+' -ss HS20 -sam -i '+ref_data+' -p -l 100 -f 70 -m 400 -s 10 -o '+sim_output) # _v02\n",
    "#     if simversion[-3:]=='v03':\n",
    "#         os.system(art_bin+' -ss MSv3 -sam -i '+ref_data+' -p -l 250 -f 70 -m 400 -s 60 -o '+sim_output) # _v03\n",
    "#     if simversion[-3:]=='v04':\n",
    "#         os.system(art_bin+' -ss MSv3 -sam -i '+ref_data+' -p -l 250 -f 70 -m 400 -s 10 -o '+sim_output) # _v04"
   ]
  },
  {
   "cell_type": "markdown",
   "id": "87fd93fb-e2d0-4f37-92b0-7f39bf9e37c5",
   "metadata": {},
   "source": [
    "### Run SPADES assembly"
   ]
  },
  {
   "cell_type": "code",
   "execution_count": 10,
   "id": "7c671bc5-22ad-4770-950a-3dd61e11cebc",
   "metadata": {},
   "outputs": [
    {
     "name": "stdout",
     "output_type": "stream",
     "text": [
      "Ref data:  /data/hoan/amromics/data/ncbi/paired_data/kq_700603/GCF_001596075.2_ASM159607v2_genomic.fna\n",
      "/data/hoan/amromics/data/ncbi/paired_data/kq_700603/ERR1474548_\n"
     ]
    }
   ],
   "source": [
    "# ref_data = \"/data/hoan/amromics/data/ncbi/Kp_BAA-2146/refSeq/GCF_000364385.3_ASM36438v3_genomic.fna\"\n",
    "# read_input = '/data/hoan/amromics/data/ncbi/Kp_BAA-2146/reads_data/ERR1474547_'\n",
    "\n",
    "# ref_data = \"/data/hoan/amromics/data/ncbi/paired_data/ecolik12/GCF_000005845.2_ASM584v2_genomic.fna\"\n",
    "# read_input = '/data/hoan/amromics/data/ncbi/paired_data/ecolik12/SRR001665_'\n",
    "\n",
    "# ref_data = \"/data/hoan/amromics/data/ncbi/paired_data/ecoli_CFSAN027343/GCF_004358405.1_ASM435840v1_genomic.fna\"\n",
    "# read_input = '/data/hoan/amromics/data/ncbi/paired_data/ecoli_CFSAN027343/SRR8333591_'\n",
    "\n",
    "# ref_data = \"/data/hoan/amromics/data/ncbi/paired_data/ecoli_CFSAN027350/GCF_004358385.1_ASM435838v1_genomic.fna\"\n",
    "# read_input = '/data/hoan/amromics/data/ncbi/paired_data/ecoli_CFSAN027350/SRR8333590_'\n",
    "\n",
    "ref_data = \"/data/hoan/amromics/data/ncbi/paired_data/kq_700603/GCF_001596075.2_ASM159607v2_genomic.fna\"\n",
    "read_input = '/data/hoan/amromics/data/ncbi/paired_data/kq_700603/ERR1474548_'\n",
    "\n",
    "print(\"Ref data: \", ref_data)\n",
    "if art_simulator:\n",
    "    sim_name = ref_data.split(\"/\")[-2] + '_' + ref_data.split(\"/\")[-1][:-1][:13]\n",
    "else:\n",
    "    sim_name = ref_data.split(\"/\")[-2] + '_' + ref_data.split(\"/\")[-1][:-1][:13] +'_'+ read_input.split(\"/\")[-1]\n",
    "print(read_input)"
   ]
  },
  {
   "cell_type": "code",
   "execution_count": 11,
   "id": "6f964b5f-7c00-4c9b-b8d7-e6c3316e8ee3",
   "metadata": {},
   "outputs": [
    {
     "data": {
      "text/plain": [
       "'kq_700603_GCF_001596075_ERR1474548_'"
      ]
     },
     "execution_count": 11,
     "metadata": {},
     "output_type": "execute_result"
    }
   ],
   "source": [
    "sim_name"
   ]
  },
  {
   "cell_type": "code",
   "execution_count": 12,
   "id": "9a8c3d4c-9b2a-484c-a1c8-60acf3e64766",
   "metadata": {},
   "outputs": [],
   "source": [
    "# spades_output = '/data/hoan/amromics/simulation/art_output/' + 'spades_output_' + sim_name + simversion[-4:]\n",
    "spades_output = '/data/hoan/amromics/simulation/art_output/' + 'spades_output_' + sim_name + simversion[-4:]"
   ]
  },
  {
   "cell_type": "code",
   "execution_count": 13,
   "id": "2fa102dd-f8b3-49f6-a2d4-e89689a72d8f",
   "metadata": {},
   "outputs": [],
   "source": [
    "if run_spades:\n",
    "    spades_bin ='~/miniconda3/envs/amromics/bin/spades.py'\n",
    "    # os.system(spades_bin+' --isolate -1 '+sim_output+'1.fq -2 '+sim_output+'2.fq -t 50 -o '+spades_output)\n",
    "    os.system(spades_bin+' --isolate -1 '+read_input+'1.fastq -2 '+read_input+'2.fastq -t 50 -o '+spades_output)"
   ]
  },
  {
   "cell_type": "code",
   "execution_count": 14,
   "id": "518eab2e-b2e6-4ecb-8f3d-4e0afa520d98",
   "metadata": {},
   "outputs": [
    {
     "data": {
      "text/plain": [
       "'/data/hoan/amromics/simulation/art_output/spades_output_kq_700603_GCF_001596075_ERR1474548__v01'"
      ]
     },
     "execution_count": 14,
     "metadata": {},
     "output_type": "execute_result"
    }
   ],
   "source": [
    "spades_output"
   ]
  },
  {
   "cell_type": "markdown",
   "id": "810a07c5-1c26-4c6f-9f60-bcf6aae01147",
   "metadata": {},
   "source": [
    "### Run panta"
   ]
  },
  {
   "cell_type": "code",
   "execution_count": 15,
   "id": "97033d06-5c90-4760-a312-d6c129cf00d0",
   "metadata": {},
   "outputs": [
    {
     "data": {
      "text/plain": [
       "'_Kp50random_kq_700603_GCF_001596075_ERR1474548__plasmid_v01'"
      ]
     },
     "execution_count": 15,
     "metadata": {},
     "output_type": "execute_result"
    }
   ],
   "source": [
    "simversionRef = '_'+ pangenome_data.split('/')[-2] +'_'+ sim_name + simversion\n",
    "simversionRef"
   ]
  },
  {
   "cell_type": "code",
   "execution_count": 16,
   "id": "48588da6-ae73-4219-8876-8a9fcc481002",
   "metadata": {},
   "outputs": [
    {
     "data": {
      "text/plain": [
       "'/data/hoan/amromics/simulation/art_output/spades_output_kq_700603_GCF_001596075_ERR1474548__v01'"
      ]
     },
     "execution_count": 16,
     "metadata": {},
     "output_type": "execute_result"
    }
   ],
   "source": [
    "spades_output"
   ]
  },
  {
   "cell_type": "markdown",
   "id": "c4b343cc-513b-4465-a30e-334c54082ac7",
   "metadata": {},
   "source": [
    "## Run this for the first time"
   ]
  },
  {
   "cell_type": "code",
   "execution_count": null,
   "id": "92fe4ea4-d45d-48bf-9ccd-29ef55202b6c",
   "metadata": {},
   "outputs": [],
   "source": [
    "if 1:\n",
    "    conda_dir = 'source ~/miniconda3/etc/profile.d/conda.sh && conda activate amromics && '\n",
    "    input_data = spades_output + '/contigs.fasta'\n",
    "    os.system('rm -r ' + prokka_target_dir +'temp/')\n",
    "    prokka_bin = conda_dir + 'prokka --outdir ' + prokka_target_dir +'temp' +data_base +' --prefix ' + sim_name +' '+input_data\n",
    "    os.system(prokka_bin)\n",
    "    os.system('cp ' + prokka_target_dir +'temp/'+sim_name+'.gff ' + prokka_target_dir + 'g1.gff')\n",
    "    os.system('cp ' + prokka_target_dir +'temp/'+sim_name+'.gff ' + prokka_target_dir + sim_name+'.gff')\n",
    "    os.system('rm -r ' + prokka_target_dir +'temp/')\n",
    "    print(prokka_bin)"
   ]
  },
  {
   "cell_type": "code",
   "execution_count": null,
   "id": "e0dba6a4-c720-412c-8b83-826f926c6e89",
   "metadata": {},
   "outputs": [],
   "source": [
    "from pangraph.utils import export_metadata"
   ]
  },
  {
   "cell_type": "code",
   "execution_count": 17,
   "id": "ade2e475-0f72-47d5-b504-78883539e07b",
   "metadata": {},
   "outputs": [],
   "source": [
    "pantaconda_dir = 'source ~/miniconda3/etc/profile.d/conda.sh && conda activate panta && '\n",
    "panta_bin =pantaconda_dir+'python /data/hoan/amromics/panta_memopt_v2/panta/pan-genome.py'\n",
    "# panta_bin =pantaconda_dir+'python /data/hoan/amromics/panta_memopt/pan-genome.py'\n",
    "panta_output = '/data/hoan/amromics/genome-graph/scaffold_output/pantaOut/pantaOut' + simversionRef\n",
    "# panta_output_temp = panta_output + '_temp'\n",
    "panta_input = pangenome_data +'prokka/*.gff'\n",
    "if run_panta:\n",
    "    os.system('rm -r '+panta_output)\n",
    "    # os.system('rm -r '+panta_output_temp)\n",
    "    # ## run all samples + new samples\n",
    "    # # os.system('rm -r '+panta_output)\n",
    "    # # os.system('rm -r '+panta_output_temp)\n",
    "    # # os.system('cp '+prokka_target_dir + sim_name+'.gff ' + pangenome_data +'prokka/')\n",
    "    # # # cmd_panta = panta_bin + ' main -o ' + panta_output +' -g ' + panta_input + ' -i 0.7'\n",
    "    # # cmd_panta = panta_bin + ' main -o ' + panta_output +' -g ' + panta_input \n",
    "    # # print(cmd_panta)\n",
    "    # # os.system(cmd_panta)\n",
    "    # export_metadata(panta_output)     \n",
    "   \n",
    "    ## Split into 2 steps\n",
    "    # os.system('cp '+prokka_target_dir + sim_name+'.gff ' + pangenome_data +'prokka/')\n",
    "    cmd_panta = panta_bin + ' main -o ' + panta_output +' -g ' + panta_input\n",
    "    print(cmd_panta)\n",
    "    os.system(cmd_panta)\n",
    "    \n",
    "    ## Copy to temp directory\n",
    "   # os.system('rm -r '+panta_output_temp)\n",
    "   # os.system('cp -R '+ panta_output + ' ' + panta_output_temp)\n",
    "    cmd_panta = panta_bin + ' add -c ' + panta_output +' -g ' + prokka_target_dir + sim_name+'.gff -s'\n",
    "    print(cmd_panta)\n",
    "    os.system(cmd_panta)\n",
    "    export_metadata(panta_output)"
   ]
  },
  {
   "cell_type": "code",
   "execution_count": null,
   "id": "18bed263-0832-4328-ae52-c6a3ce83d02f",
   "metadata": {},
   "outputs": [],
   "source": [
    "# # file_name= ref_data.split(\"/\")[-1][:-4]\n",
    "# # cmd_copy = 'cp ' + prokka_target_dir + file_name + '.gff ' + prokka_target_dir + 'g1.gff'\n",
    "# # panta_target_input = prokka_target_dir + file_name + '.gff'\n",
    "# # os.system(cmd_copy)\n",
    "# # panta_target_input = prokka_target_dir + 'g1.gff'\n",
    "# ### Khong the lam nhu the nay duoc vi day co phai la cai ta can noi dau???\n",
    "# # panta_target_input = prokka_target_dir + 'g1.gff'\n",
    "# panta_target_input = prokka_target_dir + sim_name + '.gff'\n",
    "# cmd_panta = panta_bin + ' add -c ' + panta_output +' -g ' + panta_target_input\n",
    "# if run_panta:\n",
    "#     os.system(cmd_panta)\n",
    "#     # create samples.tsv\n",
    "#     from pangraph.utils import export_metadata\n",
    "#     export_metadata(panta_output)"
   ]
  },
  {
   "cell_type": "code",
   "execution_count": null,
   "id": "86a50e86-77ca-4b6d-8188-0592ea81c7aa",
   "metadata": {},
   "outputs": [],
   "source": [
    "os.system('rm '+ pangenome_data +'prokka/' + sim_name+'.gff')"
   ]
  },
  {
   "cell_type": "markdown",
   "id": "00da366b-5605-4068-ac1d-9dd1162f316e",
   "metadata": {},
   "source": [
    "### Run pangraph"
   ]
  },
  {
   "cell_type": "code",
   "execution_count": 19,
   "id": "5ade0fe7-9980-4e5f-b93b-c3faef84950e",
   "metadata": {},
   "outputs": [],
   "source": [
    "from pangraph import PanGraph"
   ]
  },
  {
   "cell_type": "code",
   "execution_count": 20,
   "id": "d1862260-72f1-4641-b810-94b4123a86ac",
   "metadata": {},
   "outputs": [],
   "source": [
    "# set parameters\n",
    "data_dir = panta_output \n",
    "# incomplete_sample_name = 'g1'\n",
    "incomplete_sample_name = sim_name\n",
    "assem_dir = spades_output\n",
    "fasta_gen = 'partial' # 'all', 'partial'"
   ]
  },
  {
   "cell_type": "code",
   "execution_count": 21,
   "id": "dfd3bc62-c654-4354-96c9-67a9bbfa0b5e",
   "metadata": {},
   "outputs": [],
   "source": [
    "simversionRefNew = '_'+ pangenome_data.split('/')[-2] +'_'+ sim_name + simversionPangraph\n",
    "# pangraph_output_greedy_default = scaffold_out_dir + 'pangraph_greedy'+ simversionRef + '.fasta'\n",
    "# pangraph_output_opt_default = scaffold_out_dir + 'pangraph_opt'+ simversionRef + '.fasta'\n",
    "pangraph_output_sensitive = scaffold_out_dir + 'pangraph_sensitive'+ simversionRefNew + '.fasta'\n",
    "pangraph_output_default = scaffold_out_dir + 'pangraph_default'+ simversionRefNew + '.fasta'\n",
    "pangraph_output_opt = scaffold_out_dir + 'pangraph_opt'+ simversionRefNew + '.fasta'"
   ]
  },
  {
   "cell_type": "code",
   "execution_count": 22,
   "id": "ac2c9bb8-2ddb-43cd-a9a7-1651ff101500",
   "metadata": {},
   "outputs": [],
   "source": [
    "# panta_output_temp"
   ]
  },
  {
   "cell_type": "code",
   "execution_count": 23,
   "id": "bb11952b-36d6-4c7d-b291-701ca7066c8c",
   "metadata": {},
   "outputs": [
    {
     "data": {
      "text/plain": [
       "'kq_700603_GCF_001596075_ERR1474548_'"
      ]
     },
     "execution_count": 23,
     "metadata": {},
     "output_type": "execute_result"
    }
   ],
   "source": [
    "incomplete_sample_name"
   ]
  },
  {
   "cell_type": "code",
   "execution_count": null,
   "id": "72df8c67-89a7-4f48-944e-745c0caedcd2",
   "metadata": {},
   "outputs": [],
   "source": [
    "PASAversion = '_BiGR0.3'; MLR = 0; SInfer = 1; min_weight_val = 0.3; \n",
    "simversionRefNew = '_'+ pangenome_data.split('/')[-2] +'_'+ sim_name + PASAversion \n",
    "if run_pangraph:\n",
    "    print(PASAversion, '------------------------------------------------------------------')\n",
    "    # https://stackoverflow.com/questions/4990718/how-can-i-write-a-try-except-block-that-catches-all-exceptions\n",
    "    pangraph = PanGraph(sample_info=None, gene_info=None, gene_position=None)\n",
    "    try:\n",
    "        maximum_matching = 'greedy'\n",
    "        pangraph.run_pangraph_pipeline(data_dir, incomplete_sample_name, assem_dir, fasta_gen, pangraph_output_sensitive, maximum_matching, MLR, SInfer, min_weight_val)\n",
    "    except Exception as e:\n",
    "        logging.error(traceback.format_exc())"
   ]
  },
  {
   "cell_type": "code",
   "execution_count": null,
   "id": "814cc1c3-c017-4c12-b326-d95fd7d5153d",
   "metadata": {},
   "outputs": [
    {
     "name": "stdout",
     "output_type": "stream",
     "text": [
      "_BiGR0.3 ------------------------------------------------------------------\n",
      "Should we use target sequence as reference, hence, the strand will be ok\n",
      "Set minimum on number of nucleotides =  10 NUMBER OF COMPUTED CONTIGS: 3575\n",
      "Clip the matrix 0.2 !!!!!!!!!!!!!!!!!!!!!!!!!!!!!!!!!!\n",
      "Use modified  assembly graph\n",
      "Use union graph: overlap + assembly: done\n",
      "Re-infer the contigs strand: NO\n"
     ]
    }
   ],
   "source": [
    "PASAversion = '_BiGR0.3'; MLR = 0; SInfer = 0; min_weight_val = 0.3; \n",
    "simversionRefNew = '_'+ pangenome_data.split('/')[-2] +'_'+ sim_name + PASAversion \n",
    "if run_pangraph:\n",
    "    print(PASAversion, '------------------------------------------------------------------')\n",
    "    # https://stackoverflow.com/questions/4990718/how-can-i-write-a-try-except-block-that-catches-all-exceptions\n",
    "    pangraph = PanGraph(sample_info=None, gene_info=None, gene_position=None)\n",
    "    try:\n",
    "        maximum_matching = 'optimal'\n",
    "        pangraph.run_pangraph_pipeline(data_dir, incomplete_sample_name, assem_dir, fasta_gen, pangraph_output_opt, maximum_matching, MLR, SInfer, min_weight_val)\n",
    "    except Exception as e:\n",
    "        logging.error(traceback.format_exc())"
   ]
  },
  {
   "cell_type": "code",
   "execution_count": null,
   "id": "b4206d53-6ab8-422c-b075-4d86f0252a35",
   "metadata": {},
   "outputs": [],
   "source": [
    "PASAversion = '_MLRInfer1.0'; MLR = 1; SInfer = 1; min_weight_val = 1.0; \n",
    "# simversionRefNew = '_'+ pangenome_data.split('/')[-2] +'_'+ sim_name + PASAversion \n",
    "# pangraph_output_greedy = scaffold_out_dir + 'pangraph_greedy'+ simversionRefNew + '.fasta'\n",
    "# pangraph_output_opt = scaffold_out_dir + 'pangraph_opt'+ simversionRefNew + '.fasta'\n",
    "if run_pangraph:\n",
    "    print(PASAversion, '------------------------------------------------------------------')\n",
    "    # https://stackoverflow.com/questions/4990718/how-can-i-write-a-try-except-block-that-catches-all-exceptions\n",
    "    pangraph = PanGraph(sample_info=None, gene_info=None, gene_position=None)\n",
    "    try:\n",
    "        maximum_matching = 'greedy'\n",
    "        pangraph.run_pangraph_pipeline(data_dir, incomplete_sample_name, assem_dir, fasta_gen, pangraph_output_default, maximum_matching, MLR, SInfer, min_weight_val)\n",
    "    except Exception as e:\n",
    "        logging.error(traceback.format_exc())"
   ]
  },
  {
   "cell_type": "markdown",
   "id": "a21d3a7c-fc03-4c81-9957-93d225838fe5",
   "metadata": {},
   "source": [
    "### Run scaffold methods"
   ]
  },
  {
   "cell_type": "code",
   "execution_count": null,
   "id": "3d4dd495-be29-4b69-81f6-a03f1027725e",
   "metadata": {},
   "outputs": [],
   "source": [
    "### Multi-CSAR\n",
    "conda_dir = 'source ~/miniconda3/etc/profile.d/conda.sh && conda activate py27 && '\n",
    "csar_bin = conda_dir + '/data/hoan/amromics/assembly/Multi-CSAR/./multi-csar.php'"
   ]
  },
  {
   "cell_type": "code",
   "execution_count": null,
   "id": "571a94e7-92e9-49e8-87ca-7ddff8c08908",
   "metadata": {},
   "outputs": [],
   "source": [
    "multicsar_output = scaffold_out_dir + 'multicsar/multicsar' + simversionRef\n",
    "if run_multicsar:\n",
    "    os.system('cp '+spades_output+'/contigs.fasta ' + pangenome_data + 'g1.fna')\n",
    "    os.system('rm ' + pangenome_data + 'fna/g1*')\n",
    "    os.system(csar_bin +' -t '+pangenome_data+'g1.fna -r '+pangenome_data+'fna/ --nuc -o '+multicsar_output)\n",
    "    # os.system(csar_bin +' -t '+pangenome_data+'g1.fna -r '+pangenome_data+'*.fna --nuc -o '+multicsar_output)"
   ]
  },
  {
   "cell_type": "code",
   "execution_count": null,
   "id": "b36507eb-e063-4b98-b9b8-94f989d64252",
   "metadata": {},
   "outputs": [],
   "source": [
    "multicsar_output"
   ]
  },
  {
   "cell_type": "code",
   "execution_count": null,
   "id": "1b914df9-78d2-4d3d-842f-e22ecb65fc4c",
   "metadata": {},
   "outputs": [],
   "source": [
    "### Ragout\n",
    "ragout_bin = 'source ~/miniconda3/etc/profile.d/conda.sh && conda activate py27 && ragout '\n",
    "ragout_output = scaffold_out_dir + 'multicsar/ragout' + simversionRef\n",
    "if run_ragout:\n",
    "    # write receipt file\n",
    "    ref_files_list = glob.glob(pangenome_data+'fna/*')\n",
    "    n_files = len(ref_files_list)\n",
    "    receipt_file_dir = '/data/hoan/amromics/assembly/Ragout/kp100'+simversionRef+'.rcp'\n",
    "    f = open(receipt_file_dir, \"w\")\n",
    "    f.write('.references = ')\n",
    "    for idx in range(n_files-1):\n",
    "        f.write('r' + str(idx) + ',')\n",
    "    f.write('r'+str(n_files-1)+'\\n')\n",
    "    f.write(\".target = mg1655\\n\\n\")\n",
    "    for idx in range(n_files):\n",
    "        f.write('r'+str(idx)+'.fasta =' + ref_files_list[idx] + '\\n')\n",
    "    f.write('mg1655.fasta = ' + spades_output+'/contigs.fasta\\n')\n",
    "    f.close()"
   ]
  },
  {
   "cell_type": "code",
   "execution_count": null,
   "id": "c420de89-d23f-45ef-bb74-f47a5abcf988",
   "metadata": {},
   "outputs": [],
   "source": [
    "if run_ragout:\n",
    "    os.system(ragout_bin + receipt_file_dir + ' --outdir ' + ragout_output + ' --refine')\n",
    "    # ragout kp100_v2.rcp --outdir output_Kp100p_v2/ --refine"
   ]
  },
  {
   "cell_type": "code",
   "execution_count": null,
   "id": "ca6e60d4-4815-48a0-9f87-5be961567050",
   "metadata": {},
   "outputs": [],
   "source": [
    "print(ragout_output)"
   ]
  },
  {
   "cell_type": "markdown",
   "id": "f2188478-51fd-4f84-b640-6a9e96127648",
   "metadata": {},
   "source": [
    "### Quast "
   ]
  },
  {
   "cell_type": "code",
   "execution_count": null,
   "id": "8d845fc8-a033-4ad3-b97f-49d87f25541d",
   "metadata": {},
   "outputs": [],
   "source": [
    "quast_output = '/data/hoan/amromics/genome-graph/scaffold_output/quastResults' + simversionRefNew\n",
    "quast_output"
   ]
  },
  {
   "cell_type": "code",
   "execution_count": null,
   "id": "24b358d7-6607-4228-87bb-b30b626ba330",
   "metadata": {},
   "outputs": [],
   "source": [
    "quast_bin = 'python /data/hoan/amromics/spades_quast/quast-5.2.0/quast.py '\n",
    "spades_output_fasta = spades_output+'/contigs.fasta'\n",
    "multicsar_output_fasta = multicsar_output +'/multi-csar.nuc.out.fna'\n",
    "ragout_output_fasta = ragout_output + '/mg1655_scaffolds.fasta'\n",
    "# if 1:\n",
    "#     if os.path.isfile(ragout_output_fasta):\n",
    "#         os.system(quast_bin + pangraph_output_default+' '+ pangraph_output_sensitive+' '+ multicsar_output_fasta+' '+ragout_output_fasta+' '+spades_output_fasta+' '+\n",
    "#         '-l \"Pasa, Pasa_sensitive, Multi-CSAR, Ragout, SPADES\" '+ '-r '+ref_data+' -o '+ quast_output+' --silent --extensive-mis-size 5000 --local-mis-size 3000')\n",
    "#     else:\n",
    "#         os.system(quast_bin + pangraph_output_opt+' '+ pangraph_output_greedy+' '+ multicsar_output_fasta+' '+spades_output_fasta+' '+\n",
    "#         '-l \"Pangraph_OPT, Pangraph_Greedy, Multi-CSAR, SPADES\" '+ '-r '+ref_data+' -o '+ quast_output+' --silent --extensive-mis-size 5000 --local-mis-size 3000')\n",
    "if 1:\n",
    "    if os.path.isfile(ragout_output_fasta):\n",
    "        os.system(quast_bin + pangraph_output_default+' '+ pangraph_output_sensitive+' '+ pangraph_output_opt+' '+ multicsar_output_fasta+' '+ragout_output_fasta+' '+spades_output_fasta+' '+\n",
    "        '-l \"Pasa, Pasa_sensitive, Pasa_OPT, Multi-CSAR, Ragout, SPADES\" '+ '-r '+ref_data+' -o '+ quast_output+' --silent --extensive-mis-size 5000 --local-mis-size 3000')\n",
    "    else:\n",
    "        os.system(quast_bin + pangraph_output_default+' '+ pangraph_output_sensitive+' '+ pangraph_output_opt+' '+ multicsar_output_fasta+' '+spades_output_fasta+' '+\n",
    "        '-l \"Pasa, Pasa_sensitive, Pasa_OPT, Multi-CSAR, SPADES\" '+ '-r '+ref_data+' -o '+ quast_output+' --silent --extensive-mis-size 5000 --local-mis-size 3000')"
   ]
  },
  {
   "cell_type": "code",
   "execution_count": null,
   "id": "c5ddebf9-788d-4166-99cd-62a4dd7dcd8a",
   "metadata": {},
   "outputs": [],
   "source": [
    "end"
   ]
  },
  {
   "cell_type": "code",
   "execution_count": null,
   "id": "c43d4a80-9ce2-42e1-8f62-3f12edc687e1",
   "metadata": {},
   "outputs": [],
   "source": [
    "# pangraph.gene_position\n",
    "pangraph.sample_info"
   ]
  },
  {
   "cell_type": "code",
   "execution_count": null,
   "id": "ec8da9ba-6f2f-4666-b0d4-5a3151f234f6",
   "metadata": {},
   "outputs": [],
   "source": [
    "sample_df = pangraph.gene_position.loc[pangraph.gene_position[\"SampleID\"]==49]"
   ]
  },
  {
   "cell_type": "code",
   "execution_count": null,
   "id": "6a47fb71-63c1-4bf0-b50d-d8e2fa0a7de6",
   "metadata": {},
   "outputs": [],
   "source": [
    "aa = sample_df.iloc[0,2].split(';')"
   ]
  },
  {
   "cell_type": "code",
   "execution_count": null,
   "id": "3422b494-3ffc-4d37-8202-089792df8c82",
   "metadata": {},
   "outputs": [],
   "source": [
    "sample_df"
   ]
  },
  {
   "cell_type": "code",
   "execution_count": null,
   "id": "bd9ca7cc-5858-4dbf-a64a-4f62db3383fb",
   "metadata": {},
   "outputs": [],
   "source": [
    "for key in pangraph.strand:\n",
    "    print(key)"
   ]
  },
  {
   "cell_type": "code",
   "execution_count": null,
   "id": "a012f703-8287-41bf-92f2-a7480f3f52f5",
   "metadata": {},
   "outputs": [],
   "source": [
    "# # pangraph.H[\"weight\"][0:4]\n",
    "# iteration = 0\n",
    "# for u,v,a in pangraph.H.edges(data=True):\n",
    "#     print(a)\n",
    "#     iteration += 1\n",
    "#     if iteration > 10:\n",
    "#         break;"
   ]
  },
  {
   "cell_type": "code",
   "execution_count": null,
   "id": "ee493830-bdb8-46a5-83ba-4ec408f1fd07",
   "metadata": {},
   "outputs": [],
   "source": [
    "# nx.write_gml(pangraph.assembly_graph, quast_output+'/assembly_graph.gml')"
   ]
  },
  {
   "cell_type": "code",
   "execution_count": null,
   "id": "eb32a794-a0be-4756-9867-5ff8a178f4d4",
   "metadata": {},
   "outputs": [],
   "source": [
    "pangraph.assembly_graph.number_of_edges()"
   ]
  },
  {
   "cell_type": "code",
   "execution_count": null,
   "id": "701f03d1-9ab2-4b2e-864a-272fdda10346",
   "metadata": {},
   "outputs": [],
   "source": [
    "len(list(nx.weakly_connected_components(pangraph.assembly_graph)))"
   ]
  },
  {
   "cell_type": "code",
   "execution_count": null,
   "id": "318736c1-6cf1-4d1f-becb-46d56a248336",
   "metadata": {},
   "outputs": [],
   "source": [
    "# pangraph.weighted_CG.nodes()"
   ]
  },
  {
   "cell_type": "code",
   "execution_count": null,
   "id": "7c8f48ee-1162-4652-a4fb-fba44b9ddaaf",
   "metadata": {},
   "outputs": [],
   "source": [
    "len(list(nx.weakly_connected_components(pangraph.H)))"
   ]
  },
  {
   "cell_type": "code",
   "execution_count": null,
   "id": "cad64bbb-999e-4fa4-a421-73c20274d6bd",
   "metadata": {},
   "outputs": [],
   "source": [
    "pangraph.H.number_of_nodes(), pangraph.H.number_of_edges()"
   ]
  },
  {
   "cell_type": "code",
   "execution_count": null,
   "id": "0fe38f01-e457-42dc-b477-cba37bd35849",
   "metadata": {},
   "outputs": [],
   "source": [
    "ref_data"
   ]
  },
  {
   "cell_type": "markdown",
   "id": "92fe66ed-e316-41ae-a09c-ae1351304c69",
   "metadata": {},
   "source": [
    "## Analysis"
   ]
  },
  {
   "cell_type": "code",
   "execution_count": null,
   "id": "d1b43cf8-8b32-41b6-b371-ee7454278384",
   "metadata": {},
   "outputs": [],
   "source": [
    "# minimap2 /data/hoan/amromics/data/ncbi/Ecolitest/GCF_002860105.1_ASM286010v1_genomic.fna /data/hoan/amromics/genome-graph/scaffold_output/pangraph_opt_Ecoli100random_Ecoli_plasmid_v01.fasta > contigs100vsref_mapping_v01a.paf\n",
    "cmd_minimap = '~/miniconda3/envs/amromics/bin/minimap2 '+ref_data +' '+ spades_output +'/contigs.fasta' +' > scaffold_output/minimap_out/mapping.paf' "
   ]
  },
  {
   "cell_type": "code",
   "execution_count": null,
   "id": "712adc28-a267-489d-a85a-9dc6c5cf8f41",
   "metadata": {},
   "outputs": [],
   "source": [
    "os.system(cmd_minimap)\n",
    "df = pd.read_csv(\"scaffold_output/minimap_out/mapping.paf\", sep =\"\\t\", header=None)"
   ]
  },
  {
   "cell_type": "code",
   "execution_count": null,
   "id": "d6b53cd1-219a-478a-9d41-422cd3cb3fc3",
   "metadata": {},
   "outputs": [],
   "source": [
    "df\n",
    "ref_id = df.iloc[0,5]\n",
    "ref_id"
   ]
  },
  {
   "cell_type": "code",
   "execution_count": null,
   "id": "3e6e9924-5b7b-4c6c-aff8-14707e2aba01",
   "metadata": {},
   "outputs": [],
   "source": [
    "final_df = df.loc[df[5] == ref_id]\n",
    "final_df = final_df.sort_values(by=[7])"
   ]
  },
  {
   "cell_type": "code",
   "execution_count": null,
   "id": "7f3f23ec-e765-43a3-bf76-260351d70dce",
   "metadata": {},
   "outputs": [],
   "source": [
    "target_id = 0\n",
    "gene_position = pd.read_csv(panta_output + '/gene_position.tsv', delimiter='\\t', header=None)\n",
    "gene_position.columns =['SampleID', 'ContigName', 'GeneSequence']\n",
    "target_contigs = [gene_position.iloc[i, 1] for i in range(len(gene_position.index)) if gene_position.iloc[i, 0]==target_id]"
   ]
  },
  {
   "cell_type": "code",
   "execution_count": null,
   "id": "6cc061c4-adbc-4af9-8e02-ca4117e6b3cd",
   "metadata": {},
   "outputs": [],
   "source": [
    "samples = pd.read_csv(panta_output + '/samples.tsv', delimiter='\\t', header=None)\n",
    "# samples"
   ]
  },
  {
   "cell_type": "code",
   "execution_count": null,
   "id": "372759b9-1e39-4aab-9e8e-35b042deb362",
   "metadata": {},
   "outputs": [],
   "source": [
    "target_contigs_list = [final_df.iloc[i, 0] for i in range(len(final_df.index)) if final_df.iloc[i, 0] in target_contigs]\n",
    "target_contigs_sorted = [final_df.iloc[i, 0]+'---'+str(final_df.iloc[i, 7])+'>'+str(final_df.iloc[i, 8]) for i in range(len(final_df.index)) if final_df.iloc[i, 0] in target_contigs]"
   ]
  },
  {
   "cell_type": "code",
   "execution_count": null,
   "id": "a40629a5-c6cb-40ae-9395-846a4871748e",
   "metadata": {},
   "outputs": [],
   "source": [
    "gene_position[gene_position.ContigName=='NODE_95_length_1592_cov_58.378660'].iloc[0,2].split(';')"
   ]
  },
  {
   "cell_type": "code",
   "execution_count": null,
   "id": "eff76bda-76a6-4cc1-a9cb-2f9b409783e3",
   "metadata": {},
   "outputs": [],
   "source": [
    "cluster_id = pangraph.gene2cluster_dict['Ecolitest_GCF_002860105-NODE_95_length_1592_cov_58.378660-PCILKDFA_04850@-1']"
   ]
  },
  {
   "cell_type": "code",
   "execution_count": null,
   "id": "cd2f5366-805f-4523-8475-015ed5836b2e",
   "metadata": {},
   "outputs": [],
   "source": [
    "gene_info = pd.read_csv(panta_output + \"/gene_info.tsv\", delimiter='\\t', header=None)\n",
    "gene_info.columns =['GeneName', 'SampleID', 'clusterID']"
   ]
  },
  {
   "cell_type": "code",
   "execution_count": null,
   "id": "d2bd2039-fe13-46d5-ac48-a8f5517bd48b",
   "metadata": {},
   "outputs": [],
   "source": [
    "gene_info[gene_info.clusterID==cluster_id]"
   ]
  },
  {
   "cell_type": "code",
   "execution_count": null,
   "id": "555b5448-d147-4790-8606-3c9e179aa3b6",
   "metadata": {},
   "outputs": [],
   "source": [
    "target_contigs_sorted[-4:]"
   ]
  },
  {
   "cell_type": "code",
   "execution_count": null,
   "id": "1919f425-77f0-4130-8ee2-dcd141164bdc",
   "metadata": {},
   "outputs": [],
   "source": [
    "# pangraph.adj_list0"
   ]
  },
  {
   "cell_type": "code",
   "execution_count": null,
   "id": "8bfe6670-0315-4fd6-93b2-76813c973246",
   "metadata": {},
   "outputs": [],
   "source": [
    "# cmd_dnadiff = '~/miniconda3/envs/amromics/bin/dnadiff '+ref_data +' '+ spades_output +'/contigs.fasta -p dna_diff/'+sim_name\n",
    "# os.system(cmd_dnadiff)"
   ]
  },
  {
   "cell_type": "code",
   "execution_count": null,
   "id": "94805bbf-be0d-4253-91e1-0c2bce9d94c1",
   "metadata": {},
   "outputs": [],
   "source": [
    "# Don't use SPADES, shovil keep files.\n",
    "# python readSimulator/readSimulator.py --outdir shredded_reads  --input ncbi-genomes-2023-01-07/GCF_000240185.1_ASM24018v2_genomic.fna --simulator art --simulator_path art_bin_MountRainier/art_illumina --iterations 100 --readlen 100 --depth 100  --opts '-ss HS20 -sam -p -m 400 -s 60'\n",
    "# investigate why we failed? #1/ connectivity in the assembly graph:\n",
    "# multiplicity of each node: now 1, change to more: use length and coverage\n",
    "# assembly graph: change to 500"
   ]
  },
  {
   "cell_type": "code",
   "execution_count": null,
   "id": "84699c11-8ded-4106-b828-435ef7400054",
   "metadata": {},
   "outputs": [],
   "source": [
    "def get_node_coverage(node_id):\n",
    "    return float(node_id.split('_')[5])\n",
    "get_node_coverage('NODE_45_length_30843_cov_18.832500')\n",
    "target_contigs_multi_1 = [item for item in target_contigs_list if get_node_coverage(item) <= 25.0]"
   ]
  },
  {
   "cell_type": "code",
   "execution_count": null,
   "id": "b84f6c2a-770f-45a4-aa3f-f5d7bddfdcd0",
   "metadata": {},
   "outputs": [],
   "source": [
    "def get_value(edge_df0, source_id, target_id):\n",
    "    # if source_id in edge_df0['source'].values and target_id in edge_df0['target'].values:\n",
    "    #     print(edge_df0[((edge_df0['source'] == source_id) & (edge_df0['target'] == target_id))])\n",
    "    # else:\n",
    "    #     print('No value')\n",
    "    df_res = edge_df0[((edge_df0['source'] == source_id) & (edge_df0['target'] == target_id))]\n",
    "    if len(df_res.index) == 1:\n",
    "        print(df_res.iloc[0, 2])\n",
    "    else:\n",
    "        print(\"No value\")\n",
    "# pangraph.edge_df0\n",
    "\n",
    "def next_node_multi_1(target_contigs_list, idx):\n",
    "    ## find the next node of multiplicity 1 after the index: idx\n",
    "    current_idx = idx + 1\n",
    "    while(get_node_coverage(target_contigs_list[current_idx]) >= 25.0):\n",
    "        current_idx += 1\n",
    "    return target_contigs_list[current_idx]"
   ]
  },
  {
   "cell_type": "code",
   "execution_count": null,
   "id": "9b8f97b5-4d2a-4434-8382-408333b57cc2",
   "metadata": {},
   "outputs": [],
   "source": [
    "# target_contigs_multi_1"
   ]
  },
  {
   "cell_type": "code",
   "execution_count": null,
   "id": "ac259408-6ad5-4400-acb5-3709bcf2c1a9",
   "metadata": {},
   "outputs": [],
   "source": [
    "assembly_graph = pangraph.assembly_graph\n",
    "for i in range(len(target_contigs_list)-1):\n",
    "    print('---------------------- i =', i, '---------------------------------------------')\n",
    "    node1 = target_contigs_list[i]\n",
    "    node2 = target_contigs_list[i+1]\n",
    "    print(target_contigs_sorted[i],'::::::::', target_contigs_sorted[i+1])\n",
    "    source_id = 'C-' + str(pangraph.tail_contig[node1])\n",
    "    target_id = 'C-' + str(pangraph.head_contig[node2]) \n",
    "    source_node = node1 + pangraph.strand[node1]\n",
    "    target_node = node2 + pangraph.strand[node2]\n",
    "    \n",
    "    if assembly_graph.has_node(source_node) and assembly_graph.has_node(target_node):\n",
    "        print(\"Is there a path in the assembly graph? \", end ='')\n",
    "        print(nx.has_path(assembly_graph, source_node, target_node), end = ',')   \n",
    "        if nx.has_path(assembly_graph, source_node, target_node):\n",
    "            path_nucleotides = -1\n",
    "            path = nx.shortest_path(assembly_graph, source=source_node, target=target_node)\n",
    "            for idxp in range(1, len(path)-1):\n",
    "                path_nucleotides = path_nucleotides + int(path[idxp].split(\"_\")[3])\n",
    "            print(' number of nucleotides: ', path_nucleotides)\n",
    "        else:\n",
    "            print('<----xxxxxxxxxxxxxxxxxxxxxxxxxxxxxxxxxxxxx')\n",
    "    print(\"Is there a path in the pangenome graph? \", end ='')\n",
    "    if nx.has_path(pangraph.H, source_id, target_id):\n",
    "        p = nx.shortest_path(pangraph.H, source=source_id, target=target_id)\n",
    "        weight_p = 0.0\n",
    "        for node_p_idx in range(len(p)-1):\n",
    "            weight_p += pangraph.H[p[node_p_idx]][p[node_p_idx+1]]['weight']\n",
    "        if len(p) >= 2:\n",
    "            weight_p = 0.05 + weight_p/float((len(p)-1)*(len(p)-1))\n",
    "        print(\"Yes!, cost = \", weight_p)\n",
    "    else:\n",
    "        print(\"No path in Pangraph\")\n",
    "    print(\"Real cost between the two contigs: \", end ='')\n",
    "    get_value(pangraph.edge_df0, node1, node2)\n",
    "        \n",
    "#     if get_node_coverage(node2) >= 25.0:\n",
    "#         print('**************************************************')\n",
    "#         node2 = next_node_multi_1(target_contigs_list, i+1)\n",
    "#         print(node1, node2)\n",
    "#         source_id = 'C-' + str(pangraph.tail_contig[node1])\n",
    "#         target_id = 'C-' + str(pangraph.head_contig[node2]) \n",
    "#         source_node = node1 + pangraph.strand[node1]\n",
    "#         target_node = node2 + pangraph.strand[node2]\n",
    "#         get_value(pangraph.edge_df0, node1, node2)\n",
    "#         if nx.has_path(pangraph.H, source_id, target_id):\n",
    "#             p = nx.shortest_path(pangraph.H, source=source_id, target=target_id)\n",
    "#             weight_p = 0.0\n",
    "#             for node_p_idx in range(len(p)-1):\n",
    "#                 weight_p += pangraph.H[p[node_p_idx]][p[node_p_idx+1]]['weight']\n",
    "#             if len(p) >= 2:\n",
    "#                 weight_p = 0.05 + weight_p/float((len(p)-1)*(len(p)-1))\n",
    "#             print(weight_p)\n",
    "#         else:\n",
    "#             print(\"No path in Pangraph\")\n",
    "#         if assembly_graph.has_node(source_node) and assembly_graph.has_node(target_node):\n",
    "#             print(\"Is there a path in the assembly graph? \", end ='')\n",
    "#             print(nx.has_path(assembly_graph, source_node, target_node), end = ',')   \n",
    "#             if nx.has_path(assembly_graph, source_node, target_node):\n",
    "#                 path_nucleotides = -1\n",
    "#                 path = nx.shortest_path(assembly_graph, source=source_node, target=target_node)\n",
    "#                 for idxp in range(1, len(path)-1):\n",
    "#                     path_nucleotides = path_nucleotides + int(path[idxp].split(\"_\")[3])\n",
    "#                 print(\"Number of nucleo: \",  path_nucleotides) #len(path)\n",
    "#             else:\n",
    "#                 print('xxxxxxxxxxxxxxxxxxxxxxxxxxxxxxxxxxxxxxxxxxxxxxxxxxxx')\n",
    "            \n",
    "    \n",
    "    #     # sum_len = 0\n",
    "    #     # if nx.has_path(pangraph.H, source_id, target_id) or nx.has_path(assembly_graph, source_node, target_node):\n",
    "    #     #     sum_len += int(final_df.iloc[i,1])\n",
    "    #     #     print(sum_len, end='')\n",
    "    # else:\n",
    "    #     print(\"Restart............................................\")\n",
    "    #     sum_len = 0\n",
    "    # # print('')"
   ]
  },
  {
   "cell_type": "code",
   "execution_count": null,
   "id": "fd836ce1-8041-4358-b4b7-d2f115504794",
   "metadata": {},
   "outputs": [],
   "source": [
    "# pangraph.edge_df0"
   ]
  },
  {
   "cell_type": "code",
   "execution_count": null,
   "id": "cdd5a316-4e67-4a95-b446-1bf353165396",
   "metadata": {},
   "outputs": [],
   "source": [
    "# pangraph.edge_df0['source'].values"
   ]
  },
  {
   "cell_type": "code",
   "execution_count": null,
   "id": "5ba67867-330c-4f52-8220-b3fab4304976",
   "metadata": {},
   "outputs": [],
   "source": [
    "## Xet chieu trong trinh dai dien de sua roi inversion."
   ]
  },
  {
   "cell_type": "code",
   "execution_count": null,
   "id": "c1fd520a-b726-4bf7-a734-bd53423fb71e",
   "metadata": {},
   "outputs": [],
   "source": [
    "# Gui 3 file reference + 1 test sample"
   ]
  },
  {
   "cell_type": "code",
   "execution_count": null,
   "id": "d4f9b8d7-c5b9-429a-934a-7a7ca2cb5ffc",
   "metadata": {},
   "outputs": [],
   "source": [
    "# import glob\n",
    "# import os\n",
    "# list_file = glob.glob(\"/data/hoan/amromics/genome-graph/scaffold_output/quastResults_Kp50random_Kptest*/report.pdf\")"
   ]
  },
  {
   "cell_type": "code",
   "execution_count": null,
   "id": "a0bc3125-1500-4da8-8558-1b4816e8a2d6",
   "metadata": {},
   "outputs": [],
   "source": [
    "# for file in list_file:\n",
    "#     sample_id = file.split(\"/\")[-2].split(\"_\")[4]\n",
    "#     cmd = 'mv ' + file +' '+ file[:-10] + str(sample_id) + 't3.pdf'\n",
    "#     # print(cmd)\n",
    "#     os.system(cmd)"
   ]
  },
  {
   "cell_type": "code",
   "execution_count": null,
   "id": "17ee823a-c562-4d16-a0dc-e841c6e95c88",
   "metadata": {},
   "outputs": [],
   "source": []
  }
 ],
 "metadata": {
  "kernelspec": {
   "display_name": "Environment (panta)",
   "language": "python",
   "name": "panta"
  },
  "language_info": {
   "codemirror_mode": {
    "name": "ipython",
    "version": 3
   },
   "file_extension": ".py",
   "mimetype": "text/x-python",
   "name": "python",
   "nbconvert_exporter": "python",
   "pygments_lexer": "ipython3",
   "version": "3.7.10"
  }
 },
 "nbformat": 4,
 "nbformat_minor": 5
}
