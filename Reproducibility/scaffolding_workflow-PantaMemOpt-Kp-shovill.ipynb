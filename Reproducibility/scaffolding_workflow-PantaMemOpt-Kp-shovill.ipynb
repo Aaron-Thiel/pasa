{
 "cells": [
  {
   "cell_type": "code",
   "execution_count": 1,
   "id": "8bbaa39d-c138-4e17-b086-13e0820e0c21",
   "metadata": {},
   "outputs": [],
   "source": [
    "## Idea: Using length + coverage in the scoring function"
   ]
  },
  {
   "cell_type": "code",
   "execution_count": 2,
   "id": "adc90909-d41c-4101-b704-29101244d823",
   "metadata": {},
   "outputs": [],
   "source": [
    "import os\n",
    "import traceback\n",
    "import logging\n",
    "import os.path\n",
    "import networkx as nx\n",
    "import pandas as pd\n",
    "import numpy as np\n",
    "import pylab as pl\n",
    "from matplotlib import collections  as mc\n",
    "import glob\n",
    "import re\n",
    "import csv\n",
    "import shutil"
   ]
  },
  {
   "cell_type": "code",
   "execution_count": 3,
   "id": "7fbbffad-ccc0-42d5-a21d-58956f666e4c",
   "metadata": {},
   "outputs": [],
   "source": [
    "# from pangraph.utils import overlap\n",
    "# overlap(\"AAAAAAAAAAAAAAAAAAAAAAAAAAAAAAAAAAAAAAAAAAA1AAAAA\", \"AAAAAA1BBBBBBBBBBBBBBBBBBBBBBBBBBBBBBBBBBBBB\")"
   ]
  },
  {
   "cell_type": "code",
   "execution_count": 54,
   "id": "db592900-d9b6-48a3-a1d3-2c698cb71b4d",
   "metadata": {},
   "outputs": [],
   "source": [
    "# simversion = '_v01'\n",
    "simversion = '_plasmid_v01'\n",
    "simversionPangraph = '_assemBiGraph2_v01' \n",
    "# 1 True, 0 False\n",
    "run_prokka = 0\n",
    "art_simulator = 0\n",
    "run_art = 0\n",
    "run_spades = 0\n",
    "run_shovill = 0\n",
    "run_panta = 1\n",
    "split_paralogs = 1\n",
    "run_multicsar = 0\n",
    "run_ragout = 0\n",
    "run_pangraph = 1\n",
    "# pangenome_data = '/data/hoan/amromics/data/ncbi/Kq_full/'\n",
    "pangenome_data = '/data/hoan/amromics/data/ncbi/Kp50random/'\n",
    "scaffold_out_dir = '/data/hoan/amromics/genome-graph/scaffold_output/'"
   ]
  },
  {
   "cell_type": "code",
   "execution_count": 5,
   "id": "99d38323-909c-4503-b4ac-a32fdbbd7f3c",
   "metadata": {},
   "outputs": [],
   "source": [
    "## Please make a directory for prokka in the pangenome_data"
   ]
  },
  {
   "cell_type": "code",
   "execution_count": 6,
   "id": "c312fb56-6eb1-4737-8f81-76b3a4ced570",
   "metadata": {},
   "outputs": [
    {
     "name": "stdout",
     "output_type": "stream",
     "text": [
      "Use the correct database for the species:   --genus Klebsiella --species pneumoniae --cpus 30\n",
      "Use the correct database for the species:   --genus Klebsiella --species pneumoniae --cpus 30\n"
     ]
    }
   ],
   "source": [
    "if 'Kp' in pangenome_data:\n",
    "    data_base = ' --genus Klebsiella --species pneumoniae --cpus 30'\n",
    "elif 'Ecoli' in pangenome_data:\n",
    "    data_base = ' --genus Escherichia --species coli --cpus 30'\n",
    "else:\n",
    "    data_base = ' --cpus 30'\n",
    "prokka_target_dir = '/data/hoan/amromics/data/ncbi/Ecolitest/prokka/'\n",
    "scaffold_out_dir = '/data/hoan/amromics/genome-graph/scaffold_output/'\n",
    "print(\"Use the correct database for the species: \", data_base)\n",
    "print(\"Use the correct database for the species: \", data_base)"
   ]
  },
  {
   "cell_type": "code",
   "execution_count": 7,
   "id": "70de34db-9a3f-4d08-bc34-b7f6699e11e8",
   "metadata": {},
   "outputs": [],
   "source": [
    "try:\n",
    "    %load_ext autoreload\n",
    "    %autoreload 2\n",
    "except Exception as e:\n",
    "    logging.error(traceback.format_exc())"
   ]
  },
  {
   "cell_type": "code",
   "execution_count": 8,
   "id": "f1472df6-9eb9-424b-8928-03c99e41c0f8",
   "metadata": {},
   "outputs": [],
   "source": [
    "output_dir = pangenome_data + 'temp'\n",
    "prokka_dir = pangenome_data + 'prokka'\n",
    "conda_dir = 'source ~/miniconda3/etc/profile.d/conda.sh && conda activate amromics && '\n",
    "if run_prokka:\n",
    "    fffile = pangenome_data + 'fna/*.fna'\n",
    "    list_database = glob.glob(fffile)\n",
    "    for i in range(len(list_database)):\n",
    "        input_data = list_database[i]\n",
    "        print(input_data)\n",
    "        file_name = input_data.split(\"/\")[-1][:-4]\n",
    "        prokka_bin = conda_dir + 'prokka --outdir ' + output_dir +data_base +' --prefix ' + file_name +' '+input_data\n",
    "        os.system(prokka_bin)\n",
    "        os.system('cp ' + output_dir + '/'+file_name+'.gff ' + prokka_dir)\n",
    "        os.system('rm -r '+ output_dir)"
   ]
  },
  {
   "cell_type": "code",
   "execution_count": 9,
   "id": "83547e3c-c2c2-42e8-9666-b3a1cff1dcad",
   "metadata": {},
   "outputs": [],
   "source": [
    "if 1:\n",
    "    os.system('rm -r ' + pangenome_data + 'fna/')\n",
    "    os.system('mkdir ' + pangenome_data + 'fna/')\n",
    "    os.system('cp -r '+ pangenome_data + '*.fna.gz '+ pangenome_data + 'fna/')\n",
    "    os.system('~/miniconda3/envs/panta/bin/gzip -d ' + pangenome_data + 'fna/*.fna.gz')"
   ]
  },
  {
   "cell_type": "code",
   "execution_count": 10,
   "id": "b5c4219e-b96b-4e69-9545-8c8e1e67de28",
   "metadata": {},
   "outputs": [],
   "source": [
    "# ### Run ART simulator\n",
    "# art_simulator = 1\n",
    "# sim_dir = '/data/hoan/amromics/simulation/'\n",
    "# art_bin = '/data/hoan/amromics/simulation/art_bin/./art_illumina'\n",
    "# ref_data = '/data/hoan/amromics/data/ncbi/Ecolitest/GCF_002899495.1_ASM289949v1_genomic.fna'      # test 2\n",
    "# sim_name = ref_data.split(\"/\")[-2] + '_' + ref_data.split(\"/\")[-1][:-1][:13]\n",
    "# sim_output = '/data/hoan/amromics/simulation/art_output/sim_reads_' + sim_name + simversion[-4:]\n",
    "# if run_art: \n",
    "#     if simversion[-3:]=='v01':\n",
    "#         os.system(art_bin+' -ss HS20 -sam -i '+ref_data+' -p -l 100 -f 70 -m 400 -s 60 -o '+sim_output) # _v01\n",
    "#     if simversion[-3:]=='v02':\n",
    "#         os.system(art_bin+' -ss HS20 -sam -i '+ref_data+' -p -l 100 -f 70 -m 400 -s 10 -o '+sim_output) # _v02\n",
    "#     if simversion[-3:]=='v03':\n",
    "#         os.system(art_bin+' -ss MSv3 -sam -i '+ref_data+' -p -l 250 -f 70 -m 400 -s 60 -o '+sim_output) # _v03\n",
    "#     if simversion[-3:]=='v04':\n",
    "#         os.system(art_bin+' -ss MSv3 -sam -i '+ref_data+' -p -l 250 -f 70 -m 400 -s 10 -o '+sim_output) # _v04"
   ]
  },
  {
   "cell_type": "markdown",
   "id": "87fd93fb-e2d0-4f37-92b0-7f39bf9e37c5",
   "metadata": {},
   "source": [
    "### Run SPADES assembly"
   ]
  },
  {
   "cell_type": "code",
   "execution_count": 11,
   "id": "7c671bc5-22ad-4770-950a-3dd61e11cebc",
   "metadata": {},
   "outputs": [
    {
     "name": "stdout",
     "output_type": "stream",
     "text": [
      "Ref data:  /data/hoan/amromics/data/ncbi/Kp_BAA-2146/refSeq/GCF_000364385.3_ASM36438v3_genomic.fna\n",
      "/data/hoan/amromics/data/ncbi/Kp_BAA-2146/reads_data/ERR1474547_\n"
     ]
    }
   ],
   "source": [
    "ref_data = \"/data/hoan/amromics/data/ncbi/Kp_BAA-2146/refSeq/GCF_000364385.3_ASM36438v3_genomic.fna\"\n",
    "read_input = '/data/hoan/amromics/data/ncbi/Kp_BAA-2146/reads_data/ERR1474547_'\n",
    "# ref_data = \"/data/hoan/amromics/data/ncbi/paired_data/kq_700603/GCF_001596075.2_ASM159607v2_genomic.fna\"\n",
    "# read_input = '/data/hoan/amromics/data/ncbi/paired_data/kq_700603/ERR1474548_'\n",
    "print(\"Ref data: \", ref_data)\n",
    "if art_simulator:\n",
    "    sim_name = ref_data.split(\"/\")[-2] + '_' + ref_data.split(\"/\")[-1][:-1][:13]\n",
    "else:\n",
    "    sim_name = ref_data.split(\"/\")[-2] + '_' + ref_data.split(\"/\")[-1][:-1][:13] +'_'+ read_input.split(\"/\")[-1]\n",
    "print(read_input)"
   ]
  },
  {
   "cell_type": "code",
   "execution_count": 12,
   "id": "6f964b5f-7c00-4c9b-b8d7-e6c3316e8ee3",
   "metadata": {},
   "outputs": [
    {
     "data": {
      "text/plain": [
       "'refSeq_GCF_000364385_ERR1474547_'"
      ]
     },
     "execution_count": 12,
     "metadata": {},
     "output_type": "execute_result"
    }
   ],
   "source": [
    "sim_name"
   ]
  },
  {
   "cell_type": "code",
   "execution_count": 13,
   "id": "9a8c3d4c-9b2a-484c-a1c8-60acf3e64766",
   "metadata": {},
   "outputs": [],
   "source": [
    "# spades_output = '/data/hoan/amromics/simulation/art_output/' + 'spades_output_' + sim_name + simversion[-4:]\n",
    "spades_output = '/data/hoan/amromics/simulation/art_output/' + 'spades_output_' + sim_name + simversion[-4:]"
   ]
  },
  {
   "cell_type": "code",
   "execution_count": 14,
   "id": "2fa102dd-f8b3-49f6-a2d4-e89689a72d8f",
   "metadata": {},
   "outputs": [],
   "source": [
    "if run_spades:\n",
    "    spades_bin ='~/miniconda3/envs/amromics/bin/spades.py'\n",
    "    # os.system(spades_bin+' --isolate -1 '+sim_output+'1.fq -2 '+sim_output+'2.fq -t 50 -o '+spades_output)\n",
    "    os.system(spades_bin+' --isolate -1 '+read_input+'1.fastq -2 '+read_input+'2.fastq -t 50 -o '+spades_output)"
   ]
  },
  {
   "cell_type": "markdown",
   "id": "4bccc93a-444a-44c7-8f0f-9b5d6c10df4a",
   "metadata": {},
   "source": [
    "### Run Shovill"
   ]
  },
  {
   "cell_type": "code",
   "execution_count": 15,
   "id": "8d11366f-ac35-49bf-a00e-2fedd1e69d88",
   "metadata": {},
   "outputs": [],
   "source": [
    "shovill_output = '/data/hoan/amromics/simulation/art_output/' + 'shovill_output_' + sim_name + simversion[-4:]\n",
    "shovill_cmd = conda_dir + 'shovill --R1 '+read_input+'1.fastq --R2 '+read_input+'2.fastq --depth 200 --outdir '+shovill_output+' --keepfiles --cpus 8 --ram 28 --trim'"
   ]
  },
  {
   "cell_type": "code",
   "execution_count": 16,
   "id": "d4bdc852-0273-49da-b633-476e64716cc8",
   "metadata": {},
   "outputs": [
    {
     "name": "stdout",
     "output_type": "stream",
     "text": [
      "Change SPADES to Shovill\n"
     ]
    }
   ],
   "source": [
    "spades_output = shovill_output + '/spades'\n",
    "print(\"Change SPADES to Shovill\")"
   ]
  },
  {
   "cell_type": "code",
   "execution_count": 17,
   "id": "73cd9f0b-0390-4451-901e-89bb1d996542",
   "metadata": {},
   "outputs": [
    {
     "data": {
      "text/plain": [
       "'/data/hoan/amromics/simulation/art_output/shovill_output_refSeq_GCF_000364385_ERR1474547__v01/spades'"
      ]
     },
     "execution_count": 17,
     "metadata": {},
     "output_type": "execute_result"
    }
   ],
   "source": [
    "spades_output"
   ]
  },
  {
   "cell_type": "code",
   "execution_count": 18,
   "id": "e2bdeb3f-4196-440f-8b01-48008dd4fdd1",
   "metadata": {},
   "outputs": [],
   "source": [
    "if run_shovill:\n",
    "    os.system('rm -r ' + shovill_output)\n",
    "    os.system(shovill_cmd)"
   ]
  },
  {
   "cell_type": "code",
   "execution_count": 19,
   "id": "411ee0cf-b17b-4ce4-8afc-3f901e123feb",
   "metadata": {},
   "outputs": [],
   "source": [
    "if run_shovill:\n",
    "    ## Convert shovill output to the SPADES\n",
    "    parent_dir = shovill_output + '/'\n",
    "    input_file = parent_dir + 'contigs.fa'; filenameOut = parent_dir + 'spades/contigs.fasta'\n",
    "    import textwrap\n",
    "    from Bio import SeqIO\n",
    "    with open(filenameOut, \"w\") as outfile:\n",
    "        for seq_record in SeqIO.parse(input_file, \"fasta\"): \n",
    "            # print(seq_record.id)\n",
    "            # value = str(repr(seq_record.seq))\n",
    "            value = str(seq_record.seq)\n",
    "            # print(value)\n",
    "            key = seq_record.description.split(' ')[4][9:-6]\n",
    "            outfile.write(\">\")\n",
    "            outfile.write(key + \"\\n\")\n",
    "            outfile.write(\"\\n\".join(textwrap.wrap(value, 60)))\n",
    "            outfile.write(\"\\n\")"
   ]
  },
  {
   "cell_type": "code",
   "execution_count": null,
   "id": "03331913-0173-427b-92a9-37fb8bbdcbf0",
   "metadata": {},
   "outputs": [],
   "source": []
  },
  {
   "cell_type": "markdown",
   "id": "810a07c5-1c26-4c6f-9f60-bcf6aae01147",
   "metadata": {},
   "source": [
    "### Run panta"
   ]
  },
  {
   "cell_type": "code",
   "execution_count": 20,
   "id": "97033d06-5c90-4760-a312-d6c129cf00d0",
   "metadata": {},
   "outputs": [
    {
     "data": {
      "text/plain": [
       "'_Kp50random_refSeq_GCF_000364385_ERR1474547__plasmid_v01'"
      ]
     },
     "execution_count": 20,
     "metadata": {},
     "output_type": "execute_result"
    }
   ],
   "source": [
    "simversionRef = '_'+ pangenome_data.split('/')[-2] +'_'+ sim_name + simversion\n",
    "simversionRef"
   ]
  },
  {
   "cell_type": "code",
   "execution_count": null,
   "id": "9421e4e9-36ed-4ec5-a6bb-72448074c4a8",
   "metadata": {},
   "outputs": [],
   "source": [
    "if 1:\n",
    "    conda_dir = 'source ~/miniconda3/etc/profile.d/conda.sh && conda activate amromics && '\n",
    "    input_data = spades_output + '/contigs.fasta'\n",
    "    os.system('rm -r ' + prokka_target_dir +'temp/')\n",
    "    prokka_bin = conda_dir + 'prokka --outdir ' + prokka_target_dir +'temp' +data_base +' --prefix ' + sim_name +' '+input_data\n",
    "    os.system(prokka_bin)\n",
    "    os.system('cp ' + prokka_target_dir +'temp/'+sim_name+'.gff ' + prokka_target_dir + 'g1.gff')\n",
    "    os.system('cp ' + prokka_target_dir +'temp/'+sim_name+'.gff ' + prokka_target_dir + sim_name+'.gff')\n",
    "    os.system('rm -r ' + prokka_target_dir +'temp/')\n",
    "    print(prokka_bin)"
   ]
  },
  {
   "cell_type": "code",
   "execution_count": 22,
   "id": "e0dba6a4-c720-412c-8b83-826f926c6e89",
   "metadata": {},
   "outputs": [],
   "source": [
    "from pangraph.utils import export_metadata"
   ]
  },
  {
   "cell_type": "code",
   "execution_count": 55,
   "id": "ade2e475-0f72-47d5-b504-78883539e07b",
   "metadata": {},
   "outputs": [
    {
     "name": "stdout",
     "output_type": "stream",
     "text": [
      "source ~/miniconda3/etc/profile.d/conda.sh && conda activate panta && python /data/hoan/amromics/panta_memopt_v2/panta/pan-genome.py main -o /data/hoan/amromics/genome-graph/scaffold_output/pantaOut/pantaOut_Kp50random_refSeq_GCF_000364385_ERR1474547__plasmid_v01 -g /data/hoan/amromics/data/ncbi/Kp50random/prokka/*.gff\n"
     ]
    },
    {
     "name": "stderr",
     "output_type": "stream",
     "text": [
      "03:26:30 INFO : Extract protein -- time taken 0:00:05.088322\n",
      "03:26:30 INFO : Extract protein -- time taken 0:00:05.319687\n",
      "03:26:33 INFO : Combine protein -- time taken 0:00:02.773157\n",
      "03:26:33 INFO : Running \"cd-hit -i /data/hoan/amromics/genome-graph/scaffold_output/pantaOut/pantaOut_Kp50random_refSeq_GCF_000364385_ERR1474547__plasmid_v01/temp/combined.faa -o /data/hoan/amromics/genome-graph/scaffold_output/pantaOut/pantaOut_Kp50random_refSeq_GCF_000364385_ERR1474547__plasmid_v01/temp/cd-hit_tmp.fasta -s 0.98 -c 0.98 -T 72 -M 0 -g 1 -d 256 > /dev/null\n",
      "03:27:00 INFO : Run CD-HIT with 98% identity part 1 -- time taken 0:00:26.796279\n",
      "03:27:00 INFO : Run CD-HIT with 98% identity part 1 -- time taken 0:00:27.011327\n",
      "03:27:01 INFO : Run CD-HIT with 98% identity -- time taken 0:00:27.302478\n",
      "03:27:01 INFO : len cd_hit_clusters = 20165\n",
      "03:27:01 INFO : Running \"diamond makedb --in /data/hoan/amromics/genome-graph/scaffold_output/pantaOut/pantaOut_Kp50random_refSeq_GCF_000364385_ERR1474547__plasmid_v01/temp/cd-hit.fasta -d /data/hoan/amromics/genome-graph/scaffold_output/pantaOut/pantaOut_Kp50random_refSeq_GCF_000364385_ERR1474547__plasmid_v01/temp/blast/diamond_db -p 72 --quiet\n",
      "03:27:01 INFO : Running \"diamond blastp -q /data/hoan/amromics/genome-graph/scaffold_output/pantaOut/pantaOut_Kp50random_refSeq_GCF_000364385_ERR1474547__plasmid_v01/temp/cd-hit.fasta -d /data/hoan/amromics/genome-graph/scaffold_output/pantaOut/pantaOut_Kp50random_refSeq_GCF_000364385_ERR1474547__plasmid_v01/temp/blast/diamond_db -p 72 --evalue 1e-06 --outfmt 6 qseqid sseqid pident length mismatch gapopen qstart qend sstart send evalue bitscore qlen slen --max-target-seqs 2000 2> /dev/null 1> /data/hoan/amromics/genome-graph/scaffold_output/pantaOut/pantaOut_Kp50random_refSeq_GCF_000364385_ERR1474547__plasmid_v01/temp/blast/diamond.tsv\n",
      "03:27:03 INFO : Protein alignment with Diamond -- time taken 0:00:02.328534\n",
      "03:27:03 INFO : Running \"mcxdeblast -m9 --score r --line-mode=abc /data/hoan/amromics/genome-graph/scaffold_output/pantaOut/pantaOut_Kp50random_refSeq_GCF_000364385_ERR1474547__plasmid_v01/temp/filtered_blast_results 2> /dev/null | mcl - --abc -I 1.5 -te 71 -o /data/hoan/amromics/genome-graph/scaffold_output/pantaOut/pantaOut_Kp50random_refSeq_GCF_000364385_ERR1474547__plasmid_v01/temp/mcl_clusters > /dev/null 2>&1\n",
      "03:27:10 INFO : Cluster with MCL -- time taken 0:00:06.444381\n",
      "03:27:10 INFO : Reinflate clusters -- time taken 0:00:00.079178\n",
      "03:27:10 INFO : len inflated_clusters = 11276 len clusters = 20165\n",
      "03:27:10 INFO : Number of clusters before spliting 11276\n",
      "03:27:16 INFO : Number of clusters after spliting 15281\n",
      "03:27:16 INFO : Split paralogs -- time taken 0:00:06.264806\n",
      "03:27:16 INFO : len split_clusters = 15281\n",
      "03:27:18 INFO : Annotate clusters -- time taken 0:00:01.787648\n",
      "03:27:18 INFO : Create spreadsheet -- time taken 0:00:00.652412\n",
      "03:27:19 INFO : Create Rtab -- time taken 0:00:00.396103\n",
      "03:27:19 INFO : Create summary -- time taken 0:00:00.047509\n",
      "03:27:19 INFO : Done -- time taken 0:00:54.117773\n"
     ]
    },
    {
     "name": "stdout",
     "output_type": "stream",
     "text": [
      "source ~/miniconda3/etc/profile.d/conda.sh && conda activate panta && python /data/hoan/amromics/panta_memopt_v2/panta/pan-genome.py add -c /data/hoan/amromics/genome-graph/scaffold_output/pantaOut/pantaOut_Kp50random_refSeq_GCF_000364385_ERR1474547__plasmid_v01 -g /data/hoan/amromics/data/ncbi/Ecolitest/prokka/refSeq_GCF_000364385_ERR1474547_.gff -s\n"
     ]
    },
    {
     "name": "stderr",
     "output_type": "stream",
     "text": [
      "03:27:22 INFO : Extract protein -- time taken 0:00:01.277265\n",
      "03:27:22 INFO : Extract protein -- time taken 0:00:01.542334\n",
      "03:27:22 INFO : Running \"/usr/bin/time --append -v -o time_cdhit2d_1684718842.42555.log bash -c \"cd-hit-2d -i /data/hoan/amromics/genome-graph/scaffold_output/pantaOut/pantaOut_Kp50random_refSeq_GCF_000364385_ERR1474547__plasmid_v01/representative.fasta -i2 /data/hoan/amromics/genome-graph/scaffold_output/pantaOut/pantaOut_Kp50random_refSeq_GCF_000364385_ERR1474547__plasmid_v01/temp/combined.faa -o /data/hoan/amromics/genome-graph/scaffold_output/pantaOut/pantaOut_Kp50random_refSeq_GCF_000364385_ERR1474547__plasmid_v01/temp/cd-hit-2d.fasta -s 0.98 -c 0.98 -T 72 -M 0 -g 1 -d 256 > /dev/null\"\n",
      "03:27:24 INFO : Run CD-HIT-2D with 98% identity -- time taken 0:00:02.179607\n",
      "03:27:24 INFO : Running \"cd-hit -i /data/hoan/amromics/genome-graph/scaffold_output/pantaOut/pantaOut_Kp50random_refSeq_GCF_000364385_ERR1474547__plasmid_v01/temp/cd-hit-2d.fasta -o /data/hoan/amromics/genome-graph/scaffold_output/pantaOut/pantaOut_Kp50random_refSeq_GCF_000364385_ERR1474547__plasmid_v01/temp/cd-hit.fasta -s 0.98 -c 0.98 -T 72 -M 0 -g 1 -d 256 > /dev/null\n",
      "03:27:25 INFO : Run CD-HIT with 98% identity -- time taken 0:00:00.570041\n",
      "03:27:25 INFO : Running \"diamond makedb --in /data/hoan/amromics/genome-graph/scaffold_output/pantaOut/pantaOut_Kp50random_refSeq_GCF_000364385_ERR1474547__plasmid_v01/representative.fasta -d /data/hoan/amromics/genome-graph/scaffold_output/pantaOut/pantaOut_Kp50random_refSeq_GCF_000364385_ERR1474547__plasmid_v01/temp/blast1/diamond_db -p 72 --quiet\n",
      "03:27:25 INFO : Running \"diamond blastp -q /data/hoan/amromics/genome-graph/scaffold_output/pantaOut/pantaOut_Kp50random_refSeq_GCF_000364385_ERR1474547__plasmid_v01/temp/cd-hit.fasta -d /data/hoan/amromics/genome-graph/scaffold_output/pantaOut/pantaOut_Kp50random_refSeq_GCF_000364385_ERR1474547__plasmid_v01/temp/blast1/diamond_db -p 72 --evalue 1e-06 --outfmt 6 qseqid sseqid pident length mismatch gapopen qstart qend sstart send evalue bitscore qlen slen --max-target-seqs 2000 2> /dev/null 1> /data/hoan/amromics/genome-graph/scaffold_output/pantaOut/pantaOut_Kp50random_refSeq_GCF_000364385_ERR1474547__plasmid_v01/temp/blast1/diamond.tsv\n",
      "03:27:25 INFO : Protein alignment with Diamond -- time taken 0:00:00.632968\n",
      "03:27:25 INFO : Running \"diamond makedb --in /data/hoan/amromics/genome-graph/scaffold_output/pantaOut/pantaOut_Kp50random_refSeq_GCF_000364385_ERR1474547__plasmid_v01/temp/cd-hit.fasta -d /data/hoan/amromics/genome-graph/scaffold_output/pantaOut/pantaOut_Kp50random_refSeq_GCF_000364385_ERR1474547__plasmid_v01/temp/blast2/diamond_db -p 72 --quiet\n",
      "03:27:25 INFO : Running \"diamond blastp -q /data/hoan/amromics/genome-graph/scaffold_output/pantaOut/pantaOut_Kp50random_refSeq_GCF_000364385_ERR1474547__plasmid_v01/temp/cd-hit.fasta -d /data/hoan/amromics/genome-graph/scaffold_output/pantaOut/pantaOut_Kp50random_refSeq_GCF_000364385_ERR1474547__plasmid_v01/temp/blast2/diamond_db -p 72 --evalue 1e-06 --outfmt 6 qseqid sseqid pident length mismatch gapopen qstart qend sstart send evalue bitscore qlen slen --max-target-seqs 2000 2> /dev/null 1> /data/hoan/amromics/genome-graph/scaffold_output/pantaOut/pantaOut_Kp50random_refSeq_GCF_000364385_ERR1474547__plasmid_v01/temp/blast2/diamond.tsv\n",
      "03:27:26 INFO : Protein alignment with Diamond -- time taken 0:00:00.386596\n",
      "03:27:26 INFO : Running \"mcxdeblast -m9 --score r --line-mode=abc /data/hoan/amromics/genome-graph/scaffold_output/pantaOut/pantaOut_Kp50random_refSeq_GCF_000364385_ERR1474547__plasmid_v01/temp/filtered_blast_results 2> /dev/null | mcl - --abc -I 1.5 -te 71 -o /data/hoan/amromics/genome-graph/scaffold_output/pantaOut/pantaOut_Kp50random_refSeq_GCF_000364385_ERR1474547__plasmid_v01/temp/mcl_clusters > /dev/null 2>&1\n",
      "03:27:32 INFO : Cluster with MCL -- time taken 0:00:06.421642\n",
      "03:27:32 INFO : len cd_hit_2d_clusters = 20165 len not_match_clusters = 210 len old_clusters = 20165\n",
      "03:27:33 INFO : Reinflate clusters -- time taken 0:00:00.291088\n",
      "03:27:33 INFO : len inflated_clusters = 11339 len new clusters = 20375\n",
      "03:27:35 INFO : Annotate clusters -- time taken 0:00:01.889981\n",
      "03:27:35 INFO : Create spreadsheet -- time taken 0:00:00.606172\n",
      "03:27:36 INFO : Create Rtab -- time taken 0:00:00.332632\n",
      "03:27:36 INFO : Create summary -- time taken 0:00:00.034435\n",
      "03:27:36 INFO : Done -- time taken 0:00:15.888673\n"
     ]
    }
   ],
   "source": [
    "pantaconda_dir = 'source ~/miniconda3/etc/profile.d/conda.sh && conda activate panta && '\n",
    "panta_bin =pantaconda_dir+'python /data/hoan/amromics/panta_memopt_v2/panta/pan-genome.py'\n",
    "# panta_bin =pantaconda_dir+'python /data/hoan/amromics/panta_memopt/pan-genome.py'\n",
    "panta_output = '/data/hoan/amromics/genome-graph/scaffold_output/pantaOut/pantaOut' + simversionRef\n",
    "# panta_output_temp = panta_output + '_temp'\n",
    "panta_input = pangenome_data +'prokka/*.gff'\n",
    "if run_panta:\n",
    "    os.system('rm -r '+panta_output)\n",
    "    # os.system('rm -r '+panta_output_temp)\n",
    "    # ## run all samples + new samples\n",
    "    # # os.system('rm -r '+panta_output)\n",
    "    # # os.system('rm -r '+panta_output_temp)\n",
    "    # # os.system('cp '+prokka_target_dir + sim_name+'.gff ' + pangenome_data +'prokka/')\n",
    "    # # # cmd_panta = panta_bin + ' main -o ' + panta_output +' -g ' + panta_input + ' -i 0.7'\n",
    "    # # cmd_panta = panta_bin + ' main -o ' + panta_output +' -g ' + panta_input \n",
    "    # # print(cmd_panta)\n",
    "    # # os.system(cmd_panta)\n",
    "    # export_metadata(panta_output)     \n",
    "   \n",
    "    ## Split into 2 steps\n",
    "    # os.system('cp '+prokka_target_dir + sim_name+'.gff ' + pangenome_data +'prokka/')\n",
    "    cmd_panta = panta_bin + ' main -o ' + panta_output +' -g ' + panta_input #+ ' -s'\n",
    "    print(cmd_panta)\n",
    "    os.system(cmd_panta)\n",
    "    \n",
    "    ## Copy to temp directory\n",
    "   # os.system('rm -r '+panta_output_temp)\n",
    "   # os.system('cp -R '+ panta_output + ' ' + panta_output_temp)\n",
    "    cmd_panta = panta_bin + ' add -c ' + panta_output +' -g ' + prokka_target_dir + sim_name+'.gff -s'\n",
    "    print(cmd_panta)\n",
    "    os.system(cmd_panta)\n",
    "    export_metadata(panta_output)"
   ]
  },
  {
   "cell_type": "code",
   "execution_count": 56,
   "id": "7e038427-ddc2-414d-a6f3-63576b01da3e",
   "metadata": {},
   "outputs": [
    {
     "name": "stderr",
     "output_type": "stream",
     "text": [
      "rm: cannot remove ‘/data/hoan/amromics/data/ncbi/Kp50random/prokka/refSeq_GCF_000364385_ERR1474547_.gff’"
     ]
    },
    {
     "data": {
      "text/plain": [
       "256"
      ]
     },
     "execution_count": 56,
     "metadata": {},
     "output_type": "execute_result"
    },
    {
     "name": "stderr",
     "output_type": "stream",
     "text": [
      ": No such file or directory\n"
     ]
    }
   ],
   "source": [
    "os.system('rm '+ pangenome_data +'prokka/' + sim_name+'.gff')"
   ]
  },
  {
   "cell_type": "code",
   "execution_count": 57,
   "id": "ea6a8cb3-3333-465b-99ed-e782f49b1b1b",
   "metadata": {},
   "outputs": [
    {
     "data": {
      "text/plain": [
       "'/data/hoan/amromics/data/ncbi/Ecolitest/prokka/refSeq_GCF_000364385_ERR1474547_'"
      ]
     },
     "execution_count": 57,
     "metadata": {},
     "output_type": "execute_result"
    }
   ],
   "source": [
    "prokka_target_dir + sim_name"
   ]
  },
  {
   "cell_type": "markdown",
   "id": "00da366b-5605-4068-ac1d-9dd1162f316e",
   "metadata": {
    "tags": []
   },
   "source": [
    "### Run pangraph"
   ]
  },
  {
   "cell_type": "code",
   "execution_count": 58,
   "id": "5ade0fe7-9980-4e5f-b93b-c3faef84950e",
   "metadata": {},
   "outputs": [
    {
     "name": "stdout",
     "output_type": "stream",
     "text": [
      "The autoreload extension is already loaded. To reload it, use:\n",
      "  %reload_ext autoreload\n"
     ]
    }
   ],
   "source": [
    "try:\n",
    "    %load_ext autoreload\n",
    "    %autoreload 2\n",
    "except Exception as e:\n",
    "    logging.error(traceback.format_exc())\n",
    "from pangraph import PanGraph"
   ]
  },
  {
   "cell_type": "code",
   "execution_count": 59,
   "id": "d1862260-72f1-4641-b810-94b4123a86ac",
   "metadata": {},
   "outputs": [],
   "source": [
    "# set parameters\n",
    "data_dir = panta_output \n",
    "# incomplete_sample_name = 'g1'\n",
    "incomplete_sample_name = sim_name\n",
    "assem_dir = spades_output\n",
    "fasta_gen = 'partial' # 'all', 'partial'"
   ]
  },
  {
   "cell_type": "code",
   "execution_count": 60,
   "id": "dfd3bc62-c654-4354-96c9-67a9bbfa0b5e",
   "metadata": {},
   "outputs": [],
   "source": [
    "simversionRefNew = '_'+ pangenome_data.split('/')[-2] +'_'+ sim_name + simversionPangraph\n",
    "# pangraph_output_greedy_default = scaffold_out_dir + 'pangraph_greedy'+ simversionRef + '.fasta'\n",
    "# pangraph_output_opt_default = scaffold_out_dir + 'pangraph_opt'+ simversionRef + '.fasta'\n",
    "pangraph_output_sensitive = scaffold_out_dir + 'pangraph_sensitive'+ simversionRefNew + '.fasta'\n",
    "pangraph_output_default = scaffold_out_dir + 'pangraph_default'+ simversionRefNew + '.fasta'\n",
    "pangraph_output_opt = scaffold_out_dir + 'pangraph_opt'+ simversionRefNew + '.fasta'"
   ]
  },
  {
   "cell_type": "code",
   "execution_count": 61,
   "id": "fe6ce286-85ad-4f8f-ab7f-401a0677b0ab",
   "metadata": {},
   "outputs": [
    {
     "data": {
      "text/plain": [
       "'refSeq_GCF_000364385_ERR1474547_'"
      ]
     },
     "execution_count": 61,
     "metadata": {},
     "output_type": "execute_result"
    }
   ],
   "source": [
    "incomplete_sample_name"
   ]
  },
  {
   "cell_type": "code",
   "execution_count": 62,
   "id": "3cd0c419-61b2-4b80-8e6b-46d000ee3ff8",
   "metadata": {},
   "outputs": [
    {
     "data": {
      "text/plain": [
       "'/data/hoan/amromics/genome-graph/scaffold_output/pangraph_opt_Kp50random_refSeq_GCF_000364385_ERR1474547__assemBiGraph2_v01.fasta'"
      ]
     },
     "execution_count": 62,
     "metadata": {},
     "output_type": "execute_result"
    }
   ],
   "source": [
    "pangraph_output_opt"
   ]
  },
  {
   "cell_type": "code",
   "execution_count": 63,
   "id": "6af1a8d2-627e-42d8-8ae2-3d3976b54667",
   "metadata": {},
   "outputs": [
    {
     "name": "stdout",
     "output_type": "stream",
     "text": [
      "_BiGR0.3 ------------------------------------------------------------------\n",
      "Should we use target sequence as reference, hence, the strand will be ok\n",
      "Set minimum on number of nucleotides =  10 NUMBER OF COMPUTED CONTIGS: 273\n",
      "Clip the matrix 0.2 !!!!!!!!!!!!!!!!!!!!!!!!!!!!!!!!!!\n",
      "Use modified  assembly graph\n",
      "Use union graph: overlap + assembly: done\n",
      "Re-infer the contigs strand: NO\n",
      "Reduce the cost by 1/2 if there is no path in the assembly graph\n",
      "NOT long_range_dependancy\n",
      "Will test this, Ok?\n",
      "Will test this, Ok?\n",
      "Will test this, Ok?\n",
      "Will test this, Ok?\n",
      "Will test this, Ok?\n",
      "Will test this, Ok?\n",
      "Will test this, Ok?\n",
      "Success! File written\n"
     ]
    }
   ],
   "source": [
    "PASAversion = '_BiGR0.3'; MLR = 0; SInfer = 0; min_weight_val = 0.3; \n",
    "simversionRefNew = '_'+ pangenome_data.split('/')[-2] +'_'+ sim_name + PASAversion \n",
    "if run_pangraph:\n",
    "    print(PASAversion, '------------------------------------------------------------------')\n",
    "    # https://stackoverflow.com/questions/4990718/how-can-i-write-a-try-except-block-that-catches-all-exceptions\n",
    "    pangraph = PanGraph(sample_info=None, gene_info=None, gene_position=None)\n",
    "    try:\n",
    "        maximum_matching = 'greedy'\n",
    "        pangraph.run_pangraph_pipeline(data_dir, incomplete_sample_name, assem_dir, fasta_gen, pangraph_output_sensitive, maximum_matching, MLR, SInfer, min_weight_val)\n",
    "    except Exception as e:\n",
    "        logging.error(traceback.format_exc())"
   ]
  },
  {
   "cell_type": "code",
   "execution_count": 64,
   "id": "7d54df35-085b-44ec-aed7-6f7ae0209155",
   "metadata": {},
   "outputs": [],
   "source": [
    "# pangraph_MRL.adj_list_assembly"
   ]
  },
  {
   "cell_type": "code",
   "execution_count": 65,
   "id": "814cc1c3-c017-4c12-b326-d95fd7d5153d",
   "metadata": {},
   "outputs": [],
   "source": [
    "# PASAversion = '_BiGR0.3'; MLR = 0; SInfer = 1; min_weight_val = 0.5; \n",
    "# simversionRefNew = '_'+ pangenome_data.split('/')[-2] +'_'+ sim_name + PASAversion \n",
    "# if run_pangraph:\n",
    "#     print(PASAversion, '------------------------------------------------------------------')\n",
    "#     # https://stackoverflow.com/questions/4990718/how-can-i-write-a-try-except-block-that-catches-all-exceptions\n",
    "#     pangraph_opt = PanGraph(sample_info=None, gene_info=None, gene_position=None)\n",
    "#     try:\n",
    "#         maximum_matching = 'optimal'\n",
    "#         pangraph_opt.run_pangraph_pipeline(data_dir, incomplete_sample_name, assem_dir, fasta_gen, pangraph_output_opt, maximum_matching, MLR, SInfer, min_weight_val)\n",
    "#     except Exception as e:\n",
    "#         logging.error(traceback.format_exc())"
   ]
  },
  {
   "cell_type": "code",
   "execution_count": 124,
   "id": "f3073b40-e6cc-4e37-bfff-045977d6bc0e",
   "metadata": {},
   "outputs": [
    {
     "name": "stdout",
     "output_type": "stream",
     "text": [
      "_MLRInfer1.0 ------------------------------------------------------------------\n",
      "Should we use target sequence as reference, hence, the strand will be ok\n",
      "Set minimum on number of nucleotides =  10 NUMBER OF COMPUTED CONTIGS: 273\n",
      "Clip the matrix 0.2 !!!!!!!!!!!!!!!!!!!!!!!!!!!!!!!!!!\n",
      "Use modified  assembly graph\n",
      "Use union graph: overlap + assembly: done\n",
      "Re-infer the contigs strand: NO\n",
      "Reduce the cost by 1/2 if there is no path in the assembly graph\n",
      "Implement multiplicity\n",
      "Set long_range_dependancy_threshold =  2.1990000000000003\n",
      "compute long range dependancy\n",
      "-1.0\n",
      "compute long range dependancy\n",
      "1.4000000000000001\n",
      "remove a node which creates a loop\n",
      "compute long range dependancy\n",
      "1.2444444444444445\n",
      "compute long range dependancy\n",
      "0.3111111111111111\n",
      "compute long range dependancy\n",
      "1.2444444444444445\n",
      "compute long range dependancy\n",
      "-1.0\n",
      "compute long range dependancy\n",
      "1.2444444444444445\n",
      "compute long range dependancy\n",
      "-1.0\n",
      "compute long range dependancy\n",
      "1.2444444444444445\n",
      "compute long range dependancy\n",
      "0.3111111111111111\n",
      "compute long range dependancy\n",
      "1.025371953387991\n",
      "Will test this, Ok?\n",
      "Will test this, Ok?\n",
      "Will test this, Ok?\n",
      "Will test this, Ok?\n",
      "Will test this, Ok?\n",
      "Will test this, Ok?\n",
      "Remove contigs of more than multiplicity\n",
      "compute base coverage\n",
      "Refine the scaffolds\n",
      "Success! File written\n"
     ]
    }
   ],
   "source": [
    "PASAversion = '_MLRInfer1.0'; MLR = 1; SInfer = 0; min_weight_val = 1.0; \n",
    "# simversionRefNew = '_'+ pangenome_data.split('/')[-2] +'_'+ sim_name + PASAversion \n",
    "# pangraph_output_greedy = scaffold_out_dir + 'pangraph_greedy'+ simversionRefNew + '.fasta'\n",
    "# pangraph_output_opt = scaffold_out_dir + 'pangraph_opt'+ simversionRefNew + '.fasta'\n",
    "if run_pangraph:\n",
    "    print(PASAversion, '------------------------------------------------------------------')\n",
    "    # https://stackoverflow.com/questions/4990718/how-can-i-write-a-try-except-block-that-catches-all-exceptions\n",
    "    pangraph_MRL = PanGraph(sample_info=None, gene_info=None, gene_position=None)\n",
    "    try:\n",
    "        maximum_matching = 'greedy'\n",
    "        pangraph_MRL.run_pangraph_pipeline(data_dir, incomplete_sample_name, assem_dir, fasta_gen, pangraph_output_default, maximum_matching, MLR, SInfer, min_weight_val)\n",
    "    except Exception as e:\n",
    "        logging.error(traceback.format_exc())"
   ]
  },
  {
   "cell_type": "code",
   "execution_count": 128,
   "id": "9c597808-5897-428a-877a-b9ec294a02f6",
   "metadata": {},
   "outputs": [
    {
     "data": {
      "text/plain": [
       "{'NODE_70_length_970_cov_269.556_c0': ['NODE_89_length_342_cov_165.548837+',\n",
       "  'NODE_38_length_10071_cov_41.383749+',\n",
       "  'NODE_62_length_1303_cov_115.303571-',\n",
       "  'NODE_16_length_100419_cov_47.114675-'],\n",
       " 'NODE_6_length_288794_cov_49.960_c1': ['NODE_6_length_288794_cov_49.960910-',\n",
       "  'NODE_70_length_970_cov_269.556346+',\n",
       "  'NODE_14_length_107795_cov_47.360934-'],\n",
       " 'NODE_6_length_288794_cov_49.960_c2': ['NODE_47_length_3371_cov_115.253083-',\n",
       "  'NODE_43_length_4430_cov_46.411341-'],\n",
       " 'NODE_57_length_1892_cov_490.920_c3': ['NODE_57_length_1892_cov_490.920680-',\n",
       "  'NODE_73_length_820_cov_573.656566-',\n",
       "  'NODE_52_length_2304_cov_120.960955-',\n",
       "  'NODE_74_length_794_cov_117.254873+',\n",
       "  'NODE_34_length_15874_cov_51.371436+',\n",
       "  'NODE_76_length_769_cov_120.574766-'],\n",
       " 'NODE_57_length_1892_cov_490.920_c4': ['NODE_57_length_1892_cov_490.920680-',\n",
       "  'NODE_73_length_820_cov_573.656566-',\n",
       "  'NODE_54_length_2197_cov_58.096618-'],\n",
       " 'NODE_57_length_1892_cov_490.920_c5': ['NODE_57_length_1892_cov_490.920680-',\n",
       "  'NODE_73_length_820_cov_573.656566-'],\n",
       " 'NODE_57_length_1892_cov_490.920_c6': ['NODE_57_length_1892_cov_490.920680-',\n",
       "  'NODE_73_length_820_cov_573.656566-',\n",
       "  'NODE_36_length_13033_cov_50.209050-'],\n",
       " 'NODE_57_length_1892_cov_490.920_c7': ['NODE_39_length_6349_cov_42.715847+',\n",
       "  'NODE_67_length_1121_cov_113.227364-'],\n",
       " 'NODE_57_length_1892_cov_490.920_c8': ['NODE_57_length_1892_cov_490.920680-',\n",
       "  'NODE_73_length_820_cov_573.656566-',\n",
       "  'NODE_11_length_189430_cov_50.295141-',\n",
       "  'NODE_70_length_970_cov_269.556346-',\n",
       "  'NODE_29_length_31906_cov_47.661978-',\n",
       "  'NODE_13_length_115703_cov_46.268101-',\n",
       "  'NODE_8_length_253742_cov_47.832258-'],\n",
       " 'NODE_57_length_1892_cov_490.920_c9': ['NODE_57_length_1892_cov_490.920680-',\n",
       "  'NODE_156_length_134_cov_76.142857-',\n",
       "  'NODE_73_length_820_cov_573.656566-',\n",
       "  'NODE_23_length_70822_cov_61.367919+',\n",
       "  'NODE_52_length_2304_cov_120.960955-'],\n",
       " 'NODE_15_length_103790_cov_45.773_c10': ['NODE_15_length_103790_cov_45.773969+',\n",
       "  'NODE_70_length_970_cov_269.556346-'],\n",
       " 'NODE_5_length_314932_cov_50.391_c11': ['NODE_5_length_314932_cov_50.391347+',\n",
       "  'NODE_19_length_95817_cov_50.723325+',\n",
       "  'NODE_62_length_1303_cov_115.303571+',\n",
       "  'NODE_7_length_270452_cov_50.747045+',\n",
       "  'NODE_24_length_66088_cov_40.929034-'],\n",
       " 'NODE_2_length_714144_cov_46.471_c12': ['NODE_2_length_714144_cov_46.471255+',\n",
       "  'NODE_20_length_94996_cov_44.821617+',\n",
       "  'NODE_59_length_1559_cov_155.592877+',\n",
       "  'NODE_35_length_13239_cov_51.948063-',\n",
       "  'NODE_4_length_326126_cov_44.758935+',\n",
       "  'NODE_99_length_301_cov_43.367816-',\n",
       "  'NODE_33_length_16510_cov_45.220350+',\n",
       "  'NODE_57_length_1892_cov_490.920680-',\n",
       "  'NODE_56_length_2131_cov_58.976547-',\n",
       "  'NODE_79_length_629_cov_118.352590+',\n",
       "  'NODE_84_length_446_cov_53.978056-',\n",
       "  'NODE_113_length_255_cov_62.632812-',\n",
       "  'NODE_115_length_255_cov_60.851562+',\n",
       "  'NODE_22_length_76199_cov_48.116298+',\n",
       "  'NODE_3_length_329029_cov_48.246356-',\n",
       "  'NODE_70_length_970_cov_269.556346-'],\n",
       " 'NODE_70_length_970_cov_269.556_c13': ['NODE_70_length_970_cov_269.556346-',\n",
       "  'NODE_25_length_61134_cov_48.501680+'],\n",
       " 'NODE_47_length_3371_cov_115.253_c14': ['NODE_47_length_3371_cov_115.253083-',\n",
       "  'NODE_30_length_28841_cov_44.801560+'],\n",
       " 'NODE_53_length_2279_cov_125.605_c15': ['NODE_53_length_2279_cov_125.605019-',\n",
       "  'NODE_50_length_2454_cov_104.785131-'],\n",
       " 'NODE_89_length_342_cov_165.548_c16': ['NODE_89_length_342_cov_165.548837-',\n",
       "  'NODE_70_length_970_cov_269.556346+',\n",
       "  'NODE_12_length_129509_cov_50.073125+',\n",
       "  'NODE_28_length_39976_cov_55.355919+',\n",
       "  'NODE_87_length_379_cov_67.448413+',\n",
       "  'NODE_141_length_233_cov_61.877358-',\n",
       "  'NODE_61_length_1311_cov_516.785473-',\n",
       "  'NODE_66_length_1122_cov_474.124623-',\n",
       "  'NODE_71_length_934_cov_287.132590-',\n",
       "  'NODE_68_length_1087_cov_510.814583-',\n",
       "  'NODE_138_length_241_cov_61.570175-',\n",
       "  'NODE_108_length_255_cov_289.750000+',\n",
       "  'NODE_21_length_86869_cov_50.627412+',\n",
       "  'NODE_17_length_100148_cov_53.522690-',\n",
       "  'NODE_102_length_266_cov_73.366906-',\n",
       "  'NODE_117_length_255_cov_54.632812+',\n",
       "  'NODE_26_length_43980_cov_55.906643-',\n",
       "  'NODE_59_length_1559_cov_155.592877-',\n",
       "  'NODE_10_length_227418_cov_49.530479-',\n",
       "  'NODE_9_length_231105_cov_51.304276+',\n",
       "  'NODE_1_length_839484_cov_49.848884-',\n",
       "  'NODE_140_length_233_cov_112.943396-',\n",
       "  'NODE_95_length_305_cov_52.106742-',\n",
       "  'NODE_18_length_99847_cov_49.771450-'],\n",
       " 'NODE_53_length_2279_cov_125.605_c17': ['NODE_53_length_2279_cov_125.605019-',\n",
       "  'NODE_50_length_2454_cov_104.785131-',\n",
       "  'NODE_73_length_820_cov_573.656566+',\n",
       "  'NODE_40_length_6274_cov_52.473239+'],\n",
       " 'NODE_46_length_4030_cov_42.394_c18': ['NODE_46_length_4030_cov_42.394312-'],\n",
       " 'NODE_46_length_4030_cov_42.394_c19': ['NODE_53_length_2279_cov_125.605019+',\n",
       "  'NODE_31_length_27939_cov_44.868474+',\n",
       "  'NODE_73_length_820_cov_573.656566+'],\n",
       " 'NODE_46_length_4030_cov_42.394_c20': ['NODE_73_length_820_cov_573.656566+',\n",
       "  'NODE_49_length_2850_cov_54.469703-'],\n",
       " 'NODE_67_length_1121_cov_113.227_c21': ['NODE_67_length_1121_cov_113.227364-',\n",
       "  'NODE_104_length_260_cov_55.932331-',\n",
       "  'NODE_65_length_1189_cov_60.062147-'],\n",
       " 'NODE_72_length_876_cov_44.356_c22': ['NODE_72_length_876_cov_44.356475-',\n",
       "  'NODE_132_length_253_cov_50.920635-',\n",
       "  'NODE_60_length_1322_cov_91.328033-',\n",
       "  'NODE_73_length_820_cov_573.656566+',\n",
       "  'NODE_51_length_2433_cov_69.931049-',\n",
       "  'NODE_77_length_722_cov_56.013445-',\n",
       "  'NODE_135_length_252_cov_61.088000+',\n",
       "  'NODE_59_length_1559_cov_155.592877-',\n",
       "  'NODE_32_length_18255_cov_49.551302+',\n",
       "  'NODE_57_length_1892_cov_490.920680-'],\n",
       " 'NODE_72_length_876_cov_44.356_c23': ['NODE_57_length_1892_cov_490.920680-',\n",
       "  'NODE_156_length_134_cov_76.142857-',\n",
       "  'NODE_58_length_1720_cov_50.519146+'],\n",
       " 'NODE_72_length_876_cov_44.356_c24': ['NODE_41_length_5620_cov_53.026943+',\n",
       "  'NODE_52_length_2304_cov_120.960955-'],\n",
       " 'NODE_76_length_769_cov_120.574_c25': ['NODE_76_length_769_cov_120.574766-',\n",
       "  'NODE_130_length_254_cov_48.551181-',\n",
       "  'NODE_45_length_4111_cov_49.543173-'],\n",
       " 'NODE_76_length_769_cov_120.574_c26': ['NODE_60_length_1322_cov_91.328033-',\n",
       "  'NODE_63_length_1258_cov_45.028294+',\n",
       "  'NODE_73_length_820_cov_573.656566+'],\n",
       " 'NODE_76_length_769_cov_120.574_c27': ['NODE_73_length_820_cov_573.656566+',\n",
       "  'NODE_48_length_2964_cov_40.942413-'],\n",
       " 'NODE_76_length_769_cov_120.574_c28': ['NODE_44_length_4148_cov_55.076598-']}"
      ]
     },
     "execution_count": 128,
     "metadata": {},
     "output_type": "execute_result"
    }
   ],
   "source": [
    "pangraph_MRL.adj_list_assembly\n",
    "# pangraph_MRL.adj_list0\n",
    "# pangraph_MRL.node_multiplicity\n",
    "# pangraph_output_default\n",
    "# pangraph_MRL.get_multiplicity('NODE_60_length_1322_cov_91.328033+')"
   ]
  },
  {
   "cell_type": "code",
   "execution_count": 68,
   "id": "be59e44b-960c-4be5-9f68-c19532fddaea",
   "metadata": {},
   "outputs": [],
   "source": [
    "# test = dict({'NODE_52_length_2304_cov_120.960955_m0': ['NODE_52_length_2304_cov_120.960955+',\n",
    "#   'NODE_41_length_5620_cov_53.026943-',\n",
    "#   'NODE_73_length_820_cov_573.656566+',\n",
    "#   'NODE_40_length_6274_cov_52.473239+',\n",
    "#   'NODE_73_length_820_cov_573.656566-',\n",
    "#   'NODE_63_length_1258_cov_45.028294-',\n",
    "#   'NODE_60_length_1322_cov_91.328033+',\n",
    "#   'NODE_132_length_253_cov_50.920635+',\n",
    "#   'NODE_72_length_876_cov_44.356475+']})\n",
    "# new_path = pangraph_MRL.remove_unsupported_pangraph(test)"
   ]
  },
  {
   "cell_type": "code",
   "execution_count": 69,
   "id": "ede9dede-7ce7-41e8-8308-66f31df43159",
   "metadata": {},
   "outputs": [],
   "source": [
    "# pangraph_MRL.adj_list_assembly"
   ]
  },
  {
   "cell_type": "code",
   "execution_count": 70,
   "id": "651c020d-ca7e-45c3-ae09-bd5498e2abcf",
   "metadata": {},
   "outputs": [],
   "source": [
    "# for i in range(len(pangraph_MRL.edge_df0.index)):\n",
    "#     node1 = 'NODE_40'\n",
    "#     node2 = 'NODE_60'\n",
    "#     if (node1 in pangraph_MRL.edge_df0.iloc[i,0]) and (node2 in pangraph_MRL.edge_df0.iloc[i,1]):\n",
    "#         print(pangraph_MRL.edge_df0.iloc[i,:])\n",
    "#     if (node2 in pangraph_MRL.edge_df0.iloc[i,0]) and (node1 in pangraph_MRL.edge_df0.iloc[i,1]):\n",
    "#         print(pangraph_MRL.edge_df0.iloc[i,:])"
   ]
  },
  {
   "cell_type": "code",
   "execution_count": 71,
   "id": "1a6403bd-cf34-4373-b14d-574fb818dda0",
   "metadata": {},
   "outputs": [],
   "source": [
    "# for i in range(len(pangraph_MRL.edge_df0.index)):\n",
    "#     node1 = 'NODE_15'\n",
    "#     if (node1 in pangraph_MRL.edge_df0.iloc[i,0]) or (node1 in pangraph_MRL.edge_df0.iloc[i,1]):\n",
    "#         print(pangraph_MRL.edge_df0.iloc[i,:])"
   ]
  },
  {
   "cell_type": "code",
   "execution_count": 72,
   "id": "df482046-d714-4920-adb9-ae30e289372c",
   "metadata": {},
   "outputs": [],
   "source": [
    "# # node1 = 'NODE_15_length_103790_cov_45.773969'\n",
    "# # node1 = 'NODE_73_length_820_cov_573.656566'\n",
    "# # node1 = 'NODE_73_length_820_cov_573.656566'\n",
    "# node1 = 'NODE_40_length_6274_cov_52.473239'\n",
    "# node2 = 'NODE_60_length_1322_cov_91.328033'\n",
    "# # node2 = 'NODE_72_length_876_cov_44.356475'\n",
    "# # node2 = 'NODE_63_length_1258_cov_45.028294'\n",
    "# print(pangraph_MRL.get_pangraph_cost(node1, node2), pangraph_MRL.get_pangraph_cost(node2, node1))"
   ]
  },
  {
   "cell_type": "code",
   "execution_count": 73,
   "id": "ae2a7f65-e4c8-4560-b782-b69dad132711",
   "metadata": {},
   "outputs": [
    {
     "data": {
      "text/plain": [
       "'/data/hoan/amromics/data/ncbi/Kp50random/g1.fna'"
      ]
     },
     "execution_count": 73,
     "metadata": {},
     "output_type": "execute_result"
    }
   ],
   "source": [
    "# pangraph_MRL.edge_df0\n",
    "spades_output\n",
    "# multicsar_output\n",
    "pangenome_data+'g1.fna'"
   ]
  },
  {
   "cell_type": "markdown",
   "id": "a21d3a7c-fc03-4c81-9957-93d225838fe5",
   "metadata": {},
   "source": [
    "### Run scaffold methods"
   ]
  },
  {
   "cell_type": "code",
   "execution_count": 74,
   "id": "3d4dd495-be29-4b69-81f6-a03f1027725e",
   "metadata": {},
   "outputs": [],
   "source": [
    "### Multi-CSAR\n",
    "conda_dir = 'source ~/miniconda3/etc/profile.d/conda.sh && conda activate py27 && '\n",
    "csar_bin = conda_dir + '/data/hoan/amromics/assembly/Multi-CSAR/./multi-csar.php'"
   ]
  },
  {
   "cell_type": "code",
   "execution_count": 75,
   "id": "571a94e7-92e9-49e8-87ca-7ddff8c08908",
   "metadata": {},
   "outputs": [],
   "source": [
    "multicsar_output = scaffold_out_dir + 'multicsar/multicsar' + simversionRef\n",
    "if run_multicsar:\n",
    "    # spades_output = '/data/hoan/amromics/simulation/art_output/' + 'spades_output_' + sim_name + simversion[-4:]\n",
    "    os.system('cp '+spades_output+'/contigs.fasta ' + pangenome_data + 'g1.fna')\n",
    "    os.system('rm ' + pangenome_data + 'fna/g1*')\n",
    "    os.system(csar_bin +' -t '+pangenome_data+'g1.fna -r '+pangenome_data+'fna/ --nuc -o '+multicsar_output)\n",
    "    # os.system(csar_bin +' -t '+pangenome_data+'g1.fna -r '+pangenome_data+'*.fna --nuc -o '+multicsar_output)"
   ]
  },
  {
   "cell_type": "code",
   "execution_count": 76,
   "id": "b36507eb-e063-4b98-b9b8-94f989d64252",
   "metadata": {},
   "outputs": [
    {
     "data": {
      "text/plain": [
       "'/data/hoan/amromics/genome-graph/scaffold_output/multicsar/multicsar_Kp50random_refSeq_GCF_000364385_ERR1474547__plasmid_v01'"
      ]
     },
     "execution_count": 76,
     "metadata": {},
     "output_type": "execute_result"
    }
   ],
   "source": [
    "multicsar_output"
   ]
  },
  {
   "cell_type": "code",
   "execution_count": 77,
   "id": "1b914df9-78d2-4d3d-842f-e22ecb65fc4c",
   "metadata": {},
   "outputs": [],
   "source": [
    "### Ragout\n",
    "ragout_bin = 'source ~/miniconda3/etc/profile.d/conda.sh && conda activate py27 && ragout '\n",
    "ragout_output = scaffold_out_dir + 'multicsar/ragout' + simversionRef\n",
    "if run_ragout:\n",
    "    # write receipt file\n",
    "    ref_files_list = glob.glob(pangenome_data+'fna/*')\n",
    "    n_files = len(ref_files_list)\n",
    "    receipt_file_dir = '/data/hoan/amromics/assembly/Ragout/kp100'+simversionRef+'.rcp'\n",
    "    f = open(receipt_file_dir, \"w\")\n",
    "    f.write('.references = ')\n",
    "    for idx in range(n_files-1):\n",
    "        f.write('r' + str(idx) + ',')\n",
    "    f.write('r'+str(n_files-1)+'\\n')\n",
    "    f.write(\".target = mg1655\\n\\n\")\n",
    "    for idx in range(n_files):\n",
    "        f.write('r'+str(idx)+'.fasta =' + ref_files_list[idx] + '\\n')\n",
    "    f.write('mg1655.fasta = ' + spades_output+'/contigs.fasta\\n')\n",
    "    f.close()"
   ]
  },
  {
   "cell_type": "code",
   "execution_count": 78,
   "id": "c420de89-d23f-45ef-bb74-f47a5abcf988",
   "metadata": {},
   "outputs": [],
   "source": [
    "if run_ragout:\n",
    "    os.system(ragout_bin + receipt_file_dir + ' --outdir ' + ragout_output + ' --refine')\n",
    "    # ragout kp100_v2.rcp --outdir output_Kp100p_v2/ --refine"
   ]
  },
  {
   "cell_type": "code",
   "execution_count": 79,
   "id": "bfe5ef8c-9607-43c7-8958-c9ce8c217b64",
   "metadata": {},
   "outputs": [
    {
     "name": "stdout",
     "output_type": "stream",
     "text": [
      "/data/hoan/amromics/genome-graph/scaffold_output/multicsar/ragout_Kp50random_refSeq_GCF_000364385_ERR1474547__plasmid_v01\n"
     ]
    }
   ],
   "source": [
    "print(ragout_output)"
   ]
  },
  {
   "cell_type": "code",
   "execution_count": 80,
   "id": "851d21e7-3749-4cde-b41a-a5cbe1ef0da9",
   "metadata": {},
   "outputs": [
    {
     "data": {
      "text/plain": [
       "'/data/hoan/amromics/genome-graph/scaffold_output/pangraph_opt_Kp50random_refSeq_GCF_000364385_ERR1474547__assemBiGraph2_v01.fasta'"
      ]
     },
     "execution_count": 80,
     "metadata": {},
     "output_type": "execute_result"
    }
   ],
   "source": [
    "pangraph_output_opt"
   ]
  },
  {
   "cell_type": "code",
   "execution_count": 81,
   "id": "0c4f5d2d-42df-40ad-ad09-95bbbbbc59d9",
   "metadata": {},
   "outputs": [
    {
     "data": {
      "text/plain": [
       "'/data/hoan/amromics/simulation/art_output/shovill_output_refSeq_GCF_000364385_ERR1474547__v01/spades'"
      ]
     },
     "execution_count": 81,
     "metadata": {},
     "output_type": "execute_result"
    }
   ],
   "source": [
    "spades_output"
   ]
  },
  {
   "cell_type": "code",
   "execution_count": 82,
   "id": "1cc47b43-4962-45ac-8397-3687452a64cf",
   "metadata": {},
   "outputs": [],
   "source": [
    "# pangraph.adj_list_assembly"
   ]
  },
  {
   "cell_type": "markdown",
   "id": "f2188478-51fd-4f84-b640-6a9e96127648",
   "metadata": {},
   "source": [
    "### Quast "
   ]
  },
  {
   "cell_type": "code",
   "execution_count": 83,
   "id": "8d845fc8-a033-4ad3-b97f-49d87f25541d",
   "metadata": {},
   "outputs": [
    {
     "data": {
      "text/plain": [
       "'/data/hoan/amromics/genome-graph/scaffold_output/quastResults_Kp50random_refSeq_GCF_000364385_ERR1474547__BiGR0.3'"
      ]
     },
     "execution_count": 83,
     "metadata": {},
     "output_type": "execute_result"
    }
   ],
   "source": [
    "quast_output = '/data/hoan/amromics/genome-graph/scaffold_output/quastResults' + simversionRefNew\n",
    "quast_output"
   ]
  },
  {
   "cell_type": "code",
   "execution_count": 86,
   "id": "24b358d7-6607-4228-87bb-b30b626ba330",
   "metadata": {},
   "outputs": [],
   "source": [
    "quast_bin = 'python /data/hoan/amromics/spades_quast/quast-5.2.0/quast.py '\n",
    "spades_output_fasta = spades_output+'/contigs.fasta'\n",
    "multicsar_output_fasta = multicsar_output +'/multi-csar.nuc.out.fna'\n",
    "ragout_output_fasta = ragout_output + '/mg1655_scaffolds.fasta'\n",
    "if 0:\n",
    "    if os.path.isfile(ragout_output_fasta):\n",
    "        os.system(quast_bin + pangraph_output_default+' '+ pangraph_output_sensitive+' '+ multicsar_output_fasta+' '+ragout_output_fasta+' '+spades_output_fasta+' '+\n",
    "        '-l \"Pasa, Pasa_sensitive, Multi-CSAR, Ragout, SPADES\" '+ '-r '+ref_data+' -o '+ quast_output+' --silent --extensive-mis-size 5000 --local-mis-size 3000')\n",
    "    else:\n",
    "        os.system(quast_bin + pangraph_output_default+' '+ pangraph_output_sensitive+' '+ multicsar_output_fasta+' '+spades_output_fasta+' '+\n",
    "        '-l \"Pasa, Pasa_sensitive, Multi-CSAR, SPADES\" '+ '-r '+ref_data+' -o '+ quast_output+' --silent --extensive-mis-size 5000 --local-mis-size 3000')\n",
    "# if 1:\n",
    "#     if os.path.isfile(ragout_output_fasta):\n",
    "#         os.system(quast_bin + pangraph_output_default+' '+ pangraph_output_sensitive+' '+ pangraph_output_opt+' '+ multicsar_output_fasta+' '+ragout_output_fasta+' '+spades_output_fasta+' '+\n",
    "#         '-l \"Pasa, Pasa_sensitive, Pasa_OPT, Multi-CSAR, Ragout, SPADES\" '+ '-r '+ref_data+' -o '+ quast_output+' --silent --extensive-mis-size 5000 --local-mis-size 3000')\n",
    "#     else:\n",
    "#         os.system(quast_bin + pangraph_output_default+' '+ pangraph_output_sensitive+' '+ pangraph_output_opt+' '+ multicsar_output_fasta+' '+spades_output_fasta+' '+ '-l \"Pasa, Pasa_sensitive, Pasa_OPT, Multi-CSAR, SPADES\" '+ '-r '+ref_data+' -o '+ quast_output+' --silent --extensive-mis-size 5000 --local-mis-size 3000')"
   ]
  },
  {
   "cell_type": "code",
   "execution_count": 85,
   "id": "1b0d2ca0-0e53-4f38-b1a1-2c89196ae484",
   "metadata": {},
   "outputs": [
    {
     "ename": "NameError",
     "evalue": "name 'end' is not defined",
     "output_type": "error",
     "traceback": [
      "\u001b[0;31m---------------------------------------------------------------------------\u001b[0m",
      "\u001b[0;31mNameError\u001b[0m                                 Traceback (most recent call last)",
      "\u001b[0;32m/tmp/ipykernel_63232/2685661624.py\u001b[0m in \u001b[0;36m<module>\u001b[0;34m\u001b[0m\n\u001b[0;32m----> 1\u001b[0;31m \u001b[0mend\u001b[0m\u001b[0;34m\u001b[0m\u001b[0;34m\u001b[0m\u001b[0m\n\u001b[0m",
      "\u001b[0;31mNameError\u001b[0m: name 'end' is not defined"
     ]
    }
   ],
   "source": [
    "end"
   ]
  },
  {
   "cell_type": "code",
   "execution_count": null,
   "id": "b01afaa6-18d9-471c-94cd-7b86e2ba9c00",
   "metadata": {},
   "outputs": [],
   "source": [
    "pangraph_output_opt"
   ]
  },
  {
   "cell_type": "code",
   "execution_count": null,
   "id": "8d7adce4-2ba0-4aee-804f-223eaf78df59",
   "metadata": {},
   "outputs": [],
   "source": [
    "multicsar_output_fasta"
   ]
  },
  {
   "cell_type": "code",
   "execution_count": null,
   "id": "a012f703-8287-41bf-92f2-a7480f3f52f5",
   "metadata": {},
   "outputs": [],
   "source": [
    "# # pangraph.H[\"weight\"][0:4]\n",
    "# iteration = 0\n",
    "# for u,v,a in pangraph.H.edges(data=True):\n",
    "#     print(a)\n",
    "#     iteration += 1\n",
    "#     if iteration > 10:\n",
    "#         break;"
   ]
  },
  {
   "cell_type": "code",
   "execution_count": null,
   "id": "1e785765-093e-4100-b2f0-2953d0b3ba73",
   "metadata": {},
   "outputs": [],
   "source": [
    "# nx.write_gml(pangraph.assembly_graph, quast_output+'/assembly_graph.gml')"
   ]
  },
  {
   "cell_type": "code",
   "execution_count": null,
   "id": "549ea244-7bd8-4eb2-8e9b-ab74917f675f",
   "metadata": {},
   "outputs": [],
   "source": [
    "os.system(quast_bin + pangraph_output_sensitive+' '+ pangraph_output_opt+' '+ multicsar_output_fasta+' '+spades_output_fasta+' '+ '-l \"Pasa, Pasa_sensitive, Multi-CSAR, SPADES\" '+ '-r '+ref_data+' -o '+ quast_output+' --silent --extensive-mis-size 5000 --local-mis-size 3000')"
   ]
  },
  {
   "cell_type": "code",
   "execution_count": null,
   "id": "eb32a794-a0be-4756-9867-5ff8a178f4d4",
   "metadata": {},
   "outputs": [],
   "source": [
    "pangraph.assembly_graph.number_of_edges()"
   ]
  },
  {
   "cell_type": "code",
   "execution_count": null,
   "id": "701f03d1-9ab2-4b2e-864a-272fdda10346",
   "metadata": {},
   "outputs": [],
   "source": [
    "len(list(nx.weakly_connected_components(pangraph.assembly_graph)))"
   ]
  },
  {
   "cell_type": "code",
   "execution_count": null,
   "id": "318736c1-6cf1-4d1f-becb-46d56a248336",
   "metadata": {},
   "outputs": [],
   "source": [
    "# pangraph.weighted_CG.nodes()"
   ]
  },
  {
   "cell_type": "code",
   "execution_count": null,
   "id": "7c8f48ee-1162-4652-a4fb-fba44b9ddaaf",
   "metadata": {},
   "outputs": [],
   "source": [
    "len(list(nx.weakly_connected_components(pangraph.H)))"
   ]
  },
  {
   "cell_type": "code",
   "execution_count": null,
   "id": "cad64bbb-999e-4fa4-a421-73c20274d6bd",
   "metadata": {},
   "outputs": [],
   "source": [
    "pangraph.H.number_of_nodes(), pangraph.H.number_of_edges()"
   ]
  },
  {
   "cell_type": "code",
   "execution_count": null,
   "id": "0fe38f01-e457-42dc-b477-cba37bd35849",
   "metadata": {},
   "outputs": [],
   "source": [
    "ref_data"
   ]
  },
  {
   "cell_type": "markdown",
   "id": "92fe66ed-e316-41ae-a09c-ae1351304c69",
   "metadata": {},
   "source": [
    "## Analysis"
   ]
  },
  {
   "cell_type": "code",
   "execution_count": 94,
   "id": "d1b43cf8-8b32-41b6-b371-ee7454278384",
   "metadata": {},
   "outputs": [],
   "source": [
    "# minimap2 /data/hoan/amromics/data/ncbi/Ecolitest/GCF_002860105.1_ASM286010v1_genomic.fna /data/hoan/amromics/genome-graph/scaffold_output/pangraph_opt_Ecoli100random_Ecoli_plasmid_v01.fasta > contigs100vsref_mapping_v01a.paf\n",
    "cmd_minimap = '~/miniconda3/envs/amromics/bin/minimap2 '+ref_data +' '+ spades_output +'/contigs.fasta' +' > scaffold_output/minimap_out/mapping.paf' \n",
    "# cmd_minimap = '~/miniconda3/envs/amromics/bin/minimap2 '+ref_data +' '+ pangraph_output_sensitive +' > scaffold_output/minimap_out/mapping.paf' \n",
    "# cmd_minimap = '~/miniconda3/envs/amromics/bin/minimap2 '+pangraph_output_opt +' '+ spades_output +'/contigs.fasta' +' > scaffold_output/minimap_out/mapping.paf' "
   ]
  },
  {
   "cell_type": "code",
   "execution_count": 97,
   "id": "9aedd4e6-c528-4f1c-b8ea-ea88a40a252e",
   "metadata": {},
   "outputs": [
    {
     "name": "stderr",
     "output_type": "stream",
     "text": [
      "[M::mm_idx_gen::0.217*1.01] collected minimizers\n",
      "[M::mm_idx_gen::0.307*1.59] sorted minimizers\n",
      "[M::main::0.307*1.59] loaded/built the index for 5 target sequence(s)\n",
      "[M::mm_mapopt_update::0.343*1.52] mid_occ = 12\n",
      "[M::mm_idx_stat] kmer size: 15; skip: 10; is_hpc: 0; #seq: 5\n",
      "[M::mm_idx_stat::0.364*1.49] distinct minimizers: 1026671 (96.48% are singletons); average occurrences: 1.052; average spacing: 5.354; total length: 5781501\n",
      "[M::worker_pipeline::0.919*2.32] mapped 149 sequences\n",
      "[M::main] Version: 2.24-r1122\n",
      "[M::main] CMD: /home/vanhoan310/miniconda3/envs/amromics/bin/minimap2 /data/hoan/amromics/data/ncbi/Kp_BAA-2146/refSeq/GCF_000364385.3_ASM36438v3_genomic.fna /data/hoan/amromics/simulation/art_output/shovill_output_refSeq_GCF_000364385_ERR1474547__v01/spades/contigs.fasta\n",
      "[M::main] Real time: 0.934 sec; CPU: 2.146 sec; Peak RSS: 0.104 GB\n"
     ]
    }
   ],
   "source": [
    "os.system(cmd_minimap)\n",
    "df = pd.read_csv(\"scaffold_output/minimap_out/mapping.paf\", sep =\"\\t\", header=None)"
   ]
  },
  {
   "cell_type": "code",
   "execution_count": null,
   "id": "ae6db97d-7ba7-4960-9a53-06618565f34b",
   "metadata": {},
   "outputs": [],
   "source": [
    "ref_data"
   ]
  },
  {
   "cell_type": "code",
   "execution_count": null,
   "id": "c0930409-ed75-48be-b9b6-f2a54d2ebbc5",
   "metadata": {},
   "outputs": [],
   "source": [
    "df"
   ]
  },
  {
   "cell_type": "code",
   "execution_count": null,
   "id": "0d534d54-4891-4212-97f5-5f2852565ac7",
   "metadata": {},
   "outputs": [],
   "source": [
    "dfNew = df.copy()\n",
    "nodes_list = list(dfNew.iloc[:,0].values)\n",
    "nodes_len = [int(node.split(\"_\")[3]) for node in nodes_list]\n",
    "nodes_coverage = [float(node.split(\"_\")[5]) for node in nodes_list]\n",
    "dfNew['length'] = nodes_len\n",
    "dfNew['coverage'] = nodes_coverage\n",
    "dfNew = dfNew.sort_values(by='length', ascending=False)\n",
    "basecoverage = np.median(dfNew['coverage'][:5])"
   ]
  },
  {
   "cell_type": "code",
   "execution_count": null,
   "id": "c2d050e1-0463-47a2-83d8-2ae59fc893c2",
   "metadata": {},
   "outputs": [],
   "source": [
    "# dfNew.to_csv(\"re.csv\")"
   ]
  },
  {
   "cell_type": "code",
   "execution_count": null,
   "id": "f5ba6521-2795-4dd1-8ebc-49d7fcfa69db",
   "metadata": {},
   "outputs": [],
   "source": [
    "ref_id = df.iloc[:,5]\n",
    "np.unique(ref_id)"
   ]
  },
  {
   "cell_type": "code",
   "execution_count": null,
   "id": "d2dc55e6-1194-44c6-a7f4-26818575981d",
   "metadata": {},
   "outputs": [],
   "source": [
    "coverage = []\n",
    "for i in range(len(df.index)):\n",
    "    if df.iloc[i, 5] == 'NZ_CP006659.2':\n",
    "        # print(df.iloc[i, 0], end =', ')\n",
    "        cov = float(df.iloc[i, 0].split('_')[5])\n",
    "        coverage.append(cov)"
   ]
  },
  {
   "cell_type": "code",
   "execution_count": null,
   "id": "453bb577-4b77-4988-be2a-c6f998eb7125",
   "metadata": {},
   "outputs": [],
   "source": [
    "coverage_norm = [cov - round(cov/basecoverage)*basecoverage for cov in coverage]"
   ]
  },
  {
   "cell_type": "code",
   "execution_count": null,
   "id": "cd867866-5089-4b16-a895-4cc8092f5162",
   "metadata": {},
   "outputs": [],
   "source": [
    "# coverage_norm"
   ]
  },
  {
   "cell_type": "code",
   "execution_count": null,
   "id": "4095b29a-de49-4e9e-8f7a-888bb45cd1c8",
   "metadata": {},
   "outputs": [],
   "source": [
    "# import matplotlib.pyplot as plt\n",
    "# import numpy as np\n",
    "# x = np.array(coverage_norm)\n",
    "# # plt.hist(x)\n",
    "# fig=plt.figure(figsize=(12,4), dpi= 100, facecolor='w', edgecolor='k')\n",
    "# # plt.hist(x, bins='auto')\n",
    "# plt.hist(x, bins=20)\n",
    "# # plt.xticks(range(10))\n",
    "# plt.xticks(rotation='vertical')\n",
    "# plt.show() "
   ]
  },
  {
   "cell_type": "code",
   "execution_count": null,
   "id": "b5a1c18d-e637-49cf-bd34-ac213311c437",
   "metadata": {},
   "outputs": [],
   "source": [
    "# import seaborn as sns\n",
    "# fig=plt.figure(figsize=(15, 8))\n",
    "# a = sns.scatterplot(data=dfNew, x=\"coverage\", y=\"length\", hue=5)\n",
    "# a.set(xlim=(0, 70))\n",
    "# a.set(ylim=(0, 30000))\n",
    "# plt.savefig(\"myImagePDF.pdf\", format=\"pdf\", bbox_inches=\"tight\")\n",
    "# plt.show()"
   ]
  },
  {
   "cell_type": "code",
   "execution_count": null,
   "id": "f3625b4e-6057-45b3-afaa-6b63d48028da",
   "metadata": {},
   "outputs": [],
   "source": [
    "# basecoverage"
   ]
  },
  {
   "cell_type": "code",
   "execution_count": 98,
   "id": "67083f6a-c050-4670-a43f-c505ed9a4d9b",
   "metadata": {},
   "outputs": [],
   "source": [
    "# final_df = df.loc[df[5] == ref_id]\n",
    "final_df = df\n",
    "final_df = final_df.sort_values(by=[7])"
   ]
  },
  {
   "cell_type": "code",
   "execution_count": 99,
   "id": "eebaf0f4-3ef2-4e45-b192-797dd65b4a26",
   "metadata": {},
   "outputs": [
    {
     "data": {
      "text/html": [
       "<div>\n",
       "<style scoped>\n",
       "    .dataframe tbody tr th:only-of-type {\n",
       "        vertical-align: middle;\n",
       "    }\n",
       "\n",
       "    .dataframe tbody tr th {\n",
       "        vertical-align: top;\n",
       "    }\n",
       "\n",
       "    .dataframe thead th {\n",
       "        text-align: right;\n",
       "    }\n",
       "</style>\n",
       "<table border=\"1\" class=\"dataframe\">\n",
       "  <thead>\n",
       "    <tr style=\"text-align: right;\">\n",
       "      <th></th>\n",
       "      <th>0</th>\n",
       "      <th>1</th>\n",
       "      <th>2</th>\n",
       "      <th>3</th>\n",
       "      <th>4</th>\n",
       "      <th>5</th>\n",
       "      <th>6</th>\n",
       "      <th>7</th>\n",
       "      <th>8</th>\n",
       "      <th>9</th>\n",
       "      <th>10</th>\n",
       "      <th>11</th>\n",
       "      <th>12</th>\n",
       "      <th>13</th>\n",
       "      <th>14</th>\n",
       "      <th>15</th>\n",
       "      <th>16</th>\n",
       "      <th>17</th>\n",
       "    </tr>\n",
       "  </thead>\n",
       "  <tbody>\n",
       "    <tr>\n",
       "      <th>37</th>\n",
       "      <td>NODE_36_length_13033_cov_50.209050</td>\n",
       "      <td>13033</td>\n",
       "      <td>581</td>\n",
       "      <td>13026</td>\n",
       "      <td>+</td>\n",
       "      <td>NZ_CP006663.1</td>\n",
       "      <td>117755</td>\n",
       "      <td>1</td>\n",
       "      <td>12446</td>\n",
       "      <td>12445</td>\n",
       "      <td>12445</td>\n",
       "      <td>60</td>\n",
       "      <td>tp:A:P</td>\n",
       "      <td>cm:i:2372</td>\n",
       "      <td>s1:i:12445</td>\n",
       "      <td>s2:i:433</td>\n",
       "      <td>dv:f:0.0000</td>\n",
       "      <td>rl:i:0</td>\n",
       "    </tr>\n",
       "    <tr>\n",
       "      <th>22</th>\n",
       "      <td>NODE_23_length_70822_cov_61.367919</td>\n",
       "      <td>70822</td>\n",
       "      <td>6</td>\n",
       "      <td>70555</td>\n",
       "      <td>-</td>\n",
       "      <td>NZ_CP006661.1</td>\n",
       "      <td>140825</td>\n",
       "      <td>2</td>\n",
       "      <td>70551</td>\n",
       "      <td>70537</td>\n",
       "      <td>70549</td>\n",
       "      <td>60</td>\n",
       "      <td>tp:A:P</td>\n",
       "      <td>cm:i:13245</td>\n",
       "      <td>s1:i:70537</td>\n",
       "      <td>s2:i:114</td>\n",
       "      <td>dv:f:0.0000</td>\n",
       "      <td>rl:i:186</td>\n",
       "    </tr>\n",
       "    <tr>\n",
       "      <th>41</th>\n",
       "      <td>NODE_39_length_6349_cov_42.715847</td>\n",
       "      <td>6349</td>\n",
       "      <td>130</td>\n",
       "      <td>6349</td>\n",
       "      <td>+</td>\n",
       "      <td>NZ_CP006662.2</td>\n",
       "      <td>85161</td>\n",
       "      <td>3</td>\n",
       "      <td>7036</td>\n",
       "      <td>6175</td>\n",
       "      <td>7033</td>\n",
       "      <td>60</td>\n",
       "      <td>tp:A:P</td>\n",
       "      <td>cm:i:1141</td>\n",
       "      <td>s1:i:6073</td>\n",
       "      <td>s2:i:122</td>\n",
       "      <td>dv:f:0.0001</td>\n",
       "      <td>rl:i:173</td>\n",
       "    </tr>\n",
       "    <tr>\n",
       "      <th>27</th>\n",
       "      <td>NODE_26_length_43980_cov_55.906643</td>\n",
       "      <td>43980</td>\n",
       "      <td>28020</td>\n",
       "      <td>43980</td>\n",
       "      <td>+</td>\n",
       "      <td>NZ_CP006659.2</td>\n",
       "      <td>5435746</td>\n",
       "      <td>5</td>\n",
       "      <td>15965</td>\n",
       "      <td>15960</td>\n",
       "      <td>15960</td>\n",
       "      <td>60</td>\n",
       "      <td>tp:A:P</td>\n",
       "      <td>cm:i:3026</td>\n",
       "      <td>s1:i:15960</td>\n",
       "      <td>s2:i:127</td>\n",
       "      <td>dv:f:0.0000</td>\n",
       "      <td>rl:i:0</td>\n",
       "    </tr>\n",
       "    <tr>\n",
       "      <th>67</th>\n",
       "      <td>NODE_55_length_2141_cov_859.020357</td>\n",
       "      <td>2141</td>\n",
       "      <td>8</td>\n",
       "      <td>1335</td>\n",
       "      <td>-</td>\n",
       "      <td>NZ_CP006660.1</td>\n",
       "      <td>2014</td>\n",
       "      <td>7</td>\n",
       "      <td>1334</td>\n",
       "      <td>1327</td>\n",
       "      <td>1327</td>\n",
       "      <td>60</td>\n",
       "      <td>tp:A:P</td>\n",
       "      <td>cm:i:249</td>\n",
       "      <td>s1:i:1327</td>\n",
       "      <td>s2:i:0</td>\n",
       "      <td>dv:f:0.0003</td>\n",
       "      <td>rl:i:0</td>\n",
       "    </tr>\n",
       "    <tr>\n",
       "      <th>...</th>\n",
       "      <td>...</td>\n",
       "      <td>...</td>\n",
       "      <td>...</td>\n",
       "      <td>...</td>\n",
       "      <td>...</td>\n",
       "      <td>...</td>\n",
       "      <td>...</td>\n",
       "      <td>...</td>\n",
       "      <td>...</td>\n",
       "      <td>...</td>\n",
       "      <td>...</td>\n",
       "      <td>...</td>\n",
       "      <td>...</td>\n",
       "      <td>...</td>\n",
       "      <td>...</td>\n",
       "      <td>...</td>\n",
       "      <td>...</td>\n",
       "      <td>...</td>\n",
       "    </tr>\n",
       "    <tr>\n",
       "      <th>150</th>\n",
       "      <td>NODE_89_length_342_cov_165.548837</td>\n",
       "      <td>342</td>\n",
       "      <td>5</td>\n",
       "      <td>333</td>\n",
       "      <td>+</td>\n",
       "      <td>NZ_CP006659.2</td>\n",
       "      <td>5435746</td>\n",
       "      <td>5178441</td>\n",
       "      <td>5178769</td>\n",
       "      <td>328</td>\n",
       "      <td>328</td>\n",
       "      <td>0</td>\n",
       "      <td>tp:A:P</td>\n",
       "      <td>cm:i:64</td>\n",
       "      <td>s1:i:328</td>\n",
       "      <td>s2:i:328</td>\n",
       "      <td>dv:f:0.0010</td>\n",
       "      <td>rl:i:0</td>\n",
       "    </tr>\n",
       "    <tr>\n",
       "      <th>9</th>\n",
       "      <td>NODE_10_length_227418_cov_49.530479</td>\n",
       "      <td>227418</td>\n",
       "      <td>4</td>\n",
       "      <td>227412</td>\n",
       "      <td>+</td>\n",
       "      <td>NZ_CP006659.2</td>\n",
       "      <td>5435746</td>\n",
       "      <td>5178915</td>\n",
       "      <td>5406323</td>\n",
       "      <td>227281</td>\n",
       "      <td>227408</td>\n",
       "      <td>60</td>\n",
       "      <td>tp:A:P</td>\n",
       "      <td>cm:i:42326</td>\n",
       "      <td>s1:i:227281</td>\n",
       "      <td>s2:i:1187</td>\n",
       "      <td>dv:f:0.0000</td>\n",
       "      <td>rl:i:429</td>\n",
       "    </tr>\n",
       "    <tr>\n",
       "      <th>80</th>\n",
       "      <td>NODE_59_length_1559_cov_155.592877</td>\n",
       "      <td>1559</td>\n",
       "      <td>7</td>\n",
       "      <td>1556</td>\n",
       "      <td>+</td>\n",
       "      <td>NZ_CP006659.2</td>\n",
       "      <td>5435746</td>\n",
       "      <td>5406209</td>\n",
       "      <td>5407758</td>\n",
       "      <td>1549</td>\n",
       "      <td>1549</td>\n",
       "      <td>0</td>\n",
       "      <td>tp:A:S</td>\n",
       "      <td>cm:i:298</td>\n",
       "      <td>s1:i:1549</td>\n",
       "      <td>dv:f:0.0002</td>\n",
       "      <td>rl:i:0</td>\n",
       "      <td>NaN</td>\n",
       "    </tr>\n",
       "    <tr>\n",
       "      <th>301</th>\n",
       "      <td>NODE_143_length_224_cov_238.072165</td>\n",
       "      <td>224</td>\n",
       "      <td>4</td>\n",
       "      <td>223</td>\n",
       "      <td>-</td>\n",
       "      <td>NZ_CP006659.2</td>\n",
       "      <td>5435746</td>\n",
       "      <td>5407635</td>\n",
       "      <td>5407854</td>\n",
       "      <td>219</td>\n",
       "      <td>219</td>\n",
       "      <td>0</td>\n",
       "      <td>tp:A:S</td>\n",
       "      <td>cm:i:37</td>\n",
       "      <td>s1:i:219</td>\n",
       "      <td>dv:f:0.0018</td>\n",
       "      <td>rl:i:0</td>\n",
       "      <td>NaN</td>\n",
       "    </tr>\n",
       "    <tr>\n",
       "      <th>26</th>\n",
       "      <td>NODE_26_length_43980_cov_55.906643</td>\n",
       "      <td>43980</td>\n",
       "      <td>5</td>\n",
       "      <td>28015</td>\n",
       "      <td>+</td>\n",
       "      <td>NZ_CP006659.2</td>\n",
       "      <td>5435746</td>\n",
       "      <td>5407736</td>\n",
       "      <td>5435746</td>\n",
       "      <td>28010</td>\n",
       "      <td>28010</td>\n",
       "      <td>60</td>\n",
       "      <td>tp:A:P</td>\n",
       "      <td>cm:i:5208</td>\n",
       "      <td>s1:i:28010</td>\n",
       "      <td>s2:i:1738</td>\n",
       "      <td>dv:f:0</td>\n",
       "      <td>rl:i:0</td>\n",
       "    </tr>\n",
       "  </tbody>\n",
       "</table>\n",
       "<p>326 rows × 18 columns</p>\n",
       "</div>"
      ],
      "text/plain": [
       "                                      0       1      2       3  4   \\\n",
       "37    NODE_36_length_13033_cov_50.209050   13033    581   13026  +   \n",
       "22    NODE_23_length_70822_cov_61.367919   70822      6   70555  -   \n",
       "41     NODE_39_length_6349_cov_42.715847    6349    130    6349  +   \n",
       "27    NODE_26_length_43980_cov_55.906643   43980  28020   43980  +   \n",
       "67    NODE_55_length_2141_cov_859.020357    2141      8    1335  -   \n",
       "..                                   ...     ...    ...     ... ..   \n",
       "150    NODE_89_length_342_cov_165.548837     342      5     333  +   \n",
       "9    NODE_10_length_227418_cov_49.530479  227418      4  227412  +   \n",
       "80    NODE_59_length_1559_cov_155.592877    1559      7    1556  +   \n",
       "301   NODE_143_length_224_cov_238.072165     224      4     223  -   \n",
       "26    NODE_26_length_43980_cov_55.906643   43980      5   28015  +   \n",
       "\n",
       "                5        6        7        8       9       10  11      12  \\\n",
       "37   NZ_CP006663.1   117755        1    12446   12445   12445  60  tp:A:P   \n",
       "22   NZ_CP006661.1   140825        2    70551   70537   70549  60  tp:A:P   \n",
       "41   NZ_CP006662.2    85161        3     7036    6175    7033  60  tp:A:P   \n",
       "27   NZ_CP006659.2  5435746        5    15965   15960   15960  60  tp:A:P   \n",
       "67   NZ_CP006660.1     2014        7     1334    1327    1327  60  tp:A:P   \n",
       "..             ...      ...      ...      ...     ...     ...  ..     ...   \n",
       "150  NZ_CP006659.2  5435746  5178441  5178769     328     328   0  tp:A:P   \n",
       "9    NZ_CP006659.2  5435746  5178915  5406323  227281  227408  60  tp:A:P   \n",
       "80   NZ_CP006659.2  5435746  5406209  5407758    1549    1549   0  tp:A:S   \n",
       "301  NZ_CP006659.2  5435746  5407635  5407854     219     219   0  tp:A:S   \n",
       "26   NZ_CP006659.2  5435746  5407736  5435746   28010   28010  60  tp:A:P   \n",
       "\n",
       "             13           14           15           16        17  \n",
       "37    cm:i:2372   s1:i:12445     s2:i:433  dv:f:0.0000    rl:i:0  \n",
       "22   cm:i:13245   s1:i:70537     s2:i:114  dv:f:0.0000  rl:i:186  \n",
       "41    cm:i:1141    s1:i:6073     s2:i:122  dv:f:0.0001  rl:i:173  \n",
       "27    cm:i:3026   s1:i:15960     s2:i:127  dv:f:0.0000    rl:i:0  \n",
       "67     cm:i:249    s1:i:1327       s2:i:0  dv:f:0.0003    rl:i:0  \n",
       "..          ...          ...          ...          ...       ...  \n",
       "150     cm:i:64     s1:i:328     s2:i:328  dv:f:0.0010    rl:i:0  \n",
       "9    cm:i:42326  s1:i:227281    s2:i:1187  dv:f:0.0000  rl:i:429  \n",
       "80     cm:i:298    s1:i:1549  dv:f:0.0002       rl:i:0       NaN  \n",
       "301     cm:i:37     s1:i:219  dv:f:0.0018       rl:i:0       NaN  \n",
       "26    cm:i:5208   s1:i:28010    s2:i:1738       dv:f:0    rl:i:0  \n",
       "\n",
       "[326 rows x 18 columns]"
      ]
     },
     "execution_count": 99,
     "metadata": {},
     "output_type": "execute_result"
    }
   ],
   "source": [
    "final_df"
   ]
  },
  {
   "cell_type": "code",
   "execution_count": null,
   "id": "eb48ff1b-3bd1-4d66-8b82-294c6dd47401",
   "metadata": {},
   "outputs": [],
   "source": [
    "# for i in final_df.iloc[:,0]:\n",
    "#     print(i[:10], end =',')"
   ]
  },
  {
   "cell_type": "code",
   "execution_count": 100,
   "id": "8ea93935-a714-4f07-abab-6470fa3b5cfe",
   "metadata": {},
   "outputs": [],
   "source": [
    "final_df.to_csv(\"map.csv\")"
   ]
  },
  {
   "cell_type": "code",
   "execution_count": null,
   "id": "7f3f23ec-e765-43a3-bf76-260351d70dce",
   "metadata": {},
   "outputs": [],
   "source": [
    "target_id = 0\n",
    "gene_position = pd.read_csv(panta_output + '/gene_position.tsv', delimiter='\\t', header=None)\n",
    "gene_position.columns =['SampleID', 'ContigName', 'GeneSequence']\n",
    "target_contigs = [gene_position.iloc[i, 1] for i in range(len(gene_position.index)) if gene_position.iloc[i, 0]==target_id]"
   ]
  },
  {
   "cell_type": "code",
   "execution_count": null,
   "id": "6cc061c4-adbc-4af9-8e02-ca4117e6b3cd",
   "metadata": {},
   "outputs": [],
   "source": [
    "samples = pd.read_csv(panta_output + '/samples.tsv', delimiter='\\t', header=None)\n",
    "# samples"
   ]
  },
  {
   "cell_type": "code",
   "execution_count": null,
   "id": "372759b9-1e39-4aab-9e8e-35b042deb362",
   "metadata": {},
   "outputs": [],
   "source": [
    "target_contigs_list = [final_df.iloc[i, 0] for i in range(len(final_df.index)) if final_df.iloc[i, 0] in target_contigs]\n",
    "target_contigs_sorted = [final_df.iloc[i, 0]+'---'+str(final_df.iloc[i, 7])+'>'+str(final_df.iloc[i, 8]) for i in range(len(final_df.index)) if final_df.iloc[i, 0] in target_contigs]"
   ]
  },
  {
   "cell_type": "code",
   "execution_count": null,
   "id": "a40629a5-c6cb-40ae-9395-846a4871748e",
   "metadata": {},
   "outputs": [],
   "source": [
    "gene_position[gene_position.ContigName=='NODE_95_length_1592_cov_58.378660'].iloc[0,2].split(';')"
   ]
  },
  {
   "cell_type": "code",
   "execution_count": null,
   "id": "eff76bda-76a6-4cc1-a9cb-2f9b409783e3",
   "metadata": {},
   "outputs": [],
   "source": [
    "cluster_id = pangraph.gene2cluster_dict['Ecolitest_GCF_002860105-NODE_95_length_1592_cov_58.378660-PCILKDFA_04850@-1']"
   ]
  },
  {
   "cell_type": "code",
   "execution_count": null,
   "id": "cd2f5366-805f-4523-8475-015ed5836b2e",
   "metadata": {},
   "outputs": [],
   "source": [
    "gene_info = pd.read_csv(panta_output + \"/gene_info.tsv\", delimiter='\\t', header=None)\n",
    "gene_info.columns =['GeneName', 'SampleID', 'clusterID']"
   ]
  },
  {
   "cell_type": "code",
   "execution_count": null,
   "id": "d2bd2039-fe13-46d5-ac48-a8f5517bd48b",
   "metadata": {},
   "outputs": [],
   "source": [
    "gene_info[gene_info.clusterID==cluster_id]"
   ]
  },
  {
   "cell_type": "code",
   "execution_count": null,
   "id": "555b5448-d147-4790-8606-3c9e179aa3b6",
   "metadata": {},
   "outputs": [],
   "source": [
    "target_contigs_sorted[-4:]"
   ]
  },
  {
   "cell_type": "code",
   "execution_count": null,
   "id": "1919f425-77f0-4130-8ee2-dcd141164bdc",
   "metadata": {},
   "outputs": [],
   "source": [
    "# pangraph.adj_list0"
   ]
  },
  {
   "cell_type": "code",
   "execution_count": null,
   "id": "8bfe6670-0315-4fd6-93b2-76813c973246",
   "metadata": {},
   "outputs": [],
   "source": [
    "# cmd_dnadiff = '~/miniconda3/envs/amromics/bin/dnadiff '+ref_data +' '+ spades_output +'/contigs.fasta -p dna_diff/'+sim_name\n",
    "# os.system(cmd_dnadiff)"
   ]
  },
  {
   "cell_type": "code",
   "execution_count": null,
   "id": "94805bbf-be0d-4253-91e1-0c2bce9d94c1",
   "metadata": {},
   "outputs": [],
   "source": [
    "# Don't use SPADES, shovil keep files.\n",
    "# python readSimulator/readSimulator.py --outdir shredded_reads  --input ncbi-genomes-2023-01-07/GCF_000240185.1_ASM24018v2_genomic.fna --simulator art --simulator_path art_bin_MountRainier/art_illumina --iterations 100 --readlen 100 --depth 100  --opts '-ss HS20 -sam -p -m 400 -s 60'\n",
    "# investigate why we failed? #1/ connectivity in the assembly graph:\n",
    "# multiplicity of each node: now 1, change to more: use length and coverage\n",
    "# assembly graph: change to 500"
   ]
  },
  {
   "cell_type": "code",
   "execution_count": null,
   "id": "84699c11-8ded-4106-b828-435ef7400054",
   "metadata": {},
   "outputs": [],
   "source": [
    "def get_node_coverage(node_id):\n",
    "    return float(node_id.split('_')[5])\n",
    "get_node_coverage('NODE_45_length_30843_cov_18.832500')\n",
    "target_contigs_multi_1 = [item for item in target_contigs_list if get_node_coverage(item) <= 25.0]"
   ]
  },
  {
   "cell_type": "code",
   "execution_count": null,
   "id": "b84f6c2a-770f-45a4-aa3f-f5d7bddfdcd0",
   "metadata": {},
   "outputs": [],
   "source": [
    "def get_value(edge_df0, source_id, target_id):\n",
    "    # if source_id in edge_df0['source'].values and target_id in edge_df0['target'].values:\n",
    "    #     print(edge_df0[((edge_df0['source'] == source_id) & (edge_df0['target'] == target_id))])\n",
    "    # else:\n",
    "    #     print('No value')\n",
    "    df_res = edge_df0[((edge_df0['source'] == source_id) & (edge_df0['target'] == target_id))]\n",
    "    if len(df_res.index) == 1:\n",
    "        print(df_res.iloc[0, 2])\n",
    "    else:\n",
    "        print(\"No value\")\n",
    "# pangraph.edge_df0\n",
    "\n",
    "def next_node_multi_1(target_contigs_list, idx):\n",
    "    ## find the next node of multiplicity 1 after the index: idx\n",
    "    current_idx = idx + 1\n",
    "    while(get_node_coverage(target_contigs_list[current_idx]) >= 25.0):\n",
    "        current_idx += 1\n",
    "    return target_contigs_list[current_idx]"
   ]
  },
  {
   "cell_type": "code",
   "execution_count": null,
   "id": "9b8f97b5-4d2a-4434-8382-408333b57cc2",
   "metadata": {},
   "outputs": [],
   "source": [
    "# target_contigs_multi_1"
   ]
  },
  {
   "cell_type": "code",
   "execution_count": null,
   "id": "ac259408-6ad5-4400-acb5-3709bcf2c1a9",
   "metadata": {
    "jupyter": {
     "source_hidden": true
    },
    "tags": []
   },
   "outputs": [],
   "source": [
    "assembly_graph = pangraph.assembly_graph\n",
    "for i in range(len(target_contigs_list)-1):\n",
    "    print('---------------------- i =', i, '---------------------------------------------')\n",
    "    node1 = target_contigs_list[i]\n",
    "    node2 = target_contigs_list[i+1]\n",
    "    print(target_contigs_sorted[i],'::::::::', target_contigs_sorted[i+1])\n",
    "    source_id = 'C-' + str(pangraph.tail_contig[node1])\n",
    "    target_id = 'C-' + str(pangraph.head_contig[node2]) \n",
    "    source_node = node1 + pangraph.strand[node1]\n",
    "    target_node = node2 + pangraph.strand[node2]\n",
    "    \n",
    "    if assembly_graph.has_node(source_node) and assembly_graph.has_node(target_node):\n",
    "        print(\"Is there a path in the assembly graph? \", end ='')\n",
    "        print(nx.has_path(assembly_graph, source_node, target_node), end = ',')   \n",
    "        if nx.has_path(assembly_graph, source_node, target_node):\n",
    "            path_nucleotides = -1\n",
    "            path = nx.shortest_path(assembly_graph, source=source_node, target=target_node)\n",
    "            for idxp in range(1, len(path)-1):\n",
    "                path_nucleotides = path_nucleotides + int(path[idxp].split(\"_\")[3])\n",
    "            print(' number of nucleotides: ', path_nucleotides)\n",
    "        else:\n",
    "            print('<----xxxxxxxxxxxxxxxxxxxxxxxxxxxxxxxxxxxxx')\n",
    "    print(\"Is there a path in the pangenome graph? \", end ='')\n",
    "    if nx.has_path(pangraph.H, source_id, target_id):\n",
    "        p = nx.shortest_path(pangraph.H, source=source_id, target=target_id)\n",
    "        weight_p = 0.0\n",
    "        for node_p_idx in range(len(p)-1):\n",
    "            weight_p += pangraph.H[p[node_p_idx]][p[node_p_idx+1]]['weight']\n",
    "        if len(p) >= 2:\n",
    "            weight_p = 0.05 + weight_p/float((len(p)-1)*(len(p)-1))\n",
    "        print(\"Yes!, cost = \", weight_p)\n",
    "    else:\n",
    "        print(\"No path in Pangraph\")\n",
    "    print(\"Real cost between the two contigs: \", end ='')\n",
    "    get_value(pangraph.edge_df0, node1, node2)\n",
    "        \n",
    "#     if get_node_coverage(node2) >= 25.0:\n",
    "#         print('**************************************************')\n",
    "#         node2 = next_node_multi_1(target_contigs_list, i+1)\n",
    "#         print(node1, node2)\n",
    "#         source_id = 'C-' + str(pangraph.tail_contig[node1])\n",
    "#         target_id = 'C-' + str(pangraph.head_contig[node2]) \n",
    "#         source_node = node1 + pangraph.strand[node1]\n",
    "#         target_node = node2 + pangraph.strand[node2]\n",
    "#         get_value(pangraph.edge_df0, node1, node2)\n",
    "#         if nx.has_path(pangraph.H, source_id, target_id):\n",
    "#             p = nx.shortest_path(pangraph.H, source=source_id, target=target_id)\n",
    "#             weight_p = 0.0\n",
    "#             for node_p_idx in range(len(p)-1):\n",
    "#                 weight_p += pangraph.H[p[node_p_idx]][p[node_p_idx+1]]['weight']\n",
    "#             if len(p) >= 2:\n",
    "#                 weight_p = 0.05 + weight_p/float((len(p)-1)*(len(p)-1))\n",
    "#             print(weight_p)\n",
    "#         else:\n",
    "#             print(\"No path in Pangraph\")\n",
    "#         if assembly_graph.has_node(source_node) and assembly_graph.has_node(target_node):\n",
    "#             print(\"Is there a path in the assembly graph? \", end ='')\n",
    "#             print(nx.has_path(assembly_graph, source_node, target_node), end = ',')   \n",
    "#             if nx.has_path(assembly_graph, source_node, target_node):\n",
    "#                 path_nucleotides = -1\n",
    "#                 path = nx.shortest_path(assembly_graph, source=source_node, target=target_node)\n",
    "#                 for idxp in range(1, len(path)-1):\n",
    "#                     path_nucleotides = path_nucleotides + int(path[idxp].split(\"_\")[3])\n",
    "#                 print(\"Number of nucleo: \",  path_nucleotides) #len(path)\n",
    "#             else:\n",
    "#                 print('xxxxxxxxxxxxxxxxxxxxxxxxxxxxxxxxxxxxxxxxxxxxxxxxxxxx')\n",
    "            \n",
    "    \n",
    "    #     # sum_len = 0\n",
    "    #     # if nx.has_path(pangraph.H, source_id, target_id) or nx.has_path(assembly_graph, source_node, target_node):\n",
    "    #     #     sum_len += int(final_df.iloc[i,1])\n",
    "    #     #     print(sum_len, end='')\n",
    "    # else:\n",
    "    #     print(\"Restart............................................\")\n",
    "    #     sum_len = 0\n",
    "    # # print('')"
   ]
  },
  {
   "cell_type": "code",
   "execution_count": null,
   "id": "fd836ce1-8041-4358-b4b7-d2f115504794",
   "metadata": {},
   "outputs": [],
   "source": [
    "# pangraph.edge_df0"
   ]
  },
  {
   "cell_type": "code",
   "execution_count": null,
   "id": "cdd5a316-4e67-4a95-b446-1bf353165396",
   "metadata": {},
   "outputs": [],
   "source": [
    "# pangraph.edge_df0['source'].values"
   ]
  },
  {
   "cell_type": "code",
   "execution_count": null,
   "id": "5ba67867-330c-4f52-8220-b3fab4304976",
   "metadata": {},
   "outputs": [],
   "source": [
    "## Xet chieu trong trinh dai dien de sua roi inversion."
   ]
  },
  {
   "cell_type": "code",
   "execution_count": null,
   "id": "c1fd520a-b726-4bf7-a734-bd53423fb71e",
   "metadata": {},
   "outputs": [],
   "source": [
    "# Gui 3 file reference + 1 test sample"
   ]
  },
  {
   "cell_type": "code",
   "execution_count": null,
   "id": "d4f9b8d7-c5b9-429a-934a-7a7ca2cb5ffc",
   "metadata": {},
   "outputs": [],
   "source": [
    "# import glob\n",
    "# import os\n",
    "# list_file = glob.glob(\"/data/hoan/amromics/genome-graph/scaffold_output/quastResults_Kp50random_Kptest*/report.pdf\")"
   ]
  },
  {
   "cell_type": "code",
   "execution_count": null,
   "id": "a0bc3125-1500-4da8-8558-1b4816e8a2d6",
   "metadata": {
    "jupyter": {
     "source_hidden": true
    },
    "tags": []
   },
   "outputs": [],
   "source": [
    "# for file in list_file:\n",
    "#     sample_id = file.split(\"/\")[-2].split(\"_\")[4]\n",
    "#     cmd = 'mv ' + file +' '+ file[:-10] + str(sample_id) + 't3.pdf'\n",
    "#     # print(cmd)\n",
    "#     os.system(cmd)"
   ]
  },
  {
   "cell_type": "code",
   "execution_count": 108,
   "id": "6c5c2744-39bd-466d-9bd5-72763f629a30",
   "metadata": {},
   "outputs": [],
   "source": [
    "# pangraph_MRL.adj_list_assembly\n",
    "# pangraph_opt.adj_list_assembly\n",
    "# pangraph_MRL\n",
    "# pangraph_MRL.adj_list0"
   ]
  },
  {
   "cell_type": "code",
   "execution_count": 109,
   "id": "df9b5ded-880b-4d7d-8653-9334d420a279",
   "metadata": {},
   "outputs": [],
   "source": [
    "pangraph_MRL.node_multiplicity['NODE_62_length_1303_cov_115.303571']"
   ]
  },
  {
   "cell_type": "code",
   "execution_count": 110,
   "id": "b8c2077b-2718-4133-92e1-a778d7e94d72",
   "metadata": {},
   "outputs": [
    {
     "ename": "AttributeError",
     "evalue": "'PanGraph' object has no attribute 'basecoverage'",
     "output_type": "error",
     "traceback": [
      "\u001b[0;31m---------------------------------------------------------------------------\u001b[0m",
      "\u001b[0;31mAttributeError\u001b[0m                            Traceback (most recent call last)",
      "\u001b[0;32m/tmp/ipykernel_63232/1310069058.py\u001b[0m in \u001b[0;36m<module>\u001b[0;34m\u001b[0m\n\u001b[0;32m----> 1\u001b[0;31m \u001b[0mpangraph_MRL\u001b[0m\u001b[0;34m.\u001b[0m\u001b[0mbasecoverage\u001b[0m\u001b[0;34m\u001b[0m\u001b[0;34m\u001b[0m\u001b[0m\n\u001b[0m",
      "\u001b[0;31mAttributeError\u001b[0m: 'PanGraph' object has no attribute 'basecoverage'"
     ]
    }
   ],
   "source": [
    "pangraph_MRL.basecoverage"
   ]
  },
  {
   "cell_type": "code",
   "execution_count": null,
   "id": "96d2b53b-69f7-4162-8e32-8c9b8397f10e",
   "metadata": {},
   "outputs": [],
   "source": [
    "conda_dir = 'source ~/miniconda3/etc/profile.d/conda.sh && conda activate amromics && '\n",
    "# input_data = multicsar_output_fasta\n",
    "# os.system('rm -r ' + prokka_target_dir +'temp/')\n",
    "# input_data = pangraph_output_opt\n",
    "# input_data = spades_output + '/contigs.fasta'\n",
    "# prokka_bin = conda_dir + 'prokka --outdir ' + prokka_target_dir +'Kp_ERR1474547_spades_v2' +data_base +' --prefix ' + sim_name +' '+input_data\n",
    "prokka_bin = conda_dir + 'prokka --outdir ' + prokka_target_dir +'Kp_ERR1474547_refine_v5' +data_base +' --prefix ' + sim_name +' '+pangraph_output_default\n",
    "# multicsar_output_fasta = multicsar_output +'/multi-csar.nuc.out.fna'\n",
    "# prokka_bin = conda_dir + 'prokka --outdir ' + prokka_target_dir +'Kp_ERR1474547_multi-csar' +data_base +' --prefix ' + sim_name +' '+multicsar_output_fasta\n",
    "# prokka_bin = conda_dir + 'prokka --outdir ' + prokka_target_dir +'Kp_ERR1474547_ragout' +data_base +' --prefix ' + sim_name +' /data/hoan/amromics/genome-graph/scaffold_output/multicsar/ragout_Kp50random_refSeq_GCF_000364385_ERR1474547__plasmid_v01/mg1655_scaffolds.fasta'\n",
    "# prokka_bin = conda_dir + 'prokka --outdir ' + prokka_target_dir +'Kp_test' +data_base +' --prefix ' + sim_name +' /data/hoan/amromics/genome-graph/scaffold_output/test_genome.fasta'\n",
    "# prokka_bin = conda_dir + 'prokka --outdir ' + prokka_target_dir +'Kp_385Ref' +data_base +' --prefix ' + sim_name +' /data/hoan/amromics/genome-graph/data/GCF_000364385.3_ASM36438v3_genomic.fna'\n",
    "os.system(prokka_bin)\n",
    "# pangraph_output_default"
   ]
  },
  {
   "cell_type": "code",
   "execution_count": null,
   "id": "615d4c53-8d8c-40e1-aba3-096f1606debc",
   "metadata": {},
   "outputs": [],
   "source": [
    "prokka_bin\n",
    "prokka_target_dir +'Kp_test'"
   ]
  },
  {
   "cell_type": "code",
   "execution_count": 129,
   "id": "5b3276e2-14f7-4476-b45b-d81c961d20b0",
   "metadata": {},
   "outputs": [
    {
     "data": {
      "text/plain": [
       "'/data/hoan/amromics/genome-graph/scaffold_output/pangraph_default_Kp50random_refSeq_GCF_000364385_ERR1474547__assemBiGraph2_v01.fasta'"
      ]
     },
     "execution_count": 129,
     "metadata": {},
     "output_type": "execute_result"
    }
   ],
   "source": [
    "prokka_bin\n",
    "pangraph_output_default"
   ]
  },
  {
   "cell_type": "code",
   "execution_count": null,
   "id": "deaf48df-8a53-4344-980a-094f0a1b2864",
   "metadata": {},
   "outputs": [],
   "source": [
    "prokka_target_dir +'temp/'+sim_name+'.gff'"
   ]
  },
  {
   "cell_type": "code",
   "execution_count": null,
   "id": "9e8e28e6-7b66-443a-b662-4df5d92403c6",
   "metadata": {},
   "outputs": [],
   "source": [
    "input_data"
   ]
  },
  {
   "cell_type": "code",
   "execution_count": null,
   "id": "ab198159-9edd-410d-95d2-5194e7261797",
   "metadata": {},
   "outputs": [],
   "source": [
    "for v in pangraph_opt.sample_df.ContigName:\n",
    "    print(v, end=', ')"
   ]
  },
  {
   "cell_type": "code",
   "execution_count": null,
   "id": "6bbeb22e-c99a-4ab6-a36e-201a41cda5b8",
   "metadata": {},
   "outputs": [],
   "source": [
    "pangraph_opt.assembly_graph.nodes()"
   ]
  },
  {
   "cell_type": "code",
   "execution_count": null,
   "id": "e6924e54-5ee2-4477-b7ae-5d167682dcba",
   "metadata": {},
   "outputs": [],
   "source": [
    "len('NODE_11_length_189430_cov_50.295141_c2')"
   ]
  },
  {
   "cell_type": "code",
   "execution_count": null,
   "id": "9dcf3672-cf98-4e41-a874-b8a4ce6d8690",
   "metadata": {},
   "outputs": [],
   "source": [
    "for ele in range(10, -1, -1):\n",
    "    print (ele)"
   ]
  },
  {
   "cell_type": "code",
   "execution_count": null,
   "id": "c0af7525-ef75-4c00-952f-45000b16df4b",
   "metadata": {},
   "outputs": [],
   "source": []
  }
 ],
 "metadata": {
  "kernelspec": {
   "display_name": "Environment (panta)",
   "language": "python",
   "name": "panta"
  },
  "language_info": {
   "codemirror_mode": {
    "name": "ipython",
    "version": 3
   },
   "file_extension": ".py",
   "mimetype": "text/x-python",
   "name": "python",
   "nbconvert_exporter": "python",
   "pygments_lexer": "ipython3",
   "version": "3.7.10"
  }
 },
 "nbformat": 4,
 "nbformat_minor": 5
}
