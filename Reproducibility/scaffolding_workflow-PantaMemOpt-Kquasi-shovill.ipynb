{
 "cells": [
  {
   "cell_type": "code",
   "execution_count": 1,
   "id": "8bbaa39d-c138-4e17-b086-13e0820e0c21",
   "metadata": {},
   "outputs": [],
   "source": [
    "## Idea: Using length + coverage in the scoring function"
   ]
  },
  {
   "cell_type": "code",
   "execution_count": 2,
   "id": "adc90909-d41c-4101-b704-29101244d823",
   "metadata": {},
   "outputs": [],
   "source": [
    "import os\n",
    "import traceback\n",
    "import logging\n",
    "import os.path\n",
    "import networkx as nx\n",
    "import pandas as pd\n",
    "import numpy as np\n",
    "import pylab as pl\n",
    "from matplotlib import collections  as mc\n",
    "import glob\n",
    "import re\n",
    "import csv\n",
    "import shutil"
   ]
  },
  {
   "cell_type": "code",
   "execution_count": 3,
   "id": "7fbbffad-ccc0-42d5-a21d-58956f666e4c",
   "metadata": {},
   "outputs": [],
   "source": [
    "# from pangraph.utils import overlap\n",
    "# overlap(\"AAAAAAAAAAAAAAAAAAAAAAAAAAAAAAAAAAAAAAAAAAA1AAAAA\", \"AAAAAA1BBBBBBBBBBBBBBBBBBBBBBBBBBBBBBBBBBBBB\")"
   ]
  },
  {
   "cell_type": "code",
   "execution_count": 4,
   "id": "db592900-d9b6-48a3-a1d3-2c698cb71b4d",
   "metadata": {},
   "outputs": [],
   "source": [
    "# simversion = '_v01'\n",
    "simversion = '_plasmid_v01'\n",
    "simversionPangraph = '_assemBiGraph2_v01' \n",
    "# 1 True, 0 False\n",
    "run_prokka = 0\n",
    "art_simulator = 0\n",
    "run_art = 0\n",
    "run_spades = 0\n",
    "run_shovill = 0\n",
    "run_panta = 0\n",
    "split_paralogs = 1\n",
    "run_multicsar = 0\n",
    "run_ragout = 0\n",
    "run_pangraph = 1\n",
    "pangenome_data = '/data/hoan/amromics/data/ncbi/Kq_full/'\n",
    "# pangenome_data = '/data/hoan/amromics/data/ncbi/Kp50random/'\n",
    "scaffold_out_dir = '/data/hoan/amromics/genome-graph/scaffold_output/'"
   ]
  },
  {
   "cell_type": "code",
   "execution_count": 5,
   "id": "99d38323-909c-4503-b4ac-a32fdbbd7f3c",
   "metadata": {},
   "outputs": [],
   "source": [
    "## Please make a directory for prokka in the pangenome_data"
   ]
  },
  {
   "cell_type": "code",
   "execution_count": 6,
   "id": "c312fb56-6eb1-4737-8f81-76b3a4ced570",
   "metadata": {},
   "outputs": [
    {
     "name": "stdout",
     "output_type": "stream",
     "text": [
      "Use the correct database for the species:   --cpus 30\n",
      "Use the correct database for the species:   --cpus 30\n"
     ]
    }
   ],
   "source": [
    "if 'Kp' in pangenome_data:\n",
    "    data_base = ' --genus Klebsiella --species pneumoniae --cpus 30'\n",
    "elif 'Ecoli' in pangenome_data:\n",
    "    data_base = ' --genus Escherichia --species coli --cpus 30'\n",
    "else:\n",
    "    data_base = ' --cpus 30'\n",
    "prokka_target_dir = '/data/hoan/amromics/data/ncbi/Ecolitest/prokka/'\n",
    "scaffold_out_dir = '/data/hoan/amromics/genome-graph/scaffold_output/'\n",
    "print(\"Use the correct database for the species: \", data_base)\n",
    "print(\"Use the correct database for the species: \", data_base)"
   ]
  },
  {
   "cell_type": "code",
   "execution_count": 7,
   "id": "70de34db-9a3f-4d08-bc34-b7f6699e11e8",
   "metadata": {},
   "outputs": [],
   "source": [
    "try:\n",
    "    %load_ext autoreload\n",
    "    %autoreload 2\n",
    "except Exception as e:\n",
    "    logging.error(traceback.format_exc())"
   ]
  },
  {
   "cell_type": "code",
   "execution_count": 8,
   "id": "f1472df6-9eb9-424b-8928-03c99e41c0f8",
   "metadata": {},
   "outputs": [],
   "source": [
    "output_dir = pangenome_data + 'temp'\n",
    "prokka_dir = pangenome_data + 'prokka'\n",
    "conda_dir = 'source ~/miniconda3/etc/profile.d/conda.sh && conda activate amromics && '\n",
    "if run_prokka:\n",
    "    fffile = pangenome_data + 'fna/*.fna'\n",
    "    list_database = glob.glob(fffile)\n",
    "    for i in range(len(list_database)):\n",
    "        input_data = list_database[i]\n",
    "        print(input_data)\n",
    "        file_name = input_data.split(\"/\")[-1][:-4]\n",
    "        prokka_bin = conda_dir + 'prokka --outdir ' + output_dir +data_base +' --prefix ' + file_name +' '+input_data\n",
    "        os.system(prokka_bin)\n",
    "        os.system('cp ' + output_dir + '/'+file_name+'.gff ' + prokka_dir)\n",
    "        os.system('rm -r '+ output_dir)"
   ]
  },
  {
   "cell_type": "code",
   "execution_count": 9,
   "id": "83547e3c-c2c2-42e8-9666-b3a1cff1dcad",
   "metadata": {},
   "outputs": [],
   "source": [
    "if 1:\n",
    "    os.system('rm -r ' + pangenome_data + 'fna/')\n",
    "    os.system('mkdir ' + pangenome_data + 'fna/')\n",
    "    os.system('cp -r '+ pangenome_data + '*.fna.gz '+ pangenome_data + 'fna/')\n",
    "    os.system('~/miniconda3/envs/panta/bin/gzip -d ' + pangenome_data + 'fna/*.fna.gz')"
   ]
  },
  {
   "cell_type": "code",
   "execution_count": 10,
   "id": "b5c4219e-b96b-4e69-9545-8c8e1e67de28",
   "metadata": {},
   "outputs": [],
   "source": [
    "# ### Run ART simulator\n",
    "# art_simulator = 1\n",
    "# sim_dir = '/data/hoan/amromics/simulation/'\n",
    "# art_bin = '/data/hoan/amromics/simulation/art_bin/./art_illumina'\n",
    "# ref_data = '/data/hoan/amromics/data/ncbi/Ecolitest/GCF_002899495.1_ASM289949v1_genomic.fna'      # test 2\n",
    "# sim_name = ref_data.split(\"/\")[-2] + '_' + ref_data.split(\"/\")[-1][:-1][:13]\n",
    "# sim_output = '/data/hoan/amromics/simulation/art_output/sim_reads_' + sim_name + simversion[-4:]\n",
    "# if run_art: \n",
    "#     if simversion[-3:]=='v01':\n",
    "#         os.system(art_bin+' -ss HS20 -sam -i '+ref_data+' -p -l 100 -f 70 -m 400 -s 60 -o '+sim_output) # _v01\n",
    "#     if simversion[-3:]=='v02':\n",
    "#         os.system(art_bin+' -ss HS20 -sam -i '+ref_data+' -p -l 100 -f 70 -m 400 -s 10 -o '+sim_output) # _v02\n",
    "#     if simversion[-3:]=='v03':\n",
    "#         os.system(art_bin+' -ss MSv3 -sam -i '+ref_data+' -p -l 250 -f 70 -m 400 -s 60 -o '+sim_output) # _v03\n",
    "#     if simversion[-3:]=='v04':\n",
    "#         os.system(art_bin+' -ss MSv3 -sam -i '+ref_data+' -p -l 250 -f 70 -m 400 -s 10 -o '+sim_output) # _v04"
   ]
  },
  {
   "cell_type": "markdown",
   "id": "87fd93fb-e2d0-4f37-92b0-7f39bf9e37c5",
   "metadata": {},
   "source": [
    "### Run SPADES assembly"
   ]
  },
  {
   "cell_type": "code",
   "execution_count": 11,
   "id": "7c671bc5-22ad-4770-950a-3dd61e11cebc",
   "metadata": {},
   "outputs": [
    {
     "name": "stdout",
     "output_type": "stream",
     "text": [
      "Ref data:  /data/hoan/amromics/data/ncbi/paired_data/kq_700603/GCF_001596075.2_ASM159607v2_genomic.fna\n",
      "/data/hoan/amromics/data/ncbi/paired_data/kq_700603/ERR1474548_\n"
     ]
    }
   ],
   "source": [
    "# ref_data = \"/data/hoan/amromics/data/ncbi/Kp_BAA-2146/refSeq/GCF_000364385.3_ASM36438v3_genomic.fna\"\n",
    "# read_input = '/data/hoan/amromics/data/ncbi/Kp_BAA-2146/reads_data/ERR1474547_'\n",
    "ref_data = \"/data/hoan/amromics/data/ncbi/paired_data/kq_700603/GCF_001596075.2_ASM159607v2_genomic.fna\"\n",
    "read_input = '/data/hoan/amromics/data/ncbi/paired_data/kq_700603/ERR1474548_'\n",
    "print(\"Ref data: \", ref_data)\n",
    "if art_simulator:\n",
    "    sim_name = ref_data.split(\"/\")[-2] + '_' + ref_data.split(\"/\")[-1][:-1][:13]\n",
    "else:\n",
    "    sim_name = ref_data.split(\"/\")[-2] + '_' + ref_data.split(\"/\")[-1][:-1][:13] +'_'+ read_input.split(\"/\")[-1]\n",
    "print(read_input)"
   ]
  },
  {
   "cell_type": "code",
   "execution_count": 12,
   "id": "6f964b5f-7c00-4c9b-b8d7-e6c3316e8ee3",
   "metadata": {},
   "outputs": [
    {
     "data": {
      "text/plain": [
       "'kq_700603_GCF_001596075_ERR1474548_'"
      ]
     },
     "execution_count": 12,
     "metadata": {},
     "output_type": "execute_result"
    }
   ],
   "source": [
    "sim_name"
   ]
  },
  {
   "cell_type": "code",
   "execution_count": 13,
   "id": "9a8c3d4c-9b2a-484c-a1c8-60acf3e64766",
   "metadata": {},
   "outputs": [],
   "source": [
    "# spades_output = '/data/hoan/amromics/simulation/art_output/' + 'spades_output_' + sim_name + simversion[-4:]\n",
    "spades_output = '/data/hoan/amromics/simulation/art_output/' + 'spades_output_' + sim_name + simversion[-4:]"
   ]
  },
  {
   "cell_type": "code",
   "execution_count": 14,
   "id": "2fa102dd-f8b3-49f6-a2d4-e89689a72d8f",
   "metadata": {},
   "outputs": [],
   "source": [
    "if run_spades:\n",
    "    spades_bin ='~/miniconda3/envs/amromics/bin/spades.py'\n",
    "    # os.system(spades_bin+' --isolate -1 '+sim_output+'1.fq -2 '+sim_output+'2.fq -t 50 -o '+spades_output)\n",
    "    os.system(spades_bin+' --isolate -1 '+read_input+'1.fastq -2 '+read_input+'2.fastq -t 50 -o '+spades_output)"
   ]
  },
  {
   "cell_type": "markdown",
   "id": "4bccc93a-444a-44c7-8f0f-9b5d6c10df4a",
   "metadata": {},
   "source": [
    "### Run Shovill"
   ]
  },
  {
   "cell_type": "code",
   "execution_count": 15,
   "id": "8d11366f-ac35-49bf-a00e-2fedd1e69d88",
   "metadata": {},
   "outputs": [],
   "source": [
    "shovill_output = '/data/hoan/amromics/simulation/art_output/' + 'shovill_output_' + sim_name + simversion[-4:]\n",
    "shovill_cmd = conda_dir + 'shovill --R1 '+read_input+'1.fastq --R2 '+read_input+'2.fastq --depth 200 --outdir '+shovill_output+' --keepfiles --cpus 8 --ram 28 --trim'"
   ]
  },
  {
   "cell_type": "code",
   "execution_count": 16,
   "id": "d4bdc852-0273-49da-b633-476e64716cc8",
   "metadata": {},
   "outputs": [
    {
     "name": "stdout",
     "output_type": "stream",
     "text": [
      "Change SPADES to Shovill\n"
     ]
    }
   ],
   "source": [
    "spades_output = shovill_output + '/spades'\n",
    "print(\"Change SPADES to Shovill\")"
   ]
  },
  {
   "cell_type": "code",
   "execution_count": 17,
   "id": "73cd9f0b-0390-4451-901e-89bb1d996542",
   "metadata": {},
   "outputs": [
    {
     "data": {
      "text/plain": [
       "'/data/hoan/amromics/simulation/art_output/shovill_output_kq_700603_GCF_001596075_ERR1474548__v01/spades'"
      ]
     },
     "execution_count": 17,
     "metadata": {},
     "output_type": "execute_result"
    }
   ],
   "source": [
    "spades_output"
   ]
  },
  {
   "cell_type": "code",
   "execution_count": null,
   "id": "60042b63-65f4-473e-b01d-de2c542830e3",
   "metadata": {},
   "outputs": [],
   "source": []
  },
  {
   "cell_type": "code",
   "execution_count": 18,
   "id": "e2bdeb3f-4196-440f-8b01-48008dd4fdd1",
   "metadata": {},
   "outputs": [],
   "source": [
    "if run_shovill:\n",
    "    os.system('rm -r ' + shovill_output)\n",
    "    os.system(shovill_cmd)"
   ]
  },
  {
   "cell_type": "code",
   "execution_count": 19,
   "id": "411ee0cf-b17b-4ce4-8afc-3f901e123feb",
   "metadata": {},
   "outputs": [],
   "source": [
    "if run_shovill:\n",
    "    ## Convert shovill output to the SPADES\n",
    "    parent_dir = shovill_output + '/'\n",
    "    input_file = parent_dir + 'contigs.fa'; filenameOut = parent_dir + 'spades/contigs.fasta'\n",
    "    import textwrap\n",
    "    from Bio import SeqIO\n",
    "    with open(filenameOut, \"w\") as outfile:\n",
    "        for seq_record in SeqIO.parse(input_file, \"fasta\"): \n",
    "            # print(seq_record.id)\n",
    "            # value = str(repr(seq_record.seq))\n",
    "            value = str(seq_record.seq)\n",
    "            # print(value)\n",
    "            key = seq_record.description.split(' ')[4][9:-6]\n",
    "            outfile.write(\">\")\n",
    "            outfile.write(key + \"\\n\")\n",
    "            outfile.write(\"\\n\".join(textwrap.wrap(value, 60)))\n",
    "            outfile.write(\"\\n\")"
   ]
  },
  {
   "cell_type": "code",
   "execution_count": null,
   "id": "03331913-0173-427b-92a9-37fb8bbdcbf0",
   "metadata": {},
   "outputs": [],
   "source": []
  },
  {
   "cell_type": "markdown",
   "id": "810a07c5-1c26-4c6f-9f60-bcf6aae01147",
   "metadata": {},
   "source": [
    "### Run panta"
   ]
  },
  {
   "cell_type": "code",
   "execution_count": 20,
   "id": "97033d06-5c90-4760-a312-d6c129cf00d0",
   "metadata": {},
   "outputs": [
    {
     "data": {
      "text/plain": [
       "'_Kq_full_kq_700603_GCF_001596075_ERR1474548__plasmid_v01'"
      ]
     },
     "execution_count": 20,
     "metadata": {},
     "output_type": "execute_result"
    }
   ],
   "source": [
    "simversionRef = '_'+ pangenome_data.split('/')[-2] +'_'+ sim_name + simversion\n",
    "simversionRef"
   ]
  },
  {
   "cell_type": "code",
   "execution_count": 21,
   "id": "9421e4e9-36ed-4ec5-a6bb-72448074c4a8",
   "metadata": {},
   "outputs": [
    {
     "name": "stderr",
     "output_type": "stream",
     "text": [
      "rm: cannot remove ‘/data/hoan/amromics/data/ncbi/Ecolitest/prokka/temp/’: No such file or directory\n",
      "[05:53:57] This is prokka 1.14.6\n",
      "[05:53:57] Written by Torsten Seemann <torsten.seemann@gmail.com>\n",
      "[05:53:57] Homepage is https://github.com/tseemann/prokka\n",
      "[05:53:57] Local time is Mon Apr 24 05:53:57 2023\n",
      "[05:53:57] You are vanhoan310\n",
      "[05:53:57] Operating system is linux\n",
      "[05:53:57] You have BioPerl 1.007002\n",
      "[05:53:57] System has 72 cores.\n",
      "[05:53:57] Will use maximum of 30 cores.\n",
      "[05:53:57] Annotating as >>> Bacteria <<<\n",
      "[05:53:57] Generating locus_tag from '/data/hoan/amromics/simulation/art_output/shovill_output_kq_700603_GCF_001596075_ERR1474548__v01/spades/contigs.fasta' contents.\n",
      "[05:53:57] Setting --locustag FHEHPLMN from MD5 f1e1956741ae21a0408710cd6d1e6030\n",
      "[05:53:57] Creating new output folder: /data/hoan/amromics/data/ncbi/Ecolitest/prokka/temp\n",
      "[05:53:57] Running: mkdir -p \\/data\\/hoan\\/amromics\\/data\\/ncbi\\/Ecolitest\\/prokka\\/temp\n",
      "[05:53:57] Using filename prefix: kq_700603_GCF_001596075_ERR1474548_.XXX\n",
      "[05:53:57] Setting HMMER_NCPU=1\n",
      "[05:53:57] Writing log to: /data/hoan/amromics/data/ncbi/Ecolitest/prokka/temp/kq_700603_GCF_001596075_ERR1474548_.log\n",
      "[05:53:57] Command: /home/vanhoan310/miniconda3/envs/amromics/bin/prokka --outdir /data/hoan/amromics/data/ncbi/Ecolitest/prokka/temp --cpus 30 --prefix kq_700603_GCF_001596075_ERR1474548_ /data/hoan/amromics/simulation/art_output/shovill_output_kq_700603_GCF_001596075_ERR1474548__v01/spades/contigs.fasta\n",
      "[05:53:57] Appending to PATH: /data/hoan/mybin/miniconda3/envs/amromics/bin\n",
      "[05:53:57] Looking for 'aragorn' - found /home/vanhoan310/miniconda3/envs/amromics/bin/aragorn\n",
      "[05:53:57] Determined aragorn version is 001002 from 'ARAGORN v1.2.41 Dean Laslett'\n",
      "[05:53:57] Looking for 'barrnap' - found /home/vanhoan310/miniconda3/envs/amromics/bin/barrnap\n",
      "[05:53:57] Determined barrnap version is 000009 from 'barrnap 0.9'\n",
      "[05:53:57] Looking for 'blastp' - found /home/vanhoan310/miniconda3/envs/amromics/bin/blastp\n",
      "[05:53:59] Determined blastp version is 002012 from 'blastp: 2.12.0+'\n",
      "[05:53:59] Looking for 'cmpress' - found /home/vanhoan310/miniconda3/envs/amromics/bin/cmpress\n",
      "[05:53:59] Determined cmpress version is 001001 from '# INFERNAL 1.1.4 (Dec 2020)'\n",
      "[05:53:59] Looking for 'cmscan' - found /home/vanhoan310/miniconda3/envs/amromics/bin/cmscan\n",
      "[05:53:59] Determined cmscan version is 001001 from '# INFERNAL 1.1.4 (Dec 2020)'\n",
      "[05:53:59] Looking for 'egrep' - found /bin/egrep\n",
      "[05:53:59] Looking for 'find' - found /bin/find\n",
      "[05:53:59] Looking for 'grep' - found /bin/grep\n",
      "[05:53:59] Looking for 'hmmpress' - found /home/vanhoan310/miniconda3/envs/amromics/bin/hmmpress\n",
      "[05:54:00] Determined hmmpress version is 003003 from '# HMMER 3.3.2 (Nov 2020); http://hmmer.org/'\n",
      "[05:54:00] Looking for 'hmmscan' - found /home/vanhoan310/miniconda3/envs/amromics/bin/hmmscan\n",
      "[05:54:00] Determined hmmscan version is 003003 from '# HMMER 3.3.2 (Nov 2020); http://hmmer.org/'\n",
      "[05:54:00] Looking for 'java' - found /home/vanhoan310/miniconda3/envs/amromics/bin/java\n",
      "[05:54:00] Looking for 'makeblastdb' - found /home/vanhoan310/miniconda3/envs/amromics/bin/makeblastdb\n",
      "[05:54:00] Determined makeblastdb version is 002012 from 'makeblastdb: 2.12.0+'\n",
      "[05:54:00] Looking for 'minced' - found /home/vanhoan310/miniconda3/envs/amromics/bin/minced\n",
      "[05:54:01] Determined minced version is 004002 from 'minced 0.4.2'\n",
      "[05:54:01] Looking for 'parallel' - found /home/vanhoan310/miniconda3/envs/amromics/bin/parallel\n",
      "[05:54:01] Determined parallel version is 20220222 from 'GNU parallel 20220222'\n",
      "[05:54:01] Looking for 'prodigal' - found /home/vanhoan310/miniconda3/envs/amromics/bin/prodigal\n",
      "[05:54:01] Determined prodigal version is 002006 from 'Prodigal V2.6.3: February, 2016'\n",
      "[05:54:01] Looking for 'prokka-genbank_to_fasta_db' - found /home/vanhoan310/miniconda3/envs/amromics/bin/prokka-genbank_to_fasta_db\n",
      "[05:54:01] Looking for 'sed' - found /bin/sed\n",
      "[05:54:01] Looking for 'tbl2asn' - found /home/vanhoan310/miniconda3/envs/amromics/bin/tbl2asn\n",
      "[05:54:02] Determined tbl2asn version is 025007 from 'tbl2asn 25.7   arguments:'\n",
      "[05:54:02] Using genetic code table 11.\n",
      "[05:54:02] Loading and checking input file: /data/hoan/amromics/simulation/art_output/shovill_output_kq_700603_GCF_001596075_ERR1474548__v01/spades/contigs.fasta\n",
      "[05:54:02] Wrote 98 contigs totalling 5486764 bp.\n",
      "[05:54:02] Predicting tRNAs and tmRNAs\n",
      "[05:54:02] Running: aragorn -l -gc11  -w \\/data\\/hoan\\/amromics\\/data\\/ncbi\\/Ecolitest\\/prokka\\/temp\\/kq_700603_GCF_001596075_ERR1474548_\\.fna\n",
      "[05:54:10] 1 tRNA-Asp [1188,1264] 35 (gtc)\n",
      "[05:54:10] 2 tRNA-Asp [10628,10704] 35 (gtc)\n",
      "[05:54:10] 3 tRNA-Thr c[83404,83479] 34 (cgt)\n",
      "[05:54:10] 4 tRNA-Arg [298420,298496] 35 (tct)\n",
      "[05:54:10] 5 tRNA-Gln c[571408,571482] 33 (ctg)\n",
      "[05:54:10] 6 tRNA-Gln c[571559,571633] 33 (ctg)\n",
      "[05:54:10] 7 tRNA-Met c[571681,571757] 35 (cat)\n",
      "[05:54:10] 8 tRNA-Gln c[571781,571855] 33 (ttg)\n",
      "[05:54:10] 9 tRNA-Gln c[571892,571966] 33 (ttg)\n",
      "[05:54:10] 10 tRNA-Leu c[571990,572074] 35 (tag)\n",
      "[05:54:10] 11 tRNA-Met c[572084,572160] 35 (cat)\n",
      "[05:54:10] 12 tRNA-Lys [633562,633637] 34 (ttt)\n",
      "[05:54:10] 13 tRNA-Val [633763,633838] 34 (tac)\n",
      "[05:54:10] 14 tRNA-Lys [633841,633916] 34 (ttt)\n",
      "[05:54:10] 15 tRNA-Val [633969,634044] 34 (tac)\n",
      "[05:54:10] 16 tRNA-Lys [634048,634123] 34 (ttt)\n",
      "[05:54:10] 17 tRNA-Lys [634170,634245] 34 (ttt)\n",
      "[05:54:10] 18 tRNA-Lys [634379,634454] 34 (ttt)\n",
      "[05:54:10] 19 tRNA-Ser [919339,919426] 35 (tga)\n",
      "[05:54:10] 20 tRNA-Ser c[1016686,1016773] 35 (gga)\n",
      "[05:54:10] 21 tRNA-Ser c[1019587,1019674] 35 (gga)\n",
      "[05:54:10] 1 tRNA-Asp c[418662,418755] 32 (atc)\n",
      "[05:54:10] 1 tRNA-Pro [161991,162067] 35 (ggg)\n",
      "[05:54:10] 2 tRNA-Arg [326469,326543] 34 (cct)\n",
      "[05:54:10] 3 tRNA-Ala c[348431,348506] 34 (ggc)\n",
      "[05:54:10] 4 tRNA-Ala c[348548,348623] 34 (ggc)\n",
      "[05:54:10] 5 tRNA-Val [351325,351400] 34 (tac)\n",
      "[05:54:10] 6 tRNA-Val [351446,351521] 34 (tac)\n",
      "[05:54:10] 7 tRNA-Val [351568,351643] 34 (tac)\n",
      "[05:54:10] 8 tRNA-Lys [351648,351723] 34 (ttt)\n",
      "[05:54:10] 1 tRNA-Asn c[69598,69673] 34 (gtt)\n",
      "[05:54:10] 2 tRNA-Asn [71430,71505] 34 (gtt)\n",
      "[05:54:10] 3 tRNA-Asn c[80257,80332] 34 (gtt)\n",
      "[05:54:10] 4 tRNA-Asn c[83747,83822] 34 (gtt)\n",
      "[05:54:10] 5 tRNA-Ser [84814,84903] 35 (cga)\n",
      "[05:54:10] 6 tRNA-Gly [106006,106081] 34 (gcc)\n",
      "[05:54:10] 7 tRNA-Cys [106122,106195] 33 (gca)\n",
      "[05:54:10] 8 tRNA-Leu [106209,106295] 35 (taa)\n",
      "[05:54:10] 9 tRNA-Tyr c[313732,313816] 35 (gta)\n",
      "[05:54:10] 10 tRNA-Tyr c[314031,314115] 35 (gta)\n",
      "[05:54:10] 1 tRNA-Gly [40629,40702] 33 (ccc)\n",
      "[05:54:10] 2 tRNA-Met c[183317,183393] 35 (cat)\n",
      "[05:54:10] 3 tRNA-Met c[183426,183502] 35 (cat)\n",
      "[05:54:10] 4 tRNA-Met c[183536,183612] 35 (cat)\n",
      "[05:54:10] 5 tRNA-Ser [337576,337668] 35 (gct)\n",
      "[05:54:10] 6 tRNA-Arg [337673,337749] 35 (acg)\n",
      "[05:54:10] 7 tRNA-Arg [337900,337976] 35 (acg)\n",
      "[05:54:10] 8 tRNA-Arg [338038,338114] 35 (acg)\n",
      "[05:54:10] 9 tRNA-Arg [338211,338287] 35 (acg)\n",
      "[05:54:10] 10 tmRNA c[445567,445929] 90,125 ANDENYALAA**\n",
      "[05:54:10] 1 tRNA-Leu c[97696,97782] 35 (cag)\n",
      "[05:54:10] 2 tRNA-Leu c[97813,97899] 35 (cag)\n",
      "[05:54:10] 3 tRNA-Leu c[97928,98014] 35 (cag)\n",
      "[05:54:10] 1 tRNA-Pro c[70847,70923] 35 (cgg)\n",
      "[05:54:10] 2 tRNA-SeC [197873,197967] 35 (tca)\n",
      "[05:54:10] 1 tRNA-Phe [45383,45458] 34 (gaa)\n",
      "[05:54:10] 2 tRNA-Met [111526,111601] 34 (cat)\n",
      "[05:54:10] 3 tRNA-Met c[209263,209339] 35 (cat)\n",
      "[05:54:10] 4 tRNA-Leu c[213286,213372] 35 (gag)\n",
      "[05:54:10] 5 tRNA-Thr c[302308,302383] 34 (ggt)\n",
      "[05:54:10] 1 tRNA-Phe c[117524,117599] 34 (gaa)\n",
      "[05:54:10] 2 tRNA-Gly [157261,157336] 34 (gcc)\n",
      "[05:54:10] 3 tRNA-Gly [157405,157480] 34 (gcc)\n",
      "[05:54:10] 4 tRNA-Gly [157553,157628] 34 (gcc)\n",
      "[05:54:10] 1 tRNA-Val c[34279,34355] 35 (gac)\n",
      "[05:54:10] 2 tRNA-Val c[34360,34436] 35 (gac)\n",
      "[05:54:12] 3 tRNA-Val c[34441,34517] 35 (gac)\n",
      "[05:54:12] 1 tRNA-Pro c[48183,48259] 35 (tgg)\n",
      "[05:54:12] 2 tRNA-Leu c[48302,48388] 35 (cag)\n",
      "[05:54:12] 3 tRNA-His c[48412,48487] 34 (gtg)\n",
      "[05:54:12] 4 tRNA-Arg c[48543,48619] 35 (ccg)\n",
      "[05:54:12] 5 tRNA-Trp c[83822,83897] 34 (cca)\n",
      "[05:54:12] 6 tRNA-Asp c[83951,84027] 35 (gtc)\n",
      "[05:54:12] 1 tRNA-Leu c[39703,39787] 35 (caa)\n",
      "[05:54:12] 1 tRNA-Thr [3932,4007] 34 (tgt)\n",
      "[05:54:12] 2 tRNA-Tyr [4018,4102] 35 (gta)\n",
      "[05:54:12] 3 tRNA-Gly [4218,4292] 34 (tcc)\n",
      "[05:54:12] 4 tRNA-Thr [4298,4373] 34 (ggt)\n",
      "[05:54:12] 1 tRNA-Ala [39,114] 34 (tgc)\n",
      "[05:54:12] 1 tRNA-Ala c[186,261] 34 (tgc)\n",
      "[05:54:12] 1 tRNA-Glu c[156,231] 35 (ttc)\n",
      "[05:54:12] 1 tRNA-Ile c[40,116] 35 (gat)\n",
      "[05:54:12] 1 tRNA-Ile [148,224] 35 (gat)\n",
      "[05:54:12] 1 tRNA-Ile [12,88] 35 (gat)\n",
      "[05:54:12] 2 tRNA-Ala [125,200] 34 (tgc)\n",
      "[05:54:12] Found 85 tRNAs\n",
      "[05:54:12] Predicting Ribosomal RNAs\n",
      "[05:54:12] Running Barrnap with 30 threads\n",
      "[05:54:16] 1 NODE_12_length_95784_cov_38.483373 4 5S ribosomal RNA\n",
      "[05:54:16] 2 NODE_1_length_1092466_cov_35.889316 2 23S ribosomal RNA (partial)\n",
      "[05:54:16] 3 NODE_1_length_1092466_cov_35.889316 1017 5S ribosomal RNA\n",
      "[05:54:16] 4 NODE_28_length_4840_cov_38.091661 4 5S ribosomal RNA\n",
      "[05:54:16] 5 NODE_31_length_1423_cov_318.625000 1 23S ribosomal RNA (partial)\n",
      "[05:54:16] 6 NODE_35_length_1098_cov_185.605561 1 16S ribosomal RNA (partial)\n",
      "[05:54:16] 7 NODE_36_length_1076_cov_372.427819 5 16S ribosomal RNA (partial)\n",
      "[05:54:16] 8 NODE_3_length_520971_cov_35.783592 520855 5S ribosomal RNA\n",
      "[05:54:16] 9 NODE_53_length_364_cov_96.552743 5 5S ribosomal RNA (partial)\n",
      "[05:54:16] 10 NODE_69_length_255_cov_137.937500 144 5S ribosomal RNA\n",
      "[05:54:16] 11 NODE_6_length_377962_cov_36.028224 6 5S ribosomal RNA (partial)\n",
      "[05:54:16] 12 NODE_8_length_302516_cov_37.212025 302158 5S ribosomal RNA\n",
      "[05:54:16] 13 NODE_8_length_302516_cov_37.212025 302401 5S ribosomal RNA\n",
      "[05:54:16] 14 NODE_97_length_184_cov_86.666667 3 5S ribosomal RNA\n",
      "[05:54:16] Found 14 rRNAs\n",
      "[05:54:16] Skipping ncRNA search, enable with --rfam if desired.\n",
      "[05:54:16] Total of 98 tRNA + rRNA features\n",
      "[05:54:16] Searching for CRISPR repeats\n",
      "[05:54:19] Found 0 CRISPRs\n",
      "[05:54:19] Predicting coding sequences\n",
      "[05:54:19] Contigs total 5486764 bp, so using single mode\n",
      "[05:54:19] Running: prodigal -i \\/data\\/hoan\\/amromics\\/data\\/ncbi\\/Ecolitest\\/prokka\\/temp\\/kq_700603_GCF_001596075_ERR1474548_\\.fna -c -m -g 11 -p single -f sco -q\n",
      "[05:54:43] Excluding CDS which overlaps existing RNA (tRNA) at NODE_2_length_635139_cov_33.947722:418125..418844 on - strand\n",
      "[05:54:55] Found 5130 CDS\n",
      "[05:54:55] Connecting features back to sequences\n",
      "[05:54:55] Not using genus-specific database. Try --usegenus to enable it.\n",
      "[05:54:55] Annotating CDS, please be patient.\n",
      "[05:54:55] Will use 30 CPUs for similarity searching.\n",
      "[05:55:00] There are still 5130 unannotated CDS left (started with 5130)\n",
      "[05:55:00] Will use blast to search against /data/hoan/mybin/miniconda3/envs/amromics/db/kingdom/Bacteria/IS with 30 CPUs\n",
      "[05:55:00] Running: cat \\/data\\/hoan\\/amromics\\/data\\/ncbi\\/Ecolitest\\/prokka\\/temp\\/kq_700603_GCF_001596075_ERR1474548_\\.IS\\.tmp\\.58924\\.faa | parallel --gnu --plain -j 30 --block 27303 --recstart '>' --pipe blastp -query - -db /data/hoan/mybin/miniconda3/envs/amromics/db/kingdom/Bacteria/IS -evalue 1e-06 -qcov_hsp_perc 90 -num_threads 1 -num_descriptions 1 -num_alignments 1 -seg no > \\/data\\/hoan\\/amromics\\/data\\/ncbi\\/Ecolitest\\/prokka\\/temp\\/kq_700603_GCF_001596075_ERR1474548_\\.IS\\.tmp\\.58924\\.blast 2> /dev/null\n",
      "[05:55:24] Modify product: Tn3 family transposase Tn5403 => Tn3 family transposase\n",
      "[05:55:24] Cleaned 1 /product names\n",
      "[05:55:24] Deleting unwanted file: /data/hoan/amromics/data/ncbi/Ecolitest/prokka/temp/kq_700603_GCF_001596075_ERR1474548_.IS.tmp.58924.faa\n",
      "[05:55:24] Deleting unwanted file: /data/hoan/amromics/data/ncbi/Ecolitest/prokka/temp/kq_700603_GCF_001596075_ERR1474548_.IS.tmp.58924.blast\n",
      "[05:55:29] There are still 5093 unannotated CDS left (started with 5130)\n",
      "[05:55:29] Will use blast to search against /data/hoan/mybin/miniconda3/envs/amromics/db/kingdom/Bacteria/AMR with 30 CPUs\n",
      "[05:55:29] Running: cat \\/data\\/hoan\\/amromics\\/data\\/ncbi\\/Ecolitest\\/prokka\\/temp\\/kq_700603_GCF_001596075_ERR1474548_\\.AMR\\.tmp\\.58924\\.faa | parallel --gnu --plain -j 30 --block 27132 --recstart '>' --pipe blastp -query - -db /data/hoan/mybin/miniconda3/envs/amromics/db/kingdom/Bacteria/AMR -evalue 1e-06 -qcov_hsp_perc 90 -num_threads 1 -num_descriptions 1 -num_alignments 1 -seg no > \\/data\\/hoan\\/amromics\\/data\\/ncbi\\/Ecolitest\\/prokka\\/temp\\/kq_700603_GCF_001596075_ERR1474548_\\.AMR\\.tmp\\.58924\\.blast 2> /dev/null\n",
      "[05:55:54] Deleting unwanted file: /data/hoan/amromics/data/ncbi/Ecolitest/prokka/temp/kq_700603_GCF_001596075_ERR1474548_.AMR.tmp.58924.faa\n",
      "[05:55:54] Deleting unwanted file: /data/hoan/amromics/data/ncbi/Ecolitest/prokka/temp/kq_700603_GCF_001596075_ERR1474548_.AMR.tmp.58924.blast\n",
      "[05:56:00] There are still 4992 unannotated CDS left (started with 5130)\n",
      "[05:56:00] Will use blast to search against /data/hoan/mybin/miniconda3/envs/amromics/db/kingdom/Bacteria/sprot with 30 CPUs\n",
      "[05:56:00] Running: cat \\/data\\/hoan\\/amromics\\/data\\/ncbi\\/Ecolitest\\/prokka\\/temp\\/kq_700603_GCF_001596075_ERR1474548_\\.sprot\\.tmp\\.58924\\.faa | parallel --gnu --plain -j 30 --block 26415 --recstart '>' --pipe blastp -query - -db /data/hoan/mybin/miniconda3/envs/amromics/db/kingdom/Bacteria/sprot -evalue 1e-06 -qcov_hsp_perc 80 -num_threads 1 -num_descriptions 1 -num_alignments 1 -seg no > \\/data\\/hoan\\/amromics\\/data\\/ncbi\\/Ecolitest\\/prokka\\/temp\\/kq_700603_GCF_001596075_ERR1474548_\\.sprot\\.tmp\\.58924\\.blast 2> /dev/null\n",
      "[05:57:07] Modify product: Probable membrane transporter protein YfcA => putative membrane transporter protein YfcA\n",
      "[05:57:07] Modify product: Probable DNA endonuclease SmrA => putative DNA endonuclease SmrA\n",
      "[05:57:07] Modify product: UPF0381 protein YiiS => hypothetical protein\n",
      "[05:57:07] Modify product: Probable diguanylate cyclase DgcT => putative diguanylate cyclase DgcT\n",
      "[05:57:07] Modify product: Probable diguanylate cyclase DgcT => putative diguanylate cyclase DgcT\n",
      "[05:57:07] Modify product: Uncharacterized transporter YycB => putative transporter YycB\n",
      "[05:57:07] Modify product: Probable cyclic di-GMP phosphodiesterase PdeA => putative cyclic di-GMP phosphodiesterase PdeA\n",
      "[05:57:07] Modify product: UPF0265 protein YeeX => hypothetical protein\n",
      "[05:57:07] Modify product: Uncharacterized protein YeaR => putative protein YeaR\n",
      "[05:57:07] Modify product: Probable FMN/FAD exporter YeeO => putative FMN/FAD exporter YeeO\n",
      "[05:57:07] Modify product: Probable acrylyl-CoA reductase AcuI => putative acrylyl-CoA reductase AcuI\n",
      "[05:57:07] Modify product: Probable L,D-transpeptidase ErfK/SrfK => putative L,D-transpeptidase ErfK/SrfK\n",
      "[05:57:07] Modify product: Uncharacterized protein YedJ => putative protein YedJ\n",
      "[05:57:07] Modify product: Uncharacterized inner membrane transporter YedA => putative inner membrane transporter YedA\n",
      "[05:57:07] Modify product: Probable diguanylate cyclase DgcQ => putative diguanylate cyclase DgcQ\n",
      "[05:57:07] Modify product: Uncharacterized membrane protein YoaK => putative membrane protein YoaK\n",
      "[05:57:07] Modify product: Probable zinc-binding alcohol dehydrogenase Rv1895 => putative zinc-binding alcohol dehydrogenase\n",
      "[05:57:07] Modify product: Uncharacterized HTH-type transcriptional regulator Rv0043c => putative HTH-type transcriptional regulator\n",
      "[05:57:07] Modify product: Uncharacterized protein YqjZ => putative protein YqjZ\n",
      "[05:57:08] Modify product: Uncharacterized HTH-type transcriptional regulator HI_1476 => putative HTH-type transcriptional regulator\n",
      "[05:57:08] Modify product: Probable hydrolase YcaC => putative hydrolase YcaC\n",
      "[05:57:08] Modify product: Probable phosphatase YcdX => putative phosphatase YcdX\n",
      "[05:57:08] Modify product: UPF0176 protein YceA => hypothetical protein\n",
      "[05:57:08] Modify product: Uncharacterized protein YceO => putative protein YceO\n",
      "[05:57:08] Modify product: Uncharacterized lipoprotein YceB => putative lipoprotein YceB\n",
      "[05:57:08] Modify product: UPF0502 protein YceH => hypothetical protein\n",
      "[05:57:08] Modify product: Probable lipid II flippase MurJ => putative lipid II flippase MurJ\n",
      "[05:57:08] Modify product: Uncharacterized metal-dependent hydrolase YcfH => putative metal-dependent hydrolase YcfH\n",
      "[05:57:08] Modify product: UPF0227 protein YcfP => hypothetical protein\n",
      "[05:57:08] Modify product: Probable L,D-transpeptidase YcfS => putative L,D-transpeptidase YcfS\n",
      "[05:57:08] Modify product: Probable low molecular weight protein-tyrosine-phosphatase AmsI => putative low molecular weight protein-tyrosine-phosphatase AmsI\n",
      "[05:57:08] Modify product: UPF0053 inner membrane protein YoaE => hypothetical protein\n",
      "[05:57:08] Modify product: 23S rRNA 5-hydroxycytidine C2501 synthase => 23S rRNA 5-hydroxycytidine synthase\n",
      "[05:57:08] Modify product: Probable lipid kinase YegS => putative lipid kinase YegS\n",
      "[05:57:08] Modify product: Probable D,D-dipeptide transport system permease protein DdpC => putative D,D-dipeptide transport system permease protein DdpC\n",
      "[05:57:08] Modify product: Probable D,D-dipeptide-binding periplasmic protein DdpA => putative D,D-dipeptide-binding periplasmic protein DdpA\n",
      "[05:57:08] Modify product: Universal stress protein A homolog => Universal stress protein A \n",
      "[05:57:08] Modify product: UPF0387 membrane protein YohO => hypothetical protein\n",
      "[05:57:08] Modify product: Uncharacterized oxidoreductase YtbE => putative oxidoreductase YtbE\n",
      "[05:57:08] Modify product: Uncharacterized protein PA2218 => putative protein\n",
      "[05:57:08] Modify product: UPF0283 membrane protein YcjF => hypothetical protein\n",
      "[05:57:08] Modify product: Uncharacterized protein YcjX => putative protein YcjX\n",
      "[05:57:08] Modify product: UPF0509 protein YciZ => hypothetical protein\n",
      "[05:57:08] Modify product: Uncharacterized protein YciH => putative protein YciH\n",
      "[05:57:08] Modify product: Probable protease SohB => putative protease SohB\n",
      "[05:57:08] Modify product: Uncharacterized oxidoreductase YciK => putative oxidoreductase YciK\n",
      "[05:57:08] Modify product: Uncharacterized protein YciO => putative protein YciO\n",
      "[05:57:08] Modify product: Uncharacterized MFS-type transporter YcaD => putative MFS-type transporter YcaD\n",
      "[05:57:08] Modify product: Probable formate transporter 1 => putative formate transporter 1\n",
      "[05:57:08] Modify product: UPF0434 protein YcaR => hypothetical protein\n",
      "[05:57:09] Modify product: Probable L,D-transpeptidase YcbB => putative L,D-transpeptidase YcbB\n",
      "[05:57:09] Modify product: Uncharacterized protein YcbX => putative protein YcbX\n",
      "[05:57:09] Modify product: Uncharacterized protein YccU => putative protein YccU\n",
      "[05:57:09] Modify product: UPF0098 protein YbcL => hypothetical protein\n",
      "[05:57:09] Modify product: Uncharacterized signaling protein CC_0091 => putative signaling protein\n",
      "[05:57:09] Modify product: Uncharacterized methyltransferase YcgJ => putative methyltransferase YcgJ\n",
      "[05:57:09] Modify product: Uncharacterized protein Rv2277c => putative protein\n",
      "[05:57:09] Modify product: Uncharacterized N-acetyltransferase YafP => putative N-acetyltransferase YafP\n",
      "[05:57:09] Modify product: UPF0255 protein VV1_0328 => hypothetical protein\n",
      "[05:57:09] Modify product: Uncharacterized protein YjhP => putative protein YjhP\n",
      "[05:57:09] Modify product: Probable phosphatase Rv3661 => putative phosphatase\n",
      "[05:57:09] Modify product: Putative anti-sigma factor antagonist TM_1442 => Putative anti-sigma factor antagonist\n",
      "[05:57:09] Modify product: Probable cyclic di-GMP phosphodiesterase PdeG => putative cyclic di-GMP phosphodiesterase PdeG\n",
      "[05:57:09] Modify product: Uncharacterized HTH-type transcriptional regulator Rv3095 => putative HTH-type transcriptional regulator\n",
      "[05:57:09] Modify product: Uncharacterized protein YccJ => putative protein YccJ\n",
      "[05:57:09] Modify product: Probable malonic semialdehyde reductase RutE => putative malonic semialdehyde reductase RutE\n",
      "[05:57:09] Modify product: UPF0070 protein HI_0370 => hypothetical protein\n",
      "[05:57:09] Modify product: Probable 3-phenylpropionic acid transporter => putative 3-phenylpropionic acid transporter\n",
      "[05:57:10] Modify product: Uncharacterized tRNA/rRNA methyltransferase YfiF => putative tRNA/rRNA methyltransferase YfiF\n",
      "[05:57:10] Modify product: Uncharacterized protein YcgM => putative protein YcgM\n",
      "[05:57:10] Modify product: Uncharacterized protein YeaR => putative protein YeaR\n",
      "[05:57:10] Modify product: Uncharacterized protein Rv2411c => putative protein\n",
      "[05:57:10] Modify product: Uncharacterized protein Rv2567 => putative protein\n",
      "[05:57:10] Modify product: Uncharacterized protein Rv2569c => putative protein\n",
      "[05:57:10] Modify product: Uncharacterized sugar kinase YdjH => putative sugar kinase YdjH\n",
      "[05:57:10] Modify product: Probable ABC transporter-binding protein DR_1438 => putative ABC transporter-binding protein\n",
      "[05:57:10] Modify product: Uncharacterized protein YbiU => putative protein YbiU\n",
      "[05:57:10] Modify product: Uncharacterized protein YbjN => putative protein YbjN\n",
      "[05:57:10] Modify product: Uncharacterized lipoprotein YbjP => putative lipoprotein YbjP\n",
      "[05:57:10] Modify product: Uncharacterized protein YycE => putative protein YycE\n",
      "[05:57:10] Modify product: Uncharacterized MFS-type transporter YhhS => putative MFS-type transporter YhhS\n",
      "[05:57:10] Modify product: Uncharacterized isomerase YddE => putative isomerase YddE\n",
      "[05:57:10] Modify product: UPF0056 inner membrane protein MarC => hypothetical protein\n",
      "[05:57:10] Modify product: Probable amino-acid metabolite efflux pump => putative amino-acid metabolite efflux pump\n",
      "[05:57:10] Modify product: Acetyltransferase PA3944 => Acetyltransferase\n",
      "[05:57:10] Modify product: Probable L-galactonate transporter => putative L-galactonate transporter\n",
      "[05:57:10] Modify product: UPF0060 membrane protein YnfA => hypothetical protein\n",
      "[05:57:10] Modify product: UPF0482 protein YnfB => hypothetical protein\n",
      "[05:57:11] Modify product: Probable DNA endonuclease SmrA => putative DNA endonuclease SmrA\n",
      "[05:57:11] Modify product: UPF0394 inner membrane protein YedE => hypothetical protein\n",
      "[05:57:11] Modify product: Uncharacterized protein YdfO => putative protein YdfO\n",
      "[05:57:11] Modify product: UPF0234 protein YajQ => hypothetical protein\n",
      "[05:57:11] Modify product: Uncharacterized protein HI_1008 => putative protein\n",
      "[05:57:11] Modify product: Uncharacterized lipoprotein YbaY => putative lipoprotein YbaY\n",
      "[05:57:11] Modify product: Probable cyclic di-GMP phosphodiesterase PdeB => putative cyclic di-GMP phosphodiesterase PdeB\n",
      "[05:57:11] Modify product: Probable phosphatase Rv3661 => putative phosphatase\n",
      "[05:57:11] Modify product: Uncharacterized oxidoreductase YdgJ => putative oxidoreductase YdgJ\n",
      "[05:57:12] Modify product: Probable D-methionine-binding lipoprotein MetQ => putative D-methionine-binding lipoprotein MetQ\n",
      "[05:57:12] Modify product: Probable quorum-quenching lactonase YtnP => putative quorum-quenching lactonase YtnP\n",
      "[05:57:12] Modify product: Probable transcriptional regulatory protein YebC => putative transcriptional regulatory protein YebC\n",
      "[05:57:12] Modify product: Uncharacterized protein HI_0461 => putative protein\n",
      "[05:57:12] Modify product: Probable manganese efflux pump MntP => putative manganese efflux pump MntP\n",
      "[05:57:12] Modify product: UPF0266 membrane protein YobD => hypothetical protein\n",
      "[05:57:12] Modify product: UPF0053 inner membrane protein YoaE => hypothetical protein\n",
      "[05:57:12] Modify product: Probable cyclic di-GMP phosphodiesterase PdeD => putative cyclic di-GMP phosphodiesterase PdeD\n",
      "[05:57:12] Modify product: Probable ATP-dependent DNA helicase YoaA => putative ATP-dependent DNA helicase YoaA\n",
      "[05:57:12] Modify product: Probable iron export permease protein FetB => putative iron export permease protein FetB\n",
      "[05:57:12] Modify product: Uncharacterized protein YbcJ => putative protein YbcJ\n",
      "[05:57:12] Modify product: Bifunctional protein FolD => Bifunctional protein FolD protein\n",
      "[05:57:12] Modify product: Probable cadaverine/lysine antiporter => putative cadaverine/lysine antiporter\n",
      "[05:57:12] Modify product: Uncharacterized protein YybH => putative protein YybH\n",
      "[05:57:12] Modify product: Uncharacterized protein YfeY => putative protein YfeY\n",
      "[05:57:12] Modify product: Uncharacterized protein YfgD => putative protein YfgD\n",
      "[05:57:13] Modify product: Uncharacterized symporter YjmB => putative symporter YjmB\n",
      "[05:57:13] Modify product: Uncharacterized protein YfgJ => putative protein YfgJ\n",
      "[05:57:13] Modify product: Probable tartrate dehydrogenase/decarboxylase TtuC' => putative tartrate dehydrogenase/decarboxylase TtuC'\n",
      "[05:57:13] Modify product: PKHD-type hydroxylase Sbal_3634 => PKHD-type hydroxylase\n",
      "[05:57:13] Modify product: UPF0259 membrane protein YciC => hypothetical protein\n",
      "[05:57:13] Modify product: Probable intracellular septation protein A => putative intracellular septation protein A\n",
      "[05:57:13] Modify product: Uncharacterized acyl-CoA thioester hydrolase HI_0827 => putative acyl-CoA thioester hydrolase\n",
      "[05:57:13] Modify product: Stress response UPF0229 protein YhbH => hypothetical protein\n",
      "[05:57:13] Modify product: Probable aminotransferase Rv3329 => putative aminotransferase\n",
      "[05:57:13] Modify product: Probable fimbrial chaperone EcpB => putative fimbrial chaperone EcpB\n",
      "[05:57:13] Modify product: Probable outer membrane usher protein EcpC => putative outer membrane usher protein EcpC\n",
      "[05:57:13] Modify product: Probable fimbrial chaperone EcpE => putative fimbrial chaperone EcpE\n",
      "[05:57:13] Modify product: Probable glutamine ABC transporter permease protein GlnP => putative glutamine ABC transporter permease protein GlnP\n",
      "[05:57:13] Modify product: Leu/Ile/Val-binding protein homolog 3 => Leu/Ile/Val-binding protein \n",
      "[05:57:13] Modify product: Uncharacterized amino acid permease YhdG => putative amino acid permease YhdG\n",
      "[05:57:13] Modify product: UPF0178 protein YaiI => hypothetical protein\n",
      "[05:57:13] Modify product: Uncharacterized protein YaiA => putative protein YaiA\n",
      "[05:57:13] Modify product: Uncharacterized lipoprotein YajI => putative lipoprotein YajI\n",
      "[05:57:13] Modify product: UPF0299 membrane protein YohJ => hypothetical protein\n",
      "[05:57:13] Modify product: UPF0324 inner membrane protein YeiH => hypothetical protein\n",
      "[05:57:13] Modify product: UPF0153 protein YeiW => hypothetical protein\n",
      "[05:57:14] Modify product: Probable cyclic di-GMP phosphodiesterase PdeN => putative cyclic di-GMP phosphodiesterase PdeN\n",
      "[05:57:14] Modify product: Uncharacterized ABC transporter ATP-binding protein YejF => putative ABC transporter ATP-binding protein YejF\n",
      "[05:57:14] Modify product: Uncharacterized protein YejG => putative protein YejG\n",
      "[05:57:14] Modify product: UPF0352 protein YejL => hypothetical protein\n",
      "[05:57:14] Modify product: Putative transport protein Rv1101c => Putative transport protein\n",
      "[05:57:14] Modify product: Probable two-component-system connector protein AriR => putative two-component-system connector protein AriR\n",
      "[05:57:14] Modify product: Probable two-component-system connector protein YcgZ => putative two-component-system connector protein YcgZ\n",
      "[05:57:14] Modify product: Uncharacterized protein YmgC => putative protein YmgC\n",
      "[05:57:14] Modify product: Probable cation-transporting ATPase F => putative cation-transporting ATPase F\n",
      "[05:57:14] Modify product: UPF0098 protein YbhB => hypothetical protein\n",
      "[05:57:14] Modify product: Probable multidrug ABC transporter permease YbhR => putative multidrug ABC transporter permease YbhR\n",
      "[05:57:14] Modify product: Probable multidrug ABC transporter permease YbhS => putative multidrug ABC transporter permease YbhS\n",
      "[05:57:14] Modify product: Probable multidrug ABC transporter ATP-binding protein YbhF => putative multidrug ABC transporter ATP-binding protein YbhF\n",
      "[05:57:14] Modify product: UPF0194 membrane protein YbhG => hypothetical protein\n",
      "[05:57:14] Modify product: Probable glucarate transporter => putative glucarate transporter\n",
      "[05:57:14] Modify product: Uncharacterized protein YbiB => putative protein YbiB\n",
      "[05:57:14] Modify product: Uncharacterized protein YbiI => putative protein YbiI\n",
      "[05:57:14] Modify product: Probable L,D-transpeptidase YbiS => putative L,D-transpeptidase YbiS\n",
      "[05:57:14] Modify product: Uncharacterized HTH-type transcriptional regulator RhmR => putative HTH-type transcriptional regulator RhmR\n",
      "[05:57:14] Modify product: UPF0304 protein YfbU => hypothetical protein\n",
      "[05:57:14] Modify product: UPF0208 membrane protein YfbV => hypothetical protein\n",
      "[05:57:14] Modify product: Uncharacterized Nudix hydrolase YfcD => putative Nudix hydrolase YfcD\n",
      "[05:57:14] Modify product: Epimerase family protein SA0724 => Epimerase family protein\n",
      "[05:57:14] Modify product: Probable ATP-dependent transporter SufC => putative ATP-dependent transporter SufC\n",
      "[05:57:14] Modify product: Probable L,D-transpeptidase YnhG => putative L,D-transpeptidase YnhG\n",
      "[05:57:14] Modify product: Uncharacterized ABC transporter ATP-binding protein HI_1470 => putative ABC transporter ATP-binding protein\n",
      "[05:57:14] Modify product: Probable ABC transporter permease protein HI_1471 => putative ABC transporter permease protein\n",
      "[05:57:14] Modify product: Uncharacterized protein HI_1472 => putative protein\n",
      "[05:57:15] Modify product: Probable siderophore transport system ATP-binding protein YusV => putative siderophore transport system ATP-binding protein YusV\n",
      "[05:57:15] Modify product: Probable siderophore transport system permease protein YfiZ => putative siderophore transport system permease protein YfiZ\n",
      "[05:57:15] Modify product: Uncharacterized MFS-type transporter YcaD => putative MFS-type transporter YcaD\n",
      "[05:57:15] Modify product: Uncharacterized protein YncE => putative protein YncE\n",
      "[05:57:15] Modify product: Probable fimbrial chaperone EcpE => putative fimbrial chaperone EcpE\n",
      "[05:57:15] Modify product: Probable outer membrane usher protein EcpC => putative outer membrane usher protein EcpC\n",
      "[05:57:15] Modify product: Probable fimbrial chaperone EcpB => putative fimbrial chaperone EcpB\n",
      "[05:57:15] Modify product: Uncharacterized protein Rv0906 => putative protein\n",
      "[05:57:15] Modify product: Probable cation-transporting ATPase F => putative cation-transporting ATPase F\n",
      "[05:57:15] Modify product: Probable D,D-dipeptide transport system permease protein DdpC => putative D,D-dipeptide transport system permease protein DdpC\n",
      "[05:57:15] Modify product: Probable D,D-dipeptide-binding periplasmic protein DdpA => putative D,D-dipeptide-binding periplasmic protein DdpA\n",
      "[05:57:15] Modify product: Uncharacterized lipoprotein YgdR => putative lipoprotein YgdR\n",
      "[05:57:15] Modify product: Uncharacterized isomerase YddE => putative isomerase YddE\n",
      "[05:57:15] Modify product: UPF0225 protein YchJ => hypothetical protein\n",
      "[05:57:15] Modify product: Uncharacterized NTE family protein Rv1063c => putative NTE family protein\n",
      "[05:57:15] Modify product: UPF0056 inner membrane protein MarC => hypothetical protein\n",
      "[05:57:15] Modify product: UPF0263 protein YciU => hypothetical protein\n",
      "[05:57:15] Modify product: Probable ketoamine kinase HMPREF0351_12196 => putative ketoamine kinase\n",
      "[05:57:15] Modify product: Uncharacterized protein YdiE => putative protein YdiE\n",
      "[05:57:15] Modify product: Uncharacterized protein HI_1163 => putative protein\n",
      "[05:57:15] Modify product: Uncharacterized lipoprotein ChiQ => putative lipoprotein ChiQ\n",
      "[05:57:15] Modify product: Uncharacterized protein YbfE => putative protein YbfE\n",
      "[05:57:15] Modify product: GTP cyclohydrolase 1 type 2 homolog => GTP cyclohydrolase 1 type 2 \n",
      "[05:57:16] Modify product: Uncharacterized sugar kinase YdjH => putative sugar kinase YdjH\n",
      "[05:57:16] Modify product: Uncharacterized protein YbdM => putative protein YbdM\n",
      "[05:57:16] Modify product: Uncharacterized HTH-type transcriptional regulator YbdO => putative HTH-type transcriptional regulator YbdO\n",
      "[05:57:16] Modify product: Uncharacterized HTH-type transcriptional regulator YbdO => putative HTH-type transcriptional regulator YbdO\n",
      "[05:57:16] Modify product: UPF0250 protein YbeD => hypothetical protein\n",
      "[05:57:16] Modify product: Probable succinyl-CoA:3-ketoacid coenzyme A transferase subunit B => putative succinyl-CoA:3-ketoacid coenzyme A transferase subunit B\n",
      "[05:57:16] Modify product: Probable succinyl-CoA:3-ketoacid coenzyme A transferase subunit A => putative succinyl-CoA:3-ketoacid coenzyme A transferase subunit A\n",
      "[05:57:16] Modify product: Uncharacterized MFS-type transporter Rv2456c => putative MFS-type transporter\n",
      "[05:57:16] Modify product: Probable chromate transport protein => putative chromate transport protein\n",
      "[05:57:16] Modify product: UPF0149 protein HI_0817 => hypothetical protein\n",
      "[05:57:16] Modify product: Uncharacterized oxidoreductase YgfF => putative oxidoreductase YgfF\n",
      "[05:57:16] Modify product: UPF0267 protein YqfB => hypothetical protein\n",
      "[05:57:16] Modify product: UPF0073 inner membrane protein YqfA => hypothetical protein\n",
      "[05:57:16] Modify product: Uncharacterized protein YjdJ => putative protein YjdJ\n",
      "[05:57:16] Modify product: Probable major fimbrial subunit LpfA => putative major fimbrial subunit LpfA\n",
      "[05:57:16] Modify product: Uncharacterized fimbrial-like protein YehD => putative fimbrial-like protein YehD\n",
      "[05:57:16] Modify product: Probable fimbrial chaperone YehC => putative fimbrial chaperone YehC\n",
      "[05:57:16] Modify product: Probable fimbrial chaperone YadV => putative fimbrial chaperone YadV\n",
      "[05:57:16] Modify product: Uncharacterized lipoprotein YgdR => putative lipoprotein YgdR\n",
      "[05:57:16] Modify product: UPF0053 inner membrane protein YgdQ => hypothetical protein\n",
      "[05:57:16] Modify product: Probable propionate kinase => putative propionate kinase\n",
      "[05:57:16] Modify product: UPF0301 protein YqgE => hypothetical protein\n",
      "[05:57:17] Modify product: Uncharacterized protein YggR => putative protein YggR\n",
      "[05:57:17] Modify product: UPF0235 protein YggU => hypothetical protein\n",
      "[05:57:17] Modify product: Solute-binding protein Bamb_6123 => Solute-binding protein\n",
      "[05:57:17] Modify product: Uncharacterized protein HI_0341 => putative protein\n",
      "[05:57:17] Modify product: Probable Fe(2+)-trafficking protein => putative Fe(2+)-trafficking protein\n",
      "[05:57:17] Modify product: Uncharacterized membrane protein YdfK => putative membrane protein YdfK\n",
      "[05:57:17] Modify product: Putative cystathionine beta-synthase Rv1077 => Putative cystathionine beta-synthase\n",
      "[05:57:17] Modify product: Probable quinol monooxygenase YgiN => putative quinol monooxygenase YgiN\n",
      "[05:57:17] Modify product: Probable glycerol-3-phosphate acyltransferase => putative glycerol-3-phosphate acyltransferase\n",
      "[05:57:17] Modify product: UPF0125 protein RatB => hypothetical protein\n",
      "[05:57:17] Modify product: UPF0053 inner membrane protein YfjD => hypothetical protein\n",
      "[05:57:17] Modify product: Uncharacterized protein YqjD => putative protein YqjD\n",
      "[05:57:17] Modify product: UPF0102 protein RPA0323 => hypothetical protein\n",
      "[05:57:17] Modify product: Uncharacterized protease YhbU => putative protease YhbU\n",
      "[05:57:17] Modify product: UPF0311 protein CA_C3321 => hypothetical protein\n",
      "[05:57:17] Modify product: Zinc-type alcohol dehydrogenase-like protein SA1988 => Zinc-type alcohol dehydrogenase-like protein\n",
      "[05:57:18] Modify product: Acetyltransferase Atu2258 => Acetyltransferase\n",
      "[05:57:18] Modify product: Uncharacterized inner membrane transporter YicL => putative inner membrane transporter YicL\n",
      "[05:57:18] Modify product: HTH-type transcriptional regulator Cphy_2742 => HTH-type transcriptional regulator\n",
      "[05:57:18] Modify product: Uncharacterized lipoprotein YgdR => putative lipoprotein YgdR\n",
      "[05:57:18] Modify product: Uncharacterized inner membrane transporter YhbE => putative inner membrane transporter YhbE\n",
      "[05:57:18] Modify product: Uncharacterized protein YhcH => putative protein YhcH\n",
      "[05:57:18] Modify product: Uncharacterized protein YhcO => putative protein YhcO\n",
      "[05:57:19] Modify product: Uncharacterized DapA-like lyase => putative DapA-like lyase\n",
      "[05:57:19] Modify product: Probable 2-dehydro-3-deoxygalactonokinase DgoK1 => putative 2-dehydro-3-deoxygalactonokinase DgoK1\n",
      "[05:57:19] Modify product: Probable phosphotransferase enzyme IIB component M6_Spy0801 => putative phosphotransferase enzyme IIB component\n",
      "[05:57:19] Modify product: UPF0442 protein YjjB => hypothetical protein\n",
      "[05:57:19] Modify product: Uncharacterized metal-dependent hydrolase YjjV => putative metal-dependent hydrolase YjjV\n",
      "[05:57:19] Modify product: Probable inner membrane protein Smp => putative inner membrane protein Smp\n",
      "[05:57:19] Modify product: Probable ECA polymerase => putative ECA polymerase\n",
      "[05:57:19] Modify product: UPF0438 protein YifE => hypothetical protein\n",
      "[05:57:19] Modify product: UPF0758 protein CT0611 => hypothetical protein\n",
      "[05:57:19] Modify product: Probable cobalt-factor III C(17)-methyltransferase => putative cobalt-factor III C(17)-methyltransferase\n",
      "[05:57:19] Modify product: Uncharacterized lipoprotein YgdR => putative lipoprotein YgdR\n",
      "[05:57:19] Modify product: UPF0382 inner membrane protein YgdD => hypothetical protein\n",
      "[05:57:19] Modify product: Uncharacterized HTH-type transcriptional regulator YdjF => putative HTH-type transcriptional regulator YdjF\n",
      "[05:57:19] Modify product: Probable FMNH2-dependent monooxygenase SfnC => putative FMNH2-dependent monooxygenase SfnC\n",
      "[05:57:19] Modify product: Uncharacterized protein YqcC => putative protein YqcC\n",
      "[05:57:19] Modify product: Uncharacterized protein PA3435 => putative protein\n",
      "[05:57:19] Modify product: Probable glucarate transporter => putative glucarate transporter\n",
      "[05:57:19] Modify product: Probable L-ascorbate-6-phosphate lactonase UlaG => putative L-ascorbate-6-phosphate lactonase UlaG\n",
      "[05:57:19] Modify product: Uncharacterized protein YtfJ => putative protein YtfJ\n",
      "[05:57:19] Modify product: UPF0053 inner membrane protein YtfL => hypothetical protein\n",
      "[05:57:20] Modify product: UPF0307 protein YjgA => hypothetical protein\n",
      "[05:57:20] Modify product: Deacetylase EF_0837 => Deacetylase\n",
      "[05:57:20] Modify product: Probable licABCH operon regulator => putative licABCH operon regulator\n",
      "[05:57:20] Modify product: Deacetylase Oant_2987 => Deacetylase\n",
      "[05:57:20] Modify product: Uncharacterized protein HI_0933 => putative protein\n",
      "[05:57:20] Modify product: Probable cyclic di-GMP phosphodiesterase PdeK => putative cyclic di-GMP phosphodiesterase PdeK\n",
      "[05:57:20] Modify product: Uncharacterized MFS-type transporter YhjX => putative MFS-type transporter YhjX\n",
      "[05:57:20] Modify product: Probable lipoprotein YiaD => putative lipoprotein YiaD\n",
      "[05:57:20] Modify product: UPF0126 inner membrane protein YadS => hypothetical protein\n",
      "[05:57:20] Modify product: UPF0253 protein YaeP => hypothetical protein\n",
      "[05:57:20] Modify product: Uncharacterized protein YaeQ => putative protein YaeQ\n",
      "[05:57:20] Modify product: Uncharacterized membrane protein YhdT => putative membrane protein YhdT\n",
      "[05:57:20] Modify product: UPF0597 protein YhaM => hypothetical protein\n",
      "[05:57:20] Modify product: UPF0337 protein YjbJ => hypothetical protein\n",
      "[05:57:20] Modify product: Uncharacterized protein YjbR => putative protein YjbR\n",
      "[05:57:20] Modify product: Probable cyclic di-GMP phosphodiesterase PdeC => putative cyclic di-GMP phosphodiesterase PdeC\n",
      "[05:57:20] Modify product: Probable fimbrial chaperone LpfB => putative fimbrial chaperone LpfB\n",
      "[05:57:21] Modify product: Probable UbiX-like flavin prenyltransferase => putative UbiX-like flavin prenyltransferase\n",
      "[05:57:21] Modify product: Uncharacterized periplasmic iron-binding protein HI_0362 => putative periplasmic iron-binding protein\n",
      "[05:57:21] Modify product: Probable transcriptional regulator PhnF => putative transcriptional regulator PhnF\n",
      "[05:57:21] Modify product: UPF0716 protein FxsA => hypothetical protein\n",
      "[05:57:21] Modify product: Probable outer membrane usher protein ElfC => putative outer membrane usher protein ElfC\n",
      "[05:57:21] Modify product: Uncharacterized ABC transporter ATP-binding protein YheS => putative ABC transporter ATP-binding protein YheS\n",
      "[05:57:21] Modify product: Uncharacterized GST-like protein YibF => putative GST-like protein YibF\n",
      "[05:57:21] Modify product: Uncharacterized protein YibL => putative protein YibL\n",
      "[05:57:21] Modify product: Uncharacterized protein YibN => putative protein YibN\n",
      "[05:57:21] Modify product: UPF0758 protein YsxA => hypothetical protein\n",
      "[05:57:21] Modify product: UPF0701 protein YicC => hypothetical protein\n",
      "[05:57:21] Modify product: UPF0126 inner membrane protein YicG => hypothetical protein\n",
      "[05:57:21] Modify product: Probable protein kinase UbiB => putative protein kinase UbiB\n",
      "[05:57:22] Modify product: Probable transport protein YifK => putative transport protein YifK\n",
      "[05:57:22] Modify product: Probable fimbrial chaperone YadV => putative fimbrial chaperone YadV\n",
      "[05:57:22] Modify product: UPF0401 protein YkfF => hypothetical protein\n",
      "[05:57:22] Modify product: Uncharacterized MFS-type transporter YhhS => putative MFS-type transporter YhhS\n",
      "[05:57:22] Modify product: Uncharacterized protein YhhA => putative protein YhhA\n",
      "[05:57:22] Modify product: Uncharacterized oxidoreductase YhhX => putative oxidoreductase YhhX\n",
      "[05:57:22] Modify product: Probable [Fe-S]-dependent transcriptional repressor => putative [Fe-S]-dependent transcriptional repressor\n",
      "[05:57:22] Modify product: Probable glucarate transporter => putative glucarate transporter\n",
      "[05:57:22] Modify product: Probable peptidoglycan glycosyltransferase FtsW => putative peptidoglycan glycosyltransferase FtsW\n",
      "[05:57:22] Modify product: UPF0231 protein YacL => hypothetical protein\n",
      "[05:57:22] Modify product: Uncharacterized ABC transporter ATP-binding protein YadG => putative ABC transporter ATP-binding protein YadG\n",
      "[05:57:23] Modify product: Probable transport protein HsrA => putative transport protein HsrA\n",
      "[05:57:23] Modify product: Probable sulfoacetate transporter SauU => putative sulfoacetate transporter SauU\n",
      "[05:57:23] Modify product: Probable L-galactonate transporter => putative L-galactonate transporter\n",
      "[05:57:23] Modify product: Probable nitrate reductase molybdenum cofactor assembly chaperone NarW => putative nitrate reductase molybdenum cofactor assembly chaperone NarW\n",
      "[05:57:23] Modify product: Probable D,D-dipeptide transport system permease protein DdpC => putative D,D-dipeptide transport system permease protein DdpC\n",
      "[05:57:23] Modify product: Uncharacterized ABC transporter ATP-binding protein YheS => putative ABC transporter ATP-binding protein YheS\n",
      "[05:57:23] Modify product: Uncharacterized oxidoreductase YghA => putative oxidoreductase YghA\n",
      "[05:57:23] Modify product: UPF0702 transmembrane protein YetF => hypothetical protein\n",
      "[05:57:23] Modify product: Probable 4-deoxy-4-formamido-L-arabinose-phosphoundecaprenol deformylase ArnD => putative 4-deoxy-4-formamido-L-arabinose-phosphoundecaprenol deformylase ArnD\n",
      "[05:57:23] Modify product: Probable 4-amino-4-deoxy-L-arabinose-phosphoundecaprenol flippase subunit ArnE => putative 4-amino-4-deoxy-L-arabinose-phosphoundecaprenol flippase subunit ArnE\n",
      "[05:57:23] Modify product: Probable 4-amino-4-deoxy-L-arabinose-phosphoundecaprenol flippase subunit ArnF => putative 4-amino-4-deoxy-L-arabinose-phosphoundecaprenol flippase subunit ArnF\n",
      "[05:57:23] Modify product: Uncharacterized protein YgaM => putative protein YgaM\n",
      "[05:57:23] Modify product: Probable HTH-type transcriptional regulator YgaV => putative HTH-type transcriptional regulator YgaV\n",
      "[05:57:23] Modify product: Probable fimbrial chaperone LpfB => putative fimbrial chaperone LpfB\n",
      "[05:57:23] Modify product: Probable transport protein HsrA => putative transport protein HsrA\n",
      "[05:57:23] Modify product: Uncharacterized protein YbiI => putative protein YbiI\n",
      "[05:57:23] Modify product: Probable chromate transport protein => putative chromate transport protein\n",
      "[05:57:23] Modify product: Transcriptional regulator Rv3488 => Transcriptional regulator\n",
      "[05:57:23] Modify product: Uncharacterized signaling protein CC_0091 => putative signaling protein\n",
      "[05:57:23] Modify product: Probable RNA polymerase sigma factor FecI => putative RNA polymerase sigma factor FecI\n",
      "[05:57:24] Modify product: Probable copper-binding protein PcoE => putative copper-binding protein PcoE\n",
      "[05:57:24] Modify product: Probable allantoin permease => putative allantoin permease\n",
      "[05:57:24] Modify product: Probable D,D-dipeptide transport ATP-binding protein DdpD => putative D,D-dipeptide transport ATP-binding protein DdpD\n",
      "[05:57:24] Modify product: Probable FMNH2-dependent monooxygenase SfnC => putative FMNH2-dependent monooxygenase SfnC\n",
      "[05:57:24] Modify product: Uncharacterized HTH-type transcriptional regulator YahB => putative HTH-type transcriptional regulator YahB\n",
      "[05:57:24] Modify product: Uncharacterized protein YnhF => putative protein YnhF\n",
      "[05:57:24] Modify product: Uncharacterized oxidoreductase YdgJ => putative oxidoreductase YdgJ\n",
      "[05:57:24] Modify product: Probable transporter SCO4007 => putative transporter\n",
      "[05:57:24] Modify product: Uncharacterized protein Rv3292 => putative protein\n",
      "[05:57:24] Modify product: 23S rRNA 5-hydroxycytidine C2501 synthase => 23S rRNA 5-hydroxycytidine synthase\n",
      "[05:57:24] Modify product: Uncharacterized protein YncL => putative protein YncL\n",
      "[05:57:24] Modify product: Uncharacterized protein YdcY => putative protein YdcY\n",
      "[05:57:24] Modify product: UPF0381 protein YiiS => hypothetical protein\n",
      "[05:57:24] Modify product: Uncharacterized protein YncE => putative protein YncE\n",
      "[05:57:24] Modify product: Uncharacterized lipoprotein YgdR => putative lipoprotein YgdR\n",
      "[05:57:24] Modify product: Putative thiamine biosynthesis protein HI_0357 => Putative thiamine biosynthesis protein\n",
      "[05:57:24] Modify product: Uncharacterized protein HI_0431 => putative protein\n",
      "[05:57:24] Modify product: Uncharacterized protein YhfG => putative protein YhfG\n",
      "[05:57:24] Modify product: Probable protein adenylyltransferase Fic => putative protein adenylyltransferase Fic\n",
      "[05:57:24] Modify product: UPF0270 protein PA3463 => hypothetical protein\n",
      "[05:57:24] Modify product: Uncharacterized ABC transporter ATP-binding protein YheS => putative ABC transporter ATP-binding protein YheS\n",
      "[05:57:24] Modify product: Protein SlyX homolog => Protein SlyX \n",
      "[05:57:25] Modify product: Probable acyltransferase YihG => putative acyltransferase YihG\n",
      "[05:57:25] Modify product: Probable GTP-binding protein EngB => putative GTP-binding protein EngB\n",
      "[05:57:25] Modify product: UPF0761 membrane protein YihY => hypothetical protein\n",
      "[05:57:25] Modify product: Probable fructose-bisphosphate aldolase => putative fructose-bisphosphate aldolase\n",
      "[05:57:25] Cleaned 337 /product names\n",
      "[05:57:25] Deleting unwanted file: /data/hoan/amromics/data/ncbi/Ecolitest/prokka/temp/kq_700603_GCF_001596075_ERR1474548_.sprot.tmp.58924.faa\n",
      "[05:57:25] Deleting unwanted file: /data/hoan/amromics/data/ncbi/Ecolitest/prokka/temp/kq_700603_GCF_001596075_ERR1474548_.sprot.tmp.58924.blast\n",
      "[05:57:26] There are still 1317 unannotated CDS left (started with 5130)\n",
      "[05:57:26] Will use hmmer3 to search against /data/hoan/mybin/miniconda3/envs/amromics/db/hmm/HAMAP.hmm with 30 CPUs\n",
      "[05:57:26] Running: cat \\/data\\/hoan\\/amromics\\/data\\/ncbi\\/Ecolitest\\/prokka\\/temp\\/kq_700603_GCF_001596075_ERR1474548_\\.HAMAP\\.hmm\\.tmp\\.58924\\.faa | parallel --gnu --plain -j 30 --block 5466 --recstart '>' --pipe hmmscan --noali --notextw --acc -E 1e-06 --cpu 1 /data/hoan/mybin/miniconda3/envs/amromics/db/hmm/HAMAP.hmm /dev/stdin > \\/data\\/hoan\\/amromics\\/data\\/ncbi\\/Ecolitest\\/prokka\\/temp\\/kq_700603_GCF_001596075_ERR1474548_\\.HAMAP\\.hmm\\.tmp\\.58924\\.hmmer3 2> /dev/null\n",
      "[05:57:42] Modify product: Uncharacterized Nudix hydrolase NudL => putative Nudix hydrolase NudL\n",
      "[05:57:42] Cleaned 1 /product names\n",
      "[05:57:42] Deleting unwanted file: /data/hoan/amromics/data/ncbi/Ecolitest/prokka/temp/kq_700603_GCF_001596075_ERR1474548_.HAMAP.hmm.tmp.58924.faa\n",
      "[05:57:42] Deleting unwanted file: /data/hoan/amromics/data/ncbi/Ecolitest/prokka/temp/kq_700603_GCF_001596075_ERR1474548_.HAMAP.hmm.tmp.58924.hmmer3\n",
      "[05:57:42] Labelling remaining 1121 proteins as 'hypothetical protein'\n",
      "[05:57:42] Possible /pseudo 'Type-1 fimbrial protein, A chain' at NODE_1_length_1092466_cov_35.889316 position 73034\n",
      "[05:57:42] Possible /pseudo 'High-affinity branched-chain amino acid transport system permease protein LivH' at NODE_1_length_1092466_cov_35.889316 position 108133\n",
      "[05:57:42] Possible /pseudo 'Dimethyl sulfoxide reductase DmsA' at NODE_1_length_1092466_cov_35.889316 position 838097\n",
      "[05:57:42] Possible /pseudo 'TVP38/TMEM64 family inner membrane protein YdjZ' at NODE_2_length_635139_cov_33.947722 position 492706\n",
      "[05:57:42] Possible /pseudo 'D-inositol-3-phosphate glycosyltransferase' at NODE_3_length_520971_cov_35.783592 position 6544\n",
      "[05:57:42] Possible /pseudo 'putative diguanylate cyclase DgcT' at NODE_3_length_520971_cov_35.783592 position 327954\n",
      "[05:57:42] Possible /pseudo 'D-inositol-3-phosphate glycosyltransferase' at NODE_4_length_494295_cov_34.009133 position 7005\n",
      "[05:57:42] Possible /pseudo 'D-inositol-3-phosphate glycosyltransferase' at NODE_4_length_494295_cov_34.009133 position 8160\n",
      "[05:57:42] Possible /pseudo 'putative protein' at NODE_4_length_494295_cov_34.009133 position 229798\n",
      "[05:57:42] Possible /pseudo 'putative protein' at NODE_4_length_494295_cov_34.009133 position 230724\n",
      "[05:57:42] Possible /pseudo 'ISKra4 family transposase ISCep1' at NODE_5_length_472850_cov_35.571893 position 68044\n",
      "[05:57:42] Possible /pseudo 'Aldehyde-alcohol dehydrogenase' at NODE_5_length_472850_cov_35.571893 position 153700\n",
      "[05:57:43] Possible /pseudo 'Manganese transport system membrane protein MntB' at NODE_5_length_472850_cov_35.571893 position 274585\n",
      "[05:57:43] Possible /pseudo 'Propanediol utilization protein PduA' at NODE_6_length_377962_cov_36.028224 position 18292\n",
      "[05:57:43] Possible /pseudo 'Propanediol utilization protein PduA' at NODE_6_length_377962_cov_36.028224 position 18594\n",
      "[05:57:43] Possible /pseudo 'Homoprotocatechuate catabolism bifunctional isomerase/decarboxylase' at NODE_6_length_377962_cov_36.028224 position 54382\n",
      "[05:57:43] Possible /pseudo 'Multiple stress resistance protein BhsA' at NODE_8_length_302516_cov_37.212025 position 269906\n",
      "[05:57:43] Possible /pseudo 'Formate dehydrogenase H' at NODE_9_length_284850_cov_36.224344 position 80051\n",
      "[05:57:43] Possible /pseudo 'Formate dehydrogenase, nitrate-inducible, major subunit' at NODE_10_length_223904_cov_34.157215 position 172884\n",
      "[05:57:43] Possible /pseudo 'tetracycline efflux ABC transporter Tet(58) subunit A' at NODE_11_length_139249_cov_37.689567 position 39761\n",
      "[05:57:43] Possible /pseudo 'Formate dehydrogenase-O major subunit' at NODE_12_length_95784_cov_38.483373 position 26947\n",
      "[05:57:43] Possible /pseudo 'Peptidyl-prolyl cis-trans isomerase C' at NODE_13_length_84071_cov_37.549021 position 70992\n",
      "[05:57:43] Possible /pseudo 'Protein UmuC' at NODE_14_length_70893_cov_31.230916 position 13849\n",
      "[05:57:43] Possible /pseudo 'L-cystine transport system permease protein YecS' at NODE_15_length_69502_cov_33.632029 position 26296\n",
      "[05:57:43] Possible /pseudo 'IS5 family transposase IS903' at NODE_15_length_69502_cov_33.632029 position 67681\n",
      "[05:57:43] Found 3044 unique /gene codes.\n",
      "[05:57:43] Fixed 2 duplicate /gene - ghrA_1 ghrA_2\n",
      "[05:57:43] Fixed 2 duplicate /gene - dapA_1 dapA_2\n",
      "[05:57:43] Fixed 5 duplicate /gene - adhE_1 adhE_2 adhE_3 adhE_4 adhE_5\n",
      "[05:57:43] Fixed 2 duplicate /gene - birA_1 birA_2\n",
      "[05:57:43] Fixed 2 duplicate /gene - ydfG_1 ydfG_2\n",
      "[05:57:43] Fixed 2 duplicate /gene - azoR_1 azoR_2\n",
      "[05:57:43] Fixed 3 duplicate /gene - ssuA_1 ssuA_2 ssuA_3\n",
      "[05:57:43] Fixed 2 duplicate /gene - eutB_1 eutB_2\n",
      "[05:57:43] Fixed 2 duplicate /gene - yhhT_1 yhhT_2\n",
      "[05:57:43] Fixed 2 duplicate /gene - sbnD_1 sbnD_2\n",
      "[05:57:43] Fixed 2 duplicate /gene - mdtJ_1 mdtJ_2\n",
      "[05:57:43] Fixed 2 duplicate /gene - ridA_1 ridA_2\n",
      "[05:57:43] Fixed 2 duplicate /gene - ugpB_1 ugpB_2\n",
      "[05:57:43] Fixed 2 duplicate /gene - ytfQ_1 ytfQ_2\n",
      "[05:57:43] Fixed 2 duplicate /gene - yjiE_1 yjiE_2\n",
      "[05:57:43] Fixed 3 duplicate /gene - sutR_1 sutR_2 sutR_3\n",
      "[05:57:43] Fixed 2 duplicate /gene - hmuU_1 hmuU_2\n",
      "[05:57:43] Fixed 2 duplicate /gene - btuB_1 btuB_2\n",
      "[05:57:43] Fixed 5 duplicate /gene - bhsA_1 bhsA_2 bhsA_3 bhsA_4 bhsA_5\n",
      "[05:57:43] Fixed 3 duplicate /gene - mdtA_1 mdtA_2 mdtA_3\n",
      "[05:57:43] Fixed 2 duplicate /gene - ssuC_1 ssuC_2\n",
      "[05:57:43] Fixed 3 duplicate /gene - scrY_1 scrY_2 scrY_3\n",
      "[05:57:43] Fixed 2 duplicate /gene - srkA_1 srkA_2\n",
      "[05:57:43] Fixed 2 duplicate /gene - dapF_1 dapF_2\n",
      "[05:57:43] Fixed 2 duplicate /gene - ftnA_1 ftnA_2\n",
      "[05:57:43] Fixed 5 duplicate /gene - umuC_1 umuC_2 umuC_3 umuC_4 umuC_5\n",
      "[05:57:43] Fixed 3 duplicate /gene - klcA_1 klcA_2 klcA_3\n",
      "[05:57:43] Fixed 2 duplicate /gene - cysG_1 cysG_2\n",
      "[05:57:43] Fixed 2 duplicate /gene - yjhB_1 yjhB_2\n",
      "[05:57:43] Fixed 2 duplicate /gene - lpxL_1 lpxL_2\n",
      "[05:57:43] Fixed 3 duplicate /gene - fimC_1 fimC_2 fimC_3\n",
      "[05:57:43] Fixed 2 duplicate /gene - yibH_1 yibH_2\n",
      "[05:57:43] Fixed 2 duplicate /gene - glcR_1 glcR_2\n",
      "[05:57:43] Fixed 2 duplicate /gene - ribX_1 ribX_2\n",
      "[05:57:43] Fixed 2 duplicate /gene - hcaB_1 hcaB_2\n",
      "[05:57:43] Fixed 2 duplicate /gene - cimH_1 cimH_2\n",
      "[05:57:43] Fixed 3 duplicate /gene - dppB_1 dppB_2 dppB_3\n",
      "[05:57:43] Fixed 2 duplicate /gene - mepM_1 mepM_2\n",
      "[05:57:43] Fixed 2 duplicate /gene - guaD_1 guaD_2\n",
      "[05:57:43] Fixed 2 duplicate /gene - intS_1 intS_2\n",
      "[05:57:43] Fixed 2 duplicate /gene - dmsB_1 dmsB_2\n",
      "[05:57:43] Fixed 2 duplicate /gene - oppA_1 oppA_2\n",
      "[05:57:43] Fixed 2 duplicate /gene - ecpC_1 ecpC_2\n",
      "[05:57:43] Fixed 3 duplicate /gene - slyA_1 slyA_2 slyA_3\n",
      "[05:57:43] Fixed 3 duplicate /gene - artJ_1 artJ_2 artJ_3\n",
      "[05:57:43] Fixed 2 duplicate /gene - nifD_1 nifD_2\n",
      "[05:57:43] Fixed 2 duplicate /gene - gatC_1 gatC_2\n",
      "[05:57:43] Fixed 7 duplicate /gene - vanR-I_1 vanR-I_2 vanR-I_3 vanR-I_4 vanR-I_5 vanR-I_6 vanR-I_7\n",
      "[05:57:43] Fixed 2 duplicate /gene - leuE_1 leuE_2\n",
      "[05:57:43] Fixed 2 duplicate /gene - blc_1 blc_2\n",
      "[05:57:43] Fixed 2 duplicate /gene - rlhA_1 rlhA_2\n",
      "[05:57:43] Fixed 2 duplicate /gene - glmS_1 glmS_2\n",
      "[05:57:43] Fixed 2 duplicate /gene - agp_1 agp_2\n",
      "[05:57:43] Fixed 2 duplicate /gene - ecpA_1 ecpA_2\n",
      "[05:57:43] Fixed 2 duplicate /gene - yagG_1 yagG_2\n",
      "[05:57:43] Fixed 2 duplicate /gene - ugpA_1 ugpA_2\n",
      "[05:57:43] Fixed 2 duplicate /gene - lyx_1 lyx_2\n",
      "[05:57:43] Fixed 2 duplicate /gene - cra_1 cra_2\n",
      "[05:57:43] Fixed 3 duplicate /gene - ydcV_1 ydcV_2 ydcV_3\n",
      "[05:57:43] Fixed 2 duplicate /gene - tsaR_1 tsaR_2\n",
      "[05:57:43] Fixed 2 duplicate /gene - oqxB10_1 oqxB10_2\n",
      "[05:57:43] Fixed 2 duplicate /gene - xylG_1 xylG_2\n",
      "[05:57:43] Fixed 3 duplicate /gene - ddpC_1 ddpC_2 ddpC_3\n",
      "[05:57:43] Fixed 3 duplicate /gene - pcaK_1 pcaK_2 pcaK_3\n",
      "[05:57:43] Fixed 3 duplicate /gene - uspG_1 uspG_2 uspG_3\n",
      "[05:57:43] Fixed 3 duplicate /gene - cmpR_1 cmpR_2 cmpR_3\n",
      "[05:57:43] Fixed 2 duplicate /gene - fecA_1 fecA_2\n",
      "[05:57:43] Fixed 2 duplicate /gene - fabF_1 fabF_2\n",
      "[05:57:43] Fixed 2 duplicate /gene - pspA_1 pspA_2\n",
      "[05:57:43] Fixed 2 duplicate /gene - mdtM_1 mdtM_2\n",
      "[05:57:43] Fixed 3 duplicate /gene - cutC_1 cutC_2 cutC_3\n",
      "[05:57:43] Fixed 2 duplicate /gene - bioD1_1 bioD1_2\n",
      "[05:57:43] Fixed 5 duplicate /gene - glnH_1 glnH_2 glnH_3 glnH_4 glnH_5\n",
      "[05:57:43] Fixed 2 duplicate /gene - yabI_1 yabI_2\n",
      "[05:57:43] Fixed 2 duplicate /gene - gltJ_1 gltJ_2\n",
      "[05:57:43] Fixed 5 duplicate /gene - pduA_1 pduA_2 pduA_3 pduA_4 pduA_5\n",
      "[05:57:43] Fixed 2 duplicate /gene - araB_1 araB_2\n",
      "[05:57:43] Fixed 2 duplicate /gene - rsxC_1 rsxC_2\n",
      "[05:57:43] Fixed 2 duplicate /gene - msuD_1 msuD_2\n",
      "[05:57:43] Fixed 10 duplicate /gene - fabG_1 fabG_2 fabG_3 fabG_4 fabG_5 fabG_6 fabG_7 fabG_8 fabG_9 fabG_10\n",
      "[05:57:43] Fixed 2 duplicate /gene - lon_1 lon_2\n",
      "[05:57:43] Fixed 2 duplicate /gene - mltF_1 mltF_2\n",
      "[05:57:43] Fixed 2 duplicate /gene - glpT_1 glpT_2\n",
      "[05:57:43] Fixed 2 duplicate /gene - livJ_1 livJ_2\n",
      "[05:57:43] Fixed 2 duplicate /gene - astE_1 astE_2\n",
      "[05:57:43] Fixed 2 duplicate /gene - tet(T)_1 tet(T)_2\n",
      "[05:57:43] Fixed 2 duplicate /gene - purR_1 purR_2\n",
      "[05:57:43] Fixed 2 duplicate /gene - cusS_1 cusS_2\n",
      "[05:57:43] Fixed 3 duplicate /gene - osmY_1 osmY_2 osmY_3\n",
      "[05:57:43] Fixed 2 duplicate /gene - pduL_1 pduL_2\n",
      "[05:57:43] Fixed 2 duplicate /gene - por_1 por_2\n",
      "[05:57:43] Fixed 3 duplicate /gene - rbsR_1 rbsR_2 rbsR_3\n",
      "[05:57:43] Fixed 2 duplicate /gene - ybiI_1 ybiI_2\n",
      "[05:57:43] Fixed 2 duplicate /gene - ybjG_1 ybjG_2\n",
      "[05:57:43] Fixed 2 duplicate /gene - ibpB_1 ibpB_2\n",
      "[05:57:43] Fixed 4 duplicate /gene - rbsA_1 rbsA_2 rbsA_3 rbsA_4\n",
      "[05:57:43] Fixed 2 duplicate /gene - ulaC_1 ulaC_2\n",
      "[05:57:43] Fixed 2 duplicate /gene - glvR_1 glvR_2\n",
      "[05:57:43] Fixed 2 duplicate /gene - glgS_1 glgS_2\n",
      "[05:57:43] Fixed 2 duplicate /gene - yedK_1 yedK_2\n",
      "[05:57:43] Fixed 2 duplicate /gene - dppD_1 dppD_2\n",
      "[05:57:43] Fixed 3 duplicate /gene - pdeH_1 pdeH_2 pdeH_3\n",
      "[05:57:43] Fixed 3 duplicate /gene - lldR_1 lldR_2 lldR_3\n",
      "[05:57:43] Fixed 4 duplicate /gene - cusC_1 cusC_2 cusC_3 cusC_4\n",
      "[05:57:43] Fixed 2 duplicate /gene - can_1 can_2\n",
      "[05:57:43] Fixed 3 duplicate /gene - gsiD_1 gsiD_2 gsiD_3\n",
      "[05:57:43] Fixed 2 duplicate /gene - aptB_1 aptB_2\n",
      "[05:57:43] Fixed 2 duplicate /gene - fdoG_1 fdoG_2\n",
      "[05:57:43] Fixed 2 duplicate /gene - eutC_1 eutC_2\n",
      "[05:57:43] Fixed 2 duplicate /gene - feuC_1 feuC_2\n",
      "[05:57:43] Fixed 2 duplicate /gene - nifK_1 nifK_2\n",
      "[05:57:43] Fixed 9 duplicate /gene - xerC_1 xerC_2 xerC_3 xerC_4 xerC_5 xerC_6 xerC_7 xerC_8 xerC_9\n",
      "[05:57:43] Fixed 2 duplicate /gene - rafB_1 rafB_2\n",
      "[05:57:43] Fixed 3 duplicate /gene - ssuB_1 ssuB_2 ssuB_3\n",
      "[05:57:43] Fixed 2 duplicate /gene - ubiJ_1 ubiJ_2\n",
      "[05:57:43] Fixed 2 duplicate /gene - argE_1 argE_2\n",
      "[05:57:43] Fixed 4 duplicate /gene - livH_1 livH_2 livH_3 livH_4\n",
      "[05:57:43] Fixed 7 duplicate /gene - menH_1 menH_2 menH_3 menH_4 menH_5 menH_6 menH_7\n",
      "[05:57:43] Fixed 3 duplicate /gene - nepI_1 nepI_2 nepI_3\n",
      "[05:57:43] Fixed 3 duplicate /gene - gloB_1 gloB_2 gloB_3\n",
      "[05:57:43] Fixed 4 duplicate /gene - lamB_1 lamB_2 lamB_3 lamB_4\n",
      "[05:57:43] Fixed 2 duplicate /gene - yrdA_1 yrdA_2\n",
      "[05:57:43] Fixed 2 duplicate /gene - chbR_1 chbR_2\n",
      "[05:57:43] Fixed 5 duplicate /gene - dam_1 dam_2 dam_3 dam_4 dam_5\n",
      "[05:57:43] Fixed 7 duplicate /gene - mshA_1 mshA_2 mshA_3 mshA_4 mshA_5 mshA_6 mshA_7\n",
      "[05:57:43] Fixed 2 duplicate /gene - roxA_1 roxA_2\n",
      "[05:57:43] Fixed 2 duplicate /gene - srlB_1 srlB_2\n",
      "[05:57:43] Fixed 2 duplicate /gene - lldD_1 lldD_2\n",
      "[05:57:43] Fixed 2 duplicate /gene - rffG_1 rffG_2\n",
      "[05:57:43] Fixed 2 duplicate /gene - clpP_1 clpP_2\n",
      "[05:57:43] Fixed 8 duplicate /gene - btuD_1 btuD_2 btuD_3 btuD_4 btuD_5 btuD_6 btuD_7 btuD_8\n",
      "[05:57:43] Fixed 2 duplicate /gene - hxpB_1 hxpB_2\n",
      "[05:57:43] Fixed 2 duplicate /gene - aspT_1 aspT_2\n",
      "[05:57:43] Fixed 2 duplicate /gene - ahpC_1 ahpC_2\n",
      "[05:57:43] Fixed 5 duplicate /gene - gstB_1 gstB_2 gstB_3 gstB_4 gstB_5\n",
      "[05:57:43] Fixed 3 duplicate /gene - rbsB_1 rbsB_2 rbsB_3\n",
      "[05:57:43] Fixed 2 duplicate /gene - ppiC_1 ppiC_2\n",
      "[05:57:43] Fixed 2 duplicate /gene - hutH_1 hutH_2\n",
      "[05:57:43] Fixed 2 duplicate /gene - traI_1 traI_2\n",
      "[05:57:43] Fixed 2 duplicate /gene - rppH_1 rppH_2\n",
      "[05:57:43] Fixed 2 duplicate /gene - mlc_1 mlc_2\n",
      "[05:57:43] Fixed 2 duplicate /gene - deoR_1 deoR_2\n",
      "[05:57:43] Fixed 2 duplicate /gene - metN2_1 metN2_2\n",
      "[05:57:43] Fixed 2 duplicate /gene - vanR-M_1 vanR-M_2\n",
      "[05:57:43] Fixed 2 duplicate /gene - gmuD_1 gmuD_2\n",
      "[05:57:43] Fixed 2 duplicate /gene - smrA_1 smrA_2\n",
      "[05:57:43] Fixed 2 duplicate /gene - cytR_1 cytR_2\n",
      "[05:57:43] Fixed 2 duplicate /gene - ftsI_1 ftsI_2\n",
      "[05:57:43] Fixed 2 duplicate /gene - fimG_1 fimG_2\n",
      "[05:57:43] Fixed 2 duplicate /gene - icd_1 icd_2\n",
      "[05:57:43] Fixed 2 duplicate /gene - emrB_1 emrB_2\n",
      "[05:57:43] Fixed 2 duplicate /gene - rusA_1 rusA_2\n",
      "[05:57:43] Fixed 4 duplicate /gene - fimA_1 fimA_2 fimA_3 fimA_4\n",
      "[05:57:43] Fixed 2 duplicate /gene - glpE_1 glpE_2\n",
      "[05:57:43] Fixed 2 duplicate /gene - dadA_1 dadA_2\n",
      "[05:57:43] Fixed 5 duplicate /gene - oxyR_1 oxyR_2 oxyR_3 oxyR_4 oxyR_5\n",
      "[05:57:43] Fixed 2 duplicate /gene - araG_1 araG_2\n",
      "[05:57:43] Fixed 4 duplicate /gene - betB_1 betB_2 betB_3 betB_4\n",
      "[05:57:43] Fixed 2 duplicate /gene - zapE_1 zapE_2\n",
      "[05:57:43] Fixed 2 duplicate /gene - htrE_1 htrE_2\n",
      "[05:57:43] Fixed 2 duplicate /gene - maeA_1 maeA_2\n",
      "[05:57:43] Fixed 2 duplicate /gene - puuB_1 puuB_2\n",
      "[05:57:43] Fixed 2 duplicate /gene - norW_1 norW_2\n",
      "[05:57:43] Fixed 2 duplicate /gene - sotB_1 sotB_2\n",
      "[05:57:43] Fixed 2 duplicate /gene - dsbA_1 dsbA_2\n",
      "[05:57:43] Fixed 2 duplicate /gene - parM_1 parM_2\n",
      "[05:57:43] Fixed 2 duplicate /gene - celA_1 celA_2\n",
      "[05:57:43] Fixed 2 duplicate /gene - fimF_1 fimF_2\n",
      "[05:57:43] Fixed 5 duplicate /gene - malP_1 malP_2 malP_3 malP_4 malP_5\n",
      "[05:57:43] Fixed 2 duplicate /gene - ytfF_1 ytfF_2\n",
      "[05:57:43] Fixed 2 duplicate /gene - proY_1 proY_2\n",
      "[05:57:43] Fixed 2 duplicate /gene - kefC_1 kefC_2\n",
      "[05:57:43] Fixed 2 duplicate /gene - fhuC_1 fhuC_2\n",
      "[05:57:43] Fixed 2 duplicate /gene - fabD_1 fabD_2\n",
      "[05:57:43] Fixed 15 duplicate /gene - tetA(58)_1 tetA(58)_2 tetA(58)_3 tetA(58)_4 tetA(58)_5 tetA(58)_6 tetA(58)_7 tetA(58)_8 tetA(58)_9 tetA(58)_10 tetA(58)_11 tetA(58)_12 tetA(58)_13 tetA(58)_14 tetA(58)_15\n",
      "[05:57:43] Fixed 3 duplicate /gene - yhaJ_1 yhaJ_2 yhaJ_3\n",
      "[05:57:43] Fixed 2 duplicate /gene - abaF_1 abaF_2\n",
      "[05:57:43] Fixed 2 duplicate /gene - malK_1 malK_2\n",
      "[05:57:43] Fixed 2 duplicate /gene - yjcS_1 yjcS_2\n",
      "[05:57:43] Fixed 2 duplicate /gene - optrA_1 optrA_2\n",
      "[05:57:43] Fixed 4 duplicate /gene - iolE_1 iolE_2 iolE_3 iolE_4\n",
      "[05:57:43] Fixed 8 duplicate /gene - pgrR_1 pgrR_2 pgrR_3 pgrR_4 pgrR_5 pgrR_6 pgrR_7 pgrR_8\n",
      "[05:57:43] Fixed 2 duplicate /gene - sorC_1 sorC_2\n",
      "[05:57:43] Fixed 2 duplicate /gene - aroE_1 aroE_2\n",
      "[05:57:43] Fixed 4 duplicate /gene - metI_1 metI_2 metI_3 metI_4\n",
      "[05:57:43] Fixed 3 duplicate /gene - rep_1 rep_2 rep_3\n",
      "[05:57:43] Fixed 6 duplicate /gene - gcvA_1 gcvA_2 gcvA_3 gcvA_4 gcvA_5 gcvA_6\n",
      "[05:57:43] Fixed 2 duplicate /gene - rffH_1 rffH_2\n",
      "[05:57:43] Fixed 2 duplicate /gene - nemA_1 nemA_2\n",
      "[05:57:43] Fixed 3 duplicate /gene - cydA_1 cydA_2 cydA_3\n",
      "[05:57:43] Fixed 4 duplicate /gene - hexR_1 hexR_2 hexR_3 hexR_4\n",
      "[05:57:43] Fixed 2 duplicate /gene - ilvB_1 ilvB_2\n",
      "[05:57:43] Fixed 4 duplicate /gene - oppF_1 oppF_2 oppF_3 oppF_4\n",
      "[05:57:43] Fixed 2 duplicate /gene - dinI_1 dinI_2\n",
      "[05:57:43] Fixed 2 duplicate /gene - fimH_1 fimH_2\n",
      "[05:57:43] Fixed 2 duplicate /gene - epsF_1 epsF_2\n",
      "[05:57:43] Fixed 4 duplicate /gene - umuD_1 umuD_2 umuD_3 umuD_4\n",
      "[05:57:43] Fixed 2 duplicate /gene - bluF_1 bluF_2\n",
      "[05:57:43] Fixed 5 duplicate /gene - norR_1 norR_2 norR_3 norR_4 norR_5\n",
      "[05:57:43] Fixed 2 duplicate /gene - nanR_1 nanR_2\n",
      "[05:57:43] Fixed 3 duplicate /gene - gabR_1 gabR_2 gabR_3\n",
      "[05:57:43] Fixed 2 duplicate /gene - zntB_1 zntB_2\n",
      "[05:57:43] Fixed 7 duplicate /gene - rhaR_1 rhaR_2 rhaR_3 rhaR_4 rhaR_5 rhaR_6 rhaR_7\n",
      "[05:57:43] Fixed 2 duplicate /gene - gmhA_1 gmhA_2\n",
      "[05:57:43] Fixed 2 duplicate /gene - ecpD_1 ecpD_2\n",
      "[05:57:43] Fixed 2 duplicate /gene - mngR_1 mngR_2\n",
      "[05:57:43] Fixed 3 duplicate /gene - rutB_1 rutB_2 rutB_3\n",
      "[05:57:43] Fixed 2 duplicate /gene - nsrR_1 nsrR_2\n",
      "[05:57:43] Fixed 3 duplicate /gene - arnC_1 arnC_2 arnC_3\n",
      "[05:57:43] Fixed 2 duplicate /gene - epsE_1 epsE_2\n",
      "[05:57:43] Fixed 2 duplicate /gene - mdtH_1 mdtH_2\n",
      "[05:57:43] Fixed 2 duplicate /gene - gltA_1 gltA_2\n",
      "[05:57:43] Fixed 2 duplicate /gene - astB_1 astB_2\n",
      "[05:57:43] Fixed 2 duplicate /gene - taeA_1 taeA_2\n",
      "[05:57:43] Fixed 2 duplicate /gene - fdnG_1 fdnG_2\n",
      "[05:57:43] Fixed 5 duplicate /gene - mntB_1 mntB_2 mntB_3 mntB_4 mntB_5\n",
      "[05:57:43] Fixed 2 duplicate /gene - ygaZ_1 ygaZ_2\n",
      "[05:57:43] Fixed 2 duplicate /gene - nlpD_1 nlpD_2\n",
      "[05:57:43] Fixed 2 duplicate /gene - merP_1 merP_2\n",
      "[05:57:43] Fixed 2 duplicate /gene - apbE_1 apbE_2\n",
      "[05:57:43] Fixed 2 duplicate /gene - yajR_1 yajR_2\n",
      "[05:57:43] Fixed 2 duplicate /gene - talB_1 talB_2\n",
      "[05:57:43] Fixed 2 duplicate /gene - map_1 map_2\n",
      "[05:57:43] Fixed 3 duplicate /gene - metN_1 metN_2 metN_3\n",
      "[05:57:43] Fixed 2 duplicate /gene - pyrG_1 pyrG_2\n",
      "[05:57:43] Fixed 2 duplicate /gene - dcuR_1 dcuR_2\n",
      "[05:57:43] Fixed 3 duplicate /gene - arsC_1 arsC_2 arsC_3\n",
      "[05:57:43] Fixed 3 duplicate /gene - manZ_1 manZ_2 manZ_3\n",
      "[05:57:43] Fixed 2 duplicate /gene - pckA_1 pckA_2\n",
      "[05:57:43] Fixed 2 duplicate /gene - bdcA_1 bdcA_2\n",
      "[05:57:43] Fixed 2 duplicate /gene - cysH_1 cysH_2\n",
      "[05:57:43] Fixed 3 duplicate /gene - gudP_1 gudP_2 gudP_3\n",
      "[05:57:43] Fixed 2 duplicate /gene - ygiW_1 ygiW_2\n",
      "[05:57:43] Fixed 2 duplicate /gene - ddpA_1 ddpA_2\n",
      "[05:57:43] Fixed 3 duplicate /gene - yiaW_1 yiaW_2 yiaW_3\n",
      "[05:57:43] Fixed 2 duplicate /gene - cusF_1 cusF_2\n",
      "[05:57:43] Fixed 2 duplicate /gene - fecE_1 fecE_2\n",
      "[05:57:43] Fixed 2 duplicate /gene - yhhS_1 yhhS_2\n",
      "[05:57:43] Fixed 2 duplicate /gene - topA_1 topA_2\n",
      "[05:57:43] Fixed 2 duplicate /gene - bcsB_1 bcsB_2\n",
      "[05:57:43] Fixed 2 duplicate /gene - lsrD_1 lsrD_2\n",
      "[05:57:43] Fixed 2 duplicate /gene - xylB_1 xylB_2\n",
      "[05:57:43] Fixed 5 duplicate /gene - potA_1 potA_2 potA_3 potA_4 potA_5\n",
      "[05:57:43] Fixed 3 duplicate /gene - hipO_1 hipO_2 hipO_3\n",
      "[05:57:43] Fixed 2 duplicate /gene - gdhA_1 gdhA_2\n",
      "[05:57:43] Fixed 4 duplicate /gene - fimD_1 fimD_2 fimD_3 fimD_4\n",
      "[05:57:43] Fixed 18 duplicate /gene - dmlR_1 dmlR_2 dmlR_3 dmlR_4 dmlR_5 dmlR_6 dmlR_7 dmlR_8 dmlR_9 dmlR_10 dmlR_11 dmlR_12 dmlR_13 dmlR_14 dmlR_15 dmlR_16 dmlR_17 dmlR_18\n",
      "[05:57:43] Fixed 2 duplicate /gene - codA_1 codA_2\n",
      "[05:57:43] Fixed 2 duplicate /gene - astA_1 astA_2\n",
      "[05:57:43] Fixed 2 duplicate /gene - ybdG_1 ybdG_2\n",
      "[05:57:43] Fixed 2 duplicate /gene - copA_1 copA_2\n",
      "[05:57:43] Fixed 2 duplicate /gene - mdh_1 mdh_2\n",
      "[05:57:43] Fixed 2 duplicate /gene - oqxB16_1 oqxB16_2\n",
      "[05:57:43] Fixed 3 duplicate /gene - thlA_1 thlA_2 thlA_3\n",
      "[05:57:43] Fixed 2 duplicate /gene - dhaK_1 dhaK_2\n",
      "[05:57:43] Fixed 2 duplicate /gene - cycA_1 cycA_2\n",
      "[05:57:43] Fixed 3 duplicate /gene - suhB_1 suhB_2 suhB_3\n",
      "[05:57:43] Fixed 2 duplicate /gene - pgl_1 pgl_2\n",
      "[05:57:43] Fixed 2 duplicate /gene - dctA_1 dctA_2\n",
      "[05:57:43] Fixed 4 duplicate /gene - nimR_1 nimR_2 nimR_3 nimR_4\n",
      "[05:57:43] Fixed 2 duplicate /gene - sgrR_1 sgrR_2\n",
      "[05:57:43] Fixed 2 duplicate /gene - nodD2_1 nodD2_2\n",
      "[05:57:43] Fixed 2 duplicate /gene - aroK_1 aroK_2\n",
      "[05:57:43] Fixed 2 duplicate /gene - kduD_1 kduD_2\n",
      "[05:57:43] Fixed 2 duplicate /gene - amiC_1 amiC_2\n",
      "[05:57:43] Fixed 2 duplicate /gene - metC_1 metC_2\n",
      "[05:57:43] Fixed 2 duplicate /gene - mak_1 mak_2\n",
      "[05:57:43] Fixed 2 duplicate /gene - asd_1 asd_2\n",
      "[05:57:43] Fixed 2 duplicate /gene - gabD_1 gabD_2\n",
      "[05:57:43] Fixed 3 duplicate /gene - dppA_1 dppA_2 dppA_3\n",
      "[05:57:43] Fixed 3 duplicate /gene - lacI_1 lacI_2 lacI_3\n",
      "[05:57:43] Fixed 5 duplicate /gene - rcsC_1 rcsC_2 rcsC_3 rcsC_4 rcsC_5\n",
      "[05:57:43] Fixed 2 duplicate /gene - lysN_1 lysN_2\n",
      "[05:57:43] Fixed 2 duplicate /gene - ecpB_1 ecpB_2\n",
      "[05:57:43] Fixed 2 duplicate /gene - yadV_1 yadV_2\n",
      "[05:57:43] Fixed 7 duplicate /gene - betI_1 betI_2 betI_3 betI_4 betI_5 betI_6 betI_7\n",
      "[05:57:43] Fixed 2 duplicate /gene - qorA_1 qorA_2\n",
      "[05:57:43] Fixed 2 duplicate /gene - hisC_1 hisC_2\n",
      "[05:57:43] Fixed 3 duplicate /gene - arsB_1 arsB_2 arsB_3\n",
      "[05:57:43] Fixed 2 duplicate /gene - fruB_1 fruB_2\n",
      "[05:57:43] Fixed 2 duplicate /gene - pat_1 pat_2\n",
      "[05:57:43] Fixed 2 duplicate /gene - modA_1 modA_2\n",
      "[05:57:43] Fixed 2 duplicate /gene - aroA_1 aroA_2\n",
      "[05:57:43] Fixed 2 duplicate /gene - prs_1 prs_2\n",
      "[05:57:43] Fixed 5 duplicate /gene - fliY_1 fliY_2 fliY_3 fliY_4 fliY_5\n",
      "[05:57:43] Fixed 5 duplicate /gene - metQ_1 metQ_2 metQ_3 metQ_4 metQ_5\n",
      "[05:57:43] Fixed 2 duplicate /gene - yfcG_1 yfcG_2\n",
      "[05:57:43] Fixed 2 duplicate /gene - hisQ_1 hisQ_2\n",
      "[05:57:43] Fixed 2 duplicate /gene - dsbD_1 dsbD_2\n",
      "[05:57:43] Fixed 3 duplicate /gene - cutD_1 cutD_2 cutD_3\n",
      "[05:57:43] Fixed 2 duplicate /gene - fbaA_1 fbaA_2\n",
      "[05:57:43] Fixed 2 duplicate /gene - ssb_1 ssb_2\n",
      "[05:57:43] Fixed 2 duplicate /gene - rluA_1 rluA_2\n",
      "[05:57:43] Fixed 3 duplicate /gene - rob_1 rob_2 rob_3\n",
      "[05:57:43] Fixed 2 duplicate /gene - btuF_1 btuF_2\n",
      "[05:57:43] Fixed 3 duplicate /gene - emrA_1 emrA_2 emrA_3\n",
      "[05:57:43] Fixed 2 duplicate /gene - mrkD_1 mrkD_2\n",
      "[05:57:43] Fixed 2 duplicate /gene - cusB_1 cusB_2\n",
      "[05:57:43] Fixed 2 duplicate /gene - lsrF_1 lsrF_2\n",
      "[05:57:43] Fixed 2 duplicate /gene - dauR_1 dauR_2\n",
      "[05:57:43] Fixed 2 duplicate /gene - tyrP_1 tyrP_2\n",
      "[05:57:43] Fixed 2 duplicate /gene - citB_1 citB_2\n",
      "[05:57:43] Fixed 9 duplicate /gene - hdfR_1 hdfR_2 hdfR_3 hdfR_4 hdfR_5 hdfR_6 hdfR_7 hdfR_8 hdfR_9\n",
      "[05:57:43] Fixed 2 duplicate /gene - murQ_1 murQ_2\n",
      "[05:57:43] Fixed 4 duplicate /gene - bglH_1 bglH_2 bglH_3 bglH_4\n",
      "[05:57:43] Fixed 3 duplicate /gene - rhtC_1 rhtC_2 rhtC_3\n",
      "[05:57:43] Fixed 2 duplicate /gene - benM_1 benM_2\n",
      "[05:57:43] Fixed 2 duplicate /gene - tcmA_1 tcmA_2\n",
      "[05:57:43] Fixed 2 duplicate /gene - thpA_1 thpA_2\n",
      "[05:57:43] Fixed 2 duplicate /gene - hyfA_1 hyfA_2\n",
      "[05:57:43] Fixed 6 duplicate /gene - tetB(60)_1 tetB(60)_2 tetB(60)_3 tetB(60)_4 tetB(60)_5 tetB(60)_6\n",
      "[05:57:43] Fixed 5 duplicate /gene - argP_1 argP_2 argP_3 argP_4 argP_5\n",
      "[05:57:43] Fixed 2 duplicate /gene - yohK_1 yohK_2\n",
      "[05:57:43] Fixed 2 duplicate /gene - bcsQ_1 bcsQ_2\n",
      "[05:57:43] Fixed 2 duplicate /gene - leuA_1 leuA_2\n",
      "[05:57:43] Fixed 2 duplicate /gene - iolU_1 iolU_2\n",
      "[05:57:43] Fixed 2 duplicate /gene - uxuA_1 uxuA_2\n",
      "[05:57:43] Fixed 2 duplicate /gene - mtgA_1 mtgA_2\n",
      "[05:57:43] Fixed 2 duplicate /gene - aptA_1 aptA_2\n",
      "[05:57:43] Fixed 3 duplicate /gene - pcaR_1 pcaR_2 pcaR_3\n",
      "[05:57:43] Fixed 2 duplicate /gene - araC_1 araC_2\n",
      "[05:57:43] Fixed 4 duplicate /gene - glnQ_1 glnQ_2 glnQ_3 glnQ_4\n",
      "[05:57:43] Fixed 2 duplicate /gene - ydiK_1 ydiK_2\n",
      "[05:57:43] Fixed 2 duplicate /gene - cpdA_1 cpdA_2\n",
      "[05:57:43] Fixed 2 duplicate /gene - argT_1 argT_2\n",
      "[05:57:43] Fixed 5 duplicate /gene - glpR_1 glpR_2 glpR_3 glpR_4 glpR_5\n",
      "[05:57:43] Fixed 3 duplicate /gene - lpxD_1 lpxD_2 lpxD_3\n",
      "[05:57:43] Fixed 2 duplicate /gene - lrp_1 lrp_2\n",
      "[05:57:43] Fixed 2 duplicate /gene - sfnC_1 sfnC_2\n",
      "[05:57:43] Fixed 2 duplicate /gene - cobT_1 cobT_2\n",
      "[05:57:43] Fixed 2 duplicate /gene - metE_1 metE_2\n",
      "[05:57:43] Fixed 2 duplicate /gene - kefF_1 kefF_2\n",
      "[05:57:43] Fixed 2 duplicate /gene - malX_1 malX_2\n",
      "[05:57:43] Fixed 2 duplicate /gene - ydjH_1 ydjH_2\n",
      "[05:57:43] Fixed 2 duplicate /gene - speG_1 speG_2\n",
      "[05:57:43] Fixed 2 duplicate /gene - yiaV_1 yiaV_2\n",
      "[05:57:43] Fixed 2 duplicate /gene - rssB_1 rssB_2\n",
      "[05:57:43] Fixed 5 duplicate /gene - licC_1 licC_2 licC_3 licC_4 licC_5\n",
      "[05:57:43] Fixed 2 duplicate /gene - surA_1 surA_2\n",
      "[05:57:43] Fixed 2 duplicate /gene - tktA_1 tktA_2\n",
      "[05:57:43] Fixed 2 duplicate /gene - bcr_1 bcr_2\n",
      "[05:57:43] Fixed 3 duplicate /gene - yheS_1 yheS_2 yheS_3\n",
      "[05:57:43] Fixed 2 duplicate /gene - cobD_1 cobD_2\n",
      "[05:57:43] Fixed 3 duplicate /gene - cydB_1 cydB_2 cydB_3\n",
      "[05:57:43] Fixed 2 duplicate /gene - acsAB_1 acsAB_2\n",
      "[05:57:43] Fixed 2 duplicate /gene - dnaK_1 dnaK_2\n",
      "[05:57:43] Fixed 2 duplicate /gene - yddE_1 yddE_2\n",
      "[05:57:43] Fixed 3 duplicate /gene - oppD_1 oppD_2 oppD_3\n",
      "[05:57:43] Fixed 2 duplicate /gene - oprM_1 oprM_2\n",
      "[05:57:43] Fixed 3 duplicate /gene - vldW_1 vldW_2 vldW_3\n",
      "[05:57:43] Fixed 4 duplicate /gene - proP_1 proP_2 proP_3 proP_4\n",
      "[05:57:43] Fixed 3 duplicate /gene - ascG_1 ascG_2 ascG_3\n",
      "[05:57:43] Fixed 2 duplicate /gene - astD_1 astD_2\n",
      "[05:57:43] Fixed 2 duplicate /gene - pncC_1 pncC_2\n",
      "[05:57:43] Fixed 2 duplicate /gene - hsrA_1 hsrA_2\n",
      "[05:57:43] Fixed 3 duplicate /gene - dauA_1 dauA_2 dauA_3\n",
      "[05:57:43] Fixed 2 duplicate /gene - malT_1 malT_2\n",
      "[05:57:43] Fixed 5 duplicate /gene - sasA_1 sasA_2 sasA_3 sasA_4 sasA_5\n",
      "[05:57:43] Fixed 2 duplicate /gene - citA_1 citA_2\n",
      "[05:57:43] Fixed 2 duplicate /gene - yncE_1 yncE_2\n",
      "[05:57:43] Fixed 5 duplicate /gene - recF_1 recF_2 recF_3 recF_4 recF_5\n",
      "[05:57:43] Fixed 3 duplicate /gene - livF_1 livF_2 livF_3\n",
      "[05:57:43] Fixed 2 duplicate /gene - fepA_1 fepA_2\n",
      "[05:57:43] Fixed 2 duplicate /gene - merC_1 merC_2\n",
      "[05:57:43] Fixed 4 duplicate /gene - gltC_1 gltC_2 gltC_3 gltC_4\n",
      "[05:57:43] Fixed 2 duplicate /gene - acrR_1 acrR_2\n",
      "[05:57:43] Fixed 2 duplicate /gene - soxS_1 soxS_2\n",
      "[05:57:43] Fixed 2 duplicate /gene - clcB_1 clcB_2\n",
      "[05:57:43] Fixed 4 duplicate /gene - rutC_1 rutC_2 rutC_3 rutC_4\n",
      "[05:57:43] Fixed 3 duplicate /gene - glnP_1 glnP_2 glnP_3\n",
      "[05:57:43] Fixed 2 duplicate /gene - ctpF_1 ctpF_2\n",
      "[05:57:43] Fixed 3 duplicate /gene - dmsA_1 dmsA_2 dmsA_3\n",
      "[05:57:43] Fixed 2 duplicate /gene - arsA_1 arsA_2\n",
      "[05:57:43] Fixed 2 duplicate /gene - fhuA_1 fhuA_2\n",
      "[05:57:43] Fixed 2 duplicate /gene - vanH-D_1 vanH-D_2\n",
      "[05:57:43] Fixed 3 duplicate /gene - bglF_1 bglF_2 bglF_3\n",
      "[05:57:43] Fixed 2 duplicate /gene - namA_1 namA_2\n",
      "[05:57:43] Fixed 2 duplicate /gene - aaeB_1 aaeB_2\n",
      "[05:57:43] Fixed 2 duplicate /gene - cobC_1 cobC_2\n",
      "[05:57:43] Fixed 2 duplicate /gene - ompN_1 ompN_2\n",
      "[05:57:43] Fixed 2 duplicate /gene - hdeB_1 hdeB_2\n",
      "[05:57:43] Fixed 2 duplicate /gene - ydiB_1 ydiB_2\n",
      "[05:57:43] Fixed 2 duplicate /gene - norG_1 norG_2\n",
      "[05:57:43] Fixed 3 duplicate /gene - ugpC_1 ugpC_2 ugpC_3\n",
      "[05:57:43] Fixed 2 duplicate /gene - xanP_1 xanP_2\n",
      "[05:57:43] Fixed 2 duplicate /gene - feaB_1 feaB_2\n",
      "[05:57:43] Fixed 3 duplicate /gene - hcaR_1 hcaR_2 hcaR_3\n",
      "[05:57:43] Fixed 3 duplicate /gene - ulaA_1 ulaA_2 ulaA_3\n",
      "[05:57:43] Fixed 4 duplicate /gene - oqxA6_1 oqxA6_2 oqxA6_3 oqxA6_4\n",
      "[05:57:43] Fixed 2 duplicate /gene - bamA_1 bamA_2\n",
      "[05:57:43] Fixed 2 duplicate /gene - bepA_1 bepA_2\n",
      "[05:57:43] Fixed 2 duplicate /gene - ftsA_1 ftsA_2\n",
      "[05:57:43] Fixed 2 duplicate /gene - yesR_1 yesR_2\n",
      "[05:57:43] Fixed 2 duplicate /gene - pal_1 pal_2\n",
      "[05:57:43] Fixed 2 duplicate /gene - mepS_1 mepS_2\n",
      "[05:57:43] Fixed 3 duplicate /gene - intA_1 intA_2 intA_3\n",
      "[05:57:43] Fixed 2 duplicate /gene - silE_1 silE_2\n",
      "[05:57:43] Fixed 3 duplicate /gene - bglA_1 bglA_2 bglA_3\n",
      "[05:57:43] Fixed 2 duplicate /gene - trmH_1 trmH_2\n",
      "[05:57:43] Fixed 2 duplicate /gene - yciE_1 yciE_2\n",
      "[05:57:43] Fixed 4 duplicate /gene - ttuB_1 ttuB_2 ttuB_3 ttuB_4\n",
      "[05:57:43] Fixed 2 duplicate /gene - ydgJ_1 ydgJ_2\n",
      "[05:57:43] Fixed 4 duplicate /gene - yajO_1 yajO_2 yajO_3 yajO_4\n",
      "[05:57:43] Fixed 2 duplicate /gene - ybdO_1 ybdO_2\n",
      "[05:57:43] Fixed 2 duplicate /gene - rbsK_1 rbsK_2\n",
      "[05:57:43] Fixed 2 duplicate /gene - lgoT_1 lgoT_2\n",
      "[05:57:43] Fixed 2 duplicate /gene - astC_1 astC_2\n",
      "[05:57:43] Fixed 2 duplicate /gene - mglA_1 mglA_2\n",
      "[05:57:43] Fixed 11 duplicate /gene - rhaS_1 rhaS_2 rhaS_3 rhaS_4 rhaS_5 rhaS_6 rhaS_7 rhaS_8 rhaS_9 rhaS_10 rhaS_11\n",
      "[05:57:43] Fixed 2 duplicate /gene - malG_1 malG_2\n",
      "[05:57:43] Fixed 3 duplicate /gene - proA_1 proA_2 proA_3\n",
      "[05:57:43] Fixed 4 duplicate /gene - iolG_1 iolG_2 iolG_3 iolG_4\n",
      "[05:57:43] Fixed 2 duplicate /gene - srpC_1 srpC_2\n",
      "[05:57:43] Fixed 2 duplicate /gene - kdgK_1 kdgK_2\n",
      "[05:57:43] Fixed 2 duplicate /gene - tyrB_1 tyrB_2\n",
      "[05:57:43] Fixed 3 duplicate /gene - cynR_1 cynR_2 cynR_3\n",
      "[05:57:43] Fixed 2 duplicate /gene - artQ_1 artQ_2\n",
      "[05:57:43] Fixed 2 duplicate /gene - mqo_1 mqo_2\n",
      "[05:57:43] Fixed 2 duplicate /gene - citG_1 citG_2\n",
      "[05:57:43] Fixed 2 duplicate /gene - hpcE_1 hpcE_2\n",
      "[05:57:43] Fixed 2 duplicate /gene - xylA_1 xylA_2\n",
      "[05:57:43] Fixed 2 duplicate /gene - oqxB28_1 oqxB28_2\n",
      "[05:57:43] Fixed 2 duplicate /gene - tam_1 tam_2\n",
      "[05:57:43] Fixed 2 duplicate /gene - rbn_1 rbn_2\n",
      "[05:57:43] Fixed 2 duplicate /gene - nudK_1 nudK_2\n",
      "[05:57:43] Fixed 2 duplicate /gene - gltR_1 gltR_2\n",
      "[05:57:43] Fixed 3 duplicate /gene - frlB_1 frlB_2 frlB_3\n",
      "[05:57:43] Fixed 4 duplicate /gene - srlR_1 srlR_2 srlR_3 srlR_4\n",
      "[05:57:43] Fixed 2 duplicate /gene - aaeA_1 aaeA_2\n",
      "[05:57:43] Fixed 2 duplicate /gene - lpfB_1 lpfB_2\n",
      "[05:57:43] Fixed 2 duplicate /gene - nupC_1 nupC_2\n",
      "[05:57:43] Fixed 5 duplicate /gene - ygdR_1 ygdR_2 ygdR_3 ygdR_4 ygdR_5\n",
      "[05:57:43] Fixed 3 duplicate /gene - lacZ_1 lacZ_2 lacZ_3\n",
      "[05:57:43] Fixed 2 duplicate /gene - csbX_1 csbX_2\n",
      "[05:57:43] Fixed 2 duplicate /gene - mdtD_1 mdtD_2\n",
      "[05:57:43] Fixed 3 duplicate /gene - exuT_1 exuT_2 exuT_3\n",
      "[05:57:43] Fixed 4 duplicate /gene - yicJ_1 yicJ_2 yicJ_3 yicJ_4\n",
      "[05:57:43] Fixed 5 duplicate /gene - yecS_1 yecS_2 yecS_3 yecS_4 yecS_5\n",
      "[05:57:43] Fixed 3 duplicate /gene - fdhF_1 fdhF_2 fdhF_3\n",
      "[05:57:43] Fixed 2 duplicate /gene - lacY_1 lacY_2\n",
      "[05:57:43] Fixed 2 duplicate /gene - uspA_1 uspA_2\n",
      "[05:57:43] Fixed 2 duplicate /gene - aroP_1 aroP_2\n",
      "[05:57:43] Fixed 4 duplicate /gene - vanR-E_1 vanR-E_2 vanR-E_3 vanR-E_4\n",
      "[05:57:43] Fixed 2 duplicate /gene - ecpE_1 ecpE_2\n",
      "[05:57:43] Fixed 3 duplicate /gene - fruA_1 fruA_2 fruA_3\n",
      "[05:57:43] Fixed 2 duplicate /gene - rhtB_1 rhtB_2\n",
      "[05:57:43] Fixed 2 duplicate /gene - dgcT_1 dgcT_2\n",
      "[05:57:43] Fixed 2 duplicate /gene - fadR_1 fadR_2\n",
      "[05:57:43] Fixed 2 duplicate /gene - ycaD_1 ycaD_2\n",
      "[05:57:43] Fixed 7 duplicate /gene - rbsC_1 rbsC_2 rbsC_3 rbsC_4 rbsC_5 rbsC_6 rbsC_7\n",
      "[05:57:43] Fixed 4 duplicate /gene - chbA_1 chbA_2 chbA_3 chbA_4\n",
      "[05:57:43] Fixed 2 duplicate /gene - hmuT_1 hmuT_2\n",
      "[05:57:43] Fixed 2 duplicate /gene - mtnD_1 mtnD_2\n",
      "[05:57:43] Fixed 2 duplicate /gene - ccpA_1 ccpA_2\n",
      "[05:57:43] Fixed 2 duplicate /gene - hisJ_1 hisJ_2\n",
      "[05:57:43] Fixed 2 duplicate /gene - ppa_1 ppa_2\n",
      "[05:57:43] Fixed 2 duplicate /gene - kdgR_1 kdgR_2\n",
      "[05:57:43] Fixed 2 duplicate /gene - tuf1_1 tuf1_2\n",
      "[05:57:43] Fixed 2 duplicate /gene - ahpD_1 ahpD_2\n",
      "[05:57:43] Fixed 2 duplicate /gene - ydjZ_1 ydjZ_2\n",
      "[05:57:43] Fixed 2 duplicate /gene - lacC_1 lacC_2\n",
      "[05:57:43] Fixed 3 duplicate /gene - vanR-B_1 vanR-B_2 vanR-B_3\n",
      "[05:57:43] Fixed 2 duplicate /gene - lsrB_1 lsrB_2\n",
      "[05:57:43] Fixed 2 duplicate /gene - yeaX_1 yeaX_2\n",
      "[05:57:43] Fixed 4 duplicate /gene - gsiC_1 gsiC_2 gsiC_3 gsiC_4\n",
      "[05:57:43] Fixed 2 duplicate /gene - dmsC_1 dmsC_2\n",
      "[05:57:43] Fixed 4 duplicate /gene - cmlV_1 cmlV_2 cmlV_3 cmlV_4\n",
      "[05:57:43] Fixed 2 duplicate /gene - gpFI_1 gpFI_2\n",
      "[05:57:43] Fixed 2 duplicate /gene - clsB_1 clsB_2\n",
      "[05:57:43] Fixed 2 duplicate /gene - yeaR_1 yeaR_2\n",
      "[05:57:43] Fixed 3 duplicate /gene - iprA_1 iprA_2 iprA_3\n",
      "[05:57:43] Fixed 471 colliding /gene names.\n",
      "[05:57:43] Adding /locus_tag identifiers\n",
      "[05:57:43] Assigned 5229 locus_tags to CDS and RNA features.\n",
      "[05:57:43] Writing outputs to /data/hoan/amromics/data/ncbi/Ecolitest/prokka/temp/\n",
      "[05:57:52] Generating annotation statistics file\n",
      "[05:57:52] Generating Genbank and Sequin files\n",
      "[05:57:52] Running: tbl2asn -V b -a r10k -l paired-ends -M n -N 1 -y 'Annotated using prokka 1.14.6 from https://github.com/tseemann/prokka' -Z \\/data\\/hoan\\/amromics\\/data\\/ncbi\\/Ecolitest\\/prokka\\/temp\\/kq_700603_GCF_001596075_ERR1474548_\\.err -i \\/data\\/hoan\\/amromics\\/data\\/ncbi\\/Ecolitest\\/prokka\\/temp\\/kq_700603_GCF_001596075_ERR1474548_\\.fsa 2> /dev/null\n"
     ]
    },
    {
     "name": "stdout",
     "output_type": "stream",
     "text": [
      "[tbl2asn-forever] Found Prokka input, correcting dates in .gbf|.sqn files.\n",
      "[tbl2asn-forever] Correcting dates in /data/hoan/amromics/data/ncbi/Ecolitest/prokka/temp/kq_700603_GCF_001596075_ERR1474548_.gbf\n",
      "[tbl2asn-forever] Correcting dates in /data/hoan/amromics/data/ncbi/Ecolitest/prokka/temp/kq_700603_GCF_001596075_ERR1474548_.sqn\n",
      "[tbl2asn-forever] Dates changed from 01-JAN-2019 to 24-APR-2023\n"
     ]
    },
    {
     "name": "stderr",
     "output_type": "stream",
     "text": [
      "[05:58:30] Deleting unwanted file: /data/hoan/amromics/data/ncbi/Ecolitest/prokka/temp/errorsummary.val\n",
      "[05:58:30] Deleting unwanted file: /data/hoan/amromics/data/ncbi/Ecolitest/prokka/temp/kq_700603_GCF_001596075_ERR1474548_.dr\n",
      "[05:58:30] Deleting unwanted file: /data/hoan/amromics/data/ncbi/Ecolitest/prokka/temp/kq_700603_GCF_001596075_ERR1474548_.fixedproducts\n",
      "[05:58:30] Deleting unwanted file: /data/hoan/amromics/data/ncbi/Ecolitest/prokka/temp/kq_700603_GCF_001596075_ERR1474548_.ecn\n",
      "[05:58:30] Deleting unwanted file: /data/hoan/amromics/data/ncbi/Ecolitest/prokka/temp/kq_700603_GCF_001596075_ERR1474548_.val\n",
      "[05:58:30] Repairing broken .GBK output that tbl2asn produces...\n",
      "[05:58:30] Running: sed 's/COORDINATES: profile/COORDINATES:profile/' < \\/data\\/hoan\\/amromics\\/data\\/ncbi\\/Ecolitest\\/prokka\\/temp\\/kq_700603_GCF_001596075_ERR1474548_\\.gbf > \\/data\\/hoan\\/amromics\\/data\\/ncbi\\/Ecolitest\\/prokka\\/temp\\/kq_700603_GCF_001596075_ERR1474548_\\.gbk\n",
      "[05:58:31] Deleting unwanted file: /data/hoan/amromics/data/ncbi/Ecolitest/prokka/temp/kq_700603_GCF_001596075_ERR1474548_.gbf\n",
      "[05:58:31] Output files:\n",
      "[05:58:31] /data/hoan/amromics/data/ncbi/Ecolitest/prokka/temp/kq_700603_GCF_001596075_ERR1474548_.log\n",
      "[05:58:31] /data/hoan/amromics/data/ncbi/Ecolitest/prokka/temp/kq_700603_GCF_001596075_ERR1474548_.fna\n",
      "[05:58:31] /data/hoan/amromics/data/ncbi/Ecolitest/prokka/temp/kq_700603_GCF_001596075_ERR1474548_.gff\n",
      "[05:58:31] /data/hoan/amromics/data/ncbi/Ecolitest/prokka/temp/kq_700603_GCF_001596075_ERR1474548_.faa\n",
      "[05:58:31] /data/hoan/amromics/data/ncbi/Ecolitest/prokka/temp/kq_700603_GCF_001596075_ERR1474548_.ffn\n",
      "[05:58:31] /data/hoan/amromics/data/ncbi/Ecolitest/prokka/temp/kq_700603_GCF_001596075_ERR1474548_.tbl\n",
      "[05:58:31] /data/hoan/amromics/data/ncbi/Ecolitest/prokka/temp/kq_700603_GCF_001596075_ERR1474548_.fsa\n",
      "[05:58:31] /data/hoan/amromics/data/ncbi/Ecolitest/prokka/temp/kq_700603_GCF_001596075_ERR1474548_.tsv\n",
      "[05:58:31] /data/hoan/amromics/data/ncbi/Ecolitest/prokka/temp/kq_700603_GCF_001596075_ERR1474548_.txt\n",
      "[05:58:31] /data/hoan/amromics/data/ncbi/Ecolitest/prokka/temp/kq_700603_GCF_001596075_ERR1474548_.err\n",
      "[05:58:31] /data/hoan/amromics/data/ncbi/Ecolitest/prokka/temp/kq_700603_GCF_001596075_ERR1474548_.sqn\n",
      "[05:58:31] /data/hoan/amromics/data/ncbi/Ecolitest/prokka/temp/kq_700603_GCF_001596075_ERR1474548_.gbk\n",
      "[05:58:31] Annotation finished successfully.\n",
      "[05:58:31] Walltime used: 4.57 minutes\n",
      "[05:58:31] If you use this result please cite the Prokka paper:\n",
      "[05:58:31] Seemann T (2014) Prokka: rapid prokaryotic genome annotation. Bioinformatics. 30(14):2068-9.\n",
      "[05:58:31] Type 'prokka --citation' for more details.\n",
      "[05:58:31] Thank you, come again.\n"
     ]
    },
    {
     "name": "stdout",
     "output_type": "stream",
     "text": [
      "source ~/miniconda3/etc/profile.d/conda.sh && conda activate amromics && prokka --outdir /data/hoan/amromics/data/ncbi/Ecolitest/prokka/temp --cpus 30 --prefix kq_700603_GCF_001596075_ERR1474548_ /data/hoan/amromics/simulation/art_output/shovill_output_kq_700603_GCF_001596075_ERR1474548__v01/spades/contigs.fasta\n"
     ]
    }
   ],
   "source": [
    "if 1:\n",
    "    conda_dir = 'source ~/miniconda3/etc/profile.d/conda.sh && conda activate amromics && '\n",
    "    input_data = spades_output + '/contigs.fasta'\n",
    "    os.system('rm -r ' + prokka_target_dir +'temp/')\n",
    "    prokka_bin = conda_dir + 'prokka --outdir ' + prokka_target_dir +'temp' +data_base +' --prefix ' + sim_name +' '+input_data\n",
    "    os.system(prokka_bin)\n",
    "    os.system('cp ' + prokka_target_dir +'temp/'+sim_name+'.gff ' + prokka_target_dir + 'g1.gff')\n",
    "    os.system('cp ' + prokka_target_dir +'temp/'+sim_name+'.gff ' + prokka_target_dir + sim_name+'.gff')\n",
    "    os.system('rm -r ' + prokka_target_dir +'temp/')\n",
    "    print(prokka_bin)"
   ]
  },
  {
   "cell_type": "code",
   "execution_count": 22,
   "id": "e0dba6a4-c720-412c-8b83-826f926c6e89",
   "metadata": {},
   "outputs": [],
   "source": [
    "from pangraph.utils import export_metadata"
   ]
  },
  {
   "cell_type": "code",
   "execution_count": 23,
   "id": "ade2e475-0f72-47d5-b504-78883539e07b",
   "metadata": {},
   "outputs": [],
   "source": [
    "pantaconda_dir = 'source ~/miniconda3/etc/profile.d/conda.sh && conda activate panta && '\n",
    "panta_bin =pantaconda_dir+'python /data/hoan/amromics/panta_memopt_v2/panta/pan-genome.py'\n",
    "# panta_bin =pantaconda_dir+'python /data/hoan/amromics/panta_memopt/pan-genome.py'\n",
    "panta_output = '/data/hoan/amromics/genome-graph/scaffold_output/pantaOut/pantaOut' + simversionRef\n",
    "# panta_output_temp = panta_output + '_temp'\n",
    "panta_input = pangenome_data +'prokka/*.gff'\n",
    "if run_panta:\n",
    "    os.system('rm -r '+panta_output)\n",
    "    # os.system('rm -r '+panta_output_temp)\n",
    "    # ## run all samples + new samples\n",
    "    # # os.system('rm -r '+panta_output)\n",
    "    # # os.system('rm -r '+panta_output_temp)\n",
    "    # # os.system('cp '+prokka_target_dir + sim_name+'.gff ' + pangenome_data +'prokka/')\n",
    "    # # # cmd_panta = panta_bin + ' main -o ' + panta_output +' -g ' + panta_input + ' -i 0.7'\n",
    "    # # cmd_panta = panta_bin + ' main -o ' + panta_output +' -g ' + panta_input \n",
    "    # # print(cmd_panta)\n",
    "    # # os.system(cmd_panta)\n",
    "    # export_metadata(panta_output)     \n",
    "   \n",
    "    ## Split into 2 steps\n",
    "    # os.system('cp '+prokka_target_dir + sim_name+'.gff ' + pangenome_data +'prokka/')\n",
    "    cmd_panta = panta_bin + ' main -o ' + panta_output +' -g ' + panta_input #+ ' -s'\n",
    "    print(cmd_panta)\n",
    "    os.system(cmd_panta)\n",
    "    \n",
    "    ## Copy to temp directory\n",
    "   # os.system('rm -r '+panta_output_temp)\n",
    "   # os.system('cp -R '+ panta_output + ' ' + panta_output_temp)\n",
    "    cmd_panta = panta_bin + ' add -c ' + panta_output +' -g ' + prokka_target_dir + sim_name+'.gff -s'\n",
    "    print(cmd_panta)\n",
    "    os.system(cmd_panta)\n",
    "    export_metadata(panta_output)"
   ]
  },
  {
   "cell_type": "code",
   "execution_count": 24,
   "id": "7e038427-ddc2-414d-a6f3-63576b01da3e",
   "metadata": {},
   "outputs": [
    {
     "name": "stderr",
     "output_type": "stream",
     "text": [
      "rm: cannot remove ‘/data/hoan/amromics/data/ncbi/Kq_full/prokka/kq_700603_GCF_001596075_ERR1474548_.gff’: No such file or directory\n"
     ]
    },
    {
     "data": {
      "text/plain": [
       "256"
      ]
     },
     "execution_count": 24,
     "metadata": {},
     "output_type": "execute_result"
    }
   ],
   "source": [
    "os.system('rm '+ pangenome_data +'prokka/' + sim_name+'.gff')"
   ]
  },
  {
   "cell_type": "code",
   "execution_count": 25,
   "id": "ea6a8cb3-3333-465b-99ed-e782f49b1b1b",
   "metadata": {},
   "outputs": [
    {
     "data": {
      "text/plain": [
       "'/data/hoan/amromics/data/ncbi/Ecolitest/prokka/kq_700603_GCF_001596075_ERR1474548_'"
      ]
     },
     "execution_count": 25,
     "metadata": {},
     "output_type": "execute_result"
    }
   ],
   "source": [
    "prokka_target_dir + sim_name"
   ]
  },
  {
   "cell_type": "markdown",
   "id": "00da366b-5605-4068-ac1d-9dd1162f316e",
   "metadata": {},
   "source": [
    "### Run pangraph"
   ]
  },
  {
   "cell_type": "code",
   "execution_count": 26,
   "id": "5ade0fe7-9980-4e5f-b93b-c3faef84950e",
   "metadata": {},
   "outputs": [
    {
     "name": "stdout",
     "output_type": "stream",
     "text": [
      "The autoreload extension is already loaded. To reload it, use:\n",
      "  %reload_ext autoreload\n"
     ]
    }
   ],
   "source": [
    "try:\n",
    "    %load_ext autoreload\n",
    "    %autoreload 2\n",
    "except Exception as e:\n",
    "    logging.error(traceback.format_exc())\n",
    "from pangraph import PanGraph"
   ]
  },
  {
   "cell_type": "code",
   "execution_count": 27,
   "id": "d1862260-72f1-4641-b810-94b4123a86ac",
   "metadata": {},
   "outputs": [],
   "source": [
    "# set parameters\n",
    "data_dir = panta_output \n",
    "# incomplete_sample_name = 'g1'\n",
    "incomplete_sample_name = sim_name\n",
    "assem_dir = spades_output\n",
    "fasta_gen = 'partial' # 'all', 'partial'"
   ]
  },
  {
   "cell_type": "code",
   "execution_count": 28,
   "id": "dfd3bc62-c654-4354-96c9-67a9bbfa0b5e",
   "metadata": {},
   "outputs": [],
   "source": [
    "simversionRefNew = '_'+ pangenome_data.split('/')[-2] +'_'+ sim_name + simversionPangraph\n",
    "# pangraph_output_greedy_default = scaffold_out_dir + 'pangraph_greedy'+ simversionRef + '.fasta'\n",
    "# pangraph_output_opt_default = scaffold_out_dir + 'pangraph_opt'+ simversionRef + '.fasta'\n",
    "pangraph_output_sensitive = scaffold_out_dir + 'pangraph_sensitive'+ simversionRefNew + '.fasta'\n",
    "pangraph_output_default = scaffold_out_dir + 'pangraph_default'+ simversionRefNew + '.fasta'\n",
    "pangraph_output_opt = scaffold_out_dir + 'pangraph_opt'+ simversionRefNew + '.fasta'"
   ]
  },
  {
   "cell_type": "code",
   "execution_count": 29,
   "id": "fe6ce286-85ad-4f8f-ab7f-401a0677b0ab",
   "metadata": {},
   "outputs": [
    {
     "data": {
      "text/plain": [
       "'kq_700603_GCF_001596075_ERR1474548_'"
      ]
     },
     "execution_count": 29,
     "metadata": {},
     "output_type": "execute_result"
    }
   ],
   "source": [
    "incomplete_sample_name"
   ]
  },
  {
   "cell_type": "code",
   "execution_count": 30,
   "id": "3cd0c419-61b2-4b80-8e6b-46d000ee3ff8",
   "metadata": {},
   "outputs": [
    {
     "data": {
      "text/plain": [
       "'/data/hoan/amromics/genome-graph/scaffold_output/pangraph_opt_Kq_full_kq_700603_GCF_001596075_ERR1474548__assemBiGraph2_v01.fasta'"
      ]
     },
     "execution_count": 30,
     "metadata": {},
     "output_type": "execute_result"
    }
   ],
   "source": [
    "pangraph_output_opt"
   ]
  },
  {
   "cell_type": "code",
   "execution_count": 31,
   "id": "6af1a8d2-627e-42d8-8ae2-3d3976b54667",
   "metadata": {},
   "outputs": [
    {
     "name": "stdout",
     "output_type": "stream",
     "text": [
      "_BiGR0.3 ------------------------------------------------------------------\n",
      "Should we use target sequence as reference, hence, the strand will be ok\n",
      "Set minimum on number of nucleotides =  10 NUMBER OF COMPUTED CONTIGS: 309\n",
      "Clip the matrix 0.2 !!!!!!!!!!!!!!!!!!!!!!!!!!!!!!!!!!\n",
      "Use modified  assembly graph\n",
      "Use union graph: overlap + assembly: done\n",
      "Re-infer the contigs strand: NO\n",
      "Reduce the cost by 1/2 if there is no path in the assembly graph\n",
      "NOT long_range_dependancy\n",
      "Will test this, Ok?\n",
      "Will test this, Ok?\n",
      "Will test this, Ok?\n",
      "Will test this, Ok?\n",
      "Will test this, Ok?\n",
      "Will test this, Ok?\n",
      "Will test this, Ok?\n",
      "Will test this, Ok?\n",
      "Will test this, Ok?\n",
      "Will test this, Ok?\n",
      "Will test this, Ok?\n",
      "Success! File written\n"
     ]
    }
   ],
   "source": [
    "PASAversion = '_BiGR0.3'; MLR = 0; SInfer = 0; min_weight_val = 0.3; \n",
    "simversionRefNew = '_'+ pangenome_data.split('/')[-2] +'_'+ sim_name + PASAversion \n",
    "if run_pangraph:\n",
    "    print(PASAversion, '------------------------------------------------------------------')\n",
    "    # https://stackoverflow.com/questions/4990718/how-can-i-write-a-try-except-block-that-catches-all-exceptions\n",
    "    pangraph = PanGraph(sample_info=None, gene_info=None, gene_position=None)\n",
    "    try:\n",
    "        maximum_matching = 'greedy'\n",
    "        pangraph.run_pangraph_pipeline(data_dir, incomplete_sample_name, assem_dir, fasta_gen, pangraph_output_sensitive, maximum_matching, MLR, SInfer, min_weight_val)\n",
    "    except Exception as e:\n",
    "        logging.error(traceback.format_exc())"
   ]
  },
  {
   "cell_type": "code",
   "execution_count": 32,
   "id": "7d54df35-085b-44ec-aed7-6f7ae0209155",
   "metadata": {},
   "outputs": [],
   "source": [
    "# pangraph_MRL.adj_list_assembly"
   ]
  },
  {
   "cell_type": "code",
   "execution_count": 33,
   "id": "814cc1c3-c017-4c12-b326-d95fd7d5153d",
   "metadata": {},
   "outputs": [],
   "source": [
    "# PASAversion = '_BiGR0.3'; MLR = 0; SInfer = 1; min_weight_val = 0.5; \n",
    "# simversionRefNew = '_'+ pangenome_data.split('/')[-2] +'_'+ sim_name + PASAversion \n",
    "# if run_pangraph:\n",
    "#     print(PASAversion, '------------------------------------------------------------------')\n",
    "#     # https://stackoverflow.com/questions/4990718/how-can-i-write-a-try-except-block-that-catches-all-exceptions\n",
    "#     pangraph_opt = PanGraph(sample_info=None, gene_info=None, gene_position=None)\n",
    "#     try:\n",
    "#         maximum_matching = 'optimal'\n",
    "#         pangraph_opt.run_pangraph_pipeline(data_dir, incomplete_sample_name, assem_dir, fasta_gen, pangraph_output_opt, maximum_matching, MLR, SInfer, min_weight_val)\n",
    "#     except Exception as e:\n",
    "#         logging.error(traceback.format_exc())"
   ]
  },
  {
   "cell_type": "code",
   "execution_count": 34,
   "id": "f3073b40-e6cc-4e37-bfff-045977d6bc0e",
   "metadata": {},
   "outputs": [
    {
     "name": "stdout",
     "output_type": "stream",
     "text": [
      "_MLRInfer1.0 ------------------------------------------------------------------\n",
      "Should we use target sequence as reference, hence, the strand will be ok\n",
      "Set minimum on number of nucleotides =  10 NUMBER OF COMPUTED CONTIGS: 309\n",
      "Clip the matrix 0.2 !!!!!!!!!!!!!!!!!!!!!!!!!!!!!!!!!!\n",
      "Use modified  assembly graph\n",
      "Use union graph: overlap + assembly: done\n",
      "Re-infer the contigs strand: NO\n",
      "Reduce the cost by 1/2 if there is no path in the assembly graph\n",
      "Implement multiplicity\n",
      "Set long_range_dependancy_threshold =  3.479\n",
      "compute long range dependancy\n",
      "4.520555555555555\n",
      "compute long range dependancy\n",
      "1.9555555555555557\n",
      "compute long range dependancy\n",
      "1.1\n",
      "compute long range dependancy\n",
      "0.7040000000000001\n",
      "compute long range dependancy\n",
      "-1.0\n",
      "Will test this, Ok?\n",
      "Will test this, Ok?\n",
      "Will test this, Ok?\n",
      "Will test this, Ok?\n",
      "Will test this, Ok?\n",
      "Will test this, Ok?\n",
      "Will test this, Ok?\n",
      "Will test this, Ok?\n",
      "Will test this, Ok?\n",
      "Will test this, Ok?\n",
      "Will test this, Ok?\n",
      "compute base coverage\n",
      "Refine the scaffolds\n",
      "Success! File written\n"
     ]
    }
   ],
   "source": [
    "PASAversion = '_MLRInfer1.0'; MLR = 1; SInfer = 0; min_weight_val = 0.3; \n",
    "# simversionRefNew = '_'+ pangenome_data.split('/')[-2] +'_'+ sim_name + PASAversion \n",
    "# pangraph_output_greedy = scaffold_out_dir + 'pangraph_greedy'+ simversionRefNew + '.fasta'\n",
    "# pangraph_output_opt = scaffold_out_dir + 'pangraph_opt'+ simversionRefNew + '.fasta'\n",
    "if run_pangraph:\n",
    "    print(PASAversion, '------------------------------------------------------------------')\n",
    "    # https://stackoverflow.com/questions/4990718/how-can-i-write-a-try-except-block-that-catches-all-exceptions\n",
    "    pangraph_MRL = PanGraph(sample_info=None, gene_info=None, gene_position=None)\n",
    "    try:\n",
    "        maximum_matching = 'greedy'\n",
    "        pangraph_MRL.run_pangraph_pipeline(data_dir, incomplete_sample_name, assem_dir, fasta_gen, pangraph_output_default, maximum_matching, MLR, SInfer, min_weight_val)\n",
    "    except Exception as e:\n",
    "        logging.error(traceback.format_exc())"
   ]
  },
  {
   "cell_type": "code",
   "execution_count": 35,
   "id": "9c597808-5897-428a-877a-b9ec294a02f6",
   "metadata": {},
   "outputs": [
    {
     "data": {
      "text/plain": [
       "'/data/hoan/amromics/genome-graph/scaffold_output/pangraph_default_Kq_full_kq_700603_GCF_001596075_ERR1474548__assemBiGraph2_v01.fasta'"
      ]
     },
     "execution_count": 35,
     "metadata": {},
     "output_type": "execute_result"
    }
   ],
   "source": [
    "# pangraph_MRL.adj_list_assembly\n",
    "# pangraph_MRL.adj_list0\n",
    "# pangraph_MRL.node_multiplicity\n",
    "pangraph_output_default"
   ]
  },
  {
   "cell_type": "code",
   "execution_count": 36,
   "id": "be59e44b-960c-4be5-9f68-c19532fddaea",
   "metadata": {},
   "outputs": [],
   "source": [
    "# test = dict({'NODE_52_length_2304_cov_120.960955_m0': ['NODE_52_length_2304_cov_120.960955+',\n",
    "#   'NODE_41_length_5620_cov_53.026943-',\n",
    "#   'NODE_73_length_820_cov_573.656566+',\n",
    "#   'NODE_40_length_6274_cov_52.473239+',\n",
    "#   'NODE_73_length_820_cov_573.656566-',\n",
    "#   'NODE_63_length_1258_cov_45.028294-',\n",
    "#   'NODE_60_length_1322_cov_91.328033+',\n",
    "#   'NODE_132_length_253_cov_50.920635+',\n",
    "#   'NODE_72_length_876_cov_44.356475+']})\n",
    "# new_path = pangraph_MRL.remove_unsupported_pangraph(test)"
   ]
  },
  {
   "cell_type": "code",
   "execution_count": 37,
   "id": "ede9dede-7ce7-41e8-8308-66f31df43159",
   "metadata": {},
   "outputs": [],
   "source": [
    "# pangraph_MRL.adj_list_assembly"
   ]
  },
  {
   "cell_type": "code",
   "execution_count": 38,
   "id": "651c020d-ca7e-45c3-ae09-bd5498e2abcf",
   "metadata": {},
   "outputs": [],
   "source": [
    "# for i in range(len(pangraph_MRL.edge_df0.index)):\n",
    "#     node1 = 'NODE_40'\n",
    "#     node2 = 'NODE_60'\n",
    "#     if (node1 in pangraph_MRL.edge_df0.iloc[i,0]) and (node2 in pangraph_MRL.edge_df0.iloc[i,1]):\n",
    "#         print(pangraph_MRL.edge_df0.iloc[i,:])\n",
    "#     if (node2 in pangraph_MRL.edge_df0.iloc[i,0]) and (node1 in pangraph_MRL.edge_df0.iloc[i,1]):\n",
    "#         print(pangraph_MRL.edge_df0.iloc[i,:])"
   ]
  },
  {
   "cell_type": "code",
   "execution_count": 39,
   "id": "1a6403bd-cf34-4373-b14d-574fb818dda0",
   "metadata": {},
   "outputs": [],
   "source": [
    "# for i in range(len(pangraph_MRL.edge_df0.index)):\n",
    "#     node1 = 'NODE_15'\n",
    "#     if (node1 in pangraph_MRL.edge_df0.iloc[i,0]) or (node1 in pangraph_MRL.edge_df0.iloc[i,1]):\n",
    "#         print(pangraph_MRL.edge_df0.iloc[i,:])"
   ]
  },
  {
   "cell_type": "code",
   "execution_count": 40,
   "id": "df482046-d714-4920-adb9-ae30e289372c",
   "metadata": {},
   "outputs": [],
   "source": [
    "# # node1 = 'NODE_15_length_103790_cov_45.773969'\n",
    "# # node1 = 'NODE_73_length_820_cov_573.656566'\n",
    "# # node1 = 'NODE_73_length_820_cov_573.656566'\n",
    "# node1 = 'NODE_40_length_6274_cov_52.473239'\n",
    "# node2 = 'NODE_60_length_1322_cov_91.328033'\n",
    "# # node2 = 'NODE_72_length_876_cov_44.356475'\n",
    "# # node2 = 'NODE_63_length_1258_cov_45.028294'\n",
    "# print(pangraph_MRL.get_pangraph_cost(node1, node2), pangraph_MRL.get_pangraph_cost(node2, node1))"
   ]
  },
  {
   "cell_type": "code",
   "execution_count": 41,
   "id": "ae2a7f65-e4c8-4560-b782-b69dad132711",
   "metadata": {},
   "outputs": [
    {
     "data": {
      "text/plain": [
       "'/data/hoan/amromics/data/ncbi/Kq_full/g1.fna'"
      ]
     },
     "execution_count": 41,
     "metadata": {},
     "output_type": "execute_result"
    }
   ],
   "source": [
    "# pangraph_MRL.edge_df0\n",
    "spades_output\n",
    "# multicsar_output\n",
    "pangenome_data+'g1.fna'"
   ]
  },
  {
   "cell_type": "markdown",
   "id": "a21d3a7c-fc03-4c81-9957-93d225838fe5",
   "metadata": {},
   "source": [
    "### Run scaffold methods"
   ]
  },
  {
   "cell_type": "code",
   "execution_count": 42,
   "id": "3d4dd495-be29-4b69-81f6-a03f1027725e",
   "metadata": {},
   "outputs": [],
   "source": [
    "### Multi-CSAR\n",
    "conda_dir = 'source ~/miniconda3/etc/profile.d/conda.sh && conda activate py27 && '\n",
    "csar_bin = conda_dir + '/data/hoan/amromics/assembly/Multi-CSAR/./multi-csar.php'"
   ]
  },
  {
   "cell_type": "code",
   "execution_count": 43,
   "id": "571a94e7-92e9-49e8-87ca-7ddff8c08908",
   "metadata": {},
   "outputs": [],
   "source": [
    "multicsar_output = scaffold_out_dir + 'multicsar/multicsar' + simversionRef\n",
    "if run_multicsar:\n",
    "    # spades_output = '/data/hoan/amromics/simulation/art_output/' + 'spades_output_' + sim_name + simversion[-4:]\n",
    "    os.system('cp '+spades_output+'/contigs.fasta ' + pangenome_data + 'g1.fna')\n",
    "    os.system('rm ' + pangenome_data + 'fna/g1*')\n",
    "    os.system(csar_bin +' -t '+pangenome_data+'g1.fna -r '+pangenome_data+'fna/ --nuc -o '+multicsar_output)\n",
    "    # os.system(csar_bin +' -t '+pangenome_data+'g1.fna -r '+pangenome_data+'*.fna --nuc -o '+multicsar_output)"
   ]
  },
  {
   "cell_type": "code",
   "execution_count": 44,
   "id": "b36507eb-e063-4b98-b9b8-94f989d64252",
   "metadata": {},
   "outputs": [
    {
     "data": {
      "text/plain": [
       "'/data/hoan/amromics/genome-graph/scaffold_output/multicsar/multicsar_Kq_full_kq_700603_GCF_001596075_ERR1474548__plasmid_v01'"
      ]
     },
     "execution_count": 44,
     "metadata": {},
     "output_type": "execute_result"
    }
   ],
   "source": [
    "multicsar_output"
   ]
  },
  {
   "cell_type": "code",
   "execution_count": 45,
   "id": "1b914df9-78d2-4d3d-842f-e22ecb65fc4c",
   "metadata": {},
   "outputs": [],
   "source": [
    "### Ragout\n",
    "ragout_bin = 'source ~/miniconda3/etc/profile.d/conda.sh && conda activate py27 && ragout '\n",
    "ragout_output = scaffold_out_dir + 'multicsar/ragout' + simversionRef\n",
    "if run_ragout:\n",
    "    # write receipt file\n",
    "    ref_files_list = glob.glob(pangenome_data+'fna/*')\n",
    "    n_files = len(ref_files_list)\n",
    "    receipt_file_dir = '/data/hoan/amromics/assembly/Ragout/kp100'+simversionRef+'.rcp'\n",
    "    f = open(receipt_file_dir, \"w\")\n",
    "    f.write('.references = ')\n",
    "    for idx in range(n_files-1):\n",
    "        f.write('r' + str(idx) + ',')\n",
    "    f.write('r'+str(n_files-1)+'\\n')\n",
    "    f.write(\".target = mg1655\\n\\n\")\n",
    "    for idx in range(n_files):\n",
    "        f.write('r'+str(idx)+'.fasta =' + ref_files_list[idx] + '\\n')\n",
    "    f.write('mg1655.fasta = ' + spades_output+'/contigs.fasta\\n')\n",
    "    f.close()"
   ]
  },
  {
   "cell_type": "code",
   "execution_count": 46,
   "id": "c420de89-d23f-45ef-bb74-f47a5abcf988",
   "metadata": {},
   "outputs": [],
   "source": [
    "if run_ragout:\n",
    "    os.system(ragout_bin + receipt_file_dir + ' --outdir ' + ragout_output + ' --refine')\n",
    "    # ragout kp100_v2.rcp --outdir output_Kp100p_v2/ --refine"
   ]
  },
  {
   "cell_type": "code",
   "execution_count": 47,
   "id": "bfe5ef8c-9607-43c7-8958-c9ce8c217b64",
   "metadata": {},
   "outputs": [
    {
     "name": "stdout",
     "output_type": "stream",
     "text": [
      "/data/hoan/amromics/genome-graph/scaffold_output/multicsar/ragout_Kq_full_kq_700603_GCF_001596075_ERR1474548__plasmid_v01\n"
     ]
    }
   ],
   "source": [
    "print(ragout_output)"
   ]
  },
  {
   "cell_type": "code",
   "execution_count": 48,
   "id": "851d21e7-3749-4cde-b41a-a5cbe1ef0da9",
   "metadata": {},
   "outputs": [
    {
     "data": {
      "text/plain": [
       "'/data/hoan/amromics/genome-graph/scaffold_output/pangraph_opt_Kq_full_kq_700603_GCF_001596075_ERR1474548__assemBiGraph2_v01.fasta'"
      ]
     },
     "execution_count": 48,
     "metadata": {},
     "output_type": "execute_result"
    }
   ],
   "source": [
    "pangraph_output_opt"
   ]
  },
  {
   "cell_type": "code",
   "execution_count": 49,
   "id": "0c4f5d2d-42df-40ad-ad09-95bbbbbc59d9",
   "metadata": {},
   "outputs": [
    {
     "data": {
      "text/plain": [
       "'/data/hoan/amromics/simulation/art_output/shovill_output_kq_700603_GCF_001596075_ERR1474548__v01/spades'"
      ]
     },
     "execution_count": 49,
     "metadata": {},
     "output_type": "execute_result"
    }
   ],
   "source": [
    "spades_output"
   ]
  },
  {
   "cell_type": "code",
   "execution_count": 50,
   "id": "1cc47b43-4962-45ac-8397-3687452a64cf",
   "metadata": {},
   "outputs": [],
   "source": [
    "# pangraph.adj_list_assembly"
   ]
  },
  {
   "cell_type": "markdown",
   "id": "f2188478-51fd-4f84-b640-6a9e96127648",
   "metadata": {},
   "source": [
    "### Quast "
   ]
  },
  {
   "cell_type": "code",
   "execution_count": 51,
   "id": "8d845fc8-a033-4ad3-b97f-49d87f25541d",
   "metadata": {},
   "outputs": [
    {
     "data": {
      "text/plain": [
       "'/data/hoan/amromics/genome-graph/scaffold_output/quastResults_Kq_full_kq_700603_GCF_001596075_ERR1474548__BiGR0.3'"
      ]
     },
     "execution_count": 51,
     "metadata": {},
     "output_type": "execute_result"
    }
   ],
   "source": [
    "quast_output = '/data/hoan/amromics/genome-graph/scaffold_output/quastResults' + simversionRefNew\n",
    "quast_output"
   ]
  },
  {
   "cell_type": "code",
   "execution_count": 52,
   "id": "24b358d7-6607-4228-87bb-b30b626ba330",
   "metadata": {},
   "outputs": [
    {
     "name": "stdout",
     "output_type": "stream",
     "text": [
      "/data/hoan/amromics/spades_quast/quast-5.2.0/quast.py /data/hoan/amromics/genome-graph/scaffold_output/pangraph_default_Kq_full_kq_700603_GCF_001596075_ERR1474548__assemBiGraph2_v01.fasta /data/hoan/amromics/genome-graph/scaffold_output/pangraph_sensitive_Kq_full_kq_700603_GCF_001596075_ERR1474548__assemBiGraph2_v01.fasta /data/hoan/amromics/genome-graph/scaffold_output/multicsar/multicsar_Kq_full_kq_700603_GCF_001596075_ERR1474548__plasmid_v01/multi-csar.nuc.out.fna /data/hoan/amromics/simulation/art_output/shovill_output_kq_700603_GCF_001596075_ERR1474548__v01/spades/contigs.fasta -l Pasa, Pasa_sensitive, Multi-CSAR, SPADES -r /data/hoan/amromics/data/ncbi/paired_data/kq_700603/GCF_001596075.2_ASM159607v2_genomic.fna -o /data/hoan/amromics/genome-graph/scaffold_output/quastResults_Kq_full_kq_700603_GCF_001596075_ERR1474548__BiGR0.3 --silent --extensive-mis-size 5000 --local-mis-size 3000\n",
      "\n",
      "\n",
      "System information:\n",
      "  OS: Linux-3.10.0-1160.15.2.el7.x86_64-x86_64-with-redhat-7.9-Nitrogen (linux_64)\n",
      "  Python version: 2.7.5\n",
      "  CPUs number: 72\n",
      "\n",
      "Started: 2023-04-24 06:07:26\n",
      "\n",
      "Logging to /data/hoan/amromics/genome-graph/scaffold_output/quastResults_Kq_full_kq_700603_GCF_001596075_ERR1474548__BiGR0.3/quast.log\n",
      "NOTICE: Output directory already exists and looks like a QUAST output dir. Existing results can be reused (e.g. previously generated alignments)!\n",
      "NOTICE: Maximum number of threads is set to 18 (use --threads option to set it manually)\n",
      "\n",
      "CWD: /data/hoan/amromics/genome-graph\n",
      "Main parameters: \n",
      "  MODE: default, threads: 18, min contig length: 500, min alignment length: 65, min alignment IDY: 95.0, \\\n",
      "  ambiguity: one, min local misassembly length: 3000, min extensive misassembly length: 5000\n",
      "\n",
      "Reference:\n",
      "  /data/hoan/amromics/data/ncbi/paired_data/kq_700603/GCF_001596075.2_ASM159607v2_genomic.fna ==> GCF_001596075.2_ASM159607v2_genomic\n",
      "\n",
      "Contigs:\n",
      "  Pre-processing...\n",
      "  1  /data/hoan/amromics/genome-graph/scaffold_output/pangraph_default_Kq_full_kq_700603_GCF_001596075_ERR1474548__assemBiGraph2_v01.fasta ==> Pasa\n",
      "  2  /data/hoan/amromics/genome-graph/scaffold_output/pangraph_sensitive_Kq_full_kq_700603_GCF_001596075_ERR1474548__assemBiGraph2_v01.fasta ==> Pasa_sensitive\n",
      "  3  /data/hoan/amromics/genome-graph/scaffold_output/multicsar/multicsar_Kq_full_kq_700603_GCF_001596075_ERR1474548__plasmid_v01/multi-csar.nuc.out.fna ==> Multi-CSAR\n",
      "  4  /data/hoan/amromics/simulation/art_output/shovill_output_kq_700603_GCF_001596075_ERR1474548__v01/spades/contigs.fasta ==> SPADES\n",
      "\n",
      "2023-04-24 06:07:30\n",
      "Running Basic statistics processor...\n"
     ]
    },
    {
     "name": "stderr",
     "output_type": "stream",
     "text": [
      "Unable to parse the pattern\n",
      "Unable to parse the pattern\n",
      "Unable to parse the pattern\n"
     ]
    },
    {
     "name": "stdout",
     "output_type": "stream",
     "text": [
      "Done.\n",
      "\n",
      "2023-04-24 06:07:47\n",
      "Running Contig analyzer...\n",
      "Done.\n",
      "\n",
      "2023-04-24 06:08:03\n",
      "Running NA-NGA calculation...\n",
      "Done.\n",
      "\n",
      "2023-04-24 06:08:06\n",
      "Running Genome analyzer...\n",
      "  NOTICE: No file with genomic features were provided. Use the --features option if you want to specify it.\n",
      "\n",
      "  NOTICE: No file with operons were provided. Use the -O option if you want to specify it.\n",
      "Done.\n",
      "\n",
      "NOTICE: Genes are not predicted by default. Use --gene-finding or --glimmer option to enable it.\n",
      "\n",
      "2023-04-24 06:08:16\n",
      "Creating large visual summaries...\n",
      "This may take a while: press Ctrl-C to skip this step..\n",
      "  1 of 2: Creating PDF with all tables and plots...\n",
      "  2 of 2: Creating Icarus viewers...\n",
      "Done\n",
      "\n",
      "2023-04-24 06:08:27\n",
      "RESULTS:\n",
      "  Text versions of total report are saved to /data/hoan/amromics/genome-graph/scaffold_output/quastResults_Kq_full_kq_700603_GCF_001596075_ERR1474548__BiGR0.3/report.txt, report.tsv, and report.tex\n",
      "  Text versions of transposed total report are saved to /data/hoan/amromics/genome-graph/scaffold_output/quastResults_Kq_full_kq_700603_GCF_001596075_ERR1474548__BiGR0.3/transposed_report.txt, transposed_report.tsv, and transposed_report.tex\n",
      "  PDF version (tables and plots) is saved to /data/hoan/amromics/genome-graph/scaffold_output/quastResults_Kq_full_kq_700603_GCF_001596075_ERR1474548__BiGR0.3/report.pdf\n",
      "  Icarus (contig browser) is saved to /data/hoan/amromics/genome-graph/scaffold_output/quastResults_Kq_full_kq_700603_GCF_001596075_ERR1474548__BiGR0.3/icarus.html\n",
      "  Log is saved to /data/hoan/amromics/genome-graph/scaffold_output/quastResults_Kq_full_kq_700603_GCF_001596075_ERR1474548__BiGR0.3/quast.log\n",
      "\n",
      "Finished: 2023-04-24 06:08:27\n",
      "Elapsed time: 0:01:00.364277\n",
      "NOTICEs: 5; WARNINGs: 0; non-fatal ERRORs: 0\n",
      "\n",
      "Thank you for using QUAST!\n"
     ]
    }
   ],
   "source": [
    "quast_bin = 'python /data/hoan/amromics/spades_quast/quast-5.2.0/quast.py '\n",
    "spades_output_fasta = spades_output+'/contigs.fasta'\n",
    "multicsar_output_fasta = multicsar_output +'/multi-csar.nuc.out.fna'\n",
    "ragout_output_fasta = ragout_output + '/mg1655_scaffolds.fasta'\n",
    "if 1:\n",
    "    if os.path.isfile(ragout_output_fasta):\n",
    "        os.system(quast_bin + pangraph_output_default+' '+ pangraph_output_sensitive+' '+ multicsar_output_fasta+' '+ragout_output_fasta+' '+spades_output_fasta+' '+\n",
    "        '-l \"Pasa, Pasa_sensitive, Multi-CSAR, Ragout, SPADES\" '+ '-r '+ref_data+' -o '+ quast_output+' --silent --extensive-mis-size 5000 --local-mis-size 3000')\n",
    "    else:\n",
    "        os.system(quast_bin + pangraph_output_default+' '+ pangraph_output_sensitive+' '+ multicsar_output_fasta+' '+spades_output_fasta+' '+\n",
    "        '-l \"Pasa, Pasa_sensitive, Multi-CSAR, SPADES\" '+ '-r '+ref_data+' -o '+ quast_output+' --silent --extensive-mis-size 5000 --local-mis-size 3000')\n",
    "# if 1:\n",
    "#     if os.path.isfile(ragout_output_fasta):\n",
    "#         os.system(quast_bin + pangraph_output_default+' '+ pangraph_output_sensitive+' '+ pangraph_output_opt+' '+ multicsar_output_fasta+' '+ragout_output_fasta+' '+spades_output_fasta+' '+\n",
    "#         '-l \"Pasa, Pasa_sensitive, Pasa_OPT, Multi-CSAR, Ragout, SPADES\" '+ '-r '+ref_data+' -o '+ quast_output+' --silent --extensive-mis-size 5000 --local-mis-size 3000')\n",
    "#     else:\n",
    "#         os.system(quast_bin + pangraph_output_default+' '+ pangraph_output_sensitive+' '+ pangraph_output_opt+' '+ multicsar_output_fasta+' '+spades_output_fasta+' '+ '-l \"Pasa, Pasa_sensitive, Pasa_OPT, Multi-CSAR, SPADES\" '+ '-r '+ref_data+' -o '+ quast_output+' --silent --extensive-mis-size 5000 --local-mis-size 3000')"
   ]
  },
  {
   "cell_type": "code",
   "execution_count": 53,
   "id": "1b0d2ca0-0e53-4f38-b1a1-2c89196ae484",
   "metadata": {},
   "outputs": [
    {
     "ename": "NameError",
     "evalue": "name 'end' is not defined",
     "output_type": "error",
     "traceback": [
      "\u001b[0;31m---------------------------------------------------------------------------\u001b[0m",
      "\u001b[0;31mNameError\u001b[0m                                 Traceback (most recent call last)",
      "\u001b[0;32m/tmp/ipykernel_58769/2685661624.py\u001b[0m in \u001b[0;36m<module>\u001b[0;34m\u001b[0m\n\u001b[0;32m----> 1\u001b[0;31m \u001b[0mend\u001b[0m\u001b[0;34m\u001b[0m\u001b[0;34m\u001b[0m\u001b[0m\n\u001b[0m",
      "\u001b[0;31mNameError\u001b[0m: name 'end' is not defined"
     ]
    }
   ],
   "source": [
    "end"
   ]
  },
  {
   "cell_type": "code",
   "execution_count": null,
   "id": "b01afaa6-18d9-471c-94cd-7b86e2ba9c00",
   "metadata": {},
   "outputs": [],
   "source": [
    "pangraph_output_opt"
   ]
  },
  {
   "cell_type": "code",
   "execution_count": null,
   "id": "8d7adce4-2ba0-4aee-804f-223eaf78df59",
   "metadata": {},
   "outputs": [],
   "source": [
    "multicsar_output_fasta"
   ]
  },
  {
   "cell_type": "code",
   "execution_count": null,
   "id": "a012f703-8287-41bf-92f2-a7480f3f52f5",
   "metadata": {},
   "outputs": [],
   "source": [
    "# # pangraph.H[\"weight\"][0:4]\n",
    "# iteration = 0\n",
    "# for u,v,a in pangraph.H.edges(data=True):\n",
    "#     print(a)\n",
    "#     iteration += 1\n",
    "#     if iteration > 10:\n",
    "#         break;"
   ]
  },
  {
   "cell_type": "code",
   "execution_count": null,
   "id": "1e785765-093e-4100-b2f0-2953d0b3ba73",
   "metadata": {},
   "outputs": [],
   "source": [
    "# nx.write_gml(pangraph.assembly_graph, quast_output+'/assembly_graph.gml')"
   ]
  },
  {
   "cell_type": "code",
   "execution_count": null,
   "id": "549ea244-7bd8-4eb2-8e9b-ab74917f675f",
   "metadata": {},
   "outputs": [],
   "source": [
    "os.system(quast_bin + pangraph_output_sensitive+' '+ pangraph_output_opt+' '+ multicsar_output_fasta+' '+spades_output_fasta+' '+ '-l \"Pasa, Pasa_sensitive, Multi-CSAR, SPADES\" '+ '-r '+ref_data+' -o '+ quast_output+' --silent --extensive-mis-size 5000 --local-mis-size 3000')"
   ]
  },
  {
   "cell_type": "code",
   "execution_count": null,
   "id": "eb32a794-a0be-4756-9867-5ff8a178f4d4",
   "metadata": {},
   "outputs": [],
   "source": [
    "pangraph.assembly_graph.number_of_edges()"
   ]
  },
  {
   "cell_type": "code",
   "execution_count": null,
   "id": "701f03d1-9ab2-4b2e-864a-272fdda10346",
   "metadata": {},
   "outputs": [],
   "source": [
    "len(list(nx.weakly_connected_components(pangraph.assembly_graph)))"
   ]
  },
  {
   "cell_type": "code",
   "execution_count": null,
   "id": "318736c1-6cf1-4d1f-becb-46d56a248336",
   "metadata": {},
   "outputs": [],
   "source": [
    "# pangraph.weighted_CG.nodes()"
   ]
  },
  {
   "cell_type": "code",
   "execution_count": null,
   "id": "7c8f48ee-1162-4652-a4fb-fba44b9ddaaf",
   "metadata": {},
   "outputs": [],
   "source": [
    "len(list(nx.weakly_connected_components(pangraph.H)))"
   ]
  },
  {
   "cell_type": "code",
   "execution_count": null,
   "id": "cad64bbb-999e-4fa4-a421-73c20274d6bd",
   "metadata": {},
   "outputs": [],
   "source": [
    "pangraph.H.number_of_nodes(), pangraph.H.number_of_edges()"
   ]
  },
  {
   "cell_type": "code",
   "execution_count": null,
   "id": "0fe38f01-e457-42dc-b477-cba37bd35849",
   "metadata": {},
   "outputs": [],
   "source": [
    "ref_data"
   ]
  },
  {
   "cell_type": "markdown",
   "id": "92fe66ed-e316-41ae-a09c-ae1351304c69",
   "metadata": {},
   "source": [
    "## Analysis"
   ]
  },
  {
   "cell_type": "code",
   "execution_count": null,
   "id": "d1b43cf8-8b32-41b6-b371-ee7454278384",
   "metadata": {},
   "outputs": [],
   "source": [
    "# minimap2 /data/hoan/amromics/data/ncbi/Ecolitest/GCF_002860105.1_ASM286010v1_genomic.fna /data/hoan/amromics/genome-graph/scaffold_output/pangraph_opt_Ecoli100random_Ecoli_plasmid_v01.fasta > contigs100vsref_mapping_v01a.paf\n",
    "cmd_minimap = '~/miniconda3/envs/amromics/bin/minimap2 '+ref_data +' '+ spades_output +'/contigs.fasta' +' > scaffold_output/minimap_out/mapping.paf' \n",
    "# cmd_minimap = '~/miniconda3/envs/amromics/bin/minimap2 '+ref_data +' '+ pangraph_output_sensitive +' > scaffold_output/minimap_out/mapping.paf' \n",
    "# cmd_minimap = '~/miniconda3/envs/amromics/bin/minimap2 '+pangraph_output_opt +' '+ spades_output +'/contigs.fasta' +' > scaffold_output/minimap_out/mapping.paf' "
   ]
  },
  {
   "cell_type": "code",
   "execution_count": null,
   "id": "9aedd4e6-c528-4f1c-b8ea-ea88a40a252e",
   "metadata": {},
   "outputs": [],
   "source": [
    "os.system(cmd_minimap)\n",
    "df = pd.read_csv(\"scaffold_output/minimap_out/mapping.paf\", sep =\"\\t\", header=None)"
   ]
  },
  {
   "cell_type": "code",
   "execution_count": null,
   "id": "ae6db97d-7ba7-4960-9a53-06618565f34b",
   "metadata": {},
   "outputs": [],
   "source": [
    "ref_data"
   ]
  },
  {
   "cell_type": "code",
   "execution_count": null,
   "id": "c0930409-ed75-48be-b9b6-f2a54d2ebbc5",
   "metadata": {},
   "outputs": [],
   "source": [
    "df"
   ]
  },
  {
   "cell_type": "code",
   "execution_count": null,
   "id": "0d534d54-4891-4212-97f5-5f2852565ac7",
   "metadata": {},
   "outputs": [],
   "source": [
    "dfNew = df.copy()\n",
    "nodes_list = list(dfNew.iloc[:,0].values)\n",
    "nodes_len = [int(node.split(\"_\")[3]) for node in nodes_list]\n",
    "nodes_coverage = [float(node.split(\"_\")[5]) for node in nodes_list]\n",
    "dfNew['length'] = nodes_len\n",
    "dfNew['coverage'] = nodes_coverage\n",
    "dfNew = dfNew.sort_values(by='length', ascending=False)\n",
    "basecoverage = np.median(dfNew['coverage'][:5])"
   ]
  },
  {
   "cell_type": "code",
   "execution_count": null,
   "id": "c2d050e1-0463-47a2-83d8-2ae59fc893c2",
   "metadata": {},
   "outputs": [],
   "source": [
    "# dfNew.to_csv(\"re.csv\")"
   ]
  },
  {
   "cell_type": "code",
   "execution_count": null,
   "id": "f5ba6521-2795-4dd1-8ebc-49d7fcfa69db",
   "metadata": {},
   "outputs": [],
   "source": [
    "ref_id = df.iloc[:,5]\n",
    "np.unique(ref_id)"
   ]
  },
  {
   "cell_type": "code",
   "execution_count": null,
   "id": "d2dc55e6-1194-44c6-a7f4-26818575981d",
   "metadata": {},
   "outputs": [],
   "source": [
    "coverage = []\n",
    "for i in range(len(df.index)):\n",
    "    if df.iloc[i, 5] == 'NZ_CP006659.2':\n",
    "        # print(df.iloc[i, 0], end =', ')\n",
    "        cov = float(df.iloc[i, 0].split('_')[5])\n",
    "        coverage.append(cov)"
   ]
  },
  {
   "cell_type": "code",
   "execution_count": null,
   "id": "453bb577-4b77-4988-be2a-c6f998eb7125",
   "metadata": {},
   "outputs": [],
   "source": [
    "coverage_norm = [cov - round(cov/basecoverage)*basecoverage for cov in coverage]"
   ]
  },
  {
   "cell_type": "code",
   "execution_count": null,
   "id": "cd867866-5089-4b16-a895-4cc8092f5162",
   "metadata": {},
   "outputs": [],
   "source": [
    "# coverage_norm"
   ]
  },
  {
   "cell_type": "code",
   "execution_count": null,
   "id": "4095b29a-de49-4e9e-8f7a-888bb45cd1c8",
   "metadata": {},
   "outputs": [],
   "source": [
    "# import matplotlib.pyplot as plt\n",
    "# import numpy as np\n",
    "# x = np.array(coverage_norm)\n",
    "# # plt.hist(x)\n",
    "# fig=plt.figure(figsize=(12,4), dpi= 100, facecolor='w', edgecolor='k')\n",
    "# # plt.hist(x, bins='auto')\n",
    "# plt.hist(x, bins=20)\n",
    "# # plt.xticks(range(10))\n",
    "# plt.xticks(rotation='vertical')\n",
    "# plt.show() "
   ]
  },
  {
   "cell_type": "code",
   "execution_count": null,
   "id": "b5a1c18d-e637-49cf-bd34-ac213311c437",
   "metadata": {},
   "outputs": [],
   "source": [
    "# import seaborn as sns\n",
    "# fig=plt.figure(figsize=(15, 8))\n",
    "# a = sns.scatterplot(data=dfNew, x=\"coverage\", y=\"length\", hue=5)\n",
    "# a.set(xlim=(0, 70))\n",
    "# a.set(ylim=(0, 30000))\n",
    "# plt.savefig(\"myImagePDF.pdf\", format=\"pdf\", bbox_inches=\"tight\")\n",
    "# plt.show()"
   ]
  },
  {
   "cell_type": "code",
   "execution_count": null,
   "id": "f3625b4e-6057-45b3-afaa-6b63d48028da",
   "metadata": {},
   "outputs": [],
   "source": [
    "# basecoverage"
   ]
  },
  {
   "cell_type": "code",
   "execution_count": null,
   "id": "67083f6a-c050-4670-a43f-c505ed9a4d9b",
   "metadata": {},
   "outputs": [],
   "source": [
    "# final_df = df.loc[df[5] == ref_id]\n",
    "final_df = df\n",
    "final_df = final_df.sort_values(by=[7])"
   ]
  },
  {
   "cell_type": "code",
   "execution_count": null,
   "id": "359a23e9-e0ea-4e64-80a3-d342e0736016",
   "metadata": {},
   "outputs": [],
   "source": [
    "final_df"
   ]
  },
  {
   "cell_type": "code",
   "execution_count": null,
   "id": "8ea93935-a714-4f07-abab-6470fa3b5cfe",
   "metadata": {},
   "outputs": [],
   "source": [
    "final_df.to_csv(\"map.csv\")"
   ]
  },
  {
   "cell_type": "code",
   "execution_count": null,
   "id": "7f3f23ec-e765-43a3-bf76-260351d70dce",
   "metadata": {},
   "outputs": [],
   "source": [
    "target_id = 0\n",
    "gene_position = pd.read_csv(panta_output + '/gene_position.tsv', delimiter='\\t', header=None)\n",
    "gene_position.columns =['SampleID', 'ContigName', 'GeneSequence']\n",
    "target_contigs = [gene_position.iloc[i, 1] for i in range(len(gene_position.index)) if gene_position.iloc[i, 0]==target_id]"
   ]
  },
  {
   "cell_type": "code",
   "execution_count": null,
   "id": "6cc061c4-adbc-4af9-8e02-ca4117e6b3cd",
   "metadata": {},
   "outputs": [],
   "source": [
    "samples = pd.read_csv(panta_output + '/samples.tsv', delimiter='\\t', header=None)\n",
    "# samples"
   ]
  },
  {
   "cell_type": "code",
   "execution_count": null,
   "id": "372759b9-1e39-4aab-9e8e-35b042deb362",
   "metadata": {},
   "outputs": [],
   "source": [
    "target_contigs_list = [final_df.iloc[i, 0] for i in range(len(final_df.index)) if final_df.iloc[i, 0] in target_contigs]\n",
    "target_contigs_sorted = [final_df.iloc[i, 0]+'---'+str(final_df.iloc[i, 7])+'>'+str(final_df.iloc[i, 8]) for i in range(len(final_df.index)) if final_df.iloc[i, 0] in target_contigs]"
   ]
  },
  {
   "cell_type": "code",
   "execution_count": null,
   "id": "a40629a5-c6cb-40ae-9395-846a4871748e",
   "metadata": {},
   "outputs": [],
   "source": [
    "gene_position[gene_position.ContigName=='NODE_95_length_1592_cov_58.378660'].iloc[0,2].split(';')"
   ]
  },
  {
   "cell_type": "code",
   "execution_count": null,
   "id": "eff76bda-76a6-4cc1-a9cb-2f9b409783e3",
   "metadata": {},
   "outputs": [],
   "source": [
    "cluster_id = pangraph.gene2cluster_dict['Ecolitest_GCF_002860105-NODE_95_length_1592_cov_58.378660-PCILKDFA_04850@-1']"
   ]
  },
  {
   "cell_type": "code",
   "execution_count": null,
   "id": "cd2f5366-805f-4523-8475-015ed5836b2e",
   "metadata": {},
   "outputs": [],
   "source": [
    "gene_info = pd.read_csv(panta_output + \"/gene_info.tsv\", delimiter='\\t', header=None)\n",
    "gene_info.columns =['GeneName', 'SampleID', 'clusterID']"
   ]
  },
  {
   "cell_type": "code",
   "execution_count": null,
   "id": "d2bd2039-fe13-46d5-ac48-a8f5517bd48b",
   "metadata": {},
   "outputs": [],
   "source": [
    "gene_info[gene_info.clusterID==cluster_id]"
   ]
  },
  {
   "cell_type": "code",
   "execution_count": null,
   "id": "555b5448-d147-4790-8606-3c9e179aa3b6",
   "metadata": {},
   "outputs": [],
   "source": [
    "target_contigs_sorted[-4:]"
   ]
  },
  {
   "cell_type": "code",
   "execution_count": null,
   "id": "1919f425-77f0-4130-8ee2-dcd141164bdc",
   "metadata": {},
   "outputs": [],
   "source": [
    "# pangraph.adj_list0"
   ]
  },
  {
   "cell_type": "code",
   "execution_count": null,
   "id": "8bfe6670-0315-4fd6-93b2-76813c973246",
   "metadata": {},
   "outputs": [],
   "source": [
    "# cmd_dnadiff = '~/miniconda3/envs/amromics/bin/dnadiff '+ref_data +' '+ spades_output +'/contigs.fasta -p dna_diff/'+sim_name\n",
    "# os.system(cmd_dnadiff)"
   ]
  },
  {
   "cell_type": "code",
   "execution_count": null,
   "id": "94805bbf-be0d-4253-91e1-0c2bce9d94c1",
   "metadata": {},
   "outputs": [],
   "source": [
    "# Don't use SPADES, shovil keep files.\n",
    "# python readSimulator/readSimulator.py --outdir shredded_reads  --input ncbi-genomes-2023-01-07/GCF_000240185.1_ASM24018v2_genomic.fna --simulator art --simulator_path art_bin_MountRainier/art_illumina --iterations 100 --readlen 100 --depth 100  --opts '-ss HS20 -sam -p -m 400 -s 60'\n",
    "# investigate why we failed? #1/ connectivity in the assembly graph:\n",
    "# multiplicity of each node: now 1, change to more: use length and coverage\n",
    "# assembly graph: change to 500"
   ]
  },
  {
   "cell_type": "code",
   "execution_count": null,
   "id": "84699c11-8ded-4106-b828-435ef7400054",
   "metadata": {},
   "outputs": [],
   "source": [
    "def get_node_coverage(node_id):\n",
    "    return float(node_id.split('_')[5])\n",
    "get_node_coverage('NODE_45_length_30843_cov_18.832500')\n",
    "target_contigs_multi_1 = [item for item in target_contigs_list if get_node_coverage(item) <= 25.0]"
   ]
  },
  {
   "cell_type": "code",
   "execution_count": null,
   "id": "b84f6c2a-770f-45a4-aa3f-f5d7bddfdcd0",
   "metadata": {},
   "outputs": [],
   "source": [
    "def get_value(edge_df0, source_id, target_id):\n",
    "    # if source_id in edge_df0['source'].values and target_id in edge_df0['target'].values:\n",
    "    #     print(edge_df0[((edge_df0['source'] == source_id) & (edge_df0['target'] == target_id))])\n",
    "    # else:\n",
    "    #     print('No value')\n",
    "    df_res = edge_df0[((edge_df0['source'] == source_id) & (edge_df0['target'] == target_id))]\n",
    "    if len(df_res.index) == 1:\n",
    "        print(df_res.iloc[0, 2])\n",
    "    else:\n",
    "        print(\"No value\")\n",
    "# pangraph.edge_df0\n",
    "\n",
    "def next_node_multi_1(target_contigs_list, idx):\n",
    "    ## find the next node of multiplicity 1 after the index: idx\n",
    "    current_idx = idx + 1\n",
    "    while(get_node_coverage(target_contigs_list[current_idx]) >= 25.0):\n",
    "        current_idx += 1\n",
    "    return target_contigs_list[current_idx]"
   ]
  },
  {
   "cell_type": "code",
   "execution_count": null,
   "id": "9b8f97b5-4d2a-4434-8382-408333b57cc2",
   "metadata": {},
   "outputs": [],
   "source": [
    "# target_contigs_multi_1"
   ]
  },
  {
   "cell_type": "code",
   "execution_count": null,
   "id": "ac259408-6ad5-4400-acb5-3709bcf2c1a9",
   "metadata": {},
   "outputs": [],
   "source": [
    "assembly_graph = pangraph.assembly_graph\n",
    "for i in range(len(target_contigs_list)-1):\n",
    "    print('---------------------- i =', i, '---------------------------------------------')\n",
    "    node1 = target_contigs_list[i]\n",
    "    node2 = target_contigs_list[i+1]\n",
    "    print(target_contigs_sorted[i],'::::::::', target_contigs_sorted[i+1])\n",
    "    source_id = 'C-' + str(pangraph.tail_contig[node1])\n",
    "    target_id = 'C-' + str(pangraph.head_contig[node2]) \n",
    "    source_node = node1 + pangraph.strand[node1]\n",
    "    target_node = node2 + pangraph.strand[node2]\n",
    "    \n",
    "    if assembly_graph.has_node(source_node) and assembly_graph.has_node(target_node):\n",
    "        print(\"Is there a path in the assembly graph? \", end ='')\n",
    "        print(nx.has_path(assembly_graph, source_node, target_node), end = ',')   \n",
    "        if nx.has_path(assembly_graph, source_node, target_node):\n",
    "            path_nucleotides = -1\n",
    "            path = nx.shortest_path(assembly_graph, source=source_node, target=target_node)\n",
    "            for idxp in range(1, len(path)-1):\n",
    "                path_nucleotides = path_nucleotides + int(path[idxp].split(\"_\")[3])\n",
    "            print(' number of nucleotides: ', path_nucleotides)\n",
    "        else:\n",
    "            print('<----xxxxxxxxxxxxxxxxxxxxxxxxxxxxxxxxxxxxx')\n",
    "    print(\"Is there a path in the pangenome graph? \", end ='')\n",
    "    if nx.has_path(pangraph.H, source_id, target_id):\n",
    "        p = nx.shortest_path(pangraph.H, source=source_id, target=target_id)\n",
    "        weight_p = 0.0\n",
    "        for node_p_idx in range(len(p)-1):\n",
    "            weight_p += pangraph.H[p[node_p_idx]][p[node_p_idx+1]]['weight']\n",
    "        if len(p) >= 2:\n",
    "            weight_p = 0.05 + weight_p/float((len(p)-1)*(len(p)-1))\n",
    "        print(\"Yes!, cost = \", weight_p)\n",
    "    else:\n",
    "        print(\"No path in Pangraph\")\n",
    "    print(\"Real cost between the two contigs: \", end ='')\n",
    "    get_value(pangraph.edge_df0, node1, node2)\n",
    "        \n",
    "#     if get_node_coverage(node2) >= 25.0:\n",
    "#         print('**************************************************')\n",
    "#         node2 = next_node_multi_1(target_contigs_list, i+1)\n",
    "#         print(node1, node2)\n",
    "#         source_id = 'C-' + str(pangraph.tail_contig[node1])\n",
    "#         target_id = 'C-' + str(pangraph.head_contig[node2]) \n",
    "#         source_node = node1 + pangraph.strand[node1]\n",
    "#         target_node = node2 + pangraph.strand[node2]\n",
    "#         get_value(pangraph.edge_df0, node1, node2)\n",
    "#         if nx.has_path(pangraph.H, source_id, target_id):\n",
    "#             p = nx.shortest_path(pangraph.H, source=source_id, target=target_id)\n",
    "#             weight_p = 0.0\n",
    "#             for node_p_idx in range(len(p)-1):\n",
    "#                 weight_p += pangraph.H[p[node_p_idx]][p[node_p_idx+1]]['weight']\n",
    "#             if len(p) >= 2:\n",
    "#                 weight_p = 0.05 + weight_p/float((len(p)-1)*(len(p)-1))\n",
    "#             print(weight_p)\n",
    "#         else:\n",
    "#             print(\"No path in Pangraph\")\n",
    "#         if assembly_graph.has_node(source_node) and assembly_graph.has_node(target_node):\n",
    "#             print(\"Is there a path in the assembly graph? \", end ='')\n",
    "#             print(nx.has_path(assembly_graph, source_node, target_node), end = ',')   \n",
    "#             if nx.has_path(assembly_graph, source_node, target_node):\n",
    "#                 path_nucleotides = -1\n",
    "#                 path = nx.shortest_path(assembly_graph, source=source_node, target=target_node)\n",
    "#                 for idxp in range(1, len(path)-1):\n",
    "#                     path_nucleotides = path_nucleotides + int(path[idxp].split(\"_\")[3])\n",
    "#                 print(\"Number of nucleo: \",  path_nucleotides) #len(path)\n",
    "#             else:\n",
    "#                 print('xxxxxxxxxxxxxxxxxxxxxxxxxxxxxxxxxxxxxxxxxxxxxxxxxxxx')\n",
    "            \n",
    "    \n",
    "    #     # sum_len = 0\n",
    "    #     # if nx.has_path(pangraph.H, source_id, target_id) or nx.has_path(assembly_graph, source_node, target_node):\n",
    "    #     #     sum_len += int(final_df.iloc[i,1])\n",
    "    #     #     print(sum_len, end='')\n",
    "    # else:\n",
    "    #     print(\"Restart............................................\")\n",
    "    #     sum_len = 0\n",
    "    # # print('')"
   ]
  },
  {
   "cell_type": "code",
   "execution_count": null,
   "id": "fd836ce1-8041-4358-b4b7-d2f115504794",
   "metadata": {},
   "outputs": [],
   "source": [
    "# pangraph.edge_df0"
   ]
  },
  {
   "cell_type": "code",
   "execution_count": null,
   "id": "cdd5a316-4e67-4a95-b446-1bf353165396",
   "metadata": {},
   "outputs": [],
   "source": [
    "# pangraph.edge_df0['source'].values"
   ]
  },
  {
   "cell_type": "code",
   "execution_count": null,
   "id": "5ba67867-330c-4f52-8220-b3fab4304976",
   "metadata": {},
   "outputs": [],
   "source": [
    "## Xet chieu trong trinh dai dien de sua roi inversion."
   ]
  },
  {
   "cell_type": "code",
   "execution_count": null,
   "id": "c1fd520a-b726-4bf7-a734-bd53423fb71e",
   "metadata": {},
   "outputs": [],
   "source": [
    "# Gui 3 file reference + 1 test sample"
   ]
  },
  {
   "cell_type": "code",
   "execution_count": null,
   "id": "d4f9b8d7-c5b9-429a-934a-7a7ca2cb5ffc",
   "metadata": {},
   "outputs": [],
   "source": [
    "# import glob\n",
    "# import os\n",
    "# list_file = glob.glob(\"/data/hoan/amromics/genome-graph/scaffold_output/quastResults_Kp50random_Kptest*/report.pdf\")"
   ]
  },
  {
   "cell_type": "code",
   "execution_count": null,
   "id": "a0bc3125-1500-4da8-8558-1b4816e8a2d6",
   "metadata": {},
   "outputs": [],
   "source": [
    "# for file in list_file:\n",
    "#     sample_id = file.split(\"/\")[-2].split(\"_\")[4]\n",
    "#     cmd = 'mv ' + file +' '+ file[:-10] + str(sample_id) + 't3.pdf'\n",
    "#     # print(cmd)\n",
    "#     os.system(cmd)"
   ]
  },
  {
   "cell_type": "code",
   "execution_count": null,
   "id": "17ee823a-c562-4d16-a0dc-e841c6e95c88",
   "metadata": {},
   "outputs": [],
   "source": [
    "# pangraph_MRL.adj_list_assembly\n",
    "pangraph_opt.adj_list_assembly"
   ]
  },
  {
   "cell_type": "code",
   "execution_count": null,
   "id": "96d2b53b-69f7-4162-8e32-8c9b8397f10e",
   "metadata": {},
   "outputs": [],
   "source": [
    "conda_dir = 'source ~/miniconda3/etc/profile.d/conda.sh && conda activate amromics && '\n",
    "# input_data = multicsar_output_fasta\n",
    "# os.system('rm -r ' + prokka_target_dir +'temp/')\n",
    "# input_data = pangraph_output_opt\n",
    "input_data = spades_output + '/contigs.fasta'\n",
    "# prokka_bin = conda_dir + 'prokka --outdir ' + prokka_target_dir +'Kp_ERR1474547_spades' +data_base +' --prefix ' + sim_name +' '+input_data\n",
    "prokka_bin = conda_dir + 'prokka --outdir ' + prokka_target_dir +'Kp_ERR1474547_refine_v2' +data_base +' --prefix ' + sim_name +' '+pangraph_output_default\n",
    "os.system(prokka_bin)"
   ]
  },
  {
   "cell_type": "code",
   "execution_count": null,
   "id": "615d4c53-8d8c-40e1-aba3-096f1606debc",
   "metadata": {},
   "outputs": [],
   "source": [
    "prokka_bin"
   ]
  },
  {
   "cell_type": "code",
   "execution_count": null,
   "id": "5b3276e2-14f7-4476-b45b-d81c961d20b0",
   "metadata": {},
   "outputs": [],
   "source": [
    "prokka_bin"
   ]
  },
  {
   "cell_type": "code",
   "execution_count": null,
   "id": "45ee502d-a3f8-4ca2-ad7c-3ba13fd22536",
   "metadata": {},
   "outputs": [],
   "source": [
    "prokka_target_dir +'temp/'+sim_name+'.gff'"
   ]
  },
  {
   "cell_type": "code",
   "execution_count": null,
   "id": "ab198159-9edd-410d-95d2-5194e7261797",
   "metadata": {},
   "outputs": [],
   "source": [
    "for v in pangraph_opt.sample_df.ContigName:\n",
    "    print(v, end=', ')"
   ]
  },
  {
   "cell_type": "code",
   "execution_count": null,
   "id": "6bbeb22e-c99a-4ab6-a36e-201a41cda5b8",
   "metadata": {},
   "outputs": [],
   "source": [
    "pangraph_opt.assembly_graph.nodes()"
   ]
  },
  {
   "cell_type": "code",
   "execution_count": null,
   "id": "e6924e54-5ee2-4477-b7ae-5d167682dcba",
   "metadata": {},
   "outputs": [],
   "source": [
    "len('NODE_11_length_189430_cov_50.295141_c2')"
   ]
  },
  {
   "cell_type": "code",
   "execution_count": null,
   "id": "9dcf3672-cf98-4e41-a874-b8a4ce6d8690",
   "metadata": {},
   "outputs": [],
   "source": [
    "for ele in range(10, -1, -1):\n",
    "    print (ele)"
   ]
  },
  {
   "cell_type": "code",
   "execution_count": null,
   "id": "c0af7525-ef75-4c00-952f-45000b16df4b",
   "metadata": {},
   "outputs": [],
   "source": []
  }
 ],
 "metadata": {
  "kernelspec": {
   "display_name": "Environment (panta)",
   "language": "python",
   "name": "panta"
  },
  "language_info": {
   "codemirror_mode": {
    "name": "ipython",
    "version": 3
   },
   "file_extension": ".py",
   "mimetype": "text/x-python",
   "name": "python",
   "nbconvert_exporter": "python",
   "pygments_lexer": "ipython3",
   "version": "3.7.10"
  }
 },
 "nbformat": 4,
 "nbformat_minor": 5
}
