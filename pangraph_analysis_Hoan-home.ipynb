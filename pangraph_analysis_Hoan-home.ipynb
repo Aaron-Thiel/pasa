{
 "cells": [
  {
   "cell_type": "markdown",
   "id": "d34faca0-8280-48bc-8d17-9313a5adb8a7",
   "metadata": {},
   "source": [
    "### Make a copy of this note if you want to analyze "
   ]
  },
  {
   "cell_type": "markdown",
   "id": "691b1159-9546-439f-9359-9d1aaa3bd0ab",
   "metadata": {},
   "source": [
    "#### Please run panta first to get gene clusters and other output files for this analysis"
   ]
  },
  {
   "cell_type": "code",
   "execution_count": 1,
   "id": "71261f4a-7e09-43c0-b32e-1f0606e597ab",
   "metadata": {},
   "outputs": [],
   "source": [
    "# # Install a pip package in the current Jupyter kernel\n",
    "# import sys\n",
    "# !{sys.executable} -m pip install pygraphviz"
   ]
  },
  {
   "cell_type": "code",
   "execution_count": 2,
   "id": "8bb41018-98bc-4c62-82b3-274b7b749538",
   "metadata": {},
   "outputs": [],
   "source": [
    "# Parameters of the algorithm\n",
    "highlight_genome_seq = [0] # the sequence we want to set very large weights ([] if None)\n",
    "only_two_weight = False # there are only two weights (highlighted vs non-highlighted genome)"
   ]
  },
  {
   "cell_type": "code",
   "execution_count": 3,
   "id": "270dad8f-6b7a-4910-b93c-6cbe91580901",
   "metadata": {},
   "outputs": [],
   "source": [
    "import pandas as pd\n",
    "from scipy.sparse import csr_matrix\n",
    "import numpy as np\n",
    "import networkx as nx\n",
    "import matplotlib.pyplot as plt\n",
    "import math"
   ]
  },
  {
   "cell_type": "code",
   "execution_count": 4,
   "id": "6eaa8d8d-e9c0-4926-ab5c-416b3c95985d",
   "metadata": {},
   "outputs": [],
   "source": [
    "data_dir = \"../panta/examples/test/output/\"\n",
    "# data_dir = \"data/genome_graph_test/\"\n",
    "# you can take the data in the directory: data/genome_graph_test"
   ]
  },
  {
   "cell_type": "code",
   "execution_count": 5,
   "id": "a2587591-3df1-4ecb-bd4c-aa66f8a78faa",
   "metadata": {},
   "outputs": [],
   "source": [
    "sample_info = pd.read_csv(data_dir + \"samples.tsv\", delimiter='\\t', header=None)"
   ]
  },
  {
   "cell_type": "code",
   "execution_count": 6,
   "id": "e0d0b2c1-2d49-4ebf-9a26-b7984cc43b9c",
   "metadata": {},
   "outputs": [
    {
     "data": {
      "text/html": [
       "<div>\n",
       "<style scoped>\n",
       "    .dataframe tbody tr th:only-of-type {\n",
       "        vertical-align: middle;\n",
       "    }\n",
       "\n",
       "    .dataframe tbody tr th {\n",
       "        vertical-align: top;\n",
       "    }\n",
       "\n",
       "    .dataframe thead th {\n",
       "        text-align: right;\n",
       "    }\n",
       "</style>\n",
       "<table border=\"1\" class=\"dataframe\">\n",
       "  <thead>\n",
       "    <tr style=\"text-align: right;\">\n",
       "      <th></th>\n",
       "      <th>0</th>\n",
       "      <th>1</th>\n",
       "    </tr>\n",
       "  </thead>\n",
       "  <tbody>\n",
       "    <tr>\n",
       "      <th>0</th>\n",
       "      <td>GCA_000349285.2_G000_12282012_genomic_sample2</td>\n",
       "      <td>0</td>\n",
       "    </tr>\n",
       "    <tr>\n",
       "      <th>1</th>\n",
       "      <td>GCF_000009885.1_ASM988v1_genomic</td>\n",
       "      <td>1</td>\n",
       "    </tr>\n",
       "    <tr>\n",
       "      <th>2</th>\n",
       "      <td>GCF_000016305.1_ASM1630v1_genomic</td>\n",
       "      <td>2</td>\n",
       "    </tr>\n",
       "    <tr>\n",
       "      <th>3</th>\n",
       "      <td>GCF_000220485.1_ASM22048v1_genomic</td>\n",
       "      <td>3</td>\n",
       "    </tr>\n",
       "    <tr>\n",
       "      <th>4</th>\n",
       "      <td>GCF_000240185.1_ASM24018v2_genomic</td>\n",
       "      <td>4</td>\n",
       "    </tr>\n",
       "  </tbody>\n",
       "</table>\n",
       "</div>"
      ],
      "text/plain": [
       "                                               0  1\n",
       "0  GCA_000349285.2_G000_12282012_genomic_sample2  0\n",
       "1               GCF_000009885.1_ASM988v1_genomic  1\n",
       "2              GCF_000016305.1_ASM1630v1_genomic  2\n",
       "3             GCF_000220485.1_ASM22048v1_genomic  3\n",
       "4             GCF_000240185.1_ASM24018v2_genomic  4"
      ]
     },
     "execution_count": 6,
     "metadata": {},
     "output_type": "execute_result"
    }
   ],
   "source": [
    "sample_info.head()"
   ]
  },
  {
   "cell_type": "code",
   "execution_count": 7,
   "id": "70d23a27-f778-498c-af2e-924f086c7ee2",
   "metadata": {},
   "outputs": [],
   "source": [
    "gene_info = pd.read_csv(data_dir + \"gene_info.tsv\", delimiter='\\t', header=None)\n",
    "gene_info.columns =['GeneName', 'SampleID', 'clusterID']"
   ]
  },
  {
   "cell_type": "code",
   "execution_count": 8,
   "id": "537ae618-a216-42b1-a283-ad97b3af9732",
   "metadata": {},
   "outputs": [
    {
     "data": {
      "text/html": [
       "<div>\n",
       "<style scoped>\n",
       "    .dataframe tbody tr th:only-of-type {\n",
       "        vertical-align: middle;\n",
       "    }\n",
       "\n",
       "    .dataframe tbody tr th {\n",
       "        vertical-align: top;\n",
       "    }\n",
       "\n",
       "    .dataframe thead th {\n",
       "        text-align: right;\n",
       "    }\n",
       "</style>\n",
       "<table border=\"1\" class=\"dataframe\">\n",
       "  <thead>\n",
       "    <tr style=\"text-align: right;\">\n",
       "      <th></th>\n",
       "      <th>GeneName</th>\n",
       "      <th>SampleID</th>\n",
       "      <th>clusterID</th>\n",
       "    </tr>\n",
       "  </thead>\n",
       "  <tbody>\n",
       "    <tr>\n",
       "      <th>0</th>\n",
       "      <td>47_23491</td>\n",
       "      <td>47</td>\n",
       "      <td>0</td>\n",
       "    </tr>\n",
       "    <tr>\n",
       "      <th>1</th>\n",
       "      <td>497_22251</td>\n",
       "      <td>497</td>\n",
       "      <td>0</td>\n",
       "    </tr>\n",
       "  </tbody>\n",
       "</table>\n",
       "</div>"
      ],
      "text/plain": [
       "    GeneName  SampleID  clusterID\n",
       "0   47_23491        47          0\n",
       "1  497_22251       497          0"
      ]
     },
     "execution_count": 8,
     "metadata": {},
     "output_type": "execute_result"
    }
   ],
   "source": [
    "## select some sample\n",
    "# selected_samples = [0, 1, 9]\n",
    "# gene_info = gene_info.loc[gene_info['SampleID'].isin(selected_samples)]\n",
    "gene_info.head(2)"
   ]
  },
  {
   "cell_type": "code",
   "execution_count": 9,
   "id": "ae182c70-6bcb-4629-aead-2f2f07768a6b",
   "metadata": {},
   "outputs": [],
   "source": [
    "gene_position = pd.read_csv(data_dir + 'gene_position.tsv', delimiter='\\t', header=None)\n",
    "gene_position.columns =['SampleID', 'ContigName', 'GeneSequence']"
   ]
  },
  {
   "cell_type": "code",
   "execution_count": 10,
   "id": "b0021114-c2b1-4c0a-8e9a-376a81b43cd0",
   "metadata": {},
   "outputs": [
    {
     "data": {
      "text/html": [
       "<div>\n",
       "<style scoped>\n",
       "    .dataframe tbody tr th:only-of-type {\n",
       "        vertical-align: middle;\n",
       "    }\n",
       "\n",
       "    .dataframe tbody tr th {\n",
       "        vertical-align: top;\n",
       "    }\n",
       "\n",
       "    .dataframe thead th {\n",
       "        text-align: right;\n",
       "    }\n",
       "</style>\n",
       "<table border=\"1\" class=\"dataframe\">\n",
       "  <thead>\n",
       "    <tr style=\"text-align: right;\">\n",
       "      <th></th>\n",
       "      <th>SampleID</th>\n",
       "      <th>ContigName</th>\n",
       "      <th>GeneSequence</th>\n",
       "    </tr>\n",
       "  </thead>\n",
       "  <tbody>\n",
       "    <tr>\n",
       "      <th>0</th>\n",
       "      <td>0</td>\n",
       "      <td>AOCV01000001.1</td>\n",
       "      <td>0_11;0_2-1;0_3-1;0_4-1;0_5-1;0_61;0_71;0_81;0_...</td>\n",
       "    </tr>\n",
       "    <tr>\n",
       "      <th>1</th>\n",
       "      <td>0</td>\n",
       "      <td>AOCV01000002.1</td>\n",
       "      <td>0_243-1;0_244-1;0_245-1;0_2461;0_247-1;0_2481;...</td>\n",
       "    </tr>\n",
       "    <tr>\n",
       "      <th>2</th>\n",
       "      <td>0</td>\n",
       "      <td>AOCV01000003.1</td>\n",
       "      <td>0_3301;0_331-1;0_3321;0_3331;0_3341;0_335-1;0_...</td>\n",
       "    </tr>\n",
       "  </tbody>\n",
       "</table>\n",
       "</div>"
      ],
      "text/plain": [
       "   SampleID      ContigName                                       GeneSequence\n",
       "0         0  AOCV01000001.1  0_11;0_2-1;0_3-1;0_4-1;0_5-1;0_61;0_71;0_81;0_...\n",
       "1         0  AOCV01000002.1  0_243-1;0_244-1;0_245-1;0_2461;0_247-1;0_2481;...\n",
       "2         0  AOCV01000003.1  0_3301;0_331-1;0_3321;0_3331;0_3341;0_335-1;0_..."
      ]
     },
     "execution_count": 10,
     "metadata": {},
     "output_type": "execute_result"
    }
   ],
   "source": [
    "# gene_position = gene_position.loc[gene_position['SampleID'].isin(selected_samples)]\n",
    "gene_position.head(3)"
   ]
  },
  {
   "cell_type": "code",
   "execution_count": 11,
   "id": "55a65b98-a719-4764-8f73-bcf362952f2a",
   "metadata": {},
   "outputs": [],
   "source": [
    "# sort by length of contigs\n",
    "gene_position.sort_values(by=\"GeneSequence\", key=lambda x: x.str.len(),  ascending=False, inplace=True)"
   ]
  },
  {
   "cell_type": "code",
   "execution_count": 12,
   "id": "316fbb60-adba-43a5-9258-91b520a9d30f",
   "metadata": {},
   "outputs": [
    {
     "data": {
      "text/html": [
       "<div>\n",
       "<style scoped>\n",
       "    .dataframe tbody tr th:only-of-type {\n",
       "        vertical-align: middle;\n",
       "    }\n",
       "\n",
       "    .dataframe tbody tr th {\n",
       "        vertical-align: top;\n",
       "    }\n",
       "\n",
       "    .dataframe thead th {\n",
       "        text-align: right;\n",
       "    }\n",
       "</style>\n",
       "<table border=\"1\" class=\"dataframe\">\n",
       "  <thead>\n",
       "    <tr style=\"text-align: right;\">\n",
       "      <th></th>\n",
       "      <th>SampleID</th>\n",
       "      <th>ContigName</th>\n",
       "      <th>GeneSequence</th>\n",
       "    </tr>\n",
       "  </thead>\n",
       "  <tbody>\n",
       "    <tr>\n",
       "      <th>4405</th>\n",
       "      <td>1000</td>\n",
       "      <td>NZ_CP086464.1</td>\n",
       "      <td>1000_11;1000_21;1000_31;1000_41;1000_51;1000_6...</td>\n",
       "    </tr>\n",
       "    <tr>\n",
       "      <th>4408</th>\n",
       "      <td>1001</td>\n",
       "      <td>NZ_CP086461.1</td>\n",
       "      <td>1001_11;1001_21;1001_31;1001_41;1001_51;1001_6...</td>\n",
       "    </tr>\n",
       "    <tr>\n",
       "      <th>1852</th>\n",
       "      <td>418</td>\n",
       "      <td>NZ_CP042858.1</td>\n",
       "      <td>418_11;418_21;418_31;418_41;418_51;418_61;418_...</td>\n",
       "    </tr>\n",
       "  </tbody>\n",
       "</table>\n",
       "</div>"
      ],
      "text/plain": [
       "      SampleID     ContigName  \\\n",
       "4405      1000  NZ_CP086464.1   \n",
       "4408      1001  NZ_CP086461.1   \n",
       "1852       418  NZ_CP042858.1   \n",
       "\n",
       "                                           GeneSequence  \n",
       "4405  1000_11;1000_21;1000_31;1000_41;1000_51;1000_6...  \n",
       "4408  1001_11;1001_21;1001_31;1001_41;1001_51;1001_6...  \n",
       "1852  418_11;418_21;418_31;418_41;418_51;418_61;418_...  "
      ]
     },
     "execution_count": 12,
     "metadata": {},
     "output_type": "execute_result"
    }
   ],
   "source": [
    "gene_position.head(3)"
   ]
  },
  {
   "cell_type": "code",
   "execution_count": 13,
   "id": "8522625e-d6cd-40f1-a725-7eb555897e78",
   "metadata": {},
   "outputs": [
    {
     "data": {
      "text/html": [
       "<div>\n",
       "<style scoped>\n",
       "    .dataframe tbody tr th:only-of-type {\n",
       "        vertical-align: middle;\n",
       "    }\n",
       "\n",
       "    .dataframe tbody tr th {\n",
       "        vertical-align: top;\n",
       "    }\n",
       "\n",
       "    .dataframe thead th {\n",
       "        text-align: right;\n",
       "    }\n",
       "</style>\n",
       "<table border=\"1\" class=\"dataframe\">\n",
       "  <thead>\n",
       "    <tr style=\"text-align: right;\">\n",
       "      <th></th>\n",
       "      <th>SampleID</th>\n",
       "      <th>ContigName</th>\n",
       "      <th>GeneSequence</th>\n",
       "    </tr>\n",
       "  </thead>\n",
       "  <tbody>\n",
       "    <tr>\n",
       "      <th>153</th>\n",
       "      <td>18</td>\n",
       "      <td>NZ_CP008797.1</td>\n",
       "      <td>18_1-1;18_2-1;18_31;18_4-1;18_5-1;18_61;18_71;...</td>\n",
       "    </tr>\n",
       "    <tr>\n",
       "      <th>154</th>\n",
       "      <td>18</td>\n",
       "      <td>NZ_CP008800.1</td>\n",
       "      <td>18_50771;18_5078-1;18_5079-1;18_5080-1;18_5081...</td>\n",
       "    </tr>\n",
       "    <tr>\n",
       "      <th>155</th>\n",
       "      <td>18</td>\n",
       "      <td>NZ_CP008798.1</td>\n",
       "      <td>18_52701;18_52711;18_52721;18_5273-1;18_5274-1...</td>\n",
       "    </tr>\n",
       "    <tr>\n",
       "      <th>156</th>\n",
       "      <td>18</td>\n",
       "      <td>NZ_CP008799.1</td>\n",
       "      <td>18_5356-1;18_5357-1;18_5358-1;18_5359-1;18_536...</td>\n",
       "    </tr>\n",
       "  </tbody>\n",
       "</table>\n",
       "</div>"
      ],
      "text/plain": [
       "     SampleID     ContigName  \\\n",
       "153        18  NZ_CP008797.1   \n",
       "154        18  NZ_CP008800.1   \n",
       "155        18  NZ_CP008798.1   \n",
       "156        18  NZ_CP008799.1   \n",
       "\n",
       "                                          GeneSequence  \n",
       "153  18_1-1;18_2-1;18_31;18_4-1;18_5-1;18_61;18_71;...  \n",
       "154  18_50771;18_5078-1;18_5079-1;18_5080-1;18_5081...  \n",
       "155  18_52701;18_52711;18_52721;18_5273-1;18_5274-1...  \n",
       "156  18_5356-1;18_5357-1;18_5358-1;18_5359-1;18_536...  "
      ]
     },
     "execution_count": 13,
     "metadata": {},
     "output_type": "execute_result"
    }
   ],
   "source": [
    "gene_position.loc[gene_position[\"SampleID\"]==18]"
   ]
  },
  {
   "cell_type": "code",
   "execution_count": 14,
   "id": "30c5b223-4d54-4fe9-95ab-d3f8c43f0e30",
   "metadata": {},
   "outputs": [
    {
     "name": "stdout",
     "output_type": "stream",
     "text": [
      "List of all samples\n"
     ]
    },
    {
     "data": {
      "text/plain": [
       "array([   0,    1,    2, ...,  999, 1000, 1001])"
      ]
     },
     "execution_count": 14,
     "metadata": {},
     "output_type": "execute_result"
    }
   ],
   "source": [
    "print(\"List of all samples\")\n",
    "n_samples = len(np.unique(gene_position.iloc[:,0]))\n",
    "np.unique(gene_position.iloc[:,0])"
   ]
  },
  {
   "cell_type": "markdown",
   "id": "80a662ae-c935-4ffa-ad09-d76bd647bcc7",
   "metadata": {},
   "source": [
    "# Run here"
   ]
  },
  {
   "cell_type": "code",
   "execution_count": 15,
   "id": "94c34358-518d-4688-aec4-5deb273e230a",
   "metadata": {},
   "outputs": [],
   "source": [
    "%load_ext autoreload\n",
    "%autoreload 2\n",
    "from pangraph import PanGraph"
   ]
  },
  {
   "cell_type": "code",
   "execution_count": 16,
   "id": "b01edd21-f5b6-4efb-9183-34ec46d10921",
   "metadata": {},
   "outputs": [],
   "source": [
    "# construct the pangenome graph\n",
    "min_contig_len = 100\n",
    "pangraph = PanGraph(sample_info=sample_info, gene_info=gene_info, gene_position=gene_position)"
   ]
  },
  {
   "cell_type": "code",
   "execution_count": null,
   "id": "fb500d8a-bc52-4dab-be2e-5189670c467e",
   "metadata": {},
   "outputs": [],
   "source": [
    "H = pangraph.construct_graph()"
   ]
  },
  {
   "cell_type": "code",
   "execution_count": 18,
   "id": "151419b9-875a-48b0-aa49-f731cf3e4114",
   "metadata": {},
   "outputs": [],
   "source": [
    "# nx.write_gml(H,'cytoscape_out/pan_graph.gml')"
   ]
  },
  {
   "cell_type": "code",
   "execution_count": 19,
   "id": "140f6029-c71e-40c2-b888-249d86c8ee88",
   "metadata": {},
   "outputs": [
    {
     "data": {
      "text/plain": [
       "(5311997, 140459)"
      ]
     },
     "execution_count": 19,
     "metadata": {},
     "output_type": "execute_result"
    }
   ],
   "source": [
    "# number of nodes and edges\n",
    "pangraph.n_clusters, H.number_of_edges()"
   ]
  },
  {
   "cell_type": "code",
   "execution_count": 20,
   "id": "01130252-dad3-40c1-8a42-cea3a183059d",
   "metadata": {},
   "outputs": [],
   "source": [
    "S = [H.subgraph(c).copy() for c in nx.weakly_connected_components(H)]\n",
    "# if you want a largest component\n",
    "# largest_cc = max(nx.weakly_connected_components(G), key=len)"
   ]
  },
  {
   "cell_type": "code",
   "execution_count": 21,
   "id": "06360838-ad19-4eef-98fd-2650b17c2c98",
   "metadata": {},
   "outputs": [],
   "source": [
    "## sort components by size\n",
    "S.sort(key=lambda x: x.number_of_nodes(), reverse=True)"
   ]
  },
  {
   "cell_type": "code",
   "execution_count": 22,
   "id": "ab92b61e-f1f2-4e64-8fe0-1aa7a28df951",
   "metadata": {},
   "outputs": [
    {
     "data": {
      "text/plain": [
       "5249083"
      ]
     },
     "execution_count": 22,
     "metadata": {},
     "output_type": "execute_result"
    }
   ],
   "source": [
    "len(S)"
   ]
  },
  {
   "cell_type": "code",
   "execution_count": 23,
   "id": "c0dfd269-49f3-403b-9650-9bdd5a3b3aa5",
   "metadata": {},
   "outputs": [
    {
     "name": "stdout",
     "output_type": "stream",
     "text": [
      "0 140459 ,\n"
     ]
    }
   ],
   "source": [
    "for i in range(len(S)):\n",
    "    if S[i].number_of_edges() > 5:\n",
    "        print(i, S[i].number_of_edges(), \",\")"
   ]
  },
  {
   "cell_type": "code",
   "execution_count": 24,
   "id": "be5a852d-1d54-4e02-9e57-f7efbef615d2",
   "metadata": {},
   "outputs": [],
   "source": [
    "# G = H.subgraph([\"C-\" + str(i) for i in range (500)])\n",
    "G = S[0].copy()"
   ]
  },
  {
   "cell_type": "code",
   "execution_count": 25,
   "id": "4f2a17b3-596b-4cb3-bfb1-2a37dfc10a04",
   "metadata": {},
   "outputs": [
    {
     "data": {
      "text/plain": [
       "(62915, 140459)"
      ]
     },
     "execution_count": 25,
     "metadata": {},
     "output_type": "execute_result"
    }
   ],
   "source": [
    "G.number_of_nodes(), G.number_of_edges()"
   ]
  },
  {
   "cell_type": "code",
   "execution_count": 26,
   "id": "aed5c425-308a-4f81-8eb7-b674ba0d0a95",
   "metadata": {},
   "outputs": [],
   "source": [
    "nx.write_gml(G,'cytoscape_out/a_pangraph_component.gml')"
   ]
  },
  {
   "cell_type": "code",
   "execution_count": 27,
   "id": "f78c8595-be61-4b8f-b3a2-1a7818dcbec0",
   "metadata": {},
   "outputs": [],
   "source": [
    "G_contract = G.copy()"
   ]
  },
  {
   "cell_type": "code",
   "execution_count": 28,
   "id": "fcddfabb-98d2-4ec1-a28b-03d4000560a4",
   "metadata": {},
   "outputs": [],
   "source": [
    "## remove node of in_degree = out_degree = 1 and degree = 0\n",
    "for node in list(G_contract.nodes()):\n",
    "    if G_contract.in_degree(node) == 1 and G_contract.out_degree(node) == 1:\n",
    "        in_edges = list(G_contract.in_edges(node))\n",
    "        out_edges = list(G_contract.out_edges(node))\n",
    "        if G_contract[in_edges[0][0]][in_edges[0][1]]['weight'] == G_contract[out_edges[0][0]][out_edges[0][1]]['weight']:\n",
    "            G_contract.add_edge(in_edges[0][0], out_edges[0][1], weight = G_contract[in_edges[0][0]][in_edges[0][1]]['weight'])\n",
    "            G_contract.remove_node(node)\n",
    "    if G_contract.in_degree(node) == 0 and G_contract.out_degree(node) == 0:\n",
    "        G_contract.remove_node(node)"
   ]
  },
  {
   "cell_type": "code",
   "execution_count": 29,
   "id": "3e21840d-11e0-4d66-bad9-7b41ca7ba2f7",
   "metadata": {},
   "outputs": [
    {
     "data": {
      "text/plain": [
       "(30669, 103030)"
      ]
     },
     "execution_count": 29,
     "metadata": {},
     "output_type": "execute_result"
    }
   ],
   "source": [
    "G_contract.number_of_nodes(), G_contract.number_of_edges()"
   ]
  },
  {
   "cell_type": "code",
   "execution_count": 30,
   "id": "e3ccc878-a874-481b-b2b8-da3591a90289",
   "metadata": {},
   "outputs": [],
   "source": [
    "nx.write_gml(G_contract,'cytoscape_out/a_simplified_pangraph_component.gml')"
   ]
  },
  {
   "cell_type": "code",
   "execution_count": 31,
   "id": "13e0c144-a2f6-429e-9a17-b5ff0a21e392",
   "metadata": {},
   "outputs": [
    {
     "data": {
      "text/plain": [
       "(62915, 140459, 30669, 103030)"
      ]
     },
     "execution_count": 31,
     "metadata": {},
     "output_type": "execute_result"
    }
   ],
   "source": [
    "G.number_of_nodes(), G.number_of_edges(), G_contract.number_of_nodes(), G_contract.number_of_edges()"
   ]
  },
  {
   "cell_type": "code",
   "execution_count": 32,
   "id": "b4183c20-a4e2-463b-9e9e-30d60fc7ee60",
   "metadata": {},
   "outputs": [
    {
     "name": "stdout",
     "output_type": "stream",
     "text": [
      "        GeneName  SampleID  clusterID\n",
      "45028  640_23381       640       2046\n",
      "Gene -> Contig:  640_23381 -> 73, "
     ]
    }
   ],
   "source": [
    "# Note that this cluster might not in the final graph because we only select the contig with more than 200 genes.\n",
    "cluster_id = 2046\n",
    "# for cluster_id in range(3701, 3710):\n",
    "df = gene_info.loc[gene_info.iloc[:,2]==cluster_id]\n",
    "print(df)\n",
    "print(\"Gene -> Contig: \", end =\" \")\n",
    "for i in range(len(df.index)):\n",
    "    print(df.iloc[i,0], \"->\", pangraph.gene2contigs_dict[df.iloc[i,0]], end =\", \")"
   ]
  },
  {
   "cell_type": "code",
   "execution_count": 33,
   "id": "46bf7244-c31d-4b80-a0b9-cd5fd7d39f48",
   "metadata": {},
   "outputs": [],
   "source": [
    "# import pyttsx3\n",
    "# engine = pyttsx3.init()\n",
    "# engine.say(G.number_of_nodes())\n",
    "# engine.say(\"The reduced graph has \")\n",
    "# engine.say(G_contract.number_of_nodes())\n",
    "# engine.say(G_contract.number_of_nodes())\n",
    "# engine.say(\"Number of genomes: \")\n",
    "# engine.say(n_samples)\n",
    "# engine.say(n_samples)\n",
    "# engine.runAndWait()"
   ]
  },
  {
   "cell_type": "code",
   "execution_count": 34,
   "id": "7c03918c-6b2b-4101-b80f-00c4d3c52c21",
   "metadata": {},
   "outputs": [],
   "source": [
    "gene_contigs = gene_position.iloc[0,2].split(\";\")"
   ]
  },
  {
   "cell_type": "code",
   "execution_count": 35,
   "id": "d0f59dd4-6d3d-4dbb-aa50-c5b1f35261cd",
   "metadata": {},
   "outputs": [],
   "source": [
    "contig_graph = pangraph.join_contig(sample_id=0)"
   ]
  },
  {
   "cell_type": "code",
   "execution_count": 36,
   "id": "7687c698-7514-4102-bfaf-a5cbc1e0113c",
   "metadata": {},
   "outputs": [
    {
     "data": {
      "image/png": "[encoded data removed]",
      "text/plain": [
       "<Figure size 576x432 with 1 Axes>"
      ]
     },
     "metadata": {},
     "output_type": "display_data"
    }
   ],
   "source": [
    "plt.figure(3,figsize=(8,6)) \n",
    "nx.draw_networkx(contig_graph, pos=nx.random_layout(contig_graph), with_labels=True)\n",
    "plt.show()"
   ]
  },
  {
   "cell_type": "code",
   "execution_count": 37,
   "id": "634ca2b3-46c9-4280-b1d8-e3eb7160a717",
   "metadata": {},
   "outputs": [],
   "source": [
    "nx.write_gml(contig_graph,'cytoscape_out/contig_graph.gml')"
   ]
  },
  {
   "cell_type": "code",
   "execution_count": null,
   "id": "81a348aa-80ee-4614-8eaf-6fc0d75cc306",
   "metadata": {},
   "outputs": [],
   "source": []
  }
 ],
 "metadata": {
  "kernelspec": {
   "display_name": "Environment (panta)",
   "language": "python",
   "name": "panta"
  },
  "language_info": {
   "codemirror_mode": {
    "name": "ipython",
    "version": 3
   },
   "file_extension": ".py",
   "mimetype": "text/x-python",
   "name": "python",
   "nbconvert_exporter": "python",
   "pygments_lexer": "ipython3",
   "version": "3.7.10"
  }
 },
 "nbformat": 4,
 "nbformat_minor": 5
}
