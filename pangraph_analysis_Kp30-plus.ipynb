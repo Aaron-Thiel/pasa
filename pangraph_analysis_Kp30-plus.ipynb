{
 "cells": [
  {
   "cell_type": "markdown",
   "id": "d34faca0-8280-48bc-8d17-9313a5adb8a7",
   "metadata": {},
   "source": [
    "### Make a copy of this note if you want to analyze "
   ]
  },
  {
   "cell_type": "markdown",
   "id": "691b1159-9546-439f-9359-9d1aaa3bd0ab",
   "metadata": {},
   "source": [
    "#### Please run panta first to get gene clusters and other output files for this analysis"
   ]
  },
  {
   "cell_type": "code",
   "execution_count": 1,
   "id": "c083791e-2a04-4b4d-a014-9ed64baa26ee",
   "metadata": {},
   "outputs": [],
   "source": [
    "import pandas as pd\n",
    "from scipy.sparse import csr_matrix\n",
    "import numpy as np\n",
    "import networkx as nx\n",
    "import matplotlib.pyplot as plt\n",
    "import math\n",
    "import sys, re"
   ]
  },
  {
   "cell_type": "code",
   "execution_count": 2,
   "id": "096e09d8-d576-4bae-b076-825fd650a50b",
   "metadata": {},
   "outputs": [],
   "source": [
    "def write_fasta(dictionary, filename):\n",
    "    \"\"\"\n",
    "    Takes a dictionary and writes it to a fasta file\n",
    "    Must specify the filename when caling the function\n",
    "    https://www.programcreek.com/python/?CodeExample=write+fasta\n",
    "    \"\"\"\n",
    "\n",
    "    import textwrap\n",
    "    with open(filename, \"w\") as outfile:\n",
    "        for key, value in dictionary.items():\n",
    "            outfile.write(\">\")\n",
    "            outfile.write(key + \"\\n\")\n",
    "            outfile.write(\"\\n\".join(textwrap.wrap(value, 60)))\n",
    "            outfile.write(\"\\n\")\n",
    "\n",
    "    print(\"Success! File written\")"
   ]
  },
  {
   "cell_type": "code",
   "execution_count": 3,
   "id": "206229ce-4386-451d-988e-e830d40c7610",
   "metadata": {},
   "outputs": [],
   "source": [
    "def reverse_complement(seq):\n",
    "    complement = {'A': 'T', 'C': 'G', 'G': 'C', 'T': 'A', '_':'_','*':'*'}\n",
    "    # seq = \"TCGGGCCC\"\n",
    "    reverse_complement = \"\".join(complement.get(base, base) for base in reversed(seq))\n",
    "    return(reverse_complement)"
   ]
  },
  {
   "cell_type": "code",
   "execution_count": 4,
   "id": "30000b45-e76f-4d19-8e6b-187bf20d54bf",
   "metadata": {},
   "outputs": [],
   "source": [
    "def help_fnc(i, j):\n",
    "    for ele in range(min(200,len(j)), -1, -1):\n",
    "        if i.endswith(j[:ele]):\n",
    "            return j[ele:]\n",
    "        \n",
    "def overlap(a, b):\n",
    "    test_list = [a, b]\n",
    "    res = ''.join(help_fnc(i, j) for i, j in zip([''] + test_list, test_list))\n",
    "    return(res)"
   ]
  },
  {
   "cell_type": "code",
   "execution_count": 5,
   "id": "b28b45c9-b33c-416a-8479-8696ff10475f",
   "metadata": {},
   "outputs": [],
   "source": [
    "# overlap('AAABB', 'BBCCCC')"
   ]
  },
  {
   "cell_type": "code",
   "execution_count": 6,
   "id": "6eaa8d8d-e9c0-4926-ab5c-416b3c95985d",
   "metadata": {},
   "outputs": [],
   "source": [
    "# data_dir = \"../panta/examples/test/output/\"\n",
    "# data_dir = \"data/genome_graph_test/\"\n",
    "# you can take the data in the directory: data/genome_graph_test\n",
    "# data_dir = \"../panta/examples/test/output_Kp30plus1/\"\n",
    "# data_dir = \"../panta/examples/test/output_Kp30mix_nosplitparalog/\"\n",
    "# data_dir = \"../panta/examples/test/output_Kp500mix/\"\n",
    "data_dir = \"/data/hoan/amromics/simulation/art_output/spades_output/panta_output/\""
   ]
  },
  {
   "cell_type": "code",
   "execution_count": 7,
   "id": "a2587591-3df1-4ecb-bd4c-aa66f8a78faa",
   "metadata": {},
   "outputs": [],
   "source": [
    "sample_info = pd.read_csv(data_dir + \"samples.tsv\", delimiter='\\t', header=None)\n",
    "sample_info.columns = ['Name', 'SampleID']"
   ]
  },
  {
   "cell_type": "code",
   "execution_count": 8,
   "id": "e0d0b2c1-2d49-4ebf-9a26-b7984cc43b9c",
   "metadata": {},
   "outputs": [
    {
     "data": {
      "text/html": [
       "<div>\n",
       "<style scoped>\n",
       "    .dataframe tbody tr th:only-of-type {\n",
       "        vertical-align: middle;\n",
       "    }\n",
       "\n",
       "    .dataframe tbody tr th {\n",
       "        vertical-align: top;\n",
       "    }\n",
       "\n",
       "    .dataframe thead th {\n",
       "        text-align: right;\n",
       "    }\n",
       "</style>\n",
       "<table border=\"1\" class=\"dataframe\">\n",
       "  <thead>\n",
       "    <tr style=\"text-align: right;\">\n",
       "      <th></th>\n",
       "      <th>Name</th>\n",
       "      <th>SampleID</th>\n",
       "    </tr>\n",
       "  </thead>\n",
       "  <tbody>\n",
       "    <tr>\n",
       "      <th>0</th>\n",
       "      <td>g1</td>\n",
       "      <td>0</td>\n",
       "    </tr>\n",
       "    <tr>\n",
       "      <th>1</th>\n",
       "      <td>ref</td>\n",
       "      <td>1</td>\n",
       "    </tr>\n",
       "  </tbody>\n",
       "</table>\n",
       "</div>"
      ],
      "text/plain": [
       "  Name  SampleID\n",
       "0   g1         0\n",
       "1  ref         1"
      ]
     },
     "execution_count": 8,
     "metadata": {},
     "output_type": "execute_result"
    }
   ],
   "source": [
    "sample_info.head(2)"
   ]
  },
  {
   "cell_type": "code",
   "execution_count": 9,
   "id": "70d23a27-f778-498c-af2e-924f086c7ee2",
   "metadata": {},
   "outputs": [],
   "source": [
    "gene_info = pd.read_csv(data_dir + \"gene_info.tsv\", delimiter='\\t', header=None)\n",
    "gene_info.columns =['GeneName', 'SampleID', 'clusterID']"
   ]
  },
  {
   "cell_type": "code",
   "execution_count": 10,
   "id": "59e91fd6-8181-484c-8ff4-e7a27fab5834",
   "metadata": {},
   "outputs": [
    {
     "data": {
      "text/html": [
       "<div>\n",
       "<style scoped>\n",
       "    .dataframe tbody tr th:only-of-type {\n",
       "        vertical-align: middle;\n",
       "    }\n",
       "\n",
       "    .dataframe tbody tr th {\n",
       "        vertical-align: top;\n",
       "    }\n",
       "\n",
       "    .dataframe thead th {\n",
       "        text-align: right;\n",
       "    }\n",
       "</style>\n",
       "<table border=\"1\" class=\"dataframe\">\n",
       "  <thead>\n",
       "    <tr style=\"text-align: right;\">\n",
       "      <th></th>\n",
       "      <th>GeneName</th>\n",
       "      <th>SampleID</th>\n",
       "      <th>clusterID</th>\n",
       "    </tr>\n",
       "  </thead>\n",
       "  <tbody>\n",
       "    <tr>\n",
       "      <th>0</th>\n",
       "      <td>FHLJBAOL_00351_0_348@669@+</td>\n",
       "      <td>0</td>\n",
       "      <td>0</td>\n",
       "    </tr>\n",
       "    <tr>\n",
       "      <th>1</th>\n",
       "      <td>PFHEFCNI_02631_1_2563@1107@-</td>\n",
       "      <td>1</td>\n",
       "      <td>0</td>\n",
       "    </tr>\n",
       "  </tbody>\n",
       "</table>\n",
       "</div>"
      ],
      "text/plain": [
       "                       GeneName  SampleID  clusterID\n",
       "0    FHLJBAOL_00351_0_348@669@+         0          0\n",
       "1  PFHEFCNI_02631_1_2563@1107@-         1          0"
      ]
     },
     "execution_count": 10,
     "metadata": {},
     "output_type": "execute_result"
    }
   ],
   "source": [
    "gene_info.head(2)"
   ]
  },
  {
   "cell_type": "code",
   "execution_count": 11,
   "id": "f90af87c-8222-4ee0-a57f-437d13332f04",
   "metadata": {},
   "outputs": [],
   "source": [
    "# for i in range(5000):\n",
    "#     print(sum(gene_info.clusterID==0), end =\",\")"
   ]
  },
  {
   "cell_type": "code",
   "execution_count": 12,
   "id": "371f088c-523a-46ba-a653-a258dfe950b4",
   "metadata": {},
   "outputs": [],
   "source": [
    "gene_position = pd.read_csv(data_dir + 'gene_position.tsv', delimiter='\\t', header=None)\n",
    "gene_position.columns =['SampleID', 'ContigName', 'GeneSequence']"
   ]
  },
  {
   "cell_type": "code",
   "execution_count": 13,
   "id": "909dc83b-e14f-467e-a763-a71704be031b",
   "metadata": {},
   "outputs": [
    {
     "data": {
      "text/html": [
       "<div>\n",
       "<style scoped>\n",
       "    .dataframe tbody tr th:only-of-type {\n",
       "        vertical-align: middle;\n",
       "    }\n",
       "\n",
       "    .dataframe tbody tr th {\n",
       "        vertical-align: top;\n",
       "    }\n",
       "\n",
       "    .dataframe thead th {\n",
       "        text-align: right;\n",
       "    }\n",
       "</style>\n",
       "<table border=\"1\" class=\"dataframe\">\n",
       "  <thead>\n",
       "    <tr style=\"text-align: right;\">\n",
       "      <th></th>\n",
       "      <th>SampleID</th>\n",
       "      <th>ContigName</th>\n",
       "      <th>GeneSequence</th>\n",
       "    </tr>\n",
       "  </thead>\n",
       "  <tbody>\n",
       "    <tr>\n",
       "      <th>0</th>\n",
       "      <td>0</td>\n",
       "      <td>NODE_1_length_360583_cov_9.851928</td>\n",
       "      <td>FHLJBAOL_00001_0_1@390@+;FHLJBAOL_00002_0_2@36...</td>\n",
       "    </tr>\n",
       "    <tr>\n",
       "      <th>1</th>\n",
       "      <td>0</td>\n",
       "      <td>NODE_2_length_327037_cov_9.679695</td>\n",
       "      <td>FHLJBAOL_00372_0_369@456@+;FHLJBAOL_00373_0_37...</td>\n",
       "    </tr>\n",
       "  </tbody>\n",
       "</table>\n",
       "</div>"
      ],
      "text/plain": [
       "   SampleID                         ContigName  \\\n",
       "0         0  NODE_1_length_360583_cov_9.851928   \n",
       "1         0  NODE_2_length_327037_cov_9.679695   \n",
       "\n",
       "                                        GeneSequence  \n",
       "0  FHLJBAOL_00001_0_1@390@+;FHLJBAOL_00002_0_2@36...  \n",
       "1  FHLJBAOL_00372_0_369@456@+;FHLJBAOL_00373_0_37...  "
      ]
     },
     "execution_count": 13,
     "metadata": {},
     "output_type": "execute_result"
    }
   ],
   "source": [
    "gene_position.head(2)"
   ]
  },
  {
   "cell_type": "code",
   "execution_count": 14,
   "id": "b0021114-c2b1-4c0a-8e9a-376a81b43cd0",
   "metadata": {},
   "outputs": [],
   "source": [
    "# print(gene_position.ContigName.values)"
   ]
  },
  {
   "cell_type": "code",
   "execution_count": 15,
   "id": "677c3e19-4273-4b50-b7ed-c5732954f326",
   "metadata": {},
   "outputs": [],
   "source": [
    "# gene_position.iloc[20:30,]"
   ]
  },
  {
   "cell_type": "code",
   "execution_count": 16,
   "id": "c4ec6c84-ff3c-44c5-af96-42b660dff12a",
   "metadata": {},
   "outputs": [],
   "source": [
    "# sort by length of contigs\n",
    "gene_position.sort_values(by=\"GeneSequence\", key=lambda x: x.str.len(),  ascending=False, inplace=True)"
   ]
  },
  {
   "cell_type": "code",
   "execution_count": 17,
   "id": "e6476138-f354-40fc-bbd6-12bf5e37d459",
   "metadata": {},
   "outputs": [
    {
     "name": "stdout",
     "output_type": "stream",
     "text": [
      "List of all samples\n"
     ]
    },
    {
     "data": {
      "text/plain": [
       "array([0, 1])"
      ]
     },
     "execution_count": 17,
     "metadata": {},
     "output_type": "execute_result"
    }
   ],
   "source": [
    "print(\"List of all samples\")\n",
    "n_samples = len(np.unique(gene_position.iloc[:,0]))\n",
    "np.unique(gene_position.iloc[:,0])"
   ]
  },
  {
   "cell_type": "code",
   "execution_count": 18,
   "id": "aa8a5b19-6a3c-43fe-8a21-7a91b663f513",
   "metadata": {},
   "outputs": [],
   "source": [
    "# ## select some sample\n",
    "# selected_samples = [0, 32]\n",
    "# sample_info = sample_info.loc[sample_info['SampleID'].isin(selected_samples)]\n",
    "# gene_info = gene_info.loc[gene_info['SampleID'].isin(selected_samples)]\n",
    "# gene_position = gene_position.loc[gene_position['SampleID'].isin(selected_samples)]"
   ]
  },
  {
   "cell_type": "code",
   "execution_count": null,
   "id": "525bf73f-d335-4714-922f-643356634b9f",
   "metadata": {},
   "outputs": [],
   "source": []
  },
  {
   "cell_type": "markdown",
   "id": "80a662ae-c935-4ffa-ad09-d76bd647bcc7",
   "metadata": {},
   "source": [
    "# Run here"
   ]
  },
  {
   "cell_type": "code",
   "execution_count": 19,
   "id": "94c34358-518d-4688-aec4-5deb273e230a",
   "metadata": {},
   "outputs": [],
   "source": [
    "%load_ext autoreload\n",
    "%autoreload 2\n",
    "from pangraph import PanGraph"
   ]
  },
  {
   "cell_type": "code",
   "execution_count": 20,
   "id": "b01edd21-f5b6-4efb-9183-34ec46d10921",
   "metadata": {},
   "outputs": [],
   "source": [
    "# construct the pangenome graph\n",
    "# min_contig_len = 100\n",
    "pangraph = PanGraph(sample_info=sample_info, gene_info=gene_info, gene_position=gene_position)"
   ]
  },
  {
   "cell_type": "code",
   "execution_count": 21,
   "id": "fb500d8a-bc52-4dab-be2e-5189670c467e",
   "metadata": {},
   "outputs": [
    {
     "name": "stdout",
     "output_type": "stream",
     "text": [
      "Set minimum on number of nucleotides =  100 NUMBER OF COMPUTED CONTIGS: 81\n"
     ]
    }
   ],
   "source": [
    "H = pangraph.construct_graph(method = \"graph_alignment\", sample_id_ref = None,  min_nucleotides = 100, min_genes = 0) # use the same min_contig_len when generate the ground truth\n",
    "# H = pangraph.construct_graph(method = \"graph_alignment\", sample_id_ref = 32,  min_nucleotides = 100, min_genes = 2) # use the same min_contig_len when generate the ground truth"
   ]
  },
  {
   "cell_type": "code",
   "execution_count": 22,
   "id": "151419b9-875a-48b0-aa49-f731cf3e4114",
   "metadata": {},
   "outputs": [],
   "source": [
    "# nx.write_gml(H,'cytoscape_out/pan_graph.gml')"
   ]
  },
  {
   "cell_type": "code",
   "execution_count": 23,
   "id": "7341ae62-4cf2-4518-8654-f8a0c56632ee",
   "metadata": {
    "tags": []
   },
   "outputs": [
    {
     "data": {
      "text/plain": [
       "(10459, 5460)"
      ]
     },
     "execution_count": 23,
     "metadata": {},
     "output_type": "execute_result"
    }
   ],
   "source": [
    "# number of nodes and edges\n",
    "pangraph.n_clusters, H.number_of_edges()"
   ]
  },
  {
   "cell_type": "code",
   "execution_count": 24,
   "id": "512bfb3d-2379-4202-8ca8-f5628b216c21",
   "metadata": {
    "tags": []
   },
   "outputs": [],
   "source": [
    "# pangraph.strand"
   ]
  },
  {
   "cell_type": "code",
   "execution_count": 25,
   "id": "ad16bf90-de62-44ef-bc4c-b9f8bd75c7d8",
   "metadata": {
    "tags": []
   },
   "outputs": [],
   "source": [
    "from networkx import NetworkXNoPath\n",
    "\n",
    "try:\n",
    "    p = nx.shortest_path(H, source='C-1', target='C-0')\n",
    "except NetworkXNoPath:\n",
    "    p = None"
   ]
  },
  {
   "cell_type": "code",
   "execution_count": 26,
   "id": "f453a92d-24e0-4a51-900b-9eae21b98a62",
   "metadata": {
    "tags": []
   },
   "outputs": [
    {
     "name": "stdout",
     "output_type": "stream",
     "text": [
      "1.0\n"
     ]
    }
   ],
   "source": [
    "print(2/float(len(p)))"
   ]
  },
  {
   "cell_type": "markdown",
   "id": "74dcfe52-f474-4379-8181-b036731ea5cf",
   "metadata": {},
   "source": [
    "## Data analysis"
   ]
  },
  {
   "cell_type": "code",
   "execution_count": 27,
   "id": "2a38db19-7ced-4874-aa99-c5ed9e3a6cd5",
   "metadata": {
    "tags": []
   },
   "outputs": [],
   "source": [
    "incomplete_sample_name = \"g1\"\n",
    "incomplete_sample_id = sample_info[sample_info.Name==incomplete_sample_name].iloc[0,1]\n",
    "contig_graph = pangraph.join_contig(sample_id=incomplete_sample_id, min_weight=1.0, method=\"edge_weight\")\n",
    "nx.write_gml(contig_graph,'cytoscape_out/contig_graph.gml')"
   ]
  },
  {
   "cell_type": "code",
   "execution_count": 28,
   "id": "12b99800-7fa7-4d5d-b16e-8c3ecf5ca23c",
   "metadata": {},
   "outputs": [
    {
     "data": {
      "text/plain": [
       "0"
      ]
     },
     "execution_count": 28,
     "metadata": {},
     "output_type": "execute_result"
    }
   ],
   "source": [
    "incomplete_sample_id"
   ]
  },
  {
   "cell_type": "code",
   "execution_count": 29,
   "id": "2640bc73-243e-40bc-a41d-5da99bcab138",
   "metadata": {},
   "outputs": [],
   "source": [
    "# from matplotlib.pyplot import figure\n",
    "# figure(figsize=(12, 12), dpi=80)\n",
    "# nx.draw_networkx(contig_graph, arrows=True)"
   ]
  },
  {
   "cell_type": "code",
   "execution_count": 30,
   "id": "a28f0d7e-5b15-4e87-897f-8bd84eba0518",
   "metadata": {},
   "outputs": [],
   "source": [
    "indegree_dict = dict(contig_graph.in_degree())"
   ]
  },
  {
   "cell_type": "code",
   "execution_count": 31,
   "id": "a9342c52-ce20-4226-80b5-171b11f9901b",
   "metadata": {},
   "outputs": [],
   "source": [
    "# indegree_dict"
   ]
  },
  {
   "cell_type": "code",
   "execution_count": 32,
   "id": "e63163c2-ad0e-454f-8ec5-6b7b6e605b2e",
   "metadata": {},
   "outputs": [],
   "source": [
    "adj_list = {}\n",
    "for source_node_key in indegree_dict:\n",
    "    if indegree_dict[source_node_key] == 0:\n",
    "        adj_list[source_node_key] = []\n",
    "        next_neighbor_temp = source_node_key\n",
    "        while(1):\n",
    "            next_neighbor_temp = list(contig_graph.neighbors(next_neighbor_temp))\n",
    "            if len(next_neighbor_temp) > 0:\n",
    "                next_neighbor_temp = next_neighbor_temp[0]\n",
    "                adj_list[source_node_key].append(next_neighbor_temp)\n",
    "            else:\n",
    "                break;"
   ]
  },
  {
   "cell_type": "code",
   "execution_count": 33,
   "id": "920e1a28-ac18-41bf-a4b8-62d1a7ef947f",
   "metadata": {},
   "outputs": [],
   "source": [
    "# pangraph.edge_list"
   ]
  },
  {
   "cell_type": "code",
   "execution_count": 34,
   "id": "e3906868-37c7-4bf0-b7aa-32fb84c77844",
   "metadata": {},
   "outputs": [],
   "source": [
    "# Read the contigs\n",
    "# https://coding4medicine.com/backup/Python/reading-fasta-files.html\n",
    "# f=open('/data/hoan/amromics/readSimulator/art_output/spades_output/contigs.fasta','r')\n",
    "f=open('/data/hoan/amromics/simulation/art_output/spades_output/contigs.fasta','r')\n",
    "lines=f.readlines()\n",
    "\n",
    "hre=re.compile('>(\\S+)')\n",
    "lre=re.compile('^(\\S+)$')\n",
    "\n",
    "gene={}\n",
    "\n",
    "for line in lines:\n",
    "        outh = hre.search(line)\n",
    "        if outh:\n",
    "                id=outh.group(1)\n",
    "        else:\n",
    "                outl=lre.search(line)\n",
    "                if(id in gene.keys()):\n",
    "                        gene[id] += outl.group(1)\n",
    "                else:\n",
    "                        gene[id]  =outl.group(1)"
   ]
  },
  {
   "cell_type": "code",
   "execution_count": 35,
   "id": "aca82328-e45b-498c-9382-e53ca8d9455a",
   "metadata": {},
   "outputs": [],
   "source": [
    "# write_fasta(gene, \"/data/hoan/amromics/spades_quast/SAMN04158282/contigs_test.fasta\")"
   ]
  },
  {
   "cell_type": "code",
   "execution_count": 36,
   "id": "cb7b41a7-9574-4164-8885-f0d542f7f908",
   "metadata": {},
   "outputs": [],
   "source": [
    "# list(gene_position.ContigName)"
   ]
  },
  {
   "cell_type": "code",
   "execution_count": 37,
   "id": "6724c7dd-d822-4008-b924-afaa78b9854d",
   "metadata": {},
   "outputs": [],
   "source": [
    "# pangraph.gene2cluster_dict['FHLJBAOL_00001_0_1@390@+']"
   ]
  },
  {
   "cell_type": "code",
   "execution_count": 38,
   "id": "d675ff3b-dee7-420f-8af5-1fed08e169da",
   "metadata": {},
   "outputs": [],
   "source": [
    "from pangraph.utils import getContigsAdjacency\n",
    "def append_strand(input_str):\n",
    "    if input_str[-1]==\"'\":\n",
    "        return (input_str[:-1] + '-')\n",
    "    else:\n",
    "        return (input_str + '+')"
   ]
  },
  {
   "cell_type": "code",
   "execution_count": 39,
   "id": "e770ca77-aa83-4edc-9efb-4cd810718c64",
   "metadata": {},
   "outputs": [],
   "source": [
    "edge_list_assembly = []\n",
    "# for l,r in getContigsAdjacency('/data/hoan/amromics/spades_quast/SAMN04158282/'):\n",
    "for l,r in getContigsAdjacency('/data/hoan/amromics/simulation/art_output/spades_output/'):\n",
    "    # print(\"{} --> {}\".format(l,r))\n",
    "    edge_list_assembly.append((append_strand(l),append_strand(r)))"
   ]
  },
  {
   "cell_type": "code",
   "execution_count": 40,
   "id": "5581e12f-60bd-452f-aebb-037b3eabd328",
   "metadata": {},
   "outputs": [
    {
     "name": "stdout",
     "output_type": "stream",
     "text": [
      "\n"
     ]
    }
   ],
   "source": [
    "assembly_graph = nx.DiGraph()\n",
    "assembly_graph.add_edges_from(edge_list_assembly)\n",
    "print(\"\")"
   ]
  },
  {
   "cell_type": "code",
   "execution_count": 41,
   "id": "fc65e912-e21a-49db-ae03-f50ff108f580",
   "metadata": {},
   "outputs": [],
   "source": [
    "# src = \"NODE_28_length_69350_cov_9.702063-\"\n",
    "# dst = \"NODE_19_length_86979_cov_9.862615-\"\n",
    "# paths = [p for p in nx.all_shortest_paths(assembly_graph, src, dst)]\n",
    "def flatten(l):\n",
    "    if len(l) == 1:\n",
    "        return l[0]\n",
    "    else:\n",
    "        return [item for sublist in l for item in sublist]\n",
    "def remove_duplicate(your_list):\n",
    "    return ([v for i, v in enumerate(your_list) if i == 0 or v != your_list[i-1]])"
   ]
  },
  {
   "cell_type": "code",
   "execution_count": 42,
   "id": "e630aeaf-d31a-4514-9d3b-2adc788337b7",
   "metadata": {},
   "outputs": [
    {
     "name": "stdout",
     "output_type": "stream",
     "text": [
      "Will test this, Ok?\n",
      "Will test this, Ok?\n",
      "Will test this, Ok?\n",
      "Will test this, Ok?\n",
      "Will test this, Ok?\n",
      "Will test this, Ok?\n",
      "Will test this, Ok?\n"
     ]
    }
   ],
   "source": [
    "## neu ko la adjacent thi bat dau bang contigs moi.\n",
    "adj_list_assembly = {}\n",
    "for key in adj_list:\n",
    "    new_key = key\n",
    "    path1 = adj_list[key].copy()\n",
    "    path1.insert(0, key)\n",
    "    path2 = [new_key + pangraph.strand[new_key]]\n",
    "    for i in range(len(path1)-1):\n",
    "        src = path1[i] + pangraph.strand[path1[i]]\n",
    "        dst = path1[i+1] + pangraph.strand[path1[i+1]]\n",
    "        if not assembly_graph.has_node(src):\n",
    "            path2.append(src)\n",
    "        elif not assembly_graph.has_node(dst):\n",
    "            path2.append(src)\n",
    "            continue\n",
    "        else:\n",
    "            if nx.has_path(assembly_graph, src, dst):\n",
    "                paths = [p for p in nx.all_shortest_paths(assembly_graph, src, dst)]\n",
    "                # print(src, dst,\"___\", paths[0])  \n",
    "                for node in paths[0]:\n",
    "                    path2.append(node)\n",
    "            else:\n",
    "                # print(src, dst,\"___\", paths[0])    \n",
    "                path2.append(src)\n",
    "                \n",
    "                print(\"Will test this, Ok?\")\n",
    "                if len(path2) > 0:\n",
    "                    adj_list_assembly[new_key+pangraph.strand[new_key]] = remove_duplicate(path2)\n",
    "                new_key = dst[0:-1]\n",
    "                path2 = []           \n",
    "    # path2 = flatten(path2)\n",
    "    if dst not in path2:\n",
    "        # print(path2)\n",
    "        path2.append(dst)\n",
    "    if len(path2) > 0:\n",
    "        adj_list_assembly[new_key+pangraph.strand[new_key]] = remove_duplicate(path2)"
   ]
  },
  {
   "cell_type": "code",
   "execution_count": 43,
   "id": "19c9985a-1c6b-42b2-8c93-af5e634da3d6",
   "metadata": {},
   "outputs": [],
   "source": [
    "# adj_list"
   ]
  },
  {
   "cell_type": "code",
   "execution_count": 44,
   "id": "e513fdee-f2dd-4f26-a1e1-ec317fc5508f",
   "metadata": {},
   "outputs": [],
   "source": [
    "# adj_list_assembly"
   ]
  },
  {
   "cell_type": "code",
   "execution_count": 45,
   "id": "a0b0389c-85fa-4c22-b11c-f7a73947012f",
   "metadata": {},
   "outputs": [],
   "source": [
    "gene_origin = gene.copy()\n",
    "# adj_list = {}\n",
    "for key in adj_list_assembly:\n",
    "    path = adj_list_assembly[key]\n",
    "    if len(path) > 1:\n",
    "        source_node_key = key[:-1]\n",
    "        if key[-1]=='-':\n",
    "            gene_origin[source_node_key] = reverse_complement(gene_origin[source_node_key])\n",
    "\n",
    "        for i in range(1, len(path)):\n",
    "            # print(next_neighbor_temp)\n",
    "            next_neighbor_temp = path[i][:-1]\n",
    "            strand = path[i][-1]\n",
    "            if strand == '+':\n",
    "                gene_origin[source_node_key] = gene_origin[source_node_key]+gene[next_neighbor_temp]\n",
    "                # gene_origin[source_node_key] = overlap(gene_origin[source_node_key], gene[next_neighbor_temp])\n",
    "            else:\n",
    "                gene_origin[source_node_key] = gene_origin[source_node_key]+reverse_complement(gene[next_neighbor_temp])\n",
    "                # gene_origin[source_node_key] = overlap(gene_origin[source_node_key], reverse_complement(gene[next_neighbor_temp]))\n",
    "            if next_neighbor_temp in gene_origin:\n",
    "                del gene_origin[next_neighbor_temp]"
   ]
  },
  {
   "cell_type": "code",
   "execution_count": 46,
   "id": "ee2ea860-8564-4672-aae4-5aeed9fb4778",
   "metadata": {},
   "outputs": [
    {
     "name": "stdout",
     "output_type": "stream",
     "text": [
      "Success! File written\n"
     ]
    }
   ],
   "source": [
    "# write_fasta(gene_origin, \"/data/hoan/amromics/simulation/art_output/spades_output/contigs_concat_weight_path.fasta\")\n",
    "write_fasta(gene_origin, \"/data/hoan/amromics/simulation/art_output/spades_output/contigs_concat.fasta\")"
   ]
  },
  {
   "cell_type": "code",
   "execution_count": 47,
   "id": "98bff25d-f3e6-4c0d-ab2f-90c7919749f2",
   "metadata": {},
   "outputs": [
    {
     "data": {
      "text/plain": [
       "{'NODE_2_length_327037_cov_9.679695+': ['NODE_2_length_327037_cov_9.679695+'],\n",
       " 'NODE_48_length_26212_cov_9.866692-': ['NODE_48_length_26212_cov_9.866692-'],\n",
       " 'NODE_61_length_6024_cov_10.046914+': ['NODE_61_length_6024_cov_10.046914+'],\n",
       " 'NODE_3_length_270336_cov_9.761447+': ['NODE_3_length_270336_cov_9.761447+'],\n",
       " 'NODE_59_length_11110_cov_10.111212+': ['NODE_59_length_11110_cov_10.111212+'],\n",
       " 'NODE_4_length_232574_cov_9.604416+': ['NODE_4_length_232574_cov_9.604416+',\n",
       "  'NODE_70_length_1645_cov_54.421556-'],\n",
       " 'NODE_56_length_15909_cov_9.153297+': ['NODE_56_length_15909_cov_9.153297+',\n",
       "  'NODE_47_length_30109_cov_10.015250+',\n",
       "  'NODE_28_length_69350_cov_9.702063-',\n",
       "  'NODE_69_length_1723_cov_78.769745-',\n",
       "  'NODE_83_length_432_cov_32.873239+',\n",
       "  'NODE_92_length_245_cov_71.345238-',\n",
       "  'NODE_98_length_164_cov_14.804598-',\n",
       "  'NODE_64_length_2789_cov_78.536504-',\n",
       "  'NODE_19_length_86979_cov_9.862615-'],\n",
       " 'NODE_62_length_4411_cov_9.557914+': ['NODE_62_length_4411_cov_9.557914+'],\n",
       " 'NODE_53_length_20146_cov_9.388908-': ['NODE_53_length_20146_cov_9.388908-',\n",
       "  'NODE_20_length_84618_cov_9.641026+',\n",
       "  'NODE_7_length_187242_cov_9.772831+'],\n",
       " 'NODE_54_length_17251_cov_9.539245+': ['NODE_54_length_17251_cov_9.539245+',\n",
       "  'NODE_80_length_510_cov_13.748268+',\n",
       "  'NODE_32_length_58833_cov_9.739193-'],\n",
       " 'NODE_60_length_9279_cov_9.678983-': ['NODE_60_length_9279_cov_9.678983-'],\n",
       " 'NODE_49_length_24998_cov_9.486016+': ['NODE_49_length_24998_cov_9.486016+',\n",
       "  'NODE_9_length_178806_cov_9.823929-'],\n",
       " 'NODE_44_length_34028_cov_10.186887-': ['NODE_44_length_34028_cov_10.186887-',\n",
       "  'NODE_17_length_95330_cov_9.519595-',\n",
       "  'NODE_18_length_93563_cov_9.900220+',\n",
       "  'NODE_41_length_36269_cov_9.752349-'],\n",
       " 'NODE_43_length_34423_cov_9.752082-': ['NODE_43_length_34423_cov_9.752082-',\n",
       "  'NODE_14_length_129409_cov_9.675424-',\n",
       "  'NODE_71_length_1445_cov_59.191520-',\n",
       "  'NODE_36_length_53383_cov_9.616966-'],\n",
       " 'NODE_15_length_117021_cov_9.593267-': ['NODE_15_length_117021_cov_9.593267-',\n",
       "  'NODE_52_length_22238_cov_9.827129+'],\n",
       " 'NODE_31_length_59606_cov_9.576055+': ['NODE_31_length_59606_cov_9.576055+',\n",
       "  'NODE_35_length_57882_cov_9.856258-'],\n",
       " 'NODE_23_length_73071_cov_9.690344+': ['NODE_23_length_73071_cov_9.690344+'],\n",
       " 'NODE_33_length_58682_cov_9.780497+': ['NODE_33_length_58682_cov_9.780497+'],\n",
       " 'NODE_25_length_72920_cov_9.686833+': ['NODE_25_length_72920_cov_9.686833+',\n",
       "  'NODE_34_length_58032_cov_9.615288+'],\n",
       " 'NODE_27_length_72291_cov_9.868516+': ['NODE_27_length_72291_cov_9.868516+',\n",
       "  'NODE_50_length_23111_cov_10.010289-'],\n",
       " 'NODE_13_length_131730_cov_9.796404+': ['NODE_13_length_131730_cov_9.796404+',\n",
       "  'NODE_37_length_53262_cov_9.677014+'],\n",
       " 'NODE_12_length_153018_cov_9.627713+': ['NODE_12_length_153018_cov_9.627713+',\n",
       "  'NODE_96_length_189_cov_20.401786+',\n",
       "  'NODE_55_length_16449_cov_9.823540+'],\n",
       " 'NODE_5_length_216832_cov_9.725077+': ['NODE_5_length_216832_cov_9.725077+',\n",
       "  'NODE_16_length_109994_cov_9.802287+',\n",
       "  'NODE_63_length_2974_cov_10.190542+',\n",
       "  'NODE_10_length_172442_cov_9.795933+',\n",
       "  'NODE_51_length_22877_cov_9.629518-'],\n",
       " 'NODE_11_length_169213_cov_9.713278+': ['NODE_11_length_169213_cov_9.713278+',\n",
       "  'NODE_80_length_510_cov_13.748268+',\n",
       "  'NODE_68_length_1816_cov_10.775158+']}"
      ]
     },
     "execution_count": 47,
     "metadata": {},
     "output_type": "execute_result"
    }
   ],
   "source": [
    "adj_list_assembly"
   ]
  },
  {
   "cell_type": "code",
   "execution_count": 48,
   "id": "b60c585a-88b7-48a2-97c4-a267f97c0f5a",
   "metadata": {},
   "outputs": [],
   "source": [
    "# edge_list_assembly"
   ]
  },
  {
   "cell_type": "code",
   "execution_count": null,
   "id": "a90447d2-4d42-486e-adaf-a0eda19c18b4",
   "metadata": {},
   "outputs": [],
   "source": []
  }
 ],
 "metadata": {
  "kernelspec": {
   "display_name": "Environment (panta)",
   "language": "python",
   "name": "panta"
  },
  "language_info": {
   "codemirror_mode": {
    "name": "ipython",
    "version": 3
   },
   "file_extension": ".py",
   "mimetype": "text/x-python",
   "name": "python",
   "nbconvert_exporter": "python",
   "pygments_lexer": "ipython3",
   "version": "3.7.10"
  }
 },
 "nbformat": 4,
 "nbformat_minor": 5
}
