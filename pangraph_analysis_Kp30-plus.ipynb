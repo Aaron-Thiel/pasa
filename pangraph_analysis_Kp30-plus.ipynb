{
 "cells": [
  {
   "cell_type": "markdown",
   "id": "d34faca0-8280-48bc-8d17-9313a5adb8a7",
   "metadata": {},
   "source": [
    "### Make a copy of this note if you want to analyze "
   ]
  },
  {
   "cell_type": "markdown",
   "id": "691b1159-9546-439f-9359-9d1aaa3bd0ab",
   "metadata": {},
   "source": [
    "#### Please run panta first to get gene clusters and other output files for this analysis"
   ]
  },
  {
   "cell_type": "code",
   "execution_count": 1,
   "id": "b41e572e-588f-4799-998b-c898021a0d8a",
   "metadata": {},
   "outputs": [],
   "source": [
    "## Don't use this anymore: starting using scaffolding_workflow.ipynb"
   ]
  },
  {
   "cell_type": "code",
   "execution_count": 13,
   "id": "eecd36a8-a6cb-4ced-96b7-e5780c85c80e",
   "metadata": {},
   "outputs": [],
   "source": [
    "import pandas as pd\n",
    "from scipy.sparse import csr_matrix\n",
    "import numpy as np\n",
    "import networkx as nx\n",
    "import matplotlib.pyplot as plt\n",
    "import math\n",
    "import sys, re\n",
    "from pangraph.utils import write_fasta\n",
    "from networkx import NetworkXNoPath\n",
    "import os\n",
    "from pangraph.utils import overlap, reverse_complement"
   ]
  },
  {
   "cell_type": "code",
   "execution_count": 14,
   "id": "22dc2b45-1381-4c12-bfbe-ef08e2d23773",
   "metadata": {},
   "outputs": [],
   "source": [
    "def max_common_subsequene(a, b):\n",
    "    result = np.zeros((len(a), len(b)))\n",
    "    max_value = 0; best_max = 0\n",
    "    for i in range(len(a)):\n",
    "        for j in range(len(b)):\n",
    "            if (a[i]==b[j]):\n",
    "                result[i,j] = result[i-1,j-1]+1 #remember to initialize the borders with zeros\n",
    "            else:\n",
    "                result[i,j]=0\n",
    "    print(np.amax(result))"
   ]
  },
  {
   "cell_type": "code",
   "execution_count": 15,
   "id": "ac52622f-3e0b-4ee1-b7d3-00dafd97705c",
   "metadata": {},
   "outputs": [],
   "source": [
    "# simversion = '_v3'\n",
    "# simversion = '_Kp100random_v01'\n",
    "# simversion = '_Kp500random_v03'\n",
    "simversion = '_Ecoli100random_plasmid_v01'"
   ]
  },
  {
   "cell_type": "code",
   "execution_count": 34,
   "id": "6eaa8d8d-e9c0-4926-ab5c-416b3c95985d",
   "metadata": {},
   "outputs": [],
   "source": [
    "# data_dir = \"../panta/examples/test/output/\"\n",
    "# data_dir = \"data/genome_graph_test/\"\n",
    "# you can take the data in the directory: data/genome_graph_test\n",
    "# data_dir = \"../panta/examples/test/output_Kp30plus1/\"\n",
    "# data_dir = \"../panta/examples/test/output_Kp100/\"\n",
    "# data_dir = '/data/hoan/amromics/panta/examples/test/output_Kp100_v3/'\n",
    "# data_dir = '/data/hoan/amromics/panta/examples/test/output_Kp100random_v01/'\n",
    "# data_dir = '/data/hoan/amromics/panta/examples/test/output_Kp500random_v03/'\n",
    "# data_dir = '/data/hoan/amromics/panta/examples/test/output_Ecoli100random_plasmid_v01/'\n",
    "data_dir = '/data/hoan/amromics/panta/examples/test/pantaOut_Ecoli50random_Ecolitest_GCF_004135915_plasmid_v01/'\n",
    "data_dir = '/data/hoan/amromics/panta/examples/test/pantaOut_Ecoli50random_Ecolitest_GCF_004135915_plasmid_v01/'\n",
    "# data_dir = \"../panta/examples/test/output_Kp30mix_nosplitparalog/\"\n",
    "# data_dir = \"../panta/examples/test/output_Kp500mix/\"\n",
    "# data_dir = \"/data/hoan/amromics/simulation/art_output/spades_output/panta_output/\""
   ]
  },
  {
   "cell_type": "code",
   "execution_count": 35,
   "id": "a2587591-3df1-4ecb-bd4c-aa66f8a78faa",
   "metadata": {},
   "outputs": [],
   "source": [
    "sample_info = pd.read_csv(data_dir + \"samples.tsv\", delimiter='\\t', header=None)\n",
    "sample_info.columns = ['Name', 'SampleID']"
   ]
  },
  {
   "cell_type": "code",
   "execution_count": 36,
   "id": "e0d0b2c1-2d49-4ebf-9a26-b7984cc43b9c",
   "metadata": {},
   "outputs": [
    {
     "data": {
      "text/html": [
       "<div>\n",
       "<style scoped>\n",
       "    .dataframe tbody tr th:only-of-type {\n",
       "        vertical-align: middle;\n",
       "    }\n",
       "\n",
       "    .dataframe tbody tr th {\n",
       "        vertical-align: top;\n",
       "    }\n",
       "\n",
       "    .dataframe thead th {\n",
       "        text-align: right;\n",
       "    }\n",
       "</style>\n",
       "<table border=\"1\" class=\"dataframe\">\n",
       "  <thead>\n",
       "    <tr style=\"text-align: right;\">\n",
       "      <th></th>\n",
       "      <th>Name</th>\n",
       "      <th>SampleID</th>\n",
       "    </tr>\n",
       "  </thead>\n",
       "  <tbody>\n",
       "    <tr>\n",
       "      <th>0</th>\n",
       "      <td>GCF_000010245.2_ASM1024v1_genomic</td>\n",
       "      <td>0</td>\n",
       "    </tr>\n",
       "    <tr>\n",
       "      <th>1</th>\n",
       "      <td>GCF_000493755.1_ASM49375v1_genomic</td>\n",
       "      <td>1</td>\n",
       "    </tr>\n",
       "    <tr>\n",
       "      <th>2</th>\n",
       "      <td>GCF_001644725.1_ASM164472v1_genomic</td>\n",
       "      <td>2</td>\n",
       "    </tr>\n",
       "    <tr>\n",
       "      <th>3</th>\n",
       "      <td>GCF_001900985.1_ASM190098v1_genomic</td>\n",
       "      <td>3</td>\n",
       "    </tr>\n",
       "    <tr>\n",
       "      <th>4</th>\n",
       "      <td>GCF_001901025.1_ASM190102v1_genomic</td>\n",
       "      <td>4</td>\n",
       "    </tr>\n",
       "    <tr>\n",
       "      <th>5</th>\n",
       "      <td>GCF_002057245.1_ASM205724v1_genomic</td>\n",
       "      <td>5</td>\n",
       "    </tr>\n",
       "    <tr>\n",
       "      <th>6</th>\n",
       "      <td>GCF_002741255.1_ASM274125v1_genomic</td>\n",
       "      <td>6</td>\n",
       "    </tr>\n",
       "    <tr>\n",
       "      <th>7</th>\n",
       "      <td>GCF_002741455.1_ASM274145v1_genomic</td>\n",
       "      <td>7</td>\n",
       "    </tr>\n",
       "    <tr>\n",
       "      <th>8</th>\n",
       "      <td>GCF_002787645.1_ASM278764v1_genomic</td>\n",
       "      <td>8</td>\n",
       "    </tr>\n",
       "    <tr>\n",
       "      <th>9</th>\n",
       "      <td>GCF_002811555.3_ASM281155v3_genomic</td>\n",
       "      <td>9</td>\n",
       "    </tr>\n",
       "    <tr>\n",
       "      <th>10</th>\n",
       "      <td>GCF_003052665.1_ASM305266v1_genomic</td>\n",
       "      <td>10</td>\n",
       "    </tr>\n",
       "    <tr>\n",
       "      <th>11</th>\n",
       "      <td>GCF_003073835.1_ASM307383v1_genomic</td>\n",
       "      <td>11</td>\n",
       "    </tr>\n",
       "    <tr>\n",
       "      <th>12</th>\n",
       "      <td>GCF_003112245.1_ASM311224v1_genomic</td>\n",
       "      <td>12</td>\n",
       "    </tr>\n",
       "    <tr>\n",
       "      <th>13</th>\n",
       "      <td>GCF_003288455.1_ASM328845v1_genomic</td>\n",
       "      <td>13</td>\n",
       "    </tr>\n",
       "    <tr>\n",
       "      <th>14</th>\n",
       "      <td>GCF_005222365.1_ASM522236v1_genomic</td>\n",
       "      <td>14</td>\n",
       "    </tr>\n",
       "    <tr>\n",
       "      <th>15</th>\n",
       "      <td>GCF_008124245.1_ASM812424v1_genomic</td>\n",
       "      <td>15</td>\n",
       "    </tr>\n",
       "    <tr>\n",
       "      <th>16</th>\n",
       "      <td>GCF_009432795.1_ASM943279v1_genomic</td>\n",
       "      <td>16</td>\n",
       "    </tr>\n",
       "    <tr>\n",
       "      <th>17</th>\n",
       "      <td>GCF_009671045.1_ASM967104v1_genomic</td>\n",
       "      <td>17</td>\n",
       "    </tr>\n",
       "    <tr>\n",
       "      <th>18</th>\n",
       "      <td>GCF_011330935.2_ASM1133093v2_genomic</td>\n",
       "      <td>18</td>\n",
       "    </tr>\n",
       "    <tr>\n",
       "      <th>19</th>\n",
       "      <td>GCF_012516455.1_ASM1251645v1_genomic</td>\n",
       "      <td>19</td>\n",
       "    </tr>\n",
       "    <tr>\n",
       "      <th>20</th>\n",
       "      <td>GCF_013085865.1_ASM1308586v1_genomic</td>\n",
       "      <td>20</td>\n",
       "    </tr>\n",
       "    <tr>\n",
       "      <th>21</th>\n",
       "      <td>GCF_013167535.1_ASM1316753v1_genomic</td>\n",
       "      <td>21</td>\n",
       "    </tr>\n",
       "    <tr>\n",
       "      <th>22</th>\n",
       "      <td>GCF_013167655.1_ASM1316765v1_genomic</td>\n",
       "      <td>22</td>\n",
       "    </tr>\n",
       "    <tr>\n",
       "      <th>23</th>\n",
       "      <td>GCF_013426095.1_ASM1342609v1_genomic</td>\n",
       "      <td>23</td>\n",
       "    </tr>\n",
       "    <tr>\n",
       "      <th>24</th>\n",
       "      <td>GCF_014656605.1_ASM1465660v1_genomic</td>\n",
       "      <td>24</td>\n",
       "    </tr>\n",
       "    <tr>\n",
       "      <th>25</th>\n",
       "      <td>GCF_014904145.2_ASM1490414v2_genomic</td>\n",
       "      <td>25</td>\n",
       "    </tr>\n",
       "    <tr>\n",
       "      <th>26</th>\n",
       "      <td>GCF_015508805.1_ASM1550880v1_genomic</td>\n",
       "      <td>26</td>\n",
       "    </tr>\n",
       "    <tr>\n",
       "      <th>27</th>\n",
       "      <td>GCF_016126995.1_ASM1612699v1_genomic</td>\n",
       "      <td>27</td>\n",
       "    </tr>\n",
       "    <tr>\n",
       "      <th>28</th>\n",
       "      <td>GCF_016598635.1_ASM1659863v1_genomic</td>\n",
       "      <td>28</td>\n",
       "    </tr>\n",
       "    <tr>\n",
       "      <th>29</th>\n",
       "      <td>GCF_016775845.1_ASM1677584v1_genomic</td>\n",
       "      <td>29</td>\n",
       "    </tr>\n",
       "    <tr>\n",
       "      <th>30</th>\n",
       "      <td>GCF_016904115.1_ASM1690411v1_genomic</td>\n",
       "      <td>30</td>\n",
       "    </tr>\n",
       "    <tr>\n",
       "      <th>31</th>\n",
       "      <td>GCF_016939795.1_ASM1693979v1_genomic</td>\n",
       "      <td>31</td>\n",
       "    </tr>\n",
       "    <tr>\n",
       "      <th>32</th>\n",
       "      <td>GCF_018279585.1_ASM1827958v1_genomic</td>\n",
       "      <td>32</td>\n",
       "    </tr>\n",
       "    <tr>\n",
       "      <th>33</th>\n",
       "      <td>GCF_019355495.1_ASM1935549v1_genomic</td>\n",
       "      <td>33</td>\n",
       "    </tr>\n",
       "    <tr>\n",
       "      <th>34</th>\n",
       "      <td>GCF_019443605.1_ASM1944360v1_genomic</td>\n",
       "      <td>34</td>\n",
       "    </tr>\n",
       "    <tr>\n",
       "      <th>35</th>\n",
       "      <td>GCF_020423165.1_ASM2042316v1_genomic</td>\n",
       "      <td>35</td>\n",
       "    </tr>\n",
       "    <tr>\n",
       "      <th>36</th>\n",
       "      <td>GCF_021535025.1_ASM2153502v1_genomic</td>\n",
       "      <td>36</td>\n",
       "    </tr>\n",
       "    <tr>\n",
       "      <th>37</th>\n",
       "      <td>GCF_022559285.1_ASM2255928v1_genomic</td>\n",
       "      <td>37</td>\n",
       "    </tr>\n",
       "    <tr>\n",
       "      <th>38</th>\n",
       "      <td>GCF_022759785.1_ASM2275978v1_genomic</td>\n",
       "      <td>38</td>\n",
       "    </tr>\n",
       "    <tr>\n",
       "      <th>39</th>\n",
       "      <td>GCF_022759805.1_ASM2275980v1_genomic</td>\n",
       "      <td>39</td>\n",
       "    </tr>\n",
       "    <tr>\n",
       "      <th>40</th>\n",
       "      <td>GCF_023238365.1_ASM2323836v1_genomic</td>\n",
       "      <td>40</td>\n",
       "    </tr>\n",
       "    <tr>\n",
       "      <th>41</th>\n",
       "      <td>GCF_023657955.1_ASM2365795v1_genomic</td>\n",
       "      <td>41</td>\n",
       "    </tr>\n",
       "    <tr>\n",
       "      <th>42</th>\n",
       "      <td>GCF_024499095.1_ASM2449909v1_genomic</td>\n",
       "      <td>42</td>\n",
       "    </tr>\n",
       "    <tr>\n",
       "      <th>43</th>\n",
       "      <td>GCF_024585405.1_ASM2458540v1_genomic</td>\n",
       "      <td>43</td>\n",
       "    </tr>\n",
       "    <tr>\n",
       "      <th>44</th>\n",
       "      <td>GCF_024917375.1_ASM2491737v1_genomic</td>\n",
       "      <td>44</td>\n",
       "    </tr>\n",
       "    <tr>\n",
       "      <th>45</th>\n",
       "      <td>GCF_900184875.1_Unitig_genomic</td>\n",
       "      <td>45</td>\n",
       "    </tr>\n",
       "    <tr>\n",
       "      <th>46</th>\n",
       "      <td>GCF_900636245.1_39610_F01_genomic</td>\n",
       "      <td>46</td>\n",
       "    </tr>\n",
       "    <tr>\n",
       "      <th>47</th>\n",
       "      <td>GCF_902810395.1_SC477_genomic</td>\n",
       "      <td>47</td>\n",
       "    </tr>\n",
       "    <tr>\n",
       "      <th>48</th>\n",
       "      <td>GCF_904833135.1_L1_E925_genomic</td>\n",
       "      <td>48</td>\n",
       "    </tr>\n",
       "    <tr>\n",
       "      <th>49</th>\n",
       "      <td>g1</td>\n",
       "      <td>49</td>\n",
       "    </tr>\n",
       "  </tbody>\n",
       "</table>\n",
       "</div>"
      ],
      "text/plain": [
       "                                    Name  SampleID\n",
       "0      GCF_000010245.2_ASM1024v1_genomic         0\n",
       "1     GCF_000493755.1_ASM49375v1_genomic         1\n",
       "2    GCF_001644725.1_ASM164472v1_genomic         2\n",
       "3    GCF_001900985.1_ASM190098v1_genomic         3\n",
       "4    GCF_001901025.1_ASM190102v1_genomic         4\n",
       "5    GCF_002057245.1_ASM205724v1_genomic         5\n",
       "6    GCF_002741255.1_ASM274125v1_genomic         6\n",
       "7    GCF_002741455.1_ASM274145v1_genomic         7\n",
       "8    GCF_002787645.1_ASM278764v1_genomic         8\n",
       "9    GCF_002811555.3_ASM281155v3_genomic         9\n",
       "10   GCF_003052665.1_ASM305266v1_genomic        10\n",
       "11   GCF_003073835.1_ASM307383v1_genomic        11\n",
       "12   GCF_003112245.1_ASM311224v1_genomic        12\n",
       "13   GCF_003288455.1_ASM328845v1_genomic        13\n",
       "14   GCF_005222365.1_ASM522236v1_genomic        14\n",
       "15   GCF_008124245.1_ASM812424v1_genomic        15\n",
       "16   GCF_009432795.1_ASM943279v1_genomic        16\n",
       "17   GCF_009671045.1_ASM967104v1_genomic        17\n",
       "18  GCF_011330935.2_ASM1133093v2_genomic        18\n",
       "19  GCF_012516455.1_ASM1251645v1_genomic        19\n",
       "20  GCF_013085865.1_ASM1308586v1_genomic        20\n",
       "21  GCF_013167535.1_ASM1316753v1_genomic        21\n",
       "22  GCF_013167655.1_ASM1316765v1_genomic        22\n",
       "23  GCF_013426095.1_ASM1342609v1_genomic        23\n",
       "24  GCF_014656605.1_ASM1465660v1_genomic        24\n",
       "25  GCF_014904145.2_ASM1490414v2_genomic        25\n",
       "26  GCF_015508805.1_ASM1550880v1_genomic        26\n",
       "27  GCF_016126995.1_ASM1612699v1_genomic        27\n",
       "28  GCF_016598635.1_ASM1659863v1_genomic        28\n",
       "29  GCF_016775845.1_ASM1677584v1_genomic        29\n",
       "30  GCF_016904115.1_ASM1690411v1_genomic        30\n",
       "31  GCF_016939795.1_ASM1693979v1_genomic        31\n",
       "32  GCF_018279585.1_ASM1827958v1_genomic        32\n",
       "33  GCF_019355495.1_ASM1935549v1_genomic        33\n",
       "34  GCF_019443605.1_ASM1944360v1_genomic        34\n",
       "35  GCF_020423165.1_ASM2042316v1_genomic        35\n",
       "36  GCF_021535025.1_ASM2153502v1_genomic        36\n",
       "37  GCF_022559285.1_ASM2255928v1_genomic        37\n",
       "38  GCF_022759785.1_ASM2275978v1_genomic        38\n",
       "39  GCF_022759805.1_ASM2275980v1_genomic        39\n",
       "40  GCF_023238365.1_ASM2323836v1_genomic        40\n",
       "41  GCF_023657955.1_ASM2365795v1_genomic        41\n",
       "42  GCF_024499095.1_ASM2449909v1_genomic        42\n",
       "43  GCF_024585405.1_ASM2458540v1_genomic        43\n",
       "44  GCF_024917375.1_ASM2491737v1_genomic        44\n",
       "45        GCF_900184875.1_Unitig_genomic        45\n",
       "46     GCF_900636245.1_39610_F01_genomic        46\n",
       "47         GCF_902810395.1_SC477_genomic        47\n",
       "48       GCF_904833135.1_L1_E925_genomic        48\n",
       "49                                    g1        49"
      ]
     },
     "execution_count": 36,
     "metadata": {},
     "output_type": "execute_result"
    }
   ],
   "source": [
    "sample_info"
   ]
  },
  {
   "cell_type": "code",
   "execution_count": 37,
   "id": "70d23a27-f778-498c-af2e-924f086c7ee2",
   "metadata": {},
   "outputs": [],
   "source": [
    "gene_info = pd.read_csv(data_dir + \"gene_info.tsv\", delimiter='\\t', header=None)\n",
    "gene_info.columns =['GeneName', 'SampleID', 'clusterID']"
   ]
  },
  {
   "cell_type": "code",
   "execution_count": 38,
   "id": "59e91fd6-8181-484c-8ff4-e7a27fab5834",
   "metadata": {},
   "outputs": [
    {
     "data": {
      "text/html": [
       "<div>\n",
       "<style scoped>\n",
       "    .dataframe tbody tr th:only-of-type {\n",
       "        vertical-align: middle;\n",
       "    }\n",
       "\n",
       "    .dataframe tbody tr th {\n",
       "        vertical-align: top;\n",
       "    }\n",
       "\n",
       "    .dataframe thead th {\n",
       "        text-align: right;\n",
       "    }\n",
       "</style>\n",
       "<table border=\"1\" class=\"dataframe\">\n",
       "  <thead>\n",
       "    <tr style=\"text-align: right;\">\n",
       "      <th></th>\n",
       "      <th>GeneName</th>\n",
       "      <th>SampleID</th>\n",
       "      <th>clusterID</th>\n",
       "    </tr>\n",
       "  </thead>\n",
       "  <tbody>\n",
       "    <tr>\n",
       "      <th>0</th>\n",
       "      <td>GCF_000010245.2_ASM1024v1_genomic-NC_007779.1-...</td>\n",
       "      <td>0</td>\n",
       "      <td>0</td>\n",
       "    </tr>\n",
       "    <tr>\n",
       "      <th>1</th>\n",
       "      <td>GCF_000010245.2_ASM1024v1_genomic-NC_007779.1-...</td>\n",
       "      <td>0</td>\n",
       "      <td>1</td>\n",
       "    </tr>\n",
       "  </tbody>\n",
       "</table>\n",
       "</div>"
      ],
      "text/plain": [
       "                                            GeneName  SampleID  clusterID\n",
       "0  GCF_000010245.2_ASM1024v1_genomic-NC_007779.1-...         0          0\n",
       "1  GCF_000010245.2_ASM1024v1_genomic-NC_007779.1-...         0          1"
      ]
     },
     "execution_count": 38,
     "metadata": {},
     "output_type": "execute_result"
    }
   ],
   "source": [
    "gene_info.head(2)"
   ]
  },
  {
   "cell_type": "code",
   "execution_count": 39,
   "id": "fac7c953-63f0-48a9-96bc-9e315bca1fbf",
   "metadata": {},
   "outputs": [],
   "source": [
    "gene_position = pd.read_csv(data_dir + 'gene_position.tsv', delimiter='\\t', header=None)\n",
    "gene_position.columns =['SampleID', 'ContigName', 'GeneSequence']"
   ]
  },
  {
   "cell_type": "code",
   "execution_count": 40,
   "id": "3ae574c5-10e8-4f29-a0bc-c876a4ab72a9",
   "metadata": {},
   "outputs": [
    {
     "data": {
      "text/html": [
       "<div>\n",
       "<style scoped>\n",
       "    .dataframe tbody tr th:only-of-type {\n",
       "        vertical-align: middle;\n",
       "    }\n",
       "\n",
       "    .dataframe tbody tr th {\n",
       "        vertical-align: top;\n",
       "    }\n",
       "\n",
       "    .dataframe thead th {\n",
       "        text-align: right;\n",
       "    }\n",
       "</style>\n",
       "<table border=\"1\" class=\"dataframe\">\n",
       "  <thead>\n",
       "    <tr style=\"text-align: right;\">\n",
       "      <th></th>\n",
       "      <th>SampleID</th>\n",
       "      <th>ContigName</th>\n",
       "      <th>GeneSequence</th>\n",
       "    </tr>\n",
       "  </thead>\n",
       "  <tbody>\n",
       "    <tr>\n",
       "      <th>0</th>\n",
       "      <td>0</td>\n",
       "      <td>NC_007779.1</td>\n",
       "      <td>GCF_000010245.2_ASM1024v1_genomic-NC_007779.1-...</td>\n",
       "    </tr>\n",
       "    <tr>\n",
       "      <th>1</th>\n",
       "      <td>1</td>\n",
       "      <td>NC_022648.1</td>\n",
       "      <td>GCF_000493755.1_ASM49375v1_genomic-NC_022648.1...</td>\n",
       "    </tr>\n",
       "    <tr>\n",
       "      <th>2</th>\n",
       "      <td>1</td>\n",
       "      <td>NC_022661.1</td>\n",
       "      <td>GCF_000493755.1_ASM49375v1_genomic-NC_022661.1...</td>\n",
       "    </tr>\n",
       "    <tr>\n",
       "      <th>3</th>\n",
       "      <td>1</td>\n",
       "      <td>NC_022649.1</td>\n",
       "      <td>GCF_000493755.1_ASM49375v1_genomic-NC_022649.1...</td>\n",
       "    </tr>\n",
       "    <tr>\n",
       "      <th>4</th>\n",
       "      <td>1</td>\n",
       "      <td>NC_022662.1</td>\n",
       "      <td>GCF_000493755.1_ASM49375v1_genomic-NC_022662.1...</td>\n",
       "    </tr>\n",
       "  </tbody>\n",
       "</table>\n",
       "</div>"
      ],
      "text/plain": [
       "   SampleID   ContigName                                       GeneSequence\n",
       "0         0  NC_007779.1  GCF_000010245.2_ASM1024v1_genomic-NC_007779.1-...\n",
       "1         1  NC_022648.1  GCF_000493755.1_ASM49375v1_genomic-NC_022648.1...\n",
       "2         1  NC_022661.1  GCF_000493755.1_ASM49375v1_genomic-NC_022661.1...\n",
       "3         1  NC_022649.1  GCF_000493755.1_ASM49375v1_genomic-NC_022649.1...\n",
       "4         1  NC_022662.1  GCF_000493755.1_ASM49375v1_genomic-NC_022662.1..."
      ]
     },
     "execution_count": 40,
     "metadata": {},
     "output_type": "execute_result"
    }
   ],
   "source": [
    "gene_position.head()"
   ]
  },
  {
   "cell_type": "code",
   "execution_count": 41,
   "id": "a0cba397-c0f8-4322-80eb-67e523b21d9a",
   "metadata": {},
   "outputs": [
    {
     "name": "stdout",
     "output_type": "stream",
     "text": [
      "NODE_1_length_488582_cov_18.874345\n",
      "NODE_2_length_349339_cov_18.811620\n",
      "NODE_3_length_331083_cov_18.847279\n",
      "NODE_4_length_240939_cov_18.946119\n",
      "NODE_5_length_237350_cov_18.948988\n",
      "NODE_6_length_223229_cov_18.815202\n",
      "NODE_7_length_167029_cov_18.922892\n",
      "NODE_8_length_161199_cov_18.826863\n",
      "NODE_9_length_160033_cov_18.941248\n",
      "NODE_10_length_158869_cov_18.840820\n",
      "NODE_11_length_142436_cov_18.809343\n",
      "NODE_12_length_137153_cov_18.881151\n",
      "NODE_13_length_135581_cov_18.865841\n",
      "NODE_14_length_134559_cov_18.984075\n",
      "NODE_15_length_123707_cov_18.714982\n",
      "NODE_16_length_120538_cov_18.884747\n",
      "NODE_17_length_117783_cov_18.726590\n",
      "NODE_18_length_116983_cov_18.779830\n",
      "NODE_19_length_109091_cov_18.821435\n",
      "NODE_20_length_108485_cov_19.022475\n",
      "NODE_21_length_104511_cov_18.847170\n",
      "NODE_22_length_104266_cov_18.619589\n",
      "NODE_23_length_103896_cov_18.912279\n",
      "NODE_24_length_96319_cov_18.663436\n",
      "NODE_25_length_75424_cov_19.008425\n",
      "NODE_26_length_74104_cov_18.511148\n",
      "NODE_27_length_66313_cov_19.073606\n",
      "NODE_28_length_56011_cov_18.488455\n",
      "NODE_29_length_54390_cov_18.889022\n",
      "NODE_30_length_44029_cov_18.597785\n",
      "NODE_31_length_43251_cov_19.029077\n",
      "NODE_32_length_41411_cov_18.901949\n",
      "NODE_33_length_40304_cov_18.857288\n",
      "NODE_34_length_36230_cov_19.874416\n",
      "NODE_35_length_29775_cov_18.322443\n",
      "NODE_36_length_29249_cov_18.527643\n",
      "NODE_37_length_26768_cov_19.107551\n",
      "NODE_38_length_23565_cov_19.061123\n",
      "NODE_39_length_20875_cov_20.026801\n",
      "NODE_40_length_20734_cov_19.044345\n",
      "NODE_41_length_20288_cov_18.529679\n",
      "NODE_42_length_15334_cov_19.785261\n",
      "NODE_43_length_12111_cov_21.376244\n",
      "NODE_44_length_11895_cov_19.928801\n",
      "NODE_45_length_11546_cov_19.141502\n",
      "NODE_46_length_11431_cov_20.002637\n",
      "NODE_47_length_10915_cov_19.563812\n",
      "NODE_48_length_10632_cov_18.275693\n",
      "NODE_49_length_10502_cov_18.724036\n",
      "NODE_50_length_10294_cov_18.551648\n",
      "NODE_51_length_10074_cov_18.871744\n",
      "NODE_52_length_8778_cov_19.311131\n",
      "NODE_53_length_8598_cov_18.694955\n",
      "NODE_54_length_7619_cov_19.240217\n",
      "NODE_55_length_6767_cov_19.240912\n",
      "NODE_56_length_6384_cov_38.255491\n",
      "NODE_57_length_5165_cov_20.686497\n",
      "NODE_58_length_4876_cov_29.613981\n",
      "NODE_59_length_4627_cov_37.938101\n",
      "NODE_60_length_4581_cov_19.032258\n",
      "NODE_61_length_4513_cov_21.275684\n",
      "NODE_62_length_4259_cov_19.331113\n",
      "NODE_63_length_4225_cov_19.273861\n",
      "NODE_64_length_4208_cov_20.058512\n",
      "NODE_65_length_3988_cov_37.347318\n",
      "NODE_66_length_3984_cov_38.233647\n",
      "NODE_67_length_3615_cov_37.924719\n",
      "NODE_68_length_3363_cov_38.739117\n",
      "NODE_69_length_3121_cov_39.713633\n",
      "NODE_71_length_2895_cov_19.351761\n",
      "NODE_72_length_2795_cov_37.221533\n",
      "NODE_73_length_2746_cov_22.979933\n",
      "NODE_74_length_2617_cov_38.150273\n",
      "NODE_75_length_2581_cov_76.325416\n",
      "NODE_76_length_2357_cov_17.784535\n",
      "NODE_77_length_2185_cov_27.777465\n",
      "NODE_78_length_1973_cov_119.769030\n",
      "NODE_79_length_1894_cov_19.693855\n",
      "NODE_80_length_1796_cov_36.994256\n",
      "NODE_81_length_1787_cov_39.775404\n",
      "NODE_82_length_1781_cov_21.918308\n",
      "NODE_84_length_1608_cov_37.203477\n",
      "NODE_85_length_1503_cov_19.629144\n",
      "NODE_86_length_1368_cov_32.732673\n",
      "NODE_87_length_1346_cov_36.069713\n",
      "NODE_88_length_1230_cov_18.586383\n",
      "NODE_89_length_1175_cov_31.050893\n",
      "NODE_90_length_1143_cov_18.986213\n",
      "NODE_91_length_1123_cov_20.317416\n",
      "NODE_93_length_1054_cov_39.450450\n",
      "NODE_94_length_1050_cov_37.359799\n",
      "NODE_95_length_958_cov_18.779623\n",
      "NODE_96_length_894_cov_38.262217\n",
      "NODE_97_length_818_cov_18.765400\n",
      "NODE_99_length_798_cov_19.065949\n",
      "NODE_100_length_796_cov_17.871795\n",
      "NODE_101_length_756_cov_20.447932\n",
      "NODE_103_length_705_cov_18.853846\n",
      "NODE_105_length_676_cov_18.454106\n",
      "NODE_106_length_613_cov_34.724014\n",
      "NODE_110_length_568_cov_38.641326\n",
      "NODE_111_length_551_cov_15.919355\n",
      "NODE_112_length_550_cov_38.993939\n",
      "NODE_118_length_505_cov_19.173333\n",
      "NODE_119_length_475_cov_110.614286\n",
      "NODE_148_length_266_cov_21.687204\n"
     ]
    }
   ],
   "source": [
    "for v in gene_position[gene_position.SampleID==49]['ContigName']:\n",
    "    print(v)"
   ]
  },
  {
   "cell_type": "code",
   "execution_count": 43,
   "id": "994331b9-453c-4919-9421-8c977795ca72",
   "metadata": {},
   "outputs": [],
   "source": [
    "# gene_position[gene_position.SampleID==49]"
   ]
  },
  {
   "cell_type": "code",
   "execution_count": 13,
   "id": "b0021114-c2b1-4c0a-8e9a-376a81b43cd0",
   "metadata": {},
   "outputs": [],
   "source": [
    "# print(gene_position.ContigName.values)"
   ]
  },
  {
   "cell_type": "code",
   "execution_count": 14,
   "id": "677c3e19-4273-4b50-b7ed-c5732954f326",
   "metadata": {},
   "outputs": [],
   "source": [
    "# gene_position[gene_position.SampleID==0].head(2)"
   ]
  },
  {
   "cell_type": "code",
   "execution_count": 15,
   "id": "c4ec6c84-ff3c-44c5-af96-42b660dff12a",
   "metadata": {},
   "outputs": [],
   "source": [
    "# sort by length of contigs\n",
    "gene_position.sort_values(by=\"GeneSequence\", key=lambda x: x.str.len(),  ascending=False, inplace=True)"
   ]
  },
  {
   "cell_type": "code",
   "execution_count": 16,
   "id": "e6476138-f354-40fc-bbd6-12bf5e37d459",
   "metadata": {},
   "outputs": [
    {
     "name": "stdout",
     "output_type": "stream",
     "text": [
      "List of all samples\n"
     ]
    },
    {
     "data": {
      "text/plain": [
       "array([  0,   1,   2,   3,   4,   5,   6,   7,   8,   9,  10,  11,  12,\n",
       "        13,  14,  15,  16,  17,  18,  19,  20,  21,  22,  23,  24,  25,\n",
       "        26,  27,  28,  29,  30,  31,  32,  33,  34,  35,  36,  37,  38,\n",
       "        39,  40,  41,  42,  43,  44,  45,  46,  47,  48,  49,  50,  51,\n",
       "        52,  53,  54,  55,  56,  57,  58,  59,  60,  61,  62,  63,  64,\n",
       "        65,  66,  67,  68,  69,  70,  71,  72,  73,  74,  75,  76,  77,\n",
       "        78,  79,  80,  81,  82,  83,  84,  85,  86,  87,  88,  89,  90,\n",
       "        91,  92,  93,  94,  95,  96,  97,  98,  99, 100])"
      ]
     },
     "execution_count": 16,
     "metadata": {},
     "output_type": "execute_result"
    }
   ],
   "source": [
    "print(\"List of all samples\")\n",
    "n_samples = len(np.unique(gene_position.iloc[:,0]))\n",
    "np.unique(gene_position.iloc[:,0])"
   ]
  },
  {
   "cell_type": "code",
   "execution_count": 17,
   "id": "aa8a5b19-6a3c-43fe-8a21-7a91b663f513",
   "metadata": {},
   "outputs": [],
   "source": [
    "# ## select some sample\n",
    "# selected_samples = [0, 32]\n",
    "# sample_info = sample_info.loc[sample_info['SampleID'].isin(selected_samples)]\n",
    "# gene_info = gene_info.loc[gene_info['SampleID'].isin(selected_samples)]\n",
    "# gene_position = gene_position.loc[gene_position['SampleID'].isin(selected_samples)]"
   ]
  },
  {
   "cell_type": "markdown",
   "id": "80a662ae-c935-4ffa-ad09-d76bd647bcc7",
   "metadata": {},
   "source": [
    "## Construct pangraph"
   ]
  },
  {
   "cell_type": "code",
   "execution_count": 18,
   "id": "94c34358-518d-4688-aec4-5deb273e230a",
   "metadata": {},
   "outputs": [],
   "source": [
    "%load_ext autoreload\n",
    "%autoreload 2\n",
    "from pangraph import PanGraph"
   ]
  },
  {
   "cell_type": "code",
   "execution_count": 19,
   "id": "b01edd21-f5b6-4efb-9183-34ec46d10921",
   "metadata": {},
   "outputs": [],
   "source": [
    "# construct the pangenome graph\n",
    "# min_contig_len = 100\n",
    "pangraph = PanGraph(sample_info=sample_info, gene_info=gene_info, gene_position=gene_position)"
   ]
  },
  {
   "cell_type": "code",
   "execution_count": 20,
   "id": "fb500d8a-bc52-4dab-be2e-5189670c467e",
   "metadata": {},
   "outputs": [
    {
     "name": "stdout",
     "output_type": "stream",
     "text": [
      "Set minimum on number of nucleotides =  90 NUMBER OF COMPUTED CONTIGS: 462\n",
      "Clip the matrixn 0.2 !!!!!!!!!!!!!!!!!!!!!!!!!!!!!!!!!!\n"
     ]
    }
   ],
   "source": [
    "incomplete_sample_name = \"g1\"\n",
    "incomplete_sample_id = sample_info[sample_info.Name==incomplete_sample_name].iloc[0,1]\n",
    "# H = pangraph.construct_graph(method = \"graph_alignment\", sample_id_ref = None,  min_nucleotides = 90, min_genes = 0, \n",
    "#                             target_genome_id=incomplete_sample_id) # use the same min_contig_len when generate the ground truth\n",
    "H = pangraph.construct_graph(method = \"graph_alignment\", sample_id_ref = 1,  min_nucleotides = 90, min_genes = 0, target_genome_id=incomplete_sample_id) # use the same min_contig_len when generate the ground truth"
   ]
  },
  {
   "cell_type": "code",
   "execution_count": 21,
   "id": "151419b9-875a-48b0-aa49-f731cf3e4114",
   "metadata": {},
   "outputs": [],
   "source": [
    "# nx.write_gml(H,'cytoscape_out/pan_graph.gml')"
   ]
  },
  {
   "cell_type": "code",
   "execution_count": 22,
   "id": "2d34d8b9-55b4-4c8a-a9b4-01ba979c61ce",
   "metadata": {
    "tags": []
   },
   "outputs": [
    {
     "data": {
      "text/plain": [
       "(495308, 4913)"
      ]
     },
     "execution_count": 22,
     "metadata": {},
     "output_type": "execute_result"
    }
   ],
   "source": [
    "# number of nodes and edges\n",
    "pangraph.n_clusters, H.number_of_edges()"
   ]
  },
  {
   "cell_type": "markdown",
   "id": "74dcfe52-f474-4379-8181-b036731ea5cf",
   "metadata": {
    "tags": []
   },
   "source": [
    "## Data analysis"
   ]
  },
  {
   "cell_type": "code",
   "execution_count": 23,
   "id": "97bb03a6-8538-4e1b-a371-4c14d27774f4",
   "metadata": {},
   "outputs": [],
   "source": [
    "from pangraph.utils import append_strand, append_strand_undirected"
   ]
  },
  {
   "cell_type": "code",
   "execution_count": 24,
   "id": "9e2ecfc7-3944-47e2-820b-24677be0b5a8",
   "metadata": {
    "tags": []
   },
   "outputs": [],
   "source": [
    "from pangraph.utils import getContigsAdjacency\n",
    "edge_list_assembly = []\n",
    "undirected_edge_list_assembly = []\n",
    "# for l,r in getContigsAdjacency('/data/hoan/amromics/spades_quast/SAMN04158282/'):\n",
    "for l,r in getContigsAdjacency('/data/hoan/amromics/simulation/art_output/spades_output' + simversion):\n",
    "    # print(\"{} --> {}\".format(l,r))\n",
    "    edge_list_assembly.append((append_strand(l),append_strand(r)))\n",
    "    # undirected_edge_list_assembly.append((append_strand_undirected(l), append_strand_undirected(r)))\n",
    "\n",
    "assembly_graph= nx.DiGraph()\n",
    "assembly_graph.add_edges_from(edge_list_assembly)\n",
    "nx.write_gml(assembly_graph,'/data/hoan/amromics/simulation/art_output/spades_output'+simversion+'/assembly_graph.gml')"
   ]
  },
  {
   "cell_type": "code",
   "execution_count": 25,
   "id": "65d09534-2f6b-4ddf-a043-16b3649c988c",
   "metadata": {
    "tags": []
   },
   "outputs": [
    {
     "data": {
      "text/plain": [
       "51"
      ]
     },
     "execution_count": 25,
     "metadata": {},
     "output_type": "execute_result"
    }
   ],
   "source": [
    "len(list(nx.weakly_connected_components(assembly_graph)))"
   ]
  },
  {
   "cell_type": "code",
   "execution_count": 26,
   "id": "0bb2fec2-90eb-48c4-9d73-6d11aa3c5be4",
   "metadata": {
    "tags": []
   },
   "outputs": [],
   "source": [
    "from pangraph.utils import getContigsAdjacency_v2\n",
    "edge_list_assembly = []\n",
    "undirected_edge_list_assembly = []\n",
    "# for l,r in getContigsAdjacency('/data/hoan/amromics/spades_quast/SAMN04158282/'):\n",
    "for l,r in getContigsAdjacency_v2('/data/hoan/amromics/simulation/art_output/spades_output' + simversion):\n",
    "    # print(\"{} --> {}\".format(l,r))\n",
    "    edge_list_assembly.append((append_strand(l),append_strand(r)))\n",
    "    # undirected_edge_list_assembly.append((append_strand_undirected(l), append_strand_undirected(r)))\n",
    "\n",
    "assembly_graph= nx.DiGraph()\n",
    "assembly_graph.add_edges_from(edge_list_assembly)\n",
    "nx.write_gml(assembly_graph,'/data/hoan/amromics/simulation/art_output/spades_output'+simversion+'/assembly_graph.gml')"
   ]
  },
  {
   "cell_type": "code",
   "execution_count": null,
   "id": "50c5dcff-7149-48a5-a682-7695ef5b1d56",
   "metadata": {
    "tags": []
   },
   "outputs": [],
   "source": []
  },
  {
   "cell_type": "code",
   "execution_count": null,
   "id": "699ec79e-f919-45e8-8a61-778d9efa4584",
   "metadata": {
    "tags": []
   },
   "outputs": [],
   "source": []
  },
  {
   "cell_type": "code",
   "execution_count": null,
   "id": "232bd897-6073-4cee-8fb1-eb4f8ac31b84",
   "metadata": {
    "tags": []
   },
   "outputs": [],
   "source": []
  },
  {
   "cell_type": "code",
   "execution_count": 27,
   "id": "18942ef3-d5af-4c37-9094-3217005ac2c4",
   "metadata": {
    "tags": []
   },
   "outputs": [],
   "source": [
    "from pangraph.utils import buildOverlapEdge\n",
    "from pangraph.utils import read_contigs2dict\n",
    "gene = read_contigs2dict('/data/hoan/amromics/simulation/art_output/spades_output'+simversion+'/contigs.fasta')\n",
    "# edge_list_overlap = buildOverlapEdge(gene, 20)\n",
    "edge_list_overlap = buildOverlapEdge(gene, 20, 'directed')\n",
    "# undirected_edge_list_overlap = buildOverlapEdge(gene, 20, 'undirected')"
   ]
  },
  {
   "cell_type": "code",
   "execution_count": 28,
   "id": "a92ec87d-6d45-4086-8413-a8ed64de083b",
   "metadata": {
    "tags": []
   },
   "outputs": [],
   "source": [
    "# edge_list_overlap"
   ]
  },
  {
   "cell_type": "code",
   "execution_count": 29,
   "id": "dd62607f-9e18-42eb-b6a8-eebed9123746",
   "metadata": {},
   "outputs": [],
   "source": [
    "# print(\"Take union of two graph!!\")\n",
    "edge_list_final = edge_list_overlap + edge_list_assembly\n",
    "# edge_list_final = edge_list_assembly\n",
    "# undirected_edge_list_final =  undirected_edge_list_assembly + undirected_edge_list_overlap"
   ]
  },
  {
   "cell_type": "code",
   "execution_count": 30,
   "id": "ac7dc999-c823-47e7-ac89-12d5d623357e",
   "metadata": {},
   "outputs": [],
   "source": [
    "assembly_graph= nx.DiGraph()\n",
    "assembly_graph.add_edges_from(edge_list_final)\n",
    "# undirected_assembly_graph= nx.Graph()\n",
    "# undirected_assembly_graph.add_edges_from(undirected_edge_list_final)\n",
    "nx.write_gml(assembly_graph,'/data/hoan/amromics/simulation/art_output/spades_output'+simversion+'/overlap_graph.gml')"
   ]
  },
  {
   "cell_type": "code",
   "execution_count": 31,
   "id": "834ec39f-927e-491d-b0f8-7b92e43ff709",
   "metadata": {},
   "outputs": [],
   "source": [
    "L = list(nx.weakly_connected_components(assembly_graph))"
   ]
  },
  {
   "cell_type": "code",
   "execution_count": 32,
   "id": "980db3ea-3ca9-4be2-823a-df1ddaf8f78d",
   "metadata": {},
   "outputs": [
    {
     "data": {
      "text/plain": [
       "1"
      ]
     },
     "execution_count": 32,
     "metadata": {},
     "output_type": "execute_result"
    }
   ],
   "source": [
    "len(L)"
   ]
  },
  {
   "cell_type": "code",
   "execution_count": null,
   "id": "d83bb2d1-f7bf-436b-adbc-0ebc859635da",
   "metadata": {},
   "outputs": [],
   "source": []
  },
  {
   "cell_type": "markdown",
   "id": "602a6c86-9b05-47f5-bfaf-42b22f49ebf8",
   "metadata": {},
   "source": [
    "### Manual checking"
   ]
  },
  {
   "cell_type": "code",
   "execution_count": 33,
   "id": "d1ddd15d-1c59-43c0-b8f7-eae588805406",
   "metadata": {},
   "outputs": [],
   "source": [
    "# for idx in gene_position.iloc[:,1]:\n",
    "#     if idx[:4]=='NODE':\n",
    "#         print(idx, end = ',')"
   ]
  },
  {
   "cell_type": "code",
   "execution_count": 34,
   "id": "46d9dc83-7a9a-4a11-86b8-a105b957e2f9",
   "metadata": {},
   "outputs": [],
   "source": [
    "# # assembly_graph.has_edge('NODE_1_length_360583_cov_9.851928', 'NODE_2_length_327037_cov_9.679695')\n",
    "# node1 = 'NODE_30_length_58501_cov_29.181877+'\n",
    "# node2 = 'NODE_45_length_13325_cov_30.337076-'\n",
    "# source_id = 'C-' + str(pangraph.tail_contig[node1[:-1]])\n",
    "# target_id = 'C-' + str(pangraph.head_contig[node2[:-1]])  \n",
    "# assembly_graph.has_node(node1), assembly_graph.has_node(node2), "
   ]
  },
  {
   "cell_type": "code",
   "execution_count": 35,
   "id": "eb2dba24-9532-4690-9702-0891d52dd11b",
   "metadata": {},
   "outputs": [],
   "source": [
    "# # nx.shortest_path_length(assembly_graph, node1, node2)\n",
    "# # nx.shortest_path_length(H, source_id, target_id)\n",
    "# p = nx.shortest_path(pangraph.H, source=source_id, target=target_id)                           \n",
    "# weight_p = 0.0\n",
    "# for node_p_idx in range(len(p)-1):\n",
    "#     weight_p += pangraph.H[p[node_p_idx]][p[node_p_idx+1]]['weight']\n",
    "# weight_p = 0.05 + weight_p/float(len(p)*(len(p)-1))\n",
    "# weight_p, nx.shortest_path_length(H, source_id, target_id)"
   ]
  },
  {
   "cell_type": "code",
   "execution_count": 36,
   "id": "76921959-c62a-47dc-a1bc-af0425adb888",
   "metadata": {},
   "outputs": [],
   "source": [
    "# nx.shortest_path(assembly_graph, source=node1, target=node2)  "
   ]
  },
  {
   "cell_type": "code",
   "execution_count": 37,
   "id": "a22470c1-fef0-43ad-9508-fa1dc0071179",
   "metadata": {},
   "outputs": [],
   "source": [
    "# list(assembly_graph.nodes)[0:4]"
   ]
  },
  {
   "cell_type": "code",
   "execution_count": 38,
   "id": "acabcf9d-5939-4030-b3da-b4d9a618dfbb",
   "metadata": {},
   "outputs": [],
   "source": [
    "# df = pd.read_csv(\"/data/hoan/amromics/simulation/contigs100vsref_mapping_v01.paf\", sep =\"\\t\", header=None)\n",
    "# final_df0 = df.sort_values(by=[7])\n",
    "# final_df = final_df0.loc[final_df0[1] >= 3000]\n",
    "# sum_len = 0\n",
    "# for i in range(len(final_df.index)-1):\n",
    "#     if final_df.iloc[i,1] > 1000:\n",
    "#         node1 = final_df.iloc[i,0]\n",
    "#         node2 = final_df.iloc[i+1,0]\n",
    "#         print(node1, node2)\n",
    "#         source_id = 'C-' + str(pangraph.tail_contig[node1])\n",
    "#         target_id = 'C-' + str(pangraph.head_contig[node2]) \n",
    "#         source_node = node1 + pangraph.strand[node1]\n",
    "#         target_node = node2 + pangraph.strand[node2]\n",
    "#         print(nx.has_path(pangraph.H, source_id, target_id), end = ':')\n",
    "#         if assembly_graph.has_node(source_node) and assembly_graph.has_node(target_node):\n",
    "#             print(nx.has_path(assembly_graph, source_node, target_node), end = ',')   \n",
    "#         if nx.has_path(pangraph.H, source_id, target_id) or nx.has_path(assembly_graph, source_node, target_node):\n",
    "#             sum_len += int(final_df.iloc[i,1])\n",
    "#             print(sum_len, end='')\n",
    "#         else:\n",
    "#             print(\"Restart............................................\")\n",
    "#             sum_len = 0\n",
    "#         print('\\n-------------------------------------------------------------------')"
   ]
  },
  {
   "cell_type": "code",
   "execution_count": 39,
   "id": "44928fd3-652e-4271-8dfa-3a863c4991b9",
   "metadata": {},
   "outputs": [],
   "source": [
    "# assembly_graph.has_node('NODE_37_length_15953_cov_15.514028+')"
   ]
  },
  {
   "cell_type": "markdown",
   "id": "50bb8fe1-7450-4706-9ebd-641c085efc64",
   "metadata": {},
   "source": [
    "### Running the method"
   ]
  },
  {
   "cell_type": "code",
   "execution_count": 40,
   "id": "17f3a38b-e04d-49e0-abea-744310bcc7cb",
   "metadata": {
    "tags": []
   },
   "outputs": [],
   "source": [
    "# graph_use = undirected_assembly_graph if graph_type=='undirected' else assembly_graph\n",
    "# method = weight_path_assembly: less contigs, more strict condition on adding two nodes\n",
    "# maximum_matching = (greedy, opt), opt: optimal \n",
    "## Max_length: should define in term of nucliotides.\n",
    "params = {'method': 'weight_path_assembly_v2', 'assembly_graph': assembly_graph, 'max_length': 5, 'maximum_matching': 'opt', 'graph':'directed', \n",
    "          'max_length_nucleotides': 8000}\n",
    "# params = {'method': 'weight_path_assembly_v2', 'assembly_graph': graph_use, 'max_length': 5, 'maximum_matching': 'greedy', 'graph':'directed'}"
   ]
  },
  {
   "cell_type": "code",
   "execution_count": 41,
   "id": "2ab08c3e-5aef-488f-b497-ad7f2e7de006",
   "metadata": {
    "tags": []
   },
   "outputs": [
    {
     "name": "stdout",
     "output_type": "stream",
     "text": [
      "Reduce the cost by 1/2 if there is no path in the assembly graph\n",
      "Reduce the cost by 1/2 if there is no path in the assembly graph\n",
      "Compute maximum matching\n"
     ]
    }
   ],
   "source": [
    "# contig_graph = pangraph.join_contig(sample_id=incomplete_sample_id, min_weight=1.0, method=\"edge_weight\")\n",
    "# contig_graph = pangraph.join_contig(sample_id=incomplete_sample_id, min_weight=1.0, method=\"weight_path\")\n",
    "# contig_graph = pangraph.remove_cycle(assembly_graph)\n",
    "# contig_graph = pangraph.join_contig(sample_id=incomplete_sample_id, min_weight=1.0, method=\"weight_path_assembly\", assembly_graph=assembly_graph, max_length=5)\n",
    "contig_graph = pangraph.join_contig(sample_id=incomplete_sample_id, min_weight=1.0, params=params)\n",
    "contig_graph = pangraph.remove_cycle(assembly_graph)\n",
    "nx.write_gml(contig_graph,'cytoscape_out/contig_graph.gml')\n",
    "nx.write_gml(contig_graph,'/data/hoan/amromics/simulation/art_output/spades_output'+simversion+'/contig_graph.gml')"
   ]
  },
  {
   "cell_type": "code",
   "execution_count": 42,
   "id": "75af960e-ea4e-4eeb-b4c5-5ae32772a5ce",
   "metadata": {},
   "outputs": [
    {
     "data": {
      "text/plain": [
       "[]"
      ]
     },
     "execution_count": 42,
     "metadata": {},
     "output_type": "execute_result"
    }
   ],
   "source": [
    "list(nx.simple_cycles(contig_graph))"
   ]
  },
  {
   "cell_type": "code",
   "execution_count": 43,
   "id": "2640bc73-243e-40bc-a41d-5da99bcab138",
   "metadata": {},
   "outputs": [
    {
     "data": {
      "image/png": "[encoded data removed]",
      "text/plain": [
       "<Figure size 960x640 with 1 Axes>"
      ]
     },
     "metadata": {},
     "output_type": "display_data"
    }
   ],
   "source": [
    "from matplotlib.pyplot import figure\n",
    "figure(figsize=(12, 8), dpi=80)\n",
    "nx.draw_networkx(contig_graph, arrows=True, with_labels=False)"
   ]
  },
  {
   "cell_type": "code",
   "execution_count": 44,
   "id": "a28f0d7e-5b15-4e87-897f-8bd84eba0518",
   "metadata": {},
   "outputs": [],
   "source": [
    "indegree_dict = dict(contig_graph.in_degree())\n",
    "# indegree_dict"
   ]
  },
  {
   "cell_type": "code",
   "execution_count": 45,
   "id": "e63163c2-ad0e-454f-8ec5-6b7b6e605b2e",
   "metadata": {},
   "outputs": [],
   "source": [
    "adj_list = {}\n",
    "for source_node_key in indegree_dict:\n",
    "    if indegree_dict[source_node_key] == 0:\n",
    "        adj_list[source_node_key] = []\n",
    "        next_neighbor_temp = source_node_key\n",
    "        while(1):\n",
    "            next_neighbor_temp = list(contig_graph.neighbors(next_neighbor_temp))\n",
    "            if len(next_neighbor_temp) > 0:\n",
    "                next_neighbor_temp = next_neighbor_temp[0]\n",
    "                adj_list[source_node_key].append(next_neighbor_temp)\n",
    "            else:\n",
    "                break;"
   ]
  },
  {
   "cell_type": "code",
   "execution_count": 46,
   "id": "60b06ca0-070f-4d79-971c-a879166a6621",
   "metadata": {},
   "outputs": [],
   "source": [
    "# adj_list"
   ]
  },
  {
   "cell_type": "code",
   "execution_count": 47,
   "id": "cb7b41a7-9574-4164-8885-f0d542f7f908",
   "metadata": {},
   "outputs": [],
   "source": [
    "# list(gene_position.ContigName)"
   ]
  },
  {
   "cell_type": "code",
   "execution_count": 48,
   "id": "6724c7dd-d822-4008-b924-afaa78b9854d",
   "metadata": {},
   "outputs": [],
   "source": [
    "# pangraph.gene2cluster_dict['FHLJBAOL_00001_0_1@390@+']"
   ]
  },
  {
   "cell_type": "code",
   "execution_count": 49,
   "id": "fc65e912-e21a-49db-ae03-f50ff108f580",
   "metadata": {},
   "outputs": [],
   "source": [
    "def flatten(l):\n",
    "    if len(l) == 1:\n",
    "        return l[0]\n",
    "    else:\n",
    "        return [item for sublist in l for item in sublist]\n",
    "def remove_duplicate(your_list):\n",
    "    return ([v for i, v in enumerate(your_list) if i == 0 or v != your_list[i-1]])"
   ]
  },
  {
   "cell_type": "code",
   "execution_count": 50,
   "id": "e630aeaf-d31a-4514-9d3b-2adc788337b7",
   "metadata": {},
   "outputs": [
    {
     "name": "stdout",
     "output_type": "stream",
     "text": [
      "Will test this, Ok?\n",
      "Will test this, Ok?\n"
     ]
    }
   ],
   "source": [
    "## neu ko la adjacent thi bat dau bang contigs moi.\n",
    "adj_list_assembly = {}\n",
    "for key in adj_list:\n",
    "    new_key = key\n",
    "    path1 = adj_list[key].copy()\n",
    "    path1.insert(0, key)\n",
    "    path2 = [new_key + pangraph.strand[new_key]]\n",
    "    for i in range(len(path1)-1):\n",
    "        src = path1[i] + pangraph.strand[path1[i]]\n",
    "        dst = path1[i+1] + pangraph.strand[path1[i+1]]\n",
    "        if not assembly_graph.has_node(src):\n",
    "            path2.append(src)\n",
    "        elif not assembly_graph.has_node(dst):\n",
    "            path2.append(src)\n",
    "            continue\n",
    "        else:\n",
    "            # print(\"Hi, I am here\")\n",
    "            if nx.has_path(assembly_graph, src, dst):\n",
    "                paths = [p for p in nx.all_shortest_paths(assembly_graph, src, dst)]\n",
    "                for node in paths[-1]:\n",
    "                    path2.append(node)\n",
    "                # paths = list(nx.all_simple_paths(assembly_graph, source=src, target=dst, cutoff=12))\n",
    "                # max_path_id = 0\n",
    "                # for idx in range(1, len(paths)):\n",
    "                #     if len(paths[idx]) > len(paths[max_path_id]):\n",
    "                #         max_path_id = idx\n",
    "                # for node in paths[max_path_id]:\n",
    "                #     path2.append(node)\n",
    "            else:\n",
    "                # print(src, dst,\"___\", paths[0])    \n",
    "                path2.append(src)       \n",
    "                print(\"Will test this, Ok?\")\n",
    "                # # construct a new path if they are disconnected on the graph\n",
    "                # if len(path2) > 0:\n",
    "                #     adj_list_assembly[new_key+pangraph.strand[new_key]] = remove_duplicate(path2)\n",
    "                # new_key = dst[0:-1]\n",
    "                # path2 = []           \n",
    "    if dst not in path2:\n",
    "        # print(path2)\n",
    "        path2.append(dst)\n",
    "    if len(path2) > 0:\n",
    "        adj_list_assembly[new_key+pangraph.strand[new_key]] = remove_duplicate(path2)"
   ]
  },
  {
   "cell_type": "code",
   "execution_count": 51,
   "id": "19c9985a-1c6b-42b2-8c93-af5e634da3d6",
   "metadata": {},
   "outputs": [],
   "source": [
    "# adj_list"
   ]
  },
  {
   "cell_type": "code",
   "execution_count": 52,
   "id": "5190296d-b330-408b-b20c-add287b1f129",
   "metadata": {},
   "outputs": [
    {
     "name": "stdout",
     "output_type": "stream",
     "text": [
      "74_+,79_+,90_-,103-,\n",
      "15_-,21_-,34_+,65_+,\n",
      "89_-,119-,135+,68_-,83_-,110-,241-,97_-,246-,39_-,46_+,48_-,120-,\n",
      "3_l+,24_-,32_-,42_-,47_-,56_-,302-,35_-,113-,127-,38_-,\n",
      "5_l-,27_+,6_l+,86_-,8_l-,33_+,55_+,54_+,63_+,377+,11_+,29_-,98_-,100+,28_+,116+,127-,45_-,99_-,319+,25_+,53_-,69_+,80_+,111-,149-,136-,16_-,117-,124+,57_-,71_-,75_-,77_-,91_-,96_-,143-,100-,69_-,\n",
      "78_+,121-,226+,61_+,170+,18_+,114+,4_l-,41_+,\n",
      "12_-,26_-,13_-,89_+,10_+,14_+,43_+,52_+,\n",
      "64_+,327+,20_+,\n",
      "37_+,294+,7_l-,60_-,82_+,85_-,\n",
      "22_+,62_-,104-,84_-,87_-,94_-,73_-,136-,49_-,59_-,66_-,70_+,72_-,\n",
      "9_l+,106-,413-,88_-,92_-,95_-,108-,101-,102-,105-,112-,377+,1_l+,76_-,\n",
      "40_+,217+,30_-,51_+,377+,17_+,93_-,352+,36_+,2_l-,31_+,377+,23_-,58_-,67_-,126-,50_-,\n",
      "81_-,99_+,19_-,\n"
     ]
    }
   ],
   "source": [
    "# adj_list_assembly\n",
    "for key in adj_list_assembly:\n",
    "    for elem in adj_list_assembly[key]:\n",
    "        print(elem[5:8], end='')\n",
    "        print(elem[-1], end=',')\n",
    "    print('')"
   ]
  },
  {
   "cell_type": "code",
   "execution_count": 53,
   "id": "0465f2c9-861a-421f-8d25-1c602648ed67",
   "metadata": {},
   "outputs": [],
   "source": [
    "# adj_list_assembly"
   ]
  },
  {
   "cell_type": "code",
   "execution_count": 54,
   "id": "b1a3b486-bfb2-46dc-b477-8d661da682b6",
   "metadata": {},
   "outputs": [],
   "source": [
    "from pangraph.utils import generate_fasta_from_dict\n",
    "# gene_origin = generate_fasta_from_dict(gene, adj_list_assembly, 'all')\n",
    "gene_origin = generate_fasta_from_dict(gene, adj_list_assembly, 'partial')"
   ]
  },
  {
   "cell_type": "code",
   "execution_count": 55,
   "id": "b45929fb-e610-4ca0-84d0-f6aa88d4c6ca",
   "metadata": {},
   "outputs": [],
   "source": [
    "# for key in gene_origin:\n",
    "#     print(key)"
   ]
  },
  {
   "cell_type": "code",
   "execution_count": 56,
   "id": "b0ab4076-c66c-4d11-9bbb-c566591b6f1b",
   "metadata": {},
   "outputs": [],
   "source": [
    "# adj_list_assembly"
   ]
  },
  {
   "cell_type": "code",
   "execution_count": 57,
   "id": "cb8730a6-bcf3-4497-8054-40c234525a1b",
   "metadata": {},
   "outputs": [],
   "source": [
    "# for key in gene_origin:\n",
    "#     print(key)"
   ]
  },
  {
   "cell_type": "code",
   "execution_count": 58,
   "id": "804b50cc-6ac6-44b5-a99d-ed379615a170",
   "metadata": {},
   "outputs": [],
   "source": [
    "# gene_subset = {'key': gene_origin['NODE_42_length_31236_cov_19.001219']}\n",
    "# gene_subset = {'key': gene_origin['NODE_13_length_181283_cov_16.175556'] + gene_origin['NODE_18_length_129509_cov_16.103824']+ \n",
    "#                gene_origin['NODE_30_length_36239_cov_15.760523']+ gene_origin['NODE_44_length_1445_cov_94.411988'] + \n",
    "#                gene_origin['NODE_33_length_31380_cov_15.396410']+ gene_origin['NODE_9_length_214478_cov_15.967838']}"
   ]
  },
  {
   "cell_type": "code",
   "execution_count": 59,
   "id": "1b1d9cad-9698-4f84-bdd7-2abb22379aae",
   "metadata": {},
   "outputs": [
    {
     "name": "stdout",
     "output_type": "stream",
     "text": [
      "Success! File written\n",
      "/data/hoan/amromics/simulation/art_output/spades_output_Ecoli100random_plasmid_v01/contigs_concat_new.fasta\n"
     ]
    }
   ],
   "source": [
    "# write_fasta(gene_origin, \"/data/hoan/amromics/simulation/art_output/spades_output/contigs_concat_weight_path.fasta\")\n",
    "# write_fasta(gene_origin, \"/data/hoan/amromics/simulation/art_output/spades_output/contigs_concat.fasta\")\n",
    "spades_output = '/data/hoan/amromics/simulation/art_output/spades_output'+simversion+'/contigs.fasta'\n",
    "gr_output_union_opt = '/data/hoan/amromics/simulation/art_output/spades_output'+simversion+'/contigs_concat.fasta'\n",
    "gr_output_union_greedy = '/data/hoan/amromics/simulation/art_output/spades_output'+simversion+'/contigs_concat_greedy.fasta'\n",
    "gr_output_new = '/data/hoan/amromics/simulation/art_output/spades_output'+simversion+'/contigs_concat_new.fasta'\n",
    "output_dir = gr_output_new\n",
    "# write_fasta(gene_subset, output_dir)\n",
    "write_fasta(gene_origin, output_dir)\n",
    "print(output_dir)"
   ]
  },
  {
   "cell_type": "markdown",
   "id": "bc00d326-cfc1-444e-bf1c-3ad37e035984",
   "metadata": {},
   "source": [
    "### Quast "
   ]
  },
  {
   "cell_type": "code",
   "execution_count": 60,
   "id": "728448a9-011f-4038-b3ad-ff127b94e2c0",
   "metadata": {},
   "outputs": [
    {
     "name": "stdout",
     "output_type": "stream",
     "text": [
      "/data/hoan/amromics/spades_quast/quast-5.2.0/quast.py /data/hoan/amromics/simulation/art_output/spades_output_Ecoli100random_plasmid_v01/contigs_concat_new.fasta -l Pangraph -r /data/hoan/amromics/simulation/references/GCF_000240185.1_ASM24018v2_genomic.fasta -o /data/hoan/amromics/genome-graph/scaffold_output/quastResults_Kp100random_v01 --silent --extensive-mis-size 5000 --local-mis-size 3000\n",
      "\n",
      "\n",
      "System information:\n",
      "  OS: Linux-3.10.0-1160.15.2.el7.x86_64-x86_64-with-redhat-7.9-Nitrogen (linux_64)\n",
      "  Python version: 2.7.5\n",
      "  CPUs number: 72\n",
      "\n",
      "Started: 2022-12-22 07:18:05\n",
      "\n",
      "Logging to /data/hoan/amromics/genome-graph/scaffold_output/quastResults_Kp100random_v01/quast.log\n",
      "NOTICE: Output directory already exists and looks like a QUAST output dir. Existing results can be reused (e.g. previously generated alignments)!\n",
      "NOTICE: Maximum number of threads is set to 18 (use --threads option to set it manually)\n",
      "\n",
      "CWD: /data/hoan/amromics/genome-graph\n",
      "Main parameters: \n",
      "  MODE: default, threads: 18, min contig length: 500, min alignment length: 65, min alignment IDY: 95.0, \\\n",
      "  ambiguity: one, min local misassembly length: 3000, min extensive misassembly length: 5000\n",
      "\n",
      "Reference:\n",
      "  /data/hoan/amromics/simulation/references/GCF_000240185.1_ASM24018v2_genomic.fasta ==> GCF_000240185.1_ASM24018v2_genomic\n",
      "\n",
      "Contigs:\n",
      "  Pre-processing...\n",
      "  /data/hoan/amromics/simulation/art_output/spades_output_Ecoli100random_plasmid_v01/contigs_concat_new.fasta ==> Pangraph\n",
      "\n",
      "2022-12-22 07:18:05\n",
      "Running Basic statistics processor...\n"
     ]
    },
    {
     "name": "stderr",
     "output_type": "stream",
     "text": [
      "Unable to parse the pattern\n",
      "Unable to parse the pattern\n",
      "Unable to parse the pattern\n"
     ]
    },
    {
     "name": "stdout",
     "output_type": "stream",
     "text": [
      "Done.\n",
      "\n",
      "2022-12-22 07:18:07\n",
      "Running Contig analyzer...\n",
      "Done.\n",
      "\n",
      "2022-12-22 07:18:10\n",
      "Running NA-NGA calculation...\n",
      "Done.\n",
      "\n",
      "2022-12-22 07:18:10\n",
      "Running Genome analyzer...\n",
      "  NOTICE: No file with genomic features were provided. Use the --features option if you want to specify it.\n",
      "\n",
      "  NOTICE: No file with operons were provided. Use the -O option if you want to specify it.\n",
      "Done.\n",
      "\n",
      "NOTICE: Genes are not predicted by default. Use --gene-finding or --glimmer option to enable it.\n",
      "\n",
      "2022-12-22 07:18:11\n",
      "Creating large visual summaries...\n",
      "This may take a while: press Ctrl-C to skip this step..\n",
      "  1 of 2: Creating PDF with all tables and plots...\n",
      "  2 of 2: Creating Icarus viewers...\n",
      "Done\n",
      "\n",
      "2022-12-22 07:18:13\n",
      "RESULTS:\n",
      "  Text versions of total report are saved to /data/hoan/amromics/genome-graph/scaffold_output/quastResults_Kp100random_v01/report.txt, report.tsv, and report.tex\n",
      "  Text versions of transposed total report are saved to /data/hoan/amromics/genome-graph/scaffold_output/quastResults_Kp100random_v01/transposed_report.txt, transposed_report.tsv, and transposed_report.tex\n",
      "  PDF version (tables and plots) is saved to /data/hoan/amromics/genome-graph/scaffold_output/quastResults_Kp100random_v01/report.pdf\n",
      "  Icarus (contig browser) is saved to /data/hoan/amromics/genome-graph/scaffold_output/quastResults_Kp100random_v01/icarus.html\n",
      "  Log is saved to /data/hoan/amromics/genome-graph/scaffold_output/quastResults_Kp100random_v01/quast.log\n",
      "\n",
      "Finished: 2022-12-22 07:18:13\n",
      "Elapsed time: 0:00:08.086829\n",
      "NOTICEs: 5; WARNINGs: 0; non-fatal ERRORs: 0\n",
      "\n",
      "Thank you for using QUAST!\n"
     ]
    }
   ],
   "source": [
    "if True:\n",
    "    quast_bin = 'python /data/hoan/amromics/spades_quast/quast-5.2.0/quast.py '\n",
    "    quast_output = '/data/hoan/amromics/genome-graph/scaffold_output/quastResults_Kp100random_v01'\n",
    "    ref_genome = '/data/hoan/amromics/simulation/references/GCF_000240185.1_ASM24018v2_genomic.fasta'\n",
    "    # multicsar_output = '/data/hoan/amromics/genome-graph/scaffold_output/multicsar/multi-csar.nuc.out.fna '\n",
    "    # ragout_output = '/data/hoan/amromics/assembly/Ragout/output_Kp100p_v3/mg1655_scaffolds.fasta '\n",
    "    # os.system(quast_bin + gr_output_union_opt+' '+ gr_output_union_greedy+' '+ gr_output_new+' ' + multicsar_output+ ragout_output+ spades_output+' '+\n",
    "              # '-l \"Pangraph_OPT, Pangraph_Greedy, Pangraph_New, Multi-CSAR, Ragout, SPADES\" '+ '-r '+ref_genome+' -o '+ quast_output+' --silent --extensive-mis-size 5000 --local-mis-size 3000')\n",
    "    os.system(quast_bin +  gr_output_new + ' '+\n",
    "    '-l \"Pangraph\" '+ '-r '+ref_genome+' -o '+ quast_output+' --silent --extensive-mis-size 5000 --local-mis-size 3000')"
   ]
  },
  {
   "cell_type": "code",
   "execution_count": 61,
   "id": "59bf4ba8-7014-4eaa-95e1-5ddefbaeda1d",
   "metadata": {},
   "outputs": [],
   "source": [
    "a = []"
   ]
  },
  {
   "cell_type": "code",
   "execution_count": 62,
   "id": "3938b425-33d8-4eac-b439-a645f84f6669",
   "metadata": {},
   "outputs": [],
   "source": [
    "from difflib import SequenceMatcher\n",
    "def similar(a, b):\n",
    "    return SequenceMatcher(None, a, b).ratio()"
   ]
  },
  {
   "cell_type": "code",
   "execution_count": 63,
   "id": "3e516029-6c9b-4ecb-ab9c-e9808fb94b55",
   "metadata": {},
   "outputs": [
    {
     "data": {
      "text/plain": [
       "0.8888888888888888"
      ]
     },
     "execution_count": 63,
     "metadata": {},
     "output_type": "execute_result"
    }
   ],
   "source": [
    "similar(\"12_43_5_6\",\"12_43_5_9\")"
   ]
  },
  {
   "cell_type": "code",
   "execution_count": null,
   "id": "b382212c-41f3-45e2-9881-4f84f488232b",
   "metadata": {},
   "outputs": [],
   "source": []
  }
 ],
 "metadata": {
  "kernelspec": {
   "display_name": "Environment (panta)",
   "language": "python",
   "name": "panta"
  },
  "language_info": {
   "codemirror_mode": {
    "name": "ipython",
    "version": 3
   },
   "file_extension": ".py",
   "mimetype": "text/x-python",
   "name": "python",
   "nbconvert_exporter": "python",
   "pygments_lexer": "ipython3",
   "version": "3.7.10"
  }
 },
 "nbformat": 4,
 "nbformat_minor": 5
}
