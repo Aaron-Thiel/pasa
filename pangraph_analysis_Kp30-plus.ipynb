{
 "cells": [
  {
   "cell_type": "markdown",
   "id": "d34faca0-8280-48bc-8d17-9313a5adb8a7",
   "metadata": {},
   "source": [
    "### Make a copy of this note if you want to analyze "
   ]
  },
  {
   "cell_type": "markdown",
   "id": "691b1159-9546-439f-9359-9d1aaa3bd0ab",
   "metadata": {},
   "source": [
    "#### Please run panta first to get gene clusters and other output files for this analysis"
   ]
  },
  {
   "cell_type": "code",
   "execution_count": 1,
   "id": "b41e572e-588f-4799-998b-c898021a0d8a",
   "metadata": {},
   "outputs": [],
   "source": [
    "## Don't use this anymore: starting using scaffolding_workflow.ipynb"
   ]
  },
  {
   "cell_type": "code",
   "execution_count": 1,
   "id": "eecd36a8-a6cb-4ced-96b7-e5780c85c80e",
   "metadata": {},
   "outputs": [],
   "source": [
    "import pandas as pd\n",
    "from scipy.sparse import csr_matrix\n",
    "import numpy as np\n",
    "import networkx as nx\n",
    "import matplotlib.pyplot as plt\n",
    "import math\n",
    "import sys, re\n",
    "from pangraph.utils import write_fasta\n",
    "from networkx import NetworkXNoPath\n",
    "import os\n",
    "from pangraph.utils import overlap, reverse_complement"
   ]
  },
  {
   "cell_type": "code",
   "execution_count": 2,
   "id": "22dc2b45-1381-4c12-bfbe-ef08e2d23773",
   "metadata": {},
   "outputs": [],
   "source": [
    "def max_common_subsequene(a, b):\n",
    "    result = np.zeros((len(a), len(b)))\n",
    "    max_value = 0; best_max = 0\n",
    "    for i in range(len(a)):\n",
    "        for j in range(len(b)):\n",
    "            if (a[i]==b[j]):\n",
    "                result[i,j] = result[i-1,j-1]+1 #remember to initialize the borders with zeros\n",
    "            else:\n",
    "                result[i,j]=0\n",
    "    print(np.amax(result))"
   ]
  },
  {
   "cell_type": "code",
   "execution_count": 4,
   "id": "ac52622f-3e0b-4ee1-b7d3-00dafd97705c",
   "metadata": {},
   "outputs": [],
   "source": [
    "# simversion = '_v3'\n",
    "# simversion = '_Kp100random_v01'\n",
    "# simversion = '_Kp500random_v03'\n",
    "simversion = '_Ecoli100random_plasmid_v01'"
   ]
  },
  {
   "cell_type": "code",
   "execution_count": 11,
   "id": "6eaa8d8d-e9c0-4926-ab5c-416b3c95985d",
   "metadata": {},
   "outputs": [],
   "source": [
    "# data_dir = \"../panta/examples/test/output/\"\n",
    "# data_dir = \"data/genome_graph_test/\"\n",
    "# you can take the data in the directory: data/genome_graph_test\n",
    "# data_dir = \"../panta/examples/test/output_Kp30plus1/\"\n",
    "# data_dir = \"../panta/examples/test/output_Kp100/\"\n",
    "# data_dir = '/data/hoan/amromics/panta/examples/test/output_Kp100_v3/'\n",
    "# data_dir = '/data/hoan/amromics/panta/examples/test/output_Kp100random_v01/'\n",
    "# data_dir = '/data/hoan/amromics/panta/examples/test/output_Kp500random_v03/'\n",
    "data_dir = '/data/hoan/amromics/panta/examples/test/output_Ecoli100random_plasmid_v01/'\n",
    "# data_dir = \"../panta/examples/test/output_Kp30mix_nosplitparalog/\"\n",
    "# data_dir = \"../panta/examples/test/output_Kp500mix/\"\n",
    "# data_dir = \"/data/hoan/amromics/simulation/art_output/spades_output/panta_output/\""
   ]
  },
  {
   "cell_type": "code",
   "execution_count": 12,
   "id": "a2587591-3df1-4ecb-bd4c-aa66f8a78faa",
   "metadata": {},
   "outputs": [],
   "source": [
    "sample_info = pd.read_csv(data_dir + \"samples.tsv\", delimiter='\\t', header=None)\n",
    "sample_info.columns = ['Name', 'SampleID']"
   ]
  },
  {
   "cell_type": "code",
   "execution_count": 13,
   "id": "e0d0b2c1-2d49-4ebf-9a26-b7984cc43b9c",
   "metadata": {},
   "outputs": [
    {
     "data": {
      "text/html": [
       "<div>\n",
       "<style scoped>\n",
       "    .dataframe tbody tr th:only-of-type {\n",
       "        vertical-align: middle;\n",
       "    }\n",
       "\n",
       "    .dataframe tbody tr th {\n",
       "        vertical-align: top;\n",
       "    }\n",
       "\n",
       "    .dataframe thead th {\n",
       "        text-align: right;\n",
       "    }\n",
       "</style>\n",
       "<table border=\"1\" class=\"dataframe\">\n",
       "  <thead>\n",
       "    <tr style=\"text-align: right;\">\n",
       "      <th></th>\n",
       "      <th>Name</th>\n",
       "      <th>SampleID</th>\n",
       "    </tr>\n",
       "  </thead>\n",
       "  <tbody>\n",
       "    <tr>\n",
       "      <th>0</th>\n",
       "      <td>GCF_000010245.2_ASM1024v1_genomic</td>\n",
       "      <td>1</td>\n",
       "    </tr>\n",
       "    <tr>\n",
       "      <th>1</th>\n",
       "      <td>GCF_000493755.1_ASM49375v1_genomic</td>\n",
       "      <td>2</td>\n",
       "    </tr>\n",
       "  </tbody>\n",
       "</table>\n",
       "</div>"
      ],
      "text/plain": [
       "                                 Name  SampleID\n",
       "0   GCF_000010245.2_ASM1024v1_genomic         1\n",
       "1  GCF_000493755.1_ASM49375v1_genomic         2"
      ]
     },
     "execution_count": 13,
     "metadata": {},
     "output_type": "execute_result"
    }
   ],
   "source": [
    "sample_info.head(2)"
   ]
  },
  {
   "cell_type": "code",
   "execution_count": 14,
   "id": "70d23a27-f778-498c-af2e-924f086c7ee2",
   "metadata": {},
   "outputs": [],
   "source": [
    "gene_info = pd.read_csv(data_dir + \"gene_info.tsv\", delimiter='\\t', header=None)\n",
    "gene_info.columns =['GeneName', 'SampleID', 'clusterID']"
   ]
  },
  {
   "cell_type": "code",
   "execution_count": 15,
   "id": "59e91fd6-8181-484c-8ff4-e7a27fab5834",
   "metadata": {},
   "outputs": [
    {
     "data": {
      "text/html": [
       "<div>\n",
       "<style scoped>\n",
       "    .dataframe tbody tr th:only-of-type {\n",
       "        vertical-align: middle;\n",
       "    }\n",
       "\n",
       "    .dataframe tbody tr th {\n",
       "        vertical-align: top;\n",
       "    }\n",
       "\n",
       "    .dataframe thead th {\n",
       "        text-align: right;\n",
       "    }\n",
       "</style>\n",
       "<table border=\"1\" class=\"dataframe\">\n",
       "  <thead>\n",
       "    <tr style=\"text-align: right;\">\n",
       "      <th></th>\n",
       "      <th>GeneName</th>\n",
       "      <th>SampleID</th>\n",
       "      <th>clusterID</th>\n",
       "    </tr>\n",
       "  </thead>\n",
       "  <tbody>\n",
       "    <tr>\n",
       "      <th>0</th>\n",
       "      <td>79_2248@1398@1</td>\n",
       "      <td>79</td>\n",
       "      <td>0</td>\n",
       "    </tr>\n",
       "    <tr>\n",
       "      <th>1</th>\n",
       "      <td>9_5229@1827@1</td>\n",
       "      <td>9</td>\n",
       "      <td>0</td>\n",
       "    </tr>\n",
       "  </tbody>\n",
       "</table>\n",
       "</div>"
      ],
      "text/plain": [
       "         GeneName  SampleID  clusterID\n",
       "0  79_2248@1398@1        79          0\n",
       "1   9_5229@1827@1         9          0"
      ]
     },
     "execution_count": 15,
     "metadata": {},
     "output_type": "execute_result"
    }
   ],
   "source": [
    "gene_info.head(2)"
   ]
  },
  {
   "cell_type": "code",
   "execution_count": 16,
   "id": "f90af87c-8222-4ee0-a57f-437d13332f04",
   "metadata": {},
   "outputs": [],
   "source": [
    "# for i in range(5000):\n",
    "#     print(sum(gene_info.clusterID==0), end =\",\")"
   ]
  },
  {
   "cell_type": "code",
   "execution_count": 17,
   "id": "371f088c-523a-46ba-a653-a258dfe950b4",
   "metadata": {},
   "outputs": [],
   "source": [
    "gene_position = pd.read_csv(data_dir + 'gene_position.tsv', delimiter='\\t', header=None)\n",
    "gene_position.columns =['SampleID', 'ContigName', 'GeneSequence']"
   ]
  },
  {
   "cell_type": "code",
   "execution_count": 18,
   "id": "909dc83b-e14f-467e-a763-a71704be031b",
   "metadata": {},
   "outputs": [
    {
     "data": {
      "text/html": [
       "<div>\n",
       "<style scoped>\n",
       "    .dataframe tbody tr th:only-of-type {\n",
       "        vertical-align: middle;\n",
       "    }\n",
       "\n",
       "    .dataframe tbody tr th {\n",
       "        vertical-align: top;\n",
       "    }\n",
       "\n",
       "    .dataframe thead th {\n",
       "        text-align: right;\n",
       "    }\n",
       "</style>\n",
       "<table border=\"1\" class=\"dataframe\">\n",
       "  <thead>\n",
       "    <tr style=\"text-align: right;\">\n",
       "      <th></th>\n",
       "      <th>SampleID</th>\n",
       "      <th>ContigName</th>\n",
       "      <th>GeneSequence</th>\n",
       "    </tr>\n",
       "  </thead>\n",
       "  <tbody>\n",
       "    <tr>\n",
       "      <th>344</th>\n",
       "      <td>0</td>\n",
       "      <td>NODE_1_length_393555_cov_18.785766</td>\n",
       "      <td>0_1@1008@-1;0_2@1167@-1;0_3@555@-1;0_4@891@-1;...</td>\n",
       "    </tr>\n",
       "    <tr>\n",
       "      <th>345</th>\n",
       "      <td>0</td>\n",
       "      <td>NODE_2_length_311895_cov_18.769561</td>\n",
       "      <td>0_343@1359@-1;0_344@2424@1;0_345@2019@1;0_346@...</td>\n",
       "    </tr>\n",
       "  </tbody>\n",
       "</table>\n",
       "</div>"
      ],
      "text/plain": [
       "     SampleID                          ContigName  \\\n",
       "344         0  NODE_1_length_393555_cov_18.785766   \n",
       "345         0  NODE_2_length_311895_cov_18.769561   \n",
       "\n",
       "                                          GeneSequence  \n",
       "344  0_1@1008@-1;0_2@1167@-1;0_3@555@-1;0_4@891@-1;...  \n",
       "345  0_343@1359@-1;0_344@2424@1;0_345@2019@1;0_346@...  "
      ]
     },
     "execution_count": 18,
     "metadata": {},
     "output_type": "execute_result"
    }
   ],
   "source": [
    "gene_position[gene_position.SampleID==0].head(2)"
   ]
  },
  {
   "cell_type": "code",
   "execution_count": 19,
   "id": "b0021114-c2b1-4c0a-8e9a-376a81b43cd0",
   "metadata": {},
   "outputs": [],
   "source": [
    "# print(gene_position.ContigName.values)"
   ]
  },
  {
   "cell_type": "code",
   "execution_count": 20,
   "id": "677c3e19-4273-4b50-b7ed-c5732954f326",
   "metadata": {},
   "outputs": [],
   "source": [
    "# gene_position[gene_position.SampleID==0].head(2)"
   ]
  },
  {
   "cell_type": "code",
   "execution_count": 21,
   "id": "c4ec6c84-ff3c-44c5-af96-42b660dff12a",
   "metadata": {},
   "outputs": [],
   "source": [
    "# sort by length of contigs\n",
    "gene_position.sort_values(by=\"GeneSequence\", key=lambda x: x.str.len(),  ascending=False, inplace=True)"
   ]
  },
  {
   "cell_type": "code",
   "execution_count": 22,
   "id": "e6476138-f354-40fc-bbd6-12bf5e37d459",
   "metadata": {},
   "outputs": [
    {
     "name": "stdout",
     "output_type": "stream",
     "text": [
      "List of all samples\n"
     ]
    },
    {
     "data": {
      "text/plain": [
       "array([  0,   1,   2,   3,   4,   5,   6,   7,   8,   9,  10,  11,  12,\n",
       "        13,  14,  15,  16,  17,  18,  19,  20,  21,  22,  23,  24,  25,\n",
       "        26,  27,  28,  29,  30,  31,  32,  33,  34,  35,  36,  37,  38,\n",
       "        39,  40,  41,  42,  43,  44,  45,  46,  47,  48,  49,  50,  51,\n",
       "        52,  53,  54,  55,  56,  57,  58,  59,  60,  61,  62,  63,  64,\n",
       "        65,  66,  67,  68,  69,  70,  71,  72,  73,  74,  75,  76,  77,\n",
       "        78,  79,  80,  81,  82,  83,  84,  85,  86,  87,  88,  89,  90,\n",
       "        91,  92,  93,  94,  95,  96,  97,  98,  99, 100])"
      ]
     },
     "execution_count": 22,
     "metadata": {},
     "output_type": "execute_result"
    }
   ],
   "source": [
    "print(\"List of all samples\")\n",
    "n_samples = len(np.unique(gene_position.iloc[:,0]))\n",
    "np.unique(gene_position.iloc[:,0])"
   ]
  },
  {
   "cell_type": "code",
   "execution_count": 23,
   "id": "aa8a5b19-6a3c-43fe-8a21-7a91b663f513",
   "metadata": {},
   "outputs": [],
   "source": [
    "# ## select some sample\n",
    "# selected_samples = [0, 32]\n",
    "# sample_info = sample_info.loc[sample_info['SampleID'].isin(selected_samples)]\n",
    "# gene_info = gene_info.loc[gene_info['SampleID'].isin(selected_samples)]\n",
    "# gene_position = gene_position.loc[gene_position['SampleID'].isin(selected_samples)]"
   ]
  },
  {
   "cell_type": "markdown",
   "id": "80a662ae-c935-4ffa-ad09-d76bd647bcc7",
   "metadata": {},
   "source": [
    "## Construct pangraph"
   ]
  },
  {
   "cell_type": "code",
   "execution_count": 24,
   "id": "94c34358-518d-4688-aec4-5deb273e230a",
   "metadata": {},
   "outputs": [],
   "source": [
    "%load_ext autoreload\n",
    "%autoreload 2\n",
    "from pangraph import PanGraph"
   ]
  },
  {
   "cell_type": "code",
   "execution_count": 25,
   "id": "b01edd21-f5b6-4efb-9183-34ec46d10921",
   "metadata": {},
   "outputs": [],
   "source": [
    "# construct the pangenome graph\n",
    "# min_contig_len = 100\n",
    "pangraph = PanGraph(sample_info=sample_info, gene_info=gene_info, gene_position=gene_position)"
   ]
  },
  {
   "cell_type": "code",
   "execution_count": 26,
   "id": "fb500d8a-bc52-4dab-be2e-5189670c467e",
   "metadata": {},
   "outputs": [
    {
     "name": "stdout",
     "output_type": "stream",
     "text": [
      "Set minimum on number of nucleotides =  90 NUMBER OF COMPUTED CONTIGS: 462\n",
      "Clip the matrixn 0.2 !!!!!!!!!!!!!!!!!!!!!!!!!!!!!!!!!!\n"
     ]
    }
   ],
   "source": [
    "incomplete_sample_name = \"g1\"\n",
    "incomplete_sample_id = sample_info[sample_info.Name==incomplete_sample_name].iloc[0,1]\n",
    "# H = pangraph.construct_graph(method = \"graph_alignment\", sample_id_ref = None,  min_nucleotides = 90, min_genes = 0, \n",
    "#                             target_genome_id=incomplete_sample_id) # use the same min_contig_len when generate the ground truth\n",
    "H = pangraph.construct_graph(method = \"graph_alignment\", sample_id_ref = 1,  min_nucleotides = 90, min_genes = 0, target_genome_id=incomplete_sample_id) # use the same min_contig_len when generate the ground truth"
   ]
  },
  {
   "cell_type": "code",
   "execution_count": 27,
   "id": "151419b9-875a-48b0-aa49-f731cf3e4114",
   "metadata": {},
   "outputs": [],
   "source": [
    "# nx.write_gml(H,'cytoscape_out/pan_graph.gml')"
   ]
  },
  {
   "cell_type": "code",
   "execution_count": 28,
   "id": "2d34d8b9-55b4-4c8a-a9b4-01ba979c61ce",
   "metadata": {
    "tags": []
   },
   "outputs": [
    {
     "data": {
      "text/plain": [
       "(495308, 4913)"
      ]
     },
     "execution_count": 28,
     "metadata": {},
     "output_type": "execute_result"
    }
   ],
   "source": [
    "# number of nodes and edges\n",
    "pangraph.n_clusters, H.number_of_edges()"
   ]
  },
  {
   "cell_type": "markdown",
   "id": "74dcfe52-f474-4379-8181-b036731ea5cf",
   "metadata": {
    "tags": []
   },
   "source": [
    "## Data analysis"
   ]
  },
  {
   "cell_type": "code",
   "execution_count": 29,
   "id": "97bb03a6-8538-4e1b-a371-4c14d27774f4",
   "metadata": {},
   "outputs": [],
   "source": [
    "from pangraph.utils import append_strand, append_strand_undirected"
   ]
  },
  {
   "cell_type": "code",
   "execution_count": 30,
   "id": "21453415-c088-43f6-88ac-97cc9acaf868",
   "metadata": {
    "tags": []
   },
   "outputs": [],
   "source": [
    "from pangraph.utils import getContigsAdjacency\n",
    "edge_list_assembly = []\n",
    "undirected_edge_list_assembly = []\n",
    "# for l,r in getContigsAdjacency('/data/hoan/amromics/spades_quast/SAMN04158282/'):\n",
    "for l,r in getContigsAdjacency('/data/hoan/amromics/simulation/art_output/spades_output' + simversion):\n",
    "    # print(\"{} --> {}\".format(l,r))\n",
    "    edge_list_assembly.append((append_strand(l),append_strand(r)))\n",
    "    # undirected_edge_list_assembly.append((append_strand_undirected(l), append_strand_undirected(r)))\n",
    "\n",
    "assembly_graph= nx.DiGraph()\n",
    "assembly_graph.add_edges_from(edge_list_assembly)\n",
    "nx.write_gml(assembly_graph,'/data/hoan/amromics/simulation/art_output/spades_output'+simversion+'/assembly_graph.gml')"
   ]
  },
  {
   "cell_type": "code",
   "execution_count": 31,
   "id": "18942ef3-d5af-4c37-9094-3217005ac2c4",
   "metadata": {
    "tags": []
   },
   "outputs": [],
   "source": [
    "from pangraph.utils import buildOverlapEdge\n",
    "from pangraph.utils import read_contigs2dict\n",
    "gene = read_contigs2dict('/data/hoan/amromics/simulation/art_output/spades_output'+simversion+'/contigs.fasta')\n",
    "# edge_list_overlap = buildOverlapEdge(gene, 20)\n",
    "edge_list_overlap = buildOverlapEdge(gene, 20, 'directed')\n",
    "# undirected_edge_list_overlap = buildOverlapEdge(gene, 20, 'undirected')"
   ]
  },
  {
   "cell_type": "code",
   "execution_count": 27,
   "id": "a92ec87d-6d45-4086-8413-a8ed64de083b",
   "metadata": {
    "tags": []
   },
   "outputs": [],
   "source": [
    "# edge_list_overlap"
   ]
  },
  {
   "cell_type": "code",
   "execution_count": 32,
   "id": "dd62607f-9e18-42eb-b6a8-eebed9123746",
   "metadata": {},
   "outputs": [],
   "source": [
    "# print(\"Take union of two graph!!\")\n",
    "# edge_list_final = edge_list_overlap + edge_list_assembly\n",
    "edge_list_final = edge_list_assembly\n",
    "# undirected_edge_list_final =  undirected_edge_list_assembly + undirected_edge_list_overlap"
   ]
  },
  {
   "cell_type": "code",
   "execution_count": 33,
   "id": "ac7dc999-c823-47e7-ac89-12d5d623357e",
   "metadata": {},
   "outputs": [],
   "source": [
    "assembly_graph= nx.DiGraph()\n",
    "assembly_graph.add_edges_from(edge_list_final)\n",
    "# undirected_assembly_graph= nx.Graph()\n",
    "# undirected_assembly_graph.add_edges_from(undirected_edge_list_final)\n",
    "nx.write_gml(assembly_graph,'/data/hoan/amromics/simulation/art_output/spades_output'+simversion+'/overlap_graph.gml')"
   ]
  },
  {
   "cell_type": "code",
   "execution_count": 35,
   "id": "834ec39f-927e-491d-b0f8-7b92e43ff709",
   "metadata": {},
   "outputs": [],
   "source": [
    "L = list(nx.weakly_connected_components(assembly_graph))"
   ]
  },
  {
   "cell_type": "code",
   "execution_count": 36,
   "id": "980db3ea-3ca9-4be2-823a-df1ddaf8f78d",
   "metadata": {},
   "outputs": [
    {
     "data": {
      "text/plain": [
       "51"
      ]
     },
     "execution_count": 36,
     "metadata": {},
     "output_type": "execute_result"
    }
   ],
   "source": [
    "len(L)"
   ]
  },
  {
   "cell_type": "code",
   "execution_count": 33,
   "id": "d83bb2d1-f7bf-436b-adbc-0ebc859635da",
   "metadata": {},
   "outputs": [],
   "source": []
  },
  {
   "cell_type": "markdown",
   "id": "602a6c86-9b05-47f5-bfaf-42b22f49ebf8",
   "metadata": {},
   "source": [
    "### Manual checking"
   ]
  },
  {
   "cell_type": "code",
   "execution_count": 30,
   "id": "d1ddd15d-1c59-43c0-b8f7-eae588805406",
   "metadata": {},
   "outputs": [],
   "source": [
    "# for idx in gene_position.iloc[:,1]:\n",
    "#     if idx[:4]=='NODE':\n",
    "#         print(idx, end = ',')"
   ]
  },
  {
   "cell_type": "code",
   "execution_count": 31,
   "id": "46d9dc83-7a9a-4a11-86b8-a105b957e2f9",
   "metadata": {},
   "outputs": [],
   "source": [
    "# # assembly_graph.has_edge('NODE_1_length_360583_cov_9.851928', 'NODE_2_length_327037_cov_9.679695')\n",
    "# node1 = 'NODE_30_length_58501_cov_29.181877+'\n",
    "# node2 = 'NODE_45_length_13325_cov_30.337076-'\n",
    "# source_id = 'C-' + str(pangraph.tail_contig[node1[:-1]])\n",
    "# target_id = 'C-' + str(pangraph.head_contig[node2[:-1]])  \n",
    "# assembly_graph.has_node(node1), assembly_graph.has_node(node2), "
   ]
  },
  {
   "cell_type": "code",
   "execution_count": 32,
   "id": "eb2dba24-9532-4690-9702-0891d52dd11b",
   "metadata": {},
   "outputs": [],
   "source": [
    "# # nx.shortest_path_length(assembly_graph, node1, node2)\n",
    "# # nx.shortest_path_length(H, source_id, target_id)\n",
    "# p = nx.shortest_path(pangraph.H, source=source_id, target=target_id)                           \n",
    "# weight_p = 0.0\n",
    "# for node_p_idx in range(len(p)-1):\n",
    "#     weight_p += pangraph.H[p[node_p_idx]][p[node_p_idx+1]]['weight']\n",
    "# weight_p = 0.05 + weight_p/float(len(p)*(len(p)-1))\n",
    "# weight_p, nx.shortest_path_length(H, source_id, target_id)"
   ]
  },
  {
   "cell_type": "code",
   "execution_count": 33,
   "id": "76921959-c62a-47dc-a1bc-af0425adb888",
   "metadata": {},
   "outputs": [],
   "source": [
    "# nx.shortest_path(assembly_graph, source=node1, target=node2)  "
   ]
  },
  {
   "cell_type": "code",
   "execution_count": 34,
   "id": "a22470c1-fef0-43ad-9508-fa1dc0071179",
   "metadata": {},
   "outputs": [],
   "source": [
    "# list(assembly_graph.nodes)[0:4]"
   ]
  },
  {
   "cell_type": "code",
   "execution_count": null,
   "id": "acabcf9d-5939-4030-b3da-b4d9a618dfbb",
   "metadata": {},
   "outputs": [],
   "source": [
    "# df = pd.read_csv(\"/data/hoan/amromics/simulation/contigs100vsref_mapping_v01.paf\", sep =\"\\t\", header=None)\n",
    "# final_df0 = df.sort_values(by=[7])\n",
    "# final_df = final_df0.loc[final_df0[1] >= 3000]\n",
    "# sum_len = 0\n",
    "# for i in range(len(final_df.index)-1):\n",
    "#     if final_df.iloc[i,1] > 1000:\n",
    "#         node1 = final_df.iloc[i,0]\n",
    "#         node2 = final_df.iloc[i+1,0]\n",
    "#         print(node1, node2)\n",
    "#         source_id = 'C-' + str(pangraph.tail_contig[node1])\n",
    "#         target_id = 'C-' + str(pangraph.head_contig[node2]) \n",
    "#         source_node = node1 + pangraph.strand[node1]\n",
    "#         target_node = node2 + pangraph.strand[node2]\n",
    "#         print(nx.has_path(pangraph.H, source_id, target_id), end = ':')\n",
    "#         if assembly_graph.has_node(source_node) and assembly_graph.has_node(target_node):\n",
    "#             print(nx.has_path(assembly_graph, source_node, target_node), end = ',')   \n",
    "#         if nx.has_path(pangraph.H, source_id, target_id) or nx.has_path(assembly_graph, source_node, target_node):\n",
    "#             sum_len += int(final_df.iloc[i,1])\n",
    "#             print(sum_len, end='')\n",
    "#         else:\n",
    "#             print(\"Restart............................................\")\n",
    "#             sum_len = 0\n",
    "#         print('\\n-------------------------------------------------------------------')"
   ]
  },
  {
   "cell_type": "code",
   "execution_count": 80,
   "id": "44928fd3-652e-4271-8dfa-3a863c4991b9",
   "metadata": {},
   "outputs": [],
   "source": [
    "# assembly_graph.has_node('NODE_37_length_15953_cov_15.514028+')"
   ]
  },
  {
   "cell_type": "markdown",
   "id": "50bb8fe1-7450-4706-9ebd-641c085efc64",
   "metadata": {},
   "source": [
    "### Running the method"
   ]
  },
  {
   "cell_type": "code",
   "execution_count": 81,
   "id": "17f3a38b-e04d-49e0-abea-744310bcc7cb",
   "metadata": {
    "tags": []
   },
   "outputs": [],
   "source": [
    "# graph_use = undirected_assembly_graph if graph_type=='undirected' else assembly_graph\n",
    "# method = weight_path_assembly: less contigs, more strict condition on adding two nodes\n",
    "# maximum_matching = (greedy, opt), opt: optimal \n",
    "## Max_length: should define in term of nucliotides.\n",
    "params = {'method': 'weight_path_assembly_v2', 'assembly_graph': assembly_graph, 'max_length': 5, 'maximum_matching': 'opt', 'graph':'directed', \n",
    "          'max_length_nucleotides': 8000}\n",
    "# params = {'method': 'weight_path_assembly_v2', 'assembly_graph': graph_use, 'max_length': 5, 'maximum_matching': 'greedy', 'graph':'directed'}"
   ]
  },
  {
   "cell_type": "code",
   "execution_count": 82,
   "id": "2ab08c3e-5aef-488f-b497-ad7f2e7de006",
   "metadata": {
    "tags": []
   },
   "outputs": [
    {
     "name": "stdout",
     "output_type": "stream",
     "text": [
      "Compute maximum matching\n"
     ]
    }
   ],
   "source": [
    "# contig_graph = pangraph.join_contig(sample_id=incomplete_sample_id, min_weight=1.0, method=\"edge_weight\")\n",
    "# contig_graph = pangraph.join_contig(sample_id=incomplete_sample_id, min_weight=1.0, method=\"weight_path\")\n",
    "# contig_graph = pangraph.remove_cycle(assembly_graph)\n",
    "# contig_graph = pangraph.join_contig(sample_id=incomplete_sample_id, min_weight=1.0, method=\"weight_path_assembly\", assembly_graph=assembly_graph, max_length=5)\n",
    "contig_graph = pangraph.join_contig(sample_id=incomplete_sample_id, min_weight=1.0, params=params)\n",
    "contig_graph = pangraph.remove_cycle(assembly_graph)\n",
    "nx.write_gml(contig_graph,'cytoscape_out/contig_graph.gml')\n",
    "nx.write_gml(contig_graph,'/data/hoan/amromics/simulation/art_output/spades_output'+simversion+'/contig_graph.gml')"
   ]
  },
  {
   "cell_type": "code",
   "execution_count": 83,
   "id": "75af960e-ea4e-4eeb-b4c5-5ae32772a5ce",
   "metadata": {},
   "outputs": [
    {
     "data": {
      "text/plain": [
       "[]"
      ]
     },
     "execution_count": 83,
     "metadata": {},
     "output_type": "execute_result"
    }
   ],
   "source": [
    "list(nx.simple_cycles(contig_graph))"
   ]
  },
  {
   "cell_type": "code",
   "execution_count": 84,
   "id": "2640bc73-243e-40bc-a41d-5da99bcab138",
   "metadata": {},
   "outputs": [
    {
     "data": {
      "image/png": "[encoded data removed]",
      "text/plain": [
       "<Figure size 960x640 with 1 Axes>"
      ]
     },
     "metadata": {},
     "output_type": "display_data"
    }
   ],
   "source": [
    "from matplotlib.pyplot import figure\n",
    "figure(figsize=(12, 8), dpi=80)\n",
    "nx.draw_networkx(contig_graph, arrows=True, with_labels=False)"
   ]
  },
  {
   "cell_type": "code",
   "execution_count": 85,
   "id": "a28f0d7e-5b15-4e87-897f-8bd84eba0518",
   "metadata": {},
   "outputs": [],
   "source": [
    "indegree_dict = dict(contig_graph.in_degree())\n",
    "# indegree_dict"
   ]
  },
  {
   "cell_type": "code",
   "execution_count": 86,
   "id": "e63163c2-ad0e-454f-8ec5-6b7b6e605b2e",
   "metadata": {},
   "outputs": [],
   "source": [
    "adj_list = {}\n",
    "for source_node_key in indegree_dict:\n",
    "    if indegree_dict[source_node_key] == 0:\n",
    "        adj_list[source_node_key] = []\n",
    "        next_neighbor_temp = source_node_key\n",
    "        while(1):\n",
    "            next_neighbor_temp = list(contig_graph.neighbors(next_neighbor_temp))\n",
    "            if len(next_neighbor_temp) > 0:\n",
    "                next_neighbor_temp = next_neighbor_temp[0]\n",
    "                adj_list[source_node_key].append(next_neighbor_temp)\n",
    "            else:\n",
    "                break;"
   ]
  },
  {
   "cell_type": "code",
   "execution_count": 87,
   "id": "60b06ca0-070f-4d79-971c-a879166a6621",
   "metadata": {},
   "outputs": [],
   "source": [
    "# adj_list"
   ]
  },
  {
   "cell_type": "code",
   "execution_count": 88,
   "id": "cb7b41a7-9574-4164-8885-f0d542f7f908",
   "metadata": {},
   "outputs": [],
   "source": [
    "# list(gene_position.ContigName)"
   ]
  },
  {
   "cell_type": "code",
   "execution_count": 89,
   "id": "6724c7dd-d822-4008-b924-afaa78b9854d",
   "metadata": {},
   "outputs": [],
   "source": [
    "# pangraph.gene2cluster_dict['FHLJBAOL_00001_0_1@390@+']"
   ]
  },
  {
   "cell_type": "code",
   "execution_count": 90,
   "id": "fc65e912-e21a-49db-ae03-f50ff108f580",
   "metadata": {},
   "outputs": [],
   "source": [
    "def flatten(l):\n",
    "    if len(l) == 1:\n",
    "        return l[0]\n",
    "    else:\n",
    "        return [item for sublist in l for item in sublist]\n",
    "def remove_duplicate(your_list):\n",
    "    return ([v for i, v in enumerate(your_list) if i == 0 or v != your_list[i-1]])"
   ]
  },
  {
   "cell_type": "code",
   "execution_count": 91,
   "id": "e630aeaf-d31a-4514-9d3b-2adc788337b7",
   "metadata": {},
   "outputs": [
    {
     "name": "stdout",
     "output_type": "stream",
     "text": [
      "Will test this, Ok?\n",
      "Will test this, Ok?\n",
      "Will test this, Ok?\n",
      "Will test this, Ok?\n",
      "Will test this, Ok?\n",
      "Will test this, Ok?\n",
      "Will test this, Ok?\n",
      "Will test this, Ok?\n",
      "Will test this, Ok?\n",
      "Will test this, Ok?\n",
      "Will test this, Ok?\n",
      "Will test this, Ok?\n",
      "Will test this, Ok?\n",
      "Will test this, Ok?\n",
      "Will test this, Ok?\n",
      "Will test this, Ok?\n"
     ]
    }
   ],
   "source": [
    "## neu ko la adjacent thi bat dau bang contigs moi.\n",
    "adj_list_assembly = {}\n",
    "for key in adj_list:\n",
    "    new_key = key\n",
    "    path1 = adj_list[key].copy()\n",
    "    path1.insert(0, key)\n",
    "    path2 = [new_key + pangraph.strand[new_key]]\n",
    "    for i in range(len(path1)-1):\n",
    "        src = path1[i] + pangraph.strand[path1[i]]\n",
    "        dst = path1[i+1] + pangraph.strand[path1[i+1]]\n",
    "        if not assembly_graph.has_node(src):\n",
    "            path2.append(src)\n",
    "        elif not assembly_graph.has_node(dst):\n",
    "            path2.append(src)\n",
    "            continue\n",
    "        else:\n",
    "            # print(\"Hi, I am here\")\n",
    "            if nx.has_path(assembly_graph, src, dst):\n",
    "                paths = [p for p in nx.all_shortest_paths(assembly_graph, src, dst)]\n",
    "                for node in paths[-1]:\n",
    "                    path2.append(node)\n",
    "                # paths = list(nx.all_simple_paths(assembly_graph, source=src, target=dst, cutoff=12))\n",
    "                # max_path_id = 0\n",
    "                # for idx in range(1, len(paths)):\n",
    "                #     if len(paths[idx]) > len(paths[max_path_id]):\n",
    "                #         max_path_id = idx\n",
    "                # for node in paths[max_path_id]:\n",
    "                #     path2.append(node)\n",
    "            else:\n",
    "                # print(src, dst,\"___\", paths[0])    \n",
    "                path2.append(src)       \n",
    "                print(\"Will test this, Ok?\")\n",
    "                # # construct a new path if they are disconnected on the graph\n",
    "                # if len(path2) > 0:\n",
    "                #     adj_list_assembly[new_key+pangraph.strand[new_key]] = remove_duplicate(path2)\n",
    "                # new_key = dst[0:-1]\n",
    "                # path2 = []           \n",
    "    if dst not in path2:\n",
    "        # print(path2)\n",
    "        path2.append(dst)\n",
    "    if len(path2) > 0:\n",
    "        adj_list_assembly[new_key+pangraph.strand[new_key]] = remove_duplicate(path2)"
   ]
  },
  {
   "cell_type": "code",
   "execution_count": 92,
   "id": "19c9985a-1c6b-42b2-8c93-af5e634da3d6",
   "metadata": {},
   "outputs": [],
   "source": [
    "# adj_list"
   ]
  },
  {
   "cell_type": "code",
   "execution_count": 93,
   "id": "5190296d-b330-408b-b20c-add287b1f129",
   "metadata": {},
   "outputs": [
    {
     "name": "stdout",
     "output_type": "stream",
     "text": [
      "44_-,11_+,132+,1_l+,52_+,3_l+,56_+,64_-,33_-,166-,147+,89_-,27_-,12_+,4_l+,23_+,39_-,6_l+,107+,102-,47_-,13_+,41_-,52_-,30_+,53_+,35_+,15_-,24_-,52_-,17_-,174-,19_-,185+,54_+,28_+,54_+,16_+,56_-,134-,53_-,5_l-,48_+,58_+,57_+,32_-,31_-,54_-,37_+,56_+,9_l-,22_-,38_-,57_-,50_-,25_-,29_-,34_-,54_-,18_-,40_-,61_+,65_-,49_-,21_+,20_-,46_-,10_-,56_-,26_+,54_-,8_l-,43_-,2_l+,56_+,7_l-,56_-,45_-,14_-,36_-,42_-,\n"
     ]
    }
   ],
   "source": [
    "# adj_list_assembly\n",
    "for key in adj_list_assembly:\n",
    "    for elem in adj_list_assembly[key]:\n",
    "        print(elem[5:8], end='')\n",
    "        print(elem[-1], end=',')\n",
    "    print('')"
   ]
  },
  {
   "cell_type": "code",
   "execution_count": 94,
   "id": "0465f2c9-861a-421f-8d25-1c602648ed67",
   "metadata": {},
   "outputs": [],
   "source": [
    "# adj_list_assembly"
   ]
  },
  {
   "cell_type": "code",
   "execution_count": 95,
   "id": "b1a3b486-bfb2-46dc-b477-8d661da682b6",
   "metadata": {},
   "outputs": [],
   "source": [
    "from pangraph.utils import generate_fasta_from_dict\n",
    "# gene_origin = generate_fasta_from_dict(gene, adj_list_assembly, 'all')\n",
    "gene_origin = generate_fasta_from_dict(gene, adj_list_assembly, 'partial')"
   ]
  },
  {
   "cell_type": "code",
   "execution_count": 96,
   "id": "b45929fb-e610-4ca0-84d0-f6aa88d4c6ca",
   "metadata": {},
   "outputs": [],
   "source": [
    "# for key in gene_origin:\n",
    "#     print(key)"
   ]
  },
  {
   "cell_type": "code",
   "execution_count": 97,
   "id": "b0ab4076-c66c-4d11-9bbb-c566591b6f1b",
   "metadata": {},
   "outputs": [],
   "source": [
    "# adj_list_assembly"
   ]
  },
  {
   "cell_type": "code",
   "execution_count": 98,
   "id": "cb8730a6-bcf3-4497-8054-40c234525a1b",
   "metadata": {},
   "outputs": [],
   "source": [
    "# for key in gene_origin:\n",
    "#     print(key)"
   ]
  },
  {
   "cell_type": "code",
   "execution_count": 99,
   "id": "804b50cc-6ac6-44b5-a99d-ed379615a170",
   "metadata": {},
   "outputs": [],
   "source": [
    "# gene_subset = {'key': gene_origin['NODE_42_length_31236_cov_19.001219']}\n",
    "# gene_subset = {'key': gene_origin['NODE_13_length_181283_cov_16.175556'] + gene_origin['NODE_18_length_129509_cov_16.103824']+ \n",
    "#                gene_origin['NODE_30_length_36239_cov_15.760523']+ gene_origin['NODE_44_length_1445_cov_94.411988'] + \n",
    "#                gene_origin['NODE_33_length_31380_cov_15.396410']+ gene_origin['NODE_9_length_214478_cov_15.967838']}"
   ]
  },
  {
   "cell_type": "code",
   "execution_count": 100,
   "id": "1b1d9cad-9698-4f84-bdd7-2abb22379aae",
   "metadata": {},
   "outputs": [
    {
     "name": "stdout",
     "output_type": "stream",
     "text": [
      "Success! File written\n",
      "/data/hoan/amromics/simulation/art_output/spades_output_Kp100random_v01/contigs_concat_new.fasta\n"
     ]
    }
   ],
   "source": [
    "# write_fasta(gene_origin, \"/data/hoan/amromics/simulation/art_output/spades_output/contigs_concat_weight_path.fasta\")\n",
    "# write_fasta(gene_origin, \"/data/hoan/amromics/simulation/art_output/spades_output/contigs_concat.fasta\")\n",
    "spades_output = '/data/hoan/amromics/simulation/art_output/spades_output'+simversion+'/contigs.fasta'\n",
    "gr_output_union_opt = '/data/hoan/amromics/simulation/art_output/spades_output'+simversion+'/contigs_concat.fasta'\n",
    "gr_output_union_greedy = '/data/hoan/amromics/simulation/art_output/spades_output'+simversion+'/contigs_concat_greedy.fasta'\n",
    "gr_output_new = '/data/hoan/amromics/simulation/art_output/spades_output'+simversion+'/contigs_concat_new.fasta'\n",
    "output_dir = gr_output_new\n",
    "# write_fasta(gene_subset, output_dir)\n",
    "write_fasta(gene_origin, output_dir)\n",
    "print(output_dir)"
   ]
  },
  {
   "cell_type": "markdown",
   "id": "bc00d326-cfc1-444e-bf1c-3ad37e035984",
   "metadata": {},
   "source": [
    "### Quast "
   ]
  },
  {
   "cell_type": "code",
   "execution_count": 101,
   "id": "728448a9-011f-4038-b3ad-ff127b94e2c0",
   "metadata": {},
   "outputs": [
    {
     "name": "stdout",
     "output_type": "stream",
     "text": [
      "/data/hoan/amromics/spades_quast/quast-5.2.0/quast.py /data/hoan/amromics/simulation/art_output/spades_output_Kp100random_v01/contigs_concat_new.fasta -l Pangraph -r /data/hoan/amromics/simulation/references/GCF_000240185.1_ASM24018v2_genomic.fasta -o /data/hoan/amromics/genome-graph/scaffold_output/quastResults_Kp100random_v01 --silent --extensive-mis-size 5000 --local-mis-size 3000\n",
      "\n",
      "\n",
      "System information:\n",
      "  OS: Linux-3.10.0-1160.15.2.el7.x86_64-x86_64-with-redhat-7.9-Nitrogen (linux_64)\n",
      "  Python version: 2.7.5\n",
      "  CPUs number: 72\n",
      "\n",
      "Started: 2022-12-06 08:29:37\n",
      "\n",
      "Logging to /data/hoan/amromics/genome-graph/scaffold_output/quastResults_Kp100random_v01/quast.log\n",
      "NOTICE: Output directory already exists and looks like a QUAST output dir. Existing results can be reused (e.g. previously generated alignments)!\n",
      "NOTICE: Maximum number of threads is set to 18 (use --threads option to set it manually)\n",
      "\n",
      "CWD: /data/hoan/amromics/genome-graph\n",
      "Main parameters: \n",
      "  MODE: default, threads: 18, min contig length: 500, min alignment length: 65, min alignment IDY: 95.0, \\\n",
      "  ambiguity: one, min local misassembly length: 3000, min extensive misassembly length: 5000\n",
      "\n",
      "Reference:\n",
      "  /data/hoan/amromics/simulation/references/GCF_000240185.1_ASM24018v2_genomic.fasta ==> GCF_000240185.1_ASM24018v2_genomic\n",
      "\n",
      "Contigs:\n",
      "  Pre-processing...\n",
      "  /data/hoan/amromics/simulation/art_output/spades_output_Kp100random_v01/contigs_concat_new.fasta ==> Pangraph\n",
      "\n",
      "2022-12-06 08:29:37\n",
      "Running Basic statistics processor...\n"
     ]
    },
    {
     "name": "stderr",
     "output_type": "stream",
     "text": [
      "Unable to parse the pattern\n",
      "Unable to parse the pattern\n",
      "Unable to parse the pattern\n"
     ]
    },
    {
     "name": "stdout",
     "output_type": "stream",
     "text": [
      "Done.\n",
      "\n",
      "2022-12-06 08:29:40\n",
      "Running Contig analyzer...\n",
      "Done.\n",
      "\n",
      "2022-12-06 08:29:43\n",
      "Running NA-NGA calculation...\n",
      "Done.\n",
      "\n",
      "2022-12-06 08:29:44\n",
      "Running Genome analyzer...\n",
      "  NOTICE: No file with genomic features were provided. Use the --features option if you want to specify it.\n",
      "\n",
      "  NOTICE: No file with operons were provided. Use the -O option if you want to specify it.\n",
      "Done.\n",
      "\n",
      "NOTICE: Genes are not predicted by default. Use --gene-finding or --glimmer option to enable it.\n",
      "\n",
      "2022-12-06 08:29:45\n",
      "Creating large visual summaries...\n",
      "This may take a while: press Ctrl-C to skip this step..\n",
      "  1 of 2: Creating PDF with all tables and plots...\n",
      "  2 of 2: Creating Icarus viewers...\n",
      "Done\n",
      "\n",
      "2022-12-06 08:29:47\n",
      "RESULTS:\n",
      "  Text versions of total report are saved to /data/hoan/amromics/genome-graph/scaffold_output/quastResults_Kp100random_v01/report.txt, report.tsv, and report.tex\n",
      "  Text versions of transposed total report are saved to /data/hoan/amromics/genome-graph/scaffold_output/quastResults_Kp100random_v01/transposed_report.txt, transposed_report.tsv, and transposed_report.tex\n",
      "  PDF version (tables and plots) is saved to /data/hoan/amromics/genome-graph/scaffold_output/quastResults_Kp100random_v01/report.pdf\n",
      "  Icarus (contig browser) is saved to /data/hoan/amromics/genome-graph/scaffold_output/quastResults_Kp100random_v01/icarus.html\n",
      "  Log is saved to /data/hoan/amromics/genome-graph/scaffold_output/quastResults_Kp100random_v01/quast.log\n",
      "\n",
      "Finished: 2022-12-06 08:29:47\n",
      "Elapsed time: 0:00:09.861793\n",
      "NOTICEs: 5; WARNINGs: 0; non-fatal ERRORs: 0\n",
      "\n",
      "Thank you for using QUAST!\n"
     ]
    }
   ],
   "source": [
    "if True:\n",
    "    quast_bin = 'python /data/hoan/amromics/spades_quast/quast-5.2.0/quast.py '\n",
    "    quast_output = '/data/hoan/amromics/genome-graph/scaffold_output/quastResults_Kp100random_v01'\n",
    "    ref_genome = '/data/hoan/amromics/simulation/references/GCF_000240185.1_ASM24018v2_genomic.fasta'\n",
    "    # multicsar_output = '/data/hoan/amromics/genome-graph/scaffold_output/multicsar/multi-csar.nuc.out.fna '\n",
    "    # ragout_output = '/data/hoan/amromics/assembly/Ragout/output_Kp100p_v3/mg1655_scaffolds.fasta '\n",
    "    # os.system(quast_bin + gr_output_union_opt+' '+ gr_output_union_greedy+' '+ gr_output_new+' ' + multicsar_output+ ragout_output+ spades_output+' '+\n",
    "              # '-l \"Pangraph_OPT, Pangraph_Greedy, Pangraph_New, Multi-CSAR, Ragout, SPADES\" '+ '-r '+ref_genome+' -o '+ quast_output+' --silent --extensive-mis-size 5000 --local-mis-size 3000')\n",
    "    os.system(quast_bin +  gr_output_new + ' '+\n",
    "    '-l \"Pangraph\" '+ '-r '+ref_genome+' -o '+ quast_output+' --silent --extensive-mis-size 5000 --local-mis-size 3000')"
   ]
  },
  {
   "cell_type": "code",
   "execution_count": 1,
   "id": "59bf4ba8-7014-4eaa-95e1-5ddefbaeda1d",
   "metadata": {},
   "outputs": [],
   "source": [
    "a = []"
   ]
  },
  {
   "cell_type": "code",
   "execution_count": 5,
   "id": "3938b425-33d8-4eac-b439-a645f84f6669",
   "metadata": {},
   "outputs": [],
   "source": [
    "from difflib import SequenceMatcher\n",
    "def similar(a, b):\n",
    "    return SequenceMatcher(None, a, b).ratio()"
   ]
  },
  {
   "cell_type": "code",
   "execution_count": 10,
   "id": "3e516029-6c9b-4ecb-ab9c-e9808fb94b55",
   "metadata": {},
   "outputs": [
    {
     "data": {
      "text/plain": [
       "0.8888888888888888"
      ]
     },
     "execution_count": 10,
     "metadata": {},
     "output_type": "execute_result"
    }
   ],
   "source": [
    "similar(\"12_43_5_6\",\"12_43_5_9\")"
   ]
  },
  {
   "cell_type": "code",
   "execution_count": null,
   "id": "b382212c-41f3-45e2-9881-4f84f488232b",
   "metadata": {},
   "outputs": [],
   "source": []
  }
 ],
 "metadata": {
  "kernelspec": {
   "display_name": "Environment (panta)",
   "language": "python",
   "name": "panta"
  },
  "language_info": {
   "codemirror_mode": {
    "name": "ipython",
    "version": 3
   },
   "file_extension": ".py",
   "mimetype": "text/x-python",
   "name": "python",
   "nbconvert_exporter": "python",
   "pygments_lexer": "ipython3",
   "version": "3.7.10"
  }
 },
 "nbformat": 4,
 "nbformat_minor": 5
}
