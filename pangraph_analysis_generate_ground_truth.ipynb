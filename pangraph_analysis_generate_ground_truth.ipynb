{
 "cells": [
  {
   "cell_type": "markdown",
   "id": "d34faca0-8280-48bc-8d17-9313a5adb8a7",
   "metadata": {},
   "source": [
    "### Make a copy of this note if you want to analyze "
   ]
  },
  {
   "cell_type": "markdown",
   "id": "691b1159-9546-439f-9359-9d1aaa3bd0ab",
   "metadata": {},
   "source": [
    "#### Please run panta first to get gene clusters and other output files for this analysis"
   ]
  },
  {
   "cell_type": "code",
   "execution_count": 1,
   "id": "71261f4a-7e09-43c0-b32e-1f0606e597ab",
   "metadata": {},
   "outputs": [],
   "source": [
    "# # Install a pip package in the current Jupyter kernel\n",
    "# import sys\n",
    "# !{sys.executable} -m pip install pygraphviz"
   ]
  },
  {
   "cell_type": "code",
   "execution_count": 2,
   "id": "270dad8f-6b7a-4910-b93c-6cbe91580901",
   "metadata": {},
   "outputs": [],
   "source": [
    "import pandas as pd\n",
    "from scipy.sparse import csr_matrix\n",
    "import numpy as np\n",
    "import networkx as nx\n",
    "import matplotlib.pyplot as plt\n",
    "import math"
   ]
  },
  {
   "cell_type": "code",
   "execution_count": 3,
   "id": "6eaa8d8d-e9c0-4926-ab5c-416b3c95985d",
   "metadata": {},
   "outputs": [],
   "source": [
    "# data_dir = \"/home/vanhoan310/server/amromics/panta/examples/test/output/\"\n",
    "# data_dir = \"data/genome_graph_test/\"\n",
    "# you can take the data in the directory: data/genome_graph_test\n",
    "# data_dir = \"/data/hoan/amromics/data/ncbi/Kp_true/SAMN04158282/output/\"\n",
    "data_dir = \"../panta/examples/test/output_Kp30plus1/\""
   ]
  },
  {
   "cell_type": "code",
   "execution_count": 4,
   "id": "a2587591-3df1-4ecb-bd4c-aa66f8a78faa",
   "metadata": {},
   "outputs": [],
   "source": [
    "sample_info = pd.read_csv(data_dir + \"samples.tsv\", delimiter='\\t', header=None)"
   ]
  },
  {
   "cell_type": "code",
   "execution_count": 5,
   "id": "e0d0b2c1-2d49-4ebf-9a26-b7984cc43b9c",
   "metadata": {},
   "outputs": [
    {
     "data": {
      "text/html": [
       "<div>\n",
       "<style scoped>\n",
       "    .dataframe tbody tr th:only-of-type {\n",
       "        vertical-align: middle;\n",
       "    }\n",
       "\n",
       "    .dataframe tbody tr th {\n",
       "        vertical-align: top;\n",
       "    }\n",
       "\n",
       "    .dataframe thead th {\n",
       "        text-align: right;\n",
       "    }\n",
       "</style>\n",
       "<table border=\"1\" class=\"dataframe\">\n",
       "  <thead>\n",
       "    <tr style=\"text-align: right;\">\n",
       "      <th></th>\n",
       "      <th>0</th>\n",
       "      <th>1</th>\n",
       "    </tr>\n",
       "  </thead>\n",
       "  <tbody>\n",
       "    <tr>\n",
       "      <th>0</th>\n",
       "      <td>GCF_002113865.1_ASM211386v1_genomic</td>\n",
       "      <td>1</td>\n",
       "    </tr>\n",
       "    <tr>\n",
       "      <th>1</th>\n",
       "      <td>contigs</td>\n",
       "      <td>0</td>\n",
       "    </tr>\n",
       "  </tbody>\n",
       "</table>\n",
       "</div>"
      ],
      "text/plain": [
       "                                     0  1\n",
       "0  GCF_002113865.1_ASM211386v1_genomic  1\n",
       "1                              contigs  0"
      ]
     },
     "execution_count": 5,
     "metadata": {},
     "output_type": "execute_result"
    }
   ],
   "source": [
    "sample_info.head()"
   ]
  },
  {
   "cell_type": "code",
   "execution_count": 6,
   "id": "70d23a27-f778-498c-af2e-924f086c7ee2",
   "metadata": {},
   "outputs": [],
   "source": [
    "gene_info = pd.read_csv(data_dir + \"gene_info.tsv\", delimiter='\\t', header=None)\n",
    "gene_info.columns =['GeneName', 'SampleID', 'clusterID']"
   ]
  },
  {
   "cell_type": "code",
   "execution_count": 7,
   "id": "537ae618-a216-42b1-a283-ad97b3af9732",
   "metadata": {},
   "outputs": [
    {
     "data": {
      "text/html": [
       "<div>\n",
       "<style scoped>\n",
       "    .dataframe tbody tr th:only-of-type {\n",
       "        vertical-align: middle;\n",
       "    }\n",
       "\n",
       "    .dataframe tbody tr th {\n",
       "        vertical-align: top;\n",
       "    }\n",
       "\n",
       "    .dataframe thead th {\n",
       "        text-align: right;\n",
       "    }\n",
       "</style>\n",
       "<table border=\"1\" class=\"dataframe\">\n",
       "  <thead>\n",
       "    <tr style=\"text-align: right;\">\n",
       "      <th></th>\n",
       "      <th>GeneName</th>\n",
       "      <th>SampleID</th>\n",
       "      <th>clusterID</th>\n",
       "    </tr>\n",
       "  </thead>\n",
       "  <tbody>\n",
       "    <tr>\n",
       "      <th>0</th>\n",
       "      <td>0_5557@1590@-1</td>\n",
       "      <td>0</td>\n",
       "      <td>0</td>\n",
       "    </tr>\n",
       "    <tr>\n",
       "      <th>1</th>\n",
       "      <td>1_5400@1530@1</td>\n",
       "      <td>1</td>\n",
       "      <td>0</td>\n",
       "    </tr>\n",
       "  </tbody>\n",
       "</table>\n",
       "</div>"
      ],
      "text/plain": [
       "         GeneName  SampleID  clusterID\n",
       "0  0_5557@1590@-1         0          0\n",
       "1   1_5400@1530@1         1          0"
      ]
     },
     "execution_count": 7,
     "metadata": {},
     "output_type": "execute_result"
    }
   ],
   "source": [
    "## select some sample\n",
    "# selected_samples = [0, 1, 9]\n",
    "# gene_info = gene_info.loc[gene_info['SampleID'].isin(selected_samples)]\n",
    "gene_info.head(2)"
   ]
  },
  {
   "cell_type": "code",
   "execution_count": 8,
   "id": "ae182c70-6bcb-4629-aead-2f2f07768a6b",
   "metadata": {},
   "outputs": [],
   "source": [
    "gene_position = pd.read_csv(data_dir + 'gene_position.tsv', delimiter='\\t', header=None)\n",
    "gene_position.columns =['SampleID', 'ContigName', 'GeneSequence']"
   ]
  },
  {
   "cell_type": "code",
   "execution_count": 9,
   "id": "5938c8cb-ad30-4cc6-9809-f295be85dba2",
   "metadata": {},
   "outputs": [
    {
     "data": {
      "text/html": [
       "<div>\n",
       "<style scoped>\n",
       "    .dataframe tbody tr th:only-of-type {\n",
       "        vertical-align: middle;\n",
       "    }\n",
       "\n",
       "    .dataframe tbody tr th {\n",
       "        vertical-align: top;\n",
       "    }\n",
       "\n",
       "    .dataframe thead th {\n",
       "        text-align: right;\n",
       "    }\n",
       "</style>\n",
       "<table border=\"1\" class=\"dataframe\">\n",
       "  <thead>\n",
       "    <tr style=\"text-align: right;\">\n",
       "      <th></th>\n",
       "      <th>SampleID</th>\n",
       "      <th>ContigName</th>\n",
       "      <th>GeneSequence</th>\n",
       "    </tr>\n",
       "  </thead>\n",
       "  <tbody>\n",
       "    <tr>\n",
       "      <th>0</th>\n",
       "      <td>1</td>\n",
       "      <td>NZ_CP020901.1</td>\n",
       "      <td>1_1@117@1;1_2@483@1;1_3@558@-1;1_4@309@-1;1_5@...</td>\n",
       "    </tr>\n",
       "    <tr>\n",
       "      <th>1</th>\n",
       "      <td>1</td>\n",
       "      <td>NZ_CP020902.1</td>\n",
       "      <td>1_5033@216@1;1_5034@1245@-1;1_5035@507@-1;1_50...</td>\n",
       "    </tr>\n",
       "    <tr>\n",
       "      <th>2</th>\n",
       "      <td>1</td>\n",
       "      <td>NZ_CP020903.1</td>\n",
       "      <td>1_5386@597@1;1_5387@276@1;1_5388@300@1;1_5389@...</td>\n",
       "    </tr>\n",
       "  </tbody>\n",
       "</table>\n",
       "</div>"
      ],
      "text/plain": [
       "   SampleID     ContigName                                       GeneSequence\n",
       "0         1  NZ_CP020901.1  1_1@117@1;1_2@483@1;1_3@558@-1;1_4@309@-1;1_5@...\n",
       "1         1  NZ_CP020902.1  1_5033@216@1;1_5034@1245@-1;1_5035@507@-1;1_50...\n",
       "2         1  NZ_CP020903.1  1_5386@597@1;1_5387@276@1;1_5388@300@1;1_5389@..."
      ]
     },
     "execution_count": 9,
     "metadata": {},
     "output_type": "execute_result"
    }
   ],
   "source": [
    "# gene_position = gene_position.loc[gene_position['SampleID'].isin(selected_samples)]\n",
    "gene_position.head(3)"
   ]
  },
  {
   "cell_type": "code",
   "execution_count": 10,
   "id": "bccaf481-7f22-4289-8b89-de4c767ba3c0",
   "metadata": {},
   "outputs": [],
   "source": [
    "def compute_number_nucleotides(gene_contigs = None):\n",
    "    # compute number of nucleotides in the contig\n",
    "    n_nucleo = 0\n",
    "    for gene in gene_contigs:\n",
    "        gc = gene.split(\"@\")\n",
    "        n_nucleo += int(gc[-2])\n",
    "    return (n_nucleo) "
   ]
  },
  {
   "cell_type": "code",
   "execution_count": 11,
   "id": "2cdd9133-9beb-4347-9ad3-c00b2f087911",
   "metadata": {},
   "outputs": [
    {
     "data": {
      "text/plain": [
       "4747266"
      ]
     },
     "execution_count": 11,
     "metadata": {},
     "output_type": "execute_result"
    }
   ],
   "source": [
    "gene = gene_position.iloc[0,2].split(\";\")\n",
    "gc = gene[0].split(\"@\")\n",
    "compute_number_nucleotides(gene)"
   ]
  },
  {
   "cell_type": "code",
   "execution_count": 12,
   "id": "1ba484ff-3361-4677-9479-a4deda77061c",
   "metadata": {},
   "outputs": [
    {
     "data": {
      "text/plain": [
       "{1: 5, 0: 142}"
      ]
     },
     "execution_count": 12,
     "metadata": {},
     "output_type": "execute_result"
    }
   ],
   "source": [
    "from collections import Counter\n",
    "dict(Counter(gene_position.iloc[:,0]))"
   ]
  },
  {
   "cell_type": "code",
   "execution_count": 13,
   "id": "55a65b98-a719-4764-8f73-bcf362952f2a",
   "metadata": {},
   "outputs": [],
   "source": [
    "# sort by length of contigs\n",
    "gene_position.sort_values(by=\"GeneSequence\", key=lambda x: x.str.len(),  ascending=False, inplace=True)"
   ]
  },
  {
   "cell_type": "code",
   "execution_count": 14,
   "id": "316fbb60-adba-43a5-9258-91b520a9d30f",
   "metadata": {},
   "outputs": [
    {
     "data": {
      "text/html": [
       "<div>\n",
       "<style scoped>\n",
       "    .dataframe tbody tr th:only-of-type {\n",
       "        vertical-align: middle;\n",
       "    }\n",
       "\n",
       "    .dataframe tbody tr th {\n",
       "        vertical-align: top;\n",
       "    }\n",
       "\n",
       "    .dataframe thead th {\n",
       "        text-align: right;\n",
       "    }\n",
       "</style>\n",
       "<table border=\"1\" class=\"dataframe\">\n",
       "  <thead>\n",
       "    <tr style=\"text-align: right;\">\n",
       "      <th></th>\n",
       "      <th>SampleID</th>\n",
       "      <th>ContigName</th>\n",
       "      <th>GeneSequence</th>\n",
       "    </tr>\n",
       "  </thead>\n",
       "  <tbody>\n",
       "    <tr>\n",
       "      <th>0</th>\n",
       "      <td>1</td>\n",
       "      <td>NZ_CP020901.1</td>\n",
       "      <td>1_1@117@1;1_2@483@1;1_3@558@-1;1_4@309@-1;1_5@...</td>\n",
       "    </tr>\n",
       "    <tr>\n",
       "      <th>5</th>\n",
       "      <td>0</td>\n",
       "      <td>NODE_1_length_1228121_cov_190.580240</td>\n",
       "      <td>0_1@1197@-1;0_2@798@1;0_3@1500@-1;0_4@537@1;0_...</td>\n",
       "    </tr>\n",
       "  </tbody>\n",
       "</table>\n",
       "</div>"
      ],
      "text/plain": [
       "   SampleID                            ContigName  \\\n",
       "0         1                         NZ_CP020901.1   \n",
       "5         0  NODE_1_length_1228121_cov_190.580240   \n",
       "\n",
       "                                        GeneSequence  \n",
       "0  1_1@117@1;1_2@483@1;1_3@558@-1;1_4@309@-1;1_5@...  \n",
       "5  0_1@1197@-1;0_2@798@1;0_3@1500@-1;0_4@537@1;0_...  "
      ]
     },
     "execution_count": 14,
     "metadata": {},
     "output_type": "execute_result"
    }
   ],
   "source": [
    "gene_position.head(2)"
   ]
  },
  {
   "cell_type": "code",
   "execution_count": 15,
   "id": "8522625e-d6cd-40f1-a725-7eb555897e78",
   "metadata": {},
   "outputs": [
    {
     "data": {
      "text/html": [
       "<div>\n",
       "<style scoped>\n",
       "    .dataframe tbody tr th:only-of-type {\n",
       "        vertical-align: middle;\n",
       "    }\n",
       "\n",
       "    .dataframe tbody tr th {\n",
       "        vertical-align: top;\n",
       "    }\n",
       "\n",
       "    .dataframe thead th {\n",
       "        text-align: right;\n",
       "    }\n",
       "</style>\n",
       "<table border=\"1\" class=\"dataframe\">\n",
       "  <thead>\n",
       "    <tr style=\"text-align: right;\">\n",
       "      <th></th>\n",
       "      <th>SampleID</th>\n",
       "      <th>ContigName</th>\n",
       "      <th>GeneSequence</th>\n",
       "    </tr>\n",
       "  </thead>\n",
       "  <tbody>\n",
       "  </tbody>\n",
       "</table>\n",
       "</div>"
      ],
      "text/plain": [
       "Empty DataFrame\n",
       "Columns: [SampleID, ContigName, GeneSequence]\n",
       "Index: []"
      ]
     },
     "execution_count": 15,
     "metadata": {},
     "output_type": "execute_result"
    }
   ],
   "source": [
    "gene_position.loc[gene_position[\"SampleID\"]==18]"
   ]
  },
  {
   "cell_type": "code",
   "execution_count": 16,
   "id": "30c5b223-4d54-4fe9-95ab-d3f8c43f0e30",
   "metadata": {},
   "outputs": [
    {
     "name": "stdout",
     "output_type": "stream",
     "text": [
      "List of all samples\n"
     ]
    },
    {
     "data": {
      "text/plain": [
       "array([0, 1])"
      ]
     },
     "execution_count": 16,
     "metadata": {},
     "output_type": "execute_result"
    }
   ],
   "source": [
    "print(\"List of all samples\")\n",
    "n_samples = len(np.unique(gene_position.iloc[:,0]))\n",
    "np.unique(gene_position.iloc[:,0])"
   ]
  },
  {
   "cell_type": "markdown",
   "id": "80a662ae-c935-4ffa-ad09-d76bd647bcc7",
   "metadata": {},
   "source": [
    "# Run here"
   ]
  },
  {
   "cell_type": "code",
   "execution_count": 17,
   "id": "94c34358-518d-4688-aec4-5deb273e230a",
   "metadata": {},
   "outputs": [],
   "source": [
    "%load_ext autoreload\n",
    "%autoreload 2\n",
    "from pangraph import PanGraph"
   ]
  },
  {
   "cell_type": "code",
   "execution_count": 18,
   "id": "b01edd21-f5b6-4efb-9183-34ec46d10921",
   "metadata": {},
   "outputs": [],
   "source": [
    "# construct the pangenome graph\n",
    "min_contig_len = 100\n",
    "pangraph = PanGraph(sample_info=sample_info, gene_info=gene_info, gene_position=gene_position)"
   ]
  },
  {
   "cell_type": "code",
   "execution_count": 19,
   "id": "fb500d8a-bc52-4dab-be2e-5189670c467e",
   "metadata": {},
   "outputs": [
    {
     "name": "stdout",
     "output_type": "stream",
     "text": [
      "Set minimum on number of nucleotides =  200 NUMBER OF COMPUTED CONTIGS: 71\n"
     ]
    }
   ],
   "source": [
    "H = pangraph.construct_graph()\n",
    "# H = pangraph.construct_graph(method = \"graph_alignment\", sample_id_ref = None,  min_nucleotides = 20)"
   ]
  },
  {
   "cell_type": "code",
   "execution_count": 20,
   "id": "140f6029-c71e-40c2-b888-249d86c8ee88",
   "metadata": {},
   "outputs": [
    {
     "data": {
      "text/plain": [
       "(11501, 5809)"
      ]
     },
     "execution_count": 20,
     "metadata": {},
     "output_type": "execute_result"
    }
   ],
   "source": [
    "# number of nodes and edges\n",
    "pangraph.n_clusters, H.number_of_edges()"
   ]
  },
  {
   "cell_type": "code",
   "execution_count": 21,
   "id": "7c03918c-6b2b-4101-b80f-00c4d3c52c21",
   "metadata": {},
   "outputs": [],
   "source": [
    "gene_contigs = gene_position.iloc[0,2].split(\";\") #take the longest sequence"
   ]
  },
  {
   "cell_type": "code",
   "execution_count": 22,
   "id": "cf9545d3-55a6-41da-aafd-5ec281577a2c",
   "metadata": {},
   "outputs": [],
   "source": [
    "def count_dups(nums):\n",
    "    element = []\n",
    "    freque = []\n",
    "    if not nums:\n",
    "        return element\n",
    "    running_count = 1\n",
    "    for i in range(len(nums)-1):\n",
    "        if nums[i] == nums[i+1]:\n",
    "            running_count += 1\n",
    "        else:\n",
    "            freque.append(running_count)\n",
    "            element.append(nums[i])\n",
    "            running_count = 1\n",
    "    freque.append(running_count)\n",
    "    element.append(nums[i+1])\n",
    "    return element,freque"
   ]
  },
  {
   "cell_type": "code",
   "execution_count": 23,
   "id": "d0467ea7-5244-4db6-a7a0-f6cef1beb9bf",
   "metadata": {},
   "outputs": [],
   "source": [
    "list_contig = []\n",
    "for gene in gene_contigs:\n",
    "    cluster_id = pangraph.gene2cluster_dict[gene]\n",
    "    df = gene_info.loc[gene_info.iloc[:,2]==cluster_id]\n",
    "    for i in range(len(df.index)):\n",
    "        if df.iloc[i,1] == 0:\n",
    "            # print(df.iloc[i,0], \"->\", gene2contigs_dict[df.iloc[i,0]], end =\", \")\n",
    "            list_contig.append(gene_position.iloc[pangraph.gene2contigs_dict[df.iloc[i,0]], 1])"
   ]
  },
  {
   "cell_type": "code",
   "execution_count": 24,
   "id": "afdba740-aa8d-4f65-953e-429f06cc7cad",
   "metadata": {},
   "outputs": [],
   "source": [
    "elem, freq = count_dups(list_contig)"
   ]
  },
  {
   "cell_type": "code",
   "execution_count": 25,
   "id": "eb708183-266b-440a-8726-c8279492f1da",
   "metadata": {},
   "outputs": [],
   "source": [
    "# df_array = pd.DataFrame({'contig': elem, 'freq': freq})"
   ]
  },
  {
   "cell_type": "code",
   "execution_count": 26,
   "id": "432ad9e2-7b4f-4e3f-9688-39c9d095ef36",
   "metadata": {},
   "outputs": [],
   "source": [
    "edge_list = []\n",
    "for i in range(len(elem)-1):\n",
    "    edge_list.append([elem[i]+\":\"+str(freq[i]), elem[i+1]+\":\"+str(freq[i+1])])"
   ]
  },
  {
   "cell_type": "code",
   "execution_count": 27,
   "id": "115e201e-8bda-4bcd-a585-479bbf63b775",
   "metadata": {},
   "outputs": [],
   "source": [
    "true_graph = nx.DiGraph()\n",
    "true_graph.add_edges_from(edge_list)"
   ]
  },
  {
   "cell_type": "code",
   "execution_count": 27,
   "id": "17001570-073b-4441-b397-12996e744d52",
   "metadata": {},
   "outputs": [],
   "source": []
  },
  {
   "cell_type": "code",
   "execution_count": 28,
   "id": "634ca2b3-46c9-4280-b1d8-e3eb7160a717",
   "metadata": {},
   "outputs": [],
   "source": [
    "nx.write_gml(true_graph,'cytoscape_out/true_graph.gml')"
   ]
  },
  {
   "cell_type": "code",
   "execution_count": null,
   "id": "2fc4f8d3-ebcd-48ef-83a1-8190613881ac",
   "metadata": {},
   "outputs": [],
   "source": []
  }
 ],
 "metadata": {
  "kernelspec": {
   "display_name": "Environment (panta)",
   "language": "python",
   "name": "panta"
  },
  "language_info": {
   "codemirror_mode": {
    "name": "ipython",
    "version": 3
   },
   "file_extension": ".py",
   "mimetype": "text/x-python",
   "name": "python",
   "nbconvert_exporter": "python",
   "pygments_lexer": "ipython3",
   "version": "3.7.10"
  }
 },
 "nbformat": 4,
 "nbformat_minor": 5
}
