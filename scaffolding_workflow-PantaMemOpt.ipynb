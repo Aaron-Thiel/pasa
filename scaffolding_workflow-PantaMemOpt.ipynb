{
 "cells": [
  {
   "cell_type": "code",
   "execution_count": 1,
   "id": "792bcd93-b1d2-4cda-b3d6-84b03df9edc2",
   "metadata": {},
   "outputs": [],
   "source": [
    "import os\n",
    "import traceback\n",
    "import logging\n",
    "import os.path\n",
    "import networkx as nx\n",
    "import pandas as pd\n",
    "import numpy as np\n",
    "import pylab as pl\n",
    "from matplotlib import collections  as mc\n",
    "import glob\n",
    "import re\n",
    "import csv\n",
    "import shutil"
   ]
  },
  {
   "cell_type": "code",
   "execution_count": 2,
   "id": "5ce0f9f4-a9a7-4e49-af28-991fd29735b9",
   "metadata": {},
   "outputs": [],
   "source": [
    "# simversion = '_v01'\n",
    "simversion = '_plasmid_v01'\n",
    "simversionPangraph = '_assemBiGraph2_v01' #'_assemGraph2_v01': use assembly graph v2; _assemBiGraph2_v01: if (u,v) in G, so is (v-, u-)\n",
    "# simversion = '_plasmid_v02'\n",
    "# simversion = '_plasmid_v03'\n",
    "# simversion = '_plasmid_v04'\n",
    "# 1 True, 0 False\n",
    "run_prokka = 0\n",
    "# run_panta_db = 0\n",
    "prepare_database_4_multicsar = 0\n",
    "run_art = 0\n",
    "run_spades = 0\n",
    "run_panta = 1\n",
    "split_paralogs = 1\n",
    "run_multicsar = 0\n",
    "run_ragout = 0\n",
    "run_pangraph = 1\n",
    "# pangenome_data = '/data/hoan/amromics/data/ncbi/Kp100random/' # for pangraph, Ragout, multi-CSAR #v3\n",
    "pangenome_data = '/data/hoan/amromics/data/ncbi/Ecoli50random/'\n",
    "prokka_target_dir = '/data/hoan/amromics/data/ncbi/Ecolitest/prokka/'\n",
    "# pangenome_data = '/data/hoan/amromics/data/ncbi/Kptest/' # for pangraph, Ragout, multi-CSAR\n",
    "scaffold_out_dir = '/data/hoan/amromics/genome-graph/scaffold_output/'"
   ]
  },
  {
   "cell_type": "code",
   "execution_count": 3,
   "id": "f1472df6-9eb9-424b-8928-03c99e41c0f8",
   "metadata": {},
   "outputs": [
    {
     "name": "stdout",
     "output_type": "stream",
     "text": [
      " --genus Escherichia --species coli --cpus 30  --genus Escherichia --species coli --cpus 30  --genus Escherichia --species coli --cpus 30  --genus Escherichia --species coli --cpus 30\n",
      " --genus Escherichia --species coli --cpus 30  --genus Escherichia --species coli --cpus 30  --genus Escherichia --species coli --cpus 30  --genus Escherichia --species coli --cpus 30\n"
     ]
    }
   ],
   "source": [
    "data_base = ' --genus Escherichia --species coli --cpus 30'\n",
    "print(data_base,data_base,data_base,data_base)\n",
    "print(data_base,data_base,data_base,data_base)\n",
    "output_dir = pangenome_data + 'temp'\n",
    "prokka_dir = pangenome_data + 'prokka'\n",
    "conda_dir = 'source ~/miniconda3/etc/profile.d/conda.sh && conda activate amromics && '\n",
    "# if run_prokka:\n",
    "#     fffile = pangenome_data + 'fna/*.fna'\n",
    "#     list_database = glob.glob(fffile)\n",
    "#     for i in range(len(list_database)):\n",
    "#         input_data = list_database[i]\n",
    "#         print(input_data)\n",
    "#         file_name = input_data.split(\"/\")[-1][:-4]\n",
    "#         prokka_bin = conda_dir + 'prokka --outdir ' + output_dir +data_base +' --prefix ' + file_name +' '+input_data\n",
    "#         os.system(prokka_bin)\n",
    "#         os.system('cp ' + output_dir + '/'+file_name+'.gff ' + prokka_dir)\n",
    "#         os.system('rm -r '+ output_dir)"
   ]
  },
  {
   "cell_type": "code",
   "execution_count": 4,
   "id": "83547e3c-c2c2-42e8-9666-b3a1cff1dcad",
   "metadata": {},
   "outputs": [],
   "source": [
    "if prepare_database_4_multicsar==1:\n",
    "    os.system('rm -r ' + pangenome_data + 'fna/')\n",
    "    os.system('mkdir ' + pangenome_data + 'fna/')\n",
    "    os.system('cp -r '+ pangenome_data + '*.fna.gz '+ pangenome_data + 'fna/')\n",
    "    os.system('~/miniconda3/envs/panta/bin/gzip -d ' + pangenome_data + 'fna/*.fna.gz')"
   ]
  },
  {
   "cell_type": "markdown",
   "id": "ea10ac98-91ce-4d6c-a61c-9c6e754e5935",
   "metadata": {},
   "source": [
    "### Simulate reads using ART"
   ]
  },
  {
   "cell_type": "code",
   "execution_count": 5,
   "id": "706c8a73-380f-4073-b6f3-72908b943544",
   "metadata": {},
   "outputs": [],
   "source": [
    "# https://github.com/scchess/Art/blob/master/art_illumina_README"
   ]
  },
  {
   "cell_type": "code",
   "execution_count": 6,
   "id": "b5c4219e-b96b-4e69-9545-8c8e1e67de28",
   "metadata": {},
   "outputs": [],
   "source": [
    "sim_dir = '/data/hoan/amromics/simulation/'\n",
    "art_bin = '/data/hoan/amromics/simulation/art_bin/./art_illumina'"
   ]
  },
  {
   "cell_type": "code",
   "execution_count": 7,
   "id": "f49f0939-0560-4507-b1a0-0c29e83e11da",
   "metadata": {},
   "outputs": [],
   "source": [
    "# ref_data = '/data/hoan/amromics/simulation/references/GCF_000240185.1_ASM24018v2_genomic.fasta'\n",
    "# ref_data = '/data/hoan/amromics/simulation/references/GCF_000240185.1_ASM24018v2_genomic.fna'\n",
    "ref_data = '/data/hoan/amromics/data/ncbi/Ecolitest/GCF_002860105.1_ASM286010v1_genomic.fna'\n",
    "# ref_data = '/data/hoan/amromics/data/ncbi/Ecolitest/GCF_002899495.1_ASM289949v1_genomic.fna'\n",
    "# ref_data = '/data/hoan/amromics/data/ncbi/Ecolitest/GCF_004135915.1_ASM413591v1_genomic.fna'\n",
    "# ref_data = '/data/hoan/amromics/data/ncbi/Ecolitest/GCF_006351885.1_ASM635188v1_genomic.fna'\n",
    "# ref_data = '/data/hoan/amromics/data/ncbi/Ecolitest/GCF_008931765.1_ASM893176v1_genomic.fna'\n",
    "# GCF_006351885_v01\n",
    "sim_name = ref_data.split(\"/\")[-2] + '_' + ref_data.split(\"/\")[-1][:-1][:13]\n",
    "sim_output = '/data/hoan/amromics/simulation/art_output/sim_reads_' + sim_name + simversion[-4:]\n",
    "# sim_output = '/data/hoan/amromics/simulation/art_output/paired_dat_test'"
   ]
  },
  {
   "cell_type": "code",
   "execution_count": 8,
   "id": "c802e106-3a8e-48ee-9319-e24c5d347ae2",
   "metadata": {},
   "outputs": [
    {
     "data": {
      "text/plain": [
       "'/data/hoan/amromics/simulation/art_output/sim_reads_Ecolitest_GCF_002860105_v01'"
      ]
     },
     "execution_count": 8,
     "metadata": {},
     "output_type": "execute_result"
    }
   ],
   "source": [
    "sim_output"
   ]
  },
  {
   "cell_type": "code",
   "execution_count": 9,
   "id": "05d8c28d-f058-4e33-a89f-9d54860bf706",
   "metadata": {},
   "outputs": [],
   "source": [
    "if run_art: \n",
    "    if simversion[-3:]=='v01':\n",
    "        os.system(art_bin+' -ss HS20 -sam -i '+ref_data+' -p -l 100 -f 70 -m 400 -s 60 -o '+sim_output) # _v01\n",
    "    if simversion[-3:]=='v02':\n",
    "        os.system(art_bin+' -ss HS20 -sam -i '+ref_data+' -p -l 100 -f 70 -m 400 -s 10 -o '+sim_output) # _v02\n",
    "    if simversion[-3:]=='v03':\n",
    "        os.system(art_bin+' -ss MSv3 -sam -i '+ref_data+' -p -l 250 -f 70 -m 400 -s 60 -o '+sim_output) # _v03\n",
    "    if simversion[-3:]=='v04':\n",
    "        os.system(art_bin+' -ss MSv3 -sam -i '+ref_data+' -p -l 250 -f 70 -m 400 -s 10 -o '+sim_output) # _v04"
   ]
  },
  {
   "cell_type": "markdown",
   "id": "87fd93fb-e2d0-4f37-92b0-7f39bf9e37c5",
   "metadata": {},
   "source": [
    "### Run SPADES assembly"
   ]
  },
  {
   "cell_type": "code",
   "execution_count": 10,
   "id": "9a8c3d4c-9b2a-484c-a1c8-60acf3e64766",
   "metadata": {},
   "outputs": [],
   "source": [
    "spades_output = '/data/hoan/amromics/simulation/art_output/' + 'spades_output_' + sim_name + simversion[-4:]\n"
   ]
  },
  {
   "cell_type": "code",
   "execution_count": 11,
   "id": "3ee3e8cf-e24e-4cc7-8f5f-0e6c985389e6",
   "metadata": {},
   "outputs": [],
   "source": [
    "if run_spades:\n",
    "    spades_bin ='~/miniconda3/envs/amromics/bin/spades.py'\n",
    "    os.system(spades_bin+' --isolate -1 '+sim_output+'1.fq -2 '+sim_output+'2.fq -t 50 -o '+spades_output)"
   ]
  },
  {
   "cell_type": "markdown",
   "id": "810a07c5-1c26-4c6f-9f60-bcf6aae01147",
   "metadata": {},
   "source": [
    "### Run panta"
   ]
  },
  {
   "cell_type": "code",
   "execution_count": 12,
   "id": "97033d06-5c90-4760-a312-d6c129cf00d0",
   "metadata": {},
   "outputs": [
    {
     "data": {
      "text/plain": [
       "'_Ecoli50random_Ecolitest_GCF_002860105_plasmid_v01'"
      ]
     },
     "execution_count": 12,
     "metadata": {},
     "output_type": "execute_result"
    }
   ],
   "source": [
    "simversionRef = '_'+ pangenome_data.split('/')[-2] +'_'+ sim_name + simversion\n",
    "simversionRef"
   ]
  },
  {
   "cell_type": "code",
   "execution_count": 13,
   "id": "2f1f6a54-9caa-426c-9177-459537ca5582",
   "metadata": {},
   "outputs": [
    {
     "name": "stdout",
     "output_type": "stream",
     "text": [
      "Pangenome data:  /data/hoan/amromics/data/ncbi/Ecoli50random/\n"
     ]
    }
   ],
   "source": [
    "# move spades ouput to panta dir\n",
    "print('Pangenome data: ', pangenome_data)\n"
   ]
  },
  {
   "cell_type": "code",
   "execution_count": null,
   "id": "9421e4e9-36ed-4ec5-a6bb-72448074c4a8",
   "metadata": {},
   "outputs": [],
   "source": [
    "if 1:\n",
    "    conda_dir = 'source ~/miniconda3/etc/profile.d/conda.sh && conda activate amromics && '\n",
    "    input_data = spades_output + '/contigs.fasta'\n",
    "    os.system('rm -r ' + prokka_target_dir +'temp/')\n",
    "    prokka_bin = conda_dir + 'prokka --outdir ' + prokka_target_dir +'temp' +data_base +' --prefix ' + sim_name +' '+input_data\n",
    "    os.system(prokka_bin)\n",
    "    os.system('cp ' + prokka_target_dir +'temp/'+sim_name+'.gff ' + prokka_target_dir + 'g1.gff')\n",
    "    os.system('cp ' + prokka_target_dir +'temp/'+sim_name+'.gff ' + prokka_target_dir + sim_name+'.gff')\n",
    "    os.system('rm -r ' + prokka_target_dir +'temp/')"
   ]
  },
  {
   "cell_type": "code",
   "execution_count": 15,
   "id": "50c82b12-4864-47fb-8534-abdaef148260",
   "metadata": {},
   "outputs": [
    {
     "data": {
      "text/plain": [
       "'source ~/miniconda3/etc/profile.d/conda.sh && conda activate amromics && prokka --outdir /data/hoan/amromics/data/ncbi/Ecolitest/prokka/temp --genus Escherichia --species coli --cpus 30 --prefix Ecolitest_GCF_002860105 /data/hoan/amromics/simulation/art_output/spades_output_Ecolitest_GCF_002860105_v01/contigs.fasta'"
      ]
     },
     "execution_count": 15,
     "metadata": {},
     "output_type": "execute_result"
    }
   ],
   "source": [
    "prokka_bin"
   ]
  },
  {
   "cell_type": "code",
   "execution_count": 16,
   "id": "b2c7d384-dff2-4c8a-8b23-4ed8c96845d3",
   "metadata": {},
   "outputs": [],
   "source": [
    "# print('cp '+prokka_target_dir + sim_name+'.gff ' + pangenome_data +'prokka/')"
   ]
  },
  {
   "cell_type": "code",
   "execution_count": 17,
   "id": "ade2e475-0f72-47d5-b504-78883539e07b",
   "metadata": {},
   "outputs": [
    {
     "name": "stdout",
     "output_type": "stream",
     "text": [
      "source ~/miniconda3/etc/profile.d/conda.sh && conda activate panta && python /data/hoan/amromics/panta_memopt/pan-genome.py main -o /data/hoan/amromics/genome-graph/scaffold_output/pantaOut/pantaOut_Ecoli50random_Ecolitest_GCF_002860105_plasmid_v01 -g /data/hoan/amromics/data/ncbi/Ecoli50random/prokka/*.gff\n"
     ]
    },
    {
     "name": "stderr",
     "output_type": "stream",
     "text": [
      "04:58:14 INFO : Extract protein -- time taken 0:01:29.444204\n",
      "04:58:51 INFO : Run CD-HIT with 98% identity -- time taken 0:00:31.751985\n",
      "05:00:18 INFO : All-against-all BLASTP -- time taken 0:01:26.463458\n",
      "05:00:22 INFO : Cluster with MCL -- time taken 0:00:02.754106\n",
      "05:00:22 INFO : Reinflate clusters -- time taken 0:00:00.164139\n",
      "05:00:22 INFO : len inflated_clusters = 16524 len clusters = 29510\n",
      "05:00:22 INFO : MEM at split_paralog0: 110.22336 0 inc = 110.22336\n",
      "05:00:22 INFO : MEM at split_paralog0: 160.07168 110.22336 inc = 49.84831999999999\n",
      "05:00:22 INFO : Number of clusters before spliting 16524\n",
      "05:00:25 INFO : Split paralogs iterate 0 -- count = 1843 time taken 0:00:02.676036\n",
      "05:00:25 INFO : MEM at split_paralog2: 171.8272 160.07168 inc = 11.755520000000018\n",
      "05:00:25 INFO : Split paralogs iterate 1 -- count = 675 time taken 0:00:00.935888\n",
      "05:00:25 INFO : MEM at split_paralog2: 176.90624 171.8272 inc = 5.079039999999992\n",
      "05:00:26 INFO : Split paralogs iterate 2 -- count = 374 time taken 0:00:00.514336\n",
      "05:00:26 INFO : MEM at split_paralog2: 177.17248 176.90624 inc = 0.26624000000001047\n",
      "05:00:26 INFO : Split paralogs iterate 3 -- count = 232 time taken 0:00:00.338807\n",
      "05:00:26 INFO : MEM at split_paralog2: 187.695104 177.17248 inc = 10.522623999999979\n",
      "05:00:27 INFO : Split paralogs iterate 4 -- count = 138 time taken 0:00:00.251705\n",
      "05:00:27 INFO : MEM at split_paralog2: 187.895808 187.695104 inc = 0.20070400000000177\n",
      "05:00:27 INFO : Split paralogs iterate 5 -- count = 89 time taken 0:00:00.196848\n",
      "05:00:27 INFO : MEM at split_paralog2: 187.895808 187.895808 inc = 0.0\n",
      "05:00:27 INFO : Split paralogs iterate 6 -- count = 61 time taken 0:00:00.169003\n",
      "05:00:27 INFO : MEM at split_paralog2: 187.895808 187.895808 inc = 0.0\n",
      "05:00:27 INFO : Split paralogs iterate 7 -- count = 48 time taken 0:00:00.151900\n",
      "05:00:27 INFO : MEM at split_paralog2: 188.035072 187.895808 inc = 0.1392640000000256\n",
      "05:00:27 INFO : Split paralogs iterate 8 -- count = 38 time taken 0:00:00.132753\n",
      "05:00:27 INFO : MEM at split_paralog2: 188.035072 188.035072 inc = 0.0\n",
      "05:00:27 INFO : Split paralogs iterate 9 -- count = 27 time taken 0:00:00.123304\n",
      "05:00:27 INFO : MEM at split_paralog2: 188.035072 188.035072 inc = 0.0\n",
      "05:00:27 INFO : Split paralogs iterate 10 -- count = 27 time taken 0:00:00.133929\n",
      "05:00:27 INFO : MEM at split_paralog2: 188.080128 188.035072 inc = 0.04505599999998822\n",
      "05:00:28 INFO : Split paralogs iterate 11 -- count = 23 time taken 0:00:00.119844\n",
      "05:00:28 INFO : MEM at split_paralog2: 188.084224 188.080128 inc = 0.004096000000004096\n",
      "05:00:28 INFO : Split paralogs iterate 12 -- count = 20 time taken 0:00:00.109950\n",
      "05:00:28 INFO : MEM at split_paralog2: 188.112896 188.084224 inc = 0.028672000000000253\n",
      "05:00:28 INFO : Split paralogs iterate 13 -- count = 17 time taken 0:00:00.104208\n",
      "05:00:28 INFO : MEM at split_paralog2: 188.112896 188.112896 inc = 0.0\n",
      "05:00:28 INFO : Split paralogs iterate 14 -- count = 16 time taken 0:00:00.101513\n",
      "05:00:28 INFO : MEM at split_paralog2: 188.29312 188.112896 inc = 0.1802239999999813\n",
      "05:00:28 INFO : Split paralogs iterate 15 -- count = 14 time taken 0:00:00.098432\n",
      "05:00:28 INFO : MEM at split_paralog2: 188.29312 188.29312 inc = 0.0\n",
      "05:00:28 INFO : Split paralogs iterate 16 -- count = 9 time taken 0:00:00.093926\n",
      "05:00:28 INFO : MEM at split_paralog2: 188.29312 188.29312 inc = 0.0\n",
      "05:00:28 INFO : Split paralogs iterate 17 -- count = 12 time taken 0:00:00.092162\n",
      "05:00:28 INFO : MEM at split_paralog2: 188.29312 188.29312 inc = 0.0\n",
      "05:00:28 INFO : Split paralogs iterate 18 -- count = 8 time taken 0:00:00.085518\n",
      "05:00:28 INFO : MEM at split_paralog2: 188.29312 188.29312 inc = 0.0\n",
      "05:00:28 INFO : Split paralogs iterate 19 -- count = 5 time taken 0:00:00.084282\n",
      "05:00:28 INFO : MEM at split_paralog2: 188.29312 188.29312 inc = 0.0\n",
      "05:00:28 INFO : Split paralogs iterate 20 -- count = 8 time taken 0:00:00.079083\n",
      "05:00:28 INFO : MEM at split_paralog2: 188.29312 188.29312 inc = 0.0\n",
      "05:00:29 INFO : Split paralogs iterate 21 -- count = 7 time taken 0:00:00.074863\n",
      "05:00:29 INFO : MEM at split_paralog2: 188.29312 188.29312 inc = 0.0\n",
      "05:00:29 INFO : Split paralogs iterate 22 -- count = 6 time taken 0:00:00.072337\n",
      "05:00:29 INFO : MEM at split_paralog2: 188.29312 188.29312 inc = 0.0\n",
      "05:00:29 INFO : Split paralogs iterate 23 -- count = 5 time taken 0:00:00.072656\n",
      "05:00:29 INFO : MEM at split_paralog2: 188.29312 188.29312 inc = 0.0\n",
      "05:00:29 INFO : Split paralogs iterate 24 -- count = 4 time taken 0:00:00.070856\n",
      "05:00:29 INFO : MEM at split_paralog2: 188.29312 188.29312 inc = 0.0\n",
      "05:00:29 INFO : Split paralogs iterate 25 -- count = 4 time taken 0:00:00.066770\n",
      "05:00:29 INFO : MEM at split_paralog2: 188.29312 188.29312 inc = 0.0\n",
      "05:00:29 INFO : Split paralogs iterate 26 -- count = 3 time taken 0:00:00.064311\n",
      "05:00:29 INFO : MEM at split_paralog2: 188.29312 188.29312 inc = 0.0\n",
      "05:00:29 INFO : Split paralogs iterate 27 -- count = 5 time taken 0:00:00.063983\n",
      "05:00:29 INFO : MEM at split_paralog2: 188.29312 188.29312 inc = 0.0\n",
      "05:00:29 INFO : Split paralogs iterate 28 -- count = 6 time taken 0:00:00.061912\n",
      "05:00:29 INFO : MEM at split_paralog2: 188.29312 188.29312 inc = 0.0\n",
      "05:00:29 INFO : Split paralogs iterate 29 -- count = 6 time taken 0:00:00.062682\n",
      "05:00:29 INFO : MEM at split_paralog2: 188.29312 188.29312 inc = 0.0\n",
      "05:00:29 INFO : Split paralogs iterate 30 -- count = 1 time taken 0:00:00.064738\n",
      "05:00:29 INFO : MEM at split_paralog2: 188.29312 188.29312 inc = 0.0\n",
      "05:00:29 INFO : Split paralogs iterate 31 -- count = 3 time taken 0:00:00.065092\n",
      "05:00:29 INFO : MEM at split_paralog2: 188.29312 188.29312 inc = 0.0\n",
      "05:00:29 INFO : Split paralogs iterate 32 -- count = 1 time taken 0:00:00.063276\n",
      "05:00:29 INFO : MEM at split_paralog2: 188.29312 188.29312 inc = 0.0\n",
      "05:00:29 INFO : Split paralogs iterate 33 -- count = 4 time taken 0:00:00.063149\n",
      "05:00:29 INFO : MEM at split_paralog2: 188.29312 188.29312 inc = 0.0\n",
      "05:00:29 INFO : Split paralogs iterate 34 -- count = 3 time taken 0:00:00.062167\n",
      "05:00:29 INFO : MEM at split_paralog2: 188.29312 188.29312 inc = 0.0\n",
      "05:00:29 INFO : Split paralogs iterate 35 -- count = 1 time taken 0:00:00.059419\n",
      "05:00:29 INFO : MEM at split_paralog2: 188.29312 188.29312 inc = 0.0\n",
      "05:00:29 INFO : Split paralogs iterate 36 -- count = 3 time taken 0:00:00.059409\n",
      "05:00:29 INFO : MEM at split_paralog2: 188.29312 188.29312 inc = 0.0\n",
      "05:00:30 INFO : Split paralogs iterate 37 -- count = 4 time taken 0:00:00.055852\n",
      "05:00:30 INFO : MEM at split_paralog2: 188.29312 188.29312 inc = 0.0\n",
      "05:00:30 INFO : Split paralogs iterate 38 -- count = 4 time taken 0:00:00.055155\n",
      "05:00:30 INFO : MEM at split_paralog2: 188.29312 188.29312 inc = 0.0\n",
      "05:00:30 INFO : Split paralogs iterate 39 -- count = 0 time taken 0:00:00.051739\n",
      "05:00:30 INFO : MEM at split_paralog2: 188.29312 188.29312 inc = 0.0\n",
      "05:00:30 INFO : Number of clusters after spliting 22207\n",
      "05:00:30 INFO : Split paralogs -- time taken 0:00:07.922753\n",
      "05:00:30 INFO : MEM at split_paralog3: 188.29312 188.29312 inc = 0.0\n",
      "05:00:30 INFO : len split_clusters = 22207\n",
      "05:00:32 INFO : Annotate clusters -- time taken 0:00:01.896933\n",
      "05:00:34 INFO : Create spreadsheet -- time taken 0:00:02.242666\n",
      "05:00:35 INFO : Create Rtab -- time taken 0:00:00.941377\n",
      "05:00:35 INFO : Create summary -- time taken 0:00:00.087132\n",
      "05:00:38 INFO : Done -- time taken 0:03:52.971468\n"
     ]
    }
   ],
   "source": [
    "pantaconda_dir = 'source ~/miniconda3/etc/profile.d/conda.sh && conda activate panta && '\n",
    "panta_bin =pantaconda_dir+'python /data/hoan/amromics/panta_memopt/pan-genome.py'\n",
    "panta_output = '/data/hoan/amromics/genome-graph/scaffold_output/pantaOut/pantaOut' + simversionRef\n",
    "panta_input = pangenome_data +'prokka/*.gff'\n",
    "run_panta_main = 1\n",
    "if run_panta_main:\n",
    "    os.system('cp '+prokka_target_dir + sim_name+'.gff ' + pangenome_data +'prokka/')\n",
    "    cmd_panta = panta_bin + ' main -o ' + panta_output +' -g ' + panta_input\n",
    "    print(cmd_panta)\n",
    "    os.system(cmd_panta)\n",
    "    from pangraph.utils import export_metadata\n",
    "    export_metadata(panta_output)"
   ]
  },
  {
   "cell_type": "code",
   "execution_count": 18,
   "id": "18bed263-0832-4328-ae52-c6a3ce83d02f",
   "metadata": {},
   "outputs": [],
   "source": [
    "# # file_name= ref_data.split(\"/\")[-1][:-4]\n",
    "# # cmd_copy = 'cp ' + prokka_target_dir + file_name + '.gff ' + prokka_target_dir + 'g1.gff'\n",
    "# # panta_target_input = prokka_target_dir + file_name + '.gff'\n",
    "# # os.system(cmd_copy)\n",
    "# # panta_target_input = prokka_target_dir + 'g1.gff'\n",
    "# ### Khong the lam nhu the nay duoc vi day co phai la cai ta can noi dau???\n",
    "# # panta_target_input = prokka_target_dir + 'g1.gff'\n",
    "# panta_target_input = prokka_target_dir + sim_name + '.gff'\n",
    "# cmd_panta = panta_bin + ' add -c ' + panta_output +' -g ' + panta_target_input\n",
    "# if run_panta:\n",
    "#     os.system(cmd_panta)\n",
    "#     # create samples.tsv\n",
    "#     from pangraph.utils import export_metadata\n",
    "#     export_metadata(panta_output)"
   ]
  },
  {
   "cell_type": "code",
   "execution_count": 19,
   "id": "86a50e86-77ca-4b6d-8188-0592ea81c7aa",
   "metadata": {},
   "outputs": [
    {
     "data": {
      "text/plain": [
       "0"
      ]
     },
     "execution_count": 19,
     "metadata": {},
     "output_type": "execute_result"
    }
   ],
   "source": [
    "os.system('rm '+ pangenome_data +'prokka/' + sim_name+'.gff')"
   ]
  },
  {
   "cell_type": "code",
   "execution_count": 20,
   "id": "92e43339-a495-4103-8c19-d109a09f169f",
   "metadata": {},
   "outputs": [],
   "source": [
    "from pangraph.utils import export_metadata\n",
    "export_metadata(panta_output)"
   ]
  },
  {
   "cell_type": "markdown",
   "id": "00da366b-5605-4068-ac1d-9dd1162f316e",
   "metadata": {},
   "source": [
    "### Run pangraph"
   ]
  },
  {
   "cell_type": "code",
   "execution_count": 21,
   "id": "5ade0fe7-9980-4e5f-b93b-c3faef84950e",
   "metadata": {},
   "outputs": [],
   "source": [
    "try:\n",
    "    %load_ext autoreload\n",
    "    %autoreload 2\n",
    "except Exception as e:\n",
    "    logging.error(traceback.format_exc())\n",
    "from pangraph import PanGraph"
   ]
  },
  {
   "cell_type": "code",
   "execution_count": 22,
   "id": "d1862260-72f1-4641-b810-94b4123a86ac",
   "metadata": {},
   "outputs": [],
   "source": [
    "# set parameters\n",
    "data_dir = panta_output \n",
    "# incomplete_sample_name = 'g1'\n",
    "incomplete_sample_name = sim_name\n",
    "assem_dir = spades_output\n",
    "fasta_gen = 'partial' # 'all', 'partial'"
   ]
  },
  {
   "cell_type": "code",
   "execution_count": 23,
   "id": "dfd3bc62-c654-4354-96c9-67a9bbfa0b5e",
   "metadata": {},
   "outputs": [],
   "source": [
    "simversionRefNew = '_'+ pangenome_data.split('/')[-2] +'_'+ sim_name + simversionPangraph\n",
    "# pangraph_output_greedy_default = scaffold_out_dir + 'pangraph_greedy'+ simversionRef + '.fasta'\n",
    "# pangraph_output_opt_default = scaffold_out_dir + 'pangraph_opt'+ simversionRef + '.fasta'\n",
    "pangraph_output_greedy = scaffold_out_dir + 'pangraph_greedy'+ simversionRefNew + '.fasta'\n",
    "pangraph_output_opt = scaffold_out_dir + 'pangraph_opt'+ simversionRefNew + '.fasta'"
   ]
  },
  {
   "cell_type": "code",
   "execution_count": 24,
   "id": "ac2c9bb8-2ddb-43cd-a9a7-1651ff101500",
   "metadata": {},
   "outputs": [
    {
     "data": {
      "text/plain": [
       "'/data/hoan/amromics/genome-graph/scaffold_output/pangraph_opt_Ecoli50random_Ecolitest_GCF_002860105_assemBiGraph2_v01.fasta'"
      ]
     },
     "execution_count": 24,
     "metadata": {},
     "output_type": "execute_result"
    }
   ],
   "source": [
    "pangraph_output_opt"
   ]
  },
  {
   "cell_type": "code",
   "execution_count": 25,
   "id": "2d80d0e9-7cad-4007-b13c-035283ec8660",
   "metadata": {},
   "outputs": [
    {
     "name": "stdout",
     "output_type": "stream",
     "text": [
      "Should we use target sequence as reference, hence, the strand will be ok\n",
      "Set minimum on number of nucleotides =  10 NUMBER OF COMPUTED CONTIGS: 257\n",
      "Clip the matrix 0.2 !!!!!!!!!!!!!!!!!!!!!!!!!!!!!!!!!!\n",
      "Use modified  assembly graph\n",
      "Use union graph: overlap + assembly\n",
      "Reduce the cost by 1/2 if there is no path in the assembly graph\n",
      "Reduce the cost by 1/2 if there is no path in the assembly graph\n",
      "Will test this, Ok?\n",
      "Success! File written\n"
     ]
    }
   ],
   "source": [
    "if run_pangraph:\n",
    "    # https://stackoverflow.com/questions/4990718/how-can-i-write-a-try-except-block-that-catches-all-exceptions\n",
    "    pangraph = PanGraph(sample_info=None, gene_info=None, gene_position=None)\n",
    "    try:\n",
    "        maximum_matching = 'greedy'\n",
    "        pangraph.run_pangraph_pipeline(data_dir, incomplete_sample_name, assem_dir, fasta_gen, pangraph_output_greedy, maximum_matching)\n",
    "    except Exception as e:\n",
    "        logging.error(traceback.format_exc())\n",
    "        # Logs the error appropriately. "
   ]
  },
  {
   "cell_type": "code",
   "execution_count": 26,
   "id": "e57ff376-f3a4-40c7-afb5-ca007313d50b",
   "metadata": {},
   "outputs": [
    {
     "name": "stdout",
     "output_type": "stream",
     "text": [
      "Reduce the cost by 1/2 if there is no path in the assembly graph\n",
      "Reduce the cost by 1/2 if there is no path in the assembly graph\n",
      "Compute maximum matching\n",
      "Will test this, Ok?\n",
      "Will test this, Ok?\n",
      "Success! File written\n"
     ]
    }
   ],
   "source": [
    "if run_pangraph:\n",
    "    try:\n",
    "        maximum_matching = 'opt'\n",
    "        pangraph.RERUN_pangraph_pipeline(data_dir, incomplete_sample_name, assem_dir, fasta_gen, pangraph_output_opt, maximum_matching)\n",
    "    except Exception as e:\n",
    "        logging.error(traceback.format_exc())\n",
    "        # Logs the error appropriately. "
   ]
  },
  {
   "cell_type": "code",
   "execution_count": 27,
   "id": "1f12508b-05f5-4126-88d3-3a07d2cb756a",
   "metadata": {},
   "outputs": [],
   "source": [
    "# pangraph.adj_list0"
   ]
  },
  {
   "cell_type": "markdown",
   "id": "a21d3a7c-fc03-4c81-9957-93d225838fe5",
   "metadata": {},
   "source": [
    "### Run scaffold methods"
   ]
  },
  {
   "cell_type": "code",
   "execution_count": 28,
   "id": "3d4dd495-be29-4b69-81f6-a03f1027725e",
   "metadata": {},
   "outputs": [],
   "source": [
    "### Multi-CSAR\n",
    "conda_dir = 'source ~/miniconda3/etc/profile.d/conda.sh && conda activate py27 && '\n",
    "csar_bin = conda_dir + '/data/hoan/amromics/assembly/Multi-CSAR/./multi-csar.php'"
   ]
  },
  {
   "cell_type": "code",
   "execution_count": 29,
   "id": "571a94e7-92e9-49e8-87ca-7ddff8c08908",
   "metadata": {},
   "outputs": [],
   "source": [
    "multicsar_output = scaffold_out_dir + 'multicsar/multicsar' + simversionRef\n",
    "if run_multicsar:\n",
    "    os.system('cp '+spades_output+'/contigs.fasta ' + pangenome_data + 'g1.fna')\n",
    "    os.system('rm ' + pangenome_data + 'fna/g1*')\n",
    "    os.system(csar_bin +' -t '+pangenome_data+'g1.fna -r '+pangenome_data+'fna/ --nuc -o '+multicsar_output)\n",
    "    # os.system(csar_bin +' -t '+pangenome_data+'g1.fna -r '+pangenome_data+'*.fna --nuc -o '+multicsar_output)"
   ]
  },
  {
   "cell_type": "code",
   "execution_count": 30,
   "id": "b36507eb-e063-4b98-b9b8-94f989d64252",
   "metadata": {},
   "outputs": [
    {
     "data": {
      "text/plain": [
       "'/data/hoan/amromics/genome-graph/scaffold_output/multicsar/multicsar_Ecoli50random_Ecolitest_GCF_002860105_plasmid_v01'"
      ]
     },
     "execution_count": 30,
     "metadata": {},
     "output_type": "execute_result"
    }
   ],
   "source": [
    "multicsar_output"
   ]
  },
  {
   "cell_type": "code",
   "execution_count": 31,
   "id": "1b914df9-78d2-4d3d-842f-e22ecb65fc4c",
   "metadata": {},
   "outputs": [],
   "source": [
    "### Ragout\n",
    "ragout_bin = 'source ~/miniconda3/etc/profile.d/conda.sh && conda activate py27 && ragout '\n",
    "ragout_output = scaffold_out_dir + 'multicsar/ragout' + simversionRef\n",
    "if run_ragout:\n",
    "    # write receipt file\n",
    "    ref_files_list = glob.glob(pangenome_data+'fna/*')\n",
    "    n_files = len(ref_files_list)\n",
    "    receipt_file_dir = '/data/hoan/amromics/assembly/Ragout/kp100'+simversionRef+'.rcp'\n",
    "    f = open(receipt_file_dir, \"w\")\n",
    "    f.write('.references = ')\n",
    "    for idx in range(n_files-1):\n",
    "        f.write('r' + str(idx) + ',')\n",
    "    f.write('r'+str(n_files-1)+'\\n')\n",
    "    f.write(\".target = mg1655\\n\\n\")\n",
    "    for idx in range(n_files):\n",
    "        f.write('r'+str(idx)+'.fasta =' + ref_files_list[idx] + '\\n')\n",
    "    f.write('mg1655.fasta = ' + spades_output+'/contigs.fasta\\n')\n",
    "    f.close()"
   ]
  },
  {
   "cell_type": "code",
   "execution_count": 32,
   "id": "c420de89-d23f-45ef-bb74-f47a5abcf988",
   "metadata": {},
   "outputs": [],
   "source": [
    "if run_ragout:\n",
    "    os.system(ragout_bin + receipt_file_dir + ' --outdir ' + ragout_output + ' --refine')\n",
    "    # ragout kp100_v2.rcp --outdir output_Kp100p_v2/ --refine"
   ]
  },
  {
   "cell_type": "code",
   "execution_count": 33,
   "id": "ca6e60d4-4815-48a0-9f87-5be961567050",
   "metadata": {},
   "outputs": [
    {
     "name": "stdout",
     "output_type": "stream",
     "text": [
      "/data/hoan/amromics/genome-graph/scaffold_output/multicsar/ragout_Ecoli50random_Ecolitest_GCF_002860105_plasmid_v01\n"
     ]
    }
   ],
   "source": [
    "print(ragout_output)"
   ]
  },
  {
   "cell_type": "markdown",
   "id": "f2188478-51fd-4f84-b640-6a9e96127648",
   "metadata": {},
   "source": [
    "### Quast "
   ]
  },
  {
   "cell_type": "code",
   "execution_count": 34,
   "id": "8d845fc8-a033-4ad3-b97f-49d87f25541d",
   "metadata": {},
   "outputs": [
    {
     "data": {
      "text/plain": [
       "'/data/hoan/amromics/genome-graph/scaffold_output/quastResults_Ecoli50random_Ecolitest_GCF_002860105_assemBiGraph2_v01'"
      ]
     },
     "execution_count": 34,
     "metadata": {},
     "output_type": "execute_result"
    }
   ],
   "source": [
    "quast_output = '/data/hoan/amromics/genome-graph/scaffold_output/quastResults' + simversionRefNew\n",
    "quast_output"
   ]
  },
  {
   "cell_type": "code",
   "execution_count": 35,
   "id": "24b358d7-6607-4228-87bb-b30b626ba330",
   "metadata": {},
   "outputs": [
    {
     "name": "stdout",
     "output_type": "stream",
     "text": [
      "/data/hoan/amromics/spades_quast/quast-5.2.0/quast.py /data/hoan/amromics/genome-graph/scaffold_output/pangraph_opt_Ecoli50random_Ecolitest_GCF_002860105_assemBiGraph2_v01.fasta /data/hoan/amromics/genome-graph/scaffold_output/pangraph_greedy_Ecoli50random_Ecolitest_GCF_002860105_assemBiGraph2_v01.fasta /data/hoan/amromics/genome-graph/scaffold_output/multicsar/multicsar_Ecoli50random_Ecolitest_GCF_002860105_plasmid_v01/multi-csar.nuc.out.fna /data/hoan/amromics/simulation/art_output/spades_output_Ecolitest_GCF_002860105_v01/contigs.fasta -l Pangraph_OPT, Pangraph_Greedy, Multi-CSAR, SPADES -r /data/hoan/amromics/data/ncbi/Ecolitest/GCF_002860105.1_ASM286010v1_genomic.fna -o /data/hoan/amromics/genome-graph/scaffold_output/quastResults_Ecoli50random_Ecolitest_GCF_002860105_assemBiGraph2_v01 --silent --extensive-mis-size 5000 --local-mis-size 3000\n",
      "\n",
      "\n",
      "System information:\n",
      "  OS: Linux-3.10.0-1160.15.2.el7.x86_64-x86_64-with-redhat-7.9-Nitrogen (linux_64)\n",
      "  Python version: 2.7.5\n",
      "  CPUs number: 72\n",
      "\n",
      "Started: 2023-01-18 17:03:24\n",
      "\n",
      "Logging to /data/hoan/amromics/genome-graph/scaffold_output/quastResults_Ecoli50random_Ecolitest_GCF_002860105_assemBiGraph2_v01/quast.log\n",
      "NOTICE: Output directory already exists and looks like a QUAST output dir. Existing results can be reused (e.g. previously generated alignments)!\n",
      "NOTICE: Maximum number of threads is set to 18 (use --threads option to set it manually)\n",
      "\n",
      "CWD: /data/hoan/amromics/genome-graph\n",
      "Main parameters: \n",
      "  MODE: default, threads: 18, min contig length: 500, min alignment length: 65, min alignment IDY: 95.0, \\\n",
      "  ambiguity: one, min local misassembly length: 3000, min extensive misassembly length: 5000\n",
      "\n",
      "Reference:\n",
      "  /data/hoan/amromics/data/ncbi/Ecolitest/GCF_002860105.1_ASM286010v1_genomic.fna ==> GCF_002860105.1_ASM286010v1_genomic\n",
      "\n",
      "Contigs:\n",
      "  Pre-processing...\n",
      "  1  /data/hoan/amromics/genome-graph/scaffold_output/pangraph_opt_Ecoli50random_Ecolitest_GCF_002860105_assemBiGraph2_v01.fasta ==> Pangraph_OPT\n",
      "  2  /data/hoan/amromics/genome-graph/scaffold_output/pangraph_greedy_Ecoli50random_Ecolitest_GCF_002860105_assemBiGraph2_v01.fasta ==> Pangraph_Greedy\n",
      "  3  /data/hoan/amromics/genome-graph/scaffold_output/multicsar/multicsar_Ecoli50random_Ecolitest_GCF_002860105_plasmid_v01/multi-csar.nuc.out.fna ==> Multi-CSAR\n",
      "  4  /data/hoan/amromics/simulation/art_output/spades_output_Ecolitest_GCF_002860105_v01/contigs.fasta ==> SPADES\n",
      "\n",
      "2023-01-18 17:03:25\n",
      "Running Basic statistics processor...\n"
     ]
    },
    {
     "name": "stderr",
     "output_type": "stream",
     "text": [
      "Unable to parse the pattern\n",
      "Unable to parse the pattern\n",
      "Unable to parse the pattern\n"
     ]
    },
    {
     "name": "stdout",
     "output_type": "stream",
     "text": [
      "Done.\n",
      "\n",
      "2023-01-18 17:03:29\n",
      "Running Contig analyzer...\n",
      "Done.\n",
      "\n",
      "2023-01-18 17:03:32\n",
      "Running NA-NGA calculation...\n",
      "Done.\n",
      "\n",
      "2023-01-18 17:03:33\n",
      "Running Genome analyzer...\n",
      "  NOTICE: No file with genomic features were provided. Use the --features option if you want to specify it.\n",
      "\n",
      "  NOTICE: No file with operons were provided. Use the -O option if you want to specify it.\n",
      "Done.\n",
      "\n",
      "NOTICE: Genes are not predicted by default. Use --gene-finding or --glimmer option to enable it.\n",
      "\n",
      "2023-01-18 17:03:35\n",
      "Creating large visual summaries...\n",
      "This may take a while: press Ctrl-C to skip this step..\n",
      "  1 of 2: Creating PDF with all tables and plots...\n",
      "  2 of 2: Creating Icarus viewers...\n",
      "Done\n",
      "\n",
      "2023-01-18 17:03:38\n",
      "RESULTS:\n",
      "  Text versions of total report are saved to /data/hoan/amromics/genome-graph/scaffold_output/quastResults_Ecoli50random_Ecolitest_GCF_002860105_assemBiGraph2_v01/report.txt, report.tsv, and report.tex\n",
      "  Text versions of transposed total report are saved to /data/hoan/amromics/genome-graph/scaffold_output/quastResults_Ecoli50random_Ecolitest_GCF_002860105_assemBiGraph2_v01/transposed_report.txt, transposed_report.tsv, and transposed_report.tex\n",
      "  PDF version (tables and plots) is saved to /data/hoan/amromics/genome-graph/scaffold_output/quastResults_Ecoli50random_Ecolitest_GCF_002860105_assemBiGraph2_v01/report.pdf\n",
      "  Icarus (contig browser) is saved to /data/hoan/amromics/genome-graph/scaffold_output/quastResults_Ecoli50random_Ecolitest_GCF_002860105_assemBiGraph2_v01/icarus.html\n",
      "  Log is saved to /data/hoan/amromics/genome-graph/scaffold_output/quastResults_Ecoli50random_Ecolitest_GCF_002860105_assemBiGraph2_v01/quast.log\n",
      "\n",
      "Finished: 2023-01-18 17:03:38\n",
      "Elapsed time: 0:00:13.668017\n",
      "NOTICEs: 5; WARNINGs: 0; non-fatal ERRORs: 0\n",
      "\n",
      "Thank you for using QUAST!\n"
     ]
    }
   ],
   "source": [
    "quast_bin = 'python /data/hoan/amromics/spades_quast/quast-5.2.0/quast.py '\n",
    "spades_output_fasta = spades_output+'/contigs.fasta'\n",
    "multicsar_output_fasta = multicsar_output +'/multi-csar.nuc.out.fna'\n",
    "ragout_output_fasta = ragout_output + '/mg1655_scaffolds.fasta'\n",
    "if 1:\n",
    "    if os.path.isfile(ragout_output_fasta):\n",
    "        os.system(quast_bin + pangraph_output_opt+' '+ pangraph_output_greedy+' '+ multicsar_output_fasta+' '+ragout_output_fasta+' '+spades_output_fasta+' '+\n",
    "        '-l \"Pangraph_OPT, Pangraph_Greedy, Multi-CSAR, Ragout, SPADES\" '+ '-r '+ref_data+' -o '+ quast_output+' --silent --extensive-mis-size 5000 --local-mis-size 3000')\n",
    "    else:\n",
    "        os.system(quast_bin + pangraph_output_opt+' '+ pangraph_output_greedy+' '+ multicsar_output_fasta+' '+spades_output_fasta+' '+\n",
    "        '-l \"Pangraph_OPT, Pangraph_Greedy, Multi-CSAR, SPADES\" '+ '-r '+ref_data+' -o '+ quast_output+' --silent --extensive-mis-size 5000 --local-mis-size 3000')"
   ]
  },
  {
   "cell_type": "code",
   "execution_count": 36,
   "id": "2606af56-13c9-40b1-883c-8b3857d3202f",
   "metadata": {},
   "outputs": [],
   "source": [
    "# # pangraph.H[\"weight\"][0:4]\n",
    "# iteration = 0\n",
    "# for u,v,a in pangraph.H.edges(data=True):\n",
    "#     print(a)\n",
    "#     iteration += 1\n",
    "#     if iteration > 10:\n",
    "#         break;"
   ]
  },
  {
   "cell_type": "code",
   "execution_count": 37,
   "id": "ee493830-bdb8-46a5-83ba-4ec408f1fd07",
   "metadata": {},
   "outputs": [],
   "source": [
    "# nx.write_gml(pangraph.assembly_graph, quast_output+'/assembly_graph.gml')"
   ]
  },
  {
   "cell_type": "code",
   "execution_count": 38,
   "id": "eb32a794-a0be-4756-9867-5ff8a178f4d4",
   "metadata": {},
   "outputs": [
    {
     "data": {
      "text/plain": [
       "3360"
      ]
     },
     "execution_count": 38,
     "metadata": {},
     "output_type": "execute_result"
    }
   ],
   "source": [
    "pangraph.assembly_graph.number_of_edges()"
   ]
  },
  {
   "cell_type": "code",
   "execution_count": 39,
   "id": "701f03d1-9ab2-4b2e-864a-272fdda10346",
   "metadata": {},
   "outputs": [
    {
     "data": {
      "text/plain": [
       "1"
      ]
     },
     "execution_count": 39,
     "metadata": {},
     "output_type": "execute_result"
    }
   ],
   "source": [
    "len(list(nx.weakly_connected_components(pangraph.assembly_graph)))"
   ]
  },
  {
   "cell_type": "code",
   "execution_count": 40,
   "id": "318736c1-6cf1-4d1f-becb-46d56a248336",
   "metadata": {},
   "outputs": [],
   "source": [
    "# pangraph.weighted_CG.nodes()"
   ]
  },
  {
   "cell_type": "code",
   "execution_count": 41,
   "id": "7c8f48ee-1162-4652-a4fb-fba44b9ddaaf",
   "metadata": {},
   "outputs": [
    {
     "data": {
      "text/plain": [
       "240185"
      ]
     },
     "execution_count": 41,
     "metadata": {},
     "output_type": "execute_result"
    }
   ],
   "source": [
    "len(list(nx.weakly_connected_components(pangraph.H)))"
   ]
  },
  {
   "cell_type": "code",
   "execution_count": 42,
   "id": "cad64bbb-999e-4fa4-a421-73c20274d6bd",
   "metadata": {},
   "outputs": [
    {
     "data": {
      "text/plain": [
       "(244849, 4957)"
      ]
     },
     "execution_count": 42,
     "metadata": {},
     "output_type": "execute_result"
    }
   ],
   "source": [
    "pangraph.H.number_of_nodes(), pangraph.H.number_of_edges()"
   ]
  },
  {
   "cell_type": "code",
   "execution_count": 43,
   "id": "0fe38f01-e457-42dc-b477-cba37bd35849",
   "metadata": {},
   "outputs": [
    {
     "data": {
      "text/plain": [
       "'/data/hoan/amromics/data/ncbi/Ecolitest/GCF_002860105.1_ASM286010v1_genomic.fna'"
      ]
     },
     "execution_count": 43,
     "metadata": {},
     "output_type": "execute_result"
    }
   ],
   "source": [
    "ref_data"
   ]
  },
  {
   "cell_type": "markdown",
   "id": "92fe66ed-e316-41ae-a09c-ae1351304c69",
   "metadata": {},
   "source": [
    "## Analysis"
   ]
  },
  {
   "cell_type": "code",
   "execution_count": 44,
   "id": "d1b43cf8-8b32-41b6-b371-ee7454278384",
   "metadata": {},
   "outputs": [],
   "source": [
    "# minimap2 /data/hoan/amromics/data/ncbi/Ecolitest/GCF_002860105.1_ASM286010v1_genomic.fna /data/hoan/amromics/genome-graph/scaffold_output/pangraph_opt_Ecoli100random_Ecoli_plasmid_v01.fasta > contigs100vsref_mapping_v01a.paf\n",
    "cmd_minimap = '~/miniconda3/envs/amromics/bin/minimap2 '+ref_data +' '+ spades_output +'/contigs.fasta' +' > scaffold_output/minimap_out/mapping.paf' "
   ]
  },
  {
   "cell_type": "code",
   "execution_count": 45,
   "id": "712adc28-a267-489d-a85a-9dc6c5cf8f41",
   "metadata": {},
   "outputs": [
    {
     "name": "stderr",
     "output_type": "stream",
     "text": [
      "[M::mm_idx_gen::0.184*1.01] collected minimizers\n",
      "[M::mm_idx_gen::0.231*1.41] sorted minimizers\n",
      "[M::main::0.231*1.41] loaded/built the index for 6 target sequence(s)\n",
      "[M::mm_mapopt_update::0.264*1.36] mid_occ = 16\n",
      "[M::mm_idx_stat] kmer size: 15; skip: 10; is_hpc: 0; #seq: 6\n",
      "[M::mm_idx_stat::0.285*1.33] distinct minimizers: 940802 (97.51% are singletons); average occurrences: 1.044; average spacing: 5.351; total length: 5256088\n",
      "[M::worker_pipeline::0.887*2.40] mapped 421 sequences\n",
      "[M::main] Version: 2.24-r1122\n",
      "[M::main] CMD: /home/vanhoan310/miniconda3/envs/amromics/bin/minimap2 /data/hoan/amromics/data/ncbi/Ecolitest/GCF_002860105.1_ASM286010v1_genomic.fna /data/hoan/amromics/simulation/art_output/spades_output_Ecolitest_GCF_002860105_v01/contigs.fasta\n",
      "[M::main] Real time: 0.900 sec; CPU: 2.143 sec; Peak RSS: 0.080 GB\n"
     ]
    }
   ],
   "source": [
    "os.system(cmd_minimap)\n",
    "df = pd.read_csv(\"scaffold_output/minimap_out/mapping.paf\", sep =\"\\t\", header=None)"
   ]
  },
  {
   "cell_type": "code",
   "execution_count": 46,
   "id": "d6b53cd1-219a-478a-9d41-422cd3cb3fc3",
   "metadata": {},
   "outputs": [
    {
     "data": {
      "text/plain": [
       "'NZ_CP019071.1'"
      ]
     },
     "execution_count": 46,
     "metadata": {},
     "output_type": "execute_result"
    }
   ],
   "source": [
    "df\n",
    "ref_id = df.iloc[0,5]\n",
    "ref_id"
   ]
  },
  {
   "cell_type": "code",
   "execution_count": 47,
   "id": "3e6e9924-5b7b-4c6c-aff8-14707e2aba01",
   "metadata": {},
   "outputs": [],
   "source": [
    "final_df = df.loc[df[5] == ref_id]\n",
    "final_df = final_df.sort_values(by=[7])"
   ]
  },
  {
   "cell_type": "code",
   "execution_count": 48,
   "id": "7f3f23ec-e765-43a3-bf76-260351d70dce",
   "metadata": {},
   "outputs": [],
   "source": [
    "target_id = 0\n",
    "gene_position = pd.read_csv(panta_output + '/gene_position.tsv', delimiter='\\t', header=None)\n",
    "gene_position.columns =['SampleID', 'ContigName', 'GeneSequence']\n",
    "target_contigs = [gene_position.iloc[i, 1] for i in range(len(gene_position.index)) if gene_position.iloc[i, 0]==target_id]"
   ]
  },
  {
   "cell_type": "code",
   "execution_count": 49,
   "id": "6cc061c4-adbc-4af9-8e02-ca4117e6b3cd",
   "metadata": {},
   "outputs": [],
   "source": [
    "samples = pd.read_csv(panta_output + '/samples.tsv', delimiter='\\t', header=None)\n",
    "# samples"
   ]
  },
  {
   "cell_type": "code",
   "execution_count": 50,
   "id": "372759b9-1e39-4aab-9e8e-35b042deb362",
   "metadata": {},
   "outputs": [],
   "source": [
    "target_contigs_list = [final_df.iloc[i, 0] for i in range(len(final_df.index)) if final_df.iloc[i, 0] in target_contigs]\n",
    "target_contigs_sorted = [final_df.iloc[i, 0]+'---'+str(final_df.iloc[i, 7])+'>'+str(final_df.iloc[i, 8]) for i in range(len(final_df.index)) if final_df.iloc[i, 0] in target_contigs]"
   ]
  },
  {
   "cell_type": "code",
   "execution_count": 69,
   "id": "a40629a5-c6cb-40ae-9395-846a4871748e",
   "metadata": {},
   "outputs": [
    {
     "data": {
      "text/plain": [
       "['Ecolitest_GCF_002860105-NODE_95_length_1592_cov_58.378660-PCILKDFA_04850@-1']"
      ]
     },
     "execution_count": 69,
     "metadata": {},
     "output_type": "execute_result"
    }
   ],
   "source": [
    "gene_position[gene_position.ContigName=='NODE_95_length_1592_cov_58.378660'].iloc[0,2].split(';')"
   ]
  },
  {
   "cell_type": "code",
   "execution_count": 70,
   "id": "eff76bda-76a6-4cc1-a9cb-2f9b409783e3",
   "metadata": {},
   "outputs": [],
   "source": [
    "cluster_id = pangraph.gene2cluster_dict['Ecolitest_GCF_002860105-NODE_95_length_1592_cov_58.378660-PCILKDFA_04850@-1']"
   ]
  },
  {
   "cell_type": "code",
   "execution_count": 53,
   "id": "cd2f5366-805f-4523-8475-015ed5836b2e",
   "metadata": {},
   "outputs": [],
   "source": [
    "gene_info = pd.read_csv(panta_output + \"/gene_info.tsv\", delimiter='\\t', header=None)\n",
    "gene_info.columns =['GeneName', 'SampleID', 'clusterID']"
   ]
  },
  {
   "cell_type": "code",
   "execution_count": 71,
   "id": "d2bd2039-fe13-46d5-ac48-a8f5517bd48b",
   "metadata": {},
   "outputs": [
    {
     "data": {
      "text/html": [
       "<div>\n",
       "<style scoped>\n",
       "    .dataframe tbody tr th:only-of-type {\n",
       "        vertical-align: middle;\n",
       "    }\n",
       "\n",
       "    .dataframe tbody tr th {\n",
       "        vertical-align: top;\n",
       "    }\n",
       "\n",
       "    .dataframe thead th {\n",
       "        text-align: right;\n",
       "    }\n",
       "</style>\n",
       "<table border=\"1\" class=\"dataframe\">\n",
       "  <thead>\n",
       "    <tr style=\"text-align: right;\">\n",
       "      <th></th>\n",
       "      <th>GeneName</th>\n",
       "      <th>SampleID</th>\n",
       "      <th>clusterID</th>\n",
       "    </tr>\n",
       "  </thead>\n",
       "  <tbody>\n",
       "    <tr>\n",
       "      <th>4784</th>\n",
       "      <td>Ecolitest_GCF_002860105-NODE_95_length_1592_co...</td>\n",
       "      <td>0</td>\n",
       "      <td>4511</td>\n",
       "    </tr>\n",
       "  </tbody>\n",
       "</table>\n",
       "</div>"
      ],
      "text/plain": [
       "                                               GeneName  SampleID  clusterID\n",
       "4784  Ecolitest_GCF_002860105-NODE_95_length_1592_co...         0       4511"
      ]
     },
     "execution_count": 71,
     "metadata": {},
     "output_type": "execute_result"
    }
   ],
   "source": [
    "gene_info[gene_info.clusterID==cluster_id]"
   ]
  },
  {
   "cell_type": "code",
   "execution_count": 55,
   "id": "555b5448-d147-4790-8606-3c9e179aa3b6",
   "metadata": {},
   "outputs": [
    {
     "data": {
      "text/plain": [
       "['NODE_25_length_70560_cov_18.770981---4647349>4717901',\n",
       " 'NODE_19_length_88449_cov_18.833710---4723262>4811707',\n",
       " 'NODE_35_length_44062_cov_18.925307---4817112>4861169',\n",
       " 'NODE_53_length_15724_cov_20.028017---4861615>4877333']"
      ]
     },
     "execution_count": 55,
     "metadata": {},
     "output_type": "execute_result"
    }
   ],
   "source": [
    "target_contigs_sorted[-4:]"
   ]
  },
  {
   "cell_type": "code",
   "execution_count": 56,
   "id": "1919f425-77f0-4130-8ee2-dcd141164bdc",
   "metadata": {},
   "outputs": [],
   "source": [
    "# pangraph.adj_list0"
   ]
  },
  {
   "cell_type": "code",
   "execution_count": 57,
   "id": "8bfe6670-0315-4fd6-93b2-76813c973246",
   "metadata": {},
   "outputs": [],
   "source": [
    "# cmd_dnadiff = '~/miniconda3/envs/amromics/bin/dnadiff '+ref_data +' '+ spades_output +'/contigs.fasta -p dna_diff/'+sim_name\n",
    "# os.system(cmd_dnadiff)"
   ]
  },
  {
   "cell_type": "code",
   "execution_count": 58,
   "id": "94805bbf-be0d-4253-91e1-0c2bce9d94c1",
   "metadata": {},
   "outputs": [],
   "source": [
    "# Don't use SPADES, shovil keep files.\n",
    "# python readSimulator/readSimulator.py --outdir shredded_reads  --input ncbi-genomes-2023-01-07/GCF_000240185.1_ASM24018v2_genomic.fna --simulator art --simulator_path art_bin_MountRainier/art_illumina --iterations 100 --readlen 100 --depth 100  --opts '-ss HS20 -sam -p -m 400 -s 60'\n",
    "# investigate why we failed? #1/ connectivity in the assembly graph:\n",
    "# multiplicity of each node: now 1, change to more: use length and coverage\n",
    "# assembly graph: change to 500"
   ]
  },
  {
   "cell_type": "code",
   "execution_count": 59,
   "id": "84699c11-8ded-4106-b828-435ef7400054",
   "metadata": {},
   "outputs": [],
   "source": [
    "def get_node_coverage(node_id):\n",
    "    return float(node_id.split('_')[5])\n",
    "get_node_coverage('NODE_45_length_30843_cov_18.832500')\n",
    "target_contigs_multi_1 = [item for item in target_contigs_list if get_node_coverage(item) <= 25.0]"
   ]
  },
  {
   "cell_type": "code",
   "execution_count": 60,
   "id": "b84f6c2a-770f-45a4-aa3f-f5d7bddfdcd0",
   "metadata": {},
   "outputs": [],
   "source": [
    "def get_value(edge_df0, source_id, target_id):\n",
    "    # if source_id in edge_df0['source'].values and target_id in edge_df0['target'].values:\n",
    "    #     print(edge_df0[((edge_df0['source'] == source_id) & (edge_df0['target'] == target_id))])\n",
    "    # else:\n",
    "    #     print('No value')\n",
    "    df_res = edge_df0[((edge_df0['source'] == source_id) & (edge_df0['target'] == target_id))]\n",
    "    if len(df_res.index) == 1:\n",
    "        print(df_res.iloc[0, 2])\n",
    "    else:\n",
    "        print(\"No value\")\n",
    "# pangraph.edge_df0\n",
    "\n",
    "def next_node_multi_1(target_contigs_list, idx):\n",
    "    ## find the next node of multiplicity 1 after the index: idx\n",
    "    current_idx = idx + 1\n",
    "    while(get_node_coverage(target_contigs_list[current_idx]) >= 25.0):\n",
    "        current_idx += 1\n",
    "    return target_contigs_list[current_idx]"
   ]
  },
  {
   "cell_type": "code",
   "execution_count": 61,
   "id": "9b8f97b5-4d2a-4434-8382-408333b57cc2",
   "metadata": {},
   "outputs": [],
   "source": [
    "# target_contigs_multi_1"
   ]
  },
  {
   "cell_type": "code",
   "execution_count": 62,
   "id": "ac259408-6ad5-4400-acb5-3709bcf2c1a9",
   "metadata": {},
   "outputs": [
    {
     "name": "stdout",
     "output_type": "stream",
     "text": [
      "---------------------- i = 0 ---------------------------------------------\n",
      "NODE_46_length_30478_cov_18.766164---7>30478 :::::::: NODE_101_length_1318_cov_59.905780---30430>31738\n",
      "Is there a path in the assembly graph? True, number of nucleotides:  -1\n",
      "Is there a path in the pangenome graph? No path in Pangraph\n",
      "Real cost between the two contigs: 1.25\n",
      "---------------------- i = 1 ---------------------------------------------\n",
      "NODE_101_length_1318_cov_59.905780---30430>31738 :::::::: NODE_42_length_35714_cov_18.958440---31691>67397\n",
      "Is there a path in the assembly graph? True, number of nucleotides:  -1\n",
      "Is there a path in the pangenome graph? No path in Pangraph\n",
      "Real cost between the two contigs: 1.25\n",
      "---------------------- i = 2 ---------------------------------------------\n",
      "NODE_42_length_35714_cov_18.958440---31691>67397 :::::::: NODE_101_length_1318_cov_59.905780---67354>68662\n",
      "Is there a path in the assembly graph? True, number of nucleotides:  -1\n",
      "Is there a path in the pangenome graph? No path in Pangraph\n",
      "Real cost between the two contigs: 1.25\n",
      "---------------------- i = 3 ---------------------------------------------\n",
      "NODE_101_length_1318_cov_59.905780---67354>68662 :::::::: NODE_32_length_49096_cov_18.914826---68615>117705\n",
      "Is there a path in the assembly graph? True, number of nucleotides:  -1\n",
      "Is there a path in the pangenome graph? No path in Pangraph\n",
      "Real cost between the two contigs: 1.25\n",
      "---------------------- i = 4 ---------------------------------------------\n",
      "NODE_32_length_49096_cov_18.914826---68615>117705 :::::::: NODE_98_length_1442_cov_19.488104---118966>120397\n",
      "Is there a path in the assembly graph? True, number of nucleotides:  803\n",
      "Is there a path in the pangenome graph? No path in Pangraph\n",
      "Real cost between the two contigs: 4.964351851851852\n",
      "---------------------- i = 5 ---------------------------------------------\n",
      "NODE_98_length_1442_cov_19.488104---118966>120397 :::::::: NODE_95_length_1592_cov_58.378660---121316>122896\n",
      "Is there a path in the assembly graph? True, number of nucleotides:  604\n",
      "Is there a path in the pangenome graph? No path in Pangraph\n",
      "Real cost between the two contigs: 0.4\n",
      "---------------------- i = 6 ---------------------------------------------\n",
      "NODE_95_length_1592_cov_58.378660---121316>122896 :::::::: NODE_39_length_40147_cov_18.664796---124077>164215\n",
      "Is there a path in the assembly graph? True, number of nucleotides:  51035\n",
      "Is there a path in the pangenome graph? No path in Pangraph\n",
      "Real cost between the two contigs: No value\n",
      "---------------------- i = 7 ---------------------------------------------\n",
      "NODE_39_length_40147_cov_18.664796---124077>164215 :::::::: NODE_97_length_1443_cov_56.968300---164167>165605\n",
      "Is there a path in the assembly graph? True, number of nucleotides:  6267\n",
      "Is there a path in the pangenome graph? No path in Pangraph\n",
      "Real cost between the two contigs: 0.044444444444444446\n",
      "---------------------- i = 8 ---------------------------------------------\n",
      "NODE_97_length_1443_cov_56.968300---164167>165605 :::::::: NODE_30_length_53138_cov_18.590415---165558>218680\n",
      "Is there a path in the assembly graph? True, number of nucleotides:  424447\n",
      "Is there a path in the pangenome graph? Yes!, cost =  9.3\n",
      "Real cost between the two contigs: No value\n",
      "---------------------- i = 9 ---------------------------------------------\n",
      "NODE_30_length_53138_cov_18.590415---165558>218680 :::::::: NODE_41_length_39638_cov_19.015209---219812>259446\n",
      "Is there a path in the assembly graph? True, number of nucleotides:  473\n",
      "Is there a path in the pangenome graph? Yes!, cost =  19.05\n",
      "Real cost between the two contigs: 8.317495954979215\n",
      "---------------------- i = 10 ---------------------------------------------\n",
      "NODE_41_length_39638_cov_19.015209---219812>259446 :::::::: NODE_106_length_1120_cov_19.409390---260952>262061\n",
      "Is there a path in the assembly graph? True, number of nucleotides:  732\n",
      "Is there a path in the pangenome graph? No path in Pangraph\n",
      "Real cost between the two contigs: 0.20408163265306123\n",
      "---------------------- i = 11 ---------------------------------------------\n",
      "NODE_106_length_1120_cov_19.409390---260952>262061 :::::::: NODE_95_length_1592_cov_58.378660---262940>264520\n",
      "Is there a path in the assembly graph? True, number of nucleotides:  604\n",
      "Is there a path in the pangenome graph? No path in Pangraph\n",
      "Real cost between the two contigs: 0.4\n",
      "---------------------- i = 12 ---------------------------------------------\n",
      "NODE_95_length_1592_cov_58.378660---262940>264520 :::::::: NODE_10_length_147945_cov_18.945473---265479>413412\n",
      "Is there a path in the assembly graph? True, number of nucleotides:  1113\n",
      "Is there a path in the pangenome graph? No path in Pangraph\n",
      "Real cost between the two contigs: 0.625\n",
      "---------------------- i = 13 ---------------------------------------------\n",
      "NODE_10_length_147945_cov_18.945473---265479>413412 :::::::: NODE_38_length_41324_cov_18.707698---413882>455196\n",
      "Is there a path in the assembly graph? True, number of nucleotides:  568\n",
      "Is there a path in the pangenome graph? Yes!, cost =  14.8\n",
      "Real cost between the two contigs: 6.641704134778911\n",
      "---------------------- i = 14 ---------------------------------------------\n",
      "NODE_38_length_41324_cov_18.707698---413882>455196 :::::::: NODE_61_length_9714_cov_19.849570---460378>470090\n",
      "Is there a path in the assembly graph? True, number of nucleotides:  5030\n",
      "Is there a path in the pangenome graph? Yes!, cost =  40.05\n",
      "Real cost between the two contigs: 12.219331774376418\n",
      "---------------------- i = 15 ---------------------------------------------\n",
      "NODE_61_length_9714_cov_19.849570---460378>470090 :::::::: NODE_115_length_865_cov_55.879012---470046>470901\n",
      "Is there a path in the assembly graph? True, number of nucleotides:  13138\n",
      "Is there a path in the pangenome graph? No path in Pangraph\n",
      "Real cost between the two contigs: No value\n",
      "---------------------- i = 16 ---------------------------------------------\n",
      "NODE_115_length_865_cov_55.879012---470046>470901 :::::::: NODE_34_length_44734_cov_18.805255---471041>515773\n",
      "Is there a path in the assembly graph? True, number of nucleotides:  34702\n",
      "Is there a path in the pangenome graph? No path in Pangraph\n",
      "Real cost between the two contigs: No value\n",
      "---------------------- i = 17 ---------------------------------------------\n",
      "NODE_34_length_44734_cov_18.805255---471041>515773 :::::::: NODE_87_length_2272_cov_97.826793---516519>518780\n",
      "Is there a path in the assembly graph? False,<----xxxxxxxxxxxxxxxxxxxxxxxxxxxxxxxxxxxxx\n",
      "Is there a path in the pangenome graph? No path in Pangraph\n",
      "Real cost between the two contigs: No value\n",
      "---------------------- i = 18 ---------------------------------------------\n",
      "NODE_87_length_2272_cov_97.826793---516519>518780 :::::::: NODE_21_length_82194_cov_18.745699---519254>601441\n",
      "Is there a path in the assembly graph? True, number of nucleotides:  18960\n",
      "Is there a path in the pangenome graph? No path in Pangraph\n",
      "Real cost between the two contigs: No value\n",
      "---------------------- i = 19 ---------------------------------------------\n",
      "NODE_21_length_82194_cov_18.745699---519254>601441 :::::::: NODE_15_length_99850_cov_19.213738---602117>701950\n",
      "Is there a path in the assembly graph? True, number of nucleotides:  259\n",
      "Is there a path in the pangenome graph? No path in Pangraph\n",
      "Real cost between the two contigs: 9.684166666666666\n",
      "---------------------- i = 20 ---------------------------------------------\n",
      "NODE_15_length_99850_cov_19.213738---602117>701950 :::::::: NODE_115_length_865_cov_55.879012---702090>702945\n",
      "Is there a path in the assembly graph? True, number of nucleotides:  -1\n",
      "Is there a path in the pangenome graph? No path in Pangraph\n",
      "Real cost between the two contigs: 1.25\n",
      "---------------------- i = 21 ---------------------------------------------\n",
      "NODE_115_length_865_cov_55.879012---702090>702945 :::::::: NODE_16_length_93726_cov_19.165612---702901>796620\n",
      "Is there a path in the assembly graph? True, number of nucleotides:  -1\n",
      "Is there a path in the pangenome graph? No path in Pangraph\n",
      "Real cost between the two contigs: 1.25\n",
      "---------------------- i = 22 ---------------------------------------------\n",
      "NODE_16_length_93726_cov_19.165612---702901>796620 :::::::: NODE_9_length_177154_cov_19.052705---797488>974632\n",
      "Is there a path in the assembly graph? True, number of nucleotides:  267\n",
      "Is there a path in the pangenome graph? No path in Pangraph\n",
      "Real cost between the two contigs: 0.625\n",
      "---------------------- i = 23 ---------------------------------------------\n",
      "NODE_9_length_177154_cov_19.052705---797488>974632 :::::::: NODE_84_length_2538_cov_74.520741---974586>977110\n",
      "Is there a path in the assembly graph? True, number of nucleotides:  31644\n",
      "Is there a path in the pangenome graph? No path in Pangraph\n",
      "Real cost between the two contigs: No value\n",
      "---------------------- i = 24 ---------------------------------------------\n",
      "NODE_84_length_2538_cov_74.520741---974586>977110 :::::::: NODE_78_length_4538_cov_18.984832---977107>981642\n",
      "Is there a path in the assembly graph? True, number of nucleotides:  418490\n",
      "Is there a path in the pangenome graph? No path in Pangraph\n",
      "Real cost between the two contigs: No value\n",
      "---------------------- i = 25 ---------------------------------------------\n",
      "NODE_78_length_4538_cov_18.984832---977107>981642 :::::::: NODE_7_length_186122_cov_18.918416---982887>1168994\n",
      "Is there a path in the assembly graph? True, number of nucleotides:  1013\n",
      "Is there a path in the pangenome graph? No path in Pangraph\n",
      "Real cost between the two contigs: 0.625\n",
      "---------------------- i = 26 ---------------------------------------------\n",
      "NODE_7_length_186122_cov_18.918416---982887>1168994 :::::::: NODE_26_length_64384_cov_18.832439---1169668>1234042\n",
      "Is there a path in the assembly graph? True, number of nucleotides:  -1\n",
      "Is there a path in the pangenome graph? Yes!, cost =  44.05\n",
      "Real cost between the two contigs: 7.35437358276644\n",
      "---------------------- i = 27 ---------------------------------------------\n",
      "NODE_26_length_64384_cov_18.832439---1169668>1234042 :::::::: NODE_5_length_197772_cov_18.763465---1239353>1437122\n",
      "Is there a path in the assembly graph? True, number of nucleotides:  5083\n",
      "Is there a path in the pangenome graph? Yes!, cost =  43.05\n",
      "Real cost between the two contigs: 11.090886479591838\n",
      "---------------------- i = 28 ---------------------------------------------\n",
      "NODE_5_length_197772_cov_18.763465---1239353>1437122 :::::::: NODE_74_length_5422_cov_18.940376---1437460>1442868\n",
      "Is there a path in the assembly graph? True, number of nucleotides:  108\n",
      "Is there a path in the pangenome graph? Yes!, cost =  27.05\n",
      "Real cost between the two contigs: 8.516132723922903\n",
      "---------------------- i = 29 ---------------------------------------------\n",
      "NODE_74_length_5422_cov_18.940376---1437460>1442868 :::::::: NODE_1_length_393563_cov_18.802782---1443684>1837237\n",
      "Is there a path in the assembly graph? True, number of nucleotides:  908\n",
      "Is there a path in the pangenome graph? Yes!, cost =  30.05\n",
      "Real cost between the two contigs: 11.564005810657598\n",
      "---------------------- i = 30 ---------------------------------------------\n",
      "NODE_1_length_393563_cov_18.802782---1443684>1837237 :::::::: NODE_47_length_29840_cov_19.055229---1837904>1867731\n",
      "Is there a path in the assembly graph? True, number of nucleotides:  346\n",
      "Is there a path in the pangenome graph? No path in Pangraph\n",
      "Real cost between the two contigs: 0.4\n",
      "---------------------- i = 31 ---------------------------------------------\n",
      "NODE_47_length_29840_cov_19.055229---1837904>1867731 :::::::: NODE_110_length_1004_cov_20.231823---1869496>1870498\n",
      "Is there a path in the assembly graph? True, number of nucleotides:  213794\n",
      "Is there a path in the pangenome graph? No path in Pangraph\n",
      "Real cost between the two contigs: No value\n",
      "---------------------- i = 32 ---------------------------------------------\n",
      "NODE_110_length_1004_cov_20.231823---1869496>1870498 :::::::: NODE_91_length_1921_cov_39.800107---1871141>1873058\n",
      "Is there a path in the assembly graph? True, number of nucleotides:  112349\n",
      "Is there a path in the pangenome graph? No path in Pangraph\n",
      "Real cost between the two contigs: No value\n",
      "---------------------- i = 33 ---------------------------------------------\n",
      "NODE_91_length_1921_cov_39.800107---1871141>1873058 :::::::: NODE_84_length_2538_cov_74.520741---1873231>1875755\n",
      "Is there a path in the assembly graph? True, number of nucleotides:  115333\n",
      "Is there a path in the pangenome graph? No path in Pangraph\n",
      "Real cost between the two contigs: No value\n",
      "---------------------- i = 34 ---------------------------------------------\n",
      "NODE_84_length_2538_cov_74.520741---1873231>1875755 :::::::: NODE_23_length_78457_cov_18.966455---1875752>1954203\n",
      "Is there a path in the assembly graph? True, number of nucleotides:  418490\n",
      "Is there a path in the pangenome graph? No path in Pangraph\n",
      "Real cost between the two contigs: No value\n",
      "---------------------- i = 35 ---------------------------------------------\n",
      "NODE_23_length_78457_cov_18.966455---1875752>1954203 :::::::: NODE_3_length_286153_cov_18.708740---1955236>2241353\n",
      "Is there a path in the assembly graph? True, number of nucleotides:  735\n",
      "Is there a path in the pangenome graph? No path in Pangraph\n",
      "Real cost between the two contigs: 11.482824074074074\n",
      "---------------------- i = 36 ---------------------------------------------\n",
      "NODE_3_length_286153_cov_18.708740---1955236>2241353 :::::::: NODE_8_length_178919_cov_18.733216---2242037>2420947\n",
      "Is there a path in the assembly graph? True, number of nucleotides:  274\n",
      "Is there a path in the pangenome graph? Yes!, cost =  28.05\n",
      "Real cost between the two contigs: 10.688167517006802\n",
      "---------------------- i = 37 ---------------------------------------------\n",
      "NODE_8_length_178919_cov_18.733216---2242037>2420947 :::::::: NODE_36_length_42025_cov_19.439385---2420957>2462973\n",
      "Is there a path in the assembly graph? True, number of nucleotides:  -1\n",
      "Is there a path in the pangenome graph? No path in Pangraph\n",
      "Real cost between the two contigs: 4.7623126889644745\n",
      "---------------------- i = 38 ---------------------------------------------\n",
      "NODE_36_length_42025_cov_19.439385---2420957>2462973 :::::::: NODE_104_length_1129_cov_38.822160---2464259>2465370\n",
      "Is there a path in the assembly graph? True, number of nucleotides:  1348\n",
      "Is there a path in the pangenome graph? No path in Pangraph\n",
      "Real cost between the two contigs: 0.4\n",
      "---------------------- i = 39 ---------------------------------------------\n",
      "NODE_104_length_1129_cov_38.822160---2464259>2465370 :::::::: NODE_27_length_62193_cov_18.781068---2466334>2528522\n",
      "Is there a path in the assembly graph? True, number of nucleotides:  741\n",
      "Is there a path in the pangenome graph? No path in Pangraph\n",
      "Real cost between the two contigs: 0.625\n",
      "---------------------- i = 40 ---------------------------------------------\n",
      "NODE_27_length_62193_cov_18.781068---2466334>2528522 :::::::: NODE_102_length_1248_cov_57.448449---2528487>2529719\n",
      "Is there a path in the assembly graph? True, number of nucleotides:  -1\n",
      "Is there a path in the pangenome graph? No path in Pangraph\n",
      "Real cost between the two contigs: 1.25\n",
      "---------------------- i = 41 ---------------------------------------------\n",
      "NODE_102_length_1248_cov_57.448449---2528487>2529719 :::::::: NODE_14_length_106302_cov_18.687154---2529672>2635960\n",
      "Is there a path in the assembly graph? True, number of nucleotides:  -1\n",
      "Is there a path in the pangenome graph? No path in Pangraph\n",
      "Real cost between the two contigs: 1.25\n",
      "---------------------- i = 42 ---------------------------------------------\n",
      "NODE_14_length_106302_cov_18.687154---2529672>2635960 :::::::: NODE_11_length_137715_cov_19.136757---2636636>2774341\n",
      "Is there a path in the assembly graph? True, number of nucleotides:  480\n",
      "Is there a path in the pangenome graph? Yes!, cost =  32.05\n",
      "Real cost between the two contigs: 11.173477182539681\n",
      "---------------------- i = 43 ---------------------------------------------\n",
      "NODE_11_length_137715_cov_19.136757---2636636>2774341 :::::::: NODE_87_length_2272_cov_97.826793---2774298>2776559\n",
      "Is there a path in the assembly graph? True, number of nucleotides:  -1\n",
      "Is there a path in the pangenome graph? No path in Pangraph\n",
      "Real cost between the two contigs: 1.25\n",
      "---------------------- i = 44 ---------------------------------------------\n",
      "NODE_87_length_2272_cov_97.826793---2774298>2776559 :::::::: NODE_22_length_79377_cov_19.056895---2777026>2856398\n",
      "Is there a path in the assembly graph? True, number of nucleotides:  18960\n",
      "Is there a path in the pangenome graph? No path in Pangraph\n",
      "Real cost between the two contigs: No value\n",
      "---------------------- i = 45 ---------------------------------------------\n",
      "NODE_22_length_79377_cov_19.056895---2777026>2856398 :::::::: NODE_31_length_49314_cov_19.055462---2857074>2906366\n",
      "Is there a path in the assembly graph? True, number of nucleotides:  379\n",
      "Is there a path in the pangenome graph? Yes!, cost =  44.05\n",
      "Real cost between the two contigs: 13.184888747165534\n",
      "---------------------- i = 46 ---------------------------------------------\n",
      "NODE_31_length_49314_cov_19.055462---2857074>2906366 :::::::: NODE_102_length_1248_cov_57.448449---2906340>2907572\n",
      "Is there a path in the assembly graph? True, number of nucleotides:  -1\n",
      "Is there a path in the pangenome graph? Yes!, cost =  11.05\n",
      "Real cost between the two contigs: 3.8921180555555557\n",
      "---------------------- i = 47 ---------------------------------------------\n",
      "NODE_102_length_1248_cov_57.448449---2906340>2907572 :::::::: NODE_2_length_312103_cov_18.841489---2907525>3219628\n",
      "Is there a path in the assembly graph? True, number of nucleotides:  -1\n",
      "Is there a path in the pangenome graph? Yes!, cost =  16.05\n",
      "Real cost between the two contigs: 4.70375\n",
      "---------------------- i = 48 ---------------------------------------------\n",
      "NODE_2_length_312103_cov_18.841489---2907525>3219628 :::::::: NODE_37_length_42009_cov_18.877056---3220416>3262417\n",
      "Is there a path in the assembly graph? True, number of nucleotides:  -1\n",
      "Is there a path in the pangenome graph? Yes!, cost =  37.05\n",
      "Real cost between the two contigs: 6.51399252409297\n",
      "---------------------- i = 49 ---------------------------------------------\n",
      "NODE_37_length_42009_cov_18.877056---3220416>3262417 :::::::: NODE_80_length_3401_cov_29.315900---3264547>3267937\n",
      "Is there a path in the assembly graph? True, number of nucleotides:  388\n",
      "Is there a path in the pangenome graph? Yes!, cost =  3.425\n",
      "Real cost between the two contigs: 2.4548691683463506\n",
      "---------------------- i = 50 ---------------------------------------------\n",
      "NODE_80_length_3401_cov_29.315900---3264547>3267937 :::::::: NODE_95_length_1592_cov_58.378660---3268788>3270368\n",
      "Is there a path in the assembly graph? True, number of nucleotides:  449\n",
      "Is there a path in the pangenome graph? No path in Pangraph\n",
      "Real cost between the two contigs: 0.4\n",
      "---------------------- i = 51 ---------------------------------------------\n",
      "NODE_95_length_1592_cov_58.378660---3268788>3270368 :::::::: NODE_17_length_91780_cov_18.769114---3271479>3363249\n",
      "Is there a path in the assembly graph? True, number of nucleotides:  1113\n",
      "Is there a path in the pangenome graph? No path in Pangraph\n",
      "Real cost between the two contigs: 0.625\n",
      "---------------------- i = 52 ---------------------------------------------\n",
      "NODE_17_length_91780_cov_18.769114---3271479>3363249 :::::::: NODE_50_length_27240_cov_18.622991---3363939>3391158\n",
      "Is there a path in the assembly graph? True, number of nucleotides:  398\n",
      "Is there a path in the pangenome graph? No path in Pangraph\n",
      "Real cost between the two contigs: 8.74638888888889\n",
      "---------------------- i = 53 ---------------------------------------------\n",
      "NODE_50_length_27240_cov_18.622991---3363939>3391158 :::::::: NODE_141_length_351_cov_16.635135---3392403>3392744\n",
      "Is there a path in the assembly graph? True, number of nucleotides:  1013\n",
      "Is there a path in the pangenome graph? No path in Pangraph\n",
      "Real cost between the two contigs: 4.950462962962963\n",
      "---------------------- i = 54 ---------------------------------------------\n",
      "NODE_141_length_351_cov_16.635135---3392403>3392744 :::::::: NODE_97_length_1443_cov_56.968300---3392696>3394134\n",
      "Is there a path in the assembly graph? True, number of nucleotides:  8331\n",
      "Is there a path in the pangenome graph? No path in Pangraph\n",
      "Real cost between the two contigs: No value\n",
      "---------------------- i = 55 ---------------------------------------------\n",
      "NODE_97_length_1443_cov_56.968300---3392696>3394134 :::::::: NODE_94_length_1685_cov_19.542945---3394087>3395763\n",
      "Is there a path in the assembly graph? True, number of nucleotides:  508988\n",
      "Is there a path in the pangenome graph? No path in Pangraph\n",
      "Real cost between the two contigs: No value\n",
      "---------------------- i = 56 ---------------------------------------------\n",
      "NODE_94_length_1685_cov_19.542945---3394087>3395763 :::::::: NODE_90_length_2072_cov_18.323748---3396482>3398550\n",
      "Is there a path in the assembly graph? True, number of nucleotides:  405654\n",
      "Is there a path in the pangenome graph? No path in Pangraph\n",
      "Real cost between the two contigs: No value\n",
      "---------------------- i = 57 ---------------------------------------------\n",
      "NODE_90_length_2072_cov_18.323748---3396482>3398550 :::::::: NODE_115_length_865_cov_55.879012---3398690>3399545\n",
      "Is there a path in the assembly graph? True, number of nucleotides:  -1\n",
      "Is there a path in the pangenome graph? No path in Pangraph\n",
      "Real cost between the two contigs: 1.25\n",
      "---------------------- i = 58 ---------------------------------------------\n",
      "NODE_115_length_865_cov_55.879012---3398690>3399545 :::::::: NODE_58_length_12944_cov_18.991155---3399501>3412437\n",
      "Is there a path in the assembly graph? True, number of nucleotides:  -1\n",
      "Is there a path in the pangenome graph? No path in Pangraph\n",
      "Real cost between the two contigs: 1.25\n",
      "---------------------- i = 59 ---------------------------------------------\n",
      "NODE_58_length_12944_cov_18.991155---3399501>3412437 :::::::: NODE_29_length_57625_cov_18.984888---3413156>3470771\n",
      "Is there a path in the assembly graph? True, number of nucleotides:  611\n",
      "Is there a path in the pangenome graph? No path in Pangraph\n",
      "Real cost between the two contigs: 1.1111111111111112\n",
      "---------------------- i = 60 ---------------------------------------------\n",
      "NODE_29_length_57625_cov_18.984888---3413156>3470771 :::::::: NODE_104_length_1129_cov_38.822160---3472057>3473168\n",
      "Is there a path in the assembly graph? True, number of nucleotides:  1348\n",
      "Is there a path in the pangenome graph? No path in Pangraph\n",
      "Real cost between the two contigs: 0.4\n",
      "---------------------- i = 61 ---------------------------------------------\n",
      "NODE_104_length_1129_cov_38.822160---3472057>3473168 :::::::: NODE_12_length_137405_cov_18.782796---3473677>3611071\n",
      "Is there a path in the assembly graph? True, number of nucleotides:  545\n",
      "Is there a path in the pangenome graph? No path in Pangraph\n",
      "Real cost between the two contigs: 1.1111111111111112\n",
      "---------------------- i = 62 ---------------------------------------------\n",
      "NODE_12_length_137405_cov_18.782796---3473677>3611071 :::::::: NODE_49_length_27664_cov_18.838676---3611755>3639395\n",
      "Is there a path in the assembly graph? True, number of nucleotides:  480\n",
      "Is there a path in the pangenome graph? Yes!, cost =  27.05\n",
      "Real cost between the two contigs: 11.476790123456789\n",
      "---------------------- i = 63 ---------------------------------------------\n",
      "NODE_49_length_27664_cov_18.838676---3611755>3639395 :::::::: NODE_51_length_17514_cov_18.602039---3639597>3657093\n",
      "Is there a path in the assembly graph? True, number of nucleotides:  -1\n",
      "Is there a path in the pangenome graph? Yes!, cost =  13.05\n",
      "Real cost between the two contigs: 3.9996804138321993\n",
      "---------------------- i = 64 ---------------------------------------------\n",
      "NODE_51_length_17514_cov_18.602039---3639597>3657093 :::::::: NODE_33_length_46779_cov_18.775576---3657317>3704079\n",
      "Is there a path in the assembly graph? True, number of nucleotides:  -1\n",
      "Is there a path in the pangenome graph? Yes!, cost =  19.05\n",
      "Real cost between the two contigs: 4.455642361111111\n",
      "---------------------- i = 65 ---------------------------------------------\n",
      "NODE_33_length_46779_cov_18.775576---3657317>3704079 :::::::: NODE_71_length_5699_cov_21.281361---3705077>3710762\n",
      "Is there a path in the assembly graph? True, number of nucleotides:  742\n",
      "Is there a path in the pangenome graph? No path in Pangraph\n",
      "Real cost between the two contigs: 0.4\n",
      "---------------------- i = 66 ---------------------------------------------\n",
      "NODE_71_length_5699_cov_21.281361---3705077>3710762 :::::::: NODE_91_length_1921_cov_39.800107---3710717>3712634\n",
      "Is there a path in the assembly graph? True, number of nucleotides:  36103\n",
      "Is there a path in the pangenome graph? No path in Pangraph\n",
      "Real cost between the two contigs: No value\n",
      "---------------------- i = 67 ---------------------------------------------\n",
      "NODE_91_length_1921_cov_39.800107---3710717>3712634 :::::::: NODE_57_length_13264_cov_18.653040---3714053>3727315\n",
      "Is there a path in the assembly graph? True, number of nucleotides:  247935\n",
      "Is there a path in the pangenome graph? No path in Pangraph\n",
      "Real cost between the two contigs: No value\n",
      "---------------------- i = 68 ---------------------------------------------\n",
      "NODE_57_length_13264_cov_18.653040---3714053>3727315 :::::::: NODE_87_length_2272_cov_97.826793---3728061>3730322\n",
      "Is there a path in the assembly graph? False,<----xxxxxxxxxxxxxxxxxxxxxxxxxxxxxxxxxxxxx\n",
      "Is there a path in the pangenome graph? No path in Pangraph\n",
      "Real cost between the two contigs: No value\n",
      "---------------------- i = 69 ---------------------------------------------\n",
      "NODE_87_length_2272_cov_97.826793---3728061>3730322 :::::::: NODE_13_length_123136_cov_19.311462---3730278>3853406\n",
      "Is there a path in the assembly graph? True, number of nucleotides:  -1\n",
      "Is there a path in the pangenome graph? No path in Pangraph\n",
      "Real cost between the two contigs: 1.25\n",
      "---------------------- i = 70 ---------------------------------------------\n",
      "NODE_13_length_123136_cov_19.311462---3730278>3853406 :::::::: NODE_4_length_210493_cov_18.979267---3858297>4068859\n",
      "Is there a path in the assembly graph? True, number of nucleotides:  4972\n",
      "Is there a path in the pangenome graph? Yes!, cost =  39.05\n",
      "Real cost between the two contigs: 13.058047760770975\n",
      "---------------------- i = 71 ---------------------------------------------\n",
      "NODE_4_length_210493_cov_18.979267---3858297>4068859 :::::::: NODE_18_length_89080_cov_19.243190---4070103>4159176\n",
      "Is there a path in the assembly graph? True, number of nucleotides:  1013\n",
      "Is there a path in the pangenome graph? Yes!, cost =  25.05\n",
      "Real cost between the two contigs: 11.76002314814815\n",
      "---------------------- i = 72 ---------------------------------------------\n",
      "NODE_18_length_89080_cov_19.243190---4070103>4159176 :::::::: NODE_62_length_9460_cov_18.395428---4159813>4169252\n",
      "Is there a path in the assembly graph? True, number of nucleotides:  181\n",
      "Is there a path in the pangenome graph? No path in Pangraph\n",
      "Real cost between the two contigs: 0.625\n",
      "---------------------- i = 73 ---------------------------------------------\n",
      "NODE_62_length_9460_cov_18.395428---4159813>4169252 :::::::: NODE_65_length_8473_cov_18.567474---4171713>4180173\n",
      "Is there a path in the assembly graph? True, number of nucleotides:  366390\n",
      "Is there a path in the pangenome graph? No path in Pangraph\n",
      "Real cost between the two contigs: No value\n",
      "---------------------- i = 74 ---------------------------------------------\n",
      "NODE_65_length_8473_cov_18.567474---4171713>4180173 :::::::: NODE_87_length_2272_cov_97.826793---4180547>4182808\n",
      "Is there a path in the assembly graph? True, number of nucleotides:  152053\n",
      "Is there a path in the pangenome graph? No path in Pangraph\n",
      "Real cost between the two contigs: No value\n",
      "---------------------- i = 75 ---------------------------------------------\n",
      "NODE_87_length_2272_cov_97.826793---4180547>4182808 :::::::: NODE_117_length_794_cov_18.997294---4183554>4184345\n",
      "Is there a path in the assembly graph? True, number of nucleotides:  117050\n",
      "Is there a path in the pangenome graph? No path in Pangraph\n",
      "Real cost between the two contigs: No value\n",
      "---------------------- i = 76 ---------------------------------------------\n",
      "NODE_117_length_794_cov_18.997294---4183554>4184345 :::::::: NODE_102_length_1248_cov_57.448449---4184310>4185542\n",
      "Is there a path in the assembly graph? False,<----xxxxxxxxxxxxxxxxxxxxxxxxxxxxxxxxxxxxx\n",
      "Is there a path in the pangenome graph? No path in Pangraph\n",
      "Real cost between the two contigs: No value\n",
      "---------------------- i = 77 ---------------------------------------------\n",
      "NODE_102_length_1248_cov_57.448449---4184310>4185542 :::::::: NODE_60_length_9971_cov_19.079266---4185495>4195458\n",
      "Is there a path in the assembly graph? True, number of nucleotides:  -1\n",
      "Is there a path in the pangenome graph? No path in Pangraph\n",
      "Real cost between the two contigs: 1.25\n",
      "---------------------- i = 78 ---------------------------------------------\n",
      "NODE_60_length_9971_cov_19.079266---4185495>4195458 :::::::: NODE_87_length_2272_cov_97.826793---4195415>4197676\n",
      "Is there a path in the assembly graph? True, number of nucleotides:  -1\n",
      "Is there a path in the pangenome graph? No path in Pangraph\n",
      "Real cost between the two contigs: 1.25\n",
      "---------------------- i = 79 ---------------------------------------------\n",
      "NODE_87_length_2272_cov_97.826793---4195415>4197676 :::::::: NODE_24_length_76639_cov_18.776207---4198143>4274773\n",
      "Is there a path in the assembly graph? True, number of nucleotides:  18960\n",
      "Is there a path in the pangenome graph? No path in Pangraph\n",
      "Real cost between the two contigs: No value\n",
      "---------------------- i = 80 ---------------------------------------------\n",
      "NODE_24_length_76639_cov_18.776207---4198143>4274773 :::::::: NODE_40_length_40069_cov_18.795472---4276329>4316385\n",
      "Is there a path in the assembly graph? True, number of nucleotides:  888\n",
      "Is there a path in the pangenome graph? No path in Pangraph\n",
      "Real cost between the two contigs: 1.6630158954709404\n",
      "---------------------- i = 81 ---------------------------------------------\n",
      "NODE_40_length_40069_cov_18.795472---4276329>4316385 :::::::: NODE_6_length_190645_cov_18.815531---4316710>4507344\n",
      "Is there a path in the assembly graph? True, number of nucleotides:  -1\n",
      "Is there a path in the pangenome graph? Yes!, cost =  47.05\n",
      "Real cost between the two contigs: 7.168714569160998\n",
      "---------------------- i = 82 ---------------------------------------------\n",
      "NODE_6_length_190645_cov_18.815531---4316710>4507344 :::::::: NODE_45_length_30843_cov_18.832500---4512564>4543399\n",
      "Is there a path in the assembly graph? True, number of nucleotides:  5230\n",
      "Is there a path in the pangenome graph? Yes!, cost =  14.05\n",
      "Real cost between the two contigs: 7.779976851851852\n",
      "---------------------- i = 83 ---------------------------------------------\n",
      "NODE_45_length_30843_cov_18.832500---4512564>4543399 :::::::: NODE_79_length_4283_cov_19.173841---4544334>4548602\n",
      "Is there a path in the assembly graph? True, number of nucleotides:  679\n",
      "Is there a path in the pangenome graph? Yes!, cost =  23.05\n",
      "Real cost between the two contigs: 11.290244708994711\n",
      "---------------------- i = 84 ---------------------------------------------\n",
      "NODE_79_length_4283_cov_19.173841---4544334>4548602 :::::::: NODE_28_length_60907_cov_18.854582---4554111>4615012\n",
      "Is there a path in the assembly graph? True, number of nucleotides:  5187\n",
      "Is there a path in the pangenome graph? Yes!, cost =  35.05\n",
      "Real cost between the two contigs: 13.349560185185188\n",
      "---------------------- i = 85 ---------------------------------------------\n",
      "NODE_28_length_60907_cov_18.854582---4554111>4615012 :::::::: NODE_97_length_1443_cov_56.968300---4614964>4616402\n",
      "Is there a path in the assembly graph? True, number of nucleotides:  8331\n",
      "Is there a path in the pangenome graph? No path in Pangraph\n",
      "Real cost between the two contigs: No value\n",
      "---------------------- i = 86 ---------------------------------------------\n",
      "NODE_97_length_1443_cov_56.968300---4614964>4616402 :::::::: NODE_67_length_7364_cov_18.565194---4616355>4623706\n",
      "Is there a path in the assembly graph? True, number of nucleotides:  424447\n",
      "Is there a path in the pangenome graph? No path in Pangraph\n",
      "Real cost between the two contigs: No value\n",
      "---------------------- i = 87 ---------------------------------------------\n",
      "NODE_67_length_7364_cov_18.565194---4616355>4623706 :::::::: NODE_109_length_1024_cov_16.748194---4626059>4627082\n",
      "Is there a path in the assembly graph? False,<----xxxxxxxxxxxxxxxxxxxxxxxxxxxxxxxxxxxxx\n",
      "Is there a path in the pangenome graph? No path in Pangraph\n",
      "Real cost between the two contigs: No value\n",
      "---------------------- i = 88 ---------------------------------------------\n",
      "NODE_109_length_1024_cov_16.748194---4626059>4627082 :::::::: NODE_52_length_16824_cov_18.597829---4628060>4644874\n",
      "Is there a path in the assembly graph? True, number of nucleotides:  572\n",
      "Is there a path in the pangenome graph? No path in Pangraph\n",
      "Real cost between the two contigs: 0.4\n",
      "---------------------- i = 89 ---------------------------------------------\n",
      "NODE_52_length_16824_cov_18.597829---4628060>4644874 :::::::: NODE_84_length_2538_cov_74.520741---4644871>4647395\n",
      "Is there a path in the assembly graph? True, number of nucleotides:  -1\n",
      "Is there a path in the pangenome graph? No path in Pangraph\n",
      "Real cost between the two contigs: 1.25\n",
      "---------------------- i = 90 ---------------------------------------------\n",
      "NODE_84_length_2538_cov_74.520741---4644871>4647395 :::::::: NODE_25_length_70560_cov_18.770981---4647349>4717901\n",
      "Is there a path in the assembly graph? True, number of nucleotides:  -1\n",
      "Is there a path in the pangenome graph? No path in Pangraph\n",
      "Real cost between the two contigs: 1.25\n",
      "---------------------- i = 91 ---------------------------------------------\n",
      "NODE_25_length_70560_cov_18.770981---4647349>4717901 :::::::: NODE_19_length_88449_cov_18.833710---4723262>4811707\n",
      "Is there a path in the assembly graph? True, number of nucleotides:  5102\n",
      "Is there a path in the pangenome graph? Yes!, cost =  40.05\n",
      "Real cost between the two contigs: 11.362356859410431\n",
      "---------------------- i = 92 ---------------------------------------------\n",
      "NODE_19_length_88449_cov_18.833710---4723262>4811707 :::::::: NODE_35_length_44062_cov_18.925307---4817112>4861169\n",
      "Is there a path in the assembly graph? True, number of nucleotides:  5166\n",
      "Is there a path in the pangenome graph? Yes!, cost =  46.05\n",
      "Real cost between the two contigs: 14.31625106292517\n",
      "---------------------- i = 93 ---------------------------------------------\n",
      "NODE_35_length_44062_cov_18.925307---4817112>4861169 :::::::: NODE_53_length_15724_cov_20.028017---4861615>4877333\n",
      "Is there a path in the assembly graph? True, number of nucleotides:  437\n",
      "Is there a path in the pangenome graph? No path in Pangraph\n",
      "Real cost between the two contigs: 4.942361111111111\n"
     ]
    }
   ],
   "source": [
    "assembly_graph = pangraph.assembly_graph\n",
    "for i in range(len(target_contigs_list)-1):\n",
    "    print('---------------------- i =', i, '---------------------------------------------')\n",
    "    node1 = target_contigs_list[i]\n",
    "    node2 = target_contigs_list[i+1]\n",
    "    print(target_contigs_sorted[i],'::::::::', target_contigs_sorted[i+1])\n",
    "    source_id = 'C-' + str(pangraph.tail_contig[node1])\n",
    "    target_id = 'C-' + str(pangraph.head_contig[node2]) \n",
    "    source_node = node1 + pangraph.strand[node1]\n",
    "    target_node = node2 + pangraph.strand[node2]\n",
    "    \n",
    "    if assembly_graph.has_node(source_node) and assembly_graph.has_node(target_node):\n",
    "        print(\"Is there a path in the assembly graph? \", end ='')\n",
    "        print(nx.has_path(assembly_graph, source_node, target_node), end = ',')   \n",
    "        if nx.has_path(assembly_graph, source_node, target_node):\n",
    "            path_nucleotides = -1\n",
    "            path = nx.shortest_path(assembly_graph, source=source_node, target=target_node)\n",
    "            for idxp in range(1, len(path)-1):\n",
    "                path_nucleotides = path_nucleotides + int(path[idxp].split(\"_\")[3])\n",
    "            print(' number of nucleotides: ', path_nucleotides)\n",
    "        else:\n",
    "            print('<----xxxxxxxxxxxxxxxxxxxxxxxxxxxxxxxxxxxxx')\n",
    "    print(\"Is there a path in the pangenome graph? \", end ='')\n",
    "    if nx.has_path(pangraph.H, source_id, target_id):\n",
    "        p = nx.shortest_path(pangraph.H, source=source_id, target=target_id)\n",
    "        weight_p = 0.0\n",
    "        for node_p_idx in range(len(p)-1):\n",
    "            weight_p += pangraph.H[p[node_p_idx]][p[node_p_idx+1]]['weight']\n",
    "        if len(p) >= 2:\n",
    "            weight_p = 0.05 + weight_p/float((len(p)-1)*(len(p)-1))\n",
    "        print(\"Yes!, cost = \", weight_p)\n",
    "    else:\n",
    "        print(\"No path in Pangraph\")\n",
    "    print(\"Real cost between the two contigs: \", end ='')\n",
    "    get_value(pangraph.edge_df0, node1, node2)\n",
    "        \n",
    "#     if get_node_coverage(node2) >= 25.0:\n",
    "#         print('**************************************************')\n",
    "#         node2 = next_node_multi_1(target_contigs_list, i+1)\n",
    "#         print(node1, node2)\n",
    "#         source_id = 'C-' + str(pangraph.tail_contig[node1])\n",
    "#         target_id = 'C-' + str(pangraph.head_contig[node2]) \n",
    "#         source_node = node1 + pangraph.strand[node1]\n",
    "#         target_node = node2 + pangraph.strand[node2]\n",
    "#         get_value(pangraph.edge_df0, node1, node2)\n",
    "#         if nx.has_path(pangraph.H, source_id, target_id):\n",
    "#             p = nx.shortest_path(pangraph.H, source=source_id, target=target_id)\n",
    "#             weight_p = 0.0\n",
    "#             for node_p_idx in range(len(p)-1):\n",
    "#                 weight_p += pangraph.H[p[node_p_idx]][p[node_p_idx+1]]['weight']\n",
    "#             if len(p) >= 2:\n",
    "#                 weight_p = 0.05 + weight_p/float((len(p)-1)*(len(p)-1))\n",
    "#             print(weight_p)\n",
    "#         else:\n",
    "#             print(\"No path in Pangraph\")\n",
    "#         if assembly_graph.has_node(source_node) and assembly_graph.has_node(target_node):\n",
    "#             print(\"Is there a path in the assembly graph? \", end ='')\n",
    "#             print(nx.has_path(assembly_graph, source_node, target_node), end = ',')   \n",
    "#             if nx.has_path(assembly_graph, source_node, target_node):\n",
    "#                 path_nucleotides = -1\n",
    "#                 path = nx.shortest_path(assembly_graph, source=source_node, target=target_node)\n",
    "#                 for idxp in range(1, len(path)-1):\n",
    "#                     path_nucleotides = path_nucleotides + int(path[idxp].split(\"_\")[3])\n",
    "#                 print(\"Number of nucleo: \",  path_nucleotides) #len(path)\n",
    "#             else:\n",
    "#                 print('xxxxxxxxxxxxxxxxxxxxxxxxxxxxxxxxxxxxxxxxxxxxxxxxxxxx')\n",
    "            \n",
    "    \n",
    "    #     # sum_len = 0\n",
    "    #     # if nx.has_path(pangraph.H, source_id, target_id) or nx.has_path(assembly_graph, source_node, target_node):\n",
    "    #     #     sum_len += int(final_df.iloc[i,1])\n",
    "    #     #     print(sum_len, end='')\n",
    "    # else:\n",
    "    #     print(\"Restart............................................\")\n",
    "    #     sum_len = 0\n",
    "    # # print('')"
   ]
  },
  {
   "cell_type": "code",
   "execution_count": 63,
   "id": "fd836ce1-8041-4358-b4b7-d2f115504794",
   "metadata": {},
   "outputs": [],
   "source": [
    "# pangraph.edge_df0"
   ]
  },
  {
   "cell_type": "code",
   "execution_count": 64,
   "id": "cdd5a316-4e67-4a95-b446-1bf353165396",
   "metadata": {},
   "outputs": [],
   "source": [
    "# pangraph.edge_df0['source'].values"
   ]
  },
  {
   "cell_type": "code",
   "execution_count": 65,
   "id": "5ba67867-330c-4f52-8220-b3fab4304976",
   "metadata": {},
   "outputs": [],
   "source": [
    "## Xet chieu trong trinh dai dien de sua roi inversion."
   ]
  },
  {
   "cell_type": "code",
   "execution_count": 66,
   "id": "c1fd520a-b726-4bf7-a734-bd53423fb71e",
   "metadata": {},
   "outputs": [],
   "source": [
    "# Gui 3 file reference + 1 test sample"
   ]
  },
  {
   "cell_type": "code",
   "execution_count": 67,
   "id": "d4f9b8d7-c5b9-429a-934a-7a7ca2cb5ffc",
   "metadata": {},
   "outputs": [],
   "source": [
    "# import glob\n",
    "# import os\n",
    "# list_file = glob.glob(\"/data/hoan/amromics/genome-graph/scaffold_output/quastResults_Kp50random_Kptest*/report.pdf\")"
   ]
  },
  {
   "cell_type": "code",
   "execution_count": 68,
   "id": "a0bc3125-1500-4da8-8558-1b4816e8a2d6",
   "metadata": {},
   "outputs": [],
   "source": [
    "# for file in list_file:\n",
    "#     sample_id = file.split(\"/\")[-2].split(\"_\")[4]\n",
    "#     cmd = 'mv ' + file +' '+ file[:-10] + str(sample_id) + 't3.pdf'\n",
    "#     # print(cmd)\n",
    "#     os.system(cmd)"
   ]
  },
  {
   "cell_type": "code",
   "execution_count": null,
   "id": "17ee823a-c562-4d16-a0dc-e841c6e95c88",
   "metadata": {},
   "outputs": [],
   "source": []
  }
 ],
 "metadata": {
  "kernelspec": {
   "display_name": "Environment (panta)",
   "language": "python",
   "name": "panta"
  },
  "language_info": {
   "codemirror_mode": {
    "name": "ipython",
    "version": 3
   },
   "file_extension": ".py",
   "mimetype": "text/x-python",
   "name": "python",
   "nbconvert_exporter": "python",
   "pygments_lexer": "ipython3",
   "version": "3.7.10"
  }
 },
 "nbformat": 4,
 "nbformat_minor": 5
}
