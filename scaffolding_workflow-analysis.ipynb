{
 "cells": [
  {
   "cell_type": "code",
   "execution_count": 1,
   "id": "c7d3d3db-3ed2-4555-bd16-52e10539fa61",
   "metadata": {},
   "outputs": [],
   "source": [
    "## Todos: Fix inversion\n",
    "## Always print new function.\n",
    "# Play with min_weight parameter\n",
    "## Tai sao nhung thang dai khong noi voi nhau?"
   ]
  },
  {
   "cell_type": "code",
   "execution_count": 2,
   "id": "d647e664-4d5d-4179-9b79-c1daaa93ca3f",
   "metadata": {},
   "outputs": [],
   "source": [
    "import os\n",
    "import traceback\n",
    "import logging\n",
    "import os.path\n",
    "import networkx as nx\n",
    "import pandas as pd\n",
    "import numpy as np\n",
    "import pylab as pl\n",
    "from matplotlib import collections  as mc\n",
    "import glob\n",
    "import math"
   ]
  },
  {
   "cell_type": "code",
   "execution_count": 3,
   "id": "5ce0f9f4-a9a7-4e49-af28-991fd29735b9",
   "metadata": {},
   "outputs": [],
   "source": [
    "# simversion = '_v01'\n",
    "simversion = '_plasmid_v01'\n",
    "simversionQuast = '_assemBiGraph2_v01'\n",
    "simversionPangraph = '_test_assemBiGraph2_v01' #'_assemGraph2_v01': use assembly graph v2; _assemBiGraph2_v01: if (u,v) in G, so is (v-, u-)\n",
    "# simversion = '_plasmid_v02'\n",
    "# simversion = '_plasmid_v03'\n",
    "# simversion = '_plasmid_v04'\n",
    "# 1 True, 0 False\n",
    "prepare_database_4_multicsar = 0\n",
    "run_art = 0\n",
    "run_spades = 0\n",
    "run_panta = 1\n",
    "split_paralogs = 0\n",
    "run_multicsar = 0\n",
    "run_ragout = 0\n",
    "run_pangraph = 1\n",
    "# pangenome_data = '/data/hoan/amromics/data/ncbi/Kp100random/' # for pangraph, Ragout, multi-CSAR #v3\n",
    "pangenome_data = '/data/hoan/amromics/data/ncbi/Ecoli50random/'\n",
    "# pangenome_data = '/data/hoan/amromics/data/ncbi/Kptest/' # for pangraph, Ragout, multi-CSAR\n",
    "scaffold_out_dir = '/data/hoan/amromics/genome-graph/scaffold_output/'"
   ]
  },
  {
   "cell_type": "code",
   "execution_count": 115,
   "id": "f096292d-0f0d-483d-b534-c5ebd59b13b3",
   "metadata": {},
   "outputs": [],
   "source": [
    "if prepare_database_4_multicsar==1:\n",
    "    os.system('rm -r ' + pangenome_data + 'fna/')\n",
    "    os.system('mkdir ' + pangenome_data + 'fna/')\n",
    "    os.system('cp -r '+ pangenome_data + '*.fna.gz '+ pangenome_data + 'fna/')\n",
    "    os.system('~/miniconda3/envs/panta/bin/gzip -d ' + pangenome_data + 'fna/*.fna.gz')"
   ]
  },
  {
   "cell_type": "markdown",
   "id": "ea10ac98-91ce-4d6c-a61c-9c6e754e5935",
   "metadata": {},
   "source": [
    "### Simulate reads using ART"
   ]
  },
  {
   "cell_type": "code",
   "execution_count": 116,
   "id": "706c8a73-380f-4073-b6f3-72908b943544",
   "metadata": {},
   "outputs": [],
   "source": [
    "# https://github.com/scchess/Art/blob/master/art_illumina_README"
   ]
  },
  {
   "cell_type": "code",
   "execution_count": 117,
   "id": "b5c4219e-b96b-4e69-9545-8c8e1e67de28",
   "metadata": {},
   "outputs": [],
   "source": [
    "sim_dir = '/data/hoan/amromics/simulation/'\n",
    "art_bin = '/data/hoan/amromics/simulation/art_bin/./art_illumina'"
   ]
  },
  {
   "cell_type": "code",
   "execution_count": 118,
   "id": "f49f0939-0560-4507-b1a0-0c29e83e11da",
   "metadata": {},
   "outputs": [],
   "source": [
    "# ref_data = '/data/hoan/amromics/simulation/references/GCF_000240185.1_ASM24018v2_genomic.fasta'\n",
    "# ref_data = '/data/hoan/amromics/simulation/references/GCF_000240185.1_ASM24018v2_genomic.fna'\n",
    "ref_data = '/data/hoan/amromics/data/ncbi/Ecolitest/GCF_002860105.1_ASM286010v1_genomic.fna'\n",
    "# ref_data = '/data/hoan/amromics/data/ncbi/Ecolitest/GCF_002899495.1_ASM289949v1_genomic.fna'  ## Mau nay co van de.\n",
    "# ref_data = '/data/hoan/amromics/data/ncbi/Ecolitest/GCF_004135915.1_ASM413591v1_genomic.fna' ## assemblyy_graph co van de\n",
    "# ref_data = '/data/hoan/amromics/data/ncbi/Ecolitest/GCF_006351885.1_ASM635188v1_genomic.fna'\n",
    "# ref_data = '/data/hoan/amromics/data/ncbi/Ecolitest/GCF_014169015.1_ASM1416901v1_genomic.fna'\n",
    "# ref_data = '/data/hoan/amromics/data/ncbi/Ecolitest/GCF_900635215.1_39859_D02_genomic.fna'\n",
    "sim_name = ref_data.split(\"/\")[-2] + '_' + ref_data.split(\"/\")[-1][:-1][:13]\n",
    "sim_output = '/data/hoan/amromics/simulation/art_output/sim_reads_' + sim_name + simversion[-4:]\n",
    "# sim_output = '/data/hoan/amromics/simulation/art_output/paired_dat_test'"
   ]
  },
  {
   "cell_type": "code",
   "execution_count": 119,
   "id": "c802e106-3a8e-48ee-9319-e24c5d347ae2",
   "metadata": {},
   "outputs": [
    {
     "data": {
      "text/plain": [
       "'/data/hoan/amromics/simulation/art_output/sim_reads_Ecolitest_GCF_002860105_v01'"
      ]
     },
     "execution_count": 119,
     "metadata": {},
     "output_type": "execute_result"
    }
   ],
   "source": [
    "sim_output"
   ]
  },
  {
   "cell_type": "code",
   "execution_count": 120,
   "id": "05d8c28d-f058-4e33-a89f-9d54860bf706",
   "metadata": {},
   "outputs": [],
   "source": [
    "if run_art: \n",
    "    if simversion[-3:]=='v01':\n",
    "        os.system(art_bin+' -ss HS20 -sam -i '+ref_data+' -p -l 100 -f 70 -m 400 -s 60 -o '+sim_output) # _v01\n",
    "    if simversion[-3:]=='v02':\n",
    "        os.system(art_bin+' -ss HS20 -sam -i '+ref_data+' -p -l 100 -f 70 -m 400 -s 10 -o '+sim_output) # _v02\n",
    "    if simversion[-3:]=='v03':\n",
    "        os.system(art_bin+' -ss MSv3 -sam -i '+ref_data+' -p -l 250 -f 70 -m 400 -s 60 -o '+sim_output) # _v03\n",
    "    if simversion[-3:]=='v04':\n",
    "        os.system(art_bin+' -ss MSv3 -sam -i '+ref_data+' -p -l 250 -f 70 -m 400 -s 10 -o '+sim_output) # _v04"
   ]
  },
  {
   "cell_type": "markdown",
   "id": "87fd93fb-e2d0-4f37-92b0-7f39bf9e37c5",
   "metadata": {},
   "source": [
    "### Run SPADES assembly"
   ]
  },
  {
   "cell_type": "code",
   "execution_count": 121,
   "id": "9a8c3d4c-9b2a-484c-a1c8-60acf3e64766",
   "metadata": {},
   "outputs": [
    {
     "data": {
      "text/plain": [
       "'/data/hoan/amromics/simulation/art_output/spades_output_Ecolitest_GCF_002860105_v01'"
      ]
     },
     "execution_count": 121,
     "metadata": {},
     "output_type": "execute_result"
    }
   ],
   "source": [
    "spades_output = '/data/hoan/amromics/simulation/art_output/' + 'spades_output_' + sim_name + simversion[-4:]\n",
    "spades_output"
   ]
  },
  {
   "cell_type": "code",
   "execution_count": 122,
   "id": "3ee3e8cf-e24e-4cc7-8f5f-0e6c985389e6",
   "metadata": {},
   "outputs": [],
   "source": [
    "if run_spades:\n",
    "    spades_bin ='~/miniconda3/envs/amromics/bin/spades.py'\n",
    "    os.system(spades_bin+' --isolate -1 '+sim_output+'1.fq -2 '+sim_output+'2.fq -t 50 -o '+spades_output)"
   ]
  },
  {
   "cell_type": "markdown",
   "id": "810a07c5-1c26-4c6f-9f60-bcf6aae01147",
   "metadata": {},
   "source": [
    "### Run panta"
   ]
  },
  {
   "cell_type": "code",
   "execution_count": 123,
   "id": "97033d06-5c90-4760-a312-d6c129cf00d0",
   "metadata": {},
   "outputs": [
    {
     "data": {
      "text/plain": [
       "'_Ecoli50random_Ecolitest_GCF_002860105_plasmid_v01'"
      ]
     },
     "execution_count": 123,
     "metadata": {},
     "output_type": "execute_result"
    }
   ],
   "source": [
    "simversionRef = '_'+ pangenome_data.split('/')[-2] +'_'+ sim_name + simversion\n",
    "simversionRef"
   ]
  },
  {
   "cell_type": "code",
   "execution_count": 124,
   "id": "4b3b2a6c-1f8a-4c93-9687-f518ba5b67d5",
   "metadata": {},
   "outputs": [
    {
     "name": "stdout",
     "output_type": "stream",
     "text": [
      "Pangenome data:  /data/hoan/amromics/data/ncbi/Ecoli50random/\n"
     ]
    }
   ],
   "source": [
    "# move spades ouput to panta dir\n",
    "print('Pangenome data: ', pangenome_data)\n",
    "if run_panta:\n",
    "    os.system('cp '+spades_output+'/contigs.fasta ' + pangenome_data + 'g1.fna')\n",
    "    os.system('rm ' + pangenome_data + 'g1.fna.gz')\n",
    "    os.system('~/miniconda3/envs/panta/bin/gzip -k ' + pangenome_data + 'g1.fna')"
   ]
  },
  {
   "cell_type": "code",
   "execution_count": 125,
   "id": "df2d3cd7-cf59-4283-a675-aa5dcd0ac3de",
   "metadata": {},
   "outputs": [
    {
     "name": "stdout",
     "output_type": "stream",
     "text": [
      "PANTA OUTPUT:  /data/hoan/amromics/panta/examples/test/pantaOut_Ecoli50random_Ecolitest_GCF_002860105_plasmid_v01_nosplit\n",
      "No split ortholog\n"
     ]
    },
    {
     "name": "stderr",
     "output_type": "stream",
     "text": [
      "06:40:15 INFO : Extract protein -- time taken 0:00:16.926896\n",
      "06:40:47 INFO : Run CD-HIT with 98% identity -- time taken 0:00:31.538184\n",
      "06:40:47 INFO : Comparing 29617 sequences with 29617 sequences\n",
      "06:41:58 INFO : Run BLASTP -- time taken 0:01:10.756993\n",
      "06:42:01 INFO : Cluster with MCL -- time taken 0:00:02.743719\n",
      "06:42:01 INFO : Reinflate clusters -- time taken 0:00:00.034722\n",
      "06:42:01 INFO : Output gene info -- time taken 0:00:00.315977\n",
      "06:42:01 INFO : Done -- time taken 0:02:02.666919\n"
     ]
    }
   ],
   "source": [
    "# Run panta (change output dir)\n",
    "# https://askubuntu.com/questions/1252439/not-able-to-activate-conda-environment-through-os-system-command-in-python\n",
    "conda_dir = 'source ~/miniconda3/etc/profile.d/conda.sh && conda activate panta && '\n",
    "panta_bin =conda_dir+'python /data/hoan/amromics/panta/panta.py'\n",
    "panta_output = '/data/hoan/amromics/panta/examples/test/pantaOut' + simversionRef\n",
    "# panta_output = '/data/hoan/amromics/panta/examples/test/output_Kp100' \n",
    "if split_paralogs == 0:\n",
    "    panta_output = panta_output + '_nosplit'\n",
    "print('PANTA OUTPUT: ', panta_output)\n",
    "if run_panta:\n",
    "    if split_paralogs:\n",
    "        cmd_panta = panta_bin + ' -p init -a ' +pangenome_data+ '*.fna.gz -o '+panta_output +' -as -s -i 85 -c 20 -e 0.01'\n",
    "    else:\n",
    "        print(\"No split ortholog\")\n",
    "        cmd_panta = panta_bin + ' -p init -a ' +pangenome_data+ '*.fna.gz -o '+panta_output +' -as'\n",
    "    os.system(cmd_panta)"
   ]
  },
  {
   "cell_type": "markdown",
   "id": "00da366b-5605-4068-ac1d-9dd1162f316e",
   "metadata": {},
   "source": [
    "### Run pangraph"
   ]
  },
  {
   "cell_type": "code",
   "execution_count": 126,
   "id": "5ade0fe7-9980-4e5f-b93b-c3faef84950e",
   "metadata": {},
   "outputs": [
    {
     "name": "stdout",
     "output_type": "stream",
     "text": [
      "The autoreload extension is already loaded. To reload it, use:\n",
      "  %reload_ext autoreload\n"
     ]
    }
   ],
   "source": [
    "try:\n",
    "    %load_ext autoreload\n",
    "    %autoreload 2\n",
    "except Exception as e:\n",
    "    logging.error(traceback.format_exc())\n",
    "from pangraph import PanGraph"
   ]
  },
  {
   "cell_type": "code",
   "execution_count": 127,
   "id": "d1862260-72f1-4641-b810-94b4123a86ac",
   "metadata": {},
   "outputs": [],
   "source": [
    "# set parameters\n",
    "data_dir = panta_output \n",
    "incomplete_sample_name = 'g1'\n",
    "assem_dir = spades_output\n",
    "fasta_gen = 'partial' # 'all', 'partial'"
   ]
  },
  {
   "cell_type": "code",
   "execution_count": 128,
   "id": "dfd3bc62-c654-4354-96c9-67a9bbfa0b5e",
   "metadata": {},
   "outputs": [],
   "source": [
    "simversionRefNew = '_'+ pangenome_data.split('/')[-2] +'_'+ sim_name + simversionPangraph\n",
    "# pangraph_output_greedy_default = scaffold_out_dir + 'pangraph_greedy'+ simversionRef + '.fasta'\n",
    "# pangraph_output_opt_default = scaffold_out_dir + 'pangraph_opt'+ simversionRef + '.fasta'\n",
    "pangraph_output_greedy = scaffold_out_dir + 'pangraph_greedy'+ simversionRefNew + '.fasta'\n",
    "pangraph_output_opt = scaffold_out_dir + 'pangraph_opt'+ simversionRefNew + '.fasta'"
   ]
  },
  {
   "cell_type": "code",
   "execution_count": 129,
   "id": "ac2c9bb8-2ddb-43cd-a9a7-1651ff101500",
   "metadata": {},
   "outputs": [
    {
     "data": {
      "text/plain": [
       "'/data/hoan/amromics/genome-graph/scaffold_output/pangraph_opt_Ecoli50random_Ecolitest_GCF_002860105_test_assemBiGraph2_v01.fasta'"
      ]
     },
     "execution_count": 129,
     "metadata": {},
     "output_type": "execute_result"
    }
   ],
   "source": [
    "pangraph_output_opt"
   ]
  },
  {
   "cell_type": "code",
   "execution_count": 130,
   "id": "dc5c2923-ffaa-4e61-bbd9-999e3e6e1b03",
   "metadata": {},
   "outputs": [
    {
     "name": "stdout",
     "output_type": "stream",
     "text": [
      "Should we use target sequence as reference, hence, the strand will be ok\n",
      "Set minimum on number of nucleotides =  10 NUMBER OF COMPUTED CONTIGS: 261\n",
      "Clip the matrix 0.2 !!!!!!!!!!!!!!!!!!!!!!!!!!!!!!!!!!\n",
      "Use modified  assembly graph\n",
      "Use union graph: overlap + assembly\n",
      "Re-infer the contigs strand: NO\n",
      "Reduce the cost by 1/2 if there is no path in the assembly graph\n",
      "Reduce the cost by 1/2 if there is no path in the assembly graph\n",
      "Implement multiplicity\n",
      "Set long_range_dependancy_threshold =  1.999\n",
      "remove a node which creates a loop\n",
      "compute long range dependancy\n",
      "4.040516962619911\n",
      "compute long range dependancy\n",
      "1.2750000000000001\n",
      "remove a node which creates a loop\n",
      "compute long range dependancy\n",
      "1.1333333333333335\n",
      "compute long range dependancy\n",
      "1.1333333333333335\n",
      "compute long range dependancy\n",
      "1.1333333333333335\n",
      "compute long range dependancy\n",
      "12.805833333333332\n",
      "compute long range dependancy\n",
      "1.1333333333333335\n",
      "Will test this, Ok?\n",
      "Will test this, Ok?\n",
      "Will test this, Ok?\n",
      "Will test this, Ok?\n",
      "Success! File written\n"
     ]
    }
   ],
   "source": [
    "if run_pangraph:\n",
    "    # https://stackoverflow.com/questions/4990718/how-can-i-write-a-try-except-block-that-catches-all-exceptions\n",
    "    pangraph = PanGraph(sample_info=None, gene_info=None, gene_position=None)\n",
    "    try:\n",
    "        maximum_matching = 'greedy'\n",
    "        pangraph.run_pangraph_pipeline(data_dir, incomplete_sample_name, assem_dir, fasta_gen, pangraph_output_greedy, maximum_matching)\n",
    "    except Exception as e:\n",
    "        logging.error(traceback.format_exc())\n",
    "        # Logs the error appropriately. "
   ]
  },
  {
   "cell_type": "code",
   "execution_count": 131,
   "id": "b6ce7a6f-411b-4bb6-822d-68dc7577bdc4",
   "metadata": {},
   "outputs": [
    {
     "name": "stdout",
     "output_type": "stream",
     "text": [
      "Reduce the cost by 1/2 if there is no path in the assembly graph\n",
      "Reduce the cost by 1/2 if there is no path in the assembly graph\n",
      "Implement multiplicity\n",
      "Compute maximum matching\n",
      "There is a CYCLE - I will remove it\n",
      "Will test this, Ok?\n",
      "Will test this, Ok?\n",
      "Will test this, Ok?\n",
      "Will test this, Ok?\n",
      "Success! File written\n"
     ]
    }
   ],
   "source": [
    "if run_pangraph:\n",
    "    try:\n",
    "        maximum_matching = 'opt'\n",
    "        pangraph.RERUN_pangraph_pipeline(data_dir, incomplete_sample_name, assem_dir, fasta_gen, pangraph_output_opt, maximum_matching)\n",
    "    except Exception as e:\n",
    "        logging.error(traceback.format_exc())\n",
    "        # Logs the error appropriately. "
   ]
  },
  {
   "cell_type": "code",
   "execution_count": 132,
   "id": "9088612c-e3c6-4d7c-a7e7-9d583c3af177",
   "metadata": {},
   "outputs": [],
   "source": [
    "# try:\n",
    "#     maximum_matching = 'greedy'\n",
    "#     pangraph_output_greedy = spades_output + '/contigs_concat_'+ maximum_matching+ simversionRef + '.fasta'\n",
    "#     pangraph.RERUN_pangraph_pipeline(data_dir, incomplete_sample_name, assem_dir, fasta_gen, pangraph_output_opt, maximum_matching)\n",
    "# except Exception as e:\n",
    "#     logging.error(traceback.format_exc())\n",
    "#     # Logs the error appropriately. "
   ]
  },
  {
   "cell_type": "markdown",
   "id": "a21d3a7c-fc03-4c81-9957-93d225838fe5",
   "metadata": {},
   "source": [
    "### Run scaffold methods"
   ]
  },
  {
   "cell_type": "code",
   "execution_count": 133,
   "id": "3d4dd495-be29-4b69-81f6-a03f1027725e",
   "metadata": {},
   "outputs": [],
   "source": [
    "### Multi-CSAR\n",
    "conda_dir = 'source ~/miniconda3/etc/profile.d/conda.sh && conda activate py27 && '\n",
    "csar_bin = conda_dir + '/data/hoan/amromics/assembly/Multi-CSAR/./multi-csar.php'"
   ]
  },
  {
   "cell_type": "code",
   "execution_count": 134,
   "id": "571a94e7-92e9-49e8-87ca-7ddff8c08908",
   "metadata": {},
   "outputs": [],
   "source": [
    "multicsar_output = scaffold_out_dir + 'multicsar/multicsar' + simversionRef\n",
    "if run_multicsar:\n",
    "    os.system('rm ' + pangenome_data + 'fna/g1*')\n",
    "    os.system(csar_bin +' -t '+pangenome_data+'g1.fna -r '+pangenome_data+'fna/ --nuc -o '+multicsar_output)\n",
    "    # os.system(csar_bin +' -t '+pangenome_data+'g1.fna -r '+pangenome_data+'*.fna --nuc -o '+multicsar_output)"
   ]
  },
  {
   "cell_type": "code",
   "execution_count": 135,
   "id": "b36507eb-e063-4b98-b9b8-94f989d64252",
   "metadata": {},
   "outputs": [
    {
     "data": {
      "text/plain": [
       "'/data/hoan/amromics/genome-graph/scaffold_output/multicsar/multicsar_Ecoli50random_Ecolitest_GCF_002860105_plasmid_v01'"
      ]
     },
     "execution_count": 135,
     "metadata": {},
     "output_type": "execute_result"
    }
   ],
   "source": [
    "multicsar_output"
   ]
  },
  {
   "cell_type": "code",
   "execution_count": 136,
   "id": "1b914df9-78d2-4d3d-842f-e22ecb65fc4c",
   "metadata": {},
   "outputs": [],
   "source": [
    "### Ragout\n",
    "ragout_bin = 'source ~/miniconda3/etc/profile.d/conda.sh && conda activate py27 && ragout '\n",
    "ragout_output = scaffold_out_dir + 'multicsar/ragout' + simversionRef\n",
    "if run_ragout:\n",
    "    # write receipt file\n",
    "    ref_files_list = glob.glob(pangenome_data+'fna/*')\n",
    "    n_files = len(ref_files_list)\n",
    "    receipt_file_dir = '/data/hoan/amromics/assembly/Ragout/kp100'+simversionRef+'.rcp'\n",
    "    f = open(receipt_file_dir, \"w\")\n",
    "    f.write('.references = ')\n",
    "    for idx in range(n_files-1):\n",
    "        f.write('r' + str(idx) + ',')\n",
    "    f.write('r'+str(n_files-1)+'\\n')\n",
    "    f.write(\".target = mg1655\\n\\n\")\n",
    "    for idx in range(n_files):\n",
    "        f.write('r'+str(idx)+'.fasta =' + ref_files_list[idx] + '\\n')\n",
    "    f.write('mg1655.fasta = ' + spades_output+'/contigs.fasta\\n')\n",
    "    f.close()"
   ]
  },
  {
   "cell_type": "code",
   "execution_count": 137,
   "id": "c420de89-d23f-45ef-bb74-f47a5abcf988",
   "metadata": {},
   "outputs": [],
   "source": [
    "if run_ragout:\n",
    "    os.system(ragout_bin + receipt_file_dir + ' --outdir ' + ragout_output + ' --refine')\n",
    "    # ragout kp100_v2.rcp --outdir output_Kp100p_v2/ --refine"
   ]
  },
  {
   "cell_type": "code",
   "execution_count": 138,
   "id": "ca6e60d4-4815-48a0-9f87-5be961567050",
   "metadata": {},
   "outputs": [
    {
     "name": "stdout",
     "output_type": "stream",
     "text": [
      "/data/hoan/amromics/genome-graph/scaffold_output/multicsar/ragout_Ecoli50random_Ecolitest_GCF_002860105_plasmid_v01\n"
     ]
    }
   ],
   "source": [
    "print(ragout_output)"
   ]
  },
  {
   "cell_type": "markdown",
   "id": "f2188478-51fd-4f84-b640-6a9e96127648",
   "metadata": {},
   "source": [
    "### Quast "
   ]
  },
  {
   "cell_type": "code",
   "execution_count": 139,
   "id": "6cb3eaf5-604c-4dca-a28f-2140bb28534f",
   "metadata": {},
   "outputs": [
    {
     "data": {
      "text/plain": [
       "'/data/hoan/amromics/genome-graph/scaffold_output/quastResults_Ecoli50random_Ecolitest_GCF_002860105_assemBiGraph2_v01'"
      ]
     },
     "execution_count": 139,
     "metadata": {},
     "output_type": "execute_result"
    }
   ],
   "source": [
    "simversionRefQuast = '_'+ pangenome_data.split('/')[-2] +'_'+ sim_name + simversionQuast\n",
    "quast_output = '/data/hoan/amromics/genome-graph/scaffold_output/quastResults' + simversionRefQuast\n",
    "quast_output"
   ]
  },
  {
   "cell_type": "code",
   "execution_count": 140,
   "id": "24b358d7-6607-4228-87bb-b30b626ba330",
   "metadata": {},
   "outputs": [
    {
     "name": "stdout",
     "output_type": "stream",
     "text": [
      "/data/hoan/amromics/spades_quast/quast-5.2.0/quast.py /data/hoan/amromics/genome-graph/scaffold_output/pangraph_opt_Ecoli50random_Ecolitest_GCF_002860105_test_assemBiGraph2_v01.fasta /data/hoan/amromics/genome-graph/scaffold_output/pangraph_greedy_Ecoli50random_Ecolitest_GCF_002860105_test_assemBiGraph2_v01.fasta /data/hoan/amromics/genome-graph/scaffold_output/multicsar/multicsar_Ecoli50random_Ecolitest_GCF_002860105_plasmid_v01/multi-csar.nuc.out.fna /data/hoan/amromics/simulation/art_output/spades_output_Ecolitest_GCF_002860105_v01/contigs.fasta -l Pangraph_OPT, Pangraph_Greedy, Multi-CSAR, SPADES -r /data/hoan/amromics/data/ncbi/Ecolitest/GCF_002860105.1_ASM286010v1_genomic.fna -o /data/hoan/amromics/genome-graph/scaffold_output/quastResults_Ecoli50random_Ecolitest_GCF_002860105_assemBiGraph2_v01 --silent --extensive-mis-size 5000 --local-mis-size 3000\n",
      "\n",
      "\n",
      "System information:\n",
      "  OS: Linux-3.10.0-1160.15.2.el7.x86_64-x86_64-with-redhat-7.9-Nitrogen (linux_64)\n",
      "  Python version: 2.7.5\n",
      "  CPUs number: 72\n",
      "\n",
      "Started: 2023-02-01 06:44:05\n",
      "\n",
      "Logging to /data/hoan/amromics/genome-graph/scaffold_output/quastResults_Ecoli50random_Ecolitest_GCF_002860105_assemBiGraph2_v01/quast.log\n",
      "NOTICE: Output directory already exists and looks like a QUAST output dir. Existing results can be reused (e.g. previously generated alignments)!\n",
      "NOTICE: Maximum number of threads is set to 18 (use --threads option to set it manually)\n",
      "\n",
      "CWD: /data/hoan/amromics/genome-graph\n",
      "Main parameters: \n",
      "  MODE: default, threads: 18, min contig length: 500, min alignment length: 65, min alignment IDY: 95.0, \\\n",
      "  ambiguity: one, min local misassembly length: 3000, min extensive misassembly length: 5000\n",
      "\n",
      "Reference:\n",
      "  /data/hoan/amromics/data/ncbi/Ecolitest/GCF_002860105.1_ASM286010v1_genomic.fna ==> GCF_002860105.1_ASM286010v1_genomic\n",
      "\n",
      "Contigs:\n",
      "  Pre-processing...\n",
      "  1  /data/hoan/amromics/genome-graph/scaffold_output/pangraph_opt_Ecoli50random_Ecolitest_GCF_002860105_test_assemBiGraph2_v01.fasta ==> Pangraph_OPT\n",
      "  2  /data/hoan/amromics/genome-graph/scaffold_output/pangraph_greedy_Ecoli50random_Ecolitest_GCF_002860105_test_assemBiGraph2_v01.fasta ==> Pangraph_Greedy\n",
      "  3  /data/hoan/amromics/genome-graph/scaffold_output/multicsar/multicsar_Ecoli50random_Ecolitest_GCF_002860105_plasmid_v01/multi-csar.nuc.out.fna ==> Multi-CSAR\n",
      "  4  /data/hoan/amromics/simulation/art_output/spades_output_Ecolitest_GCF_002860105_v01/contigs.fasta ==> SPADES\n",
      "\n",
      "2023-02-01 06:44:05\n",
      "Running Basic statistics processor...\n"
     ]
    },
    {
     "name": "stderr",
     "output_type": "stream",
     "text": [
      "Unable to parse the pattern\n",
      "Unable to parse the pattern\n",
      "Unable to parse the pattern\n"
     ]
    },
    {
     "name": "stdout",
     "output_type": "stream",
     "text": [
      "Done.\n",
      "\n",
      "2023-02-01 06:44:10\n",
      "Running Contig analyzer...\n",
      "Done.\n",
      "\n",
      "2023-02-01 06:44:13\n",
      "Running NA-NGA calculation...\n",
      "Done.\n",
      "\n",
      "2023-02-01 06:44:14\n",
      "Running Genome analyzer...\n",
      "  NOTICE: No file with genomic features were provided. Use the --features option if you want to specify it.\n",
      "\n",
      "  NOTICE: No file with operons were provided. Use the -O option if you want to specify it.\n",
      "Done.\n",
      "\n",
      "NOTICE: Genes are not predicted by default. Use --gene-finding or --glimmer option to enable it.\n",
      "\n",
      "2023-02-01 06:44:16\n",
      "Creating large visual summaries...\n",
      "This may take a while: press Ctrl-C to skip this step..\n",
      "  1 of 2: Creating PDF with all tables and plots...\n",
      "  2 of 2: Creating Icarus viewers...\n",
      "Done\n",
      "\n",
      "2023-02-01 06:44:19\n",
      "RESULTS:\n",
      "  Text versions of total report are saved to /data/hoan/amromics/genome-graph/scaffold_output/quastResults_Ecoli50random_Ecolitest_GCF_002860105_assemBiGraph2_v01/report.txt, report.tsv, and report.tex\n",
      "  Text versions of transposed total report are saved to /data/hoan/amromics/genome-graph/scaffold_output/quastResults_Ecoli50random_Ecolitest_GCF_002860105_assemBiGraph2_v01/transposed_report.txt, transposed_report.tsv, and transposed_report.tex\n",
      "  PDF version (tables and plots) is saved to /data/hoan/amromics/genome-graph/scaffold_output/quastResults_Ecoli50random_Ecolitest_GCF_002860105_assemBiGraph2_v01/report.pdf\n",
      "  Icarus (contig browser) is saved to /data/hoan/amromics/genome-graph/scaffold_output/quastResults_Ecoli50random_Ecolitest_GCF_002860105_assemBiGraph2_v01/icarus.html\n",
      "  Log is saved to /data/hoan/amromics/genome-graph/scaffold_output/quastResults_Ecoli50random_Ecolitest_GCF_002860105_assemBiGraph2_v01/quast.log\n",
      "\n",
      "Finished: 2023-02-01 06:44:19\n",
      "Elapsed time: 0:00:14.471306\n",
      "NOTICEs: 5; WARNINGs: 0; non-fatal ERRORs: 0\n",
      "\n",
      "Thank you for using QUAST!\n"
     ]
    }
   ],
   "source": [
    "quast_bin = 'python /data/hoan/amromics/spades_quast/quast-5.2.0/quast.py '\n",
    "spades_output_fasta = spades_output+'/contigs.fasta'\n",
    "multicsar_output_fasta = multicsar_output +'/multi-csar.nuc.out.fna'\n",
    "ragout_output_fasta = ragout_output + '/mg1655_scaffolds.fasta'\n",
    "if 1:\n",
    "    if os.path.isfile(ragout_output_fasta):\n",
    "        os.system(quast_bin + pangraph_output_opt+' '+ pangraph_output_greedy+' '+ multicsar_output_fasta+' '+ragout_output_fasta+' '+spades_output_fasta+' '+\n",
    "        '-l \"Pangraph_OPT, Pangraph_Greedy, Multi-CSAR, Ragout, SPADES\" '+ '-r '+ref_data+' -o '+ quast_output+' --silent --extensive-mis-size 5000 --local-mis-size 3000')\n",
    "    else:\n",
    "        os.system(quast_bin + pangraph_output_opt+' '+ pangraph_output_greedy+' '+ multicsar_output_fasta+' '+spades_output_fasta+' '+\n",
    "        '-l \"Pangraph_OPT, Pangraph_Greedy, Multi-CSAR, SPADES\" '+ '-r '+ref_data+' -o '+ quast_output+' --silent --extensive-mis-size 5000 --local-mis-size 3000')"
   ]
  },
  {
   "cell_type": "code",
   "execution_count": 141,
   "id": "48ab6ebc-fa9f-4083-89c0-13c6fa7a527f",
   "metadata": {},
   "outputs": [],
   "source": [
    "# stop"
   ]
  },
  {
   "cell_type": "code",
   "execution_count": 142,
   "id": "9405e3ed-85d8-4ee7-a329-c2058637d043",
   "metadata": {},
   "outputs": [],
   "source": [
    "# pangraph.edge_df0[-20:]"
   ]
  },
  {
   "cell_type": "code",
   "execution_count": 143,
   "id": "ec7d6e6e-81bf-4a3d-8a9a-feec11764efd",
   "metadata": {},
   "outputs": [],
   "source": [
    "# # pangraph.H[\"weight\"][0:4]\n",
    "# iteration = 0\n",
    "# for u,v,a in pangraph.H.edges(data=True):\n",
    "#     print(a)\n",
    "#     iteration += 1\n",
    "#     if iteration > 10:\n",
    "#         break;"
   ]
  },
  {
   "cell_type": "code",
   "execution_count": 144,
   "id": "ee493830-bdb8-46a5-83ba-4ec408f1fd07",
   "metadata": {},
   "outputs": [],
   "source": [
    "# nx.write_gml(pangraph.assembly_graph, quast_output+'/assembly_graph.gml')"
   ]
  },
  {
   "cell_type": "code",
   "execution_count": 145,
   "id": "eb32a794-a0be-4756-9867-5ff8a178f4d4",
   "metadata": {},
   "outputs": [
    {
     "data": {
      "text/plain": [
       "3362"
      ]
     },
     "execution_count": 145,
     "metadata": {},
     "output_type": "execute_result"
    }
   ],
   "source": [
    "pangraph.assembly_graph.number_of_edges()"
   ]
  },
  {
   "cell_type": "code",
   "execution_count": 146,
   "id": "701f03d1-9ab2-4b2e-864a-272fdda10346",
   "metadata": {},
   "outputs": [
    {
     "data": {
      "text/plain": [
       "1"
      ]
     },
     "execution_count": 146,
     "metadata": {},
     "output_type": "execute_result"
    }
   ],
   "source": [
    "len(list(nx.weakly_connected_components(pangraph.assembly_graph)))"
   ]
  },
  {
   "cell_type": "code",
   "execution_count": 147,
   "id": "318736c1-6cf1-4d1f-becb-46d56a248336",
   "metadata": {},
   "outputs": [],
   "source": [
    "# pangraph.weighted_CG.nodes()"
   ]
  },
  {
   "cell_type": "code",
   "execution_count": 148,
   "id": "7c8f48ee-1162-4652-a4fb-fba44b9ddaaf",
   "metadata": {},
   "outputs": [
    {
     "data": {
      "text/plain": [
       "245430"
      ]
     },
     "execution_count": 148,
     "metadata": {},
     "output_type": "execute_result"
    }
   ],
   "source": [
    "len(list(nx.weakly_connected_components(pangraph.H)))"
   ]
  },
  {
   "cell_type": "code",
   "execution_count": 149,
   "id": "cad64bbb-999e-4fa4-a421-73c20274d6bd",
   "metadata": {},
   "outputs": [
    {
     "data": {
      "text/plain": [
       "(250067, 4936)"
      ]
     },
     "execution_count": 149,
     "metadata": {},
     "output_type": "execute_result"
    }
   ],
   "source": [
    "pangraph.H.number_of_nodes(), pangraph.H.number_of_edges()"
   ]
  },
  {
   "cell_type": "code",
   "execution_count": 150,
   "id": "0fe38f01-e457-42dc-b477-cba37bd35849",
   "metadata": {},
   "outputs": [
    {
     "data": {
      "text/plain": [
       "'/data/hoan/amromics/data/ncbi/Ecolitest/GCF_002860105.1_ASM286010v1_genomic.fna'"
      ]
     },
     "execution_count": 150,
     "metadata": {},
     "output_type": "execute_result"
    }
   ],
   "source": [
    "ref_data"
   ]
  },
  {
   "cell_type": "markdown",
   "id": "92fe66ed-e316-41ae-a09c-ae1351304c69",
   "metadata": {},
   "source": [
    "## Analysis"
   ]
  },
  {
   "cell_type": "code",
   "execution_count": 151,
   "id": "d1b43cf8-8b32-41b6-b371-ee7454278384",
   "metadata": {},
   "outputs": [],
   "source": [
    "# minimap2 /data/hoan/amromics/data/ncbi/Ecolitest/GCF_002860105.1_ASM286010v1_genomic.fna /data/hoan/amromics/genome-graph/scaffold_output/pangraph_opt_Ecoli100random_Ecoli_plasmid_v01.fasta > contigs100vsref_mapping_v01a.paf\n",
    "cmd_minimap = '~/miniconda3/envs/amromics/bin/minimap2 '+ref_data +' '+ spades_output +'/contigs.fasta' +' > scaffold_output/minimap_out/mapping.paf' "
   ]
  },
  {
   "cell_type": "code",
   "execution_count": 152,
   "id": "712adc28-a267-489d-a85a-9dc6c5cf8f41",
   "metadata": {},
   "outputs": [
    {
     "name": "stderr",
     "output_type": "stream",
     "text": [
      "[M::mm_idx_gen::0.201*1.01] collected minimizers\n",
      "[M::mm_idx_gen::0.280*1.55] sorted minimizers\n",
      "[M::main::0.280*1.55] loaded/built the index for 6 target sequence(s)\n",
      "[M::mm_mapopt_update::0.315*1.49] mid_occ = 16\n",
      "[M::mm_idx_stat] kmer size: 15; skip: 10; is_hpc: 0; #seq: 6\n",
      "[M::mm_idx_stat::0.337*1.46] distinct minimizers: 940802 (97.51% are singletons); average occurrences: 1.044; average spacing: 5.351; total length: 5256088\n",
      "[M::worker_pipeline::0.859*2.33] mapped 421 sequences\n",
      "[M::main] Version: 2.24-r1122\n",
      "[M::main] CMD: /home/vanhoan310/miniconda3/envs/amromics/bin/minimap2 /data/hoan/amromics/data/ncbi/Ecolitest/GCF_002860105.1_ASM286010v1_genomic.fna /data/hoan/amromics/simulation/art_output/spades_output_Ecolitest_GCF_002860105_v01/contigs.fasta\n",
      "[M::main] Real time: 0.881 sec; CPU: 2.018 sec; Peak RSS: 0.082 GB\n"
     ]
    }
   ],
   "source": [
    "os.system(cmd_minimap)\n",
    "df = pd.read_csv(\"scaffold_output/minimap_out/mapping.paf\", sep =\"\\t\", header=None)"
   ]
  },
  {
   "cell_type": "code",
   "execution_count": 153,
   "id": "d6b53cd1-219a-478a-9d41-422cd3cb3fc3",
   "metadata": {},
   "outputs": [
    {
     "data": {
      "text/plain": [
       "'NZ_CP019071.1'"
      ]
     },
     "execution_count": 153,
     "metadata": {},
     "output_type": "execute_result"
    }
   ],
   "source": [
    "df\n",
    "ref_id = df.iloc[0,5]\n",
    "ref_id"
   ]
  },
  {
   "cell_type": "code",
   "execution_count": 154,
   "id": "3e6e9924-5b7b-4c6c-aff8-14707e2aba01",
   "metadata": {},
   "outputs": [],
   "source": [
    "final_df = df.loc[df[5] == ref_id]\n",
    "final_df = final_df.sort_values(by=[7])"
   ]
  },
  {
   "cell_type": "code",
   "execution_count": 155,
   "id": "dfd239fd-3148-45da-be87-1365014dc54b",
   "metadata": {},
   "outputs": [],
   "source": [
    "target_id = 0\n",
    "gene_position = pd.read_csv(panta_output + '/gene_position.tsv', delimiter='\\t', header=None)\n",
    "gene_position.columns =['SampleID', 'ContigName', 'GeneSequence']\n",
    "target_contigs = [gene_position.iloc[i, 1] for i in range(len(gene_position.index)) if gene_position.iloc[i, 0]==target_id]"
   ]
  },
  {
   "cell_type": "code",
   "execution_count": 156,
   "id": "372759b9-1e39-4aab-9e8e-35b042deb362",
   "metadata": {},
   "outputs": [],
   "source": [
    "target_contigs_list = [final_df.iloc[i, 0] for i in range(len(final_df.index)) if final_df.iloc[i, 0] in target_contigs]\n",
    "target_contigs_sorted = [final_df.iloc[i, 0]+'---'+str(final_df.iloc[i, 7])+'>'+str(final_df.iloc[i, 8]) for i in range(len(final_df.index)) if final_df.iloc[i, 0] in target_contigs]"
   ]
  },
  {
   "cell_type": "code",
   "execution_count": 157,
   "id": "a40629a5-c6cb-40ae-9395-846a4871748e",
   "metadata": {},
   "outputs": [],
   "source": [
    "# gene_position[gene_position.ContigName=='NODE_90_length_903_cov_80.779481'].iloc[0,2].split(';')"
   ]
  },
  {
   "cell_type": "code",
   "execution_count": 158,
   "id": "eff76bda-76a6-4cc1-a9cb-2f9b409783e3",
   "metadata": {},
   "outputs": [],
   "source": [
    "# cluster_id = pangraph.gene2cluster_dict['0_5213@255@-1']"
   ]
  },
  {
   "cell_type": "code",
   "execution_count": 159,
   "id": "cd2f5366-805f-4523-8475-015ed5836b2e",
   "metadata": {},
   "outputs": [],
   "source": [
    "gene_info = pd.read_csv(panta_output + \"/gene_info.tsv\", delimiter='\\t', header=None)\n",
    "gene_info.columns =['GeneName', 'SampleID', 'clusterID']"
   ]
  },
  {
   "cell_type": "code",
   "execution_count": 160,
   "id": "d2bd2039-fe13-46d5-ac48-a8f5517bd48b",
   "metadata": {},
   "outputs": [],
   "source": [
    "# gene_info[gene_info.clusterID==cluster_id]"
   ]
  },
  {
   "cell_type": "code",
   "execution_count": 161,
   "id": "555b5448-d147-4790-8606-3c9e179aa3b6",
   "metadata": {},
   "outputs": [
    {
     "data": {
      "text/plain": [
       "['NODE_19_length_88449_cov_18.833710---4723262>4811707',\n",
       " 'NODE_96_length_1463_cov_133.146307---4815249>4816699',\n",
       " 'NODE_35_length_44062_cov_18.925307---4817112>4861169',\n",
       " 'NODE_53_length_15724_cov_20.028017---4861615>4877333']"
      ]
     },
     "execution_count": 161,
     "metadata": {},
     "output_type": "execute_result"
    }
   ],
   "source": [
    "target_contigs_sorted[-4:]"
   ]
  },
  {
   "cell_type": "code",
   "execution_count": 162,
   "id": "1919f425-77f0-4130-8ee2-dcd141164bdc",
   "metadata": {},
   "outputs": [],
   "source": [
    "# pangraph.adj_list0"
   ]
  },
  {
   "cell_type": "code",
   "execution_count": 163,
   "id": "8bfe6670-0315-4fd6-93b2-76813c973246",
   "metadata": {},
   "outputs": [],
   "source": [
    "# cmd_dnadiff = '~/miniconda3/envs/amromics/bin/dnadiff '+ref_data +' '+ spades_output +'/contigs.fasta -p dna_diff/'+sim_name\n",
    "# os.system(cmd_dnadiff)"
   ]
  },
  {
   "cell_type": "code",
   "execution_count": 164,
   "id": "94805bbf-be0d-4253-91e1-0c2bce9d94c1",
   "metadata": {},
   "outputs": [],
   "source": [
    "# Don't use SPADES, shovil keep files.\n",
    "# python readSimulator/readSimulator.py --outdir shredded_reads  --input ncbi-genomes-2023-01-07/GCF_000240185.1_ASM24018v2_genomic.fna --simulator art --simulator_path art_bin_MountRainier/art_illumina --iterations 100 --readlen 100 --depth 100  --opts '-ss HS20 -sam -p -m 400 -s 60'\n",
    "# investigate why we failed? #1/ connectivity in the assembly graph:\n",
    "# multiplicity of each node: now 1, change to more: use length and coverage\n",
    "# assembly graph: change to 500"
   ]
  },
  {
   "cell_type": "code",
   "execution_count": 165,
   "id": "73fd4dcb-4f49-4fae-97bb-36f79606b147",
   "metadata": {},
   "outputs": [],
   "source": [
    "from pangraph.utils import get_node_coverage, get_node_length, get_value, next_node_multi_1, next_node_length, get_value_num"
   ]
  },
  {
   "cell_type": "code",
   "execution_count": 166,
   "id": "8009b9c5-a780-4341-8f04-1d7d15669ea3",
   "metadata": {},
   "outputs": [],
   "source": [
    "get_node_coverage('NODE_45_length_30843_cov_18.832500')\n",
    "target_contigs_multi_1 = [item for item in target_contigs_list if get_node_coverage(item) <= 25.0]"
   ]
  },
  {
   "cell_type": "code",
   "execution_count": 167,
   "id": "9b8f97b5-4d2a-4434-8382-408333b57cc2",
   "metadata": {},
   "outputs": [],
   "source": [
    "# target_contigs_multi_1"
   ]
  },
  {
   "cell_type": "code",
   "execution_count": 168,
   "id": "ac259408-6ad5-4400-acb5-3709bcf2c1a9",
   "metadata": {},
   "outputs": [
    {
     "name": "stdout",
     "output_type": "stream",
     "text": [
      "---------------------- i = 0 ---------------------------------------------\n",
      "NODE_46_length_30478_cov_18.766164---7>30478 :::::::: NODE_101_length_1318_cov_59.905780---30430>31738\n",
      "Is there a path in the assembly graph? False,<----xxxxxxxxxxxxxxxxxxxxxxxxxxxxxxxxxxxxx\n",
      "Is there a path in the pangenome graph? No path in Pangraph\n",
      "Real cost between the two contigs: No value\n",
      "******************************************************************************************************************************************************\n",
      "NODE_46_length_30478_cov_18.766164 NODE_42_length_35714_cov_18.958440\n",
      "Is there a path in the assembly graph? False,<----xxxxxxxxxxxxxxxxxxxxxxxxxxxxxxxxxxxxx\n",
      "Is there a path in the pangenome graph? Yes!, cost =  1.3844444444444446\n",
      "Real cost between the two contigs: 0.7033935703851651\n",
      "---------------------- i = 1 ---------------------------------------------\n",
      "NODE_101_length_1318_cov_59.905780---30430>31738 :::::::: NODE_42_length_35714_cov_18.958440---31691>67397\n",
      "Is there a path in the assembly graph? True, number of nucleotides:  -1\n",
      "Is there a path in the pangenome graph? No path in Pangraph\n",
      "Real cost between the two contigs: 1.2750000000000001\n",
      "---------------------- i = 2 ---------------------------------------------\n",
      "NODE_42_length_35714_cov_18.958440---31691>67397 :::::::: NODE_101_length_1318_cov_59.905780---67354>68662\n",
      "Is there a path in the assembly graph? True, number of nucleotides:  -1\n",
      "Is there a path in the pangenome graph? No path in Pangraph\n",
      "Real cost between the two contigs: 1.2750000000000001\n",
      "******************************************************************************************************************************************************\n",
      "NODE_42_length_35714_cov_18.958440 NODE_32_length_49096_cov_18.914826\n",
      "Is there a path in the assembly graph? True, number of nucleotides:  1317\n",
      "Is there a path in the pangenome graph? Yes!, cost =  31.05\n",
      "Real cost between the two contigs: 12.376939129818595\n",
      "---------------------- i = 3 ---------------------------------------------\n",
      "NODE_101_length_1318_cov_59.905780---67354>68662 :::::::: NODE_32_length_49096_cov_18.914826---68615>117705\n",
      "Is there a path in the assembly graph? True, number of nucleotides:  -1\n",
      "Is there a path in the pangenome graph? No path in Pangraph\n",
      "Real cost between the two contigs: 1.2750000000000001\n",
      "---------------------- i = 4 ---------------------------------------------\n",
      "NODE_32_length_49096_cov_18.914826---68615>117705 :::::::: NODE_98_length_1442_cov_19.488104---118966>120397\n",
      "Is there a path in the assembly graph? True, number of nucleotides:  803\n",
      "Is there a path in the pangenome graph? Yes!, cost =  14.05\n",
      "Real cost between the two contigs: 9.407569444444444\n",
      "******************************************************************************************************************************************************\n",
      "NODE_32_length_49096_cov_18.914826 NODE_39_length_40147_cov_18.664796\n",
      "Is there a path in the assembly graph? True, number of nucleotides:  117700\n",
      "Is there a path in the pangenome graph? Yes!, cost =  1.185030864197531\n",
      "Real cost between the two contigs: No value\n",
      "---------------------- i = 5 ---------------------------------------------\n",
      "NODE_98_length_1442_cov_19.488104---118966>120397 :::::::: NODE_95_length_1592_cov_58.378660---121316>122896\n",
      "Is there a path in the assembly graph? True, number of nucleotides:  607\n",
      "Is there a path in the pangenome graph? No path in Pangraph\n",
      "Real cost between the two contigs: 0.40800000000000003\n",
      "---------------------- i = 6 ---------------------------------------------\n",
      "NODE_95_length_1592_cov_58.378660---121316>122896 :::::::: NODE_39_length_40147_cov_18.664796---124077>164215\n",
      "Is there a path in the assembly graph? True, number of nucleotides:  50646\n",
      "Is there a path in the pangenome graph? No path in Pangraph\n",
      "Real cost between the two contigs: No value\n",
      "---------------------- i = 7 ---------------------------------------------\n",
      "NODE_39_length_40147_cov_18.664796---124077>164215 :::::::: NODE_97_length_1443_cov_56.968300---164167>165605\n",
      "Is there a path in the assembly graph? True, number of nucleotides:  6255\n",
      "Is there a path in the pangenome graph? Yes!, cost =  1.1695987654320987\n",
      "Real cost between the two contigs: 1.2311171151730629\n",
      "******************************************************************************************************************************************************\n",
      "NODE_39_length_40147_cov_18.664796 NODE_30_length_53138_cov_18.590415\n",
      "Is there a path in the assembly graph? True, number of nucleotides:  399770\n",
      "Is there a path in the pangenome graph? Yes!, cost =  1.219795918367347\n",
      "Real cost between the two contigs: No value\n",
      "---------------------- i = 8 ---------------------------------------------\n",
      "NODE_97_length_1443_cov_56.968300---164167>165605 :::::::: NODE_30_length_53138_cov_18.590415---165558>218680\n",
      "Is there a path in the assembly graph? True, number of nucleotides:  424508\n",
      "Is there a path in the pangenome graph? Yes!, cost =  11.3\n",
      "Real cost between the two contigs: No value\n",
      "---------------------- i = 9 ---------------------------------------------\n",
      "NODE_30_length_53138_cov_18.590415---165558>218680 :::::::: NODE_41_length_39638_cov_19.015209---219812>259446\n",
      "Is there a path in the assembly graph? True, number of nucleotides:  473\n",
      "Is there a path in the pangenome graph? Yes!, cost =  20.55\n",
      "Real cost between the two contigs: 9.023238231056311\n",
      "---------------------- i = 10 ---------------------------------------------\n",
      "NODE_41_length_39638_cov_19.015209---219812>259446 :::::::: NODE_106_length_1120_cov_19.409390---260952>262061\n",
      "Is there a path in the assembly graph? True, number of nucleotides:  99685\n",
      "Is there a path in the pangenome graph? Yes!, cost =  9.161111111111111\n",
      "Real cost between the two contigs: No value\n",
      "******************************************************************************************************************************************************\n",
      "NODE_41_length_39638_cov_19.015209 NODE_10_length_147945_cov_18.945473\n",
      "Is there a path in the assembly graph? True, number of nucleotides:  7107\n",
      "Is there a path in the pangenome graph? Yes!, cost =  4.938888888888889\n",
      "Real cost between the two contigs: 5.100944576325901\n",
      "---------------------- i = 11 ---------------------------------------------\n",
      "NODE_106_length_1120_cov_19.409390---260952>262061 :::::::: NODE_95_length_1592_cov_58.378660---262940>264520\n",
      "Is there a path in the assembly graph? True, number of nucleotides:  220724\n",
      "Is there a path in the pangenome graph? No path in Pangraph\n",
      "Real cost between the two contigs: No value\n",
      "---------------------- i = 12 ---------------------------------------------\n",
      "NODE_95_length_1592_cov_58.378660---262940>264520 :::::::: NODE_10_length_147945_cov_18.945473---265479>413412\n",
      "Is there a path in the assembly graph? True, number of nucleotides:  1113\n",
      "Is there a path in the pangenome graph? No path in Pangraph\n",
      "Real cost between the two contigs: 0.6375000000000001\n",
      "---------------------- i = 13 ---------------------------------------------\n",
      "NODE_10_length_147945_cov_18.945473---265479>413412 :::::::: NODE_38_length_41324_cov_18.707698---413882>455196\n",
      "Is there a path in the assembly graph? True, number of nucleotides:  568\n",
      "Is there a path in the pangenome graph? Yes!, cost =  17.55\n",
      "Real cost between the two contigs: 7.984895833333333\n",
      "---------------------- i = 14 ---------------------------------------------\n",
      "NODE_38_length_41324_cov_18.707698---413882>455196 :::::::: NODE_61_length_9714_cov_19.849570---460378>470090\n",
      "Is there a path in the assembly graph? True, number of nucleotides:  5093\n",
      "Is there a path in the pangenome graph? Yes!, cost =  15.161111111111111\n",
      "Real cost between the two contigs: 8.474459817491812\n",
      "---------------------- i = 15 ---------------------------------------------\n",
      "NODE_61_length_9714_cov_19.849570---460378>470090 :::::::: NODE_115_length_865_cov_55.879012---470046>470901\n",
      "Is there a path in the assembly graph? True, number of nucleotides:  13112\n",
      "Is there a path in the pangenome graph? No path in Pangraph\n",
      "Real cost between the two contigs: No value\n",
      "******************************************************************************************************************************************************\n",
      "NODE_61_length_9714_cov_19.849570 NODE_34_length_44734_cov_18.805255\n",
      "Is there a path in the assembly graph? True, number of nucleotides:  864\n",
      "Is there a path in the pangenome graph? Yes!, cost =  15.716666666666667\n",
      "Real cost between the two contigs: 8.557074790564375\n",
      "---------------------- i = 16 ---------------------------------------------\n",
      "NODE_115_length_865_cov_55.879012---470046>470901 :::::::: NODE_34_length_44734_cov_18.805255---471041>515773\n",
      "Is there a path in the assembly graph? True, number of nucleotides:  34702\n",
      "Is there a path in the pangenome graph? No path in Pangraph\n",
      "Real cost between the two contigs: No value\n",
      "---------------------- i = 17 ---------------------------------------------\n",
      "NODE_34_length_44734_cov_18.805255---471041>515773 :::::::: NODE_87_length_2272_cov_97.826793---516519>518780\n",
      "Is there a path in the assembly graph? False,<----xxxxxxxxxxxxxxxxxxxxxxxxxxxxxxxxxxxxx\n",
      "Is there a path in the pangenome graph? No path in Pangraph\n",
      "Real cost between the two contigs: No value\n",
      "******************************************************************************************************************************************************\n",
      "NODE_34_length_44734_cov_18.805255 NODE_21_length_82194_cov_18.745699\n",
      "Is there a path in the assembly graph? False,<----xxxxxxxxxxxxxxxxxxxxxxxxxxxxxxxxxxxxx\n",
      "Is there a path in the pangenome graph? Yes!, cost =  0.0\n",
      "Real cost between the two contigs: 13.034259259259258\n",
      "---------------------- i = 18 ---------------------------------------------\n",
      "NODE_87_length_2272_cov_97.826793---516519>518780 :::::::: NODE_21_length_82194_cov_18.745699---519254>601441\n",
      "Is there a path in the assembly graph? True, number of nucleotides:  18960\n",
      "Is there a path in the pangenome graph? No path in Pangraph\n",
      "Real cost between the two contigs: No value\n",
      "---------------------- i = 19 ---------------------------------------------\n",
      "NODE_21_length_82194_cov_18.745699---519254>601441 :::::::: NODE_15_length_99850_cov_19.213738---602117>701950\n",
      "Is there a path in the assembly graph? True, number of nucleotides:  259\n",
      "Is there a path in the pangenome graph? Yes!, cost =  0.0\n",
      "Real cost between the two contigs: 20.308611111111116\n",
      "---------------------- i = 20 ---------------------------------------------\n",
      "NODE_15_length_99850_cov_19.213738---602117>701950 :::::::: NODE_115_length_865_cov_55.879012---702090>702945\n",
      "Is there a path in the assembly graph? True, number of nucleotides:  -1\n",
      "Is there a path in the pangenome graph? No path in Pangraph\n",
      "Real cost between the two contigs: 1.2750000000000001\n",
      "******************************************************************************************************************************************************\n",
      "NODE_15_length_99850_cov_19.213738 NODE_16_length_93726_cov_19.165612\n",
      "Is there a path in the assembly graph? True, number of nucleotides:  864\n",
      "Is there a path in the pangenome graph? Yes!, cost =  0.0\n",
      "Real cost between the two contigs: 12.448296296296299\n",
      "---------------------- i = 21 ---------------------------------------------\n",
      "NODE_115_length_865_cov_55.879012---702090>702945 :::::::: NODE_16_length_93726_cov_19.165612---702901>796620\n",
      "Is there a path in the assembly graph? True, number of nucleotides:  -1\n",
      "Is there a path in the pangenome graph? No path in Pangraph\n",
      "Real cost between the two contigs: 1.2750000000000001\n",
      "---------------------- i = 22 ---------------------------------------------\n",
      "NODE_16_length_93726_cov_19.165612---702901>796620 :::::::: NODE_9_length_177154_cov_19.052705---797488>974632\n",
      "Is there a path in the assembly graph? True, number of nucleotides:  267\n",
      "Is there a path in the pangenome graph? No path in Pangraph\n",
      "Real cost between the two contigs: 0.6375000000000001\n",
      "---------------------- i = 23 ---------------------------------------------\n",
      "NODE_9_length_177154_cov_19.052705---797488>974632 :::::::: NODE_84_length_2538_cov_74.520741---974586>977110\n",
      "Is there a path in the assembly graph? True, number of nucleotides:  31644\n",
      "Is there a path in the pangenome graph? No path in Pangraph\n",
      "Real cost between the two contigs: No value\n",
      "******************************************************************************************************************************************************\n",
      "NODE_9_length_177154_cov_19.052705 NODE_7_length_186122_cov_18.918416\n",
      "Is there a path in the assembly graph? True, number of nucleotides:  8089\n",
      "Is there a path in the pangenome graph? No path in Pangraph\n",
      "Real cost between the two contigs: No value\n",
      "---------------------- i = 24 ---------------------------------------------\n",
      "NODE_84_length_2538_cov_74.520741---974586>977110 :::::::: NODE_78_length_4538_cov_18.984832---977107>981642\n",
      "Is there a path in the assembly graph? True, number of nucleotides:  418475\n",
      "Is there a path in the pangenome graph? No path in Pangraph\n",
      "Real cost between the two contigs: No value\n",
      "---------------------- i = 25 ---------------------------------------------\n",
      "NODE_78_length_4538_cov_18.984832---977107>981642 :::::::: NODE_7_length_186122_cov_18.918416---982887>1168994\n",
      "Is there a path in the assembly graph? True, number of nucleotides:  1013\n",
      "Is there a path in the pangenome graph? Yes!, cost =  0.0\n",
      "Real cost between the two contigs: 11.68888888888889\n",
      "---------------------- i = 26 ---------------------------------------------\n",
      "NODE_7_length_186122_cov_18.918416---982887>1168994 :::::::: NODE_26_length_64384_cov_18.832439---1169668>1234042\n",
      "Is there a path in the assembly graph? True, number of nucleotides:  -1\n",
      "Is there a path in the pangenome graph? Yes!, cost =  19.05\n",
      "Real cost between the two contigs: 5.661075680272109\n",
      "---------------------- i = 27 ---------------------------------------------\n",
      "NODE_26_length_64384_cov_18.832439---1169668>1234042 :::::::: NODE_96_length_1463_cov_133.146307---1234417>1235867\n",
      "Is there a path in the assembly graph? True, number of nucleotides:  110\n",
      "Is there a path in the pangenome graph? Yes!, cost =  49.05\n",
      "Real cost between the two contigs: 25.73576388888889\n",
      "******************************************************************************************************************************************************\n",
      "NODE_26_length_64384_cov_18.832439 NODE_5_length_197772_cov_18.763465\n",
      "Is there a path in the assembly graph? True, number of nucleotides:  5083\n",
      "Is there a path in the pangenome graph? Yes!, cost =  21.8\n",
      "Real cost between the two contigs: 10.605974259495465\n",
      "---------------------- i = 28 ---------------------------------------------\n",
      "NODE_96_length_1463_cov_133.146307---1234417>1235867 :::::::: NODE_5_length_197772_cov_18.763465---1239353>1437122\n",
      "Is there a path in the assembly graph? True, number of nucleotides:  3509\n",
      "Is there a path in the pangenome graph? Yes!, cost =  38.05\n",
      "Real cost between the two contigs: 21.820833333333333\n",
      "---------------------- i = 29 ---------------------------------------------\n",
      "NODE_5_length_197772_cov_18.763465---1239353>1437122 :::::::: NODE_74_length_5422_cov_18.940376---1437460>1442868\n",
      "Is there a path in the assembly graph? True, number of nucleotides:  108\n",
      "Is there a path in the pangenome graph? Yes!, cost =  35.05\n",
      "Real cost between the two contigs: 10.930014172335602\n",
      "---------------------- i = 30 ---------------------------------------------\n",
      "NODE_74_length_5422_cov_18.940376---1437460>1442868 :::::::: NODE_1_length_393563_cov_18.802782---1443684>1837237\n",
      "Is there a path in the assembly graph? True, number of nucleotides:  908\n",
      "Is there a path in the pangenome graph? Yes!, cost =  40.05\n",
      "Real cost between the two contigs: 13.688036068594105\n",
      "---------------------- i = 31 ---------------------------------------------\n",
      "NODE_1_length_393563_cov_18.802782---1443684>1837237 :::::::: NODE_47_length_29840_cov_19.055229---1837904>1867731\n",
      "Is there a path in the assembly graph? True, number of nucleotides:  242\n",
      "Is there a path in the pangenome graph? No path in Pangraph\n",
      "Real cost between the two contigs: 0.40800000000000003\n",
      "---------------------- i = 32 ---------------------------------------------\n",
      "NODE_47_length_29840_cov_19.055229---1837904>1867731 :::::::: NODE_110_length_1004_cov_20.231823---1869496>1870498\n",
      "Is there a path in the assembly graph? True, number of nucleotides:  213794\n",
      "Is there a path in the pangenome graph? Yes!, cost =  8.65\n",
      "Real cost between the two contigs: No value\n",
      "******************************************************************************************************************************************************\n",
      "NODE_47_length_29840_cov_19.055229 NODE_23_length_78457_cov_18.966455\n",
      "Is there a path in the assembly graph? True, number of nucleotides:  179841\n",
      "Is there a path in the pangenome graph? Yes!, cost =  5.437755102040816\n",
      "Real cost between the two contigs: No value\n",
      "---------------------- i = 33 ---------------------------------------------\n",
      "NODE_110_length_1004_cov_20.231823---1869496>1870498 :::::::: NODE_91_length_1921_cov_39.800107---1871141>1873058\n",
      "Is there a path in the assembly graph? True, number of nucleotides:  112261\n",
      "Is there a path in the pangenome graph? No path in Pangraph\n",
      "Real cost between the two contigs: No value\n",
      "---------------------- i = 34 ---------------------------------------------\n",
      "NODE_91_length_1921_cov_39.800107---1871141>1873058 :::::::: NODE_84_length_2538_cov_74.520741---1873231>1875755\n",
      "Is there a path in the assembly graph? True, number of nucleotides:  115156\n",
      "Is there a path in the pangenome graph? No path in Pangraph\n",
      "Real cost between the two contigs: No value\n",
      "---------------------- i = 35 ---------------------------------------------\n",
      "NODE_84_length_2538_cov_74.520741---1873231>1875755 :::::::: NODE_23_length_78457_cov_18.966455---1875752>1954203\n",
      "Is there a path in the assembly graph? True, number of nucleotides:  418475\n",
      "Is there a path in the pangenome graph? No path in Pangraph\n",
      "Real cost between the two contigs: No value\n",
      "---------------------- i = 36 ---------------------------------------------\n",
      "NODE_23_length_78457_cov_18.966455---1875752>1954203 :::::::: NODE_3_length_286153_cov_18.708740---1955236>2241353\n",
      "Is there a path in the assembly graph? True, number of nucleotides:  735\n",
      "Is there a path in the pangenome graph? Yes!, cost =  43.05\n",
      "Real cost between the two contigs: 17.815538194444443\n",
      "---------------------- i = 37 ---------------------------------------------\n",
      "NODE_3_length_286153_cov_18.708740---1955236>2241353 :::::::: NODE_8_length_178919_cov_18.733216---2242037>2420947\n",
      "Is there a path in the assembly graph? True, number of nucleotides:  334\n",
      "Is there a path in the pangenome graph? Yes!, cost =  45.05\n",
      "Real cost between the two contigs: 14.564489795918368\n",
      "---------------------- i = 38 ---------------------------------------------\n",
      "NODE_8_length_178919_cov_18.733216---2242037>2420947 :::::::: NODE_36_length_42025_cov_19.439385---2420957>2462973\n",
      "Is there a path in the assembly graph? True, number of nucleotides:  -1\n",
      "Is there a path in the pangenome graph? Yes!, cost =  44.05\n",
      "Real cost between the two contigs: 6.680376984126985\n",
      "---------------------- i = 39 ---------------------------------------------\n",
      "NODE_36_length_42025_cov_19.439385---2420957>2462973 :::::::: NODE_104_length_1129_cov_38.822160---2464259>2465370\n",
      "Is there a path in the assembly graph? True, number of nucleotides:  1348\n",
      "Is there a path in the pangenome graph? No path in Pangraph\n",
      "Real cost between the two contigs: 0.40800000000000003\n",
      "******************************************************************************************************************************************************\n",
      "NODE_36_length_42025_cov_19.439385 NODE_27_length_62193_cov_18.781068\n",
      "Is there a path in the assembly graph? True, number of nucleotides:  3219\n",
      "Is there a path in the pangenome graph? Yes!, cost =  24.05\n",
      "Real cost between the two contigs: 8.451875000000001\n",
      "---------------------- i = 40 ---------------------------------------------\n",
      "NODE_104_length_1129_cov_38.822160---2464259>2465370 :::::::: NODE_27_length_62193_cov_18.781068---2466334>2528522\n",
      "Is there a path in the assembly graph? True, number of nucleotides:  741\n",
      "Is there a path in the pangenome graph? No path in Pangraph\n",
      "Real cost between the two contigs: 0.6375000000000001\n",
      "---------------------- i = 41 ---------------------------------------------\n",
      "NODE_27_length_62193_cov_18.781068---2466334>2528522 :::::::: NODE_102_length_1248_cov_57.448449---2528487>2529719\n",
      "Is there a path in the assembly graph? True, number of nucleotides:  -1\n",
      "Is there a path in the pangenome graph? No path in Pangraph\n",
      "Real cost between the two contigs: 0.09289698738711995\n",
      "******************************************************************************************************************************************************\n",
      "NODE_27_length_62193_cov_18.781068 NODE_14_length_106302_cov_18.687154\n",
      "Is there a path in the assembly graph? True, number of nucleotides:  1247\n",
      "Is there a path in the pangenome graph? Yes!, cost =  0.0\n",
      "Real cost between the two contigs: 10.1295987654321\n",
      "---------------------- i = 42 ---------------------------------------------\n",
      "NODE_102_length_1248_cov_57.448449---2528487>2529719 :::::::: NODE_14_length_106302_cov_18.687154---2529672>2635960\n",
      "Is there a path in the assembly graph? True, number of nucleotides:  -1\n",
      "Is there a path in the pangenome graph? No path in Pangraph\n",
      "Real cost between the two contigs: 0.08856243834249876\n",
      "---------------------- i = 43 ---------------------------------------------\n",
      "NODE_14_length_106302_cov_18.687154---2529672>2635960 :::::::: NODE_11_length_137715_cov_19.136757---2636636>2774341\n",
      "Is there a path in the assembly graph? True, number of nucleotides:  242\n",
      "Is there a path in the pangenome graph? Yes!, cost =  41.05\n",
      "Real cost between the two contigs: 13.697899305555556\n",
      "---------------------- i = 44 ---------------------------------------------\n",
      "NODE_11_length_137715_cov_19.136757---2636636>2774341 :::::::: NODE_87_length_2272_cov_97.826793---2774298>2776559\n",
      "Is there a path in the assembly graph? True, number of nucleotides:  -1\n",
      "Is there a path in the pangenome graph? Yes!, cost =  34.05\n",
      "Real cost between the two contigs: 17.025\n",
      "******************************************************************************************************************************************************\n",
      "NODE_11_length_137715_cov_19.136757 NODE_22_length_79377_cov_19.056895\n",
      "Is there a path in the assembly graph? True, number of nucleotides:  21232\n",
      "Is there a path in the pangenome graph? No path in Pangraph\n",
      "Real cost between the two contigs: No value\n",
      "---------------------- i = 45 ---------------------------------------------\n",
      "NODE_87_length_2272_cov_97.826793---2774298>2776559 :::::::: NODE_22_length_79377_cov_19.056895---2777026>2856398\n",
      "Is there a path in the assembly graph? True, number of nucleotides:  18960\n",
      "Is there a path in the pangenome graph? No path in Pangraph\n",
      "Real cost between the two contigs: No value\n",
      "---------------------- i = 46 ---------------------------------------------\n",
      "NODE_22_length_79377_cov_19.056895---2777026>2856398 :::::::: NODE_31_length_49314_cov_19.055462---2857074>2906366\n",
      "Is there a path in the assembly graph? True, number of nucleotides:  242\n",
      "Is there a path in the pangenome graph? Yes!, cost =  45.05\n",
      "Real cost between the two contigs: 14.583801374716554\n",
      "---------------------- i = 47 ---------------------------------------------\n",
      "NODE_31_length_49314_cov_19.055462---2857074>2906366 :::::::: NODE_102_length_1248_cov_57.448449---2906340>2907572\n",
      "Is there a path in the assembly graph? True, number of nucleotides:  -1\n",
      "Is there a path in the pangenome graph? Yes!, cost =  20.05\n",
      "Real cost between the two contigs: 5.852256944444445\n",
      "******************************************************************************************************************************************************\n",
      "NODE_31_length_49314_cov_19.055462 NODE_2_length_312103_cov_18.841489\n",
      "Is there a path in the assembly graph? True, number of nucleotides:  1247\n",
      "Is there a path in the pangenome graph? Yes!, cost =  11.494444444444445\n",
      "Real cost between the two contigs: 5.901681006314563\n",
      "---------------------- i = 48 ---------------------------------------------\n",
      "NODE_102_length_1248_cov_57.448449---2906340>2907572 :::::::: NODE_2_length_312103_cov_18.841489---2907525>3219628\n",
      "Is there a path in the assembly graph? True, number of nucleotides:  -1\n",
      "Is there a path in the pangenome graph? Yes!, cost =  19.05\n",
      "Real cost between the two contigs: 6.223177083333334\n",
      "---------------------- i = 49 ---------------------------------------------\n",
      "NODE_2_length_312103_cov_18.841489---2907525>3219628 :::::::: NODE_37_length_42009_cov_18.877056---3220416>3262417\n",
      "Is there a path in the assembly graph? True, number of nucleotides:  -1\n",
      "Is there a path in the pangenome graph? Yes!, cost =  50.05\n",
      "Real cost between the two contigs: 7.956547619047619\n",
      "---------------------- i = 50 ---------------------------------------------\n",
      "NODE_37_length_42009_cov_18.877056---3220416>3262417 :::::::: NODE_80_length_3401_cov_29.315900---3264547>3267937\n",
      "Is there a path in the assembly graph? True, number of nucleotides:  256\n",
      "Is there a path in the pangenome graph? Yes!, cost =  17.3\n",
      "Real cost between the two contigs: 9.473230347694633\n",
      "---------------------- i = 51 ---------------------------------------------\n",
      "NODE_80_length_3401_cov_29.315900---3264547>3267937 :::::::: NODE_95_length_1592_cov_58.378660---3268788>3270368\n",
      "Is there a path in the assembly graph? True, number of nucleotides:  422\n",
      "Is there a path in the pangenome graph? No path in Pangraph\n",
      "Real cost between the two contigs: 0.40800000000000003\n",
      "******************************************************************************************************************************************************\n",
      "NODE_80_length_3401_cov_29.315900 NODE_17_length_91780_cov_18.769114\n",
      "Is there a path in the assembly graph? True, number of nucleotides:  3128\n",
      "Is there a path in the pangenome graph? Yes!, cost =  14.3\n",
      "Real cost between the two contigs: 14.982453703703706\n",
      "---------------------- i = 52 ---------------------------------------------\n",
      "NODE_95_length_1592_cov_58.378660---3268788>3270368 :::::::: NODE_17_length_91780_cov_18.769114---3271479>3363249\n",
      "Is there a path in the assembly graph? True, number of nucleotides:  724\n",
      "Is there a path in the pangenome graph? No path in Pangraph\n",
      "Real cost between the two contigs: 0.6375000000000001\n",
      "---------------------- i = 53 ---------------------------------------------\n",
      "NODE_17_length_91780_cov_18.769114---3271479>3363249 :::::::: NODE_50_length_27240_cov_18.622991---3363939>3391158\n",
      "Is there a path in the assembly graph? True, number of nucleotides:  394\n",
      "Is there a path in the pangenome graph? Yes!, cost =  0.0\n",
      "Real cost between the two contigs: 17.905296296296296\n",
      "---------------------- i = 54 ---------------------------------------------\n",
      "NODE_50_length_27240_cov_18.622991---3363939>3391158 :::::::: NODE_141_length_351_cov_16.635135---3392403>3392744\n",
      "Is there a path in the assembly graph? True, number of nucleotides:  1013\n",
      "Is there a path in the pangenome graph? Yes!, cost =  23.05\n",
      "Real cost between the two contigs: 15.211458333333333\n",
      "******************************************************************************************************************************************************\n",
      "NODE_50_length_27240_cov_18.622991 NODE_58_length_12944_cov_18.991155\n",
      "Is there a path in the assembly graph? True, number of nucleotides:  8076\n",
      "Is there a path in the pangenome graph? No path in Pangraph\n",
      "Real cost between the two contigs: No value\n",
      "---------------------- i = 55 ---------------------------------------------\n",
      "NODE_141_length_351_cov_16.635135---3392403>3392744 :::::::: NODE_97_length_1443_cov_56.968300---3392696>3394134\n",
      "Is there a path in the assembly graph? True, number of nucleotides:  8331\n",
      "Is there a path in the pangenome graph? Yes!, cost =  0.7822314049586777\n",
      "Real cost between the two contigs: No value\n",
      "---------------------- i = 56 ---------------------------------------------\n",
      "NODE_97_length_1443_cov_56.968300---3392696>3394134 :::::::: NODE_94_length_1685_cov_19.542945---3394087>3395763\n",
      "Is there a path in the assembly graph? True, number of nucleotides:  509002\n",
      "Is there a path in the pangenome graph? Yes!, cost =  0.29532061345248156\n",
      "Real cost between the two contigs: No value\n",
      "---------------------- i = 57 ---------------------------------------------\n",
      "NODE_94_length_1685_cov_19.542945---3394087>3395763 :::::::: NODE_90_length_2072_cov_18.323748---3396482>3398550\n",
      "Is there a path in the assembly graph? True, number of nucleotides:  405675\n",
      "Is there a path in the pangenome graph? No path in Pangraph\n",
      "Real cost between the two contigs: No value\n",
      "---------------------- i = 58 ---------------------------------------------\n",
      "NODE_90_length_2072_cov_18.323748---3396482>3398550 :::::::: NODE_115_length_865_cov_55.879012---3398690>3399545\n",
      "Is there a path in the assembly graph? True, number of nucleotides:  -1\n",
      "Is there a path in the pangenome graph? No path in Pangraph\n",
      "Real cost between the two contigs: 1.2750000000000001\n",
      "---------------------- i = 59 ---------------------------------------------\n",
      "NODE_115_length_865_cov_55.879012---3398690>3399545 :::::::: NODE_58_length_12944_cov_18.991155---3399501>3412437\n",
      "Is there a path in the assembly graph? True, number of nucleotides:  -1\n",
      "Is there a path in the pangenome graph? No path in Pangraph\n",
      "Real cost between the two contigs: 1.2750000000000001\n",
      "---------------------- i = 60 ---------------------------------------------\n",
      "NODE_58_length_12944_cov_18.991155---3399501>3412437 :::::::: NODE_29_length_57625_cov_18.984888---3413156>3470771\n",
      "Is there a path in the assembly graph? True, number of nucleotides:  611\n",
      "Is there a path in the pangenome graph? No path in Pangraph\n",
      "Real cost between the two contigs: 1.1333333333333335\n",
      "---------------------- i = 61 ---------------------------------------------\n",
      "NODE_29_length_57625_cov_18.984888---3413156>3470771 :::::::: NODE_104_length_1129_cov_38.822160---3472057>3473168\n",
      "Is there a path in the assembly graph? True, number of nucleotides:  1348\n",
      "Is there a path in the pangenome graph? No path in Pangraph\n",
      "Real cost between the two contigs: 0.40800000000000003\n",
      "******************************************************************************************************************************************************\n",
      "NODE_29_length_57625_cov_18.984888 NODE_12_length_137405_cov_18.782796\n",
      "Is there a path in the assembly graph? True, number of nucleotides:  3023\n",
      "Is there a path in the pangenome graph? Yes!, cost =  25.05\n",
      "Real cost between the two contigs: 13.281701388888889\n",
      "---------------------- i = 62 ---------------------------------------------\n",
      "NODE_104_length_1129_cov_38.822160---3472057>3473168 :::::::: NODE_12_length_137405_cov_18.782796---3473677>3611071\n",
      "Is there a path in the assembly graph? True, number of nucleotides:  545\n",
      "Is there a path in the pangenome graph? No path in Pangraph\n",
      "Real cost between the two contigs: 1.1333333333333335\n",
      "---------------------- i = 63 ---------------------------------------------\n",
      "NODE_12_length_137405_cov_18.782796---3473677>3611071 :::::::: NODE_49_length_27664_cov_18.838676---3611755>3639395\n",
      "Is there a path in the assembly graph? True, number of nucleotides:  242\n",
      "Is there a path in the pangenome graph? Yes!, cost =  33.05\n",
      "Real cost between the two contigs: 13.91486111111111\n",
      "---------------------- i = 64 ---------------------------------------------\n",
      "NODE_49_length_27664_cov_18.838676---3611755>3639395 :::::::: NODE_51_length_17514_cov_18.602039---3639597>3657093\n",
      "Is there a path in the assembly graph? True, number of nucleotides:  -1\n",
      "Is there a path in the pangenome graph? Yes!, cost =  39.05\n",
      "Real cost between the two contigs: 6.611864725056689\n",
      "---------------------- i = 65 ---------------------------------------------\n",
      "NODE_51_length_17514_cov_18.602039---3639597>3657093 :::::::: NODE_33_length_46779_cov_18.775576---3657317>3704079\n",
      "Is there a path in the assembly graph? True, number of nucleotides:  -1\n",
      "Is there a path in the pangenome graph? Yes!, cost =  30.05\n",
      "Real cost between the two contigs: 5.872317885487528\n",
      "---------------------- i = 66 ---------------------------------------------\n",
      "NODE_33_length_46779_cov_18.775576---3657317>3704079 :::::::: NODE_71_length_5699_cov_21.281361---3705077>3710762\n",
      "Is there a path in the assembly graph? True, number of nucleotides:  653\n",
      "Is there a path in the pangenome graph? No path in Pangraph\n",
      "Real cost between the two contigs: 0.40800000000000003\n",
      "---------------------- i = 67 ---------------------------------------------\n",
      "NODE_71_length_5699_cov_21.281361---3705077>3710762 :::::::: NODE_91_length_1921_cov_39.800107---3710717>3712634\n",
      "Is there a path in the assembly graph? True, number of nucleotides:  36103\n",
      "Is there a path in the pangenome graph? Yes!, cost =  0.0\n",
      "Real cost between the two contigs: No value\n",
      "******************************************************************************************************************************************************\n",
      "NODE_71_length_5699_cov_21.281361 NODE_57_length_13264_cov_18.653040\n",
      "Is there a path in the assembly graph? True, number of nucleotides:  2488\n",
      "Is there a path in the pangenome graph? No path in Pangraph\n",
      "Real cost between the two contigs: 0.20816326530612247\n",
      "---------------------- i = 68 ---------------------------------------------\n",
      "NODE_91_length_1921_cov_39.800107---3710717>3712634 :::::::: NODE_57_length_13264_cov_18.653040---3714053>3727315\n",
      "Is there a path in the assembly graph? True, number of nucleotides:  247831\n",
      "Is there a path in the pangenome graph? No path in Pangraph\n",
      "Real cost between the two contigs: No value\n",
      "---------------------- i = 69 ---------------------------------------------\n",
      "NODE_57_length_13264_cov_18.653040---3714053>3727315 :::::::: NODE_87_length_2272_cov_97.826793---3728061>3730322\n",
      "Is there a path in the assembly graph? False,<----xxxxxxxxxxxxxxxxxxxxxxxxxxxxxxxxxxxxx\n",
      "Is there a path in the pangenome graph? No path in Pangraph\n",
      "Real cost between the two contigs: No value\n",
      "******************************************************************************************************************************************************\n",
      "NODE_57_length_13264_cov_18.653040 NODE_13_length_123136_cov_19.311462\n",
      "Is there a path in the assembly graph? False,<----xxxxxxxxxxxxxxxxxxxxxxxxxxxxxxxxxxxxx\n",
      "Is there a path in the pangenome graph? No path in Pangraph\n",
      "Real cost between the two contigs: No value\n",
      "---------------------- i = 70 ---------------------------------------------\n",
      "NODE_87_length_2272_cov_97.826793---3728061>3730322 :::::::: NODE_13_length_123136_cov_19.311462---3730278>3853406\n",
      "Is there a path in the assembly graph? True, number of nucleotides:  -1\n",
      "Is there a path in the pangenome graph? Yes!, cost =  23.05\n",
      "Real cost between the two contigs: 11.525\n",
      "---------------------- i = 71 ---------------------------------------------\n",
      "NODE_13_length_123136_cov_19.311462---3730278>3853406 :::::::: NODE_96_length_1463_cov_133.146307---3856891>3858341\n",
      "Is there a path in the assembly graph? True, number of nucleotides:  849024\n",
      "Is there a path in the pangenome graph? Yes!, cost =  45.05\n",
      "Real cost between the two contigs: No value\n",
      "******************************************************************************************************************************************************\n",
      "NODE_13_length_123136_cov_19.311462 NODE_4_length_210493_cov_18.979267\n",
      "Is there a path in the assembly graph? True, number of nucleotides:  4972\n",
      "Is there a path in the pangenome graph? Yes!, cost =  23.55\n",
      "Real cost between the two contigs: 10.963768424036282\n",
      "---------------------- i = 72 ---------------------------------------------\n",
      "NODE_96_length_1463_cov_133.146307---3856891>3858341 :::::::: NODE_4_length_210493_cov_18.979267---3858297>4068859\n",
      "Is there a path in the assembly graph? True, number of nucleotides:  382294\n",
      "Is there a path in the pangenome graph? Yes!, cost =  49.05\n",
      "Real cost between the two contigs: No value\n",
      "---------------------- i = 73 ---------------------------------------------\n",
      "NODE_4_length_210493_cov_18.979267---3858297>4068859 :::::::: NODE_18_length_89080_cov_19.243190---4070103>4159176\n",
      "Is there a path in the assembly graph? True, number of nucleotides:  1013\n",
      "Is there a path in the pangenome graph? Yes!, cost =  35.05\n",
      "Real cost between the two contigs: 12.75998866213152\n",
      "---------------------- i = 74 ---------------------------------------------\n",
      "NODE_18_length_89080_cov_19.243190---4070103>4159176 :::::::: NODE_62_length_9460_cov_18.395428---4159813>4169252\n",
      "Is there a path in the assembly graph? True, number of nucleotides:  163\n",
      "Is there a path in the pangenome graph? No path in Pangraph\n",
      "Real cost between the two contigs: 3.3548701198284947\n",
      "---------------------- i = 75 ---------------------------------------------\n",
      "NODE_62_length_9460_cov_18.395428---4159813>4169252 :::::::: NODE_65_length_8473_cov_18.567474---4171713>4180173\n",
      "Is there a path in the assembly graph? True, number of nucleotides:  96532\n",
      "Is there a path in the pangenome graph? No path in Pangraph\n",
      "Real cost between the two contigs: No value\n",
      "---------------------- i = 76 ---------------------------------------------\n",
      "NODE_65_length_8473_cov_18.567474---4171713>4180173 :::::::: NODE_87_length_2272_cov_97.826793---4180547>4182808\n",
      "Is there a path in the assembly graph? True, number of nucleotides:  61100\n",
      "Is there a path in the pangenome graph? No path in Pangraph\n",
      "Real cost between the two contigs: No value\n",
      "******************************************************************************************************************************************************\n",
      "NODE_65_length_8473_cov_18.567474 NODE_60_length_9971_cov_19.079266\n",
      "Is there a path in the assembly graph? True, number of nucleotides:  51129\n",
      "Is there a path in the pangenome graph? No path in Pangraph\n",
      "Real cost between the two contigs: No value\n",
      "---------------------- i = 77 ---------------------------------------------\n",
      "NODE_87_length_2272_cov_97.826793---4180547>4182808 :::::::: NODE_117_length_794_cov_18.997294---4183554>4184345\n",
      "Is there a path in the assembly graph? True, number of nucleotides:  117050\n",
      "Is there a path in the pangenome graph? No path in Pangraph\n",
      "Real cost between the two contigs: No value\n",
      "---------------------- i = 78 ---------------------------------------------\n",
      "NODE_117_length_794_cov_18.997294---4183554>4184345 :::::::: NODE_102_length_1248_cov_57.448449---4184310>4185542\n",
      "Is there a path in the assembly graph? False,<----xxxxxxxxxxxxxxxxxxxxxxxxxxxxxxxxxxxxx\n",
      "Is there a path in the pangenome graph? No path in Pangraph\n",
      "Real cost between the two contigs: No value\n",
      "---------------------- i = 79 ---------------------------------------------\n",
      "NODE_102_length_1248_cov_57.448449---4184310>4185542 :::::::: NODE_60_length_9971_cov_19.079266---4185495>4195458\n",
      "Is there a path in the assembly graph? True, number of nucleotides:  -1\n",
      "Is there a path in the pangenome graph? No path in Pangraph\n",
      "Real cost between the two contigs: 1.2750000000000001\n",
      "---------------------- i = 80 ---------------------------------------------\n",
      "NODE_60_length_9971_cov_19.079266---4185495>4195458 :::::::: NODE_87_length_2272_cov_97.826793---4195415>4197676\n",
      "Is there a path in the assembly graph? True, number of nucleotides:  -1\n",
      "Is there a path in the pangenome graph? No path in Pangraph\n",
      "Real cost between the two contigs: 1.2750000000000001\n",
      "******************************************************************************************************************************************************\n",
      "NODE_60_length_9971_cov_19.079266 NODE_24_length_76639_cov_18.776207\n",
      "Is there a path in the assembly graph? True, number of nucleotides:  21232\n",
      "Is there a path in the pangenome graph? No path in Pangraph\n",
      "Real cost between the two contigs: No value\n",
      "---------------------- i = 81 ---------------------------------------------\n",
      "NODE_87_length_2272_cov_97.826793---4195415>4197676 :::::::: NODE_24_length_76639_cov_18.776207---4198143>4274773\n",
      "Is there a path in the assembly graph? True, number of nucleotides:  18960\n",
      "Is there a path in the pangenome graph? No path in Pangraph\n",
      "Real cost between the two contigs: No value\n",
      "---------------------- i = 82 ---------------------------------------------\n",
      "NODE_24_length_76639_cov_18.776207---4198143>4274773 :::::::: NODE_40_length_40069_cov_18.795472---4276329>4316385\n",
      "Is there a path in the assembly graph? True, number of nucleotides:  948\n",
      "Is there a path in the pangenome graph? Yes!, cost =  7.383333333333333\n",
      "Real cost between the two contigs: 5.261242776045603\n",
      "---------------------- i = 83 ---------------------------------------------\n",
      "NODE_40_length_40069_cov_18.795472---4276329>4316385 :::::::: NODE_6_length_190645_cov_18.815531---4316710>4507344\n",
      "Is there a path in the assembly graph? True, number of nucleotides:  -1\n",
      "Is there a path in the pangenome graph? Yes!, cost =  48.05\n",
      "Real cost between the two contigs: 7.639285714285714\n",
      "---------------------- i = 84 ---------------------------------------------\n",
      "NODE_6_length_190645_cov_18.815531---4316710>4507344 :::::::: NODE_96_length_1463_cov_133.146307---4510766>4512216\n",
      "Is there a path in the assembly graph? True, number of nucleotides:  849126\n",
      "Is there a path in the pangenome graph? Yes!, cost =  20.05\n",
      "Real cost between the two contigs: No value\n",
      "******************************************************************************************************************************************************\n",
      "NODE_6_length_190645_cov_18.815531 NODE_45_length_30843_cov_18.832500\n",
      "Is there a path in the assembly graph? True, number of nucleotides:  5221\n",
      "Is there a path in the pangenome graph? Yes!, cost =  17.05\n",
      "Real cost between the two contigs: 11.768796296296296\n",
      "---------------------- i = 85 ---------------------------------------------\n",
      "NODE_96_length_1463_cov_133.146307---4510766>4512216 :::::::: NODE_45_length_30843_cov_18.832500---4512564>4543399\n",
      "Is there a path in the assembly graph? True, number of nucleotides:  382441\n",
      "Is there a path in the pangenome graph? Yes!, cost =  48.05\n",
      "Real cost between the two contigs: No value\n",
      "---------------------- i = 86 ---------------------------------------------\n",
      "NODE_45_length_30843_cov_18.832500---4512564>4543399 :::::::: NODE_79_length_4283_cov_19.173841---4544334>4548602\n",
      "Is there a path in the assembly graph? True, number of nucleotides:  679\n",
      "Is there a path in the pangenome graph? Yes!, cost =  24.05\n",
      "Real cost between the two contigs: 12.021428571428572\n",
      "---------------------- i = 87 ---------------------------------------------\n",
      "NODE_79_length_4283_cov_19.173841---4544334>4548602 :::::::: NODE_96_length_1463_cov_133.146307---4552256>4553706\n",
      "Is there a path in the assembly graph? True, number of nucleotides:  849128\n",
      "Is there a path in the pangenome graph? Yes!, cost =  45.05\n",
      "Real cost between the two contigs: No value\n",
      "******************************************************************************************************************************************************\n",
      "NODE_79_length_4283_cov_19.173841 NODE_28_length_60907_cov_18.854582\n",
      "Is there a path in the assembly graph? True, number of nucleotides:  5187\n",
      "Is there a path in the pangenome graph? Yes!, cost =  23.05\n",
      "Real cost between the two contigs: 11.573565287226003\n",
      "---------------------- i = 88 ---------------------------------------------\n",
      "NODE_96_length_1463_cov_133.146307---4552256>4553706 :::::::: NODE_28_length_60907_cov_18.854582---4554111>4615012\n",
      "Is there a path in the assembly graph? True, number of nucleotides:  382405\n",
      "Is there a path in the pangenome graph? Yes!, cost =  47.05\n",
      "Real cost between the two contigs: No value\n",
      "---------------------- i = 89 ---------------------------------------------\n",
      "NODE_28_length_60907_cov_18.854582---4554111>4615012 :::::::: NODE_97_length_1443_cov_56.968300---4614964>4616402\n",
      "Is there a path in the assembly graph? True, number of nucleotides:  8331\n",
      "Is there a path in the pangenome graph? No path in Pangraph\n",
      "Real cost between the two contigs: No value\n",
      "******************************************************************************************************************************************************\n",
      "NODE_28_length_60907_cov_18.854582 NODE_67_length_7364_cov_18.565194\n",
      "Is there a path in the assembly graph? False,<----xxxxxxxxxxxxxxxxxxxxxxxxxxxxxxxxxxxxx\n",
      "Is there a path in the pangenome graph? No path in Pangraph\n",
      "Real cost between the two contigs: No value\n",
      "---------------------- i = 90 ---------------------------------------------\n",
      "NODE_97_length_1443_cov_56.968300---4614964>4616402 :::::::: NODE_67_length_7364_cov_18.565194---4616355>4623706\n",
      "Is there a path in the assembly graph? False,<----xxxxxxxxxxxxxxxxxxxxxxxxxxxxxxxxxxxxx\n",
      "Is there a path in the pangenome graph? No path in Pangraph\n",
      "Real cost between the two contigs: No value\n",
      "---------------------- i = 91 ---------------------------------------------\n",
      "NODE_67_length_7364_cov_18.565194---4616355>4623706 :::::::: NODE_109_length_1024_cov_16.748194---4626059>4627082\n",
      "Is there a path in the assembly graph? False,<----xxxxxxxxxxxxxxxxxxxxxxxxxxxxxxxxxxxxx\n",
      "Is there a path in the pangenome graph? No path in Pangraph\n",
      "Real cost between the two contigs: No value\n",
      "******************************************************************************************************************************************************\n",
      "NODE_67_length_7364_cov_18.565194 NODE_52_length_16824_cov_18.597829\n",
      "Is there a path in the assembly graph? False,<----xxxxxxxxxxxxxxxxxxxxxxxxxxxxxxxxxxxxx\n",
      "Is there a path in the pangenome graph? No path in Pangraph\n",
      "Real cost between the two contigs: No value\n",
      "---------------------- i = 92 ---------------------------------------------\n",
      "NODE_109_length_1024_cov_16.748194---4626059>4627082 :::::::: NODE_52_length_16824_cov_18.597829---4628060>4644874\n",
      "Is there a path in the assembly graph? True, number of nucleotides:  328\n",
      "Is there a path in the pangenome graph? No path in Pangraph\n",
      "Real cost between the two contigs: 0.40800000000000003\n",
      "---------------------- i = 93 ---------------------------------------------\n",
      "NODE_52_length_16824_cov_18.597829---4628060>4644874 :::::::: NODE_84_length_2538_cov_74.520741---4644871>4647395\n",
      "Is there a path in the assembly graph? True, number of nucleotides:  -1\n",
      "Is there a path in the pangenome graph? No path in Pangraph\n",
      "Real cost between the two contigs: 1.2750000000000001\n",
      "******************************************************************************************************************************************************\n",
      "NODE_52_length_16824_cov_18.597829 NODE_25_length_70560_cov_18.770981\n",
      "Is there a path in the assembly graph? True, number of nucleotides:  2537\n",
      "Is there a path in the pangenome graph? No path in Pangraph\n",
      "Real cost between the two contigs: 1.1333333333333335\n",
      "---------------------- i = 94 ---------------------------------------------\n",
      "NODE_84_length_2538_cov_74.520741---4644871>4647395 :::::::: NODE_25_length_70560_cov_18.770981---4647349>4717901\n",
      "Is there a path in the assembly graph? True, number of nucleotides:  -1\n",
      "Is there a path in the pangenome graph? No path in Pangraph\n",
      "Real cost between the two contigs: 1.2750000000000001\n",
      "---------------------- i = 95 ---------------------------------------------\n",
      "NODE_25_length_70560_cov_18.770981---4647349>4717901 :::::::: NODE_96_length_1463_cov_133.146307---4721620>4723070\n",
      "Is there a path in the assembly graph? True, number of nucleotides:  849154\n",
      "Is there a path in the pangenome graph? Yes!, cost =  46.05\n",
      "Real cost between the two contigs: No value\n",
      "******************************************************************************************************************************************************\n",
      "NODE_25_length_70560_cov_18.770981 NODE_19_length_88449_cov_18.833710\n",
      "Is there a path in the assembly graph? True, number of nucleotides:  5102\n",
      "Is there a path in the pangenome graph? Yes!, cost =  23.3\n",
      "Real cost between the two contigs: 10.645462992488664\n",
      "---------------------- i = 96 ---------------------------------------------\n",
      "NODE_96_length_1463_cov_133.146307---4721620>4723070 :::::::: NODE_19_length_88449_cov_18.833710---4723262>4811707\n",
      "Is there a path in the assembly graph? True, number of nucleotides:  382294\n",
      "Is there a path in the pangenome graph? Yes!, cost =  47.05\n",
      "Real cost between the two contigs: No value\n",
      "---------------------- i = 97 ---------------------------------------------\n",
      "NODE_19_length_88449_cov_18.833710---4723262>4811707 :::::::: NODE_96_length_1463_cov_133.146307---4815249>4816699\n",
      "Is there a path in the assembly graph? True, number of nucleotides:  849107\n",
      "Is there a path in the pangenome graph? Yes!, cost =  45.05\n",
      "Real cost between the two contigs: No value\n",
      "******************************************************************************************************************************************************\n",
      "NODE_19_length_88449_cov_18.833710 NODE_35_length_44062_cov_18.925307\n",
      "Is there a path in the assembly graph? True, number of nucleotides:  5166\n",
      "Is there a path in the pangenome graph? Yes!, cost =  22.8\n",
      "Real cost between the two contigs: 10.415226757369613\n",
      "---------------------- i = 98 ---------------------------------------------\n",
      "NODE_96_length_1463_cov_133.146307---4815249>4816699 :::::::: NODE_35_length_44062_cov_18.925307---4817112>4861169\n",
      "Is there a path in the assembly graph? True, number of nucleotides:  382405\n",
      "Is there a path in the pangenome graph? Yes!, cost =  46.05\n",
      "Real cost between the two contigs: No value\n",
      "---------------------- i = 99 ---------------------------------------------\n",
      "NODE_35_length_44062_cov_18.925307---4817112>4861169 :::::::: NODE_53_length_15724_cov_20.028017---4861615>4877333\n",
      "Is there a path in the assembly graph? True, number of nucleotides:  437\n",
      "Is there a path in the pangenome graph? Yes!, cost =  71.05\n",
      "Real cost between the two contigs: 24.68888888888889\n"
     ]
    }
   ],
   "source": [
    "assembly_graph = pangraph.assembly_graph\n",
    "for i in range(len(target_contigs_list)-1):\n",
    "    print('---------------------- i =', i, '---------------------------------------------')\n",
    "    node1 = target_contigs_list[i]\n",
    "    node2 = target_contigs_list[i+1]\n",
    "    print(target_contigs_sorted[i],'::::::::', target_contigs_sorted[i+1])\n",
    "    source_id = 'C-' + str(pangraph.tail_contig[node1])\n",
    "    target_id = 'C-' + str(pangraph.head_contig[node2]) \n",
    "    source_node = node1 + pangraph.strand[node1]\n",
    "    target_node = node2 + pangraph.strand[node2]\n",
    "    if assembly_graph.has_node(source_node) and assembly_graph.has_node(target_node):\n",
    "        print(\"Is there a path in the assembly graph? \", end ='')\n",
    "        print(nx.has_path(assembly_graph, source_node, target_node), end = ',')   \n",
    "        if nx.has_path(assembly_graph, source_node, target_node):\n",
    "            path_nucleotides = -1\n",
    "            path = nx.shortest_path(assembly_graph, source=source_node, target=target_node)\n",
    "            for idxp in range(1, len(path)-1):\n",
    "                path_nucleotides = path_nucleotides + int(path[idxp].split(\"_\")[3])\n",
    "            print(' number of nucleotides: ', path_nucleotides)\n",
    "        else:\n",
    "            print('<----xxxxxxxxxxxxxxxxxxxxxxxxxxxxxxxxxxxxx')\n",
    "    print(\"Is there a path in the pangenome graph? \", end ='')\n",
    "    if nx.has_path(pangraph.H, source_id, target_id):\n",
    "        p = nx.shortest_path(pangraph.H, source=source_id, target=target_id)\n",
    "        weight_p = 0.0\n",
    "        for node_p_idx in range(len(p)-1):\n",
    "            weight_p += pangraph.H[p[node_p_idx]][p[node_p_idx+1]]['weight']\n",
    "        if len(p) >= 2:\n",
    "            weight_p = 0.05 + weight_p/float((len(p)-1)*(len(p)-1))\n",
    "        print(\"Yes!, cost = \", weight_p)\n",
    "    else:\n",
    "        print(\"No path in Pangraph\")\n",
    "    print(\"Real cost between the two contigs: \", end ='')\n",
    "    get_value(pangraph.edge_df0, node1, node2)   \n",
    "    # if get_node_coverage(node2) >= 25.0:\n",
    "    # node2 = next_node_multi_1(target_contigs_list, i+1)\n",
    "    if get_node_length(node1) >= 3000 and get_node_length(node2) <= 3000:\n",
    "        node2 = next_node_length(target_contigs_list, i+1, 5000)\n",
    "        print('******************************************************************************************************************************************************')\n",
    "        print(node1, node2)\n",
    "        source_id = 'C-' + str(pangraph.tail_contig[node1])\n",
    "        target_id = 'C-' + str(pangraph.head_contig[node2]) \n",
    "        source_node = node1 + pangraph.strand[node1]\n",
    "        target_node = node2 + pangraph.strand[node2]\n",
    "        if assembly_graph.has_node(source_node) and assembly_graph.has_node(target_node):\n",
    "            print(\"Is there a path in the assembly graph? \", end ='')\n",
    "            print(nx.has_path(assembly_graph, source_node, target_node), end = ',')   \n",
    "            if nx.has_path(assembly_graph, source_node, target_node):\n",
    "                path_nucleotides = -1\n",
    "                path = nx.shortest_path(assembly_graph, source=source_node, target=target_node)\n",
    "                for idxp in range(1, len(path)-1):\n",
    "                    path_nucleotides = path_nucleotides + int(path[idxp].split(\"_\")[3])\n",
    "                print(' number of nucleotides: ', path_nucleotides)\n",
    "            else:\n",
    "                print('<----xxxxxxxxxxxxxxxxxxxxxxxxxxxxxxxxxxxxx')\n",
    "        print(\"Is there a path in the pangenome graph? \", end ='')\n",
    "        if nx.has_path(pangraph.H, source_id, target_id):\n",
    "            p = nx.shortest_path(pangraph.H, source=source_id, target=target_id)\n",
    "            weight_p = 0.0\n",
    "            for node_p_idx in range(len(p)-1):\n",
    "                weight_p += pangraph.H[p[node_p_idx]][p[node_p_idx+1]]['weight']\n",
    "            if len(p) >= 2:\n",
    "                weight_p = 0.05 + weight_p/float((len(p)-1)*(len(p)-1))\n",
    "            print(\"Yes!, cost = \", weight_p)\n",
    "        else:\n",
    "            print(\"No path in Pangraph\")\n",
    "        print(\"Real cost between the two contigs: \", end ='')\n",
    "        get_value(pangraph.edge_df0, node1, node2)"
   ]
  },
  {
   "cell_type": "code",
   "execution_count": 169,
   "id": "d7d599bc-d583-48ba-90c1-948758a617db",
   "metadata": {},
   "outputs": [],
   "source": [
    "# pangraph.edge_df0"
   ]
  },
  {
   "cell_type": "code",
   "execution_count": 170,
   "id": "3849e2be-f2cf-4576-916a-b631a45a4120",
   "metadata": {},
   "outputs": [],
   "source": [
    "# pangraph.get_pangraph_cost('NODE_45_length_27637_cov_18.461497', 'NODE_15_length_132469_cov_18.712024')"
   ]
  },
  {
   "cell_type": "code",
   "execution_count": 171,
   "id": "f37b76d4-ee0b-4d11-9151-2e4fe8dd6f0f",
   "metadata": {},
   "outputs": [],
   "source": [
    "assembly_graph = pangraph.assembly_graph\n",
    "my_list = []\n",
    "for i in range(len(target_contigs_list)-1):\n",
    "    # print('---------------------- i =', i, '---------------------------------------------')\n",
    "    node1 = target_contigs_list[i]\n",
    "    node2 = target_contigs_list[i+1]\n",
    "    # print(pangraph.get_pangraph_cost(node1, node2)) \n",
    "    if get_node_length(node1) >= 3000 and get_node_length(node2) <= 3000:\n",
    "        node2 = next_node_length(target_contigs_list, i+1, 5000)\n",
    "        my_list.append([node1, node2, pangraph.get_pangraph_cost(node1, node2), get_value_num(pangraph.edge_df0, node1, node2)]) \n",
    "        "
   ]
  },
  {
   "cell_type": "code",
   "execution_count": 172,
   "id": "835c005a-dfd9-46b2-b01b-37648c0bca6d",
   "metadata": {},
   "outputs": [],
   "source": [
    "my_df = pd.DataFrame(my_list)\n",
    "my_df.to_csv(quast_output + '/nodes_cost_'+str(split_paralogs)+'.csv', sep=',')"
   ]
  },
  {
   "cell_type": "code",
   "execution_count": 173,
   "id": "7fe6ec07-67fc-4fd4-93da-3c4b7b8f5245",
   "metadata": {},
   "outputs": [],
   "source": [
    "big_node = [node for node in target_contigs_list if get_node_length(node) > 9000]"
   ]
  },
  {
   "cell_type": "code",
   "execution_count": 190,
   "id": "579b4782-f1e3-4db4-a771-f9f5e8aa4990",
   "metadata": {},
   "outputs": [],
   "source": [
    "aa = np.zeros((len(big_node), len(big_node)))\n",
    "for i in range(len(big_node)):\n",
    "    for j in range(len(big_node)):\n",
    "        aa[i,j] = pangraph.get_pangraph_cost(big_node[i], big_node[j])\n",
    "        # aa[i,j] = get_value_num(pangraph.edge_df0, big_node[i], big_node[j])"
   ]
  },
  {
   "cell_type": "code",
   "execution_count": null,
   "id": "39f156fa-dac4-4daf-9a45-feaaa4892fb7",
   "metadata": {},
   "outputs": [],
   "source": [
    "small_big_node = [node.split('_')[1] for node in big_node]\n",
    "df = pd.DataFrame(aa, index = small_big_node)\n",
    "df.columns = small_big_node\n",
    "# df.to_csv(quast_output + '/real_matrix_'+str(split_paralogs)+'.csv')\n",
    "df.to_csv(quast_output + '/matrix_'+str(split_paralogs)+'.csv')"
   ]
  },
  {
   "cell_type": "code",
   "execution_count": 176,
   "id": "cdd5a316-4e67-4a95-b446-1bf353165396",
   "metadata": {},
   "outputs": [],
   "source": [
    "# pangraph.edge_df0['source'].values"
   ]
  },
  {
   "cell_type": "code",
   "execution_count": 177,
   "id": "5ba67867-330c-4f52-8220-b3fab4304976",
   "metadata": {},
   "outputs": [],
   "source": [
    "## Xet chieu trong trinh dai dien de sua roi inversion."
   ]
  },
  {
   "cell_type": "code",
   "execution_count": 178,
   "id": "c1fd520a-b726-4bf7-a734-bd53423fb71e",
   "metadata": {},
   "outputs": [],
   "source": [
    "# Ideas:\n",
    "# Nhiều cái nối bị sai vì các repetitive. (Xét long range relationship, hiện tại ta chỉ xét short range). \n",
    "# Cần phải có cái nhìn dài hơn. Giả sử là dùng greedy thì nếu thằng được xét có độ dài lớn, ta tính khoảng cách của nó đến một thằng\n",
    "# có độ dài lớn, nếu khả năng nối là thấp thì ta bỏ qua và ko cho vào kết quả. \n",
    "# Quast circular???"
   ]
  },
  {
   "cell_type": "code",
   "execution_count": 2,
   "id": "d4f9b8d7-c5b9-429a-934a-7a7ca2cb5ffc",
   "metadata": {},
   "outputs": [],
   "source": [
    "import glob\n",
    "import os\n",
    "# list_file = glob.glob(\"/data/hoan/amromics/genome-graph/scaffold_output/quastResults_Kp50random_Kptest*/report.pdf\")\n",
    "# list_file = glob.glob(\"/data/hoan/amromics/genome-graph/scaffold_output/*Multiplicity_v01/report.pdf\")\n",
    "# list_file = glob.glob(\"/data/hoan/amromics/genome-graph/scaffold_output/*0.4_v01/report.pdf\")\n",
    "list_file = glob.glob(\"/data/hoan/amromics/genome-graph/scaffold_output/quastResults_Ecoli50*Infer_v01/report.pdf\")"
   ]
  },
  {
   "cell_type": "code",
   "execution_count": 4,
   "id": "a0bc3125-1500-4da8-8558-1b4816e8a2d6",
   "metadata": {},
   "outputs": [
    {
     "name": "stdout",
     "output_type": "stream",
     "text": [
      "mv /data/hoan/amromics/genome-graph/scaffold_output/quastResults_Ecoli50random_Ecolitest_GCF_000464955_assemBiGraph2_MultiLRdependancyInfer_v01/report.pdf /data/hoan/amromics/genome-graph/scaffold_output/quastResults_Ecoli50random_Ecolitest_GCF_000464955_assemBiGraph2_MultiLRdependancyInfer_v01/000464955_t5.pdf\n",
      "mv /data/hoan/amromics/genome-graph/scaffold_output/quastResults_Ecoli50random_Ecolitest_GCF_002860105_assemBiGraph2_MultiLRdependancyInfer_v01/report.pdf /data/hoan/amromics/genome-graph/scaffold_output/quastResults_Ecoli50random_Ecolitest_GCF_002860105_assemBiGraph2_MultiLRdependancyInfer_v01/002860105_t5.pdf\n",
      "mv /data/hoan/amromics/genome-graph/scaffold_output/quastResults_Ecoli50random_Ecolitest_GCF_002899495_assemBiGraph2_MultiLRdependancyInfer_v01/report.pdf /data/hoan/amromics/genome-graph/scaffold_output/quastResults_Ecoli50random_Ecolitest_GCF_002899495_assemBiGraph2_MultiLRdependancyInfer_v01/002899495_t5.pdf\n",
      "mv /data/hoan/amromics/genome-graph/scaffold_output/quastResults_Ecoli50random_Ecolitest_GCF_004135915_assemBiGraph2_MultiLRdependancyInfer_v01/report.pdf /data/hoan/amromics/genome-graph/scaffold_output/quastResults_Ecoli50random_Ecolitest_GCF_004135915_assemBiGraph2_MultiLRdependancyInfer_v01/004135915_t5.pdf\n",
      "mv /data/hoan/amromics/genome-graph/scaffold_output/quastResults_Ecoli50random_Ecolitest_GCF_006351885_assemBiGraph2_MultiLRdependancyInfer_v01/report.pdf /data/hoan/amromics/genome-graph/scaffold_output/quastResults_Ecoli50random_Ecolitest_GCF_006351885_assemBiGraph2_MultiLRdependancyInfer_v01/006351885_t5.pdf\n",
      "mv /data/hoan/amromics/genome-graph/scaffold_output/quastResults_Ecoli50random_Ecolitest_GCF_008931765_assemBiGraph2_MultiLRdependancyInfer_v01/report.pdf /data/hoan/amromics/genome-graph/scaffold_output/quastResults_Ecoli50random_Ecolitest_GCF_008931765_assemBiGraph2_MultiLRdependancyInfer_v01/008931765_t5.pdf\n",
      "mv /data/hoan/amromics/genome-graph/scaffold_output/quastResults_Ecoli50random_Ecolitest_GCF_013167255_assemBiGraph2_MultiLRdependancyInfer_v01/report.pdf /data/hoan/amromics/genome-graph/scaffold_output/quastResults_Ecoli50random_Ecolitest_GCF_013167255_assemBiGraph2_MultiLRdependancyInfer_v01/013167255_t5.pdf\n",
      "mv /data/hoan/amromics/genome-graph/scaffold_output/quastResults_Ecoli50random_Ecolitest_GCF_014169015_assemBiGraph2_MultiLRdependancyInfer_v01/report.pdf /data/hoan/amromics/genome-graph/scaffold_output/quastResults_Ecoli50random_Ecolitest_GCF_014169015_assemBiGraph2_MultiLRdependancyInfer_v01/014169015_t5.pdf\n",
      "mv /data/hoan/amromics/genome-graph/scaffold_output/quastResults_Ecoli50random_Ecolitest_GCF_014295255_assemBiGraph2_MultiLRdependancyInfer_v01/report.pdf /data/hoan/amromics/genome-graph/scaffold_output/quastResults_Ecoli50random_Ecolitest_GCF_014295255_assemBiGraph2_MultiLRdependancyInfer_v01/014295255_t5.pdf\n",
      "mv /data/hoan/amromics/genome-graph/scaffold_output/quastResults_Ecoli50random_Ecolitest_GCF_015571535_assemBiGraph2_MultiLRdependancyInfer_v01/report.pdf /data/hoan/amromics/genome-graph/scaffold_output/quastResults_Ecoli50random_Ecolitest_GCF_015571535_assemBiGraph2_MultiLRdependancyInfer_v01/015571535_t5.pdf\n"
     ]
    }
   ],
   "source": [
    "for file in list_file:\n",
    "    sample_id = file.split(\"/\")[-2].split(\"_\")[4]\n",
    "    cmd = 'mv ' + file +' '+ file[:-10] + str(sample_id) + '_t5.pdf'\n",
    "    print(cmd)\n",
    "    os.system(cmd)"
   ]
  },
  {
   "cell_type": "code",
   "execution_count": 181,
   "id": "17ee823a-c562-4d16-a0dc-e841c6e95c88",
   "metadata": {},
   "outputs": [],
   "source": [
    "# for i in range(len(target_contigs_sorted)):\n",
    "#     print(target_contigs_sorted[i], end = ', ')\n",
    "#     if (i+1)%3==0:\n",
    "#         print('')"
   ]
  },
  {
   "cell_type": "code",
   "execution_count": 182,
   "id": "d914523a-7aef-4da6-b224-dd3ac6173e56",
   "metadata": {},
   "outputs": [],
   "source": [
    "# pangraph.adj_list_assembly"
   ]
  },
  {
   "cell_type": "code",
   "execution_count": 183,
   "id": "e37d4a68-6b94-4c54-8eb6-bbd4c068625a",
   "metadata": {},
   "outputs": [],
   "source": [
    "# pangraph.adj_list0"
   ]
  },
  {
   "cell_type": "code",
   "execution_count": 184,
   "id": "746e2fc3-dfcc-4b55-b87b-552fca9f4ba6",
   "metadata": {},
   "outputs": [],
   "source": [
    "# node1 = 'NODE_13_length_123136_cov_19.311462'\n",
    "# node2 = 'NODE_4_length_210493_cov_18.979267'\n",
    "# source_id = 'C-' + str(pangraph.tail_contig[node1])\n",
    "# target_id = 'C-' + str(pangraph.head_contig[node2]) \n",
    "# source_node = node1 + pangraph.strand[node1]\n",
    "# target_node = node2 + pangraph.strand[node2]\n",
    "\n",
    "# if assembly_graph.has_node(source_node) and assembly_graph.has_node(target_node):\n",
    "#     print(\"Is there a path in the assembly graph? \", end ='')\n",
    "#     print(nx.has_path(assembly_graph, source_node, target_node), end = ',')   \n",
    "#     if nx.has_path(assembly_graph, source_node, target_node):\n",
    "#         path_nucleotides = -1\n",
    "#         path = nx.shortest_path(assembly_graph, source=source_node, target=target_node)\n",
    "#         for idxp in range(1, len(path)-1):\n",
    "#             path_nucleotides = path_nucleotides + int(path[idxp].split(\"_\")[3])\n",
    "#         print(' number of nucleotides: ', path_nucleotides)\n",
    "#     else:\n",
    "#         print('<----xxxxxxxxxxxxxxxxxxxxxxxxxxxxxxxxxxxxx')\n",
    "# print(\"Is there a path in the pangenome graph? \", end ='')\n",
    "# if nx.has_path(pangraph.H, source_id, target_id):\n",
    "#     p = nx.shortest_path(pangraph.H, source=source_id, target=target_id)\n",
    "#     weight_p = 0.0\n",
    "#     for node_p_idx in range(len(p)-1):\n",
    "#         weight_p += pangraph.H[p[node_p_idx]][p[node_p_idx+1]]['weight']\n",
    "#     if len(p) >= 2:\n",
    "#         weight_p = 0.05 + weight_p/float((len(p)-1)*(len(p)-1))\n",
    "#     print(\"Yes!, cost = \", weight_p)\n",
    "# else:\n",
    "#     print(\"No path in Pangraph\")\n",
    "# print(\"Real cost between the two contigs: \", end ='')\n",
    "# get_value(pangraph.edge_df0, node1, node2)"
   ]
  },
  {
   "cell_type": "code",
   "execution_count": 185,
   "id": "010ee282-000a-49d5-9dd3-cf5cb4870bdd",
   "metadata": {},
   "outputs": [],
   "source": [
    "# gene_position = pd.read_csv(panta_output + \"/gene_position.tsv\", delimiter='\\t', header=None)\n",
    "# gene_position.columns =['SampleID', 'ContigName', 'GeneSequence']\n",
    "# gene_position_sub = gene_position[gene_position.SampleID==0]\n",
    "# nodes_list = list(gene_position_sub.iloc[:,1].values)\n",
    "# nodes_len = [int(node.split(\"_\")[3]) for node in nodes_list]\n",
    "# nodes_coverage = [float(node.split(\"_\")[5]) for node in nodes_list]\n",
    "# gene_position_sub['length'] = nodes_len\n",
    "# gene_position_sub['coverage'] = nodes_coverage\n",
    "# gene_position_sub = gene_position_sub.sort_values(by='length', ascending=False)\n",
    "# basecoverage = np.median(gene_position_sub['coverage'][:5])\n",
    "# expected_node_coverage = [min(9, round(gene_position_sub.iloc[i, 4]/basecoverage)) for i in range(len(nodes_coverage))]\n",
    "# node_multiplicity = {}\n",
    "# for i in range(len(nodes_coverage)):\n",
    "#     node_multiplicity[gene_position_sub.iloc[i,1]] = expected_node_coverage[i]"
   ]
  },
  {
   "cell_type": "code",
   "execution_count": 186,
   "id": "b7468826-4351-41ef-8a7d-13d0abe2d81a",
   "metadata": {},
   "outputs": [],
   "source": [
    "# node_multiplicity"
   ]
  },
  {
   "cell_type": "code",
   "execution_count": 187,
   "id": "a974d2dc-13fc-4773-b5a6-db158d0757c7",
   "metadata": {},
   "outputs": [],
   "source": [
    "# nx.draw(pangraph.contig_graph)"
   ]
  },
  {
   "cell_type": "code",
   "execution_count": 188,
   "id": "4b7704c3-3a36-419c-8810-011e59ee3634",
   "metadata": {},
   "outputs": [],
   "source": [
    "# pangraph.contig_graph.nodes"
   ]
  },
  {
   "cell_type": "code",
   "execution_count": 189,
   "id": "8637c1ad-a280-4c60-a139-4db1d1c2ff7e",
   "metadata": {},
   "outputs": [],
   "source": [
    "# nx.write_gml(pangraph.contig_graph,'contig_gr.gml')"
   ]
  }
 ],
 "metadata": {
  "kernelspec": {
   "display_name": "Environment (panta)",
   "language": "python",
   "name": "panta"
  },
  "language_info": {
   "codemirror_mode": {
    "name": "ipython",
    "version": 3
   },
   "file_extension": ".py",
   "mimetype": "text/x-python",
   "name": "python",
   "nbconvert_exporter": "python",
   "pygments_lexer": "ipython3",
   "version": "3.7.10"
  }
 },
 "nbformat": 4,
 "nbformat_minor": 5
}
