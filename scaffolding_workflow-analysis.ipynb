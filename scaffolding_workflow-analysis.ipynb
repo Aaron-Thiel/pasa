{
 "cells": [
  {
   "cell_type": "code",
   "execution_count": 1,
   "id": "792bcd93-b1d2-4cda-b3d6-84b03df9edc2",
   "metadata": {},
   "outputs": [],
   "source": [
    "import os\n",
    "import traceback\n",
    "import logging\n",
    "import os.path\n",
    "import networkx as nx\n",
    "import pandas as pd\n",
    "import numpy as np\n",
    "import pylab as pl\n",
    "from matplotlib import collections  as mc\n",
    "import glob"
   ]
  },
  {
   "cell_type": "code",
   "execution_count": 2,
   "id": "5ce0f9f4-a9a7-4e49-af28-991fd29735b9",
   "metadata": {},
   "outputs": [],
   "source": [
    "# simversion = '_v01'\n",
    "simversion = '_plasmid_v01'\n",
    "# simversion = '_plasmid_v02'\n",
    "# simversion = '_plasmid_v03'\n",
    "# simversion = '_plasmid_v04'\n",
    "# 1 True, 0 False\n",
    "prepare_database_4_multicsar = 0\n",
    "run_art = 0 \n",
    "run_spades = 0\n",
    "run_panta = 0\n",
    "split_paralogs = 1\n",
    "run_multicsar = 0\n",
    "run_ragout = 0\n",
    "run_pangraph = 1\n",
    "# pangenome_data = '/data/hoan/amromics/data/ncbi/Kp100random/' # for pangraph, Ragout, multi-CSAR #v3\n",
    "pangenome_data = '/data/hoan/amromics/data/ncbi/Ecoli50random/'\n",
    "# pangenome_data = '/data/hoan/amromics/data/ncbi/Kptest/' # for pangraph, Ragout, multi-CSAR\n",
    "scaffold_out_dir = '/data/hoan/amromics/genome-graph/scaffold_output/'"
   ]
  },
  {
   "cell_type": "code",
   "execution_count": 3,
   "id": "f096292d-0f0d-483d-b534-c5ebd59b13b3",
   "metadata": {},
   "outputs": [],
   "source": [
    "if prepare_database_4_multicsar==1:\n",
    "    os.system('rm -r ' + pangenome_data + 'fna/')\n",
    "    os.system('mkdir ' + pangenome_data + 'fna/')\n",
    "    os.system('cp -r '+ pangenome_data + '*.fna.gz '+ pangenome_data + 'fna/')\n",
    "    os.system('~/miniconda3/envs/panta/bin/gzip -d ' + pangenome_data + 'fna/*.fna.gz')"
   ]
  },
  {
   "cell_type": "markdown",
   "id": "ea10ac98-91ce-4d6c-a61c-9c6e754e5935",
   "metadata": {},
   "source": [
    "### Simulate reads using ART"
   ]
  },
  {
   "cell_type": "code",
   "execution_count": 4,
   "id": "706c8a73-380f-4073-b6f3-72908b943544",
   "metadata": {},
   "outputs": [],
   "source": [
    "# https://github.com/scchess/Art/blob/master/art_illumina_README"
   ]
  },
  {
   "cell_type": "code",
   "execution_count": 5,
   "id": "b5c4219e-b96b-4e69-9545-8c8e1e67de28",
   "metadata": {},
   "outputs": [],
   "source": [
    "sim_dir = '/data/hoan/amromics/simulation/'\n",
    "art_bin = '/data/hoan/amromics/simulation/art_bin/./art_illumina'"
   ]
  },
  {
   "cell_type": "code",
   "execution_count": 6,
   "id": "f49f0939-0560-4507-b1a0-0c29e83e11da",
   "metadata": {},
   "outputs": [],
   "source": [
    "# ref_data = '/data/hoan/amromics/simulation/references/GCF_000240185.1_ASM24018v2_genomic.fasta'\n",
    "# ref_data = '/data/hoan/amromics/simulation/references/GCF_000240185.1_ASM24018v2_genomic.fna'\n",
    "ref_data = '/data/hoan/amromics/data/ncbi/Ecolitest/GCF_002860105.1_ASM286010v1_genomic.fna'\n",
    "# ref_data = '/data/hoan/amromics/data/ncbi/Ecolitest/GCF_002899495.1_ASM289949v1_genomic.fna'\n",
    "# ref_data = '/data/hoan/amromics/data/ncbi/Ecolitest/GCF_004135915.1_ASM413591v1_genomic.fna'\n",
    "sim_name = ref_data.split(\"/\")[-2] + '_' + ref_data.split(\"/\")[-1][:-1][:13]\n",
    "sim_output = '/data/hoan/amromics/simulation/art_output/sim_reads_' + sim_name + simversion[-4:]\n",
    "# sim_output = '/data/hoan/amromics/simulation/art_output/paired_dat_test'"
   ]
  },
  {
   "cell_type": "code",
   "execution_count": 7,
   "id": "c802e106-3a8e-48ee-9319-e24c5d347ae2",
   "metadata": {},
   "outputs": [
    {
     "data": {
      "text/plain": [
       "'/data/hoan/amromics/simulation/art_output/sim_reads_Ecolitest_GCF_002860105_v01'"
      ]
     },
     "execution_count": 7,
     "metadata": {},
     "output_type": "execute_result"
    }
   ],
   "source": [
    "sim_output"
   ]
  },
  {
   "cell_type": "code",
   "execution_count": 8,
   "id": "05d8c28d-f058-4e33-a89f-9d54860bf706",
   "metadata": {},
   "outputs": [],
   "source": [
    "if run_art: \n",
    "    if simversion[-3:]=='v01':\n",
    "        os.system(art_bin+' -ss HS20 -sam -i '+ref_data+' -p -l 100 -f 70 -m 400 -s 60 -o '+sim_output) # _v01\n",
    "    if simversion[-3:]=='v02':\n",
    "        os.system(art_bin+' -ss HS20 -sam -i '+ref_data+' -p -l 100 -f 70 -m 400 -s 10 -o '+sim_output) # _v02\n",
    "    if simversion[-3:]=='v03':\n",
    "        os.system(art_bin+' -ss MSv3 -sam -i '+ref_data+' -p -l 250 -f 70 -m 400 -s 60 -o '+sim_output) # _v03\n",
    "    if simversion[-3:]=='v04':\n",
    "        os.system(art_bin+' -ss MSv3 -sam -i '+ref_data+' -p -l 250 -f 70 -m 400 -s 10 -o '+sim_output) # _v04"
   ]
  },
  {
   "cell_type": "markdown",
   "id": "87fd93fb-e2d0-4f37-92b0-7f39bf9e37c5",
   "metadata": {},
   "source": [
    "### Run SPADES assembly"
   ]
  },
  {
   "cell_type": "code",
   "execution_count": 9,
   "id": "9a8c3d4c-9b2a-484c-a1c8-60acf3e64766",
   "metadata": {},
   "outputs": [
    {
     "data": {
      "text/plain": [
       "'/data/hoan/amromics/simulation/art_output/spades_output_Ecolitest_GCF_002860105_v01'"
      ]
     },
     "execution_count": 9,
     "metadata": {},
     "output_type": "execute_result"
    }
   ],
   "source": [
    "spades_output = '/data/hoan/amromics/simulation/art_output/' + 'spades_output_' + sim_name + simversion[-4:]\n",
    "spades_output"
   ]
  },
  {
   "cell_type": "code",
   "execution_count": 10,
   "id": "3ee3e8cf-e24e-4cc7-8f5f-0e6c985389e6",
   "metadata": {},
   "outputs": [],
   "source": [
    "if run_spades:\n",
    "    spades_bin ='~/miniconda3/envs/amromics/bin/spades.py'\n",
    "    os.system(spades_bin+' --isolate -1 '+sim_output+'1.fq -2 '+sim_output+'2.fq -t 50 -o '+spades_output)"
   ]
  },
  {
   "cell_type": "markdown",
   "id": "810a07c5-1c26-4c6f-9f60-bcf6aae01147",
   "metadata": {},
   "source": [
    "### Run panta"
   ]
  },
  {
   "cell_type": "code",
   "execution_count": 11,
   "id": "97033d06-5c90-4760-a312-d6c129cf00d0",
   "metadata": {},
   "outputs": [
    {
     "data": {
      "text/plain": [
       "'_Ecoli50random_Ecolitest_GCF_002860105_plasmid_v01'"
      ]
     },
     "execution_count": 11,
     "metadata": {},
     "output_type": "execute_result"
    }
   ],
   "source": [
    "simversionRef = '_'+ pangenome_data.split('/')[-2] +'_'+ sim_name + simversion\n",
    "simversionRef"
   ]
  },
  {
   "cell_type": "code",
   "execution_count": 12,
   "id": "4b3b2a6c-1f8a-4c93-9687-f518ba5b67d5",
   "metadata": {},
   "outputs": [
    {
     "name": "stdout",
     "output_type": "stream",
     "text": [
      "Pangenome data:  /data/hoan/amromics/data/ncbi/Ecoli50random/\n"
     ]
    }
   ],
   "source": [
    "# move spades ouput to panta dir\n",
    "print('Pangenome data: ', pangenome_data)\n",
    "if run_panta:\n",
    "    os.system('cp '+spades_output+'/contigs.fasta ' + pangenome_data + 'g1.fna')\n",
    "    os.system('rm ' + pangenome_data + 'g1.fna.gz')\n",
    "    os.system('~/miniconda3/envs/panta/bin/gzip -k ' + pangenome_data + 'g1.fna')"
   ]
  },
  {
   "cell_type": "code",
   "execution_count": 13,
   "id": "f72bb6fe-06fb-4092-9b7c-ce88279b26f8",
   "metadata": {},
   "outputs": [
    {
     "name": "stdout",
     "output_type": "stream",
     "text": [
      "PANTA OUTPUT:  /data/hoan/amromics/panta/examples/test/pantaOut_Ecoli50random_Ecolitest_GCF_002860105_plasmid_v01\n"
     ]
    }
   ],
   "source": [
    "# Run panta (change output dir)\n",
    "# https://askubuntu.com/questions/1252439/not-able-to-activate-conda-environment-through-os-system-command-in-python\n",
    "conda_dir = 'source ~/miniconda3/etc/profile.d/conda.sh && conda activate panta && '\n",
    "panta_bin =conda_dir+'python /data/hoan/amromics/panta/panta.py'\n",
    "panta_output = '/data/hoan/amromics/panta/examples/test/pantaOut' + simversionRef\n",
    "# panta_output = '/data/hoan/amromics/panta/examples/test/output_Kp100' \n",
    "if split_paralogs == 0:\n",
    "    panta_output = panta_output + '_nosplit'\n",
    "print('PANTA OUTPUT: ', panta_output)\n",
    "if run_panta:\n",
    "    if split_paralogs:\n",
    "        cmd_panta = panta_bin + ' -p init -a ' +pangenome_data+ '*.fna.gz -o '+panta_output +' -as -s -i 85 -c 20 -e 0.01'\n",
    "    else:\n",
    "        print(\"No split ortholog\")\n",
    "        cmd_panta = panta_bin + ' -p init -a ' +pangenome_data+ '*.fna.gz -o '+panta_output +' -as'\n",
    "    os.system(cmd_panta)"
   ]
  },
  {
   "cell_type": "markdown",
   "id": "00da366b-5605-4068-ac1d-9dd1162f316e",
   "metadata": {},
   "source": [
    "### Run pangraph"
   ]
  },
  {
   "cell_type": "code",
   "execution_count": 66,
   "id": "5ade0fe7-9980-4e5f-b93b-c3faef84950e",
   "metadata": {},
   "outputs": [
    {
     "name": "stdout",
     "output_type": "stream",
     "text": [
      "The autoreload extension is already loaded. To reload it, use:\n",
      "  %reload_ext autoreload\n"
     ]
    }
   ],
   "source": [
    "try:\n",
    "    %load_ext autoreload\n",
    "    %autoreload 2\n",
    "except Exception as e:\n",
    "    logging.error(traceback.format_exc())\n",
    "from pangraph import PanGraph"
   ]
  },
  {
   "cell_type": "code",
   "execution_count": 67,
   "id": "d1862260-72f1-4641-b810-94b4123a86ac",
   "metadata": {},
   "outputs": [],
   "source": [
    "# set parameters\n",
    "data_dir = panta_output \n",
    "incomplete_sample_name = 'g1'\n",
    "assem_dir = spades_output\n",
    "fasta_gen = 'partial' # 'all', 'partial'"
   ]
  },
  {
   "cell_type": "code",
   "execution_count": 68,
   "id": "dfd3bc62-c654-4354-96c9-67a9bbfa0b5e",
   "metadata": {},
   "outputs": [],
   "source": [
    "pangraph_output_greedy = scaffold_out_dir + 'pangraph_greedy'+ simversionRef + '.fasta'\n",
    "pangraph_output_opt = scaffold_out_dir + 'pangraph_opt'+ simversionRef + '.fasta'"
   ]
  },
  {
   "cell_type": "code",
   "execution_count": 69,
   "id": "ac2c9bb8-2ddb-43cd-a9a7-1651ff101500",
   "metadata": {},
   "outputs": [
    {
     "data": {
      "text/plain": [
       "'/data/hoan/amromics/genome-graph/scaffold_output/pangraph_opt_Ecoli50random_Ecolitest_GCF_002860105_plasmid_v01.fasta'"
      ]
     },
     "execution_count": 69,
     "metadata": {},
     "output_type": "execute_result"
    }
   ],
   "source": [
    "pangraph_output_opt"
   ]
  },
  {
   "cell_type": "code",
   "execution_count": 70,
   "id": "dc5c2923-ffaa-4e61-bbd9-999e3e6e1b03",
   "metadata": {},
   "outputs": [
    {
     "name": "stdout",
     "output_type": "stream",
     "text": [
      "Should we use target sequence as reference, hence, the strand will be ok\n",
      "Set minimum on number of nucleotides =  10 NUMBER OF COMPUTED CONTIGS: 261\n",
      "Clip the matrix 0.2 !!!!!!!!!!!!!!!!!!!!!!!!!!!!!!!!!!\n",
      "Use modified  assembly graph\n",
      "Use union graph: overlap + assembly\n",
      "Reduce the cost by 1/2 if there is no path in the assembly graph\n",
      "Reduce the cost by 1/2 if there is no path in the assembly graph\n",
      "Will test this, Ok?\n",
      "Success! File written\n"
     ]
    }
   ],
   "source": [
    "if run_pangraph:\n",
    "    # https://stackoverflow.com/questions/4990718/how-can-i-write-a-try-except-block-that-catches-all-exceptions\n",
    "    pangraph = PanGraph(sample_info=None, gene_info=None, gene_position=None)\n",
    "    try:\n",
    "        maximum_matching = 'greedy'\n",
    "        pangraph.run_pangraph_pipeline(data_dir, incomplete_sample_name, assem_dir, fasta_gen, pangraph_output_greedy, maximum_matching)\n",
    "    except Exception as e:\n",
    "        logging.error(traceback.format_exc())\n",
    "        # Logs the error appropriately. "
   ]
  },
  {
   "cell_type": "code",
   "execution_count": 71,
   "id": "f8418755-06c7-41c4-8349-884718e93900",
   "metadata": {},
   "outputs": [
    {
     "name": "stdout",
     "output_type": "stream",
     "text": [
      "Reduce the cost by 1/2 if there is no path in the assembly graph\n",
      "Reduce the cost by 1/2 if there is no path in the assembly graph\n",
      "Compute maximum matching\n",
      "Will test this, Ok?\n",
      "Success! File written\n"
     ]
    }
   ],
   "source": [
    "if run_pangraph:\n",
    "    try:\n",
    "        maximum_matching = 'opt'\n",
    "        pangraph.RERUN_pangraph_pipeline(data_dir, incomplete_sample_name, assem_dir, fasta_gen, pangraph_output_opt, maximum_matching)\n",
    "    except Exception as e:\n",
    "        logging.error(traceback.format_exc())\n",
    "        # Logs the error appropriately. "
   ]
  },
  {
   "cell_type": "code",
   "execution_count": 72,
   "id": "9088612c-e3c6-4d7c-a7e7-9d583c3af177",
   "metadata": {},
   "outputs": [],
   "source": [
    "# try:\n",
    "#     maximum_matching = 'greedy'\n",
    "#     pangraph_output_greedy = spades_output + '/contigs_concat_'+ maximum_matching+ simversionRef + '.fasta'\n",
    "#     pangraph.RERUN_pangraph_pipeline(data_dir, incomplete_sample_name, assem_dir, fasta_gen, pangraph_output_opt, maximum_matching)\n",
    "# except Exception as e:\n",
    "#     logging.error(traceback.format_exc())\n",
    "#     # Logs the error appropriately. "
   ]
  },
  {
   "cell_type": "markdown",
   "id": "a21d3a7c-fc03-4c81-9957-93d225838fe5",
   "metadata": {},
   "source": [
    "### Run scaffold methods"
   ]
  },
  {
   "cell_type": "code",
   "execution_count": 73,
   "id": "3d4dd495-be29-4b69-81f6-a03f1027725e",
   "metadata": {},
   "outputs": [],
   "source": [
    "### Multi-CSAR\n",
    "conda_dir = 'source ~/miniconda3/etc/profile.d/conda.sh && conda activate py27 && '\n",
    "csar_bin = conda_dir + '/data/hoan/amromics/assembly/Multi-CSAR/./multi-csar.php'"
   ]
  },
  {
   "cell_type": "code",
   "execution_count": 74,
   "id": "571a94e7-92e9-49e8-87ca-7ddff8c08908",
   "metadata": {},
   "outputs": [],
   "source": [
    "multicsar_output = scaffold_out_dir + 'multicsar/multicsar' + simversionRef\n",
    "if run_multicsar:\n",
    "    os.system('rm ' + pangenome_data + 'fna/g1*')\n",
    "    os.system(csar_bin +' -t '+pangenome_data+'g1.fna -r '+pangenome_data+'fna/ --nuc -o '+multicsar_output)\n",
    "    # os.system(csar_bin +' -t '+pangenome_data+'g1.fna -r '+pangenome_data+'*.fna --nuc -o '+multicsar_output)"
   ]
  },
  {
   "cell_type": "code",
   "execution_count": 75,
   "id": "b36507eb-e063-4b98-b9b8-94f989d64252",
   "metadata": {},
   "outputs": [
    {
     "data": {
      "text/plain": [
       "'/data/hoan/amromics/genome-graph/scaffold_output/multicsar/multicsar_Ecoli50random_Ecolitest_GCF_002860105_plasmid_v01'"
      ]
     },
     "execution_count": 75,
     "metadata": {},
     "output_type": "execute_result"
    }
   ],
   "source": [
    "multicsar_output"
   ]
  },
  {
   "cell_type": "code",
   "execution_count": 76,
   "id": "1b914df9-78d2-4d3d-842f-e22ecb65fc4c",
   "metadata": {},
   "outputs": [],
   "source": [
    "### Ragout\n",
    "ragout_bin = 'source ~/miniconda3/etc/profile.d/conda.sh && conda activate py27 && ragout '\n",
    "ragout_output = scaffold_out_dir + 'multicsar/ragout' + simversionRef\n",
    "if run_ragout:\n",
    "    # write receipt file\n",
    "    ref_files_list = glob.glob(pangenome_data+'fna/*')\n",
    "    n_files = len(ref_files_list)\n",
    "    receipt_file_dir = '/data/hoan/amromics/assembly/Ragout/kp100'+simversionRef+'.rcp'\n",
    "    f = open(receipt_file_dir, \"w\")\n",
    "    f.write('.references = ')\n",
    "    for idx in range(n_files-1):\n",
    "        f.write('r' + str(idx) + ',')\n",
    "    f.write('r'+str(n_files-1)+'\\n')\n",
    "    f.write(\".target = mg1655\\n\\n\")\n",
    "    for idx in range(n_files):\n",
    "        f.write('r'+str(idx)+'.fasta =' + ref_files_list[idx] + '\\n')\n",
    "    f.write('mg1655.fasta = ' + spades_output+'/contigs.fasta\\n')\n",
    "    f.close()"
   ]
  },
  {
   "cell_type": "code",
   "execution_count": 77,
   "id": "c420de89-d23f-45ef-bb74-f47a5abcf988",
   "metadata": {},
   "outputs": [],
   "source": [
    "if run_ragout:\n",
    "    os.system(ragout_bin + receipt_file_dir + ' --outdir ' + ragout_output + ' --refine')\n",
    "    # ragout kp100_v2.rcp --outdir output_Kp100p_v2/ --refine"
   ]
  },
  {
   "cell_type": "code",
   "execution_count": 78,
   "id": "ca6e60d4-4815-48a0-9f87-5be961567050",
   "metadata": {},
   "outputs": [
    {
     "name": "stdout",
     "output_type": "stream",
     "text": [
      "/data/hoan/amromics/genome-graph/scaffold_output/multicsar/ragout_Ecoli50random_Ecolitest_GCF_002860105_plasmid_v01\n"
     ]
    }
   ],
   "source": [
    "print(ragout_output)"
   ]
  },
  {
   "cell_type": "markdown",
   "id": "f2188478-51fd-4f84-b640-6a9e96127648",
   "metadata": {},
   "source": [
    "### Quast "
   ]
  },
  {
   "cell_type": "code",
   "execution_count": 79,
   "id": "6cb3eaf5-604c-4dca-a28f-2140bb28534f",
   "metadata": {},
   "outputs": [
    {
     "data": {
      "text/plain": [
       "'/data/hoan/amromics/genome-graph/scaffold_output/quastResults_Ecoli50random_Ecolitest_GCF_002860105_plasmid_v01'"
      ]
     },
     "execution_count": 79,
     "metadata": {},
     "output_type": "execute_result"
    }
   ],
   "source": [
    "quast_output = '/data/hoan/amromics/genome-graph/scaffold_output/quastResults' + simversionRef\n",
    "quast_output"
   ]
  },
  {
   "cell_type": "code",
   "execution_count": 80,
   "id": "24b358d7-6607-4228-87bb-b30b626ba330",
   "metadata": {},
   "outputs": [
    {
     "name": "stdout",
     "output_type": "stream",
     "text": [
      "/data/hoan/amromics/spades_quast/quast-5.2.0/quast.py /data/hoan/amromics/genome-graph/scaffold_output/pangraph_opt_Ecoli50random_Ecolitest_GCF_002860105_plasmid_v01.fasta /data/hoan/amromics/genome-graph/scaffold_output/pangraph_greedy_Ecoli50random_Ecolitest_GCF_002860105_plasmid_v01.fasta /data/hoan/amromics/genome-graph/scaffold_output/multicsar/multicsar_Ecoli50random_Ecolitest_GCF_002860105_plasmid_v01/multi-csar.nuc.out.fna /data/hoan/amromics/simulation/art_output/spades_output_Ecolitest_GCF_002860105_v01/contigs.fasta -l Pangraph_OPT, Pangraph_Greedy, Multi-CSAR, SPADES -r /data/hoan/amromics/data/ncbi/Ecolitest/GCF_002860105.1_ASM286010v1_genomic.fna -o /data/hoan/amromics/genome-graph/scaffold_output/quastResults_Ecoli50random_Ecolitest_GCF_002860105_plasmid_v01 --silent --extensive-mis-size 5000 --local-mis-size 3000\n",
      "\n",
      "\n",
      "System information:\n",
      "  OS: Linux-3.10.0-1160.15.2.el7.x86_64-x86_64-with-redhat-7.9-Nitrogen (linux_64)\n",
      "  Python version: 2.7.5\n",
      "  CPUs number: 72\n",
      "\n",
      "Started: 2023-01-11 04:33:54\n",
      "\n",
      "Logging to /data/hoan/amromics/genome-graph/scaffold_output/quastResults_Ecoli50random_Ecolitest_GCF_002860105_plasmid_v01/quast.log\n",
      "NOTICE: Output directory already exists and looks like a QUAST output dir. Existing results can be reused (e.g. previously generated alignments)!\n",
      "NOTICE: Maximum number of threads is set to 18 (use --threads option to set it manually)\n",
      "\n",
      "CWD: /data/hoan/amromics/genome-graph\n",
      "Main parameters: \n",
      "  MODE: default, threads: 18, min contig length: 500, min alignment length: 65, min alignment IDY: 95.0, \\\n",
      "  ambiguity: one, min local misassembly length: 3000, min extensive misassembly length: 5000\n",
      "\n",
      "Reference:\n",
      "  /data/hoan/amromics/data/ncbi/Ecolitest/GCF_002860105.1_ASM286010v1_genomic.fna ==> GCF_002860105.1_ASM286010v1_genomic\n",
      "\n",
      "Contigs:\n",
      "  Pre-processing...\n",
      "  1  /data/hoan/amromics/genome-graph/scaffold_output/pangraph_opt_Ecoli50random_Ecolitest_GCF_002860105_plasmid_v01.fasta ==> Pangraph_OPT\n",
      "  2  /data/hoan/amromics/genome-graph/scaffold_output/pangraph_greedy_Ecoli50random_Ecolitest_GCF_002860105_plasmid_v01.fasta ==> Pangraph_Greedy\n",
      "  3  /data/hoan/amromics/genome-graph/scaffold_output/multicsar/multicsar_Ecoli50random_Ecolitest_GCF_002860105_plasmid_v01/multi-csar.nuc.out.fna ==> Multi-CSAR\n",
      "  4  /data/hoan/amromics/simulation/art_output/spades_output_Ecolitest_GCF_002860105_v01/contigs.fasta ==> SPADES\n",
      "\n",
      "2023-01-11 04:33:54\n",
      "Running Basic statistics processor...\n"
     ]
    },
    {
     "name": "stderr",
     "output_type": "stream",
     "text": [
      "Unable to parse the pattern\n",
      "Unable to parse the pattern\n",
      "Unable to parse the pattern\n"
     ]
    },
    {
     "name": "stdout",
     "output_type": "stream",
     "text": [
      "Done.\n",
      "\n",
      "2023-01-11 04:33:58\n",
      "Running Contig analyzer...\n",
      "Done.\n",
      "\n",
      "2023-01-11 04:34:01\n",
      "Running NA-NGA calculation...\n",
      "Done.\n",
      "\n",
      "2023-01-11 04:34:02\n",
      "Running Genome analyzer...\n",
      "  NOTICE: No file with genomic features were provided. Use the --features option if you want to specify it.\n",
      "\n",
      "  NOTICE: No file with operons were provided. Use the -O option if you want to specify it.\n",
      "Done.\n",
      "\n",
      "NOTICE: Genes are not predicted by default. Use --gene-finding or --glimmer option to enable it.\n",
      "\n",
      "2023-01-11 04:34:04\n",
      "Creating large visual summaries...\n",
      "This may take a while: press Ctrl-C to skip this step..\n",
      "  1 of 2: Creating PDF with all tables and plots...\n",
      "  2 of 2: Creating Icarus viewers...\n",
      "Done\n",
      "\n",
      "2023-01-11 04:34:06\n",
      "RESULTS:\n",
      "  Text versions of total report are saved to /data/hoan/amromics/genome-graph/scaffold_output/quastResults_Ecoli50random_Ecolitest_GCF_002860105_plasmid_v01/report.txt, report.tsv, and report.tex\n",
      "  Text versions of transposed total report are saved to /data/hoan/amromics/genome-graph/scaffold_output/quastResults_Ecoli50random_Ecolitest_GCF_002860105_plasmid_v01/transposed_report.txt, transposed_report.tsv, and transposed_report.tex\n",
      "  PDF version (tables and plots) is saved to /data/hoan/amromics/genome-graph/scaffold_output/quastResults_Ecoli50random_Ecolitest_GCF_002860105_plasmid_v01/report.pdf\n",
      "  Icarus (contig browser) is saved to /data/hoan/amromics/genome-graph/scaffold_output/quastResults_Ecoli50random_Ecolitest_GCF_002860105_plasmid_v01/icarus.html\n",
      "  Log is saved to /data/hoan/amromics/genome-graph/scaffold_output/quastResults_Ecoli50random_Ecolitest_GCF_002860105_plasmid_v01/quast.log\n",
      "\n",
      "Finished: 2023-01-11 04:34:06\n",
      "Elapsed time: 0:00:12.542612\n",
      "NOTICEs: 5; WARNINGs: 0; non-fatal ERRORs: 0\n",
      "\n",
      "Thank you for using QUAST!\n"
     ]
    }
   ],
   "source": [
    "quast_bin = 'python /data/hoan/amromics/spades_quast/quast-5.2.0/quast.py '\n",
    "spades_output_fasta = spades_output+'/contigs.fasta'\n",
    "multicsar_output_fasta = multicsar_output +'/multi-csar.nuc.out.fna'\n",
    "ragout_output_fasta = ragout_output + '/mg1655_scaffolds.fasta'\n",
    "if 1:\n",
    "    if os.path.isfile(ragout_output_fasta):\n",
    "        os.system(quast_bin + pangraph_output_opt+' '+ pangraph_output_greedy+' '+ multicsar_output_fasta+' '+ragout_output_fasta+' '+spades_output_fasta+' '+\n",
    "        '-l \"Pangraph_OPT, Pangraph_Greedy, Multi-CSAR, Ragout, SPADES\" '+ '-r '+ref_data+' -o '+ quast_output+' --silent --extensive-mis-size 5000 --local-mis-size 3000')\n",
    "    else:\n",
    "        os.system(quast_bin + pangraph_output_opt+' '+ pangraph_output_greedy+' '+ multicsar_output_fasta+' '+spades_output_fasta+' '+\n",
    "        '-l \"Pangraph_OPT, Pangraph_Greedy, Multi-CSAR, SPADES\" '+ '-r '+ref_data+' -o '+ quast_output+' --silent --extensive-mis-size 5000 --local-mis-size 3000')"
   ]
  },
  {
   "cell_type": "code",
   "execution_count": 81,
   "id": "2606af56-13c9-40b1-883c-8b3857d3202f",
   "metadata": {},
   "outputs": [],
   "source": [
    "# # pangraph.H[\"weight\"][0:4]\n",
    "# iteration = 0\n",
    "# for u,v,a in pangraph.H.edges(data=True):\n",
    "#     print(a)\n",
    "#     iteration += 1\n",
    "#     if iteration > 10:\n",
    "#         break;"
   ]
  },
  {
   "cell_type": "code",
   "execution_count": 82,
   "id": "ee493830-bdb8-46a5-83ba-4ec408f1fd07",
   "metadata": {},
   "outputs": [],
   "source": [
    "# nx.write_gml(pangraph.assembly_graph, quast_output+'/assembly_graph.gml')"
   ]
  },
  {
   "cell_type": "code",
   "execution_count": 83,
   "id": "eb32a794-a0be-4756-9867-5ff8a178f4d4",
   "metadata": {},
   "outputs": [
    {
     "data": {
      "text/plain": [
       "3360"
      ]
     },
     "execution_count": 83,
     "metadata": {},
     "output_type": "execute_result"
    }
   ],
   "source": [
    "pangraph.assembly_graph.number_of_edges()"
   ]
  },
  {
   "cell_type": "code",
   "execution_count": 84,
   "id": "701f03d1-9ab2-4b2e-864a-272fdda10346",
   "metadata": {},
   "outputs": [
    {
     "data": {
      "text/plain": [
       "1"
      ]
     },
     "execution_count": 84,
     "metadata": {},
     "output_type": "execute_result"
    }
   ],
   "source": [
    "len(list(nx.weakly_connected_components(pangraph.assembly_graph)))"
   ]
  },
  {
   "cell_type": "code",
   "execution_count": 85,
   "id": "318736c1-6cf1-4d1f-becb-46d56a248336",
   "metadata": {},
   "outputs": [],
   "source": [
    "# pangraph.weighted_CG.nodes()"
   ]
  },
  {
   "cell_type": "code",
   "execution_count": 86,
   "id": "7c8f48ee-1162-4652-a4fb-fba44b9ddaaf",
   "metadata": {},
   "outputs": [
    {
     "data": {
      "text/plain": [
       "245395"
      ]
     },
     "execution_count": 86,
     "metadata": {},
     "output_type": "execute_result"
    }
   ],
   "source": [
    "len(list(nx.weakly_connected_components(pangraph.H)))"
   ]
  },
  {
   "cell_type": "code",
   "execution_count": 87,
   "id": "cad64bbb-999e-4fa4-a421-73c20274d6bd",
   "metadata": {},
   "outputs": [
    {
     "data": {
      "text/plain": [
       "(250067, 4878)"
      ]
     },
     "execution_count": 87,
     "metadata": {},
     "output_type": "execute_result"
    }
   ],
   "source": [
    "pangraph.H.number_of_nodes(), pangraph.H.number_of_edges()"
   ]
  },
  {
   "cell_type": "code",
   "execution_count": 88,
   "id": "0fe38f01-e457-42dc-b477-cba37bd35849",
   "metadata": {},
   "outputs": [
    {
     "data": {
      "text/plain": [
       "'/data/hoan/amromics/data/ncbi/Ecolitest/GCF_002860105.1_ASM286010v1_genomic.fna'"
      ]
     },
     "execution_count": 88,
     "metadata": {},
     "output_type": "execute_result"
    }
   ],
   "source": [
    "ref_data"
   ]
  },
  {
   "cell_type": "markdown",
   "id": "92fe66ed-e316-41ae-a09c-ae1351304c69",
   "metadata": {},
   "source": [
    "## Analysis"
   ]
  },
  {
   "cell_type": "code",
   "execution_count": 89,
   "id": "d1b43cf8-8b32-41b6-b371-ee7454278384",
   "metadata": {},
   "outputs": [],
   "source": [
    "# minimap2 /data/hoan/amromics/data/ncbi/Ecolitest/GCF_002860105.1_ASM286010v1_genomic.fna /data/hoan/amromics/genome-graph/scaffold_output/pangraph_opt_Ecoli100random_Ecoli_plasmid_v01.fasta > contigs100vsref_mapping_v01a.paf\n",
    "cmd_minimap = '~/miniconda3/envs/amromics/bin/minimap2 '+ref_data +' '+ spades_output +'/contigs.fasta' +' > scaffold_output/minimap_out/mapping.paf' "
   ]
  },
  {
   "cell_type": "code",
   "execution_count": 90,
   "id": "712adc28-a267-489d-a85a-9dc6c5cf8f41",
   "metadata": {},
   "outputs": [
    {
     "name": "stderr",
     "output_type": "stream",
     "text": [
      "[M::mm_idx_gen::0.201*1.01] collected minimizers\n",
      "[M::mm_idx_gen::0.259*1.45] sorted minimizers\n",
      "[M::main::0.259*1.45] loaded/built the index for 6 target sequence(s)\n",
      "[M::mm_mapopt_update::0.291*1.41] mid_occ = 16\n",
      "[M::mm_idx_stat] kmer size: 15; skip: 10; is_hpc: 0; #seq: 6\n",
      "[M::mm_idx_stat::0.311*1.38] distinct minimizers: 940802 (97.51% are singletons); average occurrences: 1.044; average spacing: 5.351; total length: 5256088\n",
      "[M::worker_pipeline::0.859*2.34] mapped 421 sequences\n",
      "[M::main] Version: 2.24-r1122\n",
      "[M::main] CMD: /home/vanhoan310/miniconda3/envs/amromics/bin/minimap2 /data/hoan/amromics/data/ncbi/Ecolitest/GCF_002860105.1_ASM286010v1_genomic.fna /data/hoan/amromics/simulation/art_output/spades_output_Ecolitest_GCF_002860105_v01/contigs.fasta\n",
      "[M::main] Real time: 0.873 sec; CPU: 2.027 sec; Peak RSS: 0.083 GB\n"
     ]
    }
   ],
   "source": [
    "os.system(cmd_minimap)\n",
    "df = pd.read_csv(\"scaffold_output/minimap_out/mapping.paf\", sep =\"\\t\", header=None)"
   ]
  },
  {
   "cell_type": "code",
   "execution_count": 91,
   "id": "3e6e9924-5b7b-4c6c-aff8-14707e2aba01",
   "metadata": {},
   "outputs": [],
   "source": [
    "final_df = df.loc[df[5] == 'NZ_CP019071.1']\n",
    "final_df = final_df.sort_values(by=[7])"
   ]
  },
  {
   "cell_type": "code",
   "execution_count": 92,
   "id": "d6b53cd1-219a-478a-9d41-422cd3cb3fc3",
   "metadata": {},
   "outputs": [],
   "source": [
    "# df"
   ]
  },
  {
   "cell_type": "code",
   "execution_count": 93,
   "id": "dfd239fd-3148-45da-be87-1365014dc54b",
   "metadata": {},
   "outputs": [],
   "source": [
    "target_id = 0\n",
    "gene_position = pd.read_csv(panta_output + '/gene_position.tsv', delimiter='\\t', header=None)\n",
    "gene_position.columns =['SampleID', 'ContigName', 'GeneSequence']\n",
    "target_contigs = [gene_position.iloc[i, 1] for i in range(len(gene_position.index)) if gene_position.iloc[i, 0]==target_id]"
   ]
  },
  {
   "cell_type": "code",
   "execution_count": 94,
   "id": "372759b9-1e39-4aab-9e8e-35b042deb362",
   "metadata": {},
   "outputs": [],
   "source": [
    "target_contigs_list = [final_df.iloc[i, 0] for i in range(len(final_df.index)) if final_df.iloc[i, 0] in target_contigs]\n",
    "target_contigs_sorted = [final_df.iloc[i, 0]+'---'+str(final_df.iloc[i, 7])+'>'+str(final_df.iloc[i, 8]) for i in range(len(final_df.index)) if final_df.iloc[i, 0] in target_contigs]"
   ]
  },
  {
   "cell_type": "code",
   "execution_count": 115,
   "id": "4af81acd-8948-4474-8c4d-cca0695cc496",
   "metadata": {},
   "outputs": [],
   "source": [
    "for i in range(len(target_contigs_list)-1):\n",
    "    # print(i)\n",
    "    # print(gene_position[gene_position.ContigName==target_contigs_list[i]].iloc[0,2].split(';')[-2:], end = '->')\n",
    "    # print(gene_position[gene_position.ContigName==target_contigs_list[i+1]].iloc[0,2].split(';'))\n",
    "    if gene_position[gene_position.ContigName==target_contigs_list[i]].iloc[0,2].split(';')[-1] in gene_position[gene_position.ContigName==target_contigs_list[i+1]].iloc[0,2].split(';'):\n",
    "        print(\"Yes\")"
   ]
  },
  {
   "cell_type": "code",
   "execution_count": 95,
   "id": "25638821-8430-4632-af87-f03b06f71eac",
   "metadata": {},
   "outputs": [],
   "source": []
  },
  {
   "cell_type": "code",
   "execution_count": 95,
   "id": "e84ea2ff-286f-4a90-afc6-12295e7e49cf",
   "metadata": {},
   "outputs": [],
   "source": []
  },
  {
   "cell_type": "code",
   "execution_count": 95,
   "id": "4d77e6b7-6fe4-41e3-8fba-19c39ff014f4",
   "metadata": {},
   "outputs": [
    {
     "data": {
      "text/plain": [
       "['NODE_46_length_30478_cov_18.766164---7>30478',\n",
       " 'NODE_101_length_1318_cov_59.905780---30430>31738',\n",
       " 'NODE_42_length_35714_cov_18.958440---31691>67397',\n",
       " 'NODE_101_length_1318_cov_59.905780---67354>68662',\n",
       " 'NODE_32_length_49096_cov_18.914826---68615>117705',\n",
       " 'NODE_98_length_1442_cov_19.488104---118966>120397',\n",
       " 'NODE_95_length_1592_cov_58.378660---121316>122896',\n",
       " 'NODE_39_length_40147_cov_18.664796---124077>164215',\n",
       " 'NODE_97_length_1443_cov_56.968300---164167>165605',\n",
       " 'NODE_30_length_53138_cov_18.590415---165558>218680',\n",
       " 'NODE_41_length_39638_cov_19.015209---219812>259446',\n",
       " 'NODE_106_length_1120_cov_19.409390---260952>262061',\n",
       " 'NODE_95_length_1592_cov_58.378660---262940>264520',\n",
       " 'NODE_10_length_147945_cov_18.945473---265479>413412',\n",
       " 'NODE_38_length_41324_cov_18.707698---413882>455196',\n",
       " 'NODE_61_length_9714_cov_19.849570---460378>470090',\n",
       " 'NODE_115_length_865_cov_55.879012---470046>470901',\n",
       " 'NODE_34_length_44734_cov_18.805255---471041>515773',\n",
       " 'NODE_87_length_2272_cov_97.826793---516519>518780',\n",
       " 'NODE_21_length_82194_cov_18.745699---519254>601441',\n",
       " 'NODE_15_length_99850_cov_19.213738---602117>701950',\n",
       " 'NODE_115_length_865_cov_55.879012---702090>702945',\n",
       " 'NODE_16_length_93726_cov_19.165612---702901>796620',\n",
       " 'NODE_9_length_177154_cov_19.052705---797488>974632',\n",
       " 'NODE_84_length_2538_cov_74.520741---974586>977110',\n",
       " 'NODE_78_length_4538_cov_18.984832---977107>981642',\n",
       " 'NODE_7_length_186122_cov_18.918416---982887>1168994',\n",
       " 'NODE_26_length_64384_cov_18.832439---1169668>1234042',\n",
       " 'NODE_96_length_1463_cov_133.146307---1234417>1235867',\n",
       " 'NODE_5_length_197772_cov_18.763465---1239353>1437122',\n",
       " 'NODE_74_length_5422_cov_18.940376---1437460>1442868',\n",
       " 'NODE_1_length_393563_cov_18.802782---1443684>1837237',\n",
       " 'NODE_47_length_29840_cov_19.055229---1837904>1867731',\n",
       " 'NODE_110_length_1004_cov_20.231823---1869496>1870498',\n",
       " 'NODE_91_length_1921_cov_39.800107---1871141>1873058',\n",
       " 'NODE_84_length_2538_cov_74.520741---1873231>1875755',\n",
       " 'NODE_23_length_78457_cov_18.966455---1875752>1954203',\n",
       " 'NODE_3_length_286153_cov_18.708740---1955236>2241353',\n",
       " 'NODE_8_length_178919_cov_18.733216---2242037>2420947',\n",
       " 'NODE_36_length_42025_cov_19.439385---2420957>2462973',\n",
       " 'NODE_104_length_1129_cov_38.822160---2464259>2465370',\n",
       " 'NODE_27_length_62193_cov_18.781068---2466334>2528522',\n",
       " 'NODE_102_length_1248_cov_57.448449---2528487>2529719',\n",
       " 'NODE_14_length_106302_cov_18.687154---2529672>2635960',\n",
       " 'NODE_11_length_137715_cov_19.136757---2636636>2774341',\n",
       " 'NODE_87_length_2272_cov_97.826793---2774298>2776559',\n",
       " 'NODE_22_length_79377_cov_19.056895---2777026>2856398',\n",
       " 'NODE_31_length_49314_cov_19.055462---2857074>2906366',\n",
       " 'NODE_102_length_1248_cov_57.448449---2906340>2907572',\n",
       " 'NODE_2_length_312103_cov_18.841489---2907525>3219628',\n",
       " 'NODE_37_length_42009_cov_18.877056---3220416>3262417',\n",
       " 'NODE_80_length_3401_cov_29.315900---3264547>3267937',\n",
       " 'NODE_95_length_1592_cov_58.378660---3268788>3270368',\n",
       " 'NODE_17_length_91780_cov_18.769114---3271479>3363249',\n",
       " 'NODE_50_length_27240_cov_18.622991---3363939>3391158',\n",
       " 'NODE_141_length_351_cov_16.635135---3392403>3392744',\n",
       " 'NODE_97_length_1443_cov_56.968300---3392696>3394134',\n",
       " 'NODE_94_length_1685_cov_19.542945---3394087>3395763',\n",
       " 'NODE_90_length_2072_cov_18.323748---3396482>3398550',\n",
       " 'NODE_115_length_865_cov_55.879012---3398690>3399545',\n",
       " 'NODE_58_length_12944_cov_18.991155---3399501>3412437',\n",
       " 'NODE_29_length_57625_cov_18.984888---3413156>3470771',\n",
       " 'NODE_104_length_1129_cov_38.822160---3472057>3473168',\n",
       " 'NODE_12_length_137405_cov_18.782796---3473677>3611071',\n",
       " 'NODE_49_length_27664_cov_18.838676---3611755>3639395',\n",
       " 'NODE_51_length_17514_cov_18.602039---3639597>3657093',\n",
       " 'NODE_33_length_46779_cov_18.775576---3657317>3704079',\n",
       " 'NODE_71_length_5699_cov_21.281361---3705077>3710762',\n",
       " 'NODE_91_length_1921_cov_39.800107---3710717>3712634',\n",
       " 'NODE_57_length_13264_cov_18.653040---3714053>3727315',\n",
       " 'NODE_87_length_2272_cov_97.826793---3728061>3730322',\n",
       " 'NODE_13_length_123136_cov_19.311462---3730278>3853406',\n",
       " 'NODE_96_length_1463_cov_133.146307---3856891>3858341',\n",
       " 'NODE_4_length_210493_cov_18.979267---3858297>4068859',\n",
       " 'NODE_18_length_89080_cov_19.243190---4070103>4159176',\n",
       " 'NODE_62_length_9460_cov_18.395428---4159813>4169252',\n",
       " 'NODE_65_length_8473_cov_18.567474---4171713>4180173',\n",
       " 'NODE_87_length_2272_cov_97.826793---4180547>4182808',\n",
       " 'NODE_117_length_794_cov_18.997294---4183554>4184345',\n",
       " 'NODE_102_length_1248_cov_57.448449---4184310>4185542',\n",
       " 'NODE_60_length_9971_cov_19.079266---4185495>4195458',\n",
       " 'NODE_87_length_2272_cov_97.826793---4195415>4197676',\n",
       " 'NODE_24_length_76639_cov_18.776207---4198143>4274773',\n",
       " 'NODE_40_length_40069_cov_18.795472---4276329>4316385',\n",
       " 'NODE_6_length_190645_cov_18.815531---4316710>4507344',\n",
       " 'NODE_96_length_1463_cov_133.146307---4510766>4512216',\n",
       " 'NODE_45_length_30843_cov_18.832500---4512564>4543399',\n",
       " 'NODE_79_length_4283_cov_19.173841---4544334>4548602',\n",
       " 'NODE_96_length_1463_cov_133.146307---4552256>4553706',\n",
       " 'NODE_28_length_60907_cov_18.854582---4554111>4615012',\n",
       " 'NODE_97_length_1443_cov_56.968300---4614964>4616402',\n",
       " 'NODE_67_length_7364_cov_18.565194---4616355>4623706',\n",
       " 'NODE_109_length_1024_cov_16.748194---4626059>4627082',\n",
       " 'NODE_52_length_16824_cov_18.597829---4628060>4644874',\n",
       " 'NODE_84_length_2538_cov_74.520741---4644871>4647395',\n",
       " 'NODE_25_length_70560_cov_18.770981---4647349>4717901',\n",
       " 'NODE_96_length_1463_cov_133.146307---4721620>4723070',\n",
       " 'NODE_19_length_88449_cov_18.833710---4723262>4811707',\n",
       " 'NODE_96_length_1463_cov_133.146307---4815249>4816699',\n",
       " 'NODE_35_length_44062_cov_18.925307---4817112>4861169',\n",
       " 'NODE_53_length_15724_cov_20.028017---4861615>4877333']"
      ]
     },
     "execution_count": 95,
     "metadata": {},
     "output_type": "execute_result"
    }
   ],
   "source": [
    "target_contigs_sorted"
   ]
  },
  {
   "cell_type": "code",
   "execution_count": 96,
   "id": "1919f425-77f0-4130-8ee2-dcd141164bdc",
   "metadata": {},
   "outputs": [],
   "source": [
    "# pangraph.adj_list0"
   ]
  },
  {
   "cell_type": "code",
   "execution_count": 97,
   "id": "8bfe6670-0315-4fd6-93b2-76813c973246",
   "metadata": {},
   "outputs": [],
   "source": [
    "# cmd_dnadiff = '~/miniconda3/envs/amromics/bin/dnadiff '+ref_data +' '+ spades_output +'/contigs.fasta -p dna_diff/'+sim_name\n",
    "# os.system(cmd_dnadiff)"
   ]
  },
  {
   "cell_type": "code",
   "execution_count": 98,
   "id": "94805bbf-be0d-4253-91e1-0c2bce9d94c1",
   "metadata": {},
   "outputs": [],
   "source": [
    "# Don't use SPADES, shovil keep files.\n",
    "# python readSimulator/readSimulator.py --outdir shredded_reads  --input ncbi-genomes-2023-01-07/GCF_000240185.1_ASM24018v2_genomic.fna --simulator art --simulator_path art_bin_MountRainier/art_illumina --iterations 100 --readlen 100 --depth 100  --opts '-ss HS20 -sam -p -m 400 -s 60'\n",
    "# investigate why we failed? #1/ connectivity in the assembly graph:\n",
    "# multiplicity of each node: now 1, change to more: use length and coverage\n",
    "# assembly graph: change to 500"
   ]
  },
  {
   "cell_type": "code",
   "execution_count": 99,
   "id": "84699c11-8ded-4106-b828-435ef7400054",
   "metadata": {},
   "outputs": [],
   "source": [
    "def get_node_coverage(node_id):\n",
    "    return float(node_id.split('_')[5])\n",
    "get_node_coverage('NODE_45_length_30843_cov_18.832500')\n",
    "target_contigs_multi_1 = [item for item in target_contigs_list if get_node_coverage(item) <= 25.0]"
   ]
  },
  {
   "cell_type": "code",
   "execution_count": 100,
   "id": "b84f6c2a-770f-45a4-aa3f-f5d7bddfdcd0",
   "metadata": {},
   "outputs": [],
   "source": [
    "def get_value(edge_df0, source_id, target_id):\n",
    "    # if source_id in edge_df0['source'].values and target_id in edge_df0['target'].values:\n",
    "    #     print(edge_df0[((edge_df0['source'] == source_id) & (edge_df0['target'] == target_id))])\n",
    "    # else:\n",
    "    #     print('No value')\n",
    "    df_res = edge_df0[((edge_df0['source'] == source_id) & (edge_df0['target'] == target_id))]\n",
    "    if len(df_res.index) == 1:\n",
    "        print(df_res.iloc[0, 2])\n",
    "    else:\n",
    "        print(\"No value\")\n",
    "# pangraph.edge_df0\n",
    "\n",
    "def next_node_multi_1(target_contigs_list, idx):\n",
    "    ## find the next node of multiplicity 1 after the index: idx\n",
    "    current_idx = idx + 1\n",
    "    while(get_node_coverage(target_contigs_list[current_idx]) >= 25.0):\n",
    "        current_idx += 1\n",
    "    return target_contigs_list[current_idx]"
   ]
  },
  {
   "cell_type": "code",
   "execution_count": 101,
   "id": "9b8f97b5-4d2a-4434-8382-408333b57cc2",
   "metadata": {},
   "outputs": [],
   "source": [
    "# target_contigs_multi_1"
   ]
  },
  {
   "cell_type": "code",
   "execution_count": 102,
   "id": "ac259408-6ad5-4400-acb5-3709bcf2c1a9",
   "metadata": {},
   "outputs": [
    {
     "name": "stdout",
     "output_type": "stream",
     "text": [
      "---------------------- i = 0 ---------------------------------------------\n",
      "NODE_46_length_30478_cov_18.766164 NODE_101_length_1318_cov_59.905780\n",
      "1.2750000000000001\n",
      "No path in Pangraph\n",
      "Is there a path in the assembly graph? True,2 -1\n",
      "///////////////////////////////////////////////////////\n",
      "NODE_46_length_30478_cov_18.766164 NODE_42_length_35714_cov_18.958440\n",
      "11.353489583333335\n",
      "20.05\n",
      "Is there a path in the assembly graph? True,3 1317\n",
      "---------------------- i = 1 ---------------------------------------------\n",
      "NODE_101_length_1318_cov_59.905780 NODE_42_length_35714_cov_18.958440\n",
      "1.2750000000000001\n",
      "No path in Pangraph\n",
      "Is there a path in the assembly graph? True,2 -1\n",
      "---------------------- i = 2 ---------------------------------------------\n",
      "NODE_42_length_35714_cov_18.958440 NODE_101_length_1318_cov_59.905780\n",
      "1.2750000000000001\n",
      "No path in Pangraph\n",
      "Is there a path in the assembly graph? True,2 -1\n",
      "///////////////////////////////////////////////////////\n",
      "NODE_42_length_35714_cov_18.958440 NODE_32_length_49096_cov_18.914826\n",
      "12.674386337868482\n",
      "30.05\n",
      "Is there a path in the assembly graph? True,3 1317\n",
      "---------------------- i = 3 ---------------------------------------------\n",
      "NODE_101_length_1318_cov_59.905780 NODE_32_length_49096_cov_18.914826\n",
      "1.2750000000000001\n",
      "No path in Pangraph\n",
      "Is there a path in the assembly graph? True,2 -1\n",
      "---------------------- i = 4 ---------------------------------------------\n",
      "NODE_32_length_49096_cov_18.914826 NODE_98_length_1442_cov_19.488104\n",
      "0.20816326530612247\n",
      "No path in Pangraph\n",
      "Is there a path in the assembly graph? True,7 803\n",
      "---------------------- i = 5 ---------------------------------------------\n",
      "NODE_98_length_1442_cov_19.488104 NODE_95_length_1592_cov_58.378660\n",
      "0.40800000000000003\n",
      "No path in Pangraph\n",
      "Is there a path in the assembly graph? True,5 585\n",
      "///////////////////////////////////////////////////////\n",
      "NODE_98_length_1442_cov_19.488104 NODE_39_length_40147_cov_18.664796\n",
      "No value\n",
      "No path in Pangraph\n",
      "Is there a path in the assembly graph? True,16 52824\n",
      "---------------------- i = 6 ---------------------------------------------\n",
      "NODE_95_length_1592_cov_58.378660 NODE_39_length_40147_cov_18.664796\n",
      "No value\n",
      "No path in Pangraph\n",
      "Is there a path in the assembly graph? True,12 50646\n",
      "---------------------- i = 7 ---------------------------------------------\n",
      "NODE_39_length_40147_cov_18.664796 NODE_97_length_1443_cov_56.968300\n",
      "0.04533333333333334\n",
      "No path in Pangraph\n",
      "Is there a path in the assembly graph? True,15 6249\n",
      "///////////////////////////////////////////////////////\n",
      "NODE_39_length_40147_cov_18.664796 NODE_30_length_53138_cov_18.590415\n",
      "No value\n",
      "1.1117283950617285\n",
      "Is there a path in the assembly graph? True,15 399827\n",
      "---------------------- i = 8 ---------------------------------------------\n",
      "NODE_97_length_1443_cov_56.968300 NODE_30_length_53138_cov_18.590415\n",
      "No value\n",
      "No path in Pangraph\n",
      "Is there a path in the assembly graph? True,11 424503\n",
      "---------------------- i = 9 ---------------------------------------------\n",
      "NODE_30_length_53138_cov_18.590415 NODE_41_length_39638_cov_19.015209\n",
      "9.65524220915218\n",
      "22.8\n",
      "Is there a path in the assembly graph? True,6 473\n",
      "---------------------- i = 10 ---------------------------------------------\n",
      "NODE_41_length_39638_cov_19.015209 NODE_106_length_1120_cov_19.409390\n",
      "No value\n",
      "3.55\n",
      "Is there a path in the assembly graph? True,28 480204\n",
      "---------------------- i = 11 ---------------------------------------------\n",
      "NODE_106_length_1120_cov_19.409390 NODE_95_length_1592_cov_58.378660\n",
      "No value\n",
      "No path in Pangraph\n",
      "Is there a path in the assembly graph? True,18 220708\n",
      "///////////////////////////////////////////////////////\n",
      "NODE_106_length_1120_cov_19.409390 NODE_10_length_147945_cov_18.945473\n",
      "No value\n",
      "0.39756848261003386\n",
      "Is there a path in the assembly graph? True,21 223414\n",
      "---------------------- i = 12 ---------------------------------------------\n",
      "NODE_95_length_1592_cov_58.378660 NODE_10_length_147945_cov_18.945473\n",
      "0.6375000000000001\n",
      "No path in Pangraph\n",
      "Is there a path in the assembly graph? True,4 1113\n",
      "---------------------- i = 13 ---------------------------------------------\n",
      "NODE_10_length_147945_cov_18.945473 NODE_38_length_41324_cov_18.707698\n",
      "10.674794855442178\n",
      "17.3\n",
      "Is there a path in the assembly graph? True,3 568\n",
      "---------------------- i = 14 ---------------------------------------------\n",
      "NODE_38_length_41324_cov_18.707698 NODE_61_length_9714_cov_19.849570\n",
      "7.73977998761233\n",
      "13.716666666666667\n",
      "Is there a path in the assembly graph? True,8 5030\n",
      "---------------------- i = 15 ---------------------------------------------\n",
      "NODE_61_length_9714_cov_19.849570 NODE_115_length_865_cov_55.879012\n",
      "No value\n",
      "No path in Pangraph\n",
      "Is there a path in the assembly graph? True,10 13182\n",
      "///////////////////////////////////////////////////////\n",
      "NODE_61_length_9714_cov_19.849570 NODE_34_length_44734_cov_18.805255\n",
      "7.5747456328210285\n",
      "14.05\n",
      "Is there a path in the assembly graph? True,3 864\n",
      "---------------------- i = 16 ---------------------------------------------\n",
      "NODE_115_length_865_cov_55.879012 NODE_34_length_44734_cov_18.805255\n",
      "No value\n",
      "No path in Pangraph\n",
      "Is there a path in the assembly graph? True,8 34702\n",
      "---------------------- i = 17 ---------------------------------------------\n",
      "NODE_34_length_44734_cov_18.805255 NODE_87_length_2272_cov_97.826793\n",
      "No value\n",
      "No path in Pangraph\n",
      "Is there a path in the assembly graph? False,xxxxxxxxxxxxxxxxxxxxxxxxxxxxxxxxxxxxxxxxxxxxxxxxxxxx\n",
      "///////////////////////////////////////////////////////\n",
      "NODE_34_length_44734_cov_18.805255 NODE_21_length_82194_cov_18.745699\n",
      "No value\n",
      "No path in Pangraph\n",
      "Is there a path in the assembly graph? False,xxxxxxxxxxxxxxxxxxxxxxxxxxxxxxxxxxxxxxxxxxxxxxxxxxxx\n",
      "---------------------- i = 18 ---------------------------------------------\n",
      "NODE_87_length_2272_cov_97.826793 NODE_21_length_82194_cov_18.745699\n",
      "No value\n",
      "No path in Pangraph\n",
      "Is there a path in the assembly graph? True,9 18974\n",
      "---------------------- i = 19 ---------------------------------------------\n",
      "NODE_21_length_82194_cov_18.745699 NODE_15_length_99850_cov_19.213738\n",
      "15.772013888888889\n",
      "No path in Pangraph\n",
      "Is there a path in the assembly graph? True,4 301\n",
      "---------------------- i = 20 ---------------------------------------------\n",
      "NODE_15_length_99850_cov_19.213738 NODE_115_length_865_cov_55.879012\n",
      "1.2750000000000001\n",
      "No path in Pangraph\n",
      "Is there a path in the assembly graph? True,2 -1\n",
      "///////////////////////////////////////////////////////\n",
      "NODE_15_length_99850_cov_19.213738 NODE_16_length_93726_cov_19.165612\n",
      "8.8109375\n",
      "No path in Pangraph\n",
      "Is there a path in the assembly graph? True,3 864\n",
      "---------------------- i = 21 ---------------------------------------------\n",
      "NODE_115_length_865_cov_55.879012 NODE_16_length_93726_cov_19.165612\n",
      "1.2750000000000001\n",
      "No path in Pangraph\n",
      "Is there a path in the assembly graph? True,2 -1\n",
      "---------------------- i = 22 ---------------------------------------------\n",
      "NODE_16_length_93726_cov_19.165612 NODE_9_length_177154_cov_19.052705\n",
      "0.6375000000000001\n",
      "No path in Pangraph\n",
      "Is there a path in the assembly graph? True,4 267\n",
      "---------------------- i = 23 ---------------------------------------------\n",
      "NODE_9_length_177154_cov_19.052705 NODE_84_length_2538_cov_74.520741\n",
      "No value\n",
      "No path in Pangraph\n",
      "Is there a path in the assembly graph? True,10 31644\n",
      "///////////////////////////////////////////////////////\n",
      "NODE_9_length_177154_cov_19.052705 NODE_78_length_4538_cov_18.984832\n",
      "1.1333333333333335\n",
      "No path in Pangraph\n",
      "Is there a path in the assembly graph? True,3 2537\n",
      "---------------------- i = 24 ---------------------------------------------\n",
      "NODE_84_length_2538_cov_74.520741 NODE_78_length_4538_cov_18.984832\n",
      "No value\n",
      "No path in Pangraph\n",
      "Is there a path in the assembly graph? True,18 485058\n",
      "---------------------- i = 25 ---------------------------------------------\n",
      "NODE_78_length_4538_cov_18.984832 NODE_7_length_186122_cov_18.918416\n",
      "0.6375000000000001\n",
      "No path in Pangraph\n",
      "Is there a path in the assembly graph? True,4 1013\n",
      "---------------------- i = 26 ---------------------------------------------\n",
      "NODE_7_length_186122_cov_18.918416 NODE_26_length_64384_cov_18.832439\n",
      "5.661075680272109\n",
      "19.05\n",
      "Is there a path in the assembly graph? True,2 -1\n",
      "---------------------- i = 27 ---------------------------------------------\n",
      "NODE_26_length_64384_cov_18.832439 NODE_96_length_1463_cov_133.146307\n",
      "1.1333333333333335\n",
      "No path in Pangraph\n",
      "Is there a path in the assembly graph? True,3 110\n",
      "///////////////////////////////////////////////////////\n",
      "NODE_26_length_64384_cov_18.832439 NODE_5_length_197772_cov_18.763465\n",
      "8.737128330498868\n",
      "No path in Pangraph\n",
      "Is there a path in the assembly graph? True,8 5083\n",
      "---------------------- i = 28 ---------------------------------------------\n",
      "NODE_96_length_1463_cov_133.146307 NODE_5_length_197772_cov_18.763465\n",
      "0.2833333333333334\n",
      "No path in Pangraph\n",
      "Is there a path in the assembly graph? True,6 3509\n",
      "---------------------- i = 29 ---------------------------------------------\n",
      "NODE_5_length_197772_cov_18.763465 NODE_74_length_5422_cov_18.940376\n",
      "11.521917989417991\n",
      "35.05\n",
      "Is there a path in the assembly graph? True,3 108\n",
      "---------------------- i = 30 ---------------------------------------------\n",
      "NODE_74_length_5422_cov_18.940376 NODE_1_length_393563_cov_18.802782\n",
      "13.869168792517007\n",
      "40.05\n",
      "Is there a path in the assembly graph? True,3 908\n",
      "---------------------- i = 31 ---------------------------------------------\n",
      "NODE_1_length_393563_cov_18.802782 NODE_47_length_29840_cov_19.055229\n",
      "0.40800000000000003\n",
      "No path in Pangraph\n",
      "Is there a path in the assembly graph? True,5 402\n",
      "---------------------- i = 32 ---------------------------------------------\n",
      "NODE_47_length_29840_cov_19.055229 NODE_110_length_1004_cov_20.231823\n",
      "No value\n",
      "No path in Pangraph\n",
      "Is there a path in the assembly graph? True,16 213794\n",
      "---------------------- i = 33 ---------------------------------------------\n",
      "NODE_110_length_1004_cov_20.231823 NODE_91_length_1921_cov_39.800107\n",
      "No value\n",
      "No path in Pangraph\n",
      "Is there a path in the assembly graph? True,14 112257\n",
      "///////////////////////////////////////////////////////\n",
      "NODE_110_length_1004_cov_20.231823 NODE_23_length_78457_cov_18.966455\n",
      "No value\n",
      "No path in Pangraph\n",
      "Is there a path in the assembly graph? True,21 308413\n",
      "---------------------- i = 34 ---------------------------------------------\n",
      "NODE_91_length_1921_cov_39.800107 NODE_84_length_2538_cov_74.520741\n",
      "No value\n",
      "No path in Pangraph\n",
      "Is there a path in the assembly graph? True,12 115185\n",
      "///////////////////////////////////////////////////////\n",
      "NODE_91_length_1921_cov_39.800107 NODE_23_length_78457_cov_18.966455\n",
      "No value\n",
      "No path in Pangraph\n",
      "Is there a path in the assembly graph? True,20 313879\n",
      "---------------------- i = 35 ---------------------------------------------\n",
      "NODE_84_length_2538_cov_74.520741 NODE_23_length_78457_cov_18.966455\n",
      "No value\n",
      "No path in Pangraph\n",
      "Is there a path in the assembly graph? True,18 485058\n",
      "---------------------- i = 36 ---------------------------------------------\n",
      "NODE_23_length_78457_cov_18.966455 NODE_3_length_286153_cov_18.708740\n",
      "19.31736111111111\n",
      "No path in Pangraph\n",
      "Is there a path in the assembly graph? True,6 763\n",
      "---------------------- i = 37 ---------------------------------------------\n",
      "NODE_3_length_286153_cov_18.708740 NODE_8_length_178919_cov_18.733216\n",
      "15.732169784580499\n",
      "45.05\n",
      "Is there a path in the assembly graph? True,5 334\n",
      "---------------------- i = 38 ---------------------------------------------\n",
      "NODE_8_length_178919_cov_18.733216 NODE_36_length_42025_cov_19.439385\n",
      "8.690895061728394\n",
      "44.05\n",
      "Is there a path in the assembly graph? True,2 -1\n",
      "---------------------- i = 39 ---------------------------------------------\n",
      "NODE_36_length_42025_cov_19.439385 NODE_104_length_1129_cov_38.822160\n",
      "0.40800000000000003\n",
      "No path in Pangraph\n",
      "Is there a path in the assembly graph? True,5 1348\n",
      "///////////////////////////////////////////////////////\n",
      "NODE_36_length_42025_cov_19.439385 NODE_27_length_62193_cov_18.781068\n",
      "0.15937500000000002\n",
      "No path in Pangraph\n",
      "Is there a path in the assembly graph? True,8 3219\n",
      "---------------------- i = 40 ---------------------------------------------\n",
      "NODE_104_length_1129_cov_38.822160 NODE_27_length_62193_cov_18.781068\n",
      "0.6375000000000001\n",
      "No path in Pangraph\n",
      "Is there a path in the assembly graph? True,4 741\n",
      "---------------------- i = 41 ---------------------------------------------\n",
      "NODE_27_length_62193_cov_18.781068 NODE_102_length_1248_cov_57.448449\n",
      "1.2750000000000001\n",
      "No path in Pangraph\n",
      "Is there a path in the assembly graph? True,2 -1\n",
      "///////////////////////////////////////////////////////\n",
      "NODE_27_length_62193_cov_18.781068 NODE_14_length_106302_cov_18.687154\n",
      "8.405802469135802\n",
      "No path in Pangraph\n",
      "Is there a path in the assembly graph? True,3 1247\n",
      "---------------------- i = 42 ---------------------------------------------\n",
      "NODE_102_length_1248_cov_57.448449 NODE_14_length_106302_cov_18.687154\n",
      "1.2750000000000001\n",
      "No path in Pangraph\n",
      "Is there a path in the assembly graph? True,2 -1\n",
      "---------------------- i = 43 ---------------------------------------------\n",
      "NODE_14_length_106302_cov_18.687154 NODE_11_length_137715_cov_19.136757\n",
      "13.697899305555556\n",
      "41.05\n",
      "Is there a path in the assembly graph? True,5 379\n",
      "---------------------- i = 44 ---------------------------------------------\n",
      "NODE_11_length_137715_cov_19.136757 NODE_87_length_2272_cov_97.826793\n",
      "1.2750000000000001\n",
      "No path in Pangraph\n",
      "Is there a path in the assembly graph? True,2 -1\n",
      "///////////////////////////////////////////////////////\n",
      "NODE_11_length_137715_cov_19.136757 NODE_22_length_79377_cov_19.056895\n",
      "No value\n",
      "No path in Pangraph\n",
      "Is there a path in the assembly graph? True,10 21246\n",
      "---------------------- i = 45 ---------------------------------------------\n",
      "NODE_87_length_2272_cov_97.826793 NODE_22_length_79377_cov_19.056895\n",
      "No value\n",
      "No path in Pangraph\n",
      "Is there a path in the assembly graph? True,9 18974\n",
      "---------------------- i = 46 ---------------------------------------------\n",
      "NODE_22_length_79377_cov_19.056895 NODE_31_length_49314_cov_19.055462\n",
      "14.534792020975058\n",
      "45.05\n",
      "Is there a path in the assembly graph? True,5 383\n",
      "---------------------- i = 47 ---------------------------------------------\n",
      "NODE_31_length_49314_cov_19.055462 NODE_102_length_1248_cov_57.448449\n",
      "1.2750000000000001\n",
      "No path in Pangraph\n",
      "Is there a path in the assembly graph? True,2 -1\n",
      "///////////////////////////////////////////////////////\n",
      "NODE_31_length_49314_cov_19.055462 NODE_2_length_312103_cov_18.841489\n",
      "3.7608567570546736\n",
      "6.605555555555555\n",
      "Is there a path in the assembly graph? True,3 1247\n",
      "---------------------- i = 48 ---------------------------------------------\n",
      "NODE_102_length_1248_cov_57.448449 NODE_2_length_312103_cov_18.841489\n",
      "1.2750000000000001\n",
      "No path in Pangraph\n",
      "Is there a path in the assembly graph? True,2 -1\n",
      "---------------------- i = 49 ---------------------------------------------\n",
      "NODE_2_length_312103_cov_18.841489 NODE_37_length_42009_cov_18.877056\n",
      "7.956547619047619\n",
      "50.05\n",
      "Is there a path in the assembly graph? True,2 -1\n",
      "---------------------- i = 50 ---------------------------------------------\n",
      "NODE_37_length_42009_cov_18.877056 NODE_80_length_3401_cov_29.315900\n",
      "No value\n",
      "No path in Pangraph\n",
      "Is there a path in the assembly graph? True,27 479725\n",
      "///////////////////////////////////////////////////////\n",
      "NODE_37_length_42009_cov_18.877056 NODE_17_length_91780_cov_18.769114\n",
      "0.07083333333333335\n",
      "No path in Pangraph\n",
      "Is there a path in the assembly graph? True,12 6821\n",
      "---------------------- i = 51 ---------------------------------------------\n",
      "NODE_80_length_3401_cov_29.315900 NODE_95_length_1592_cov_58.378660\n",
      "No value\n",
      "No path in Pangraph\n",
      "Is there a path in the assembly graph? True,17 220535\n",
      "///////////////////////////////////////////////////////\n",
      "NODE_80_length_3401_cov_29.315900 NODE_17_length_91780_cov_18.769114\n",
      "No value\n",
      "4.9875\n",
      "Is there a path in the assembly graph? True,20 223241\n",
      "---------------------- i = 52 ---------------------------------------------\n",
      "NODE_95_length_1592_cov_58.378660 NODE_17_length_91780_cov_18.769114\n",
      "0.6375000000000001\n",
      "No path in Pangraph\n",
      "Is there a path in the assembly graph? True,4 724\n",
      "---------------------- i = 53 ---------------------------------------------\n",
      "NODE_17_length_91780_cov_18.769114 NODE_50_length_27240_cov_18.622991\n",
      "13.800162037037039\n",
      "No path in Pangraph\n",
      "Is there a path in the assembly graph? True,5 457\n",
      "---------------------- i = 54 ---------------------------------------------\n",
      "NODE_50_length_27240_cov_18.622991 NODE_141_length_351_cov_16.635135\n",
      "0.6375000000000001\n",
      "No path in Pangraph\n",
      "Is there a path in the assembly graph? True,4 1013\n",
      "---------------------- i = 55 ---------------------------------------------\n",
      "NODE_141_length_351_cov_16.635135 NODE_97_length_1443_cov_56.968300\n",
      "No value\n",
      "No path in Pangraph\n",
      "Is there a path in the assembly graph? True,8 8331\n",
      "///////////////////////////////////////////////////////\n",
      "NODE_141_length_351_cov_16.635135 NODE_94_length_1685_cov_19.542945\n",
      "0.20816326530612247\n",
      "No path in Pangraph\n",
      "Is there a path in the assembly graph? True,7 6646\n",
      "---------------------- i = 56 ---------------------------------------------\n",
      "NODE_97_length_1443_cov_56.968300 NODE_94_length_1685_cov_19.542945\n",
      "No value\n",
      "No path in Pangraph\n",
      "Is there a path in the assembly graph? True,10 509044\n",
      "---------------------- i = 57 ---------------------------------------------\n",
      "NODE_94_length_1685_cov_19.542945 NODE_90_length_2072_cov_18.323748\n",
      "No value\n",
      "No path in Pangraph\n",
      "Is there a path in the assembly graph? True,13 405732\n",
      "---------------------- i = 58 ---------------------------------------------\n",
      "NODE_90_length_2072_cov_18.323748 NODE_115_length_865_cov_55.879012\n",
      "1.2750000000000001\n",
      "No path in Pangraph\n",
      "Is there a path in the assembly graph? True,2 -1\n",
      "///////////////////////////////////////////////////////\n",
      "NODE_90_length_2072_cov_18.323748 NODE_58_length_12944_cov_18.991155\n",
      "1.1333333333333335\n",
      "No path in Pangraph\n",
      "Is there a path in the assembly graph? True,3 864\n",
      "---------------------- i = 59 ---------------------------------------------\n",
      "NODE_115_length_865_cov_55.879012 NODE_58_length_12944_cov_18.991155\n",
      "1.2750000000000001\n",
      "No path in Pangraph\n",
      "Is there a path in the assembly graph? True,2 -1\n",
      "---------------------- i = 60 ---------------------------------------------\n",
      "NODE_58_length_12944_cov_18.991155 NODE_29_length_57625_cov_18.984888\n",
      "1.1333333333333335\n",
      "No path in Pangraph\n",
      "Is there a path in the assembly graph? True,3 611\n",
      "---------------------- i = 61 ---------------------------------------------\n",
      "NODE_29_length_57625_cov_18.984888 NODE_104_length_1129_cov_38.822160\n",
      "0.40800000000000003\n",
      "No path in Pangraph\n",
      "Is there a path in the assembly graph? True,5 1348\n",
      "///////////////////////////////////////////////////////\n",
      "NODE_29_length_57625_cov_18.984888 NODE_12_length_137405_cov_18.782796\n",
      "9.517934027777779\n",
      "21.05\n",
      "Is there a path in the assembly graph? True,7 3023\n",
      "---------------------- i = 62 ---------------------------------------------\n",
      "NODE_104_length_1129_cov_38.822160 NODE_12_length_137405_cov_18.782796\n",
      "1.1333333333333335\n",
      "No path in Pangraph\n",
      "Is there a path in the assembly graph? True,3 545\n",
      "---------------------- i = 63 ---------------------------------------------\n",
      "NODE_12_length_137405_cov_18.782796 NODE_49_length_27664_cov_18.838676\n",
      "10.236909722222222\n",
      "No path in Pangraph\n",
      "Is there a path in the assembly graph? True,5 282\n",
      "---------------------- i = 64 ---------------------------------------------\n",
      "NODE_49_length_27664_cov_18.838676 NODE_51_length_17514_cov_18.602039\n",
      "6.611864725056689\n",
      "39.05\n",
      "Is there a path in the assembly graph? True,2 -1\n",
      "---------------------- i = 65 ---------------------------------------------\n",
      "NODE_51_length_17514_cov_18.602039 NODE_33_length_46779_cov_18.775576\n",
      "5.836585175736962\n",
      "31.05\n",
      "Is there a path in the assembly graph? True,2 -1\n",
      "---------------------- i = 66 ---------------------------------------------\n",
      "NODE_33_length_46779_cov_18.775576 NODE_71_length_5699_cov_21.281361\n",
      "0.40800000000000003\n",
      "No path in Pangraph\n",
      "Is there a path in the assembly graph? True,5 742\n",
      "---------------------- i = 67 ---------------------------------------------\n",
      "NODE_71_length_5699_cov_21.281361 NODE_91_length_1921_cov_39.800107\n",
      "No value\n",
      "No path in Pangraph\n",
      "Is there a path in the assembly graph? True,12 36103\n",
      "///////////////////////////////////////////////////////\n",
      "NODE_71_length_5699_cov_21.281361 NODE_57_length_13264_cov_18.653040\n",
      "0.20816326530612247\n",
      "No path in Pangraph\n",
      "Is there a path in the assembly graph? True,7 2612\n",
      "---------------------- i = 68 ---------------------------------------------\n",
      "NODE_91_length_1921_cov_39.800107 NODE_57_length_13264_cov_18.653040\n",
      "No value\n",
      "No path in Pangraph\n",
      "Is there a path in the assembly graph? True,24 314571\n",
      "---------------------- i = 69 ---------------------------------------------\n",
      "NODE_57_length_13264_cov_18.653040 NODE_87_length_2272_cov_97.826793\n",
      "No value\n",
      "No path in Pangraph\n",
      "Is there a path in the assembly graph? False,xxxxxxxxxxxxxxxxxxxxxxxxxxxxxxxxxxxxxxxxxxxxxxxxxxxx\n",
      "///////////////////////////////////////////////////////\n",
      "NODE_57_length_13264_cov_18.653040 NODE_13_length_123136_cov_19.311462\n",
      "No value\n",
      "No path in Pangraph\n",
      "Is there a path in the assembly graph? False,xxxxxxxxxxxxxxxxxxxxxxxxxxxxxxxxxxxxxxxxxxxxxxxxxxxx\n",
      "---------------------- i = 70 ---------------------------------------------\n",
      "NODE_87_length_2272_cov_97.826793 NODE_13_length_123136_cov_19.311462\n",
      "1.2750000000000001\n",
      "No path in Pangraph\n",
      "Is there a path in the assembly graph? True,2 -1\n",
      "---------------------- i = 71 ---------------------------------------------\n",
      "NODE_13_length_123136_cov_19.311462 NODE_96_length_1463_cov_133.146307\n",
      "No value\n",
      "No path in Pangraph\n",
      "Is there a path in the assembly graph? True,17 849019\n",
      "///////////////////////////////////////////////////////\n",
      "NODE_13_length_123136_cov_19.311462 NODE_4_length_210493_cov_18.979267\n",
      "9.336350387377173\n",
      "No path in Pangraph\n",
      "Is there a path in the assembly graph? True,7 4972\n",
      "---------------------- i = 72 ---------------------------------------------\n",
      "NODE_96_length_1463_cov_133.146307 NODE_4_length_210493_cov_18.979267\n",
      "No value\n",
      "No path in Pangraph\n",
      "Is there a path in the assembly graph? True,19 382294\n",
      "---------------------- i = 73 ---------------------------------------------\n",
      "NODE_4_length_210493_cov_18.979267 NODE_18_length_89080_cov_19.243190\n",
      "14.524189814814816\n",
      "35.05\n",
      "Is there a path in the assembly graph? True,4 1013\n",
      "---------------------- i = 74 ---------------------------------------------\n",
      "NODE_18_length_89080_cov_19.243190 NODE_62_length_9460_cov_18.395428\n",
      "3.4774117301156924\n",
      "No path in Pangraph\n",
      "Is there a path in the assembly graph? True,4 146\n",
      "---------------------- i = 75 ---------------------------------------------\n",
      "NODE_62_length_9460_cov_18.395428 NODE_65_length_8473_cov_18.567474\n",
      "No value\n",
      "No path in Pangraph\n",
      "Is there a path in the assembly graph? True,10 96574\n",
      "---------------------- i = 76 ---------------------------------------------\n",
      "NODE_65_length_8473_cov_18.567474 NODE_87_length_2272_cov_97.826793\n",
      "No value\n",
      "No path in Pangraph\n",
      "Is there a path in the assembly graph? True,9 11970\n",
      "///////////////////////////////////////////////////////\n",
      "NODE_65_length_8473_cov_18.567474 NODE_117_length_794_cov_18.997294\n",
      "No value\n",
      "No path in Pangraph\n",
      "Is there a path in the assembly graph? True,8 108117\n",
      "---------------------- i = 77 ---------------------------------------------\n",
      "NODE_87_length_2272_cov_97.826793 NODE_117_length_794_cov_18.997294\n",
      "No value\n",
      "No path in Pangraph\n",
      "Is there a path in the assembly graph? True,10 117050\n",
      "---------------------- i = 78 ---------------------------------------------\n",
      "NODE_117_length_794_cov_18.997294 NODE_102_length_1248_cov_57.448449\n",
      "No value\n",
      "No path in Pangraph\n",
      "Is there a path in the assembly graph? False,xxxxxxxxxxxxxxxxxxxxxxxxxxxxxxxxxxxxxxxxxxxxxxxxxxxx\n",
      "///////////////////////////////////////////////////////\n",
      "NODE_117_length_794_cov_18.997294 NODE_60_length_9971_cov_19.079266\n",
      "No value\n",
      "No path in Pangraph\n",
      "Is there a path in the assembly graph? False,xxxxxxxxxxxxxxxxxxxxxxxxxxxxxxxxxxxxxxxxxxxxxxxxxxxx\n",
      "---------------------- i = 79 ---------------------------------------------\n",
      "NODE_102_length_1248_cov_57.448449 NODE_60_length_9971_cov_19.079266\n",
      "No value\n",
      "No path in Pangraph\n",
      "Is there a path in the assembly graph? True,10 118074\n",
      "---------------------- i = 80 ---------------------------------------------\n",
      "NODE_60_length_9971_cov_19.079266 NODE_87_length_2272_cov_97.826793\n",
      "No value\n",
      "No path in Pangraph\n",
      "Is there a path in the assembly graph? True,7 139350\n",
      "///////////////////////////////////////////////////////\n",
      "NODE_60_length_9971_cov_19.079266 NODE_24_length_76639_cov_18.776207\n",
      "No value\n",
      "No path in Pangraph\n",
      "Is there a path in the assembly graph? True,13 12398\n",
      "---------------------- i = 81 ---------------------------------------------\n",
      "NODE_87_length_2272_cov_97.826793 NODE_24_length_76639_cov_18.776207\n",
      "No value\n",
      "No path in Pangraph\n",
      "Is there a path in the assembly graph? True,9 18974\n",
      "---------------------- i = 82 ---------------------------------------------\n",
      "NODE_24_length_76639_cov_18.776207 NODE_40_length_40069_cov_18.795472\n",
      "4.760705683893928\n",
      "5.8277777777777775\n",
      "Is there a path in the assembly graph? True,9 948\n",
      "---------------------- i = 83 ---------------------------------------------\n",
      "NODE_40_length_40069_cov_18.795472 NODE_6_length_190645_cov_18.815531\n",
      "7.594377834467122\n",
      "48.05\n",
      "Is there a path in the assembly graph? True,2 -1\n",
      "---------------------- i = 84 ---------------------------------------------\n",
      "NODE_6_length_190645_cov_18.815531 NODE_96_length_1463_cov_133.146307\n",
      "No value\n",
      "No path in Pangraph\n",
      "Is there a path in the assembly graph? True,18 849121\n",
      "///////////////////////////////////////////////////////\n",
      "NODE_6_length_190645_cov_18.815531 NODE_45_length_30843_cov_18.832500\n",
      "11.380069444444445\n",
      "16.8\n",
      "Is there a path in the assembly graph? True,9 5221\n",
      "---------------------- i = 85 ---------------------------------------------\n",
      "NODE_96_length_1463_cov_133.146307 NODE_45_length_30843_cov_18.832500\n",
      "No value\n",
      "No path in Pangraph\n",
      "Is there a path in the assembly graph? True,20 382441\n",
      "---------------------- i = 86 ---------------------------------------------\n",
      "NODE_45_length_30843_cov_18.832500 NODE_79_length_4283_cov_19.173841\n",
      "11.664892762660621\n",
      "22.8\n",
      "Is there a path in the assembly graph? True,4 679\n",
      "---------------------- i = 87 ---------------------------------------------\n",
      "NODE_79_length_4283_cov_19.173841 NODE_96_length_1463_cov_133.146307\n",
      "No value\n",
      "No path in Pangraph\n",
      "Is there a path in the assembly graph? True,18 849123\n",
      "///////////////////////////////////////////////////////\n",
      "NODE_79_length_4283_cov_19.173841 NODE_28_length_60907_cov_18.854582\n",
      "9.857001133786849\n",
      "23.05\n",
      "Is there a path in the assembly graph? True,9 5187\n",
      "---------------------- i = 88 ---------------------------------------------\n",
      "NODE_96_length_1463_cov_133.146307 NODE_28_length_60907_cov_18.854582\n",
      "No value\n",
      "No path in Pangraph\n",
      "Is there a path in the assembly graph? True,20 382405\n",
      "---------------------- i = 89 ---------------------------------------------\n",
      "NODE_28_length_60907_cov_18.854582 NODE_97_length_1443_cov_56.968300\n",
      "No value\n",
      "No path in Pangraph\n",
      "Is there a path in the assembly graph? True,8 8331\n",
      "///////////////////////////////////////////////////////\n",
      "NODE_28_length_60907_cov_18.854582 NODE_67_length_7364_cov_18.565194\n",
      "1.1333333333333335\n",
      "No path in Pangraph\n",
      "Is there a path in the assembly graph? True,3 1442\n",
      "---------------------- i = 90 ---------------------------------------------\n",
      "NODE_97_length_1443_cov_56.968300 NODE_67_length_7364_cov_18.565194\n",
      "No value\n",
      "No path in Pangraph\n",
      "Is there a path in the assembly graph? True,11 424503\n",
      "---------------------- i = 91 ---------------------------------------------\n",
      "NODE_67_length_7364_cov_18.565194 NODE_109_length_1024_cov_16.748194\n",
      "No value\n",
      "No path in Pangraph\n",
      "Is there a path in the assembly graph? False,xxxxxxxxxxxxxxxxxxxxxxxxxxxxxxxxxxxxxxxxxxxxxxxxxxxx\n",
      "---------------------- i = 92 ---------------------------------------------\n",
      "NODE_109_length_1024_cov_16.748194 NODE_52_length_16824_cov_18.597829\n",
      "0.40800000000000003\n",
      "No path in Pangraph\n",
      "Is there a path in the assembly graph? True,5 359\n",
      "---------------------- i = 93 ---------------------------------------------\n",
      "NODE_52_length_16824_cov_18.597829 NODE_84_length_2538_cov_74.520741\n",
      "1.2750000000000001\n",
      "No path in Pangraph\n",
      "Is there a path in the assembly graph? True,2 -1\n",
      "///////////////////////////////////////////////////////\n",
      "NODE_52_length_16824_cov_18.597829 NODE_25_length_70560_cov_18.770981\n",
      "1.1333333333333335\n",
      "No path in Pangraph\n",
      "Is there a path in the assembly graph? True,3 2537\n",
      "---------------------- i = 94 ---------------------------------------------\n",
      "NODE_84_length_2538_cov_74.520741 NODE_25_length_70560_cov_18.770981\n",
      "1.2750000000000001\n",
      "No path in Pangraph\n",
      "Is there a path in the assembly graph? True,2 -1\n",
      "---------------------- i = 95 ---------------------------------------------\n",
      "NODE_25_length_70560_cov_18.770981 NODE_96_length_1463_cov_133.146307\n",
      "No value\n",
      "No path in Pangraph\n",
      "Is there a path in the assembly graph? True,18 849149\n",
      "///////////////////////////////////////////////////////\n",
      "NODE_25_length_70560_cov_18.770981 NODE_19_length_88449_cov_18.833710\n",
      "10.645462992488664\n",
      "23.3\n",
      "Is there a path in the assembly graph? True,8 5102\n",
      "---------------------- i = 96 ---------------------------------------------\n",
      "NODE_96_length_1463_cov_133.146307 NODE_19_length_88449_cov_18.833710\n",
      "No value\n",
      "No path in Pangraph\n",
      "Is there a path in the assembly graph? True,19 382294\n",
      "---------------------- i = 97 ---------------------------------------------\n",
      "NODE_19_length_88449_cov_18.833710 NODE_96_length_1463_cov_133.146307\n",
      "No value\n",
      "No path in Pangraph\n",
      "Is there a path in the assembly graph? True,18 849130\n",
      "///////////////////////////////////////////////////////\n",
      "NODE_19_length_88449_cov_18.833710 NODE_35_length_44062_cov_18.925307\n",
      "10.332137985402493\n",
      "22.8\n",
      "Is there a path in the assembly graph? True,9 5194\n",
      "---------------------- i = 98 ---------------------------------------------\n",
      "NODE_96_length_1463_cov_133.146307 NODE_35_length_44062_cov_18.925307\n",
      "No value\n",
      "No path in Pangraph\n",
      "Is there a path in the assembly graph? True,20 382405\n",
      "---------------------- i = 99 ---------------------------------------------\n",
      "NODE_35_length_44062_cov_18.925307 NODE_53_length_15724_cov_20.028017\n",
      "14.03148148148148\n",
      "No path in Pangraph\n",
      "Is there a path in the assembly graph? True,3 437\n"
     ]
    }
   ],
   "source": [
    "assembly_graph = pangraph.assembly_graph\n",
    "for i in range(len(target_contigs_list)-1):\n",
    "    print('---------------------- i =', i, '---------------------------------------------')\n",
    "    node1 = target_contigs_list[i]\n",
    "    node2 = target_contigs_list[i+1]\n",
    "    print(node1, node2)\n",
    "    source_id = 'C-' + str(pangraph.tail_contig[node1])\n",
    "    target_id = 'C-' + str(pangraph.head_contig[node2]) \n",
    "    source_node = node1 + pangraph.strand[node1]\n",
    "    target_node = node2 + pangraph.strand[node2]\n",
    "    get_value(pangraph.edge_df0, node1, node2)\n",
    "    if nx.has_path(pangraph.H, source_id, target_id):\n",
    "        p = nx.shortest_path(pangraph.H, source=source_id, target=target_id)\n",
    "        weight_p = 0.0\n",
    "        for node_p_idx in range(len(p)-1):\n",
    "            weight_p += pangraph.H[p[node_p_idx]][p[node_p_idx+1]]['weight']\n",
    "        if len(p) >= 2:\n",
    "            weight_p = 0.05 + weight_p/float((len(p)-1)*(len(p)-1))\n",
    "        print(weight_p)\n",
    "    else:\n",
    "        print(\"No path in Pangraph\")\n",
    "    if assembly_graph.has_node(source_node) and assembly_graph.has_node(target_node):\n",
    "        print(\"Is there a path in the assembly graph? \", end ='')\n",
    "        print(nx.has_path(assembly_graph, source_node, target_node), end = ',')   \n",
    "        if nx.has_path(assembly_graph, source_node, target_node):\n",
    "            path_nucleotides = -1\n",
    "            path = nx.shortest_path(assembly_graph, source=source_node, target=target_node)\n",
    "            for idxp in range(1, len(path)-1):\n",
    "                path_nucleotides = path_nucleotides + int(path[idxp].split(\"_\")[3])\n",
    "            print(len(path), path_nucleotides)\n",
    "        else:\n",
    "            print('xxxxxxxxxxxxxxxxxxxxxxxxxxxxxxxxxxxxxxxxxxxxxxxxxxxx')\n",
    "    if get_node_coverage(node2) >= 25.0:\n",
    "        print('///////////////////////////////////////////////////////')\n",
    "        node2 = next_node_multi_1(target_contigs_list, i+1)\n",
    "        print(node1, node2)\n",
    "        source_id = 'C-' + str(pangraph.tail_contig[node1])\n",
    "        target_id = 'C-' + str(pangraph.head_contig[node2]) \n",
    "        source_node = node1 + pangraph.strand[node1]\n",
    "        target_node = node2 + pangraph.strand[node2]\n",
    "        get_value(pangraph.edge_df0, node1, node2)\n",
    "        if nx.has_path(pangraph.H, source_id, target_id):\n",
    "            p = nx.shortest_path(pangraph.H, source=source_id, target=target_id)\n",
    "            weight_p = 0.0\n",
    "            for node_p_idx in range(len(p)-1):\n",
    "                weight_p += pangraph.H[p[node_p_idx]][p[node_p_idx+1]]['weight']\n",
    "            if len(p) >= 2:\n",
    "                weight_p = 0.05 + weight_p/float((len(p)-1)*(len(p)-1))\n",
    "            print(weight_p)\n",
    "        else:\n",
    "            print(\"No path in Pangraph\")\n",
    "        if assembly_graph.has_node(source_node) and assembly_graph.has_node(target_node):\n",
    "            print(\"Is there a path in the assembly graph? \", end ='')\n",
    "            print(nx.has_path(assembly_graph, source_node, target_node), end = ',')   \n",
    "            if nx.has_path(assembly_graph, source_node, target_node):\n",
    "                path_nucleotides = -1\n",
    "                path = nx.shortest_path(assembly_graph, source=source_node, target=target_node)\n",
    "                for idxp in range(1, len(path)-1):\n",
    "                    path_nucleotides = path_nucleotides + int(path[idxp].split(\"_\")[3])\n",
    "                print(len(path), path_nucleotides)\n",
    "            else:\n",
    "                print('xxxxxxxxxxxxxxxxxxxxxxxxxxxxxxxxxxxxxxxxxxxxxxxxxxxx')\n",
    "            \n",
    "    \n",
    "    #     # sum_len = 0\n",
    "    #     # if nx.has_path(pangraph.H, source_id, target_id) or nx.has_path(assembly_graph, source_node, target_node):\n",
    "    #     #     sum_len += int(final_df.iloc[i,1])\n",
    "    #     #     print(sum_len, end='')\n",
    "    # else:\n",
    "    #     print(\"Restart............................................\")\n",
    "    #     sum_len = 0\n",
    "    # # print('')"
   ]
  },
  {
   "cell_type": "code",
   "execution_count": 103,
   "id": "fd836ce1-8041-4358-b4b7-d2f115504794",
   "metadata": {},
   "outputs": [],
   "source": [
    "# pangraph.edge_df0"
   ]
  },
  {
   "cell_type": "code",
   "execution_count": 104,
   "id": "2b76bbc8-a426-4230-8393-ec7663679db3",
   "metadata": {},
   "outputs": [
    {
     "name": "stdout",
     "output_type": "stream",
     "text": [
      "No value\n"
     ]
    }
   ],
   "source": [
    "get_value(pangraph.edge_df0, 'NODE_94_length_1685_cov_19.542945', 'NODE_90_length_2072_cov_18.323748')"
   ]
  },
  {
   "cell_type": "code",
   "execution_count": 105,
   "id": "cdd5a316-4e67-4a95-b446-1bf353165396",
   "metadata": {},
   "outputs": [],
   "source": [
    "# pangraph.edge_df0['source'].values"
   ]
  },
  {
   "cell_type": "code",
   "execution_count": null,
   "id": "4dddb8cf-ae33-4c1f-aa66-d8edf2015f14",
   "metadata": {},
   "outputs": [],
   "source": []
  }
 ],
 "metadata": {
  "kernelspec": {
   "display_name": "Environment (panta)",
   "language": "python",
   "name": "panta"
  },
  "language_info": {
   "codemirror_mode": {
    "name": "ipython",
    "version": 3
   },
   "file_extension": ".py",
   "mimetype": "text/x-python",
   "name": "python",
   "nbconvert_exporter": "python",
   "pygments_lexer": "ipython3",
   "version": "3.7.10"
  }
 },
 "nbformat": 4,
 "nbformat_minor": 5
}
