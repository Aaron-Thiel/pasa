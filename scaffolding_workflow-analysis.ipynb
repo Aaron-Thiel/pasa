{
 "cells": [
  {
   "cell_type": "code",
   "execution_count": 1,
   "id": "792bcd93-b1d2-4cda-b3d6-84b03df9edc2",
   "metadata": {},
   "outputs": [],
   "source": [
    "import os\n",
    "import traceback\n",
    "import logging\n",
    "import os.path\n",
    "import networkx as nx\n",
    "import pandas as pd\n",
    "import numpy as np\n",
    "import pylab as pl\n",
    "from matplotlib import collections  as mc\n",
    "import glob\n",
    "import math"
   ]
  },
  {
   "cell_type": "code",
   "execution_count": 2,
   "id": "5ce0f9f4-a9a7-4e49-af28-991fd29735b9",
   "metadata": {},
   "outputs": [],
   "source": [
    "# simversion = '_v01'\n",
    "simversion = '_plasmid_v01'\n",
    "simversionPangraph = '_assemBiGraph2_v01' #'_assemGraph2_v01': use assembly graph v2; _assemBiGraph2_v01: if (u,v) in G, so is (v-, u-)\n",
    "# simversion = '_plasmid_v02'\n",
    "# simversion = '_plasmid_v03'\n",
    "# simversion = '_plasmid_v04'\n",
    "# 1 True, 0 False\n",
    "prepare_database_4_multicsar = 0\n",
    "run_art = 0\n",
    "run_spades = 0\n",
    "run_panta = 0\n",
    "split_paralogs = 1\n",
    "run_multicsar = 0\n",
    "run_ragout = 0\n",
    "run_pangraph = 1\n",
    "# pangenome_data = '/data/hoan/amromics/data/ncbi/Kp100random/' # for pangraph, Ragout, multi-CSAR #v3\n",
    "pangenome_data = '/data/hoan/amromics/data/ncbi/Ecoli50random/'\n",
    "# pangenome_data = '/data/hoan/amromics/data/ncbi/Kptest/' # for pangraph, Ragout, multi-CSAR\n",
    "scaffold_out_dir = '/data/hoan/amromics/genome-graph/scaffold_output/'"
   ]
  },
  {
   "cell_type": "code",
   "execution_count": 3,
   "id": "f096292d-0f0d-483d-b534-c5ebd59b13b3",
   "metadata": {},
   "outputs": [],
   "source": [
    "if prepare_database_4_multicsar==1:\n",
    "    os.system('rm -r ' + pangenome_data + 'fna/')\n",
    "    os.system('mkdir ' + pangenome_data + 'fna/')\n",
    "    os.system('cp -r '+ pangenome_data + '*.fna.gz '+ pangenome_data + 'fna/')\n",
    "    os.system('~/miniconda3/envs/panta/bin/gzip -d ' + pangenome_data + 'fna/*.fna.gz')"
   ]
  },
  {
   "cell_type": "markdown",
   "id": "ea10ac98-91ce-4d6c-a61c-9c6e754e5935",
   "metadata": {},
   "source": [
    "### Simulate reads using ART"
   ]
  },
  {
   "cell_type": "code",
   "execution_count": 4,
   "id": "706c8a73-380f-4073-b6f3-72908b943544",
   "metadata": {},
   "outputs": [],
   "source": [
    "# https://github.com/scchess/Art/blob/master/art_illumina_README"
   ]
  },
  {
   "cell_type": "code",
   "execution_count": 5,
   "id": "b5c4219e-b96b-4e69-9545-8c8e1e67de28",
   "metadata": {},
   "outputs": [],
   "source": [
    "sim_dir = '/data/hoan/amromics/simulation/'\n",
    "art_bin = '/data/hoan/amromics/simulation/art_bin/./art_illumina'"
   ]
  },
  {
   "cell_type": "code",
   "execution_count": 142,
   "id": "f49f0939-0560-4507-b1a0-0c29e83e11da",
   "metadata": {},
   "outputs": [],
   "source": [
    "# ref_data = '/data/hoan/amromics/simulation/references/GCF_000240185.1_ASM24018v2_genomic.fasta'\n",
    "# ref_data = '/data/hoan/amromics/simulation/references/GCF_000240185.1_ASM24018v2_genomic.fna'\n",
    "# ref_data = '/data/hoan/amromics/data/ncbi/Ecolitest/GCF_002860105.1_ASM286010v1_genomic.fna'\n",
    "# ref_data = '/data/hoan/amromics/data/ncbi/Ecolitest/GCF_002899495.1_ASM289949v1_genomic.fna'  ## Mau nay co van de.\n",
    "# ref_data = '/data/hoan/amromics/data/ncbi/Ecolitest/GCF_004135915.1_ASM413591v1_genomic.fna'\n",
    "# ref_data = '/data/hoan/amromics/data/ncbi/Ecolitest/GCF_006351885.1_ASM635188v1_genomic.fna'\n",
    "ref_data = '/data/hoan/amromics/data/ncbi/Ecolitest/GCF_014169015.1_ASM1416901v1_genomic.fna'\n",
    "# ref_data = '/data/hoan/amromics/data/ncbi/Ecolitest/GCF_900635215.1_39859_D02_genomic.fna'\n",
    "sim_name = ref_data.split(\"/\")[-2] + '_' + ref_data.split(\"/\")[-1][:-1][:13]\n",
    "sim_output = '/data/hoan/amromics/simulation/art_output/sim_reads_' + sim_name + simversion[-4:]\n",
    "# sim_output = '/data/hoan/amromics/simulation/art_output/paired_dat_test'"
   ]
  },
  {
   "cell_type": "code",
   "execution_count": 143,
   "id": "c802e106-3a8e-48ee-9319-e24c5d347ae2",
   "metadata": {},
   "outputs": [
    {
     "data": {
      "text/plain": [
       "'/data/hoan/amromics/simulation/art_output/sim_reads_Ecolitest_GCF_014169015_v01'"
      ]
     },
     "execution_count": 143,
     "metadata": {},
     "output_type": "execute_result"
    }
   ],
   "source": [
    "sim_output"
   ]
  },
  {
   "cell_type": "code",
   "execution_count": 144,
   "id": "05d8c28d-f058-4e33-a89f-9d54860bf706",
   "metadata": {},
   "outputs": [],
   "source": [
    "if run_art: \n",
    "    if simversion[-3:]=='v01':\n",
    "        os.system(art_bin+' -ss HS20 -sam -i '+ref_data+' -p -l 100 -f 70 -m 400 -s 60 -o '+sim_output) # _v01\n",
    "    if simversion[-3:]=='v02':\n",
    "        os.system(art_bin+' -ss HS20 -sam -i '+ref_data+' -p -l 100 -f 70 -m 400 -s 10 -o '+sim_output) # _v02\n",
    "    if simversion[-3:]=='v03':\n",
    "        os.system(art_bin+' -ss MSv3 -sam -i '+ref_data+' -p -l 250 -f 70 -m 400 -s 60 -o '+sim_output) # _v03\n",
    "    if simversion[-3:]=='v04':\n",
    "        os.system(art_bin+' -ss MSv3 -sam -i '+ref_data+' -p -l 250 -f 70 -m 400 -s 10 -o '+sim_output) # _v04"
   ]
  },
  {
   "cell_type": "markdown",
   "id": "87fd93fb-e2d0-4f37-92b0-7f39bf9e37c5",
   "metadata": {},
   "source": [
    "### Run SPADES assembly"
   ]
  },
  {
   "cell_type": "code",
   "execution_count": 145,
   "id": "9a8c3d4c-9b2a-484c-a1c8-60acf3e64766",
   "metadata": {},
   "outputs": [
    {
     "data": {
      "text/plain": [
       "'/data/hoan/amromics/simulation/art_output/spades_output_Ecolitest_GCF_014169015_v01'"
      ]
     },
     "execution_count": 145,
     "metadata": {},
     "output_type": "execute_result"
    }
   ],
   "source": [
    "spades_output = '/data/hoan/amromics/simulation/art_output/' + 'spades_output_' + sim_name + simversion[-4:]\n",
    "spades_output"
   ]
  },
  {
   "cell_type": "code",
   "execution_count": 146,
   "id": "3ee3e8cf-e24e-4cc7-8f5f-0e6c985389e6",
   "metadata": {},
   "outputs": [],
   "source": [
    "if run_spades:\n",
    "    spades_bin ='~/miniconda3/envs/amromics/bin/spades.py'\n",
    "    os.system(spades_bin+' --isolate -1 '+sim_output+'1.fq -2 '+sim_output+'2.fq -t 50 -o '+spades_output)"
   ]
  },
  {
   "cell_type": "markdown",
   "id": "810a07c5-1c26-4c6f-9f60-bcf6aae01147",
   "metadata": {},
   "source": [
    "### Run panta"
   ]
  },
  {
   "cell_type": "code",
   "execution_count": 147,
   "id": "97033d06-5c90-4760-a312-d6c129cf00d0",
   "metadata": {},
   "outputs": [
    {
     "data": {
      "text/plain": [
       "'_Ecoli50random_Ecolitest_GCF_014169015_plasmid_v01'"
      ]
     },
     "execution_count": 147,
     "metadata": {},
     "output_type": "execute_result"
    }
   ],
   "source": [
    "simversionRef = '_'+ pangenome_data.split('/')[-2] +'_'+ sim_name + simversion\n",
    "simversionRef"
   ]
  },
  {
   "cell_type": "code",
   "execution_count": 148,
   "id": "4b3b2a6c-1f8a-4c93-9687-f518ba5b67d5",
   "metadata": {},
   "outputs": [
    {
     "name": "stdout",
     "output_type": "stream",
     "text": [
      "Pangenome data:  /data/hoan/amromics/data/ncbi/Ecoli50random/\n"
     ]
    }
   ],
   "source": [
    "# move spades ouput to panta dir\n",
    "print('Pangenome data: ', pangenome_data)\n",
    "if run_panta:\n",
    "    os.system('cp '+spades_output+'/contigs.fasta ' + pangenome_data + 'g1.fna')\n",
    "    os.system('rm ' + pangenome_data + 'g1.fna.gz')\n",
    "    os.system('~/miniconda3/envs/panta/bin/gzip -k ' + pangenome_data + 'g1.fna')"
   ]
  },
  {
   "cell_type": "code",
   "execution_count": 149,
   "id": "df2d3cd7-cf59-4283-a675-aa5dcd0ac3de",
   "metadata": {},
   "outputs": [
    {
     "name": "stdout",
     "output_type": "stream",
     "text": [
      "PANTA OUTPUT:  /data/hoan/amromics/panta/examples/test/pantaOut_Ecoli50random_Ecolitest_GCF_014169015_plasmid_v01\n"
     ]
    }
   ],
   "source": [
    "# Run panta (change output dir)\n",
    "# https://askubuntu.com/questions/1252439/not-able-to-activate-conda-environment-through-os-system-command-in-python\n",
    "conda_dir = 'source ~/miniconda3/etc/profile.d/conda.sh && conda activate panta && '\n",
    "panta_bin =conda_dir+'python /data/hoan/amromics/panta/panta.py'\n",
    "panta_output = '/data/hoan/amromics/panta/examples/test/pantaOut' + simversionRef\n",
    "# panta_output = '/data/hoan/amromics/panta/examples/test/output_Kp100' \n",
    "if split_paralogs == 0:\n",
    "    panta_output = panta_output + '_nosplit'\n",
    "print('PANTA OUTPUT: ', panta_output)\n",
    "if run_panta:\n",
    "    if split_paralogs:\n",
    "        cmd_panta = panta_bin + ' -p init -a ' +pangenome_data+ '*.fna.gz -o '+panta_output +' -as -s -i 85 -c 20 -e 0.01'\n",
    "    else:\n",
    "        print(\"No split ortholog\")\n",
    "        cmd_panta = panta_bin + ' -p init -a ' +pangenome_data+ '*.fna.gz -o '+panta_output +' -as'\n",
    "    os.system(cmd_panta)"
   ]
  },
  {
   "cell_type": "markdown",
   "id": "00da366b-5605-4068-ac1d-9dd1162f316e",
   "metadata": {},
   "source": [
    "### Run pangraph"
   ]
  },
  {
   "cell_type": "code",
   "execution_count": 150,
   "id": "5ade0fe7-9980-4e5f-b93b-c3faef84950e",
   "metadata": {},
   "outputs": [
    {
     "name": "stdout",
     "output_type": "stream",
     "text": [
      "The autoreload extension is already loaded. To reload it, use:\n",
      "  %reload_ext autoreload\n"
     ]
    }
   ],
   "source": [
    "try:\n",
    "    %load_ext autoreload\n",
    "    %autoreload 2\n",
    "except Exception as e:\n",
    "    logging.error(traceback.format_exc())\n",
    "from pangraph import PanGraph"
   ]
  },
  {
   "cell_type": "code",
   "execution_count": 151,
   "id": "d1862260-72f1-4641-b810-94b4123a86ac",
   "metadata": {},
   "outputs": [],
   "source": [
    "# set parameters\n",
    "data_dir = panta_output \n",
    "incomplete_sample_name = 'g1'\n",
    "assem_dir = spades_output\n",
    "fasta_gen = 'partial' # 'all', 'partial'"
   ]
  },
  {
   "cell_type": "code",
   "execution_count": 152,
   "id": "dfd3bc62-c654-4354-96c9-67a9bbfa0b5e",
   "metadata": {},
   "outputs": [],
   "source": [
    "simversionRefNew = '_'+ pangenome_data.split('/')[-2] +'_'+ sim_name + simversionPangraph\n",
    "# pangraph_output_greedy_default = scaffold_out_dir + 'pangraph_greedy'+ simversionRef + '.fasta'\n",
    "# pangraph_output_opt_default = scaffold_out_dir + 'pangraph_opt'+ simversionRef + '.fasta'\n",
    "pangraph_output_greedy = scaffold_out_dir + 'pangraph_greedy'+ simversionRefNew + '.fasta'\n",
    "pangraph_output_opt = scaffold_out_dir + 'pangraph_opt'+ simversionRefNew + '.fasta'"
   ]
  },
  {
   "cell_type": "code",
   "execution_count": 153,
   "id": "ac2c9bb8-2ddb-43cd-a9a7-1651ff101500",
   "metadata": {},
   "outputs": [
    {
     "data": {
      "text/plain": [
       "'/data/hoan/amromics/genome-graph/scaffold_output/pangraph_opt_Ecoli50random_Ecolitest_GCF_014169015_assemBiGraph2_v01.fasta'"
      ]
     },
     "execution_count": 153,
     "metadata": {},
     "output_type": "execute_result"
    }
   ],
   "source": [
    "pangraph_output_opt"
   ]
  },
  {
   "cell_type": "code",
   "execution_count": 154,
   "id": "dc5c2923-ffaa-4e61-bbd9-999e3e6e1b03",
   "metadata": {},
   "outputs": [
    {
     "name": "stdout",
     "output_type": "stream",
     "text": [
      "Should we use target sequence as reference, hence, the strand will be ok\n",
      "Set minimum on number of nucleotides =  10 NUMBER OF COMPUTED CONTIGS: 234\n",
      "Clip the matrix 0.2 !!!!!!!!!!!!!!!!!!!!!!!!!!!!!!!!!!\n",
      "Use modified  assembly graph\n",
      "Use union graph: overlap + assembly\n",
      "Please set min_weight back to 1.0\n",
      "Will test this, Ok?\n",
      "Will test this, Ok?\n",
      "Success! File written\n"
     ]
    }
   ],
   "source": [
    "if run_pangraph:\n",
    "    # https://stackoverflow.com/questions/4990718/how-can-i-write-a-try-except-block-that-catches-all-exceptions\n",
    "    pangraph = PanGraph(sample_info=None, gene_info=None, gene_position=None)\n",
    "    try:\n",
    "        maximum_matching = 'greedy'\n",
    "        pangraph.run_pangraph_pipeline(data_dir, incomplete_sample_name, assem_dir, fasta_gen, pangraph_output_greedy, maximum_matching)\n",
    "    except Exception as e:\n",
    "        logging.error(traceback.format_exc())\n",
    "        # Logs the error appropriately. "
   ]
  },
  {
   "cell_type": "code",
   "execution_count": 155,
   "id": "f8418755-06c7-41c4-8349-884718e93900",
   "metadata": {},
   "outputs": [
    {
     "name": "stdout",
     "output_type": "stream",
     "text": [
      "Compute maximum matching\n",
      "Will test this, Ok?\n",
      "Will test this, Ok?\n",
      "Success! File written\n"
     ]
    }
   ],
   "source": [
    "if run_pangraph:\n",
    "    try:\n",
    "        maximum_matching = 'opt'\n",
    "        pangraph.RERUN_pangraph_pipeline(data_dir, incomplete_sample_name, assem_dir, fasta_gen, pangraph_output_opt, maximum_matching)\n",
    "    except Exception as e:\n",
    "        logging.error(traceback.format_exc())\n",
    "        # Logs the error appropriately. "
   ]
  },
  {
   "cell_type": "code",
   "execution_count": 156,
   "id": "9088612c-e3c6-4d7c-a7e7-9d583c3af177",
   "metadata": {},
   "outputs": [],
   "source": [
    "# try:\n",
    "#     maximum_matching = 'greedy'\n",
    "#     pangraph_output_greedy = spades_output + '/contigs_concat_'+ maximum_matching+ simversionRef + '.fasta'\n",
    "#     pangraph.RERUN_pangraph_pipeline(data_dir, incomplete_sample_name, assem_dir, fasta_gen, pangraph_output_opt, maximum_matching)\n",
    "# except Exception as e:\n",
    "#     logging.error(traceback.format_exc())\n",
    "#     # Logs the error appropriately. "
   ]
  },
  {
   "cell_type": "markdown",
   "id": "a21d3a7c-fc03-4c81-9957-93d225838fe5",
   "metadata": {},
   "source": [
    "### Run scaffold methods"
   ]
  },
  {
   "cell_type": "code",
   "execution_count": 157,
   "id": "3d4dd495-be29-4b69-81f6-a03f1027725e",
   "metadata": {},
   "outputs": [],
   "source": [
    "### Multi-CSAR\n",
    "conda_dir = 'source ~/miniconda3/etc/profile.d/conda.sh && conda activate py27 && '\n",
    "csar_bin = conda_dir + '/data/hoan/amromics/assembly/Multi-CSAR/./multi-csar.php'"
   ]
  },
  {
   "cell_type": "code",
   "execution_count": 158,
   "id": "571a94e7-92e9-49e8-87ca-7ddff8c08908",
   "metadata": {},
   "outputs": [],
   "source": [
    "multicsar_output = scaffold_out_dir + 'multicsar/multicsar' + simversionRef\n",
    "if run_multicsar:\n",
    "    os.system('rm ' + pangenome_data + 'fna/g1*')\n",
    "    os.system(csar_bin +' -t '+pangenome_data+'g1.fna -r '+pangenome_data+'fna/ --nuc -o '+multicsar_output)\n",
    "    # os.system(csar_bin +' -t '+pangenome_data+'g1.fna -r '+pangenome_data+'*.fna --nuc -o '+multicsar_output)"
   ]
  },
  {
   "cell_type": "code",
   "execution_count": 159,
   "id": "b36507eb-e063-4b98-b9b8-94f989d64252",
   "metadata": {},
   "outputs": [
    {
     "data": {
      "text/plain": [
       "'/data/hoan/amromics/genome-graph/scaffold_output/multicsar/multicsar_Ecoli50random_Ecolitest_GCF_014169015_plasmid_v01'"
      ]
     },
     "execution_count": 159,
     "metadata": {},
     "output_type": "execute_result"
    }
   ],
   "source": [
    "multicsar_output"
   ]
  },
  {
   "cell_type": "code",
   "execution_count": 160,
   "id": "1b914df9-78d2-4d3d-842f-e22ecb65fc4c",
   "metadata": {},
   "outputs": [],
   "source": [
    "### Ragout\n",
    "ragout_bin = 'source ~/miniconda3/etc/profile.d/conda.sh && conda activate py27 && ragout '\n",
    "ragout_output = scaffold_out_dir + 'multicsar/ragout' + simversionRef\n",
    "if run_ragout:\n",
    "    # write receipt file\n",
    "    ref_files_list = glob.glob(pangenome_data+'fna/*')\n",
    "    n_files = len(ref_files_list)\n",
    "    receipt_file_dir = '/data/hoan/amromics/assembly/Ragout/kp100'+simversionRef+'.rcp'\n",
    "    f = open(receipt_file_dir, \"w\")\n",
    "    f.write('.references = ')\n",
    "    for idx in range(n_files-1):\n",
    "        f.write('r' + str(idx) + ',')\n",
    "    f.write('r'+str(n_files-1)+'\\n')\n",
    "    f.write(\".target = mg1655\\n\\n\")\n",
    "    for idx in range(n_files):\n",
    "        f.write('r'+str(idx)+'.fasta =' + ref_files_list[idx] + '\\n')\n",
    "    f.write('mg1655.fasta = ' + spades_output+'/contigs.fasta\\n')\n",
    "    f.close()"
   ]
  },
  {
   "cell_type": "code",
   "execution_count": 161,
   "id": "c420de89-d23f-45ef-bb74-f47a5abcf988",
   "metadata": {},
   "outputs": [],
   "source": [
    "if run_ragout:\n",
    "    os.system(ragout_bin + receipt_file_dir + ' --outdir ' + ragout_output + ' --refine')\n",
    "    # ragout kp100_v2.rcp --outdir output_Kp100p_v2/ --refine"
   ]
  },
  {
   "cell_type": "code",
   "execution_count": 162,
   "id": "ca6e60d4-4815-48a0-9f87-5be961567050",
   "metadata": {},
   "outputs": [
    {
     "name": "stdout",
     "output_type": "stream",
     "text": [
      "/data/hoan/amromics/genome-graph/scaffold_output/multicsar/ragout_Ecoli50random_Ecolitest_GCF_014169015_plasmid_v01\n"
     ]
    }
   ],
   "source": [
    "print(ragout_output)"
   ]
  },
  {
   "cell_type": "markdown",
   "id": "f2188478-51fd-4f84-b640-6a9e96127648",
   "metadata": {},
   "source": [
    "### Quast "
   ]
  },
  {
   "cell_type": "code",
   "execution_count": 163,
   "id": "6cb3eaf5-604c-4dca-a28f-2140bb28534f",
   "metadata": {},
   "outputs": [
    {
     "data": {
      "text/plain": [
       "'/data/hoan/amromics/genome-graph/scaffold_output/quastResults_Ecoli50random_Ecolitest_GCF_014169015_assemBiGraph2_v01'"
      ]
     },
     "execution_count": 163,
     "metadata": {},
     "output_type": "execute_result"
    }
   ],
   "source": [
    "quast_output = '/data/hoan/amromics/genome-graph/scaffold_output/quastResults' + simversionRefNew\n",
    "quast_output"
   ]
  },
  {
   "cell_type": "code",
   "execution_count": 164,
   "id": "24b358d7-6607-4228-87bb-b30b626ba330",
   "metadata": {},
   "outputs": [
    {
     "name": "stdout",
     "output_type": "stream",
     "text": [
      "/data/hoan/amromics/spades_quast/quast-5.2.0/quast.py /data/hoan/amromics/genome-graph/scaffold_output/pangraph_opt_Ecoli50random_Ecolitest_GCF_014169015_assemBiGraph2_v01.fasta /data/hoan/amromics/genome-graph/scaffold_output/pangraph_greedy_Ecoli50random_Ecolitest_GCF_014169015_assemBiGraph2_v01.fasta /data/hoan/amromics/genome-graph/scaffold_output/multicsar/multicsar_Ecoli50random_Ecolitest_GCF_014169015_plasmid_v01/multi-csar.nuc.out.fna /data/hoan/amromics/simulation/art_output/spades_output_Ecolitest_GCF_014169015_v01/contigs.fasta -l Pangraph_OPT, Pangraph_Greedy, Multi-CSAR, SPADES -r /data/hoan/amromics/data/ncbi/Ecolitest/GCF_014169015.1_ASM1416901v1_genomic.fna -o /data/hoan/amromics/genome-graph/scaffold_output/quastResults_Ecoli50random_Ecolitest_GCF_014169015_assemBiGraph2_v01 --silent --extensive-mis-size 5000 --local-mis-size 3000\n",
      "\n",
      "\n",
      "System information:\n",
      "  OS: Linux-3.10.0-1160.15.2.el7.x86_64-x86_64-with-redhat-7.9-Nitrogen (linux_64)\n",
      "  Python version: 2.7.5\n",
      "  CPUs number: 72\n",
      "\n",
      "Started: 2023-01-28 16:18:18\n",
      "\n",
      "Logging to /data/hoan/amromics/genome-graph/scaffold_output/quastResults_Ecoli50random_Ecolitest_GCF_014169015_assemBiGraph2_v01/quast.log\n",
      "NOTICE: Output directory already exists and looks like a QUAST output dir. Existing results can be reused (e.g. previously generated alignments)!\n",
      "NOTICE: Maximum number of threads is set to 18 (use --threads option to set it manually)\n",
      "\n",
      "CWD: /data/hoan/amromics/genome-graph\n",
      "Main parameters: \n",
      "  MODE: default, threads: 18, min contig length: 500, min alignment length: 65, min alignment IDY: 95.0, \\\n",
      "  ambiguity: one, min local misassembly length: 3000, min extensive misassembly length: 5000\n",
      "\n",
      "Reference:\n",
      "  /data/hoan/amromics/data/ncbi/Ecolitest/GCF_014169015.1_ASM1416901v1_genomic.fna ==> GCF_014169015.1_ASM1416901v1_genomic\n",
      "\n",
      "Contigs:\n",
      "  Pre-processing...\n",
      "  1  /data/hoan/amromics/genome-graph/scaffold_output/pangraph_opt_Ecoli50random_Ecolitest_GCF_014169015_assemBiGraph2_v01.fasta ==> Pangraph_OPT\n",
      "  2  /data/hoan/amromics/genome-graph/scaffold_output/pangraph_greedy_Ecoli50random_Ecolitest_GCF_014169015_assemBiGraph2_v01.fasta ==> Pangraph_Greedy\n",
      "  3  /data/hoan/amromics/genome-graph/scaffold_output/multicsar/multicsar_Ecoli50random_Ecolitest_GCF_014169015_plasmid_v01/multi-csar.nuc.out.fna ==> Multi-CSAR\n",
      "  4  /data/hoan/amromics/simulation/art_output/spades_output_Ecolitest_GCF_014169015_v01/contigs.fasta ==> SPADES\n",
      "\n",
      "2023-01-28 16:18:19\n",
      "Running Basic statistics processor...\n"
     ]
    },
    {
     "name": "stderr",
     "output_type": "stream",
     "text": [
      "Unable to parse the pattern\n",
      "Unable to parse the pattern\n",
      "Unable to parse the pattern\n"
     ]
    },
    {
     "name": "stdout",
     "output_type": "stream",
     "text": [
      "Done.\n",
      "\n",
      "2023-01-28 16:18:23\n",
      "Running Contig analyzer...\n",
      "Done.\n",
      "\n",
      "2023-01-28 16:18:25\n",
      "Running NA-NGA calculation...\n",
      "Done.\n",
      "\n",
      "2023-01-28 16:18:26\n",
      "Running Genome analyzer...\n",
      "  NOTICE: No file with genomic features were provided. Use the --features option if you want to specify it.\n",
      "\n",
      "  NOTICE: No file with operons were provided. Use the -O option if you want to specify it.\n",
      "Done.\n",
      "\n",
      "NOTICE: Genes are not predicted by default. Use --gene-finding or --glimmer option to enable it.\n",
      "\n",
      "2023-01-28 16:18:28\n",
      "Creating large visual summaries...\n",
      "This may take a while: press Ctrl-C to skip this step..\n",
      "  1 of 2: Creating PDF with all tables and plots...\n",
      "  2 of 2: Creating Icarus viewers...\n",
      "Done\n",
      "\n",
      "2023-01-28 16:18:30\n",
      "RESULTS:\n",
      "  Text versions of total report are saved to /data/hoan/amromics/genome-graph/scaffold_output/quastResults_Ecoli50random_Ecolitest_GCF_014169015_assemBiGraph2_v01/report.txt, report.tsv, and report.tex\n",
      "  Text versions of transposed total report are saved to /data/hoan/amromics/genome-graph/scaffold_output/quastResults_Ecoli50random_Ecolitest_GCF_014169015_assemBiGraph2_v01/transposed_report.txt, transposed_report.tsv, and transposed_report.tex\n",
      "  PDF version (tables and plots) is saved to /data/hoan/amromics/genome-graph/scaffold_output/quastResults_Ecoli50random_Ecolitest_GCF_014169015_assemBiGraph2_v01/report.pdf\n",
      "  Icarus (contig browser) is saved to /data/hoan/amromics/genome-graph/scaffold_output/quastResults_Ecoli50random_Ecolitest_GCF_014169015_assemBiGraph2_v01/icarus.html\n",
      "  Log is saved to /data/hoan/amromics/genome-graph/scaffold_output/quastResults_Ecoli50random_Ecolitest_GCF_014169015_assemBiGraph2_v01/quast.log\n",
      "\n",
      "Finished: 2023-01-28 16:18:30\n",
      "Elapsed time: 0:00:12.097807\n",
      "NOTICEs: 5; WARNINGs: 0; non-fatal ERRORs: 0\n",
      "\n",
      "Thank you for using QUAST!\n"
     ]
    }
   ],
   "source": [
    "quast_bin = 'python /data/hoan/amromics/spades_quast/quast-5.2.0/quast.py '\n",
    "spades_output_fasta = spades_output+'/contigs.fasta'\n",
    "multicsar_output_fasta = multicsar_output +'/multi-csar.nuc.out.fna'\n",
    "ragout_output_fasta = ragout_output + '/mg1655_scaffolds.fasta'\n",
    "if 1:\n",
    "    if os.path.isfile(ragout_output_fasta):\n",
    "        os.system(quast_bin + pangraph_output_opt+' '+ pangraph_output_greedy+' '+ multicsar_output_fasta+' '+ragout_output_fasta+' '+spades_output_fasta+' '+\n",
    "        '-l \"Pangraph_OPT, Pangraph_Greedy, Multi-CSAR, Ragout, SPADES\" '+ '-r '+ref_data+' -o '+ quast_output+' --silent --extensive-mis-size 5000 --local-mis-size 3000')\n",
    "    else:\n",
    "        os.system(quast_bin + pangraph_output_opt+' '+ pangraph_output_greedy+' '+ multicsar_output_fasta+' '+spades_output_fasta+' '+\n",
    "        '-l \"Pangraph_OPT, Pangraph_Greedy, Multi-CSAR, SPADES\" '+ '-r '+ref_data+' -o '+ quast_output+' --silent --extensive-mis-size 5000 --local-mis-size 3000')"
   ]
  },
  {
   "cell_type": "code",
   "execution_count": 165,
   "id": "48ab6ebc-fa9f-4083-89c0-13c6fa7a527f",
   "metadata": {},
   "outputs": [],
   "source": [
    "# stop"
   ]
  },
  {
   "cell_type": "code",
   "execution_count": 166,
   "id": "9405e3ed-85d8-4ee7-a329-c2058637d043",
   "metadata": {},
   "outputs": [],
   "source": [
    "# pangraph.edge_df0[-20:]"
   ]
  },
  {
   "cell_type": "code",
   "execution_count": 167,
   "id": "ec7d6e6e-81bf-4a3d-8a9a-feec11764efd",
   "metadata": {},
   "outputs": [],
   "source": [
    "# # pangraph.H[\"weight\"][0:4]\n",
    "# iteration = 0\n",
    "# for u,v,a in pangraph.H.edges(data=True):\n",
    "#     print(a)\n",
    "#     iteration += 1\n",
    "#     if iteration > 10:\n",
    "#         break;"
   ]
  },
  {
   "cell_type": "code",
   "execution_count": 168,
   "id": "ee493830-bdb8-46a5-83ba-4ec408f1fd07",
   "metadata": {},
   "outputs": [],
   "source": [
    "# nx.write_gml(pangraph.assembly_graph, quast_output+'/assembly_graph.gml')"
   ]
  },
  {
   "cell_type": "code",
   "execution_count": 169,
   "id": "eb32a794-a0be-4756-9867-5ff8a178f4d4",
   "metadata": {},
   "outputs": [
    {
     "data": {
      "text/plain": [
       "3240"
      ]
     },
     "execution_count": 169,
     "metadata": {},
     "output_type": "execute_result"
    }
   ],
   "source": [
    "pangraph.assembly_graph.number_of_edges()"
   ]
  },
  {
   "cell_type": "code",
   "execution_count": 170,
   "id": "701f03d1-9ab2-4b2e-864a-272fdda10346",
   "metadata": {},
   "outputs": [
    {
     "data": {
      "text/plain": [
       "1"
      ]
     },
     "execution_count": 170,
     "metadata": {},
     "output_type": "execute_result"
    }
   ],
   "source": [
    "len(list(nx.weakly_connected_components(pangraph.assembly_graph)))"
   ]
  },
  {
   "cell_type": "code",
   "execution_count": 171,
   "id": "318736c1-6cf1-4d1f-becb-46d56a248336",
   "metadata": {},
   "outputs": [],
   "source": [
    "# pangraph.weighted_CG.nodes()"
   ]
  },
  {
   "cell_type": "code",
   "execution_count": 172,
   "id": "7c8f48ee-1162-4652-a4fb-fba44b9ddaaf",
   "metadata": {},
   "outputs": [
    {
     "data": {
      "text/plain": [
       "245421"
      ]
     },
     "execution_count": 172,
     "metadata": {},
     "output_type": "execute_result"
    }
   ],
   "source": [
    "len(list(nx.weakly_connected_components(pangraph.H)))"
   ]
  },
  {
   "cell_type": "code",
   "execution_count": 173,
   "id": "cad64bbb-999e-4fa4-a421-73c20274d6bd",
   "metadata": {},
   "outputs": [
    {
     "data": {
      "text/plain": [
       "(250091, 4876)"
      ]
     },
     "execution_count": 173,
     "metadata": {},
     "output_type": "execute_result"
    }
   ],
   "source": [
    "pangraph.H.number_of_nodes(), pangraph.H.number_of_edges()"
   ]
  },
  {
   "cell_type": "code",
   "execution_count": 174,
   "id": "0fe38f01-e457-42dc-b477-cba37bd35849",
   "metadata": {},
   "outputs": [
    {
     "data": {
      "text/plain": [
       "'/data/hoan/amromics/data/ncbi/Ecolitest/GCF_014169015.1_ASM1416901v1_genomic.fna'"
      ]
     },
     "execution_count": 174,
     "metadata": {},
     "output_type": "execute_result"
    }
   ],
   "source": [
    "ref_data"
   ]
  },
  {
   "cell_type": "markdown",
   "id": "92fe66ed-e316-41ae-a09c-ae1351304c69",
   "metadata": {},
   "source": [
    "## Analysis"
   ]
  },
  {
   "cell_type": "code",
   "execution_count": 175,
   "id": "d1b43cf8-8b32-41b6-b371-ee7454278384",
   "metadata": {},
   "outputs": [],
   "source": [
    "# minimap2 /data/hoan/amromics/data/ncbi/Ecolitest/GCF_002860105.1_ASM286010v1_genomic.fna /data/hoan/amromics/genome-graph/scaffold_output/pangraph_opt_Ecoli100random_Ecoli_plasmid_v01.fasta > contigs100vsref_mapping_v01a.paf\n",
    "cmd_minimap = '~/miniconda3/envs/amromics/bin/minimap2 '+ref_data +' '+ spades_output +'/contigs.fasta' +' > scaffold_output/minimap_out/mapping.paf' "
   ]
  },
  {
   "cell_type": "code",
   "execution_count": 176,
   "id": "712adc28-a267-489d-a85a-9dc6c5cf8f41",
   "metadata": {},
   "outputs": [
    {
     "name": "stderr",
     "output_type": "stream",
     "text": [
      "[M::mm_idx_gen::0.204*1.01] collected minimizers\n",
      "[M::mm_idx_gen::0.258*1.42] sorted minimizers\n",
      "[M::main::0.258*1.42] loaded/built the index for 5 target sequence(s)\n",
      "[M::mm_mapopt_update::0.292*1.37] mid_occ = 11\n",
      "[M::mm_idx_stat] kmer size: 15; skip: 10; is_hpc: 0; #seq: 5\n",
      "[M::mm_idx_stat::0.311*1.35] distinct minimizers: 938586 (97.76% are singletons); average occurrences: 1.036; average spacing: 5.349; total length: 5203192\n",
      "[M::worker_pipeline::0.806*2.31] mapped 333 sequences\n",
      "[M::main] Version: 2.24-r1122\n",
      "[M::main] CMD: /home/vanhoan310/miniconda3/envs/amromics/bin/minimap2 /data/hoan/amromics/data/ncbi/Ecolitest/GCF_014169015.1_ASM1416901v1_genomic.fna /data/hoan/amromics/simulation/art_output/spades_output_Ecolitest_GCF_014169015_v01/contigs.fasta\n",
      "[M::main] Real time: 0.821 sec; CPU: 1.876 sec; Peak RSS: 0.070 GB\n"
     ]
    }
   ],
   "source": [
    "os.system(cmd_minimap)\n",
    "df = pd.read_csv(\"scaffold_output/minimap_out/mapping.paf\", sep =\"\\t\", header=None)"
   ]
  },
  {
   "cell_type": "code",
   "execution_count": 177,
   "id": "d6b53cd1-219a-478a-9d41-422cd3cb3fc3",
   "metadata": {},
   "outputs": [
    {
     "data": {
      "text/plain": [
       "'NZ_AP022044.1'"
      ]
     },
     "execution_count": 177,
     "metadata": {},
     "output_type": "execute_result"
    }
   ],
   "source": [
    "df\n",
    "ref_id = df.iloc[0,5]\n",
    "ref_id"
   ]
  },
  {
   "cell_type": "code",
   "execution_count": 178,
   "id": "3e6e9924-5b7b-4c6c-aff8-14707e2aba01",
   "metadata": {},
   "outputs": [],
   "source": [
    "final_df = df.loc[df[5] == ref_id]\n",
    "final_df = final_df.sort_values(by=[7])"
   ]
  },
  {
   "cell_type": "code",
   "execution_count": 179,
   "id": "dfd239fd-3148-45da-be87-1365014dc54b",
   "metadata": {},
   "outputs": [],
   "source": [
    "target_id = 0\n",
    "gene_position = pd.read_csv(panta_output + '/gene_position.tsv', delimiter='\\t', header=None)\n",
    "gene_position.columns =['SampleID', 'ContigName', 'GeneSequence']\n",
    "target_contigs = [gene_position.iloc[i, 1] for i in range(len(gene_position.index)) if gene_position.iloc[i, 0]==target_id]"
   ]
  },
  {
   "cell_type": "code",
   "execution_count": 180,
   "id": "372759b9-1e39-4aab-9e8e-35b042deb362",
   "metadata": {},
   "outputs": [],
   "source": [
    "target_contigs_list = [final_df.iloc[i, 0] for i in range(len(final_df.index)) if final_df.iloc[i, 0] in target_contigs]\n",
    "target_contigs_sorted = [final_df.iloc[i, 0]+'---'+str(final_df.iloc[i, 7])+'>'+str(final_df.iloc[i, 8]) for i in range(len(final_df.index)) if final_df.iloc[i, 0] in target_contigs]"
   ]
  },
  {
   "cell_type": "code",
   "execution_count": 181,
   "id": "a40629a5-c6cb-40ae-9395-846a4871748e",
   "metadata": {},
   "outputs": [],
   "source": [
    "# gene_position[gene_position.ContigName=='NODE_90_length_903_cov_80.779481'].iloc[0,2].split(';')"
   ]
  },
  {
   "cell_type": "code",
   "execution_count": 182,
   "id": "eff76bda-76a6-4cc1-a9cb-2f9b409783e3",
   "metadata": {},
   "outputs": [],
   "source": [
    "# cluster_id = pangraph.gene2cluster_dict['0_5213@255@-1']"
   ]
  },
  {
   "cell_type": "code",
   "execution_count": 183,
   "id": "cd2f5366-805f-4523-8475-015ed5836b2e",
   "metadata": {},
   "outputs": [],
   "source": [
    "gene_info = pd.read_csv(panta_output + \"/gene_info.tsv\", delimiter='\\t', header=None)\n",
    "gene_info.columns =['GeneName', 'SampleID', 'clusterID']"
   ]
  },
  {
   "cell_type": "code",
   "execution_count": 184,
   "id": "d2bd2039-fe13-46d5-ac48-a8f5517bd48b",
   "metadata": {},
   "outputs": [],
   "source": [
    "# gene_info[gene_info.clusterID==cluster_id]"
   ]
  },
  {
   "cell_type": "code",
   "execution_count": 185,
   "id": "555b5448-d147-4790-8606-3c9e179aa3b6",
   "metadata": {},
   "outputs": [
    {
     "data": {
      "text/plain": [
       "['NODE_83_length_1298_cov_143.518906---4866903>4868194',\n",
       " 'NODE_19_length_109099_cov_18.811397---4868771>4977867',\n",
       " 'NODE_83_length_1298_cov_143.518906---4981400>4982691',\n",
       " 'NODE_28_length_57572_cov_18.759167---4983278>5040837']"
      ]
     },
     "execution_count": 185,
     "metadata": {},
     "output_type": "execute_result"
    }
   ],
   "source": [
    "target_contigs_sorted[-4:]"
   ]
  },
  {
   "cell_type": "code",
   "execution_count": 186,
   "id": "1919f425-77f0-4130-8ee2-dcd141164bdc",
   "metadata": {},
   "outputs": [],
   "source": [
    "# pangraph.adj_list0"
   ]
  },
  {
   "cell_type": "code",
   "execution_count": 187,
   "id": "8bfe6670-0315-4fd6-93b2-76813c973246",
   "metadata": {},
   "outputs": [],
   "source": [
    "# cmd_dnadiff = '~/miniconda3/envs/amromics/bin/dnadiff '+ref_data +' '+ spades_output +'/contigs.fasta -p dna_diff/'+sim_name\n",
    "# os.system(cmd_dnadiff)"
   ]
  },
  {
   "cell_type": "code",
   "execution_count": 188,
   "id": "94805bbf-be0d-4253-91e1-0c2bce9d94c1",
   "metadata": {},
   "outputs": [],
   "source": [
    "# Don't use SPADES, shovil keep files.\n",
    "# python readSimulator/readSimulator.py --outdir shredded_reads  --input ncbi-genomes-2023-01-07/GCF_000240185.1_ASM24018v2_genomic.fna --simulator art --simulator_path art_bin_MountRainier/art_illumina --iterations 100 --readlen 100 --depth 100  --opts '-ss HS20 -sam -p -m 400 -s 60'\n",
    "# investigate why we failed? #1/ connectivity in the assembly graph:\n",
    "# multiplicity of each node: now 1, change to more: use length and coverage\n",
    "# assembly graph: change to 500"
   ]
  },
  {
   "cell_type": "code",
   "execution_count": 189,
   "id": "73fd4dcb-4f49-4fae-97bb-36f79606b147",
   "metadata": {},
   "outputs": [],
   "source": [
    "from pangraph.utils import get_node_coverage, get_node_length, get_value, next_node_multi_1, next_node_length"
   ]
  },
  {
   "cell_type": "code",
   "execution_count": 190,
   "id": "8009b9c5-a780-4341-8f04-1d7d15669ea3",
   "metadata": {},
   "outputs": [],
   "source": [
    "get_node_coverage('NODE_45_length_30843_cov_18.832500')\n",
    "target_contigs_multi_1 = [item for item in target_contigs_list if get_node_coverage(item) <= 25.0]"
   ]
  },
  {
   "cell_type": "code",
   "execution_count": 191,
   "id": "9b8f97b5-4d2a-4434-8382-408333b57cc2",
   "metadata": {},
   "outputs": [],
   "source": [
    "# target_contigs_multi_1"
   ]
  },
  {
   "cell_type": "code",
   "execution_count": 192,
   "id": "ac259408-6ad5-4400-acb5-3709bcf2c1a9",
   "metadata": {},
   "outputs": [],
   "source": [
    "# assembly_graph = pangraph.assembly_graph\n",
    "# for i in range(len(target_contigs_list)-1):\n",
    "#     print('---------------------- i =', i, '---------------------------------------------')\n",
    "#     node1 = target_contigs_list[i]\n",
    "#     node2 = target_contigs_list[i+1]\n",
    "#     print(target_contigs_sorted[i],'::::::::', target_contigs_sorted[i+1])\n",
    "#     source_id = 'C-' + str(pangraph.tail_contig[node1])\n",
    "#     target_id = 'C-' + str(pangraph.head_contig[node2]) \n",
    "#     source_node = node1 + pangraph.strand[node1]\n",
    "#     target_node = node2 + pangraph.strand[node2]\n",
    "#     if assembly_graph.has_node(source_node) and assembly_graph.has_node(target_node):\n",
    "#         print(\"Is there a path in the assembly graph? \", end ='')\n",
    "#         print(nx.has_path(assembly_graph, source_node, target_node), end = ',')   \n",
    "#         if nx.has_path(assembly_graph, source_node, target_node):\n",
    "#             path_nucleotides = -1\n",
    "#             path = nx.shortest_path(assembly_graph, source=source_node, target=target_node)\n",
    "#             for idxp in range(1, len(path)-1):\n",
    "#                 path_nucleotides = path_nucleotides + int(path[idxp].split(\"_\")[3])\n",
    "#             print(' number of nucleotides: ', path_nucleotides)\n",
    "#         else:\n",
    "#             print('<----xxxxxxxxxxxxxxxxxxxxxxxxxxxxxxxxxxxxx')\n",
    "#     print(\"Is there a path in the pangenome graph? \", end ='')\n",
    "#     if nx.has_path(pangraph.H, source_id, target_id):\n",
    "#         p = nx.shortest_path(pangraph.H, source=source_id, target=target_id)\n",
    "#         weight_p = 0.0\n",
    "#         for node_p_idx in range(len(p)-1):\n",
    "#             weight_p += pangraph.H[p[node_p_idx]][p[node_p_idx+1]]['weight']\n",
    "#         if len(p) >= 2:\n",
    "#             weight_p = 0.05 + weight_p/float((len(p)-1)*(len(p)-1))\n",
    "#         print(\"Yes!, cost = \", weight_p)\n",
    "#     else:\n",
    "#         print(\"No path in Pangraph\")\n",
    "#     print(\"Real cost between the two contigs: \", end ='')\n",
    "#     get_value(pangraph.edge_df0, node1, node2)   \n",
    "#     # if get_node_coverage(node2) >= 25.0:\n",
    "#     # node2 = next_node_multi_1(target_contigs_list, i+1)\n",
    "#     if get_node_length(node1) >= 3000 and get_node_length(node2) <= 3000:\n",
    "#         node2 = next_node_length(target_contigs_list, i+1, 5000)\n",
    "#         print('******************************************************************************************************************************************************')\n",
    "#         print(node1, node2)\n",
    "#         source_id = 'C-' + str(pangraph.tail_contig[node1])\n",
    "#         target_id = 'C-' + str(pangraph.head_contig[node2]) \n",
    "#         source_node = node1 + pangraph.strand[node1]\n",
    "#         target_node = node2 + pangraph.strand[node2]\n",
    "#         if assembly_graph.has_node(source_node) and assembly_graph.has_node(target_node):\n",
    "#             print(\"Is there a path in the assembly graph? \", end ='')\n",
    "#             print(nx.has_path(assembly_graph, source_node, target_node), end = ',')   \n",
    "#             if nx.has_path(assembly_graph, source_node, target_node):\n",
    "#                 path_nucleotides = -1\n",
    "#                 path = nx.shortest_path(assembly_graph, source=source_node, target=target_node)\n",
    "#                 for idxp in range(1, len(path)-1):\n",
    "#                     path_nucleotides = path_nucleotides + int(path[idxp].split(\"_\")[3])\n",
    "#                 print(' number of nucleotides: ', path_nucleotides)\n",
    "#             else:\n",
    "#                 print('<----xxxxxxxxxxxxxxxxxxxxxxxxxxxxxxxxxxxxx')\n",
    "#         print(\"Is there a path in the pangenome graph? \", end ='')\n",
    "#         if nx.has_path(pangraph.H, source_id, target_id):\n",
    "#             p = nx.shortest_path(pangraph.H, source=source_id, target=target_id)\n",
    "#             weight_p = 0.0\n",
    "#             for node_p_idx in range(len(p)-1):\n",
    "#                 weight_p += pangraph.H[p[node_p_idx]][p[node_p_idx+1]]['weight']\n",
    "#             if len(p) >= 2:\n",
    "#                 weight_p = 0.05 + weight_p/float((len(p)-1)*(len(p)-1))\n",
    "#             print(\"Yes!, cost = \", weight_p)\n",
    "#         else:\n",
    "#             print(\"No path in Pangraph\")\n",
    "#         print(\"Real cost between the two contigs: \", end ='')\n",
    "#         get_value(pangraph.edge_df0, node1, node2)"
   ]
  },
  {
   "cell_type": "code",
   "execution_count": 193,
   "id": "fd836ce1-8041-4358-b4b7-d2f115504794",
   "metadata": {},
   "outputs": [],
   "source": [
    "# pangraph.edge_df0"
   ]
  },
  {
   "cell_type": "code",
   "execution_count": 194,
   "id": "cdd5a316-4e67-4a95-b446-1bf353165396",
   "metadata": {},
   "outputs": [],
   "source": [
    "# pangraph.edge_df0['source'].values"
   ]
  },
  {
   "cell_type": "code",
   "execution_count": 195,
   "id": "5ba67867-330c-4f52-8220-b3fab4304976",
   "metadata": {},
   "outputs": [],
   "source": [
    "## Xet chieu trong trinh dai dien de sua roi inversion."
   ]
  },
  {
   "cell_type": "code",
   "execution_count": 196,
   "id": "c1fd520a-b726-4bf7-a734-bd53423fb71e",
   "metadata": {},
   "outputs": [],
   "source": [
    "# Ideas:\n",
    "# Nhiều cái nối bị sai vì các repetitive. (Xét long range relationship, hiện tại ta chỉ xét short range). \n",
    "# Cần phải có cái nhìn dài hơn. Giả sử là dùng greedy thì nếu thằng được xét có độ dài lớn, ta tính khoảng cách của nó đến một thằng\n",
    "# có độ dài lớn, nếu khả năng nối là thấp thì ta bỏ qua và ko cho vào kết quả. \n",
    "# Quast circular???"
   ]
  },
  {
   "cell_type": "code",
   "execution_count": 197,
   "id": "d4f9b8d7-c5b9-429a-934a-7a7ca2cb5ffc",
   "metadata": {},
   "outputs": [],
   "source": [
    "import glob\n",
    "import os\n",
    "# list_file = glob.glob(\"/data/hoan/amromics/genome-graph/scaffold_output/quastResults_Kp50random_Kptest*/report.pdf\")\n",
    "# list_file = glob.glob(\"/data/hoan/amromics/genome-graph/scaffold_output/*Multiplicity_v01/report.pdf\")\n",
    "list_file = glob.glob(\"/data/hoan/amromics/genome-graph/scaffold_output/*0.4_v01/report.pdf\")"
   ]
  },
  {
   "cell_type": "code",
   "execution_count": 198,
   "id": "a0bc3125-1500-4da8-8558-1b4816e8a2d6",
   "metadata": {},
   "outputs": [],
   "source": [
    "# for file in list_file:\n",
    "#     sample_id = file.split(\"/\")[-2].split(\"_\")[4]\n",
    "#     cmd = 'mv ' + file +' '+ file[:-10] + str(sample_id) + '_t4.pdf'\n",
    "#     print(cmd)\n",
    "#     os.system(cmd)"
   ]
  },
  {
   "cell_type": "code",
   "execution_count": 199,
   "id": "17ee823a-c562-4d16-a0dc-e841c6e95c88",
   "metadata": {},
   "outputs": [],
   "source": [
    "# for i in range(len(target_contigs_sorted)):\n",
    "#     print(target_contigs_sorted[i], end = ', ')\n",
    "#     if (i+1)%3==0:\n",
    "#         print('')"
   ]
  },
  {
   "cell_type": "code",
   "execution_count": 200,
   "id": "d914523a-7aef-4da6-b224-dd3ac6173e56",
   "metadata": {},
   "outputs": [],
   "source": [
    "# pangraph.adj_list_assembly"
   ]
  },
  {
   "cell_type": "code",
   "execution_count": 201,
   "id": "e37d4a68-6b94-4c54-8eb6-bbd4c068625a",
   "metadata": {},
   "outputs": [],
   "source": [
    "# pangraph.adj_list0"
   ]
  },
  {
   "cell_type": "code",
   "execution_count": 202,
   "id": "746e2fc3-dfcc-4b55-b87b-552fca9f4ba6",
   "metadata": {},
   "outputs": [],
   "source": [
    "# node1 = 'NODE_13_length_123136_cov_19.311462'\n",
    "# node2 = 'NODE_4_length_210493_cov_18.979267'\n",
    "# source_id = 'C-' + str(pangraph.tail_contig[node1])\n",
    "# target_id = 'C-' + str(pangraph.head_contig[node2]) \n",
    "# source_node = node1 + pangraph.strand[node1]\n",
    "# target_node = node2 + pangraph.strand[node2]\n",
    "\n",
    "# if assembly_graph.has_node(source_node) and assembly_graph.has_node(target_node):\n",
    "#     print(\"Is there a path in the assembly graph? \", end ='')\n",
    "#     print(nx.has_path(assembly_graph, source_node, target_node), end = ',')   \n",
    "#     if nx.has_path(assembly_graph, source_node, target_node):\n",
    "#         path_nucleotides = -1\n",
    "#         path = nx.shortest_path(assembly_graph, source=source_node, target=target_node)\n",
    "#         for idxp in range(1, len(path)-1):\n",
    "#             path_nucleotides = path_nucleotides + int(path[idxp].split(\"_\")[3])\n",
    "#         print(' number of nucleotides: ', path_nucleotides)\n",
    "#     else:\n",
    "#         print('<----xxxxxxxxxxxxxxxxxxxxxxxxxxxxxxxxxxxxx')\n",
    "# print(\"Is there a path in the pangenome graph? \", end ='')\n",
    "# if nx.has_path(pangraph.H, source_id, target_id):\n",
    "#     p = nx.shortest_path(pangraph.H, source=source_id, target=target_id)\n",
    "#     weight_p = 0.0\n",
    "#     for node_p_idx in range(len(p)-1):\n",
    "#         weight_p += pangraph.H[p[node_p_idx]][p[node_p_idx+1]]['weight']\n",
    "#     if len(p) >= 2:\n",
    "#         weight_p = 0.05 + weight_p/float((len(p)-1)*(len(p)-1))\n",
    "#     print(\"Yes!, cost = \", weight_p)\n",
    "# else:\n",
    "#     print(\"No path in Pangraph\")\n",
    "# print(\"Real cost between the two contigs: \", end ='')\n",
    "# get_value(pangraph.edge_df0, node1, node2)"
   ]
  },
  {
   "cell_type": "code",
   "execution_count": 203,
   "id": "010ee282-000a-49d5-9dd3-cf5cb4870bdd",
   "metadata": {},
   "outputs": [],
   "source": [
    "# gene_position = pd.read_csv(panta_output + \"/gene_position.tsv\", delimiter='\\t', header=None)\n",
    "# gene_position.columns =['SampleID', 'ContigName', 'GeneSequence']\n",
    "# gene_position_sub = gene_position[gene_position.SampleID==0]\n",
    "# nodes_list = list(gene_position_sub.iloc[:,1].values)\n",
    "# nodes_len = [int(node.split(\"_\")[3]) for node in nodes_list]\n",
    "# nodes_coverage = [float(node.split(\"_\")[5]) for node in nodes_list]\n",
    "# gene_position_sub['length'] = nodes_len\n",
    "# gene_position_sub['coverage'] = nodes_coverage\n",
    "# gene_position_sub = gene_position_sub.sort_values(by='length', ascending=False)\n",
    "# basecoverage = np.median(gene_position_sub['coverage'][:5])\n",
    "# expected_node_coverage = [min(9, round(gene_position_sub.iloc[i, 4]/basecoverage)) for i in range(len(nodes_coverage))]\n",
    "# node_multiplicity = {}\n",
    "# for i in range(len(nodes_coverage)):\n",
    "#     node_multiplicity[gene_position_sub.iloc[i,1]] = expected_node_coverage[i]"
   ]
  },
  {
   "cell_type": "code",
   "execution_count": 204,
   "id": "b7468826-4351-41ef-8a7d-13d0abe2d81a",
   "metadata": {},
   "outputs": [],
   "source": [
    "# node_multiplicity"
   ]
  },
  {
   "cell_type": "code",
   "execution_count": 205,
   "id": "a974d2dc-13fc-4773-b5a6-db158d0757c7",
   "metadata": {},
   "outputs": [],
   "source": [
    "# nx.draw(pangraph.contig_graph)"
   ]
  },
  {
   "cell_type": "code",
   "execution_count": 206,
   "id": "4b7704c3-3a36-419c-8810-011e59ee3634",
   "metadata": {},
   "outputs": [],
   "source": [
    "# pangraph.contig_graph.nodes"
   ]
  },
  {
   "cell_type": "code",
   "execution_count": 207,
   "id": "8637c1ad-a280-4c60-a139-4db1d1c2ff7e",
   "metadata": {},
   "outputs": [],
   "source": [
    "# nx.write_gml(pangraph.contig_graph,'contig_gr.gml')"
   ]
  },
  {
   "cell_type": "code",
   "execution_count": null,
   "id": "cbf58fc2-adcd-4b18-a24d-5e2280f45cc8",
   "metadata": {},
   "outputs": [],
   "source": []
  }
 ],
 "metadata": {
  "kernelspec": {
   "display_name": "Environment (panta)",
   "language": "python",
   "name": "panta"
  },
  "language_info": {
   "codemirror_mode": {
    "name": "ipython",
    "version": 3
   },
   "file_extension": ".py",
   "mimetype": "text/x-python",
   "name": "python",
   "nbconvert_exporter": "python",
   "pygments_lexer": "ipython3",
   "version": "3.7.10"
  }
 },
 "nbformat": 4,
 "nbformat_minor": 5
}
