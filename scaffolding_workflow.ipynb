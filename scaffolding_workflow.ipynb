{
 "cells": [
  {
   "cell_type": "code",
   "execution_count": 68,
   "id": "792bcd93-b1d2-4cda-b3d6-84b03df9edc2",
   "metadata": {},
   "outputs": [],
   "source": [
    "import os\n",
    "import traceback\n",
    "import logging\n",
    "import os.path"
   ]
  },
  {
   "cell_type": "code",
   "execution_count": 53,
   "id": "5ce0f9f4-a9a7-4e49-af28-991fd29735b9",
   "metadata": {},
   "outputs": [],
   "source": [
    "# simversion = '_v01'\n",
    "simversion = '_plasmid_v01'\n",
    "# simversion = '_v00'\n",
    "prepare_database_4_multicsar = 0\n",
    "run_art = 0 # 1 True, 0 False\n",
    "run_spades = 0\n",
    "run_panta = 0\n",
    "run_multicsar = 0\n",
    "run_ragout = 0\n",
    "run_pangraph = 0\n",
    "# pangenome_data = '/data/hoan/amromics/data/ncbi/Kp100random/' # for pangraph, Ragout, multi-CSAR #v3\n",
    "pangenome_data = '/data/hoan/amromics/data/ncbi/Ecoli100random/'\n",
    "# pangenome_data = '/data/hoan/amromics/data/ncbi/Kptest/' # for pangraph, Ragout, multi-CSAR\n",
    "simversion = '_'+ pangenome_data.split('/')[-2] + simversion\n",
    "quast_output = '/data/hoan/amromics/genome-graph/scaffold_output/quastResults' + simversion\n",
    "scaffold_out_dir = '/data/hoan/amromics/genome-graph/scaffold_output/'"
   ]
  },
  {
   "cell_type": "code",
   "execution_count": 54,
   "id": "0142a814-3c51-4b4b-9082-1a3e36e548bc",
   "metadata": {},
   "outputs": [
    {
     "name": "stdout",
     "output_type": "stream",
     "text": [
      "_Ecoli100random_plasmid_v01\n"
     ]
    }
   ],
   "source": [
    "print(simversion)"
   ]
  },
  {
   "cell_type": "code",
   "execution_count": 55,
   "id": "f096292d-0f0d-483d-b534-c5ebd59b13b3",
   "metadata": {},
   "outputs": [],
   "source": [
    "if prepare_database_4_multicsar==1:\n",
    "    os.system('rm -r ' + pangenome_data + 'fna/')\n",
    "    os.system('mkdir ' + pangenome_data + 'fna/')\n",
    "    os.system('cp -r '+ pangenome_data + '*.fna.gz '+ pangenome_data + 'fna/')\n",
    "    os.system('~/miniconda3/envs/panta/bin/gzip -d ' + pangenome_data + 'fna/*.fna.gz')"
   ]
  },
  {
   "cell_type": "markdown",
   "id": "ea10ac98-91ce-4d6c-a61c-9c6e754e5935",
   "metadata": {},
   "source": [
    "### Simualate reads using ART"
   ]
  },
  {
   "cell_type": "code",
   "execution_count": 56,
   "id": "706c8a73-380f-4073-b6f3-72908b943544",
   "metadata": {},
   "outputs": [],
   "source": [
    "# https://github.com/scchess/Art/blob/master/art_illumina_README"
   ]
  },
  {
   "cell_type": "code",
   "execution_count": 57,
   "id": "b5c4219e-b96b-4e69-9545-8c8e1e67de28",
   "metadata": {},
   "outputs": [],
   "source": [
    "sim_dir = '/data/hoan/amromics/simulation/'\n",
    "art_bin = '/data/hoan/amromics/simulation/art_bin/./art_illumina'"
   ]
  },
  {
   "cell_type": "code",
   "execution_count": 58,
   "id": "499568c1-e9db-4496-adb3-ad63d8d65ef9",
   "metadata": {},
   "outputs": [],
   "source": [
    "# ref_data = '/data/hoan/amromics/simulation/references/GCF_000240185.1_ASM24018v2_genomic.fasta'\n",
    "# ref_data = '/data/hoan/amromics/simulation/references/GCF_000240185.1_ASM24018v2_genomic.fna'\n",
    "ref_data = '/data/hoan/amromics/data/ncbi/Ecolitest/GCF_002860105.1_ASM286010v1_genomic.fna'\n",
    "sim_output = '/data/hoan/amromics/simulation/art_output/paired_dat' + simversion\n",
    "# sim_output = '/data/hoan/amromics/simulation/art_output/paired_dat_test'"
   ]
  },
  {
   "cell_type": "code",
   "execution_count": 59,
   "id": "05d8c28d-f058-4e33-a89f-9d54860bf706",
   "metadata": {},
   "outputs": [],
   "source": [
    "if run_art:\n",
    "    # os.system(art_bin+' -ss MSv3 -sam -i '+ref_data+' -p -l 250 -f 70 -m 400 -s 60 -o '+sim_output) # _v3\n",
    "    # os.system(art_bin+' -ss HS25 -sam -i '+ref_data+' -p -l 150 -f 70 -m 400 -s 60 -o '+sim_output) # _v0\n",
    "    os.system(art_bin+' -ss HS20 -sam -i '+ref_data+' -p -l 100 -f 70 -m 400 -s 60 -o '+sim_output) # _v01"
   ]
  },
  {
   "cell_type": "markdown",
   "id": "87fd93fb-e2d0-4f37-92b0-7f39bf9e37c5",
   "metadata": {},
   "source": [
    "### Run SPADES assembly"
   ]
  },
  {
   "cell_type": "code",
   "execution_count": 60,
   "id": "9a8c3d4c-9b2a-484c-a1c8-60acf3e64766",
   "metadata": {},
   "outputs": [
    {
     "data": {
      "text/plain": [
       "'/data/hoan/amromics/simulation/art_output/spades_output_Ecoli100random_plasmid_v01'"
      ]
     },
     "execution_count": 60,
     "metadata": {},
     "output_type": "execute_result"
    }
   ],
   "source": [
    "spades_output = '/data/hoan/amromics/simulation/art_output/' + 'spades_output' + simversion\n",
    "spades_output"
   ]
  },
  {
   "cell_type": "code",
   "execution_count": 61,
   "id": "3ee3e8cf-e24e-4cc7-8f5f-0e6c985389e6",
   "metadata": {},
   "outputs": [],
   "source": [
    "if run_spades:\n",
    "    spades_bin ='~/miniconda3/envs/amromics/bin/spades.py'\n",
    "    os.system(spades_bin+' --isolate -1 '+sim_output+'1.fq -2 '+sim_output+'2.fq -t 50 -o '+spades_output)"
   ]
  },
  {
   "cell_type": "markdown",
   "id": "810a07c5-1c26-4c6f-9f60-bcf6aae01147",
   "metadata": {},
   "source": [
    "### Run panta"
   ]
  },
  {
   "cell_type": "code",
   "execution_count": 62,
   "id": "57210745-6d79-411c-9866-8d9898624e28",
   "metadata": {},
   "outputs": [
    {
     "name": "stdout",
     "output_type": "stream",
     "text": [
      "Pangenome data:  /data/hoan/amromics/data/ncbi/Ecoli100random/\n"
     ]
    }
   ],
   "source": [
    "# move spades ouput to panta dir\n",
    "print('Pangenome data: ', pangenome_data)\n",
    "if run_spades:\n",
    "    os.system('cp '+spades_output+'/contigs.fasta ' + pangenome_data + 'g1.fna')\n",
    "    os.system('rm ' + pangenome_data + 'g1.fna.gz')\n",
    "    os.system('~/miniconda3/envs/panta/bin/gzip -k ' + pangenome_data + 'g1.fna')"
   ]
  },
  {
   "cell_type": "code",
   "execution_count": 63,
   "id": "f72bb6fe-06fb-4092-9b7c-ce88279b26f8",
   "metadata": {},
   "outputs": [
    {
     "name": "stdout",
     "output_type": "stream",
     "text": [
      "PANTA OUTPUT:  /data/hoan/amromics/panta/examples/test/output_Ecoli100random_plasmid_v01\n",
      "Please RUN PANTA in bash file, here DONOT WORK Because of abPOA\n"
     ]
    }
   ],
   "source": [
    "# Run panta (change output dir)\n",
    "# https://askubuntu.com/questions/1252439/not-able-to-activate-conda-environment-through-os-system-command-in-python\n",
    "conda_dir = 'source ~/miniconda3/etc/profile.d/conda.sh && conda activate panta && '\n",
    "panta_bin =conda_dir+'python /data/hoan/amromics/panta/panta.py'\n",
    "panta_output = '/data/hoan/amromics/panta/examples/test/output' + simversion\n",
    "# panta_output = '/data/hoan/amromics/panta/examples/test/output_Kp100' \n",
    "print('PANTA OUTPUT: ', panta_output)\n",
    "if run_panta:\n",
    "    cmd_panta = panta_bin + ' -p init -a ' +pangenome_data+ '*.fna.gz -o '+panta_output +' -as -s'\n",
    "    os.system(cmd_panta)\n",
    "else:\n",
    "    print(\"Please RUN PANTA in bash file, here DONOT WORK Because of abPOA\")"
   ]
  },
  {
   "cell_type": "markdown",
   "id": "00da366b-5605-4068-ac1d-9dd1162f316e",
   "metadata": {},
   "source": [
    "### Run pangraph"
   ]
  },
  {
   "cell_type": "code",
   "execution_count": 38,
   "id": "5ade0fe7-9980-4e5f-b93b-c3faef84950e",
   "metadata": {},
   "outputs": [
    {
     "name": "stdout",
     "output_type": "stream",
     "text": [
      "The autoreload extension is already loaded. To reload it, use:\n",
      "  %reload_ext autoreload\n"
     ]
    }
   ],
   "source": [
    "try:\n",
    "    %load_ext autoreload\n",
    "    %autoreload 2\n",
    "except Exception as e:\n",
    "    logging.error(traceback.format_exc())\n",
    "from pangraph import PanGraph"
   ]
  },
  {
   "cell_type": "code",
   "execution_count": 39,
   "id": "d1862260-72f1-4641-b810-94b4123a86ac",
   "metadata": {},
   "outputs": [],
   "source": [
    "# set parameters\n",
    "data_dir = panta_output \n",
    "incomplete_sample_name = 'g1'\n",
    "assem_dir = spades_output\n",
    "fasta_gen = 'partial' # 'all', 'partial'"
   ]
  },
  {
   "cell_type": "code",
   "execution_count": 40,
   "id": "01765cfb-86ed-4f2f-bab2-558f5cfab843",
   "metadata": {},
   "outputs": [],
   "source": [
    "pangraph_output_greedy = scaffold_out_dir + 'pangraph_greedy'+ simversion + '.fasta'\n",
    "pangraph_output_opt = scaffold_out_dir + 'pangraph_opt'+ simversion + '.fasta'"
   ]
  },
  {
   "cell_type": "code",
   "execution_count": 41,
   "id": "dc5c2923-ffaa-4e61-bbd9-999e3e6e1b03",
   "metadata": {},
   "outputs": [
    {
     "name": "stdout",
     "output_type": "stream",
     "text": [
      "Should we use target sequence as reference, hence, the strand will be ok\n",
      "Set minimum on number of nucleotides =  10 NUMBER OF COMPUTED CONTIGS: 462\n",
      "Clip the matrixn 0.2 !!!!!!!!!!!!!!!!!!!!!!!!!!!!!!!!!!\n",
      "Use union graph: overlap + assembly\n",
      "Will test this, Ok?\n",
      "Will test this, Ok?\n",
      "Will test this, Ok?\n",
      "Will test this, Ok?\n",
      "Will test this, Ok?\n",
      "Will test this, Ok?\n",
      "Will test this, Ok?\n",
      "Will test this, Ok?\n",
      "Will test this, Ok?\n",
      "Will test this, Ok?\n",
      "Will test this, Ok?\n",
      "Will test this, Ok?\n",
      "Will test this, Ok?\n",
      "Will test this, Ok?\n",
      "Will test this, Ok?\n",
      "Will test this, Ok?\n",
      "Will test this, Ok?\n",
      "Will test this, Ok?\n",
      "Will test this, Ok?\n",
      "Will test this, Ok?\n",
      "Will test this, Ok?\n",
      "Will test this, Ok?\n",
      "Success! File written\n"
     ]
    }
   ],
   "source": [
    "if run_pangraph:\n",
    "    # https://stackoverflow.com/questions/4990718/how-can-i-write-a-try-except-block-that-catches-all-exceptions\n",
    "    pangraph = PanGraph(sample_info=None, gene_info=None, gene_position=None)\n",
    "    try:\n",
    "        maximum_matching = 'greedy'\n",
    "        pangraph.run_pangraph_pipeline(data_dir, incomplete_sample_name, assem_dir, fasta_gen, pangraph_output_greedy, maximum_matching)\n",
    "    except Exception as e:\n",
    "        logging.error(traceback.format_exc())\n",
    "        # Logs the error appropriately. "
   ]
  },
  {
   "cell_type": "code",
   "execution_count": 42,
   "id": "f8418755-06c7-41c4-8349-884718e93900",
   "metadata": {},
   "outputs": [
    {
     "name": "stdout",
     "output_type": "stream",
     "text": [
      "Compute maximum matching\n",
      "Will test this, Ok?\n",
      "Will test this, Ok?\n",
      "Will test this, Ok?\n",
      "Will test this, Ok?\n",
      "Will test this, Ok?\n",
      "Will test this, Ok?\n",
      "Will test this, Ok?\n",
      "Will test this, Ok?\n",
      "Will test this, Ok?\n",
      "Will test this, Ok?\n",
      "Will test this, Ok?\n",
      "Will test this, Ok?\n",
      "Will test this, Ok?\n",
      "Will test this, Ok?\n",
      "Will test this, Ok?\n",
      "Will test this, Ok?\n",
      "Will test this, Ok?\n",
      "Will test this, Ok?\n",
      "Will test this, Ok?\n",
      "Will test this, Ok?\n",
      "Will test this, Ok?\n",
      "Will test this, Ok?\n",
      "Will test this, Ok?\n",
      "Success! File written\n"
     ]
    }
   ],
   "source": [
    "if run_pangraph:\n",
    "    try:\n",
    "        maximum_matching = 'opt'\n",
    "        pangraph.RERUN_pangraph_pipeline(data_dir, incomplete_sample_name, assem_dir, fasta_gen, pangraph_output_opt, maximum_matching)\n",
    "    except Exception as e:\n",
    "        logging.error(traceback.format_exc())\n",
    "        # Logs the error appropriately. "
   ]
  },
  {
   "cell_type": "code",
   "execution_count": 43,
   "id": "9088612c-e3c6-4d7c-a7e7-9d583c3af177",
   "metadata": {},
   "outputs": [],
   "source": [
    "# try:\n",
    "#     maximum_matching = 'greedy'\n",
    "#     pangraph_output_greedy = spades_output + '/contigs_concat_'+ maximum_matching+ simversion + '.fasta'\n",
    "#     pangraph.RERUN_pangraph_pipeline(data_dir, incomplete_sample_name, assem_dir, fasta_gen, pangraph_output_opt, maximum_matching)\n",
    "# except Exception as e:\n",
    "#     logging.error(traceback.format_exc())\n",
    "#     # Logs the error appropriately. "
   ]
  },
  {
   "cell_type": "markdown",
   "id": "a21d3a7c-fc03-4c81-9957-93d225838fe5",
   "metadata": {},
   "source": [
    "### Run scaffold methods"
   ]
  },
  {
   "cell_type": "code",
   "execution_count": 64,
   "id": "3d4dd495-be29-4b69-81f6-a03f1027725e",
   "metadata": {},
   "outputs": [],
   "source": [
    "### Multi-CSAR\n",
    "conda_dir = 'source ~/miniconda3/etc/profile.d/conda.sh && conda activate py27 && '\n",
    "csar_bin = conda_dir + '/data/hoan/amromics/assembly/Multi-CSAR/./multi-csar.php'"
   ]
  },
  {
   "cell_type": "code",
   "execution_count": 65,
   "id": "571a94e7-92e9-49e8-87ca-7ddff8c08908",
   "metadata": {},
   "outputs": [],
   "source": [
    "multicsar_output = scaffold_out_dir + 'multicsar' + simversion\n",
    "if run_multicsar:\n",
    "    os.system('rm ' + pangenome_data + 'fna/g1*')\n",
    "    os.system(csar_bin +' -t '+pangenome_data+'g1.fna -r '+pangenome_data+'fna/ --nuc -o '+multicsar_output)\n",
    "    # os.system(csar_bin +' -t '+pangenome_data+'g1.fna -r '+pangenome_data+'*.fna --nuc -o '+multicsar_output)"
   ]
  },
  {
   "cell_type": "code",
   "execution_count": 66,
   "id": "f99da875-0115-4315-8900-1705419e90ff",
   "metadata": {},
   "outputs": [],
   "source": [
    "### Ragout\n",
    "ragout_bin = 'source ~/miniconda3/etc/profile.d/conda.sh && conda activate py27 && ragout '\n",
    "ragout_output = scaffold_out_dir + 'ragout' + simversion\n",
    "if run_ragout:\n",
    "    # write receipt file\n",
    "    import glob\n",
    "    ref_files_list = glob.glob(pangenome_data+'fna/*')\n",
    "    n_files = len(ref_files_list)\n",
    "    receipt_file_dir = '/data/hoan/amromics/assembly/Ragout/kp100'+simversion+'.rcp'\n",
    "    f = open(receipt_file_dir, \"w\")\n",
    "    f.write('.references = ')\n",
    "    for idx in range(n_files-1):\n",
    "        f.write('r' + str(idx) + ',')\n",
    "    f.write('r'+str(n_files-1)+'\\n')\n",
    "    f.write(\".target = mg1655\\n\\n\")\n",
    "    for idx in range(n_files):\n",
    "        f.write('r'+str(idx)+'.fasta =' + ref_files_list[idx] + '\\n')\n",
    "    f.write('mg1655.fasta = ' + spades_output+'/contigs.fasta\\n')\n",
    "    f.close()"
   ]
  },
  {
   "cell_type": "code",
   "execution_count": 67,
   "id": "c420de89-d23f-45ef-bb74-f47a5abcf988",
   "metadata": {},
   "outputs": [],
   "source": [
    "if run_ragout:\n",
    "    os.system(ragout_bin + receipt_file_dir + ' --outdir ' + ragout_output + ' --refine')\n",
    "    # ragout kp100_v2.rcp --outdir output_Kp100p_v2/ --refine"
   ]
  },
  {
   "cell_type": "code",
   "execution_count": 70,
   "id": "697d6847-b1da-4226-b075-b5123331742a",
   "metadata": {},
   "outputs": [
    {
     "name": "stdout",
     "output_type": "stream",
     "text": [
      "/data/hoan/amromics/genome-graph/scaffold_output/ragout_Ecoli100random_plasmid_v01\n"
     ]
    }
   ],
   "source": [
    "print(ragout_output)"
   ]
  },
  {
   "cell_type": "markdown",
   "id": "f2188478-51fd-4f84-b640-6a9e96127648",
   "metadata": {},
   "source": [
    "### Quast "
   ]
  },
  {
   "cell_type": "code",
   "execution_count": 49,
   "id": "6cb3eaf5-604c-4dca-a28f-2140bb28534f",
   "metadata": {},
   "outputs": [
    {
     "data": {
      "text/plain": [
       "'/data/hoan/amromics/genome-graph/scaffold_output/quastResults_Ecoli100random_plasmid_v01'"
      ]
     },
     "execution_count": 49,
     "metadata": {},
     "output_type": "execute_result"
    }
   ],
   "source": [
    "quast_output"
   ]
  },
  {
   "cell_type": "code",
   "execution_count": 69,
   "id": "24b358d7-6607-4228-87bb-b30b626ba330",
   "metadata": {},
   "outputs": [
    {
     "name": "stdout",
     "output_type": "stream",
     "text": [
      "/data/hoan/amromics/spades_quast/quast-5.2.0/quast.py /data/hoan/amromics/genome-graph/scaffold_output/pangraph_opt_Ecoli100random_plasmid_v01.fasta /data/hoan/amromics/genome-graph/scaffold_output/pangraph_greedy_Ecoli100random_plasmid_v01.fasta /data/hoan/amromics/genome-graph/scaffold_output/multicsar_Ecoli100random_plasmid_v01/multi-csar.nuc.out.fna /data/hoan/amromics/simulation/art_output/spades_output_Ecoli100random_plasmid_v01/contigs.fasta -l Pangraph_OPT, Pangraph_Greedy, Multi-CSAR, SPADES -r /data/hoan/amromics/data/ncbi/Ecolitest/GCF_002860105.1_ASM286010v1_genomic.fna -o /data/hoan/amromics/genome-graph/scaffold_output/quastResults_Ecoli100random_plasmid_v01 --silent --extensive-mis-size 5000 --local-mis-size 3000\n",
      "\n",
      "\n",
      "System information:\n",
      "  OS: Linux-3.10.0-1160.15.2.el7.x86_64-x86_64-with-redhat-7.9-Nitrogen (linux_64)\n",
      "  Python version: 2.7.5\n",
      "  CPUs number: 72\n",
      "\n",
      "Started: 2022-12-17 06:13:34\n",
      "\n",
      "Logging to /data/hoan/amromics/genome-graph/scaffold_output/quastResults_Ecoli100random_plasmid_v01/quast.log\n",
      "NOTICE: Maximum number of threads is set to 18 (use --threads option to set it manually)\n",
      "\n",
      "CWD: /data/hoan/amromics/genome-graph\n",
      "Main parameters: \n",
      "  MODE: default, threads: 18, min contig length: 500, min alignment length: 65, min alignment IDY: 95.0, \\\n",
      "  ambiguity: one, min local misassembly length: 3000, min extensive misassembly length: 5000\n",
      "\n",
      "Reference:\n",
      "  /data/hoan/amromics/data/ncbi/Ecolitest/GCF_002860105.1_ASM286010v1_genomic.fna ==> GCF_002860105.1_ASM286010v1_genomic\n",
      "\n",
      "Contigs:\n",
      "  Pre-processing...\n",
      "  1  /data/hoan/amromics/genome-graph/scaffold_output/pangraph_opt_Ecoli100random_plasmid_v01.fasta ==> Pangraph_OPT\n",
      "  2  /data/hoan/amromics/genome-graph/scaffold_output/pangraph_greedy_Ecoli100random_plasmid_v01.fasta ==> Pangraph_Greedy\n",
      "  3  /data/hoan/amromics/genome-graph/scaffold_output/multicsar_Ecoli100random_plasmid_v01/multi-csar.nuc.out.fna ==> Multi-CSAR\n",
      "  4  /data/hoan/amromics/simulation/art_output/spades_output_Ecoli100random_plasmid_v01/contigs.fasta ==> SPADES\n",
      "\n",
      "2022-12-17 06:13:35\n",
      "Running Basic statistics processor...\n"
     ]
    },
    {
     "name": "stderr",
     "output_type": "stream",
     "text": [
      "Unable to parse the pattern\n",
      "Unable to parse the pattern\n",
      "Unable to parse the pattern\n"
     ]
    },
    {
     "name": "stdout",
     "output_type": "stream",
     "text": [
      "Done.\n",
      "\n",
      "2022-12-17 06:13:39\n",
      "Running Contig analyzer...\n",
      "Done.\n",
      "\n",
      "2022-12-17 06:13:42\n",
      "Running NA-NGA calculation...\n",
      "Done.\n",
      "\n",
      "2022-12-17 06:13:43\n",
      "Running Genome analyzer...\n",
      "  NOTICE: No file with genomic features were provided. Use the --features option if you want to specify it.\n",
      "\n",
      "  NOTICE: No file with operons were provided. Use the -O option if you want to specify it.\n",
      "Done.\n",
      "\n",
      "NOTICE: Genes are not predicted by default. Use --gene-finding or --glimmer option to enable it.\n",
      "\n",
      "2022-12-17 06:13:45\n",
      "Creating large visual summaries...\n",
      "This may take a while: press Ctrl-C to skip this step..\n",
      "  1 of 2: Creating PDF with all tables and plots...\n",
      "  2 of 2: Creating Icarus viewers...\n",
      "Done\n",
      "\n",
      "2022-12-17 06:13:47\n",
      "RESULTS:\n",
      "  Text versions of total report are saved to /data/hoan/amromics/genome-graph/scaffold_output/quastResults_Ecoli100random_plasmid_v01/report.txt, report.tsv, and report.tex\n",
      "  Text versions of transposed total report are saved to /data/hoan/amromics/genome-graph/scaffold_output/quastResults_Ecoli100random_plasmid_v01/transposed_report.txt, transposed_report.tsv, and transposed_report.tex\n",
      "  PDF version (tables and plots) is saved to /data/hoan/amromics/genome-graph/scaffold_output/quastResults_Ecoli100random_plasmid_v01/report.pdf\n",
      "  Icarus (contig browser) is saved to /data/hoan/amromics/genome-graph/scaffold_output/quastResults_Ecoli100random_plasmid_v01/icarus.html\n",
      "  Log is saved to /data/hoan/amromics/genome-graph/scaffold_output/quastResults_Ecoli100random_plasmid_v01/quast.log\n",
      "\n",
      "Finished: 2022-12-17 06:13:47\n",
      "Elapsed time: 0:00:13.429534\n",
      "NOTICEs: 4; WARNINGs: 0; non-fatal ERRORs: 0\n",
      "\n",
      "Thank you for using QUAST!\n"
     ]
    }
   ],
   "source": [
    "quast_bin = 'python /data/hoan/amromics/spades_quast/quast-5.2.0/quast.py '\n",
    "spades_output_fasta = spades_output+'/contigs.fasta'\n",
    "multicsar_output_fasta = multicsar_output +'/multi-csar.nuc.out.fna'\n",
    "ragout_output_fasta = ragout_output + '/mg1655_scaffolds.fasta'\n",
    "if True:\n",
    "    if os.path.isfile(ragout_output_fasta):\n",
    "        os.system(quast_bin + pangraph_output_opt+' '+ pangraph_output_greedy+' '+ multicsar_output_fasta+' '+ragout_output_fasta+' '+spades_output_fasta+' '+\n",
    "        '-l \"Pangraph_OPT, Pangraph_Greedy, Multi-CSAR, Ragout, SPADES\" '+ '-r '+ref_data+' -o '+ quast_output+' --silent --extensive-mis-size 5000 --local-mis-size 3000')\n",
    "    else:\n",
    "        os.system(quast_bin + pangraph_output_opt+' '+ pangraph_output_greedy+' '+ multicsar_output_fasta+' '+spades_output_fasta+' '+\n",
    "        '-l \"Pangraph_OPT, Pangraph_Greedy, Multi-CSAR, SPADES\" '+ '-r '+ref_data+' -o '+ quast_output+' --silent --extensive-mis-size 5000 --local-mis-size 3000')"
   ]
  },
  {
   "cell_type": "code",
   "execution_count": 51,
   "id": "2606af56-13c9-40b1-883c-8b3857d3202f",
   "metadata": {},
   "outputs": [],
   "source": [
    "# # pangraph.H[\"weight\"][0:4]\n",
    "# iteration = 0\n",
    "# for u,v,a in pangraph.H.edges(data=True):\n",
    "#     print(a)\n",
    "#     iteration += 1\n",
    "#     if iteration > 10:\n",
    "#         break;"
   ]
  },
  {
   "cell_type": "code",
   "execution_count": null,
   "id": "2cb713cc-3f9f-4305-8729-85176f762b3f",
   "metadata": {},
   "outputs": [],
   "source": []
  }
 ],
 "metadata": {
  "kernelspec": {
   "display_name": "Environment (panta)",
   "language": "python",
   "name": "panta"
  },
  "language_info": {
   "codemirror_mode": {
    "name": "ipython",
    "version": 3
   },
   "file_extension": ".py",
   "mimetype": "text/x-python",
   "name": "python",
   "nbconvert_exporter": "python",
   "pygments_lexer": "ipython3",
   "version": "3.7.10"
  }
 },
 "nbformat": 4,
 "nbformat_minor": 5
}
